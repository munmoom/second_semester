{
  "nbformat": 4,
  "nbformat_minor": 0,
  "metadata": {
    "colab": {
      "provenance": [],
      "authorship_tag": "ABX9TyPWUFFFe+VcI+s4NbV0C+eo",
      "include_colab_link": true
    },
    "kernelspec": {
      "name": "python3",
      "display_name": "Python 3"
    },
    "language_info": {
      "name": "python"
    }
  },
  "cells": [
    {
      "cell_type": "markdown",
      "metadata": {
        "id": "view-in-github",
        "colab_type": "text"
      },
      "source": [
        "<a href=\"https://colab.research.google.com/github/munmoom/second_semester/blob/main/10_4(%ED%99%94).ipynb\" target=\"_parent\"><img src=\"https://colab.research.google.com/assets/colab-badge.svg\" alt=\"Open In Colab\"/></a>"
      ]
    },
    {
      "cell_type": "code",
      "execution_count": 12,
      "metadata": {
        "colab": {
          "base_uri": "https://localhost:8080/"
        },
        "id": "ztPNwipzUI86",
        "outputId": "2f267fe9-0cd5-44c9-afc1-37dd34199bf0"
      },
      "outputs": [
        {
          "output_type": "stream",
          "name": "stdout",
          "text": [
            "p\n",
            "r\n",
            "o\n",
            "g\n",
            "r\n",
            "a\n",
            "m\n",
            "m\n",
            "i\n",
            "n\n",
            "g\n",
            "p\n",
            "r\n",
            "o\n",
            "g\n",
            "r\n",
            "a\n",
            "m\n",
            "m\n",
            "i\n",
            "n\n",
            "g\n",
            "apple\n",
            "bannana\n",
            "cherry\n",
            "fruit is apple\n",
            "fruit is bannana\n",
            "fruit is cherry\n",
            "1\n",
            "2\n",
            "3\n",
            "4\n",
            "5\n"
          ]
        }
      ],
      "source": [
        "message = \"programming\"\n",
        "for i in message:\n",
        "    print(i)\n",
        "for i in range(len(message)):\n",
        "  print(message[i])\n",
        "\n",
        "fruits = [\"apple\", \"bannana\", \"cherry\"]\n",
        "for i in fruits:\n",
        "    print(i)\n",
        "for i in range(len(fruits)):  #인덱스 이용\n",
        "  print('fruit is', fruits[i])\n",
        "\n",
        "nums = [1,2,3,4,5]\n",
        "for i in nums:\n",
        "    print(i)"
      ]
    },
    {
      "cell_type": "code",
      "source": [
        "print(list(range(10)))\n",
        "\n",
        "print(list(range(2,8)))\n",
        "\n",
        "print(list(range(2, 20, 3)))\n",
        "\n",
        "print(list(range(10, 0, -1)))  #10부터 1까지 9개"
      ],
      "metadata": {
        "colab": {
          "base_uri": "https://localhost:8080/"
        },
        "id": "yNbjFF_IWdxF",
        "outputId": "da866a73-788a-4074-ad56-96405b6a76cc"
      },
      "execution_count": 10,
      "outputs": [
        {
          "output_type": "stream",
          "name": "stdout",
          "text": [
            "[0, 1, 2, 3, 4, 5, 6, 7, 8, 9]\n",
            "[2, 3, 4, 5, 6, 7]\n",
            "[2, 5, 8, 11, 14, 17]\n",
            "[10, 9, 8, 7, 6, 5, 4, 3, 2, 1]\n"
          ]
        }
      ]
    },
    {
      "cell_type": "code",
      "source": [
        "n = 0\n",
        "while n<5:\n",
        "  print(n)\n",
        "  n+=1          #없으면 무한루프됨, 주의\n",
        "print('end of while', n)"
      ],
      "metadata": {
        "colab": {
          "base_uri": "https://localhost:8080/"
        },
        "id": "8svQahmyZIbs",
        "outputId": "90e6b2ae-8542-473c-ede6-48553336ec91"
      },
      "execution_count": 18,
      "outputs": [
        {
          "output_type": "stream",
          "name": "stdout",
          "text": [
            "0\n",
            "1\n",
            "2\n",
            "3\n",
            "4\n",
            "end of while 5\n"
          ]
        }
      ]
    },
    {
      "cell_type": "markdown",
      "source": [
        "반복문 안에 반복문"
      ],
      "metadata": {
        "id": "V5NfGr4Nbxj7"
      }
    },
    {
      "cell_type": "code",
      "source": [
        "for i in range(5):\n",
        "  for j in range(3):\n",
        "    print('*', end = ' ')\n",
        "  print()"
      ],
      "metadata": {
        "colab": {
          "base_uri": "https://localhost:8080/"
        },
        "id": "VN5l6qFYaP1D",
        "outputId": "0c6346d3-f99f-46a7-f05c-3d60c440ac52"
      },
      "execution_count": 22,
      "outputs": [
        {
          "output_type": "stream",
          "name": "stdout",
          "text": [
            "* * * \n",
            "* * * \n",
            "* * * \n",
            "* * * \n",
            "* * * \n"
          ]
        }
      ]
    },
    {
      "cell_type": "code",
      "source": [
        "for i in range(5):\n",
        "  for j in range(3):\n",
        "    if j == 1:\n",
        "      break   #break걸었을 때 빠져나오는\n",
        "    print('*', end = ' ')\n",
        "    print(j)\n",
        "  print()"
      ],
      "metadata": {
        "colab": {
          "base_uri": "https://localhost:8080/"
        },
        "id": "h3QXg__5b1uK",
        "outputId": "fb0c40d8-73e4-450c-e2e4-cc64b15faf65"
      },
      "execution_count": 30,
      "outputs": [
        {
          "output_type": "stream",
          "name": "stdout",
          "text": [
            "* 0\n",
            "\n",
            "* 0\n",
            "\n",
            "* 0\n",
            "\n",
            "* 0\n",
            "\n",
            "* 0\n",
            "\n"
          ]
        }
      ]
    },
    {
      "cell_type": "code",
      "source": [
        "i = 0\n",
        "\n",
        "while i <5:\n",
        "  j=0\n",
        "  while j < 3:\n",
        "    print('*', end=' ')\n",
        "    j += 1\n",
        "  i+= 1\n",
        "  print()"
      ],
      "metadata": {
        "colab": {
          "base_uri": "https://localhost:8080/"
        },
        "id": "AhTILUcTarCD",
        "outputId": "2de78b14-0c30-41a4-e3c3-139392b8200d"
      },
      "execution_count": 24,
      "outputs": [
        {
          "output_type": "stream",
          "name": "stdout",
          "text": [
            "* * * \n",
            "* * * \n",
            "* * * \n",
            "* * * \n",
            "* * * \n"
          ]
        }
      ]
    },
    {
      "cell_type": "markdown",
      "source": [
        "break"
      ],
      "metadata": {
        "id": "NKZvJH83bqRD"
      }
    },
    {
      "cell_type": "code",
      "source": [
        "for val in \"string\":\n",
        "  if val == 'i':\n",
        "    break\n",
        "  print(val)\n",
        "\n",
        "print('The end')"
      ],
      "metadata": {
        "colab": {
          "base_uri": "https://localhost:8080/"
        },
        "id": "OyD6nkPPa8DT",
        "outputId": "e522e959-9806-4525-bcdf-d6987edac1b8"
      },
      "execution_count": 26,
      "outputs": [
        {
          "output_type": "stream",
          "name": "stdout",
          "text": [
            "s\n",
            "t\n",
            "r\n",
            "The end\n"
          ]
        }
      ]
    },
    {
      "cell_type": "code",
      "source": [
        "while True:\n",
        " line = input(\"> \")\n",
        " if line == 'done':\n",
        "   break\n",
        " print(line)\n",
        "print('Done!')"
      ],
      "metadata": {
        "colab": {
          "base_uri": "https://localhost:8080/"
        },
        "id": "nyoGp8rpbHPe",
        "outputId": "641807dd-5e8c-4445-fdc8-29415f28c563"
      },
      "execution_count": 27,
      "outputs": [
        {
          "output_type": "stream",
          "name": "stdout",
          "text": [
            "> 1\n",
            "1\n",
            "> 2\n",
            "2\n",
            "> done\n",
            "Done!\n"
          ]
        }
      ]
    },
    {
      "cell_type": "markdown",
      "source": [
        "continue\n",
        "\n",
        "\n",
        "continue 아래로는 수행하지 않음"
      ],
      "metadata": {
        "id": "tjJQ57LJcfkT"
      }
    },
    {
      "cell_type": "code",
      "source": [
        "for val in \"string\":\n",
        "  if val == 'i':\n",
        "    continue\n",
        "  print(val)\n",
        "\n",
        "print('The end')"
      ],
      "metadata": {
        "colab": {
          "base_uri": "https://localhost:8080/"
        },
        "id": "BLkW8avYciUz",
        "outputId": "7669956a-5760-4951-bdbf-3dd14d751dce"
      },
      "execution_count": 31,
      "outputs": [
        {
          "output_type": "stream",
          "name": "stdout",
          "text": [
            "s\n",
            "t\n",
            "r\n",
            "n\n",
            "g\n",
            "The end\n"
          ]
        }
      ]
    },
    {
      "cell_type": "code",
      "source": [
        "while True:\n",
        " line = input(\"> \")\n",
        " if line[0] == '#' :\n",
        "    continue\n",
        " if line == 'done':\n",
        "   break\n",
        "\n",
        " print(line)\n",
        "print('Done!')"
      ],
      "metadata": {
        "colab": {
          "base_uri": "https://localhost:8080/"
        },
        "id": "ZiDvShZqcyMj",
        "outputId": "19556348-93c4-4bb5-c2d0-c929f32a5646"
      },
      "execution_count": 34,
      "outputs": [
        {
          "output_type": "stream",
          "name": "stdout",
          "text": [
            "> wow\n",
            "wow\n",
            "> awsome\n",
            "awsome\n",
            "> #dissolved?\n",
            "> regenerated\n",
            "regenerated\n",
            "> done\n",
            "Done!\n"
          ]
        }
      ]
    },
    {
      "cell_type": "markdown",
      "source": [
        "pass\n",
        "\n",
        "\n",
        "아무것도 안 하는 걸 수행함"
      ],
      "metadata": {
        "id": "JHzscCntdlAS"
      }
    },
    {
      "cell_type": "code",
      "source": [
        "def function(abc):\n",
        "  pass"
      ],
      "metadata": {
        "id": "yZYJP-4cdkzb"
      },
      "execution_count": 35,
      "outputs": []
    },
    {
      "cell_type": "code",
      "source": [
        "# def function(abc):"
      ],
      "metadata": {
        "id": "734V5uo-dsGy"
      },
      "execution_count": 39,
      "outputs": []
    },
    {
      "cell_type": "markdown",
      "source": [
        "#짝수 번째 원소들의 합을 구하라!"
      ],
      "metadata": {
        "id": "M7ht4bgeYSZ7"
      }
    },
    {
      "cell_type": "code",
      "source": [
        "nums = [1,2,3,4,5,6,7]\n",
        "\n",
        "res = 0\n",
        "a = 0\n",
        "for i in nums:\n",
        "  if a == 1:\n",
        "    res += i\n",
        "    a -= 1\n",
        "  else:\n",
        "    a += 1\n",
        "\n",
        "print(res)"
      ],
      "metadata": {
        "colab": {
          "base_uri": "https://localhost:8080/"
        },
        "id": "ZJ0rb3DCYPGk",
        "outputId": "2366baa9-c35e-4400-bc2c-c679f962de49"
      },
      "execution_count": 15,
      "outputs": [
        {
          "output_type": "stream",
          "name": "stdout",
          "text": [
            "12\n"
          ]
        }
      ]
    },
    {
      "cell_type": "code",
      "source": [
        "sum = 0\n",
        "for i in range(0,len(nums), 2):\n",
        "  sum +=i\n",
        "  print(i,sum)\n",
        "\n",
        "print('Final output:', sum)"
      ],
      "metadata": {
        "colab": {
          "base_uri": "https://localhost:8080/"
        },
        "id": "J_SZLTmUZiez",
        "outputId": "dacd5755-e26e-486b-e9a2-5554f60110ee"
      },
      "execution_count": 19,
      "outputs": [
        {
          "output_type": "stream",
          "name": "stdout",
          "text": [
            "0 0\n",
            "2 2\n",
            "4 6\n",
            "6 12\n",
            "Final output: 12\n"
          ]
        }
      ]
    },
    {
      "cell_type": "markdown",
      "source": [
        "#코드 리뷰"
      ],
      "metadata": {
        "id": "cvnYZvS4vNuA"
      }
    },
    {
      "cell_type": "markdown",
      "source": [
        "과제3"
      ],
      "metadata": {
        "id": "GY7WNabfuh73"
      }
    },
    {
      "cell_type": "code",
      "source": [
        "nums = [1,2,3]\n",
        "print(nums[::-1])"
      ],
      "metadata": {
        "colab": {
          "base_uri": "https://localhost:8080/"
        },
        "id": "lYuS0aPeu3jn",
        "outputId": "035c31f8-becd-422d-913a-2e8a6266d64b"
      },
      "execution_count": 43,
      "outputs": [
        {
          "output_type": "stream",
          "name": "stdout",
          "text": [
            "[3, 2, 1]\n"
          ]
        }
      ]
    },
    {
      "cell_type": "code",
      "source": [
        "nums = [1,2,3]\n",
        "nums.reverse()\n",
        "print(nums)"
      ],
      "metadata": {
        "colab": {
          "base_uri": "https://localhost:8080/"
        },
        "id": "AifHWCM4uhqX",
        "outputId": "5057faab-6e9a-4a76-e9eb-24bd492e2e5a"
      },
      "execution_count": 40,
      "outputs": [
        {
          "output_type": "stream",
          "name": "stdout",
          "text": [
            "[3, 2, 1]\n"
          ]
        }
      ]
    },
    {
      "cell_type": "code",
      "source": [
        "nums = [1,2,3]\n",
        "rev_nums = list(reversed(nums))\n",
        "print(rev_nums)"
      ],
      "metadata": {
        "colab": {
          "base_uri": "https://localhost:8080/"
        },
        "id": "aAsfap_Vueug",
        "outputId": "5576cf02-d748-4dbb-d12c-ff98d04e2d17"
      },
      "execution_count": 42,
      "outputs": [
        {
          "output_type": "stream",
          "name": "stdout",
          "text": [
            "[3, 2, 1]\n"
          ]
        }
      ]
    },
    {
      "cell_type": "markdown",
      "source": [
        "문자열로 바꿔서"
      ],
      "metadata": {
        "id": "urfiEuFbvQXv"
      }
    },
    {
      "cell_type": "code",
      "source": [
        "#하나는 리스트를 뒤집어서 문자열로 만들고\n",
        "#하나는 그냥 문자열로 만들어서\n",
        "#뒤집은 문자열을 조각조각 나누어서\n",
        "#그냥 문자열에 같은 조각이 있는지 본다"
      ],
      "metadata": {
        "id": "BjDUkj-svP5P"
      },
      "execution_count": null,
      "outputs": []
    },
    {
      "cell_type": "markdown",
      "source": [
        "가장 긴 길이를 먼저 시도"
      ],
      "metadata": {
        "id": "Vv69EN6Fwb2A"
      }
    },
    {
      "cell_type": "code",
      "source": [
        "for i in range(len(nums),0,-1):\n",
        "  for j in range(len(nums)-i+1):\n",
        "      if nums[j:i+j]==nums[j:i+j][::-1]:\n",
        "      #"
      ],
      "metadata": {
        "id": "dE1QFuGewcYg"
      },
      "execution_count": null,
      "outputs": []
    },
    {
      "cell_type": "markdown",
      "source": [
        "재귀함수\n",
        "\n",
        "\n",
        "긴 건 안됨"
      ],
      "metadata": {
        "id": "YIEVkbp-w-Jf"
      }
    },
    {
      "cell_type": "code",
      "source": [
        "def 1p(nums):\n",
        "  if nums == nums[::-1]:\n",
        "    return len(nums)\n",
        "  else:\n",
        "    return max(#)"
      ],
      "metadata": {
        "id": "4s5Iu8dQxACQ"
      },
      "execution_count": null,
      "outputs": []
    },
    {
      "cell_type": "markdown",
      "source": [
        "시간 줄이는 코드\n",
        "\n",
        "\n",
        "\n",
        "펠린드롬 길이가 전체 리스트 길이의 반보다 크다면 그만둔다"
      ],
      "metadata": {
        "id": "4I-hsEea0PuA"
      }
    },
    {
      "cell_type": "markdown",
      "source": [
        "내 코드에서"
      ],
      "metadata": {
        "id": "O7w-xXwJxXlG"
      }
    },
    {
      "cell_type": "code",
      "source": [
        "if n == 1:\n",
        "    return 1\n",
        "\n",
        "if n == 2:      #수정됨, [5,5]같은 리스트를 처리 못했음(감점ㅠㅠ)\n",
        "    if nums[0] == nums[1]:\n",
        "      return 2\n",
        "    else:\n",
        "      return 1\n",
        "\n",
        "\n",
        "#위와 같은 코드를 아래 코드로 대체가능하다\n",
        "\n",
        "if nums == nums[::-1]:\n",
        "  return len(nums)"
      ],
      "metadata": {
        "id": "nDsgdBMYxX0v"
      },
      "execution_count": null,
      "outputs": []
    },
    {
      "cell_type": "markdown",
      "source": [
        "오류찾기"
      ],
      "metadata": {
        "id": "oPvnMBzX0tD_"
      }
    },
    {
      "cell_type": "code",
      "source": [
        "def longest_palindrome(nums):\n",
        "  res_len = 0\n",
        "\n",
        "#max길이를 찾지 않은 코드"
      ],
      "metadata": {
        "id": "pYGDkKAw0pUP"
      },
      "execution_count": null,
      "outputs": []
    },
    {
      "cell_type": "markdown",
      "source": [
        "빠르게 만들기"
      ],
      "metadata": {
        "id": "PDBY8P7k1kP9"
      }
    },
    {
      "cell_type": "code",
      "source": [
        "#아까 문자열\n",
        "def longest_palindrome(nums):\n",
        "  leg_list = []\n",
        "\n",
        "  rev_nums = nums[::-1]\n",
        "  num_n = ''.join(map(str,nums))\n",
        "  rev_n = ''.join(map(str,rev_nums))\n",
        "\n",
        "  for i in range(len(nums)):\n",
        "    for j in range(len(nums)+1):\n",
        "      xx = ''.join(map(str,nums[i:j]))\n",
        "\n",
        "      if xx in rev_n:\n",
        "        leg_list.append(j-i)\n",
        "\n",
        "  final = max(leg_list)\n",
        "  return final"
      ],
      "metadata": {
        "id": "o6vyVZzd1cju"
      },
      "execution_count": 59,
      "outputs": []
    },
    {
      "cell_type": "code",
      "source": [
        "nums=[1,2,3,4,5]\n",
        "a = list(map(str,nums))\n",
        "print(a)\n",
        "\n",
        "a = ''.join(map(str,nums))\n",
        "print(a)\n",
        "type(a)"
      ],
      "metadata": {
        "colab": {
          "base_uri": "https://localhost:8080/"
        },
        "id": "YcBZzfIR2kqf",
        "outputId": "17b298f1-741a-4c79-b794-3bfb410e80f2"
      },
      "execution_count": 61,
      "outputs": [
        {
          "output_type": "stream",
          "name": "stdout",
          "text": [
            "['1', '2', '3', '4', '5']\n",
            "12345\n"
          ]
        },
        {
          "output_type": "execute_result",
          "data": {
            "text/plain": [
              "str"
            ]
          },
          "metadata": {},
          "execution_count": 61
        }
      ]
    },
    {
      "cell_type": "code",
      "source": [
        "import random\n",
        "\n",
        "base = [1,2,3]\n",
        "sample = random.choices(base, k = 10**3)\n",
        "print(sample)"
      ],
      "metadata": {
        "colab": {
          "base_uri": "https://localhost:8080/"
        },
        "id": "nGuyj2n33Auv",
        "outputId": "bc91514d-0748-4d5c-9cf5-5e169a978f99"
      },
      "execution_count": 50,
      "outputs": [
        {
          "output_type": "stream",
          "name": "stdout",
          "text": [
            "[3, 2, 1, 3, 1, 2, 2, 2, 2, 2, 1, 2, 1, 1, 1, 2, 2, 1, 3, 3, 1, 2, 1, 3, 1, 1, 1, 3, 1, 1, 1, 3, 3, 2, 1, 1, 3, 1, 1, 1, 3, 2, 1, 2, 1, 1, 2, 3, 1, 1, 1, 3, 2, 2, 2, 1, 2, 3, 2, 1, 2, 2, 3, 3, 3, 2, 2, 2, 3, 1, 3, 3, 2, 3, 2, 3, 3, 1, 2, 2, 1, 2, 3, 1, 3, 3, 1, 3, 1, 2, 2, 1, 1, 1, 1, 2, 3, 2, 1, 1, 3, 2, 1, 2, 1, 3, 1, 1, 1, 1, 2, 3, 1, 2, 2, 3, 1, 1, 2, 3, 2, 1, 2, 3, 2, 1, 1, 3, 3, 1, 3, 3, 3, 1, 1, 3, 2, 3, 1, 3, 2, 1, 2, 2, 1, 2, 2, 2, 3, 3, 1, 2, 1, 2, 2, 2, 3, 3, 2, 1, 2, 2, 3, 1, 3, 1, 2, 1, 3, 3, 1, 2, 1, 3, 1, 2, 2, 1, 2, 1, 2, 2, 3, 1, 2, 3, 3, 1, 1, 2, 3, 2, 1, 3, 3, 1, 3, 2, 3, 1, 3, 3, 3, 2, 1, 3, 2, 1, 3, 3, 2, 1, 1, 1, 3, 2, 1, 2, 1, 2, 2, 2, 1, 2, 1, 2, 1, 3, 2, 2, 3, 2, 3, 1, 3, 3, 2, 3, 2, 3, 1, 1, 2, 3, 2, 3, 3, 1, 2, 3, 3, 3, 2, 2, 2, 3, 3, 2, 1, 1, 3, 3, 3, 3, 2, 1, 2, 3, 1, 1, 3, 1, 3, 3, 3, 3, 2, 1, 3, 2, 2, 1, 2, 3, 2, 2, 3, 3, 3, 2, 3, 1, 2, 3, 1, 1, 2, 2, 3, 2, 2, 2, 1, 1, 1, 3, 3, 3, 2, 3, 1, 3, 1, 1, 2, 3, 2, 3, 1, 1, 3, 1, 2, 2, 2, 1, 1, 2, 1, 2, 1, 2, 3, 3, 3, 2, 1, 3, 2, 2, 2, 2, 3, 1, 1, 3, 1, 3, 3, 1, 3, 2, 1, 3, 1, 3, 1, 1, 2, 2, 1, 1, 3, 2, 2, 3, 2, 2, 3, 1, 2, 1, 1, 3, 3, 1, 3, 1, 1, 2, 2, 1, 2, 1, 3, 3, 1, 2, 3, 2, 3, 2, 1, 3, 2, 1, 1, 2, 1, 3, 1, 3, 3, 1, 3, 2, 3, 1, 1, 3, 2, 3, 3, 3, 2, 3, 2, 1, 1, 3, 3, 2, 3, 1, 3, 2, 2, 3, 3, 1, 2, 2, 3, 1, 1, 3, 3, 3, 1, 2, 1, 3, 1, 2, 3, 1, 2, 2, 2, 2, 3, 3, 1, 1, 3, 1, 3, 3, 2, 2, 2, 2, 3, 1, 3, 3, 1, 3, 2, 1, 3, 1, 3, 1, 3, 2, 2, 1, 3, 2, 3, 2, 1, 3, 3, 2, 2, 3, 1, 3, 2, 2, 3, 3, 1, 1, 2, 3, 1, 3, 2, 2, 1, 3, 1, 2, 2, 3, 1, 1, 3, 2, 1, 2, 2, 1, 1, 3, 3, 1, 2, 2, 1, 2, 3, 2, 3, 3, 2, 3, 2, 1, 2, 2, 1, 2, 1, 2, 3, 3, 3, 3, 1, 1, 2, 3, 1, 3, 3, 2, 3, 3, 2, 2, 1, 2, 1, 3, 2, 1, 1, 3, 2, 2, 2, 1, 3, 3, 1, 2, 1, 1, 3, 1, 2, 3, 3, 1, 2, 1, 3, 1, 1, 3, 2, 2, 3, 3, 3, 1, 2, 2, 2, 3, 3, 1, 1, 1, 2, 3, 2, 3, 2, 3, 1, 3, 2, 3, 2, 1, 1, 1, 2, 1, 2, 2, 1, 2, 1, 3, 2, 2, 3, 3, 2, 2, 1, 3, 2, 2, 2, 1, 2, 2, 1, 1, 3, 3, 1, 3, 1, 1, 2, 2, 2, 1, 2, 2, 3, 1, 1, 2, 2, 3, 2, 3, 2, 1, 1, 1, 3, 3, 1, 3, 2, 2, 3, 1, 1, 2, 1, 2, 1, 3, 1, 3, 2, 3, 1, 3, 1, 2, 3, 2, 1, 2, 2, 2, 3, 1, 3, 1, 3, 3, 3, 3, 3, 3, 3, 1, 3, 2, 3, 1, 1, 3, 2, 3, 3, 2, 3, 1, 2, 1, 2, 1, 3, 1, 1, 3, 2, 1, 1, 1, 2, 3, 3, 1, 2, 2, 1, 2, 2, 2, 1, 2, 1, 1, 3, 3, 2, 3, 1, 1, 2, 2, 2, 2, 2, 2, 2, 2, 3, 1, 1, 2, 1, 1, 1, 3, 3, 3, 3, 3, 3, 1, 2, 1, 3, 1, 3, 1, 1, 3, 2, 1, 3, 1, 1, 1, 2, 1, 2, 2, 2, 3, 2, 2, 2, 2, 2, 3, 1, 3, 3, 3, 1, 3, 1, 2, 2, 1, 2, 1, 3, 3, 1, 3, 1, 1, 3, 1, 3, 3, 2, 3, 2, 2, 3, 3, 3, 2, 2, 2, 2, 1, 2, 1, 2, 3, 3, 2, 1, 3, 1, 1, 3, 3, 1, 1, 1, 3, 3, 3, 2, 3, 3, 1, 1, 3, 1, 1, 3, 1, 1, 1, 2, 1, 1, 2, 1, 1, 2, 1, 2, 3, 3, 1, 1, 3, 3, 1, 3, 2, 1, 2, 1, 1, 2, 3, 1, 2, 2, 2, 2, 2, 3, 3, 2, 1, 2, 2, 3, 1, 3, 3, 3, 3, 2, 2, 2, 3, 3, 2, 1, 3, 2, 3, 1, 1, 1, 1, 2, 3, 1, 1, 2, 1, 3, 2, 1, 1, 3, 3, 3, 2, 1, 1, 3, 3, 3, 2, 3, 2, 3, 2, 3, 2, 3, 3, 3, 1, 2, 3, 1, 1, 3, 3, 1, 2, 3, 2, 3, 3, 2, 2, 2, 3, 3, 2, 1, 1, 2, 3, 1, 2, 2, 1, 2, 2, 2, 2, 2, 3, 2, 3, 1, 3, 2, 1, 1, 1, 2, 2, 2, 2, 2, 1, 3, 3, 1, 1, 1, 2, 3, 3, 2, 3, 2, 1]\n"
          ]
        }
      ]
    },
    {
      "cell_type": "code",
      "source": [
        "import time\n",
        "def time_check():\n",
        "  start_time = time.time()\n",
        "  print(longest_palindrome(sample))\n",
        "  end_time = time.time()\n",
        "  print(end_time - start_time)"
      ],
      "metadata": {
        "id": "G5yPeE9M3ff_"
      },
      "execution_count": 52,
      "outputs": []
    },
    {
      "cell_type": "code",
      "source": [
        "time_check()"
      ],
      "metadata": {
        "colab": {
          "base_uri": "https://localhost:8080/"
        },
        "id": "Zz475STz3pdH",
        "outputId": "5471d9a8-c5bb-4de6-da15-a55773b5b037"
      },
      "execution_count": 60,
      "outputs": [
        {
          "output_type": "stream",
          "name": "stdout",
          "text": [
            "16\n",
            "26.167823791503906\n"
          ]
        }
      ]
    }
  ]
}