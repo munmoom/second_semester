{
  "nbformat": 4,
  "nbformat_minor": 0,
  "metadata": {
    "colab": {
      "provenance": [],
      "authorship_tag": "ABX9TyMghxAi1mlgN2L3RiEcppK8",
      "include_colab_link": true
    },
    "kernelspec": {
      "name": "python3",
      "display_name": "Python 3"
    },
    "language_info": {
      "name": "python"
    }
  },
  "cells": [
    {
      "cell_type": "markdown",
      "metadata": {
        "id": "view-in-github",
        "colab_type": "text"
      },
      "source": [
        "<a href=\"https://colab.research.google.com/github/munmoom/second_semester/blob/main/10_4(%ED%99%94).ipynb\" target=\"_parent\"><img src=\"https://colab.research.google.com/assets/colab-badge.svg\" alt=\"Open In Colab\"/></a>"
      ]
    },
    {
      "cell_type": "code",
      "execution_count": null,
      "metadata": {
        "colab": {
          "base_uri": "https://localhost:8080/"
        },
        "id": "ztPNwipzUI86",
        "outputId": "2f267fe9-0cd5-44c9-afc1-37dd34199bf0"
      },
      "outputs": [
        {
          "output_type": "stream",
          "name": "stdout",
          "text": [
            "p\n",
            "r\n",
            "o\n",
            "g\n",
            "r\n",
            "a\n",
            "m\n",
            "m\n",
            "i\n",
            "n\n",
            "g\n",
            "p\n",
            "r\n",
            "o\n",
            "g\n",
            "r\n",
            "a\n",
            "m\n",
            "m\n",
            "i\n",
            "n\n",
            "g\n",
            "apple\n",
            "bannana\n",
            "cherry\n",
            "fruit is apple\n",
            "fruit is bannana\n",
            "fruit is cherry\n",
            "1\n",
            "2\n",
            "3\n",
            "4\n",
            "5\n"
          ]
        }
      ],
      "source": [
        "message = \"programming\"\n",
        "for i in message:\n",
        "    print(i)\n",
        "for i in range(len(message)):\n",
        "  print(message[i])\n",
        "\n",
        "fruits = [\"apple\", \"bannana\", \"cherry\"]\n",
        "for i in fruits:\n",
        "    print(i)\n",
        "for i in range(len(fruits)):  #인덱스 이용\n",
        "  print('fruit is', fruits[i])\n",
        "\n",
        "nums = [1,2,3,4,5]\n",
        "for i in nums:\n",
        "    print(i)"
      ]
    },
    {
      "cell_type": "code",
      "source": [
        "print(list(range(10)))\n",
        "\n",
        "print(list(range(2,8)))\n",
        "\n",
        "print(list(range(2, 20, 3)))\n",
        "\n",
        "print(list(range(10, 0, -1)))  #10부터 1까지 9개"
      ],
      "metadata": {
        "colab": {
          "base_uri": "https://localhost:8080/"
        },
        "id": "yNbjFF_IWdxF",
        "outputId": "da866a73-788a-4074-ad56-96405b6a76cc"
      },
      "execution_count": null,
      "outputs": [
        {
          "output_type": "stream",
          "name": "stdout",
          "text": [
            "[0, 1, 2, 3, 4, 5, 6, 7, 8, 9]\n",
            "[2, 3, 4, 5, 6, 7]\n",
            "[2, 5, 8, 11, 14, 17]\n",
            "[10, 9, 8, 7, 6, 5, 4, 3, 2, 1]\n"
          ]
        }
      ]
    },
    {
      "cell_type": "code",
      "source": [
        "n = 0\n",
        "while n<5:\n",
        "  print(n)\n",
        "  n+=1          #없으면 무한루프됨, 주의\n",
        "print('end of while', n)"
      ],
      "metadata": {
        "colab": {
          "base_uri": "https://localhost:8080/"
        },
        "id": "8svQahmyZIbs",
        "outputId": "90e6b2ae-8542-473c-ede6-48553336ec91"
      },
      "execution_count": null,
      "outputs": [
        {
          "output_type": "stream",
          "name": "stdout",
          "text": [
            "0\n",
            "1\n",
            "2\n",
            "3\n",
            "4\n",
            "end of while 5\n"
          ]
        }
      ]
    },
    {
      "cell_type": "markdown",
      "source": [
        "반복문 안에 반복문"
      ],
      "metadata": {
        "id": "V5NfGr4Nbxj7"
      }
    },
    {
      "cell_type": "code",
      "source": [
        "for i in range(5):\n",
        "  for j in range(3):\n",
        "    print('*', end = ' ')\n",
        "  print()"
      ],
      "metadata": {
        "colab": {
          "base_uri": "https://localhost:8080/"
        },
        "id": "VN5l6qFYaP1D",
        "outputId": "0c6346d3-f99f-46a7-f05c-3d60c440ac52"
      },
      "execution_count": null,
      "outputs": [
        {
          "output_type": "stream",
          "name": "stdout",
          "text": [
            "* * * \n",
            "* * * \n",
            "* * * \n",
            "* * * \n",
            "* * * \n"
          ]
        }
      ]
    },
    {
      "cell_type": "code",
      "source": [
        "for i in range(5):\n",
        "  for j in range(3):\n",
        "    if j == 1:\n",
        "      break   #break걸었을 때 빠져나오는\n",
        "    print('*', end = ' ')\n",
        "    print(j)\n",
        "  print()"
      ],
      "metadata": {
        "colab": {
          "base_uri": "https://localhost:8080/"
        },
        "id": "h3QXg__5b1uK",
        "outputId": "fb0c40d8-73e4-450c-e2e4-cc64b15faf65"
      },
      "execution_count": null,
      "outputs": [
        {
          "output_type": "stream",
          "name": "stdout",
          "text": [
            "* 0\n",
            "\n",
            "* 0\n",
            "\n",
            "* 0\n",
            "\n",
            "* 0\n",
            "\n",
            "* 0\n",
            "\n"
          ]
        }
      ]
    },
    {
      "cell_type": "code",
      "source": [
        "i = 0\n",
        "\n",
        "while i <5:\n",
        "  j=0\n",
        "  while j < 3:\n",
        "    print('*', end=' ')\n",
        "    j += 1\n",
        "  i+= 1\n",
        "  print()"
      ],
      "metadata": {
        "colab": {
          "base_uri": "https://localhost:8080/"
        },
        "id": "AhTILUcTarCD",
        "outputId": "2de78b14-0c30-41a4-e3c3-139392b8200d"
      },
      "execution_count": null,
      "outputs": [
        {
          "output_type": "stream",
          "name": "stdout",
          "text": [
            "* * * \n",
            "* * * \n",
            "* * * \n",
            "* * * \n",
            "* * * \n"
          ]
        }
      ]
    },
    {
      "cell_type": "markdown",
      "source": [
        "break"
      ],
      "metadata": {
        "id": "NKZvJH83bqRD"
      }
    },
    {
      "cell_type": "code",
      "source": [
        "for val in \"string\":\n",
        "  if val == 'i':\n",
        "    break\n",
        "  print(val)\n",
        "\n",
        "print('The end')"
      ],
      "metadata": {
        "colab": {
          "base_uri": "https://localhost:8080/"
        },
        "id": "OyD6nkPPa8DT",
        "outputId": "e522e959-9806-4525-bcdf-d6987edac1b8"
      },
      "execution_count": null,
      "outputs": [
        {
          "output_type": "stream",
          "name": "stdout",
          "text": [
            "s\n",
            "t\n",
            "r\n",
            "The end\n"
          ]
        }
      ]
    },
    {
      "cell_type": "code",
      "source": [
        "while True:\n",
        " line = input(\"> \")\n",
        " if line == 'done':\n",
        "   break\n",
        " print(line)\n",
        "print('Done!')"
      ],
      "metadata": {
        "colab": {
          "base_uri": "https://localhost:8080/"
        },
        "id": "nyoGp8rpbHPe",
        "outputId": "641807dd-5e8c-4445-fdc8-29415f28c563"
      },
      "execution_count": null,
      "outputs": [
        {
          "output_type": "stream",
          "name": "stdout",
          "text": [
            "> 1\n",
            "1\n",
            "> 2\n",
            "2\n",
            "> done\n",
            "Done!\n"
          ]
        }
      ]
    },
    {
      "cell_type": "markdown",
      "source": [
        "continue\n",
        "\n",
        "\n",
        "continue 아래로는 수행하지 않음"
      ],
      "metadata": {
        "id": "tjJQ57LJcfkT"
      }
    },
    {
      "cell_type": "code",
      "source": [
        "for val in \"string\":\n",
        "  if val == 'i':\n",
        "    continue\n",
        "  print(val)\n",
        "\n",
        "print('The end')"
      ],
      "metadata": {
        "colab": {
          "base_uri": "https://localhost:8080/"
        },
        "id": "BLkW8avYciUz",
        "outputId": "7669956a-5760-4951-bdbf-3dd14d751dce"
      },
      "execution_count": null,
      "outputs": [
        {
          "output_type": "stream",
          "name": "stdout",
          "text": [
            "s\n",
            "t\n",
            "r\n",
            "n\n",
            "g\n",
            "The end\n"
          ]
        }
      ]
    },
    {
      "cell_type": "code",
      "source": [
        "while True:\n",
        " line = input(\"> \")\n",
        " if line[0] == '#' :\n",
        "    continue\n",
        " if line == 'done':\n",
        "   break\n",
        "\n",
        " print(line)\n",
        "print('Done!')"
      ],
      "metadata": {
        "colab": {
          "base_uri": "https://localhost:8080/"
        },
        "id": "ZiDvShZqcyMj",
        "outputId": "19556348-93c4-4bb5-c2d0-c929f32a5646"
      },
      "execution_count": null,
      "outputs": [
        {
          "output_type": "stream",
          "name": "stdout",
          "text": [
            "> wow\n",
            "wow\n",
            "> awsome\n",
            "awsome\n",
            "> #dissolved?\n",
            "> regenerated\n",
            "regenerated\n",
            "> done\n",
            "Done!\n"
          ]
        }
      ]
    },
    {
      "cell_type": "markdown",
      "source": [
        "pass\n",
        "\n",
        "\n",
        "아무것도 안 하는 걸 수행함"
      ],
      "metadata": {
        "id": "JHzscCntdlAS"
      }
    },
    {
      "cell_type": "code",
      "source": [
        "def function(abc):\n",
        "  pass"
      ],
      "metadata": {
        "id": "yZYJP-4cdkzb"
      },
      "execution_count": null,
      "outputs": []
    },
    {
      "cell_type": "code",
      "source": [
        "# def function(abc):"
      ],
      "metadata": {
        "id": "734V5uo-dsGy"
      },
      "execution_count": null,
      "outputs": []
    },
    {
      "cell_type": "markdown",
      "source": [
        "#짝수 번째 원소들의 합을 구하라!"
      ],
      "metadata": {
        "id": "M7ht4bgeYSZ7"
      }
    },
    {
      "cell_type": "code",
      "source": [
        "nums = [1,2,3,4,5,6,7]\n",
        "\n",
        "res = 0\n",
        "a = 0\n",
        "for i in nums:\n",
        "  if a == 1:\n",
        "    res += i\n",
        "    a -= 1\n",
        "  else:\n",
        "    a += 1\n",
        "\n",
        "print(res)"
      ],
      "metadata": {
        "colab": {
          "base_uri": "https://localhost:8080/"
        },
        "id": "ZJ0rb3DCYPGk",
        "outputId": "2366baa9-c35e-4400-bc2c-c679f962de49"
      },
      "execution_count": null,
      "outputs": [
        {
          "output_type": "stream",
          "name": "stdout",
          "text": [
            "12\n"
          ]
        }
      ]
    },
    {
      "cell_type": "code",
      "source": [
        "sum = 0\n",
        "for i in range(0,len(nums), 2):\n",
        "  sum += nums[i]\n",
        "  print(i,sum)\n",
        "\n",
        "print('Final output:', sum)"
      ],
      "metadata": {
        "colab": {
          "base_uri": "https://localhost:8080/"
        },
        "id": "J_SZLTmUZiez",
        "outputId": "dacd5755-e26e-486b-e9a2-5554f60110ee"
      },
      "execution_count": null,
      "outputs": [
        {
          "output_type": "stream",
          "name": "stdout",
          "text": [
            "0 0\n",
            "2 2\n",
            "4 6\n",
            "6 12\n",
            "Final output: 12\n"
          ]
        }
      ]
    },
    {
      "cell_type": "markdown",
      "source": [
        "#코드 리뷰"
      ],
      "metadata": {
        "id": "cvnYZvS4vNuA"
      }
    },
    {
      "cell_type": "markdown",
      "source": [
        "과제3"
      ],
      "metadata": {
        "id": "GY7WNabfuh73"
      }
    },
    {
      "cell_type": "code",
      "source": [
        "nums = [1,2,3]\n",
        "print(nums[::-1])"
      ],
      "metadata": {
        "colab": {
          "base_uri": "https://localhost:8080/"
        },
        "id": "lYuS0aPeu3jn",
        "outputId": "035c31f8-becd-422d-913a-2e8a6266d64b"
      },
      "execution_count": null,
      "outputs": [
        {
          "output_type": "stream",
          "name": "stdout",
          "text": [
            "[3, 2, 1]\n"
          ]
        }
      ]
    },
    {
      "cell_type": "code",
      "source": [
        "nums = [1,2,3]\n",
        "nums.reverse()\n",
        "print(nums)"
      ],
      "metadata": {
        "colab": {
          "base_uri": "https://localhost:8080/"
        },
        "id": "AifHWCM4uhqX",
        "outputId": "5057faab-6e9a-4a76-e9eb-24bd492e2e5a"
      },
      "execution_count": null,
      "outputs": [
        {
          "output_type": "stream",
          "name": "stdout",
          "text": [
            "[3, 2, 1]\n"
          ]
        }
      ]
    },
    {
      "cell_type": "code",
      "source": [
        "nums = [1,2,3]\n",
        "rev_nums = list(reversed(nums))\n",
        "print(rev_nums)"
      ],
      "metadata": {
        "colab": {
          "base_uri": "https://localhost:8080/"
        },
        "id": "aAsfap_Vueug",
        "outputId": "5576cf02-d748-4dbb-d12c-ff98d04e2d17"
      },
      "execution_count": null,
      "outputs": [
        {
          "output_type": "stream",
          "name": "stdout",
          "text": [
            "[3, 2, 1]\n"
          ]
        }
      ]
    },
    {
      "cell_type": "markdown",
      "source": [
        "문자열로 바꿔서"
      ],
      "metadata": {
        "id": "urfiEuFbvQXv"
      }
    },
    {
      "cell_type": "code",
      "source": [
        "#하나는 리스트를 뒤집어서 문자열로 만들고\n",
        "#하나는 그냥 문자열로 만들어서\n",
        "#뒤집은 문자열을 조각조각 나누어서\n",
        "#그냥 문자열에 같은 조각이 있는지 본다"
      ],
      "metadata": {
        "id": "BjDUkj-svP5P"
      },
      "execution_count": null,
      "outputs": []
    },
    {
      "cell_type": "markdown",
      "source": [
        "가장 긴 길이를 먼저 시도"
      ],
      "metadata": {
        "id": "Vv69EN6Fwb2A"
      }
    },
    {
      "cell_type": "code",
      "source": [
        "for i in range(len(nums),0,-1):\n",
        "  for j in range(len(nums)-i+1):\n",
        "      if nums[j:i+j]==nums[j:i+j][::-1]:\n",
        "      #"
      ],
      "metadata": {
        "id": "dE1QFuGewcYg"
      },
      "execution_count": null,
      "outputs": []
    },
    {
      "cell_type": "markdown",
      "source": [
        "재귀함수\n",
        "\n",
        "\n",
        "긴 건 안됨"
      ],
      "metadata": {
        "id": "YIEVkbp-w-Jf"
      }
    },
    {
      "cell_type": "code",
      "source": [
        "def 1p(nums):\n",
        "  if nums == nums[::-1]:\n",
        "    return len(nums)\n",
        "  else:\n",
        "    return max(#)"
      ],
      "metadata": {
        "id": "4s5Iu8dQxACQ"
      },
      "execution_count": null,
      "outputs": []
    },
    {
      "cell_type": "markdown",
      "source": [
        "시간 줄이는 코드\n",
        "\n",
        "\n",
        "\n",
        "펠린드롬 길이가 전체 리스트 길이의 반보다 크다면 그만둔다"
      ],
      "metadata": {
        "id": "4I-hsEea0PuA"
      }
    },
    {
      "cell_type": "markdown",
      "source": [
        "내 코드에서"
      ],
      "metadata": {
        "id": "O7w-xXwJxXlG"
      }
    },
    {
      "cell_type": "code",
      "source": [
        "if n == 1:\n",
        "    return 1\n",
        "\n",
        "if n == 2:      #수정됨, [5,5]같은 리스트를 처리 못했음(감점ㅠㅠ)\n",
        "    if nums[0] == nums[1]:\n",
        "      return 2\n",
        "    else:\n",
        "      return 1\n",
        "\n",
        "\n",
        "#위와 같은 코드를 아래 코드로 대체가능하다\n",
        "\n",
        "if nums == nums[::-1]:\n",
        "  return len(nums)"
      ],
      "metadata": {
        "id": "nDsgdBMYxX0v"
      },
      "execution_count": null,
      "outputs": []
    },
    {
      "cell_type": "markdown",
      "source": [
        "오류찾기"
      ],
      "metadata": {
        "id": "oPvnMBzX0tD_"
      }
    },
    {
      "cell_type": "code",
      "source": [
        "def longest_palindrome(nums):\n",
        "  res_len = 0\n",
        "\n",
        "#max길이를 찾지 않은 코드"
      ],
      "metadata": {
        "id": "pYGDkKAw0pUP"
      },
      "execution_count": null,
      "outputs": []
    },
    {
      "cell_type": "markdown",
      "source": [
        "빠르게 만들기"
      ],
      "metadata": {
        "id": "PDBY8P7k1kP9"
      }
    },
    {
      "cell_type": "code",
      "source": [
        "#아까 문자열\n",
        "def longest_palindrome(nums):\n",
        "  leg_list = []\n",
        "\n",
        "  rev_nums = nums[::-1]\n",
        "  num_n = ''.join(map(str,nums))\n",
        "  rev_n = ''.join(map(str,rev_nums))\n",
        "\n",
        "  for i in range(len(nums)):\n",
        "    for j in range(len(nums)+1):\n",
        "     # xx = ''.join(map(str,nums[i:j]))\n",
        "     xx = num_n[i:j]\n",
        "\n",
        "     if xx in rev_n:\n",
        "        leg_list.append(j-i)\n",
        "\n",
        "  final = max(leg_list)\n",
        "  return final"
      ],
      "metadata": {
        "id": "o6vyVZzd1cju"
      },
      "execution_count": null,
      "outputs": []
    },
    {
      "cell_type": "code",
      "source": [],
      "metadata": {
        "id": "8dJvv8KD-XgG"
      },
      "execution_count": null,
      "outputs": []
    },
    {
      "cell_type": "code",
      "source": [
        "nums=[1,2,3,4,5]\n",
        "a = list(map(str,nums))\n",
        "print(a)\n",
        "\n",
        "a = ''.join(map(str,nums))\n",
        "print(a)\n",
        "type(a)"
      ],
      "metadata": {
        "colab": {
          "base_uri": "https://localhost:8080/"
        },
        "id": "YcBZzfIR2kqf",
        "outputId": "17b298f1-741a-4c79-b794-3bfb410e80f2"
      },
      "execution_count": null,
      "outputs": [
        {
          "output_type": "stream",
          "name": "stdout",
          "text": [
            "['1', '2', '3', '4', '5']\n",
            "12345\n"
          ]
        },
        {
          "output_type": "execute_result",
          "data": {
            "text/plain": [
              "str"
            ]
          },
          "metadata": {},
          "execution_count": 61
        }
      ]
    },
    {
      "cell_type": "markdown",
      "source": [
        "테스트 케이스와 시간 측정"
      ],
      "metadata": {
        "id": "buZtwTCQ-Y29"
      }
    },
    {
      "cell_type": "code",
      "source": [
        "import random\n",
        "\n",
        "base = [1,2,3]\n",
        "sample = random.choices(base, k = 10**3)\n",
        "print(sample)"
      ],
      "metadata": {
        "colab": {
          "base_uri": "https://localhost:8080/"
        },
        "id": "nGuyj2n33Auv",
        "outputId": "15674fdb-851a-4f32-aef0-c59df7b0a827"
      },
      "execution_count": null,
      "outputs": [
        {
          "output_type": "stream",
          "name": "stdout",
          "text": [
            "[1, 3, 1, 1, 2, 1, 2, 3, 1, 2, 3, 1, 1, 1, 1, 2, 1, 2, 2, 3, 1, 1, 3, 1, 1, 3, 1, 1, 3, 1, 2, 1, 3, 2, 1, 1, 1, 1, 1, 1, 2, 1, 2, 1, 3, 2, 3, 2, 2, 1, 2, 2, 1, 1, 2, 2, 3, 1, 3, 3, 2, 3, 2, 2, 1, 3, 1, 2, 3, 1, 3, 3, 2, 1, 1, 1, 1, 2, 2, 1, 3, 3, 1, 2, 3, 2, 3, 2, 3, 2, 1, 1, 1, 1, 3, 2, 1, 3, 2, 2, 1, 2, 3, 2, 1, 3, 2, 1, 1, 3, 2, 3, 1, 3, 2, 2, 3, 3, 3, 2, 1, 3, 3, 1, 1, 2, 2, 2, 2, 3, 1, 3, 3, 3, 3, 3, 1, 2, 3, 2, 2, 1, 3, 3, 1, 1, 1, 2, 3, 2, 1, 3, 3, 3, 3, 1, 2, 1, 1, 2, 3, 1, 3, 2, 1, 1, 3, 1, 2, 1, 1, 2, 3, 1, 2, 1, 2, 2, 1, 3, 1, 1, 3, 3, 1, 1, 1, 3, 3, 1, 3, 1, 1, 1, 1, 1, 1, 3, 2, 2, 1, 2, 1, 1, 2, 2, 3, 3, 3, 2, 2, 2, 3, 2, 1, 2, 2, 1, 2, 2, 3, 1, 3, 2, 1, 3, 1, 2, 2, 2, 2, 1, 2, 2, 1, 2, 3, 2, 1, 2, 3, 1, 1, 2, 2, 2, 3, 3, 1, 2, 1, 2, 1, 3, 3, 3, 2, 3, 1, 1, 2, 1, 2, 3, 1, 2, 1, 2, 2, 3, 2, 3, 3, 2, 2, 2, 1, 2, 2, 3, 3, 1, 3, 1, 1, 1, 2, 2, 2, 2, 3, 2, 2, 1, 1, 3, 3, 2, 3, 2, 1, 3, 2, 3, 2, 1, 3, 2, 3, 3, 3, 1, 3, 3, 1, 2, 2, 2, 2, 1, 2, 3, 3, 2, 3, 1, 1, 2, 1, 2, 2, 2, 1, 1, 1, 2, 3, 3, 1, 2, 3, 3, 3, 1, 1, 2, 1, 3, 3, 1, 2, 3, 3, 2, 1, 3, 3, 1, 1, 1, 2, 2, 3, 1, 1, 2, 2, 1, 3, 2, 3, 2, 3, 3, 1, 2, 1, 2, 1, 2, 2, 3, 2, 1, 2, 3, 1, 3, 1, 2, 1, 3, 1, 3, 1, 2, 2, 1, 3, 2, 1, 3, 3, 1, 1, 2, 2, 3, 1, 1, 1, 1, 1, 2, 1, 1, 3, 1, 3, 3, 3, 3, 1, 1, 1, 1, 1, 2, 2, 1, 2, 1, 3, 1, 2, 3, 2, 1, 3, 2, 2, 3, 1, 2, 1, 2, 1, 3, 3, 1, 3, 1, 3, 3, 2, 1, 1, 3, 2, 1, 2, 2, 3, 2, 3, 3, 2, 3, 2, 2, 2, 3, 3, 1, 2, 2, 1, 3, 1, 3, 1, 1, 2, 3, 1, 3, 2, 1, 3, 3, 2, 1, 2, 2, 3, 3, 2, 3, 2, 3, 1, 2, 3, 1, 3, 3, 3, 2, 3, 3, 2, 3, 3, 3, 1, 3, 1, 2, 3, 1, 1, 2, 3, 3, 2, 1, 2, 2, 3, 3, 1, 3, 3, 2, 2, 2, 1, 1, 1, 2, 3, 1, 3, 3, 2, 2, 3, 2, 1, 2, 2, 2, 1, 3, 2, 2, 3, 3, 1, 2, 1, 2, 1, 1, 1, 1, 2, 2, 2, 2, 2, 3, 3, 1, 2, 3, 3, 3, 1, 3, 2, 3, 1, 3, 2, 3, 1, 1, 3, 1, 1, 1, 2, 3, 2, 2, 3, 3, 2, 2, 2, 1, 2, 3, 2, 1, 1, 1, 3, 1, 1, 3, 3, 2, 2, 3, 2, 1, 3, 3, 1, 3, 2, 3, 3, 2, 2, 2, 3, 2, 2, 1, 2, 2, 2, 3, 1, 3, 1, 1, 1, 3, 3, 1, 1, 2, 2, 1, 2, 3, 3, 3, 1, 2, 2, 2, 2, 2, 3, 1, 3, 3, 1, 2, 2, 1, 2, 3, 3, 3, 2, 3, 1, 1, 1, 3, 3, 1, 3, 1, 3, 3, 2, 1, 1, 3, 2, 2, 3, 1, 1, 3, 2, 3, 2, 2, 3, 1, 3, 2, 2, 2, 3, 2, 2, 3, 1, 2, 3, 2, 2, 2, 2, 2, 3, 2, 3, 3, 2, 3, 1, 3, 3, 1, 1, 3, 2, 1, 2, 3, 2, 2, 3, 3, 2, 2, 3, 3, 2, 2, 2, 1, 2, 2, 3, 1, 1, 1, 2, 3, 1, 2, 3, 2, 3, 1, 1, 2, 2, 3, 2, 1, 1, 2, 2, 3, 3, 3, 3, 1, 1, 1, 2, 1, 2, 2, 1, 1, 2, 1, 3, 3, 2, 1, 3, 1, 3, 1, 2, 1, 1, 2, 1, 2, 1, 1, 1, 1, 1, 1, 3, 1, 3, 2, 3, 3, 1, 1, 3, 3, 1, 2, 3, 3, 1, 3, 1, 1, 3, 3, 1, 1, 1, 1, 2, 2, 1, 2, 1, 3, 2, 2, 1, 3, 1, 2, 2, 3, 2, 1, 2, 1, 2, 1, 3, 1, 1, 2, 2, 3, 3, 1, 1, 2, 2, 2, 2, 2, 1, 3, 3, 3, 2, 1, 3, 2, 3, 1, 2, 3, 3, 1, 2, 3, 2, 3, 2, 3, 2, 3, 2, 1, 1, 2, 2, 3, 2, 2, 1, 2, 3, 1, 1, 3, 3, 2, 2, 3, 1, 1, 3, 2, 3, 3, 1, 3, 3, 3, 2, 1, 3, 1, 1, 3, 3, 3, 3, 1, 3, 1, 3, 3, 2, 3, 1, 3, 2, 3, 1, 2, 3, 2, 2, 3, 2, 3, 3, 1, 2, 2, 1, 2, 1, 3, 2, 1, 2, 3, 2, 1, 2, 2, 2, 3, 2, 3, 2, 1, 1, 2, 1, 3, 1, 3, 1, 3, 2, 3, 3, 1, 2, 2, 2, 3, 3, 1, 3, 3, 2, 1, 1, 3, 3, 2, 3, 3, 1, 1, 3, 1, 2, 2, 1, 1, 2, 3, 3, 2, 1, 3]\n"
          ]
        }
      ]
    },
    {
      "cell_type": "code",
      "source": [
        "import time\n",
        "def time_check():\n",
        "  start_time = time.time()\n",
        "  print(longest_palindrome(sample))\n",
        "  end_time = time.time()\n",
        "  print(end_time - start_time)"
      ],
      "metadata": {
        "id": "G5yPeE9M3ff_"
      },
      "execution_count": null,
      "outputs": []
    },
    {
      "cell_type": "code",
      "source": [
        "time_check()"
      ],
      "metadata": {
        "colab": {
          "base_uri": "https://localhost:8080/"
        },
        "id": "Zz475STz3pdH",
        "outputId": "1c0ba8b4-2643-4af6-8837-6d4d04da091a"
      },
      "execution_count": null,
      "outputs": [
        {
          "output_type": "stream",
          "name": "stdout",
          "text": [
            "14\n",
            "2.3336241245269775\n"
          ]
        }
      ]
    },
    {
      "cell_type": "code",
      "source": [],
      "metadata": {
        "id": "bRilcrhjHMY1"
      },
      "execution_count": null,
      "outputs": []
    },
    {
      "cell_type": "code",
      "source": [],
      "metadata": {
        "id": "kB4Q7iwiHMP_"
      },
      "execution_count": null,
      "outputs": []
    },
    {
      "cell_type": "code",
      "source": [
        "n = 1234\n",
        "sum = 0\n",
        "while n>0:\n",
        "  digit = n%10\n",
        "  sum = sum + digit\n",
        "  n = n // 10\n",
        "print(sum)"
      ],
      "metadata": {
        "id": "9W1Kl6fZHMNV",
        "outputId": "5b661df4-bedf-4507-98b8-02031db77404",
        "colab": {
          "base_uri": "https://localhost:8080/"
        }
      },
      "execution_count": 12,
      "outputs": [
        {
          "output_type": "stream",
          "name": "stdout",
          "text": [
            "10\n"
          ]
        }
      ]
    },
    {
      "cell_type": "code",
      "source": [
        "sum = 0\n",
        "for i in range(100):\n",
        "  for j in range(100):\n",
        "    for k in range(100):\n",
        "      sum += 1\n",
        "\n",
        "print(sum)"
      ],
      "metadata": {
        "id": "4kMMYQQtHtQN",
        "outputId": "aeba93ee-25f9-46d3-d6a6-8ebfa0bb51fb",
        "colab": {
          "base_uri": "https://localhost:8080/"
        }
      },
      "execution_count": 14,
      "outputs": [
        {
          "output_type": "stream",
          "name": "stdout",
          "text": [
            "1000000\n"
          ]
        }
      ]
    },
    {
      "cell_type": "code",
      "source": [
        "numbers = [10,20]\n",
        "items = ['TV', 'Phone']\n",
        "\n",
        "for x in numbers:\n",
        "  for y in items:\n",
        "    print(str(x) + y)"
      ],
      "metadata": {
        "id": "HmOs924WH92t",
        "outputId": "c8ec0173-14c3-48e3-ea5b-12a8c8950a78",
        "colab": {
          "base_uri": "https://localhost:8080/"
        }
      },
      "execution_count": 15,
      "outputs": [
        {
          "output_type": "stream",
          "name": "stdout",
          "text": [
            "10TV\n",
            "10Phone\n",
            "20TV\n",
            "20Phone\n"
          ]
        }
      ]
    },
    {
      "cell_type": "code",
      "source": [
        "while False:\n",
        "  print(1)"
      ],
      "metadata": {
        "id": "xv42a_9FIMc0"
      },
      "execution_count": 19,
      "outputs": []
    },
    {
      "cell_type": "code",
      "source": [],
      "metadata": {
        "id": "7aYSbEgXIZ70"
      },
      "execution_count": null,
      "outputs": []
    },
    {
      "cell_type": "code",
      "source": [
        "for True:\n",
        "  print(1)"
      ],
      "metadata": {
        "id": "paCysk4bIVpk"
      },
      "execution_count": null,
      "outputs": []
    },
    {
      "cell_type": "code",
      "source": [
        "for i in range(0,10,2):\n",
        "  print(i, end=' ')"
      ],
      "metadata": {
        "id": "DNMT44iOIeUM",
        "outputId": "ad176a73-9368-4c7a-e782-63d289a98471",
        "colab": {
          "base_uri": "https://localhost:8080/"
        }
      },
      "execution_count": 20,
      "outputs": [
        {
          "output_type": "stream",
          "name": "stdout",
          "text": [
            "0 2 4 6 8 "
          ]
        }
      ]
    },
    {
      "cell_type": "code",
      "source": [
        "for i in range(1,10,3):\n",
        "  print('hello')\n",
        "  print(i)"
      ],
      "metadata": {
        "id": "8F7Y_4hmImNQ",
        "outputId": "6f950163-bf2b-4801-fdad-6940ef4e29ba",
        "colab": {
          "base_uri": "https://localhost:8080/"
        }
      },
      "execution_count": 21,
      "outputs": [
        {
          "output_type": "stream",
          "name": "stdout",
          "text": [
            "hello\n",
            "1\n",
            "hello\n",
            "4\n",
            "hello\n",
            "7\n"
          ]
        }
      ]
    },
    {
      "cell_type": "code",
      "source": [
        "i = 0\n",
        "while i <10:\n",
        "  print(i)"
      ],
      "metadata": {
        "id": "5Im7u-53IuF7"
      },
      "execution_count": null,
      "outputs": []
    },
    {
      "cell_type": "code",
      "source": [
        "k = 0\n",
        "for i in range(29):\n",
        "  k+=1\n",
        "print(k)"
      ],
      "metadata": {
        "id": "rQiWmK5DI0ON",
        "outputId": "5f4a1c92-388c-4481-d4bc-844379ea2be9",
        "colab": {
          "base_uri": "https://localhost:8080/"
        }
      },
      "execution_count": 23,
      "outputs": [
        {
          "output_type": "stream",
          "name": "stdout",
          "text": [
            "29\n"
          ]
        }
      ]
    },
    {
      "cell_type": "code",
      "source": [
        "for x in range(10):\n",
        "  if x > 5 : continue\n",
        "  if x > 8 : break\n",
        "  print(1)"
      ],
      "metadata": {
        "id": "uqyqNU54I8H1",
        "outputId": "0b1e5822-64c4-4abb-874b-6a5aa1a0e764",
        "colab": {
          "base_uri": "https://localhost:8080/"
        }
      },
      "execution_count": 24,
      "outputs": [
        {
          "output_type": "stream",
          "name": "stdout",
          "text": [
            "1\n",
            "1\n",
            "1\n",
            "1\n",
            "1\n",
            "1\n"
          ]
        }
      ]
    },
    {
      "cell_type": "code",
      "source": [
        "print(list(range(1,12,2)))"
      ],
      "metadata": {
        "id": "efy_HY2uJNWE",
        "outputId": "0c15b118-3a09-405c-cc0f-b8a4976db6f7",
        "colab": {
          "base_uri": "https://localhost:8080/"
        }
      },
      "execution_count": 25,
      "outputs": [
        {
          "output_type": "stream",
          "name": "stdout",
          "text": [
            "[1, 3, 5, 7, 9, 11]\n"
          ]
        }
      ]
    },
    {
      "cell_type": "code",
      "source": [],
      "metadata": {
        "id": "vHf274yMJNQc"
      },
      "execution_count": null,
      "outputs": []
    }
  ]
}