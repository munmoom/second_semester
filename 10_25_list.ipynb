{
  "nbformat": 4,
  "nbformat_minor": 0,
  "metadata": {
    "colab": {
      "provenance": [],
      "authorship_tag": "ABX9TyNACCmL4c18753wY8h5J5uu",
      "include_colab_link": true
    },
    "kernelspec": {
      "name": "python3",
      "display_name": "Python 3"
    },
    "language_info": {
      "name": "python"
    }
  },
  "cells": [
    {
      "cell_type": "markdown",
      "metadata": {
        "id": "view-in-github",
        "colab_type": "text"
      },
      "source": [
        "<a href=\"https://colab.research.google.com/github/munmoom/second_semester/blob/main/10_25_list.ipynb\" target=\"_parent\"><img src=\"https://colab.research.google.com/assets/colab-badge.svg\" alt=\"Open In Colab\"/></a>"
      ]
    },
    {
      "cell_type": "markdown",
      "source": [
        "#list"
      ],
      "metadata": {
        "id": "jPAFtGf2jn2y"
      }
    },
    {
      "cell_type": "markdown",
      "source": [
        "## list : **순서가 있는** 것들의 집합"
      ],
      "metadata": {
        "id": "iy7y6wXujCuq"
      }
    },
    {
      "cell_type": "markdown",
      "source": [
        "##list 만들기:\n",
        "\n",
        "a = []\n",
        "a = list()\n",
        "a = ['a']\n",
        "a = [1,2,3]\n",
        "a = ['a', 1,2,3]\n",
        "a = [[1,2]]\n",
        "\n",
        "리스트 안에 여러 자료형이 들어가기도 함"
      ],
      "metadata": {
        "id": "R6d2okp8jrV6"
      }
    },
    {
      "cell_type": "markdown",
      "source": [
        "##list comprehensions"
      ],
      "metadata": {
        "id": "yP803xPyjrMZ"
      }
    },
    {
      "cell_type": "code",
      "source": [
        "new_list = [expression for member in iterable]"
      ],
      "metadata": {
        "id": "yxcEU2wKlBNB"
      },
      "execution_count": null,
      "outputs": []
    },
    {
      "cell_type": "code",
      "source": [
        "new_list=[i**2 for i in range(10)]\n",
        "new_list"
      ],
      "metadata": {
        "colab": {
          "base_uri": "https://localhost:8080/"
        },
        "id": "Sskk1UBzeXTR",
        "outputId": "d01c0c96-4c35-4c68-a1d2-b78cd65d4412"
      },
      "execution_count": 1,
      "outputs": [
        {
          "output_type": "execute_result",
          "data": {
            "text/plain": [
              "[0, 1, 4, 9, 16, 25, 36, 49, 64, 81]"
            ]
          },
          "metadata": {},
          "execution_count": 1
        }
      ]
    },
    {
      "cell_type": "code",
      "source": [
        "for i in range(10):\n",
        "  new_list.append(i**2)\n"
      ],
      "metadata": {
        "id": "8HQBzabWlKWZ"
      },
      "execution_count": null,
      "outputs": []
    },
    {
      "cell_type": "markdown",
      "source": [
        "## positive index  vs.  negative index"
      ],
      "metadata": {
        "id": "jT2tSIiGjrOz"
      }
    },
    {
      "cell_type": "code",
      "source": [
        "T = [1,2,3,4,5,6,7,8,9]\n",
        "print(T[-1], T[-2], T[1], T[2])"
      ],
      "metadata": {
        "colab": {
          "base_uri": "https://localhost:8080/"
        },
        "id": "813PE_qgjC3x",
        "outputId": "1e3380a6-f912-4a0e-b6f4-96e75a22b60b"
      },
      "execution_count": 2,
      "outputs": [
        {
          "output_type": "stream",
          "name": "stdout",
          "text": [
            "9 8 2 3\n"
          ]
        }
      ]
    },
    {
      "cell_type": "code",
      "source": [
        "T = ['p', 'y' ,'t', 'h','o','n']\n",
        "print(T[-1], T[-2], T[1], T[2])"
      ],
      "metadata": {
        "colab": {
          "base_uri": "https://localhost:8080/"
        },
        "id": "FINXbvPVl7D5",
        "outputId": "a4701289-a590-4ff9-e272-61eb039c4580"
      },
      "execution_count": 3,
      "outputs": [
        {
          "output_type": "stream",
          "name": "stdout",
          "text": [
            "n o y t\n"
          ]
        }
      ]
    },
    {
      "cell_type": "markdown",
      "source": [
        "## List Slicing\n",
        "\n",
        "\n",
        "list[start:stop+1:step]"
      ],
      "metadata": {
        "id": "JWHklxygl_RJ"
      }
    },
    {
      "cell_type": "code",
      "source": [
        "T = [1,2,3,4,5,6,7,8,9]\n",
        "print(T[1:8:3])\n",
        "\n",
        "T = ['p', 'y' ,'t', 'h','o','n']\n",
        "print(T[1:5:2])\n",
        "print(T[::-2])\n",
        "print(T[-6::])\n",
        "print(T[::5])\n",
        "print(T[:3:2])\n",
        "print(T[1::])\n",
        "print(T[-1::])   # 뒤집기 기능을 함, 중요!!!\n",
        "print(T[:5:2])"
      ],
      "metadata": {
        "colab": {
          "base_uri": "https://localhost:8080/"
        },
        "id": "D8SBnkOYl8k5",
        "outputId": "ea8d7243-ed62-4877-bc40-7d9383269b74"
      },
      "execution_count": 22,
      "outputs": [
        {
          "output_type": "stream",
          "name": "stdout",
          "text": [
            "[2, 5, 8]\n",
            "['y', 'h']\n",
            "['n', 'h', 'y']\n",
            "['p', 'y', 't', 'h', 'o', 'n']\n",
            "['p', 'n']\n",
            "['p', 't']\n",
            "['y', 't', 'h', 'o', 'n']\n",
            "['n']\n",
            "['p', 't', 'o']\n"
          ]
        }
      ]
    },
    {
      "cell_type": "code",
      "source": [
        "T = ['p', 'y' ,'t', 'h','o','n']\n",
        "\n",
        "T[1] = '-'\n",
        "print(T)\n",
        "\n",
        "T.append('ㅠ')\n",
        "print(T)\n",
        "\n",
        "T.extend([0,0])   # + 하는것과 비슷한 기능\n",
        "print(T)\n",
        "\n",
        "T.append([1,2])\n",
        "print(T)\n",
        "\n",
        "T+= ['c','d','f']\n",
        "print(T)\n",
        "\n",
        "T[6:] = ['*']*6   # 6번째부터 끝까지를 교체\n",
        "print(T)"
      ],
      "metadata": {
        "colab": {
          "base_uri": "https://localhost:8080/"
        },
        "id": "MaVRhk8NpZnA",
        "outputId": "f3d7fc33-98e4-4d6f-aa32-8ceed55f1690"
      },
      "execution_count": 23,
      "outputs": [
        {
          "output_type": "stream",
          "name": "stdout",
          "text": [
            "['p', '-', 't', 'h', 'o', 'n']\n",
            "['p', '-', 't', 'h', 'o', 'n', 'ㅠ']\n",
            "['p', '-', 't', 'h', 'o', 'n', 'ㅠ', 0, 0]\n",
            "['p', '-', 't', 'h', 'o', 'n', 'ㅠ', 0, 0, [1, 2]]\n",
            "['p', '-', 't', 'h', 'o', 'n', 'ㅠ', 0, 0, [1, 2], 'c', 'd', 'f']\n",
            "['p', '-', 't', 'h', 'o', 'n', '*', '*', '*', '*', '*', '*']\n"
          ]
        }
      ]
    },
    {
      "cell_type": "code",
      "source": [
        "T = ['p', 'y' ,'t', 'h','o','n']\n",
        "\n",
        "T.remove('p')\n",
        "print(T)\n",
        "\n",
        "print(T.pop(1))  # pop은 인덱스 받음\n",
        "print(T)\n",
        "\n",
        "print(T.pop())  # 마지막 원소 반환, 삭제\n",
        "print(T)\n",
        "\n",
        "T.clear()\n",
        "print(T)"
      ],
      "metadata": {
        "colab": {
          "base_uri": "https://localhost:8080/"
        },
        "id": "s9jaL1_KqFpQ",
        "outputId": "2ab5aa4d-dff8-40c5-921c-89e0f2d63dbd"
      },
      "execution_count": 24,
      "outputs": [
        {
          "output_type": "stream",
          "name": "stdout",
          "text": [
            "['y', 't', 'h', 'o', 'n']\n",
            "t\n",
            "['y', 'h', 'o', 'n']\n",
            "n\n",
            "['y', 'h', 'o']\n",
            "[]\n"
          ]
        }
      ]
    }
  ]
}