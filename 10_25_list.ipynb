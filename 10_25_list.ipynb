{
  "nbformat": 4,
  "nbformat_minor": 0,
  "metadata": {
    "colab": {
      "provenance": [],
      "authorship_tag": "ABX9TyMSYcV8xFlzA+17t2nEBzkF",
      "include_colab_link": true
    },
    "kernelspec": {
      "name": "python3",
      "display_name": "Python 3"
    },
    "language_info": {
      "name": "python"
    }
  },
  "cells": [
    {
      "cell_type": "markdown",
      "metadata": {
        "id": "view-in-github",
        "colab_type": "text"
      },
      "source": [
        "<a href=\"https://colab.research.google.com/github/munmoom/second_semester/blob/main/10_25_list.ipynb\" target=\"_parent\"><img src=\"https://colab.research.google.com/assets/colab-badge.svg\" alt=\"Open In Colab\"/></a>"
      ]
    },
    {
      "cell_type": "markdown",
      "source": [
        "#list"
      ],
      "metadata": {
        "id": "jPAFtGf2jn2y"
      }
    },
    {
      "cell_type": "markdown",
      "source": [
        "## list : **순서가 있는** 것들의 집합"
      ],
      "metadata": {
        "id": "iy7y6wXujCuq"
      }
    },
    {
      "cell_type": "markdown",
      "source": [
        "##list 만들기:\n",
        "\n",
        "a = []\n",
        "a = list()\n",
        "a = ['a']\n",
        "a = [1,2,3]\n",
        "a = ['a', 1,2,3]\n",
        "a = [[1,2]]\n",
        "\n",
        "리스트 안에 여러 자료형이 들어가기도 함"
      ],
      "metadata": {
        "id": "R6d2okp8jrV6"
      }
    },
    {
      "cell_type": "markdown",
      "source": [
        "##list comprehensions"
      ],
      "metadata": {
        "id": "yP803xPyjrMZ"
      }
    },
    {
      "cell_type": "code",
      "source": [
        "new_list = [expression for member in iterable]"
      ],
      "metadata": {
        "id": "yxcEU2wKlBNB"
      },
      "execution_count": null,
      "outputs": []
    },
    {
      "cell_type": "code",
      "source": [
        "new_list=[i**2 for i in range(10)]\n",
        "new_list"
      ],
      "metadata": {
        "colab": {
          "base_uri": "https://localhost:8080/"
        },
        "id": "Sskk1UBzeXTR",
        "outputId": "d01c0c96-4c35-4c68-a1d2-b78cd65d4412"
      },
      "execution_count": null,
      "outputs": [
        {
          "output_type": "execute_result",
          "data": {
            "text/plain": [
              "[0, 1, 4, 9, 16, 25, 36, 49, 64, 81]"
            ]
          },
          "metadata": {},
          "execution_count": 1
        }
      ]
    },
    {
      "cell_type": "code",
      "source": [
        "for i in range(10):\n",
        "  new_list.append(i**2)"
      ],
      "metadata": {
        "id": "8HQBzabWlKWZ"
      },
      "execution_count": null,
      "outputs": []
    },
    {
      "cell_type": "markdown",
      "source": [
        "## positive index  vs.  negative index"
      ],
      "metadata": {
        "id": "jT2tSIiGjrOz"
      }
    },
    {
      "cell_type": "code",
      "source": [
        "T = [1,2,3,4,5,6,7,8,9]\n",
        "print(T[-1], T[-2], T[1], T[2])"
      ],
      "metadata": {
        "colab": {
          "base_uri": "https://localhost:8080/"
        },
        "id": "813PE_qgjC3x",
        "outputId": "1e3380a6-f912-4a0e-b6f4-96e75a22b60b"
      },
      "execution_count": null,
      "outputs": [
        {
          "output_type": "stream",
          "name": "stdout",
          "text": [
            "9 8 2 3\n"
          ]
        }
      ]
    },
    {
      "cell_type": "code",
      "source": [
        "T = ['p', 'y' ,'t', 'h','o','n']\n",
        "print(T[-1], T[-2], T[1], T[2])"
      ],
      "metadata": {
        "colab": {
          "base_uri": "https://localhost:8080/"
        },
        "id": "FINXbvPVl7D5",
        "outputId": "a4701289-a590-4ff9-e272-61eb039c4580"
      },
      "execution_count": null,
      "outputs": [
        {
          "output_type": "stream",
          "name": "stdout",
          "text": [
            "n o y t\n"
          ]
        }
      ]
    },
    {
      "cell_type": "markdown",
      "source": [
        "## List Slicing\n",
        "\n",
        "\n",
        "list[start:stop+1:step]"
      ],
      "metadata": {
        "id": "JWHklxygl_RJ"
      }
    },
    {
      "cell_type": "code",
      "source": [
        "T = [1,2,3,4,5,6,7,8,9]\n",
        "print(T[1:8:3])\n",
        "\n",
        "T = ['p', 'y' ,'t', 'h','o','n']\n",
        "print(T[1:5:2])\n",
        "print(T[::-2])\n",
        "print(T[-6::])\n",
        "print(T[::5])\n",
        "print(T[:3:2])\n",
        "print(T[1::])\n",
        "print(T[-1::])   # 뒤집기 기능을 함, 중요!!!\n",
        "print(T[:5:2])"
      ],
      "metadata": {
        "colab": {
          "base_uri": "https://localhost:8080/"
        },
        "id": "D8SBnkOYl8k5",
        "outputId": "ea8d7243-ed62-4877-bc40-7d9383269b74"
      },
      "execution_count": null,
      "outputs": [
        {
          "output_type": "stream",
          "name": "stdout",
          "text": [
            "[2, 5, 8]\n",
            "['y', 'h']\n",
            "['n', 'h', 'y']\n",
            "['p', 'y', 't', 'h', 'o', 'n']\n",
            "['p', 'n']\n",
            "['p', 't']\n",
            "['y', 't', 'h', 'o', 'n']\n",
            "['n']\n",
            "['p', 't', 'o']\n"
          ]
        }
      ]
    },
    {
      "cell_type": "code",
      "source": [
        "T = ['p', 'y' ,'t', 'h','o','n']\n",
        "\n",
        "T[1] = '-'\n",
        "print(T)\n",
        "\n",
        "T.append('ㅠ')\n",
        "print(T)\n",
        "\n",
        "T.extend([0,0])   # + 하는것과 비슷한 기능\n",
        "print(T)\n",
        "\n",
        "T.append([1,2])\n",
        "print(T)\n",
        "\n",
        "T+= ['c','d','f']\n",
        "print(T)\n",
        "\n",
        "T[6:] = ['*']*6   # 6번째부터 끝까지를 교체\n",
        "print(T)"
      ],
      "metadata": {
        "colab": {
          "base_uri": "https://localhost:8080/"
        },
        "id": "MaVRhk8NpZnA",
        "outputId": "f3d7fc33-98e4-4d6f-aa32-8ceed55f1690"
      },
      "execution_count": null,
      "outputs": [
        {
          "output_type": "stream",
          "name": "stdout",
          "text": [
            "['p', '-', 't', 'h', 'o', 'n']\n",
            "['p', '-', 't', 'h', 'o', 'n', 'ㅠ']\n",
            "['p', '-', 't', 'h', 'o', 'n', 'ㅠ', 0, 0]\n",
            "['p', '-', 't', 'h', 'o', 'n', 'ㅠ', 0, 0, [1, 2]]\n",
            "['p', '-', 't', 'h', 'o', 'n', 'ㅠ', 0, 0, [1, 2], 'c', 'd', 'f']\n",
            "['p', '-', 't', 'h', 'o', 'n', '*', '*', '*', '*', '*', '*']\n"
          ]
        }
      ]
    },
    {
      "cell_type": "code",
      "source": [
        "T = ['p', 'y' ,'t', 'h','o','n']\n",
        "\n",
        "T.remove('p')\n",
        "print(T)\n",
        "\n",
        "print(T.pop(1))  # pop은 인덱스 받음\n",
        "print(T)\n",
        "\n",
        "print(T.pop())  # 마지막 원소 반환, 삭제\n",
        "print(T)\n",
        "\n",
        "T.clear()  # 안에 있는 원소들 모두 삭제\n",
        "print(T)"
      ],
      "metadata": {
        "colab": {
          "base_uri": "https://localhost:8080/"
        },
        "id": "s9jaL1_KqFpQ",
        "outputId": "2ab5aa4d-dff8-40c5-921c-89e0f2d63dbd"
      },
      "execution_count": null,
      "outputs": [
        {
          "output_type": "stream",
          "name": "stdout",
          "text": [
            "['y', 't', 'h', 'o', 'n']\n",
            "t\n",
            "['y', 'h', 'o', 'n']\n",
            "n\n",
            "['y', 'h', 'o']\n",
            "[]\n"
          ]
        }
      ]
    },
    {
      "cell_type": "code",
      "source": [
        "T = [1,2,3,4,5,6,7,8,9]\n",
        "\n",
        "del T[0]\n",
        "print(T)\n",
        "\n",
        "del T[2:4]\n",
        "print(T)\n",
        "\n",
        "#del T[]\n",
        "#print(T)\n",
        "\n",
        "del T[:]\n",
        "print(T)\n",
        "\n",
        "try:\n",
        "  del T\n",
        "  print(T)\n",
        "except:\n",
        "  print(\"name 'T' is not defined\")"
      ],
      "metadata": {
        "colab": {
          "base_uri": "https://localhost:8080/"
        },
        "id": "Wsvj1Za2rRSg",
        "outputId": "f77c83b0-e3e0-4b33-befe-5c40316ba753"
      },
      "execution_count": null,
      "outputs": [
        {
          "output_type": "stream",
          "name": "stdout",
          "text": [
            "[2, 3, 4, 5, 6, 7, 8, 9]\n",
            "[2, 3, 6, 7, 8, 9]\n",
            "[]\n",
            "name 'T' is not defined\n"
          ]
        }
      ]
    },
    {
      "cell_type": "markdown",
      "source": [
        "## 이차원 리스트"
      ],
      "metadata": {
        "id": "zWL-XqChrSEJ"
      }
    },
    {
      "cell_type": "code",
      "source": [
        "s = [\n",
        "    [1,2,3,4,5],\n",
        "    [6,7,8,9,10],\n",
        "    [11,12,13,14,15]\n",
        "]\n",
        "\n",
        "print(s)\n",
        "print(s[0][3])"
      ],
      "metadata": {
        "colab": {
          "base_uri": "https://localhost:8080/"
        },
        "id": "kGP_njI8rkdI",
        "outputId": "8e9df0ae-6920-4386-9d54-b8d60586ad11"
      },
      "execution_count": null,
      "outputs": [
        {
          "output_type": "stream",
          "name": "stdout",
          "text": [
            "[[1, 2, 3, 4, 5], [6, 7, 8, 9, 10], [11, 12, 13, 14, 15]]\n",
            "4\n"
          ]
        }
      ]
    },
    {
      "cell_type": "code",
      "source": [
        "# 6이랑 11 같이뽑기?\n",
        "print([s[i][0] for i in range(1,3)])\n",
        "\n",
        "# 안되는거\n",
        "print(s[1:3:][0])"
      ],
      "metadata": {
        "colab": {
          "base_uri": "https://localhost:8080/"
        },
        "id": "s-l5g5f-7Bd9",
        "outputId": "856b4b2c-45ff-4fe7-84d9-c871d6da7b95"
      },
      "execution_count": null,
      "outputs": [
        {
          "output_type": "stream",
          "name": "stdout",
          "text": [
            "[6, 11]\n",
            "[6, 7, 8, 9, 10]\n"
          ]
        }
      ]
    },
    {
      "cell_type": "code",
      "source": [
        "s = [[5*j+i+1 for i in range(5)] for j in range(3)]\n",
        "print(s)\n",
        "print(s[1])  # 행만 지칭한다(하나만 있으면)\n",
        "print(s[1:])\n",
        "print(s[1][0])\n",
        "print(s[2][3:])\n",
        "print(s[0][::-1])"
      ],
      "metadata": {
        "colab": {
          "base_uri": "https://localhost:8080/"
        },
        "id": "mJIEFWzTsg4x",
        "outputId": "c819aa95-9fc9-483e-96d8-1fb6358e244c"
      },
      "execution_count": null,
      "outputs": [
        {
          "output_type": "stream",
          "name": "stdout",
          "text": [
            "[[1, 2, 3, 4, 5], [6, 7, 8, 9, 10], [11, 12, 13, 14, 15]]\n",
            "[6, 7, 8, 9, 10]\n",
            "[[6, 7, 8, 9, 10], [11, 12, 13, 14, 15]]\n",
            "6\n",
            "[14, 15]\n",
            "[5, 4, 3, 2, 1]\n"
          ]
        }
      ]
    },
    {
      "cell_type": "markdown",
      "source": [
        "## assignment vs. shallow copy vs. deep copy"
      ],
      "metadata": {
        "id": "2h7RKp9l38WV"
      }
    },
    {
      "cell_type": "markdown",
      "source": [
        "1차원"
      ],
      "metadata": {
        "id": "OArWm1gY4M1F"
      }
    },
    {
      "cell_type": "code",
      "source": [
        "a = [1,2,3]\n",
        "b = a\n",
        "print(id(a), id(b))\n",
        "b[0] = 5\n",
        "print(a,b)\n",
        "\n",
        "a = [1,2,3]\n",
        "b = a.copy()\n",
        "print(id(a), id(b))\n",
        "b[0] = 5\n",
        "print(a,b)\n",
        "\n",
        "from copy import deepcopy\n",
        "a = [1,2,3]\n",
        "b = deepcopy(a)\n",
        "print(id(a), id(b))\n",
        "b[0] = 5\n",
        "print(a,b)"
      ],
      "metadata": {
        "colab": {
          "base_uri": "https://localhost:8080/"
        },
        "id": "3uOzoRbp38lm",
        "outputId": "86266893-fa69-46aa-f40a-f6e3bbc5476f"
      },
      "execution_count": null,
      "outputs": [
        {
          "output_type": "stream",
          "name": "stdout",
          "text": [
            "139900169029264 139900169029264\n",
            "[5, 2, 3] [5, 2, 3]\n",
            "139900169907328 139900169489536\n",
            "[1, 2, 3] [5, 2, 3]\n",
            "139900169490096 139900169029264\n",
            "[1, 2, 3] [5, 2, 3]\n"
          ]
        }
      ]
    },
    {
      "cell_type": "markdown",
      "source": [
        "2차원"
      ],
      "metadata": {
        "id": "K2DxWu3H4Pq9"
      }
    },
    {
      "cell_type": "code",
      "source": [
        "a = [[1,2],[3,4]]\n",
        "b = a\n",
        "print(id(a), id(b), id(a[0]), id(b[0]))\n",
        "b[0][0] = 5\n",
        "print(a, b)\n",
        "\n",
        "a = [[1,2],[3,4]]\n",
        "b = a.copy()\n",
        "print(id(a), id(b), id(a[0]), id(b[0]))   # 앞에 두개는 다른데 뒤에 두개 id가 같다\n",
        "# 겉에는 달라지는데 안에는 달라지지 않아서 2차원 이상에서는 deepcopy쓰는게 안전\n",
        "b[0][0] = 5\n",
        "print(a, b)\n",
        "\n",
        "from copy import deepcopy\n",
        "a = [[1,2],[3,4]]\n",
        "b = deepcopy(a)\n",
        "print(id(a), id(b), id(a[0]), id(b[0]))\n",
        "b[0][0] = 5\n",
        "print(a, b)"
      ],
      "metadata": {
        "colab": {
          "base_uri": "https://localhost:8080/"
        },
        "id": "1Szv1_Rt4Pdd",
        "outputId": "090116b4-94ee-458c-aafc-a932a31486ef"
      },
      "execution_count": null,
      "outputs": [
        {
          "output_type": "stream",
          "name": "stdout",
          "text": [
            "139900169508976 139900169508976 139900169508736 139900169508736\n",
            "[[5, 2], [3, 4]] [[5, 2], [3, 4]]\n",
            "139900168818272 139900168974896 139900169507216 139900169507216\n",
            "[[5, 2], [3, 4]] [[5, 2], [3, 4]]\n",
            "139900169501984 139900169508976 139900168817312 139900168782544\n",
            "[[1, 2], [3, 4]] [[5, 2], [3, 4]]\n"
          ]
        }
      ]
    },
    {
      "cell_type": "markdown",
      "source": [
        "##List with Loop"
      ],
      "metadata": {
        "id": "BAlOU1M65rrl"
      }
    },
    {
      "cell_type": "code",
      "source": [
        "T = [28,31,33,35,27,26,25]\n",
        "\n",
        "for i in range(len(T)):\n",
        "  print(T[i], end=',')\n",
        "\n",
        "print()\n",
        "\n",
        "for ele in T:\n",
        "  print(ele, end=',')"
      ],
      "metadata": {
        "colab": {
          "base_uri": "https://localhost:8080/"
        },
        "id": "VY-14wqX5q7X",
        "outputId": "c8b694cd-a385-4f12-9d02-f3768b32716e"
      },
      "execution_count": null,
      "outputs": [
        {
          "output_type": "stream",
          "name": "stdout",
          "text": [
            "28,31,33,35,27,26,25,\n",
            "28,31,33,35,27,26,25,"
          ]
        }
      ]
    },
    {
      "cell_type": "code",
      "source": [],
      "metadata": {
        "id": "UBd7k8X0Aqh1"
      },
      "execution_count": null,
      "outputs": []
    },
    {
      "cell_type": "code",
      "source": [],
      "metadata": {
        "id": "m049cUKCAqfd"
      },
      "execution_count": null,
      "outputs": []
    },
    {
      "cell_type": "code",
      "source": [
        "values = [1, 3, 2, 5, 4, 6]\n",
        "\n",
        "values.append(10)\n",
        "\n",
        "values.pop()\n",
        "\n",
        "values.insert(1,20)\n",
        "\n",
        "del values[0:3]\n",
        "\n",
        "values.sort(reverse = True)\n",
        "\n",
        "print(values)"
      ],
      "metadata": {
        "colab": {
          "base_uri": "https://localhost:8080/"
        },
        "id": "9dU2S37IAqTt",
        "outputId": "613d4b19-87fd-4a0e-d1d2-c4ec85df749e"
      },
      "execution_count": null,
      "outputs": [
        {
          "output_type": "stream",
          "name": "stdout",
          "text": [
            "[6, 5, 4, 2]\n"
          ]
        }
      ]
    },
    {
      "cell_type": "code",
      "source": [
        "aList = [1,2,3,4]\n",
        "\n",
        "aList[1:] = [5,6,7]"
      ],
      "metadata": {
        "id": "YFb_eThRAqpA"
      },
      "execution_count": null,
      "outputs": []
    },
    {
      "cell_type": "code",
      "source": [
        "value = [ 1, 2, 3, 4, 5, 6] \n",
        "value[-3:-1]"
      ],
      "metadata": {
        "colab": {
          "base_uri": "https://localhost:8080/"
        },
        "id": "xbusa-RNBDHF",
        "outputId": "e4225f1c-f9af-45a6-e5d7-2f59a8f0a7a9"
      },
      "execution_count": null,
      "outputs": [
        {
          "output_type": "execute_result",
          "data": {
            "text/plain": [
              "[4, 5]"
            ]
          },
          "metadata": {},
          "execution_count": 9
        }
      ]
    },
    {
      "cell_type": "code",
      "source": [
        "sum(value)"
      ],
      "metadata": {
        "id": "MuAr2j-jBMy9",
        "outputId": "a291a6ab-39ba-41f2-dde7-446c3c109ee3",
        "colab": {
          "base_uri": "https://localhost:8080/"
        }
      },
      "execution_count": null,
      "outputs": [
        {
          "output_type": "execute_result",
          "data": {
            "text/plain": [
              "21"
            ]
          },
          "metadata": {},
          "execution_count": 10
        }
      ]
    },
    {
      "cell_type": "code",
      "source": [],
      "metadata": {
        "id": "3N8wNSzzPDAb"
      },
      "execution_count": null,
      "outputs": []
    },
    {
      "cell_type": "code",
      "source": [],
      "metadata": {
        "id": "Gsj_e-I-PC-T"
      },
      "execution_count": null,
      "outputs": []
    },
    {
      "cell_type": "code",
      "source": [],
      "metadata": {
        "id": "Sn_3R4H8PC7b"
      },
      "execution_count": null,
      "outputs": []
    },
    {
      "cell_type": "code",
      "source": [],
      "metadata": {
        "id": "fIF3Vd1yPC5L"
      },
      "execution_count": null,
      "outputs": []
    },
    {
      "cell_type": "code",
      "source": [],
      "metadata": {
        "id": "kqXcnv4JPC0z"
      },
      "execution_count": null,
      "outputs": []
    },
    {
      "cell_type": "code",
      "source": [
        "Exercise 1\n",
        "리스트에 정수들이 저장되어 있다고 하자. 이들 정수들의 곱을 계산하는 프로그램을 작성하라.\n",
        "\n",
        "입력 리스트 = [1, 2, 3, 4]  \n",
        "결과 값 = 24\n",
        "L = input()\n",
        "L = L[1:-1]\n",
        "L = L.split(',')\n",
        "​\n",
        "t=0\n",
        "for i in L:\n",
        "    if t==0:\n",
        "        a = int(i)\n",
        "        t+=1\n",
        "        continue\n",
        "    a *= int(i)\n",
        "​\n",
        "print(a)\n",
        "[1,2,3,4]\n",
        "24\n",
        "Exercise 2\n",
        "리스트의 중복된 항목을 제거하는 프로그램을 작성해보자\n",
        "\n",
        "입력 리스트 = [10, 20, 30, 20, 10, 50, 60]  \n",
        "결과 리스트 = [10, 20, 30 ,50, 60]\n",
        "L = input()\n",
        "L = L[1:-1]\n",
        "L = L.split(', ')\n",
        "L = list(map(int, L))\n",
        "​\n",
        "L = set(L)\n",
        "L = list(L)\n",
        "​\n",
        "L.sort()\n",
        "​\n",
        "print(L)\n",
        "[10, 20, 30, 20, 10, 50, 60]\n",
        "[10, 20, 30, 50, 60]\n",
        "Exercise 3\n",
        "주어진 리스트에서 10이 리스트안에 존재하면 10을 100으로 바꾸는 프로그램을 작성하라.\n",
        "\n",
        "입력 리스트 = [5, 10, 15, 10, 25]  \n",
        "결과 리스트 = [5, 100, 15, 50, 60]\n",
        "L = input()\n",
        "L = L[1:-1]\n",
        "L = L.split(', ')\n",
        "​\n",
        "for i in range(len(L)):\n",
        "    if L[i] == '10':\n",
        "        L[i] = '100'\n",
        "​\n",
        "L = list(map(int, L))\n",
        "print(L)\n",
        "[5, 10, 15, 10, 25]\n",
        "[5, 100, 15, 100, 25]\n",
        "​\n",
        "list\n",
        "Exercise 4\n",
        "주어진 리스트에서 모든10을 삭제하는 코드를 작성하라.\n",
        "\n",
        "입력 리스트 = [5, 10, 15, 10, 25]  \n",
        "결과 리스트 = [5, 15, 25]\n",
        "L = input()\n",
        "L = L[1:-1]\n",
        "L = L.split(', ')\n",
        "L = list(map(int, L))\n",
        "​\n",
        "l = []\n",
        "for i in range(len(L)):\n",
        "    if L[i] != 10:\n",
        "        l.append(L[i])\n",
        "        \n",
        "print(l)\n",
        "[5, 10, 15, 10, 25]\n",
        "[5, 15, 25]\n",
        "​\n",
        "Exercise 5\n",
        "주어진 리스트 요소를 제곱하여 출력하는 코드를 작성하라.\n",
        "\n",
        "입력 리스트 = [1, 2, 3, 4, 5]  \n",
        "결과 리스트 = [1, 4, 9, 16, 25]\n",
        "comprehension써서\n",
        "L = input()\n",
        "L = L[1:-1]\n",
        "L = L.split(', ')\n",
        "L = list(map(int, L))\n",
        "​\n",
        "R = [i**2 for i in L]\n",
        "​\n",
        "print(R)\n",
        "[1, 2, 3, 4, 5]\n",
        "[1, 4, 9, 16, 25]\n",
        "​\n",
        "Exercise 6\n",
        "random하게 생성된 리스트에서 연속된 1의 길이 중 가장 긴 길이를 출력하라.\n",
        "\n",
        "[1, 1, 1, 1, 0, 1, 1, 1, 1, 0]\n",
        "최대길이: 4\n",
        "import random\n",
        "​\n",
        "base = [0,1]\n",
        "nums = random.choices(base, k=10)\n",
        "print(nums)\n",
        "[1, 0, 1, 1, 0, 1, 0, 0, 1, 0]\n",
        "1,\n",
        "nums = [1,0,1,1]\n",
        "L =[]\n",
        "t = 0\n",
        "for i in nums:\n",
        "    if i == 0:\n",
        "        t = 0\n",
        "    else:\n",
        "        t += 1\n",
        "        L.append(t)\n",
        "        \n",
        "m = max(L)\n",
        "print(f'최대길이: {m}')\n",
        "최대길이: 2\n",
        "​\n",
        "Exercise 7\n",
        "리스트에 저장된 값으로 다음과 같이 별표를 출력하여 막대 그래프를 그리는 프로그램을 작성하라.\n",
        "\n",
        "12  ************\n",
        "14  **************\n",
        "19  *******************\n",
        " 7  *******\n",
        "L = [12,14,19,7]\n",
        "​\n",
        "for i in L:\n",
        "    print('*'*i)\n",
        "************\n",
        "**************\n",
        "*******************\n",
        "*******\n",
        "Exercise 8\n",
        "문자열이 저장된 리스트를 가정하자. 문자열 중에서 \"aba\"처럼 첫번째 문자와 마지막 문자가 동일한 문자열 수를 계산하는 프로그램을 작성하고 테스트하라.\n",
        "\n",
        "['aba', 'xyz', 'abc', '121']\n",
        "문자열 개수 = 2\n",
        "L = ['aba', 'xyz', 'abc', '121']\n",
        "​\n",
        "t = 0\n",
        "for i in L:\n",
        "    if i[0] == i[-1]:\n",
        "        t +=1\n",
        "print(f'문자열 개수 = {t}')\n",
        "문자열 개수 = 2\n",
        "​\n",
        "Exercise 9\n",
        "2개의 리스트를 받아서 공통 항목이 하나 이상 있으면 True를 반환하는 함수를 작성하고 테스트하라.\n",
        "\n",
        "in써서\n",
        "\n",
        "list1 = [1, 2, 3, 4, 5, 6]\n",
        "list2 = [6, 7, 8, 9, 10]\n",
        "True\n",
        "def momo(list1, list2):\n",
        "    t=0\n",
        "​\n",
        "    for i in list1:\n",
        "        for a in list2:\n",
        "            if i == a:\n",
        "                t += 1\n",
        "    if t>0:\n",
        "        return True\n",
        "momo([1, 2, 3, 4, 5, 6],[6, 7, 8, 9, 10])\n",
        "True\n",
        "Exercise 10\n",
        "9x9의 미니 바둑판에 돌이 놓여 있는 정보를 저장한 2차원 리스트 stone 이 주어지면,\n",
        "흙돌과 백돌의 개수를 카운트하는 프로그램을 작성하라.\n",
        "           \n",
        "* 리스트 요소의 숫자는 다음을 의미한다.\n",
        "  - 0 : 돌 없음\n",
        "  - 1 : 흑돌\n",
        "  - 2 : 백돌\n",
        "  \n",
        "흑돌의 개수 : 17\n",
        "백돌의 개수 : 16\n",
        ", 0, 1, 0, 2, 1], \\\n",
        "       [0, 0, 0, 2\n",
        "stone = [[0, 0, 0, 0, 0, 0, 0, 0, 0], \\\n",
        "       [0, 1, 0, 1, 2, 1, 2, 1, 0], \\\n",
        "       [0, 2, 1, 1, 1, 2, 2, 0, 0], \\\n",
        "       [0, 0, 2, 2, 2, 1, 0, 2, 0], \\\n",
        "       [0, 0, 0, 0, 0, 1, 0, 2, 1], \\\n",
        "       [0, 0, 0, 2, 0, 1, 2, 1, 0], \\\n",
        "       [0, 0, 0, 2, 1, 0, 1, 1, 0], \\\n",
        "       [0, 0, 0, 1, 1, 0, 0, 0, 0], \\\n",
        "       [0, 0, 0, 0, 2, 2, 2, 0, 0]]\n",
        "stone\n",
        "[[0, 0, 0, 0, 0, 0, 0, 0, 0],\n",
        " [0, 1, 0, 1, 2, 1, 2, 1, 0],\n",
        " [0, 2, 1, 1, 1, 2, 2, 0, 0],\n",
        " [0, 0, 2, 2, 2, 1, 0, 2, 0],\n",
        " [0, 0, 0, 0, 0, 1, 0, 2, 1],\n",
        " [0, 0, 0, 2, 0, 1, 2, 1, 0],\n",
        " [0, 0, 0, 2, 1, 0, 1, 1, 0],\n",
        " [0, 0, 0, 1, 1, 0, 0, 0, 0],\n",
        " [0, 0, 0, 0, 2, 2, 2, 0, 0]]\n",
        "a=0\n",
        "b=0\n",
        "c=0\n",
        "for i in stone:\n",
        "    for t in i:\n",
        "        if t == 0:\n",
        "            a+=1\n",
        "        elif t == 1:\n",
        "            b+=1\n",
        "        else:\n",
        "            c+=1\n",
        "            \n",
        "print(f'흑돌의 개수: {b}')\n",
        "print(f'백돌의 개수: {c}')\n",
        "흑돌의 개수: 17\n",
        "백돌의 개수: 16\n",
        "​\n",
        "Exercise 11\n",
        "다음과 같은 2개의 리스트가 있다. 2개의 리스트에 공통적인 요소를 추출하는 코드를 작성해보자\n",
        "\n",
        "a = [1,2,3,4,5]\n",
        "b = [1,3,3,4,5,6,7]\n",
        "결과 = [1, 3, 4, 5]\n",
        "a = [1,2,3,4,5]\n",
        "b = [1,3,3,4,5,6,7]\n",
        "​\n",
        "I = []\n",
        "for i in a:\n",
        "    for k in b:\n",
        "        if i == k:\n",
        "            I.append(i)\n",
        "I = set(I)\n",
        "I = list(I)\n",
        "print(I)\n",
        "[1, 3, 4, 5]\n",
        "​\n",
        "Exercise 12\n",
        "각 요소가 \"#\"이고 크기가 3×4×5인 3차원 배열을 생성하는 프로그램을 작성하고 테스트하라.\n",
        "\n",
        "[[['#', '#', '#', '#'], ['#', '#', '#', '#'], ['#', '#', '#', '#']],\n",
        " [['#', '#', '#', '#'], ['#', '#', '#', '#'], ['#', '#', '#', '#']],\n",
        " [['#', '#', '#', '#'], ['#', '#', '#', '#'], ['#', '#', '#', '#']],\n",
        " [['#', '#', '#', '#'], ['#', '#', '#', '#'], ['#', '#', '#', '#']],\n",
        " [['#', '#', '#', '#'], ['#', '#', '#', '#'], ['#', '#', '#', '#']]]\n",
        "s = [[['#' for z in range(4)]for y in range(3)]for x in range(5)]\n",
        "print(s)\n",
        "[[['#', '#', '#', '#'], ['#', '#', '#', '#'], ['#', '#', '#', '#']], [['#', '#', '#', '#'], ['#', '#', '#', '#'], ['#', '#', '#', '#']], [['#', '#', '#', '#'], ['#', '#', '#', '#'], ['#', '#', '#', '#']], [['#', '#', '#', '#'], ['#', '#', '#', '#'], ['#', '#', '#', '#']], [['#', '#', '#', '#'], ['#', '#', '#', '#'], ['#', '#', '#', '#']]]\n",
        "​\n",
        "Exercise 13\n",
        "random하게 생성한 두개의 정렬된 리스트가 주어지면, 두 개의 리스트를 합하여 하나의 리스트를 생성하라.\n",
        "단, sort, sorted 를 사용하지 않고, 합한다.\n",
        "\n",
        "list1 = [1,2,4]\n",
        "list2 = [1,3,4]\n",
        "Output: [1,1,2,3,4,4]\n",
        "import random\n",
        "​\n",
        "base = list(range(100))\n",
        "list1 = sorted(random.choices(base, k=10))\n",
        "list2 = sorted(random.choices(base, k=10))\n",
        "​\n",
        "print(list1)\n",
        "print(list2)\n",
        "[9, 11, 12, 32, 33, 56, 69, 77, 81, 92]\n",
        "[22, 24, 27, 35, 36, 37, 42, 45, 49, 72]\n",
        "list1+list2\n",
        "[9, 11, 12, 32, 33, 56, 69, 77, 81, 92, 22, 24, 27, 35, 36, 37, 42, 45, 49, 72]\n",
        "​"
      ],
      "metadata": {
        "id": "WX9DjWW4PCyk"
      },
      "execution_count": null,
      "outputs": []
    },
    {
      "cell_type": "code",
      "source": [
        "import random\n",
        "\n",
        "base = list(range(100))\n",
        "list1 = sorted(random.choices(base, k=10))\n",
        "list2 = sorted(random.choices(base, k=10))\n",
        "\n",
        "print(list1)\n",
        "print(list2)\n",
        "\n",
        "list1 = [1,2,3]\n",
        "list2 = [3,4]\n",
        "L = list1+list2\n",
        "\n",
        "y = []\n",
        "t=0\n",
        "for i in L:\n",
        "   if t==0:\n",
        "      y.append(i)\n",
        "      t+=1\n",
        "      continue\n",
        "        \n",
        "   while 1:\n",
        "      if i <= y[0]:\n",
        "        y.insert(0,i)\n",
        "        break\n",
        "      elif i >= y[-1]:\n",
        "         y.append(i)\n",
        "         break\n",
        "      else:\n",
        "        for k in range(len(y)):\n",
        "          if y[k] >= i:\n",
        "            y.insert(k,i)\n",
        "            break\n",
        "        break\n",
        "print(y)"
      ],
      "metadata": {
        "colab": {
          "base_uri": "https://localhost:8080/"
        },
        "id": "67J5tuFpYSA7",
        "outputId": "669aff6a-c897-44a9-90cc-3ef10431893d"
      },
      "execution_count": 13,
      "outputs": [
        {
          "output_type": "stream",
          "name": "stdout",
          "text": [
            "[13, 30, 31, 33, 37, 45, 55, 64, 66, 89]\n",
            "[22, 22, 34, 52, 53, 55, 85, 90, 94, 97]\n",
            "[1, 2, 3, 3, 4]\n"
          ]
        }
      ]
    },
    {
      "cell_type": "code",
      "source": [],
      "metadata": {
        "id": "8Gf_rp4jYg4r"
      },
      "execution_count": null,
      "outputs": []
    }
  ]
}