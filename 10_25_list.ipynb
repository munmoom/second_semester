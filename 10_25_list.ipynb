{
  "nbformat": 4,
  "nbformat_minor": 0,
  "metadata": {
    "colab": {
      "provenance": [],
      "authorship_tag": "ABX9TyOIatVcsKcn+Sstw5RVj8Ob",
      "include_colab_link": true
    },
    "kernelspec": {
      "name": "python3",
      "display_name": "Python 3"
    },
    "language_info": {
      "name": "python"
    }
  },
  "cells": [
    {
      "cell_type": "markdown",
      "metadata": {
        "id": "view-in-github",
        "colab_type": "text"
      },
      "source": [
        "<a href=\"https://colab.research.google.com/github/munmoom/second_semester/blob/main/10_25_list.ipynb\" target=\"_parent\"><img src=\"https://colab.research.google.com/assets/colab-badge.svg\" alt=\"Open In Colab\"/></a>"
      ]
    },
    {
      "cell_type": "markdown",
      "source": [
        "#list"
      ],
      "metadata": {
        "id": "jPAFtGf2jn2y"
      }
    },
    {
      "cell_type": "markdown",
      "source": [
        "## list : **순서가 있는** 것들의 집합"
      ],
      "metadata": {
        "id": "iy7y6wXujCuq"
      }
    },
    {
      "cell_type": "markdown",
      "source": [
        "##list 만들기:\n",
        "\n",
        "a = []\n",
        "a = list()\n",
        "a = ['a']\n",
        "a = [1,2,3]\n",
        "a = ['a', 1,2,3]\n",
        "a = [[1,2]]\n",
        "\n",
        "리스트 안에 여러 자료형이 들어가기도 함"
      ],
      "metadata": {
        "id": "R6d2okp8jrV6"
      }
    },
    {
      "cell_type": "markdown",
      "source": [
        "##list comprehensions"
      ],
      "metadata": {
        "id": "yP803xPyjrMZ"
      }
    },
    {
      "cell_type": "code",
      "source": [
        "new_list = [expression for member in iterable]"
      ],
      "metadata": {
        "id": "yxcEU2wKlBNB"
      },
      "execution_count": null,
      "outputs": []
    },
    {
      "cell_type": "code",
      "source": [
        "new_list=[i**2 for i in range(10)]\n",
        "new_list"
      ],
      "metadata": {
        "colab": {
          "base_uri": "https://localhost:8080/"
        },
        "id": "Sskk1UBzeXTR",
        "outputId": "d01c0c96-4c35-4c68-a1d2-b78cd65d4412"
      },
      "execution_count": null,
      "outputs": [
        {
          "output_type": "execute_result",
          "data": {
            "text/plain": [
              "[0, 1, 4, 9, 16, 25, 36, 49, 64, 81]"
            ]
          },
          "metadata": {},
          "execution_count": 1
        }
      ]
    },
    {
      "cell_type": "code",
      "source": [
        "for i in range(10):\n",
        "  new_list.append(i**2)"
      ],
      "metadata": {
        "id": "8HQBzabWlKWZ"
      },
      "execution_count": null,
      "outputs": []
    },
    {
      "cell_type": "markdown",
      "source": [
        "## positive index  vs.  negative index"
      ],
      "metadata": {
        "id": "jT2tSIiGjrOz"
      }
    },
    {
      "cell_type": "code",
      "source": [
        "T = [1,2,3,4,5,6,7,8,9]\n",
        "print(T[-1], T[-2], T[1], T[2])"
      ],
      "metadata": {
        "colab": {
          "base_uri": "https://localhost:8080/"
        },
        "id": "813PE_qgjC3x",
        "outputId": "1e3380a6-f912-4a0e-b6f4-96e75a22b60b"
      },
      "execution_count": null,
      "outputs": [
        {
          "output_type": "stream",
          "name": "stdout",
          "text": [
            "9 8 2 3\n"
          ]
        }
      ]
    },
    {
      "cell_type": "code",
      "source": [
        "T = ['p', 'y' ,'t', 'h','o','n']\n",
        "print(T[-1], T[-2], T[1], T[2])"
      ],
      "metadata": {
        "colab": {
          "base_uri": "https://localhost:8080/"
        },
        "id": "FINXbvPVl7D5",
        "outputId": "a4701289-a590-4ff9-e272-61eb039c4580"
      },
      "execution_count": null,
      "outputs": [
        {
          "output_type": "stream",
          "name": "stdout",
          "text": [
            "n o y t\n"
          ]
        }
      ]
    },
    {
      "cell_type": "markdown",
      "source": [
        "## List Slicing\n",
        "\n",
        "\n",
        "list[start:stop+1:step]"
      ],
      "metadata": {
        "id": "JWHklxygl_RJ"
      }
    },
    {
      "cell_type": "code",
      "source": [
        "T = [1,2,3,4,5,6,7,8,9]\n",
        "print(T[1:8:3])\n",
        "\n",
        "T = ['p', 'y' ,'t', 'h','o','n']\n",
        "print(T[1:5:2])\n",
        "print(T[::-2])\n",
        "print(T[-6::])\n",
        "print(T[::5])\n",
        "print(T[:3:2])\n",
        "print(T[1::])\n",
        "print(T[-1::])   # 뒤집기 기능을 함, 중요!!!\n",
        "print(T[:5:2])"
      ],
      "metadata": {
        "colab": {
          "base_uri": "https://localhost:8080/"
        },
        "id": "D8SBnkOYl8k5",
        "outputId": "ea8d7243-ed62-4877-bc40-7d9383269b74"
      },
      "execution_count": null,
      "outputs": [
        {
          "output_type": "stream",
          "name": "stdout",
          "text": [
            "[2, 5, 8]\n",
            "['y', 'h']\n",
            "['n', 'h', 'y']\n",
            "['p', 'y', 't', 'h', 'o', 'n']\n",
            "['p', 'n']\n",
            "['p', 't']\n",
            "['y', 't', 'h', 'o', 'n']\n",
            "['n']\n",
            "['p', 't', 'o']\n"
          ]
        }
      ]
    },
    {
      "cell_type": "code",
      "source": [
        "T = ['p', 'y' ,'t', 'h','o','n']\n",
        "\n",
        "T[1] = '-'\n",
        "print(T)\n",
        "\n",
        "T.append('ㅠ')\n",
        "print(T)\n",
        "\n",
        "T.extend([0,0])   # + 하는것과 비슷한 기능\n",
        "print(T)\n",
        "\n",
        "T.append([1,2])\n",
        "print(T)\n",
        "\n",
        "T+= ['c','d','f']\n",
        "print(T)\n",
        "\n",
        "T[6:] = ['*']*6   # 6번째부터 끝까지를 교체\n",
        "print(T)"
      ],
      "metadata": {
        "colab": {
          "base_uri": "https://localhost:8080/"
        },
        "id": "MaVRhk8NpZnA",
        "outputId": "f3d7fc33-98e4-4d6f-aa32-8ceed55f1690"
      },
      "execution_count": null,
      "outputs": [
        {
          "output_type": "stream",
          "name": "stdout",
          "text": [
            "['p', '-', 't', 'h', 'o', 'n']\n",
            "['p', '-', 't', 'h', 'o', 'n', 'ㅠ']\n",
            "['p', '-', 't', 'h', 'o', 'n', 'ㅠ', 0, 0]\n",
            "['p', '-', 't', 'h', 'o', 'n', 'ㅠ', 0, 0, [1, 2]]\n",
            "['p', '-', 't', 'h', 'o', 'n', 'ㅠ', 0, 0, [1, 2], 'c', 'd', 'f']\n",
            "['p', '-', 't', 'h', 'o', 'n', '*', '*', '*', '*', '*', '*']\n"
          ]
        }
      ]
    },
    {
      "cell_type": "code",
      "source": [
        "T = ['p', 'y' ,'t', 'h','o','n']\n",
        "\n",
        "T.remove('p')\n",
        "print(T)\n",
        "\n",
        "print(T.pop(1))  # pop은 인덱스 받음\n",
        "print(T)\n",
        "\n",
        "print(T.pop())  # 마지막 원소 반환, 삭제\n",
        "print(T)\n",
        "\n",
        "T.clear()  # 안에 있는 원소들 모두 삭제\n",
        "print(T)"
      ],
      "metadata": {
        "colab": {
          "base_uri": "https://localhost:8080/"
        },
        "id": "s9jaL1_KqFpQ",
        "outputId": "2ab5aa4d-dff8-40c5-921c-89e0f2d63dbd"
      },
      "execution_count": null,
      "outputs": [
        {
          "output_type": "stream",
          "name": "stdout",
          "text": [
            "['y', 't', 'h', 'o', 'n']\n",
            "t\n",
            "['y', 'h', 'o', 'n']\n",
            "n\n",
            "['y', 'h', 'o']\n",
            "[]\n"
          ]
        }
      ]
    },
    {
      "cell_type": "code",
      "source": [
        "T = [1,2,3,4,5,6,7,8,9]\n",
        "\n",
        "del T[0]\n",
        "print(T)\n",
        "\n",
        "del T[2:4]\n",
        "print(T)\n",
        "\n",
        "#del T[]\n",
        "#print(T)\n",
        "\n",
        "del T[:]\n",
        "print(T)\n",
        "\n",
        "try:\n",
        "  del T\n",
        "  print(T)\n",
        "except:\n",
        "  print(\"name 'T' is not defined\")"
      ],
      "metadata": {
        "colab": {
          "base_uri": "https://localhost:8080/"
        },
        "id": "Wsvj1Za2rRSg",
        "outputId": "f77c83b0-e3e0-4b33-befe-5c40316ba753"
      },
      "execution_count": null,
      "outputs": [
        {
          "output_type": "stream",
          "name": "stdout",
          "text": [
            "[2, 3, 4, 5, 6, 7, 8, 9]\n",
            "[2, 3, 6, 7, 8, 9]\n",
            "[]\n",
            "name 'T' is not defined\n"
          ]
        }
      ]
    },
    {
      "cell_type": "markdown",
      "source": [
        "## 이차원 리스트"
      ],
      "metadata": {
        "id": "zWL-XqChrSEJ"
      }
    },
    {
      "cell_type": "code",
      "source": [
        "s = [\n",
        "    [1,2,3,4,5],\n",
        "    [6,7,8,9,10],\n",
        "    [11,12,13,14,15]\n",
        "]\n",
        "\n",
        "print(s)\n",
        "print(s[0][3])"
      ],
      "metadata": {
        "colab": {
          "base_uri": "https://localhost:8080/"
        },
        "id": "kGP_njI8rkdI",
        "outputId": "8e9df0ae-6920-4386-9d54-b8d60586ad11"
      },
      "execution_count": null,
      "outputs": [
        {
          "output_type": "stream",
          "name": "stdout",
          "text": [
            "[[1, 2, 3, 4, 5], [6, 7, 8, 9, 10], [11, 12, 13, 14, 15]]\n",
            "4\n"
          ]
        }
      ]
    },
    {
      "cell_type": "code",
      "source": [
        "# 6이랑 11 같이뽑기?\n",
        "print([s[i][0] for i in range(1,3)])\n",
        "\n",
        "# 안되는거\n",
        "print(s[1:3:][0])"
      ],
      "metadata": {
        "colab": {
          "base_uri": "https://localhost:8080/"
        },
        "id": "s-l5g5f-7Bd9",
        "outputId": "856b4b2c-45ff-4fe7-84d9-c871d6da7b95"
      },
      "execution_count": null,
      "outputs": [
        {
          "output_type": "stream",
          "name": "stdout",
          "text": [
            "[6, 11]\n",
            "[6, 7, 8, 9, 10]\n"
          ]
        }
      ]
    },
    {
      "cell_type": "code",
      "source": [
        "s = [[5*j+i+1 for i in range(5)] for j in range(3)]\n",
        "print(s)\n",
        "print(s[1])  # 행만 지칭한다(하나만 있으면)\n",
        "print(s[1:])\n",
        "print(s[1][0])\n",
        "print(s[2][3:])\n",
        "print(s[0][::-1])"
      ],
      "metadata": {
        "colab": {
          "base_uri": "https://localhost:8080/"
        },
        "id": "mJIEFWzTsg4x",
        "outputId": "c819aa95-9fc9-483e-96d8-1fb6358e244c"
      },
      "execution_count": null,
      "outputs": [
        {
          "output_type": "stream",
          "name": "stdout",
          "text": [
            "[[1, 2, 3, 4, 5], [6, 7, 8, 9, 10], [11, 12, 13, 14, 15]]\n",
            "[6, 7, 8, 9, 10]\n",
            "[[6, 7, 8, 9, 10], [11, 12, 13, 14, 15]]\n",
            "6\n",
            "[14, 15]\n",
            "[5, 4, 3, 2, 1]\n"
          ]
        }
      ]
    },
    {
      "cell_type": "markdown",
      "source": [
        "## assignment vs. shallow copy vs. deep copy"
      ],
      "metadata": {
        "id": "2h7RKp9l38WV"
      }
    },
    {
      "cell_type": "markdown",
      "source": [
        "1차원"
      ],
      "metadata": {
        "id": "OArWm1gY4M1F"
      }
    },
    {
      "cell_type": "code",
      "source": [
        "a = [1,2,3]\n",
        "b = a\n",
        "print(id(a), id(b))\n",
        "b[0] = 5\n",
        "print(a,b)\n",
        "\n",
        "a = [1,2,3]\n",
        "b = a.copy()\n",
        "print(id(a), id(b))\n",
        "b[0] = 5\n",
        "print(a,b)\n",
        "\n",
        "from copy import deepcopy\n",
        "a = [1,2,3]\n",
        "b = deepcopy(a)\n",
        "print(id(a), id(b))\n",
        "b[0] = 5\n",
        "print(a,b)"
      ],
      "metadata": {
        "colab": {
          "base_uri": "https://localhost:8080/"
        },
        "id": "3uOzoRbp38lm",
        "outputId": "86266893-fa69-46aa-f40a-f6e3bbc5476f"
      },
      "execution_count": null,
      "outputs": [
        {
          "output_type": "stream",
          "name": "stdout",
          "text": [
            "139900169029264 139900169029264\n",
            "[5, 2, 3] [5, 2, 3]\n",
            "139900169907328 139900169489536\n",
            "[1, 2, 3] [5, 2, 3]\n",
            "139900169490096 139900169029264\n",
            "[1, 2, 3] [5, 2, 3]\n"
          ]
        }
      ]
    },
    {
      "cell_type": "markdown",
      "source": [
        "2차원"
      ],
      "metadata": {
        "id": "K2DxWu3H4Pq9"
      }
    },
    {
      "cell_type": "code",
      "source": [
        "a = [[1,2],[3,4]]\n",
        "b = a\n",
        "print(id(a), id(b), id(a[0]), id(b[0]))\n",
        "b[0][0] = 5\n",
        "print(a, b)\n",
        "\n",
        "a = [[1,2],[3,4]]\n",
        "b = a.copy()\n",
        "print(id(a), id(b), id(a[0]), id(b[0]))   # 앞에 두개는 다른데 뒤에 두개 id가 같다\n",
        "# 겉에는 달라지는데 안에는 달라지지 않아서 2차원 이상에서는 deepcopy쓰는게 안전\n",
        "b[0][0] = 5\n",
        "print(a, b)\n",
        "\n",
        "from copy import deepcopy\n",
        "a = [[1,2],[3,4]]\n",
        "b = deepcopy(a)\n",
        "print(id(a), id(b), id(a[0]), id(b[0]))\n",
        "b[0][0] = 5\n",
        "print(a, b)"
      ],
      "metadata": {
        "colab": {
          "base_uri": "https://localhost:8080/"
        },
        "id": "1Szv1_Rt4Pdd",
        "outputId": "090116b4-94ee-458c-aafc-a932a31486ef"
      },
      "execution_count": null,
      "outputs": [
        {
          "output_type": "stream",
          "name": "stdout",
          "text": [
            "139900169508976 139900169508976 139900169508736 139900169508736\n",
            "[[5, 2], [3, 4]] [[5, 2], [3, 4]]\n",
            "139900168818272 139900168974896 139900169507216 139900169507216\n",
            "[[5, 2], [3, 4]] [[5, 2], [3, 4]]\n",
            "139900169501984 139900169508976 139900168817312 139900168782544\n",
            "[[1, 2], [3, 4]] [[5, 2], [3, 4]]\n"
          ]
        }
      ]
    },
    {
      "cell_type": "markdown",
      "source": [
        "##List with Loop"
      ],
      "metadata": {
        "id": "BAlOU1M65rrl"
      }
    },
    {
      "cell_type": "code",
      "source": [
        "T = [28,31,33,35,27,26,25]\n",
        "\n",
        "for i in range(len(T)):\n",
        "  print(T[i], end=',')\n",
        "\n",
        "print()\n",
        "\n",
        "for ele in T:\n",
        "  print(ele, end=',')"
      ],
      "metadata": {
        "colab": {
          "base_uri": "https://localhost:8080/"
        },
        "id": "VY-14wqX5q7X",
        "outputId": "c8b694cd-a385-4f12-9d02-f3768b32716e"
      },
      "execution_count": null,
      "outputs": [
        {
          "output_type": "stream",
          "name": "stdout",
          "text": [
            "28,31,33,35,27,26,25,\n",
            "28,31,33,35,27,26,25,"
          ]
        }
      ]
    },
    {
      "cell_type": "code",
      "source": [],
      "metadata": {
        "id": "UBd7k8X0Aqh1"
      },
      "execution_count": null,
      "outputs": []
    },
    {
      "cell_type": "code",
      "source": [],
      "metadata": {
        "id": "m049cUKCAqfd"
      },
      "execution_count": null,
      "outputs": []
    },
    {
      "cell_type": "code",
      "source": [
        "values = [1, 3, 2, 5, 4, 6]\n",
        "\n",
        "values.append(10)\n",
        "\n",
        "values.pop()\n",
        "\n",
        "values.insert(1,20)\n",
        "\n",
        "del values[0:3]\n",
        "\n",
        "values.sort(reverse = True)\n",
        "\n",
        "print(values)"
      ],
      "metadata": {
        "colab": {
          "base_uri": "https://localhost:8080/"
        },
        "id": "9dU2S37IAqTt",
        "outputId": "613d4b19-87fd-4a0e-d1d2-c4ec85df749e"
      },
      "execution_count": null,
      "outputs": [
        {
          "output_type": "stream",
          "name": "stdout",
          "text": [
            "[6, 5, 4, 2]\n"
          ]
        }
      ]
    },
    {
      "cell_type": "code",
      "source": [
        "aList = [1,2,3,4]\n",
        "\n",
        "aList[1:] = [5,6,7]"
      ],
      "metadata": {
        "id": "YFb_eThRAqpA"
      },
      "execution_count": null,
      "outputs": []
    },
    {
      "cell_type": "code",
      "source": [
        "value = [ 1, 2, 3, 4, 5, 6] \n",
        "value[-3:-1]"
      ],
      "metadata": {
        "colab": {
          "base_uri": "https://localhost:8080/"
        },
        "id": "xbusa-RNBDHF",
        "outputId": "e4225f1c-f9af-45a6-e5d7-2f59a8f0a7a9"
      },
      "execution_count": null,
      "outputs": [
        {
          "output_type": "execute_result",
          "data": {
            "text/plain": [
              "[4, 5]"
            ]
          },
          "metadata": {},
          "execution_count": 9
        }
      ]
    },
    {
      "cell_type": "code",
      "source": [
        "sum(value)"
      ],
      "metadata": {
        "id": "MuAr2j-jBMy9",
        "outputId": "a291a6ab-39ba-41f2-dde7-446c3c109ee3",
        "colab": {
          "base_uri": "https://localhost:8080/"
        }
      },
      "execution_count": null,
      "outputs": [
        {
          "output_type": "execute_result",
          "data": {
            "text/plain": [
              "21"
            ]
          },
          "metadata": {},
          "execution_count": 10
        }
      ]
    }
  ]
}