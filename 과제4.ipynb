{
  "nbformat": 4,
  "nbformat_minor": 0,
  "metadata": {
    "colab": {
      "provenance": [],
      "collapsed_sections": [],
      "authorship_tag": "ABX9TyOKTbfF3Txz6AvkcoE46jsx",
      "include_colab_link": true
    },
    "kernelspec": {
      "name": "python3",
      "display_name": "Python 3"
    },
    "language_info": {
      "name": "python"
    }
  },
  "cells": [
    {
      "cell_type": "markdown",
      "metadata": {
        "id": "view-in-github",
        "colab_type": "text"
      },
      "source": [
        "<a href=\"https://colab.research.google.com/github/munmoom/second_semester/blob/main/%EA%B3%BC%EC%A0%9C4.ipynb\" target=\"_parent\"><img src=\"https://colab.research.google.com/assets/colab-badge.svg\" alt=\"Open In Colab\"/></a>"
      ]
    },
    {
      "cell_type": "code",
      "source": [],
      "metadata": {
        "id": "rMLngylOOwCS"
      },
      "execution_count": null,
      "outputs": []
    },
    {
      "cell_type": "code",
      "source": [
        "def solution(stock):\n",
        "  res = 0\n",
        "  i = 0\n",
        "\n",
        "  while i < len(stock)-2:\n",
        "\n",
        "    small = stock[i]\n",
        "    try:\n",
        "      while stock[i+1] <= stock[i]:\n",
        "        i += 1\n",
        "        small = stock[i]\n",
        "    except:\n",
        "        small = stock[i]\n",
        "\n",
        "    try:\n",
        "      big = stock[i]\n",
        "      while i < len(stock)-2 :\n",
        "        i += 1\n",
        "        if big < stock[i]:\n",
        "          big = stock[i]\n",
        "        else:\n",
        "          continue\n",
        "    except:\n",
        "        big = stock[i]\n",
        "\n",
        "    if res < big - small:\n",
        "      res = big - small\n",
        "\n",
        "  return res"
      ],
      "metadata": {
        "id": "Vm_UD7ByQJbS"
      },
      "execution_count": 89,
      "outputs": []
    },
    {
      "cell_type": "code",
      "source": [
        "stock = [1,2]"
      ],
      "metadata": {
        "id": "vxN2AWu6O1uF"
      },
      "execution_count": 106,
      "outputs": []
    },
    {
      "cell_type": "code",
      "source": [
        "res = 0\n",
        "i = 0\n",
        "\n",
        "while i < len(stock)-2:\n",
        "\n",
        "  small = stock[i]\n",
        "  try:\n",
        "    while stock[i+1] <= stock[i]:\n",
        "      i += 1\n",
        "      small = stock[i]\n",
        "  except:\n",
        "      small = stock[i]\n",
        "\n",
        "  print(small)\n",
        "\n",
        "  big = stock[i]\n",
        "  while i <= len(stock)-2 :\n",
        "    i += 1\n",
        "    if big < stock[i]:\n",
        "      big = stock[i]\n",
        "    else:\n",
        "      continue\n",
        "\n",
        "  print(big)\n",
        "\n",
        "  if res < big - small:\n",
        "    res = big - small\n",
        "\n",
        "print(res)"
      ],
      "metadata": {
        "colab": {
          "base_uri": "https://localhost:8080/"
        },
        "id": "SepMYYxWplQF",
        "outputId": "29a2cf33-1971-4e5a-cbd6-0c206bde00d8"
      },
      "execution_count": 111,
      "outputs": [
        {
          "output_type": "stream",
          "name": "stdout",
          "text": [
            "0\n"
          ]
        }
      ]
    },
    {
      "cell_type": "code",
      "source": [
        "print(small)\n",
        "print(big)\n",
        "print(res)"
      ],
      "metadata": {
        "colab": {
          "base_uri": "https://localhost:8080/"
        },
        "id": "ngeg12aVp_7K",
        "outputId": "8145c055-2ffa-48f7-a94f-757572beaa22"
      },
      "execution_count": 112,
      "outputs": [
        {
          "output_type": "stream",
          "name": "stdout",
          "text": [
            "1\n",
            "5\n",
            "0\n"
          ]
        }
      ]
    },
    {
      "cell_type": "code",
      "source": [
        "solution(stock)"
      ],
      "metadata": {
        "colab": {
          "base_uri": "https://localhost:8080/"
        },
        "id": "JdgCjTmKo0cc",
        "outputId": "0c778257-8852-457b-c0fa-1d60c87e73b9"
      },
      "execution_count": 92,
      "outputs": [
        {
          "output_type": "execute_result",
          "data": {
            "text/plain": [
              "0"
            ]
          },
          "metadata": {},
          "execution_count": 92
        }
      ]
    },
    {
      "cell_type": "code",
      "source": [
        "import time\n",
        "\n",
        "start_time = time.time()\n",
        "print(solution(stock))\n",
        "end_time = time.time()\n",
        "\n",
        "print(end_time - start_time)"
      ],
      "metadata": {
        "colab": {
          "base_uri": "https://localhost:8080/"
        },
        "id": "CELtjWLgjj1D",
        "outputId": "12ecd396-fe05-4af5-8c93-2d6a89c0e3ea"
      },
      "execution_count": 83,
      "outputs": [
        {
          "output_type": "stream",
          "name": "stdout",
          "text": [
            "1\n",
            "0.0016963481903076172\n"
          ]
        }
      ]
    },
    {
      "cell_type": "code",
      "source": [
        "import random\n",
        "\n",
        "sample = random.sample(range(1000000), 100000)\n",
        "random.shuffle(sample)\n",
        "\n",
        "print(sample)"
      ],
      "metadata": {
        "id": "unB0JKO-nB8O"
      },
      "execution_count": null,
      "outputs": []
    },
    {
      "cell_type": "code",
      "source": [
        "len(sample)"
      ],
      "metadata": {
        "id": "GoIZCTvnnQ9g"
      },
      "execution_count": null,
      "outputs": []
    }
  ]
}