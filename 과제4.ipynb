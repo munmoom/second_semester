{
  "nbformat": 4,
  "nbformat_minor": 0,
  "metadata": {
    "colab": {
      "provenance": [],
      "authorship_tag": "ABX9TyPGH4Tm4+DxztPsRhEAZJn2",
      "include_colab_link": true
    },
    "kernelspec": {
      "name": "python3",
      "display_name": "Python 3"
    },
    "language_info": {
      "name": "python"
    }
  },
  "cells": [
    {
      "cell_type": "markdown",
      "metadata": {
        "id": "view-in-github",
        "colab_type": "text"
      },
      "source": [
        "<a href=\"https://colab.research.google.com/github/munmoom/second_semester/blob/main/%EA%B3%BC%EC%A0%9C4.ipynb\" target=\"_parent\"><img src=\"https://colab.research.google.com/assets/colab-badge.svg\" alt=\"Open In Colab\"/></a>"
      ]
    },
    {
      "cell_type": "code",
      "source": [
        "def solution(stock):"
      ],
      "metadata": {
        "id": "rMLngylOOwCS"
      },
      "execution_count": null,
      "outputs": []
    },
    {
      "cell_type": "code",
      "source": [
        "stock = [8,2,6,4,7,5]"
      ],
      "metadata": {
        "id": "vxN2AWu6O1uF"
      },
      "execution_count": 16,
      "outputs": []
    },
    {
      "cell_type": "code",
      "source": [
        "res = 0\n",
        "i = 0\n",
        "while i < len(stock)-2:\n",
        "\n",
        "  small = stock[i]\n",
        "  while stock[i+1] <= stock[i]:\n",
        "    i += 1\n",
        "    small = stock[i]\n",
        "\n",
        "  i += 1\n",
        "  big = stock[i]\n",
        "  while stock[i+1] >= stock[i]:\n",
        "    i+=1\n",
        "    big = stock[i]\n",
        "\n",
        "  if res < big - small:\n",
        "    res = big - small\n",
        "\n",
        "print(res)"
      ],
      "metadata": {
        "colab": {
          "base_uri": "https://localhost:8080/"
        },
        "id": "Vm_UD7ByQJbS",
        "outputId": "56ca2364-b05f-40b6-a17b-d440c1ee08e1"
      },
      "execution_count": 40,
      "outputs": [
        {
          "output_type": "stream",
          "name": "stdout",
          "text": [
            "4\n"
          ]
        }
      ]
    },
    {
      "cell_type": "code",
      "source": [
        "print(small)\n",
        "print(big)"
      ],
      "metadata": {
        "colab": {
          "base_uri": "https://localhost:8080/"
        },
        "id": "QR7Kqhw3PJyk",
        "outputId": "fff8b3fa-e392-4e10-afbe-466969ff70c8"
      },
      "execution_count": 13,
      "outputs": [
        {
          "output_type": "stream",
          "name": "stdout",
          "text": [
            "4\n",
            "7\n"
          ]
        }
      ]
    },
    {
      "cell_type": "code",
      "execution_count": 29,
      "metadata": {
        "colab": {
          "base_uri": "https://localhost:8080/"
        },
        "id": "JMbj6ShGNpdP",
        "outputId": "c4bc2fef-5cfd-407b-eb5c-dd90a4b29344"
      },
      "outputs": [
        {
          "output_type": "stream",
          "name": "stdout",
          "text": [
            "2\n"
          ]
        }
      ],
      "source": [
        "res = 0\n",
        "i = 0\n",
        "\n",
        "small = stock[i]\n",
        "while stock[i+1] <= stock[i]:\n",
        "  i += 1\n",
        "  small = stock[i]\n",
        "\n",
        "print(small)"
      ]
    },
    {
      "cell_type": "code",
      "source": [
        "i += 1\n",
        "big = stock[i]\n",
        "while stock[i+1] >= stock[i]:\n",
        "  i+=1\n",
        "  big = stock[i]\n",
        "\n",
        "print(big)"
      ],
      "metadata": {
        "colab": {
          "base_uri": "https://localhost:8080/"
        },
        "id": "nUxNbyXWTKkc",
        "outputId": "add8746d-c5c7-4e26-fc36-6185aa7381c5"
      },
      "execution_count": 35,
      "outputs": [
        {
          "output_type": "stream",
          "name": "stdout",
          "text": [
            "6\n"
          ]
        }
      ]
    },
    {
      "cell_type": "code",
      "source": [
        "i = 0\n",
        "a = i\n",
        "b = i\n",
        "a = i+1\n",
        "print(a)\n",
        "print(b)"
      ],
      "metadata": {
        "colab": {
          "base_uri": "https://localhost:8080/"
        },
        "id": "f3VZlj73Si8-",
        "outputId": "76e95d77-3d57-45b8-d189-7b57f413d242"
      },
      "execution_count": 34,
      "outputs": [
        {
          "output_type": "stream",
          "name": "stdout",
          "text": [
            "1\n",
            "0\n"
          ]
        }
      ]
    }
  ]
}