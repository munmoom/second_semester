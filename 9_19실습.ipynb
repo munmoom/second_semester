{
  "nbformat": 4,
  "nbformat_minor": 0,
  "metadata": {
    "colab": {
      "provenance": [],
      "authorship_tag": "ABX9TyOdPl3Z8nFKsQSpyNsqxTWo",
      "include_colab_link": true
    },
    "kernelspec": {
      "name": "python3",
      "display_name": "Python 3"
    },
    "language_info": {
      "name": "python"
    }
  },
  "cells": [
    {
      "cell_type": "markdown",
      "metadata": {
        "id": "view-in-github",
        "colab_type": "text"
      },
      "source": [
        "<a href=\"https://colab.research.google.com/github/munmoom/second_semester/blob/main/9_19%EC%8B%A4%EC%8A%B5.ipynb\" target=\"_parent\"><img src=\"https://colab.research.google.com/assets/colab-badge.svg\" alt=\"Open In Colab\"/></a>"
      ]
    },
    {
      "cell_type": "code",
      "execution_count": 1,
      "metadata": {
        "colab": {
          "base_uri": "https://localhost:8080/"
        },
        "id": "oC2-id_ApZjM",
        "outputId": "066eea38-89ec-403c-c63c-6c95ac3390df"
      },
      "outputs": [
        {
          "output_type": "execute_result",
          "data": {
            "text/plain": [
              "123"
            ]
          },
          "metadata": {},
          "execution_count": 1
        }
      ],
      "source": [
        "int(float('123')) #문자열을 정수형, 실수형으로"
      ]
    },
    {
      "cell_type": "code",
      "source": [
        "int('Pleasure')  #letter를 정수형으로 바꿀 순 없다"
      ],
      "metadata": {
        "colab": {
          "base_uri": "https://localhost:8080/",
          "height": 172
        },
        "id": "ZN2MTEB2pmL0",
        "outputId": "6ef3184d-a9fb-439a-c41f-396e2f81487c"
      },
      "execution_count": 2,
      "outputs": [
        {
          "output_type": "error",
          "ename": "ValueError",
          "evalue": "ignored",
          "traceback": [
            "\u001b[0;31m---------------------------------------------------------------------------\u001b[0m",
            "\u001b[0;31mValueError\u001b[0m                                Traceback (most recent call last)",
            "\u001b[0;32m<ipython-input-2-2946aefdab90>\u001b[0m in \u001b[0;36m<module>\u001b[0;34m\u001b[0m\n\u001b[0;32m----> 1\u001b[0;31m \u001b[0mint\u001b[0m\u001b[0;34m(\u001b[0m\u001b[0;34m'Pleasure'\u001b[0m\u001b[0;34m)\u001b[0m\u001b[0;34m\u001b[0m\u001b[0;34m\u001b[0m\u001b[0m\n\u001b[0m",
            "\u001b[0;31mValueError\u001b[0m: invalid literal for int() with base 10: 'Pleasure'"
          ]
        }
      ]
    },
    {
      "cell_type": "code",
      "source": [
        "nine = input('nine is ')"
      ],
      "metadata": {
        "colab": {
          "base_uri": "https://localhost:8080/"
        },
        "id": "rQEpO-3Wp48n",
        "outputId": "87f184c1-df14-4229-dfa5-4b12a7bc76b8"
      },
      "execution_count": 14,
      "outputs": [
        {
          "name": "stdout",
          "output_type": "stream",
          "text": [
            "nine is 8.\n"
          ]
        }
      ]
    },
    {
      "cell_type": "code",
      "source": [
        "id(nine)"
      ],
      "metadata": {
        "colab": {
          "base_uri": "https://localhost:8080/"
        },
        "id": "wyAJ0ZzgqBR5",
        "outputId": "885e80cd-b2f9-408b-cab2-ed6b7b5882f6"
      },
      "execution_count": 20,
      "outputs": [
        {
          "output_type": "execute_result",
          "data": {
            "text/plain": [
              "139943753031280"
            ]
          },
          "metadata": {},
          "execution_count": 20
        }
      ]
    },
    {
      "cell_type": "code",
      "source": [
        "b = '8.'      #nine과 같은데도 주소가 다르다. 실행할 때마다 계속 달라진다.(왜?)\n",
        "print(id(b))\n",
        "print(type(b))"
      ],
      "metadata": {
        "colab": {
          "base_uri": "https://localhost:8080/"
        },
        "id": "XEBCjpG4qhvB",
        "outputId": "edbe35e6-fac0-4988-f787-67c3040570f0"
      },
      "execution_count": 37,
      "outputs": [
        {
          "output_type": "stream",
          "name": "stdout",
          "text": [
            "139943752735920\n",
            "<class 'str'>\n"
          ]
        }
      ]
    },
    {
      "cell_type": "code",
      "source": [
        "c = nine\n",
        "print(c)\n",
        "print(id(c))\n",
        "print(type(c))"
      ],
      "metadata": {
        "colab": {
          "base_uri": "https://localhost:8080/"
        },
        "id": "RPnaYE3BqvWF",
        "outputId": "b5f10b79-05d8-47c4-a6a9-d31c1fcc6807"
      },
      "execution_count": 22,
      "outputs": [
        {
          "output_type": "stream",
          "name": "stdout",
          "text": [
            "8.\n",
            "139943753031280\n",
            "<class 'str'>\n"
          ]
        }
      ]
    },
    {
      "cell_type": "code",
      "source": [
        "a = 1\n",
        "print(id(1))"
      ],
      "metadata": {
        "colab": {
          "base_uri": "https://localhost:8080/"
        },
        "id": "ZstgW9a2qGE0",
        "outputId": "1ea4d924-fa8c-4a0a-dba6-4dca72aad7a1"
      },
      "execution_count": 30,
      "outputs": [
        {
          "output_type": "stream",
          "name": "stdout",
          "text": [
            "11122592\n"
          ]
        }
      ]
    },
    {
      "cell_type": "code",
      "source": [
        "a = 1\n",
        "b = a                #둘의 id는 같다\n",
        "print(id(a), id(b))  "
      ],
      "metadata": {
        "colab": {
          "base_uri": "https://localhost:8080/"
        },
        "id": "rQM_fG7zqTR5",
        "outputId": "047a32c5-88c6-4612-b812-17012c4ccf03"
      },
      "execution_count": 38,
      "outputs": [
        {
          "output_type": "stream",
          "name": "stdout",
          "text": [
            "11122592 11122592\n"
          ]
        }
      ]
    },
    {
      "cell_type": "code",
      "source": [
        "a = 2\n",
        "print(a,b)\n",
        "print(id(a), id(b))  #a의 id는 바뀌었다"
      ],
      "metadata": {
        "colab": {
          "base_uri": "https://localhost:8080/"
        },
        "id": "h8OxdaQrqd2j",
        "outputId": "eaf7af54-15dd-40ea-d4bf-f335aafdebb1"
      },
      "execution_count": 43,
      "outputs": [
        {
          "output_type": "stream",
          "name": "stdout",
          "text": [
            "2 1\n",
            "11122624 11122592\n"
          ]
        }
      ]
    },
    {
      "cell_type": "code",
      "source": [
        "[1,2,3]+[4,5,6,1,2,3]   #리스트끼리 더하면 합쳐진다"
      ],
      "metadata": {
        "colab": {
          "base_uri": "https://localhost:8080/"
        },
        "id": "uGiWXdJHqX4n",
        "outputId": "8c2e7259-7a22-4429-eb8a-0ce4eac4b4ae"
      },
      "execution_count": 42,
      "outputs": [
        {
          "output_type": "execute_result",
          "data": {
            "text/plain": [
              "[1, 2, 3, 4, 5, 6, 1, 2, 3]"
            ]
          },
          "metadata": {},
          "execution_count": 42
        }
      ]
    },
    {
      "cell_type": "code",
      "source": [
        "[1,2,3]*3   #리스트에 *면 횟수만큼 반복한다"
      ],
      "metadata": {
        "colab": {
          "base_uri": "https://localhost:8080/"
        },
        "id": "i8avPY5TtqWt",
        "outputId": "7e32707a-9ed9-4e50-c143-dd35a2e80c13"
      },
      "execution_count": 61,
      "outputs": [
        {
          "output_type": "execute_result",
          "data": {
            "text/plain": [
              "[1, 2, 3, 1, 2, 3, 1, 2, 3]"
            ]
          },
          "metadata": {},
          "execution_count": 61
        }
      ]
    },
    {
      "cell_type": "code",
      "source": [
        "a = [1,2,3]\n",
        "b = a                # 둘의 id는 같다\n",
        "print(id(a), id(b)) "
      ],
      "metadata": {
        "colab": {
          "base_uri": "https://localhost:8080/"
        },
        "id": "g_KcTUcDrij2",
        "outputId": "6b880d3a-1558-4dd2-ef9c-b9d4593597b1"
      },
      "execution_count": 44,
      "outputs": [
        {
          "output_type": "stream",
          "name": "stdout",
          "text": [
            "139943752557744 139943752557744\n"
          ]
        }
      ]
    },
    {
      "cell_type": "markdown",
      "source": [
        "a와 b는 리스트를 가리키고 있고, 리스트 내의 인덱스가 원소를 가리키고 있으므로 인덱스가 가리키는 원소를 바꿨다고 a와 b가 가리키는 주소가 바뀌지는 않는다"
      ],
      "metadata": {
        "id": "g116By7kr7os"
      }
    },
    {
      "cell_type": "code",
      "source": [
        "a[0] = 5   #리스트 내 원소를 바꿨다\n",
        "print(a,b)\n",
        "print(id(a), id(b))   # 리스트의 id는 바뀌지 않았다"
      ],
      "metadata": {
        "colab": {
          "base_uri": "https://localhost:8080/"
        },
        "id": "Fpk7UC5protY",
        "outputId": "dbd9de64-a2a7-422e-dd29-748e8c44f07b"
      },
      "execution_count": 45,
      "outputs": [
        {
          "output_type": "stream",
          "name": "stdout",
          "text": [
            "[5, 2, 3] [5, 2, 3]\n",
            "139943752557744 139943752557744\n"
          ]
        }
      ]
    },
    {
      "cell_type": "code",
      "source": [
        "a = 'hello'\n",
        "b = ['hello', 'python']\n",
        "print(id(a), id(b[0]), id(b))   #앞의 두 개는 같고 뒤의 하나는 다르다"
      ],
      "metadata": {
        "colab": {
          "base_uri": "https://localhost:8080/"
        },
        "id": "TweCRX6-sQdE",
        "outputId": "42ab6ae3-6287-4d2b-93af-a6461b7a1c39"
      },
      "execution_count": 46,
      "outputs": [
        {
          "output_type": "stream",
          "name": "stdout",
          "text": [
            "139943965817392 139943965817392 139943752358480\n"
          ]
        }
      ]
    },
    {
      "cell_type": "code",
      "source": [
        "b[0] = 5\n",
        "print(a,b)\n",
        "print(id(a), id(b))"
      ],
      "metadata": {
        "colab": {
          "base_uri": "https://localhost:8080/"
        },
        "id": "RnFPvHvssdK5",
        "outputId": "beaf8cb9-c7d2-4739-bf18-d9a986e7681c"
      },
      "execution_count": 47,
      "outputs": [
        {
          "output_type": "stream",
          "name": "stdout",
          "text": [
            "hello [5, 'python']\n",
            "139943965817392 139943752358480\n"
          ]
        }
      ]
    },
    {
      "cell_type": "code",
      "source": [
        "a = 1\n",
        "print(id(a))"
      ],
      "metadata": {
        "colab": {
          "base_uri": "https://localhost:8080/"
        },
        "id": "y7fQcQEzsmJe",
        "outputId": "baa8a07a-a46f-4aeb-89c4-4588954ee87c"
      },
      "execution_count": 48,
      "outputs": [
        {
          "output_type": "stream",
          "name": "stdout",
          "text": [
            "11122592\n"
          ]
        }
      ]
    },
    {
      "cell_type": "code",
      "source": [
        "a = b = c = 1  #python에서만 가능\n",
        "print(id(a), id(b), id(c)) "
      ],
      "metadata": {
        "colab": {
          "base_uri": "https://localhost:8080/"
        },
        "id": "ZMb3u7b1stUw",
        "outputId": "8bd870e1-c7b6-426f-aed3-3deb339612c1"
      },
      "execution_count": 49,
      "outputs": [
        {
          "output_type": "stream",
          "name": "stdout",
          "text": [
            "11122592 11122592 11122592\n"
          ]
        }
      ]
    },
    {
      "cell_type": "code",
      "source": [
        "a, b = 1, 2\n",
        "print(id(a), id(b)) "
      ],
      "metadata": {
        "colab": {
          "base_uri": "https://localhost:8080/"
        },
        "id": "Yuomm4CIs3WA",
        "outputId": "b529a8ac-ca2d-435e-8bbe-b094754c2d05"
      },
      "execution_count": 55,
      "outputs": [
        {
          "output_type": "stream",
          "name": "stdout",
          "text": [
            "11122592 11122624\n"
          ]
        }
      ]
    },
    {
      "cell_type": "code",
      "source": [
        "print(id(2))"
      ],
      "metadata": {
        "colab": {
          "base_uri": "https://localhost:8080/"
        },
        "id": "HjZR7trJs7j4",
        "outputId": "32dfeb63-1b17-4583-ec68-1b225abac90b"
      },
      "execution_count": 52,
      "outputs": [
        {
          "output_type": "stream",
          "name": "stdout",
          "text": [
            "11122624\n"
          ]
        }
      ]
    },
    {
      "cell_type": "code",
      "source": [
        "a, b = b, a   #자리바꿈\n",
        "print(a, b)\n",
        "print(id(a), id(b)) "
      ],
      "metadata": {
        "colab": {
          "base_uri": "https://localhost:8080/"
        },
        "id": "9HTCfklNtBc3",
        "outputId": "ec8b6df8-d986-4669-e777-0de01e23a0bd"
      },
      "execution_count": 56,
      "outputs": [
        {
          "output_type": "stream",
          "name": "stdout",
          "text": [
            "2 1\n",
            "11122624 11122592\n"
          ]
        }
      ]
    },
    {
      "cell_type": "code",
      "source": [
        "'nine '*9   #문자열에 *면 횟수만큼 반복한다"
      ],
      "metadata": {
        "colab": {
          "base_uri": "https://localhost:8080/",
          "height": 35
        },
        "id": "vSFoezU7tHwf",
        "outputId": "413617c8-1ae6-4746-ec57-80f36bf1af6a"
      },
      "execution_count": 58,
      "outputs": [
        {
          "output_type": "execute_result",
          "data": {
            "text/plain": [
              "'nine nine nine nine nine nine nine nine nine '"
            ],
            "application/vnd.google.colaboratory.intrinsic+json": {
              "type": "string"
            }
          },
          "metadata": {},
          "execution_count": 58
        }
      ]
    },
    {
      "cell_type": "code",
      "source": [
        "1 + 2*7"
      ],
      "metadata": {
        "colab": {
          "base_uri": "https://localhost:8080/"
        },
        "id": "YFr8kf6ltYaE",
        "outputId": "6cd00f55-52e4-40d0-8c31-99e456addd73"
      },
      "execution_count": 59,
      "outputs": [
        {
          "output_type": "execute_result",
          "data": {
            "text/plain": [
              "15"
            ]
          },
          "metadata": {},
          "execution_count": 59
        }
      ]
    },
    {
      "cell_type": "code",
      "source": [
        "'Hello' + ' ' + 'World'   #문자열에 +면 붙여쓴다"
      ],
      "metadata": {
        "colab": {
          "base_uri": "https://localhost:8080/",
          "height": 35
        },
        "id": "Xpz_9CFFtbpN",
        "outputId": "19eb749d-fa12-463c-f64a-2877faba14d9"
      },
      "execution_count": 60,
      "outputs": [
        {
          "output_type": "execute_result",
          "data": {
            "text/plain": [
              "'Hello World'"
            ],
            "application/vnd.google.colaboratory.intrinsic+json": {
              "type": "string"
            }
          },
          "metadata": {},
          "execution_count": 60
        }
      ]
    }
  ]
}