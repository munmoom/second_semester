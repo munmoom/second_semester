{
  "nbformat": 4,
  "nbformat_minor": 0,
  "metadata": {
    "colab": {
      "provenance": [],
      "authorship_tag": "ABX9TyOKJo8f2NEw3N3BXA68TNQC",
      "include_colab_link": true
    },
    "kernelspec": {
      "name": "python3",
      "display_name": "Python 3"
    },
    "language_info": {
      "name": "python"
    }
  },
  "cells": [
    {
      "cell_type": "markdown",
      "metadata": {
        "id": "view-in-github",
        "colab_type": "text"
      },
      "source": [
        "<a href=\"https://colab.research.google.com/github/munmoom/second_semester/blob/main/Testcase%EB%A7%8C%EB%93%A4%EA%B8%B0.ipynb\" target=\"_parent\"><img src=\"https://colab.research.google.com/assets/colab-badge.svg\" alt=\"Open In Colab\"/></a>"
      ]
    },
    {
      "cell_type": "code",
      "execution_count": null,
      "metadata": {
        "colab": {
          "base_uri": "https://localhost:8080/"
        },
        "id": "n4-xgDbm9hHm",
        "outputId": "501c6054-9717-4b68-9b28-856ffe3d79d4"
      },
      "outputs": [
        {
          "output_type": "stream",
          "name": "stdout",
          "text": [
            "[2, 1, 1, 1, 2, 2, 1, 2, 3, 1]\n"
          ]
        }
      ],
      "source": [
        "import random\n",
        "\n",
        "base = [1,2,3]\n",
        "sample = random.choices(base, k=10)\n",
        "print(sample)"
      ]
    },
    {
      "cell_type": "code",
      "source": [
        "import random\n",
        "\n",
        "base = [1,2,3,4,5,56,2,3412,243,45,35,34,3,53]\n",
        "sample = random.choices(base, k=100)\n",
        "print(sample)"
      ],
      "metadata": {
        "colab": {
          "base_uri": "https://localhost:8080/"
        },
        "id": "IU--IeRh90S7",
        "outputId": "e92b7b1a-5f88-4aaa-9ff2-27a49ac4f0f7"
      },
      "execution_count": null,
      "outputs": [
        {
          "output_type": "stream",
          "name": "stdout",
          "text": [
            "[243, 35, 35, 4, 53, 1, 34, 3, 2, 3412, 35, 4, 1, 2, 56, 3412, 3412, 4, 243, 4, 56, 1, 34, 3412, 45, 3412, 34, 1, 56, 56, 34, 45, 4, 56, 56, 4, 3, 1, 3, 35, 3412, 3, 1, 34, 3412, 3, 3, 3412, 2, 2, 243, 3, 2, 3, 2, 35, 4, 53, 4, 2, 2, 4, 5, 56, 1, 5, 34, 56, 1, 2, 4, 3412, 56, 35, 35, 45, 35, 35, 53, 3412, 5, 3, 243, 3, 53, 3, 53, 5, 2, 2, 3, 2, 34, 243, 243, 2, 1, 243, 1, 2]\n"
          ]
        }
      ]
    },
    {
      "cell_type": "code",
      "source": [
        "list1 = [1,2,3]\n",
        "list2 = list1.copy()\n",
        "list3 = list1 + list2\n",
        "\n",
        "print(list3)"
      ],
      "metadata": {
        "id": "82778vBRGqWp",
        "outputId": "0bfd3d48-2f2b-4092-f8f7-b49a06b82183",
        "colab": {
          "base_uri": "https://localhost:8080/"
        }
      },
      "execution_count": 63,
      "outputs": [
        {
          "output_type": "stream",
          "name": "stdout",
          "text": [
            "[1, 2, 3, 1, 2, 3]\n"
          ]
        }
      ]
    },
    {
      "cell_type": "code",
      "source": [
        "k=2\n",
        "for i in sample3:\n",
        "  if sample3.count(k) == 0:\n",
        "     sample3.append(k)\n",
        "     print('Go')"
      ],
      "metadata": {
        "id": "kcaqgPBAAKRQ",
        "outputId": "b5cb2729-cd08-4e40-fa67-90d240f7ebc8",
        "colab": {
          "base_uri": "https://localhost:8080/"
        }
      },
      "execution_count": 70,
      "outputs": [
        {
          "output_type": "stream",
          "name": "stdout",
          "text": [
            "Go\n"
          ]
        }
      ]
    },
    {
      "cell_type": "code",
      "source": [
        "import random\n",
        "\n",
        "\n",
        "base = []\n",
        "for i in range(-9*10^6, 9*10^6):\n",
        "  base.append(i)\n",
        "\n",
        "sample1 = random.choices(base, k=10)\n",
        "sample2 = sample1.copy()\n",
        "sample3 = sample1 + sample2\n",
        "\n",
        "print(sample3)\n"
      ],
      "metadata": {
        "id": "YHTFFpE2975y",
        "outputId": "934c4387-a372-4d79-8186-ecbce9a190f4",
        "colab": {
          "base_uri": "https://localhost:8080/"
        }
      },
      "execution_count": 64,
      "outputs": [
        {
          "output_type": "stream",
          "name": "stdout",
          "text": [
            "[44, -37, 60, -48, 27, -62, 88, 42, -24, 59, 44, -37, 60, -48, 27, -62, 88, 42, -24, 59]\n"
          ]
        }
      ]
    },
    {
      "cell_type": "code",
      "source": [
        "type(base[1])"
      ],
      "metadata": {
        "id": "4jR14ozW-nap",
        "outputId": "b8d03f0c-3e0a-426a-a8d2-b73befee2cb0",
        "colab": {
          "base_uri": "https://localhost:8080/"
        }
      },
      "execution_count": 2,
      "outputs": [
        {
          "output_type": "execute_result",
          "data": {
            "text/plain": [
              "int"
            ]
          },
          "metadata": {},
          "execution_count": 2
        }
      ]
    },
    {
      "cell_type": "markdown",
      "source": [
        "과제 2 테스트하기"
      ],
      "metadata": {
        "id": "Y0zHmPJO-vHk"
      }
    },
    {
      "cell_type": "code",
      "source": [
        "def solution(inputList):\n",
        "  inputList.sort()                                    #slicing을 위해 정렬\n",
        "  for i in set(inputList)-set(inputList[1::2]):       #홀수번째 원소 집합과 짝수번째 원소 집합의 차집합\n",
        "    return i\n",
        "\n",
        "print(solution(sample3))"
      ],
      "metadata": {
        "id": "3LUP5DO5-ur2",
        "outputId": "d19ed484-9653-482f-c826-a9ae8d49048a",
        "colab": {
          "base_uri": "https://localhost:8080/"
        }
      },
      "execution_count": 71,
      "outputs": [
        {
          "output_type": "stream",
          "name": "stdout",
          "text": [
            "2\n"
          ]
        }
      ]
    }
  ]
}