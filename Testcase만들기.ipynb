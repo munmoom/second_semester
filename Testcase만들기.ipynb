{
  "nbformat": 4,
  "nbformat_minor": 0,
  "metadata": {
    "colab": {
      "provenance": [],
      "authorship_tag": "ABX9TyPqd7x95UnTdG2FxRp7X4m7",
      "include_colab_link": true
    },
    "kernelspec": {
      "name": "python3",
      "display_name": "Python 3"
    },
    "language_info": {
      "name": "python"
    }
  },
  "cells": [
    {
      "cell_type": "markdown",
      "metadata": {
        "id": "view-in-github",
        "colab_type": "text"
      },
      "source": [
        "<a href=\"https://colab.research.google.com/github/munmoom/second_semester/blob/main/Testcase%EB%A7%8C%EB%93%A4%EA%B8%B0.ipynb\" target=\"_parent\"><img src=\"https://colab.research.google.com/assets/colab-badge.svg\" alt=\"Open In Colab\"/></a>"
      ]
    },
    {
      "cell_type": "code",
      "execution_count": 2,
      "metadata": {
        "colab": {
          "base_uri": "https://localhost:8080/"
        },
        "id": "n4-xgDbm9hHm",
        "outputId": "501c6054-9717-4b68-9b28-856ffe3d79d4"
      },
      "outputs": [
        {
          "output_type": "stream",
          "name": "stdout",
          "text": [
            "[2, 1, 1, 1, 2, 2, 1, 2, 3, 1]\n"
          ]
        }
      ],
      "source": [
        "import random\n",
        "\n",
        "base = [1,2,3]\n",
        "sample = random.choices(base, k=10)\n",
        "print(sample)"
      ]
    },
    {
      "cell_type": "code",
      "source": [
        "import random\n",
        "\n",
        "base = [1,2,3,4,5,56,2,3412,243,45,35,34,3,53]\n",
        "sample = random.choices(base, k=100)\n",
        "print(sample)"
      ],
      "metadata": {
        "colab": {
          "base_uri": "https://localhost:8080/"
        },
        "id": "IU--IeRh90S7",
        "outputId": "e92b7b1a-5f88-4aaa-9ff2-27a49ac4f0f7"
      },
      "execution_count": 4,
      "outputs": [
        {
          "output_type": "stream",
          "name": "stdout",
          "text": [
            "[243, 35, 35, 4, 53, 1, 34, 3, 2, 3412, 35, 4, 1, 2, 56, 3412, 3412, 4, 243, 4, 56, 1, 34, 3412, 45, 3412, 34, 1, 56, 56, 34, 45, 4, 56, 56, 4, 3, 1, 3, 35, 3412, 3, 1, 34, 3412, 3, 3, 3412, 2, 2, 243, 3, 2, 3, 2, 35, 4, 53, 4, 2, 2, 4, 5, 56, 1, 5, 34, 56, 1, 2, 4, 3412, 56, 35, 35, 45, 35, 35, 53, 3412, 5, 3, 243, 3, 53, 3, 53, 5, 2, 2, 3, 2, 34, 243, 243, 2, 1, 243, 1, 2]\n"
          ]
        }
      ]
    },
    {
      "cell_type": "code",
      "source": [],
      "metadata": {
        "id": "YHTFFpE2975y"
      },
      "execution_count": null,
      "outputs": []
    }
  ]
}