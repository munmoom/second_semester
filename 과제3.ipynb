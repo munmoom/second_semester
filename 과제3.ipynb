{
  "nbformat": 4,
  "nbformat_minor": 0,
  "metadata": {
    "colab": {
      "provenance": [],
      "collapsed_sections": [],
      "authorship_tag": "ABX9TyObPYE53AnOfvzYGbpKv5hE",
      "include_colab_link": true
    },
    "kernelspec": {
      "name": "python3",
      "display_name": "Python 3"
    },
    "language_info": {
      "name": "python"
    }
  },
  "cells": [
    {
      "cell_type": "markdown",
      "metadata": {
        "id": "view-in-github",
        "colab_type": "text"
      },
      "source": [
        "<a href=\"https://colab.research.google.com/github/munmoom/second_semester/blob/main/%EA%B3%BC%EC%A0%9C3.ipynb\" target=\"_parent\"><img src=\"https://colab.research.google.com/assets/colab-badge.svg\" alt=\"Open In Colab\"/></a>"
      ]
    },
    {
      "cell_type": "code",
      "execution_count": 1,
      "metadata": {
        "id": "OlctJNJTMfiD"
      },
      "outputs": [],
      "source": [
        "nums = [1,1,1,1,1,1,1]"
      ]
    },
    {
      "cell_type": "code",
      "source": [
        "i = 3"
      ],
      "metadata": {
        "id": "eid2qKjBMhx8"
      },
      "execution_count": 2,
      "outputs": []
    },
    {
      "cell_type": "code",
      "source": [
        "befo_odd = nums[:i]\n",
        "print(befo_odd)"
      ],
      "metadata": {
        "colab": {
          "base_uri": "https://localhost:8080/"
        },
        "id": "vaSp4xI3MlRD",
        "outputId": "787e2473-883b-4f36-d966-6f2503b888d1"
      },
      "execution_count": 13,
      "outputs": [
        {
          "output_type": "stream",
          "name": "stdout",
          "text": [
            "[1, 1, 1]\n"
          ]
        }
      ]
    },
    {
      "cell_type": "code",
      "source": [
        "befo_even = nums[:i+1]\n",
        "print(befo_even)"
      ],
      "metadata": {
        "colab": {
          "base_uri": "https://localhost:8080/"
        },
        "id": "D06iszj4MmYL",
        "outputId": "6681ffd4-2475-4bd0-a304-db4245fa848b"
      },
      "execution_count": 14,
      "outputs": [
        {
          "output_type": "stream",
          "name": "stdout",
          "text": [
            "[1, 1, 1, 1]\n"
          ]
        }
      ]
    },
    {
      "cell_type": "code",
      "source": [
        "afte = nums[i+1:]\n",
        "afte"
      ],
      "metadata": {
        "colab": {
          "base_uri": "https://localhost:8080/"
        },
        "id": "489l2n8fMoRS",
        "outputId": "1cd71880-954a-4986-c8b9-cfc52e305997"
      },
      "execution_count": 15,
      "outputs": [
        {
          "output_type": "execute_result",
          "data": {
            "text/plain": [
              "[1, 1, 1]"
            ]
          },
          "metadata": {},
          "execution_count": 15
        }
      ]
    },
    {
      "cell_type": "code",
      "source": [
        "def length_to_same(befo, afte):\n",
        "    b,a = len(befo), len(afte)\n",
        "    if b > a:\n",
        "      befo = befo[:-a-1:-1]\n",
        "    if a > b:\n",
        "      afte = afte[b-1::-1]\n",
        "      befo.reverse()\n",
        "      afte.reverse()\n",
        "    return befo, afte"
      ],
      "metadata": {
        "id": "jqlLZVa-Mqal"
      },
      "execution_count": 6,
      "outputs": []
    },
    {
      "cell_type": "code",
      "source": [
        "t_odd = length_to_same(befo_odd, afte)\n",
        "t_odd"
      ],
      "metadata": {
        "colab": {
          "base_uri": "https://localhost:8080/"
        },
        "id": "BzU-XLyqMzeH",
        "outputId": "d612914c-2468-4624-deb1-47fd586bf7ab"
      },
      "execution_count": 16,
      "outputs": [
        {
          "output_type": "execute_result",
          "data": {
            "text/plain": [
              "([1, 1, 1], [1, 1, 1])"
            ]
          },
          "metadata": {},
          "execution_count": 16
        }
      ]
    },
    {
      "cell_type": "code",
      "source": [
        "befo_odd = t_odd[0]"
      ],
      "metadata": {
        "id": "kbxmqcwkM6U2"
      },
      "execution_count": 8,
      "outputs": []
    },
    {
      "cell_type": "code",
      "source": [
        "afte_odd = t_odd[1]"
      ],
      "metadata": {
        "id": "_KGTXYw5M_fP"
      },
      "execution_count": 9,
      "outputs": []
    },
    {
      "cell_type": "code",
      "source": [
        "t_even = length_to_same(befo_even, afte)\n",
        "t_even"
      ],
      "metadata": {
        "colab": {
          "base_uri": "https://localhost:8080/"
        },
        "id": "qPsL1pgDNBBN",
        "outputId": "4cd1e218-9685-40bd-e286-18c7940ed70d"
      },
      "execution_count": 17,
      "outputs": [
        {
          "output_type": "execute_result",
          "data": {
            "text/plain": [
              "([1, 1, 1], [1, 1, 1])"
            ]
          },
          "metadata": {},
          "execution_count": 17
        }
      ]
    },
    {
      "cell_type": "code",
      "source": [
        "befo_even = t_even[0]"
      ],
      "metadata": {
        "id": "A0wVp5g1NCkZ"
      },
      "execution_count": 11,
      "outputs": []
    },
    {
      "cell_type": "code",
      "source": [
        "afte_even = t_even[1]\n",
        "afte_even"
      ],
      "metadata": {
        "colab": {
          "base_uri": "https://localhost:8080/"
        },
        "id": "4nSmYhsiNFx1",
        "outputId": "b6a012d2-1813-4513-b06a-931781266af1"
      },
      "execution_count": 18,
      "outputs": [
        {
          "output_type": "execute_result",
          "data": {
            "text/plain": [
              "[1, 1, 1]"
            ]
          },
          "metadata": {},
          "execution_count": 18
        }
      ]
    },
    {
      "cell_type": "code",
      "source": [
        "n = 0\n",
        "P_length = []"
      ],
      "metadata": {
        "id": "YZ76bcqYNeLW"
      },
      "execution_count": 46,
      "outputs": []
    },
    {
      "cell_type": "code",
      "source": [
        "for k in befo_odd:\n",
        "     if k == afte_odd[n]:\n",
        "        n += 1\n",
        "     else:\n",
        "        break\n",
        "P_length.append((n)*2+1) \n",
        "         \n",
        "P_length"
      ],
      "metadata": {
        "colab": {
          "base_uri": "https://localhost:8080/"
        },
        "id": "CHhKbWizNhhA",
        "outputId": "b823a7c4-3c2e-4f6d-c7a5-16bf9e503413"
      },
      "execution_count": 47,
      "outputs": [
        {
          "output_type": "execute_result",
          "data": {
            "text/plain": [
              "[7]"
            ]
          },
          "metadata": {},
          "execution_count": 47
        }
      ]
    },
    {
      "cell_type": "code",
      "source": [
        "def longest_palindrome(nums):\n",
        "    \n",
        "    for i in range(0, len(nums)):\n",
        "      if len(nums) == 1:\n",
        "        breakc"
      ],
      "metadata": {
        "id": "qXz8ZdwtRpUV"
      },
      "execution_count": null,
      "outputs": []
    },
    {
      "cell_type": "code",
      "source": [
        " nums = [1,1,1,1,1,1,1]\n",
        "      i = 3\n",
        "      #P의 길이를 홀수라고 가정했다면\n",
        "      befo_odd = nums[:i]\n",
        "      #P의 길이를 짝수라고 가정했다면\n",
        "      befo_even = nums[:i+1]\n",
        "      afte = nums[i+1:]\n",
        "      t_odd = length_to_same(befo_odd, afte)\n",
        "      befo_odd = t_odd[0]\n",
        "      afte_odd = t_odd[1]\n",
        "      t_even = length_to_same(befo_even, afte)\n",
        "      befo_even = t_even[0]\n",
        "      afte_even = t_even[1]\n",
        "\n",
        "      P_length = [1]\n",
        "        \n",
        "      n = 0\n",
        "      for k in befo_odd:\n",
        "        if k == afte_odd[n]:\n",
        "          n += 1\n",
        "        else:\n",
        "          break\n",
        "      P_length.append((n)*2+1) \n",
        "            \n",
        "        \n",
        "      n = 0\n",
        "      for k in befo_even:\n",
        "        if k == afte_even[n]:\n",
        "          n += 1\n",
        "        else:\n",
        "          break\n",
        "      P_length.append((n)*2) \n",
        "    \n",
        "            \n",
        "      print(P_length)"
      ],
      "metadata": {
        "id": "iQ3r_8z_ONOJ"
      },
      "execution_count": null,
      "outputs": []
    },
    {
      "cell_type": "code",
      "source": [],
      "metadata": {
        "id": "VksJOed0QVr4"
      },
      "execution_count": null,
      "outputs": []
    },
    {
      "cell_type": "code",
      "source": [],
      "metadata": {
        "id": "Fp153qNhQVvd"
      },
      "execution_count": null,
      "outputs": []
    },
    {
      "cell_type": "code",
      "source": [],
      "metadata": {
        "id": "eMZ1ut2kQVxW"
      },
      "execution_count": null,
      "outputs": []
    },
    {
      "cell_type": "code",
      "source": [],
      "metadata": {
        "id": "LJ6kqxSeQVzZ"
      },
      "execution_count": null,
      "outputs": []
    },
    {
      "cell_type": "code",
      "source": [],
      "metadata": {
        "id": "u6VVXDv9QV18"
      },
      "execution_count": null,
      "outputs": []
    },
    {
      "cell_type": "code",
      "source": [],
      "metadata": {
        "id": "4K_yFSVJQV4n"
      },
      "execution_count": null,
      "outputs": []
    },
    {
      "cell_type": "code",
      "source": [],
      "metadata": {
        "id": "h-MGguCbQV62"
      },
      "execution_count": null,
      "outputs": []
    },
    {
      "cell_type": "code",
      "source": [],
      "metadata": {
        "id": "yrgtawVbQV9L"
      },
      "execution_count": null,
      "outputs": []
    },
    {
      "cell_type": "code",
      "source": [],
      "metadata": {
        "id": "JueA3_VfQV_X"
      },
      "execution_count": null,
      "outputs": []
    },
    {
      "cell_type": "code",
      "source": [],
      "metadata": {
        "id": "KlDr0F2FQWDh"
      },
      "execution_count": null,
      "outputs": []
    },
    {
      "cell_type": "code",
      "source": [],
      "metadata": {
        "id": "zKzYGJVDQWGq"
      },
      "execution_count": null,
      "outputs": []
    }
  ]
}