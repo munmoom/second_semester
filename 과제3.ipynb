{
  "nbformat": 4,
  "nbformat_minor": 0,
  "metadata": {
    "colab": {
      "provenance": [],
      "collapsed_sections": [],
      "authorship_tag": "ABX9TyM9lrvM1F5OtJrv0VBdIffe",
      "include_colab_link": true
    },
    "kernelspec": {
      "name": "python3",
      "display_name": "Python 3"
    },
    "language_info": {
      "name": "python"
    }
  },
  "cells": [
    {
      "cell_type": "markdown",
      "metadata": {
        "id": "view-in-github",
        "colab_type": "text"
      },
      "source": [
        "<a href=\"https://colab.research.google.com/github/munmoom/second_semester/blob/main/%EA%B3%BC%EC%A0%9C3.ipynb\" target=\"_parent\"><img src=\"https://colab.research.google.com/assets/colab-badge.svg\" alt=\"Open In Colab\"/></a>"
      ]
    },
    {
      "cell_type": "code",
      "execution_count": 4,
      "metadata": {
        "id": "OlctJNJTMfiD"
      },
      "outputs": [],
      "source": [
        "nums = [1,1,1,1,1,1,1]"
      ]
    },
    {
      "cell_type": "code",
      "source": [
        "i = 3"
      ],
      "metadata": {
        "id": "eid2qKjBMhx8"
      },
      "execution_count": 5,
      "outputs": []
    },
    {
      "cell_type": "code",
      "source": [
        "befo_odd = nums[:i]\n",
        "print(befo_odd)"
      ],
      "metadata": {
        "colab": {
          "base_uri": "https://localhost:8080/"
        },
        "id": "vaSp4xI3MlRD",
        "outputId": "e130f77c-1810-40e6-fd2a-b4649f38e7e8"
      },
      "execution_count": 6,
      "outputs": [
        {
          "output_type": "stream",
          "name": "stdout",
          "text": [
            "[1, 1, 1]\n"
          ]
        }
      ]
    },
    {
      "cell_type": "code",
      "source": [
        "befo_even = nums[:i+1]\n",
        "print(befo_even)"
      ],
      "metadata": {
        "colab": {
          "base_uri": "https://localhost:8080/"
        },
        "id": "D06iszj4MmYL",
        "outputId": "f6966921-32f6-4899-81fd-eb0683425da5"
      },
      "execution_count": 7,
      "outputs": [
        {
          "output_type": "stream",
          "name": "stdout",
          "text": [
            "[1, 1, 1, 1]\n"
          ]
        }
      ]
    },
    {
      "cell_type": "code",
      "source": [
        "afte = nums[i+1:]\n",
        "afte"
      ],
      "metadata": {
        "colab": {
          "base_uri": "https://localhost:8080/"
        },
        "id": "489l2n8fMoRS",
        "outputId": "bf98a8d1-2365-4307-d374-5883a569d20a"
      },
      "execution_count": 8,
      "outputs": [
        {
          "output_type": "execute_result",
          "data": {
            "text/plain": [
              "[1, 1, 1]"
            ]
          },
          "metadata": {},
          "execution_count": 8
        }
      ]
    },
    {
      "cell_type": "code",
      "source": [
        "t_odd = length_to_same(befo_odd, afte)\n",
        "t_odd"
      ],
      "metadata": {
        "colab": {
          "base_uri": "https://localhost:8080/"
        },
        "id": "BzU-XLyqMzeH",
        "outputId": "28eb09ea-ebc6-4b9f-faea-c5946ebd94b0"
      },
      "execution_count": 9,
      "outputs": [
        {
          "output_type": "execute_result",
          "data": {
            "text/plain": [
              "([1, 1, 1], [1, 1, 1])"
            ]
          },
          "metadata": {},
          "execution_count": 9
        }
      ]
    },
    {
      "cell_type": "code",
      "source": [
        "befo_odd = t_odd[0]"
      ],
      "metadata": {
        "id": "kbxmqcwkM6U2"
      },
      "execution_count": 10,
      "outputs": []
    },
    {
      "cell_type": "code",
      "source": [
        "afte_odd = t_odd[1]"
      ],
      "metadata": {
        "id": "_KGTXYw5M_fP"
      },
      "execution_count": 11,
      "outputs": []
    },
    {
      "cell_type": "code",
      "source": [
        "t_even = length_to_same(befo_even, afte)\n",
        "t_even"
      ],
      "metadata": {
        "colab": {
          "base_uri": "https://localhost:8080/"
        },
        "id": "qPsL1pgDNBBN",
        "outputId": "3d899cad-dd6b-4427-fdf9-05d9b9dc07f5"
      },
      "execution_count": 12,
      "outputs": [
        {
          "output_type": "execute_result",
          "data": {
            "text/plain": [
              "([1, 1, 1], [1, 1, 1])"
            ]
          },
          "metadata": {},
          "execution_count": 12
        }
      ]
    },
    {
      "cell_type": "code",
      "source": [
        "befo_even = t_even[0]"
      ],
      "metadata": {
        "id": "A0wVp5g1NCkZ"
      },
      "execution_count": 13,
      "outputs": []
    },
    {
      "cell_type": "code",
      "source": [
        "afte_even = t_even[1]\n",
        "afte_even"
      ],
      "metadata": {
        "colab": {
          "base_uri": "https://localhost:8080/"
        },
        "id": "4nSmYhsiNFx1",
        "outputId": "13ab1e08-5f4e-4233-889f-48f910afb03f"
      },
      "execution_count": 14,
      "outputs": [
        {
          "output_type": "execute_result",
          "data": {
            "text/plain": [
              "[1, 1, 1]"
            ]
          },
          "metadata": {},
          "execution_count": 14
        }
      ]
    },
    {
      "cell_type": "code",
      "source": [
        "n = 0\n",
        "P_length = []"
      ],
      "metadata": {
        "id": "YZ76bcqYNeLW"
      },
      "execution_count": 15,
      "outputs": []
    },
    {
      "cell_type": "code",
      "source": [
        "for k in befo_odd:\n",
        "     if k == afte_odd[n]:\n",
        "        n += 1\n",
        "     else:\n",
        "        break\n",
        "P_length.append((n)*2+1) \n",
        "         \n",
        "P_length"
      ],
      "metadata": {
        "colab": {
          "base_uri": "https://localhost:8080/"
        },
        "id": "CHhKbWizNhhA",
        "outputId": "d8d1180d-56aa-49ee-9cf1-c8aa2db2d538"
      },
      "execution_count": 16,
      "outputs": [
        {
          "output_type": "execute_result",
          "data": {
            "text/plain": [
              "[7]"
            ]
          },
          "metadata": {},
          "execution_count": 16
        }
      ]
    },
    {
      "cell_type": "code",
      "source": [
        "def longest_palindrome(nums):\n",
        "    \n",
        "    for i in range(0, len(nums)):\n",
        "      if len(nums) == 1:\n",
        "        break\n",
        "    \n",
        "      befo_odd = nums[:i]\n",
        "      befo_even = nums[:i+1]\n",
        "      afte = nums[i+1:]\n",
        "\n",
        "      t_odd = length_to_same(befo_odd, afte)\n",
        "      befo_odd = t_odd[0]\n",
        "      afte_odd = t_odd[1]\n",
        "      \n",
        "      t_even = length_to_same(befo_even, afte)\n",
        "      befo_even = t_even[0]\n",
        "      afte_even = t_even[1]\n",
        "\n",
        "      P_length = [1]\n",
        "              \n",
        "      n = 0\n",
        "      for k in befo_odd:\n",
        "        if k == afte_odd[n]:\n",
        "          n += 1\n",
        "        else:\n",
        "          break\n",
        "      P_length.append(n*2+1) \n",
        "                  \n",
        "      n = 0\n",
        "      for k in befo_even:\n",
        "        if k == afte_even[n]:\n",
        "          n += 1\n",
        "        else:\n",
        "          break\n",
        "      P_length.append(n*2) \n",
        "          \n",
        "    return P_length"
      ],
      "metadata": {
        "id": "qXz8ZdwtRpUV"
      },
      "execution_count": 17,
      "outputs": []
    },
    {
      "cell_type": "code",
      "source": [
        "nums = [1,1,1,1,1,1,1]\n",
        "longest_palindrome(nums)"
      ],
      "metadata": {
        "colab": {
          "base_uri": "https://localhost:8080/"
        },
        "id": "zCXVc8ViPxSj",
        "outputId": "bc6d4d0a-dafc-447f-e7bc-62921a215ce3"
      },
      "execution_count": 18,
      "outputs": [
        {
          "output_type": "execute_result",
          "data": {
            "text/plain": [
              "[1, 1, 0]"
            ]
          },
          "metadata": {},
          "execution_count": 18
        }
      ]
    },
    {
      "cell_type": "code",
      "source": [
        "def length_to_same(befo, afte):\n",
        "    b,a = len(befo), len(afte)\n",
        "    if b > a:\n",
        "      befo = befo[:-a-1:-1]\n",
        "    if a > b:\n",
        "      afte = afte[b-1::-1]\n",
        "      befo.reverse()\n",
        "      afte.reverse()\n",
        "    return befo, afte"
      ],
      "metadata": {
        "id": "jqlLZVa-Mqal"
      },
      "execution_count": 1,
      "outputs": []
    }
  ]
}