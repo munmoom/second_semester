{
  "nbformat": 4,
  "nbformat_minor": 0,
  "metadata": {
    "colab": {
      "provenance": [],
      "authorship_tag": "ABX9TyMxdo7Wa61oBgxzTdYKufe+",
      "include_colab_link": true
    },
    "kernelspec": {
      "name": "python3",
      "display_name": "Python 3"
    },
    "language_info": {
      "name": "python"
    }
  },
  "cells": [
    {
      "cell_type": "markdown",
      "metadata": {
        "id": "view-in-github",
        "colab_type": "text"
      },
      "source": [
        "<a href=\"https://colab.research.google.com/github/munmoom/second_semester/blob/main/NUMPY.ipynb\" target=\"_parent\"><img src=\"https://colab.research.google.com/assets/colab-badge.svg\" alt=\"Open In Colab\"/></a>"
      ]
    },
    {
      "cell_type": "markdown",
      "source": [
        "# Numpy\n",
        "ndarry객체를 제공한다.\n",
        "* n차원의 homogeneous한 데이터 타입들의 배열, 모든 ele은 같은 type이어야 한다.\n",
        "*  스칼라값 계산과 비슷한 계산\n",
        "* shape: 각 차원의 크기\n",
        "* dtype: arry의 data type\n",
        "\n",
        "\n"
      ],
      "metadata": {
        "id": "eIaHWK_zGuM9"
      }
    },
    {
      "cell_type": "code",
      "execution_count": 2,
      "metadata": {
        "id": "5Hwlna2FoMeW"
      },
      "outputs": [],
      "source": [
        "import numpy as np  #import해야 한다"
      ]
    },
    {
      "cell_type": "code",
      "source": [
        "data1 = [6, 7.5, 9, 0, 1]\n",
        "arr1 = np.array(data1)   #배열 만들기\n",
        "arr1"
      ],
      "metadata": {
        "colab": {
          "base_uri": "https://localhost:8080/"
        },
        "id": "iBNjPOgg8R71",
        "outputId": "42dded78-e303-4072-e1b5-70f01f127748"
      },
      "execution_count": 3,
      "outputs": [
        {
          "output_type": "execute_result",
          "data": {
            "text/plain": [
              "array([6. , 7.5, 9. , 0. , 1. ])"
            ]
          },
          "metadata": {},
          "execution_count": 3
        }
      ]
    },
    {
      "cell_type": "code",
      "source": [
        "data2 = [[1,2,3,4], [5,6,7,8]]\n",
        "arr2 = np.array(data2)  #이차원배열\n",
        "print(arr2)\n",
        "print(type(arr2))   #ndarry"
      ],
      "metadata": {
        "colab": {
          "base_uri": "https://localhost:8080/"
        },
        "id": "6clz6HP38Rvm",
        "outputId": "0352b294-6b89-4d86-fb7f-da926e24ac79"
      },
      "execution_count": 4,
      "outputs": [
        {
          "output_type": "stream",
          "name": "stdout",
          "text": [
            "[[1 2 3 4]\n",
            " [5 6 7 8]]\n",
            "<class 'numpy.ndarray'>\n"
          ]
        }
      ]
    },
    {
      "cell_type": "code",
      "source": [
        "arr2.shape"
      ],
      "metadata": {
        "colab": {
          "base_uri": "https://localhost:8080/"
        },
        "id": "F7HBsgwB8RsW",
        "outputId": "5e6965e8-01c6-457b-9f8b-c9d49c72280a"
      },
      "execution_count": null,
      "outputs": [
        {
          "output_type": "execute_result",
          "data": {
            "text/plain": [
              "(2, 4)"
            ]
          },
          "metadata": {},
          "execution_count": 5
        }
      ]
    },
    {
      "cell_type": "code",
      "source": [
        "arr2.dtype"
      ],
      "metadata": {
        "colab": {
          "base_uri": "https://localhost:8080/"
        },
        "id": "XLDMkyyz8Rp-",
        "outputId": "9cd04677-4f8b-4cee-9352-42b918952cdd"
      },
      "execution_count": 5,
      "outputs": [
        {
          "output_type": "execute_result",
          "data": {
            "text/plain": [
              "dtype('int64')"
            ]
          },
          "metadata": {},
          "execution_count": 5
        }
      ]
    },
    {
      "cell_type": "code",
      "source": [
        "arr = np.array([[1.,2.,3.],[4.,5.,6.]])\n",
        "arr"
      ],
      "metadata": {
        "colab": {
          "base_uri": "https://localhost:8080/"
        },
        "id": "Pc_nvsJ28Rnf",
        "outputId": "c99eb955-fa4c-44cb-8105-86b56186bfca"
      },
      "execution_count": null,
      "outputs": [
        {
          "output_type": "execute_result",
          "data": {
            "text/plain": [
              "array([[1., 2., 3.],\n",
              "       [4., 5., 6.]])"
            ]
          },
          "metadata": {},
          "execution_count": 7
        }
      ]
    },
    {
      "cell_type": "code",
      "source": [
        "np.zeros((3,6))   # shape(3,6)을 가지는, 0.으로만 구성된 ndarray 만들기"
      ],
      "metadata": {
        "id": "fgEoQC7WICvp",
        "outputId": "d251badc-d8af-49c4-e18c-247b76a34df6",
        "colab": {
          "base_uri": "https://localhost:8080/"
        }
      },
      "execution_count": 6,
      "outputs": [
        {
          "output_type": "execute_result",
          "data": {
            "text/plain": [
              "array([[0., 0., 0., 0., 0., 0.],\n",
              "       [0., 0., 0., 0., 0., 0.],\n",
              "       [0., 0., 0., 0., 0., 0.]])"
            ]
          },
          "metadata": {},
          "execution_count": 6
        }
      ]
    },
    {
      "cell_type": "code",
      "source": [
        "np.arange(5)  # 0부터 4까지의 원소들을 가지는, arange(5)"
      ],
      "metadata": {
        "id": "OmUEofjUIPGy",
        "outputId": "7ed649bf-31a7-4c56-e83d-36b6946aa393",
        "colab": {
          "base_uri": "https://localhost:8080/"
        }
      },
      "execution_count": 7,
      "outputs": [
        {
          "output_type": "execute_result",
          "data": {
            "text/plain": [
              "array([0, 1, 2, 3, 4])"
            ]
          },
          "metadata": {},
          "execution_count": 7
        }
      ]
    },
    {
      "cell_type": "code",
      "source": [
        "data = np.random.rand(2,3)  # 랜덤하게 random.rand(), zeros와는 다르게 숫자를 바로 넣음\n",
        "data"
      ],
      "metadata": {
        "id": "uzGRmTWiIXy1",
        "outputId": "02356ec5-4800-4465-e319-fe517428ffc5",
        "colab": {
          "base_uri": "https://localhost:8080/"
        }
      },
      "execution_count": 17,
      "outputs": [
        {
          "output_type": "execute_result",
          "data": {
            "text/plain": [
              "array([[0.56779926, 0.12764955, 0.33828216],\n",
              "       [0.24887334, 0.88928214, 0.26194569]])"
            ]
          },
          "metadata": {},
          "execution_count": 17
        }
      ]
    },
    {
      "cell_type": "code",
      "source": [
        "data.dtype"
      ],
      "metadata": {
        "id": "zx3lx59DIgdA",
        "outputId": "a14ce33c-adbd-4462-dafe-4508ad65be64",
        "colab": {
          "base_uri": "https://localhost:8080/"
        }
      },
      "execution_count": 18,
      "outputs": [
        {
          "output_type": "execute_result",
          "data": {
            "text/plain": [
              "dtype('float64')"
            ]
          },
          "metadata": {},
          "execution_count": 18
        }
      ]
    },
    {
      "cell_type": "code",
      "source": [
        "data.shape"
      ],
      "metadata": {
        "id": "EWucv-C7IiKf",
        "outputId": "873e06d9-a8ea-4cd1-fae5-e2009dc63459",
        "colab": {
          "base_uri": "https://localhost:8080/"
        }
      },
      "execution_count": 19,
      "outputs": [
        {
          "output_type": "execute_result",
          "data": {
            "text/plain": [
              "(2, 3)"
            ]
          },
          "metadata": {},
          "execution_count": 19
        }
      ]
    },
    {
      "cell_type": "markdown",
      "source": [
        "## 연산\n",
        "\n",
        "별도의 loop없이도 묶음 계산이 가능, vectorization\n",
        "\n",
        "같은 크기(equal size)의 array끼리만 계산가능"
      ],
      "metadata": {
        "id": "MtBf_4onIApr"
      }
    },
    {
      "cell_type": "code",
      "source": [
        "arr = np.array([[1.,2.,3.],[4.,5.,6.]])\n",
        "arr"
      ],
      "metadata": {
        "id": "HYXgTLxbI6wA",
        "outputId": "b30f9bc6-cffc-48b3-d9a5-bc930de480c1",
        "colab": {
          "base_uri": "https://localhost:8080/"
        }
      },
      "execution_count": 24,
      "outputs": [
        {
          "output_type": "execute_result",
          "data": {
            "text/plain": [
              "array([[1., 2., 3.],\n",
              "       [4., 5., 6.]])"
            ]
          },
          "metadata": {},
          "execution_count": 24
        }
      ]
    },
    {
      "cell_type": "code",
      "source": [
        "arr*arr  #곱하기"
      ],
      "metadata": {
        "colab": {
          "base_uri": "https://localhost:8080/"
        },
        "id": "Nnznen1C8Rk-",
        "outputId": "8ca37c18-0537-4f8e-e499-ecb5019cf2f9"
      },
      "execution_count": 25,
      "outputs": [
        {
          "output_type": "execute_result",
          "data": {
            "text/plain": [
              "array([[ 1.,  4.,  9.],\n",
              "       [16., 25., 36.]])"
            ]
          },
          "metadata": {},
          "execution_count": 25
        }
      ]
    },
    {
      "cell_type": "code",
      "source": [
        "arr-arr  #빼기"
      ],
      "metadata": {
        "colab": {
          "base_uri": "https://localhost:8080/"
        },
        "id": "DtnsKNtz8Rge",
        "outputId": "ca197a85-68d7-4aba-b118-88af2dc4b64d"
      },
      "execution_count": 26,
      "outputs": [
        {
          "output_type": "execute_result",
          "data": {
            "text/plain": [
              "array([[0., 0., 0.],\n",
              "       [0., 0., 0.]])"
            ]
          },
          "metadata": {},
          "execution_count": 26
        }
      ]
    },
    {
      "cell_type": "code",
      "source": [
        "1/arr  #나누기"
      ],
      "metadata": {
        "colab": {
          "base_uri": "https://localhost:8080/"
        },
        "id": "R-7qVUQ28Rd2",
        "outputId": "d9be44d1-bd5d-47e3-9fbc-7ec8d5b2ba6b"
      },
      "execution_count": 27,
      "outputs": [
        {
          "output_type": "execute_result",
          "data": {
            "text/plain": [
              "array([[1.        , 0.5       , 0.33333333],\n",
              "       [0.25      , 0.2       , 0.16666667]])"
            ]
          },
          "metadata": {},
          "execution_count": 27
        }
      ]
    },
    {
      "cell_type": "code",
      "source": [
        "arr2 > arr  # 둘의 size가 다르다"
      ],
      "metadata": {
        "colab": {
          "base_uri": "https://localhost:8080/",
          "height": 172
        },
        "id": "j5O9BJjk8Rbm",
        "outputId": "9706b847-3ff3-471d-c3b8-a2be6169248a"
      },
      "execution_count": 28,
      "outputs": [
        {
          "output_type": "error",
          "ename": "ValueError",
          "evalue": "ignored",
          "traceback": [
            "\u001b[0;31m---------------------------------------------------------------------------\u001b[0m",
            "\u001b[0;31mValueError\u001b[0m                                Traceback (most recent call last)",
            "\u001b[0;32m<ipython-input-28-9c3844fa1fba>\u001b[0m in \u001b[0;36m<module>\u001b[0;34m\u001b[0m\n\u001b[0;32m----> 1\u001b[0;31m \u001b[0marr2\u001b[0m \u001b[0;34m>\u001b[0m \u001b[0marr\u001b[0m  \u001b[0;31m# 둘의 size가 다르다\u001b[0m\u001b[0;34m\u001b[0m\u001b[0;34m\u001b[0m\u001b[0m\n\u001b[0m",
            "\u001b[0;31mValueError\u001b[0m: operands could not be broadcast together with shapes (2,4) (2,3) "
          ]
        }
      ]
    },
    {
      "cell_type": "code",
      "source": [
        "arr > 3  #상수넣으면 하나씩 비교한다"
      ],
      "metadata": {
        "id": "ZtRSnjjf8RY4",
        "outputId": "e053dda7-69c1-4034-9f5c-023c5f1dad64",
        "colab": {
          "base_uri": "https://localhost:8080/"
        }
      },
      "execution_count": 29,
      "outputs": [
        {
          "output_type": "execute_result",
          "data": {
            "text/plain": [
              "array([[False, False, False],\n",
              "       [ True,  True,  True]])"
            ]
          },
          "metadata": {},
          "execution_count": 29
        }
      ]
    },
    {
      "cell_type": "code",
      "source": [
        "arr==arr  #비교는 Boolean array를 반환한다"
      ],
      "metadata": {
        "id": "DAyww1rE_Sum",
        "outputId": "ed6e33ee-ecb2-455a-d522-456fd2dfc8bc",
        "colab": {
          "base_uri": "https://localhost:8080/"
        }
      },
      "execution_count": 32,
      "outputs": [
        {
          "output_type": "execute_result",
          "data": {
            "text/plain": [
              "array([[ True,  True,  True],\n",
              "       [ True,  True,  True]])"
            ]
          },
          "metadata": {},
          "execution_count": 32
        }
      ]
    },
    {
      "cell_type": "code",
      "source": [
        "arr2 = np.array([[2,3,4],[4,5,6]])"
      ],
      "metadata": {
        "id": "Y2z24XfW_SsY"
      },
      "execution_count": 33,
      "outputs": []
    },
    {
      "cell_type": "code",
      "source": [
        "arr2 > arr"
      ],
      "metadata": {
        "id": "u7XZDNQ0_SqO",
        "outputId": "fc3e835d-0685-4859-f0d7-85e8fdb105de",
        "colab": {
          "base_uri": "https://localhost:8080/"
        }
      },
      "execution_count": 36,
      "outputs": [
        {
          "output_type": "execute_result",
          "data": {
            "text/plain": [
              "array([[ True,  True,  True],\n",
              "       [False, False, False]])"
            ]
          },
          "metadata": {},
          "execution_count": 36
        }
      ]
    },
    {
      "cell_type": "markdown",
      "source": [
        "## indexing과 slicing\n",
        "\n",
        "### array slices, 슬라이싱 한 건 그저 보이는 것일 뿐이다, view일 뿐!"
      ],
      "metadata": {
        "id": "WQ_KKGUjKAAg"
      }
    },
    {
      "cell_type": "code",
      "source": [
        "arr = np.arange(10)\n",
        "arr"
      ],
      "metadata": {
        "colab": {
          "base_uri": "https://localhost:8080/"
        },
        "id": "OSoqtLgF-6c1",
        "outputId": "e59f4f4b-dc3a-4a84-9a6d-95c0419f9d76"
      },
      "execution_count": 38,
      "outputs": [
        {
          "output_type": "execute_result",
          "data": {
            "text/plain": [
              "array([0, 1, 2, 3, 4, 5, 6, 7, 8, 9])"
            ]
          },
          "metadata": {},
          "execution_count": 38
        }
      ]
    },
    {
      "cell_type": "code",
      "source": [
        "arr[5:8] = 12   #마지막은 포함되지 않는다, 슬라이싱 교체\n",
        "arr"
      ],
      "metadata": {
        "colab": {
          "base_uri": "https://localhost:8080/"
        },
        "id": "yPvNVicg_AJm",
        "outputId": "e4abd014-7116-45e5-938e-eddd42090b3c"
      },
      "execution_count": 39,
      "outputs": [
        {
          "output_type": "execute_result",
          "data": {
            "text/plain": [
              "array([ 0,  1,  2,  3,  4, 12, 12, 12,  8,  9])"
            ]
          },
          "metadata": {},
          "execution_count": 39
        }
      ]
    },
    {
      "cell_type": "code",
      "source": [
        "arr_slice = arr[5:8]  #마지막은 포함되지 않는다\n",
        "arr_slice"
      ],
      "metadata": {
        "colab": {
          "base_uri": "https://localhost:8080/"
        },
        "id": "wSpbkCTW8RWu",
        "outputId": "fa3a9c88-f4de-44fd-cc4a-2a6a807280f4"
      },
      "execution_count": 40,
      "outputs": [
        {
          "output_type": "execute_result",
          "data": {
            "text/plain": [
              "array([12, 12, 12])"
            ]
          },
          "metadata": {},
          "execution_count": 40
        }
      ]
    },
    {
      "cell_type": "code",
      "source": [
        "arr_slice[1] = 45   # 슬라이싱한 걸 바꿨는데 본 ndarray의 원소도 바뀜\n",
        "                    # 슬라이싱은 view일 뿐이다!\n",
        "arr"
      ],
      "metadata": {
        "colab": {
          "base_uri": "https://localhost:8080/"
        },
        "id": "720uanq98RUG",
        "outputId": "684ac575-8a33-4c5a-9ca6-59cd55d2308d"
      },
      "execution_count": 43,
      "outputs": [
        {
          "output_type": "execute_result",
          "data": {
            "text/plain": [
              "array([ 0,  1,  2,  3,  4, 12, 45, 12,  8,  9])"
            ]
          },
          "metadata": {},
          "execution_count": 43
        }
      ]
    },
    {
      "cell_type": "code",
      "source": [
        "ar = arr[5:8].copy()\n",
        "print(ar)"
      ],
      "metadata": {
        "id": "hS-DJGD8K9ZC",
        "outputId": "d90ce3aa-49e0-4120-d1e4-5e803e855a3c",
        "colab": {
          "base_uri": "https://localhost:8080/"
        }
      },
      "execution_count": 45,
      "outputs": [
        {
          "output_type": "stream",
          "name": "stdout",
          "text": [
            "[12 45 12]\n"
          ]
        }
      ]
    },
    {
      "cell_type": "code",
      "source": [
        "ar[1]=0   #copy()로 따온 것\n",
        "print(ar)   #수정되었다\n",
        "print(arr)  #수정되지 않았다\n",
        "print(type(ar))\n",
        "print(type(arr))"
      ],
      "metadata": {
        "id": "UOyj3kghLD6N",
        "outputId": "ba8cc976-3ddf-40e7-c210-53105a432a16",
        "colab": {
          "base_uri": "https://localhost:8080/"
        }
      },
      "execution_count": 49,
      "outputs": [
        {
          "output_type": "stream",
          "name": "stdout",
          "text": [
            "[12  0 12]\n",
            "[ 0  1  2  3  4 12 45 12  8  9]\n",
            "<class 'numpy.ndarray'>\n",
            "<class 'numpy.ndarray'>\n"
          ]
        }
      ]
    },
    {
      "cell_type": "markdown",
      "source": [
        "## 다차원 배열의 indexing과 slicing\n"
      ],
      "metadata": {
        "id": "68fTeFJSLlRz"
      }
    },
    {
      "cell_type": "code",
      "source": [
        "arr2d = np.array([[1,2,3],[4,5,6],[7,8,9]])\n",
        "arr2d[2]"
      ],
      "metadata": {
        "colab": {
          "base_uri": "https://localhost:8080/"
        },
        "id": "_mGR3xkK8RR3",
        "outputId": "fbd2a2dd-6ff3-44e7-a5a5-7b2706b0a898"
      },
      "execution_count": 42,
      "outputs": [
        {
          "output_type": "execute_result",
          "data": {
            "text/plain": [
              "array([7, 8, 9])"
            ]
          },
          "metadata": {},
          "execution_count": 42
        }
      ]
    },
    {
      "cell_type": "code",
      "source": [
        "arr2d[0][2]  #따로 []쳐서 보거나"
      ],
      "metadata": {
        "colab": {
          "base_uri": "https://localhost:8080/"
        },
        "id": "UniCWbLZ_uBW",
        "outputId": "2cd4fac4-8923-43b1-a2ed-37688bc786ad"
      },
      "execution_count": null,
      "outputs": [
        {
          "output_type": "execute_result",
          "data": {
            "text/plain": [
              "3"
            ]
          },
          "metadata": {},
          "execution_count": 17
        }
      ]
    },
    {
      "cell_type": "code",
      "source": [
        "arr2d[0,2]  # ','찍어서 보거나 같다"
      ],
      "metadata": {
        "colab": {
          "base_uri": "https://localhost:8080/"
        },
        "id": "WEKkIppT_wZ2",
        "outputId": "ae8e5552-4688-44e7-a5b7-03a3792bed0b"
      },
      "execution_count": null,
      "outputs": [
        {
          "output_type": "execute_result",
          "data": {
            "text/plain": [
              "3"
            ]
          },
          "metadata": {},
          "execution_count": 18
        }
      ]
    },
    {
      "cell_type": "code",
      "source": [
        "arr3d = np.arange(9)\n",
        "arr3d = arr3d.reshape(3,3)   #reshape하면 shape조정해준다\n",
        "arr3d"
      ],
      "metadata": {
        "colab": {
          "base_uri": "https://localhost:8080/"
        },
        "id": "WDcBM1Hn_9iK",
        "outputId": "54497c03-91b7-4401-d99a-4d8397d7857c"
      },
      "execution_count": 52,
      "outputs": [
        {
          "output_type": "execute_result",
          "data": {
            "text/plain": [
              "array([[0, 1, 2],\n",
              "       [3, 4, 5],\n",
              "       [6, 7, 8]])"
            ]
          },
          "metadata": {},
          "execution_count": 52
        }
      ]
    },
    {
      "cell_type": "code",
      "source": [
        "arr3d[:2,1:]  #0,1번째 것과 그 안에서 1,2번째 것"
      ],
      "metadata": {
        "colab": {
          "base_uri": "https://localhost:8080/"
        },
        "id": "DVYi1kExAMQv",
        "outputId": "ab8d2431-87bf-418e-cda2-9116682d6a69"
      },
      "execution_count": 57,
      "outputs": [
        {
          "output_type": "execute_result",
          "data": {
            "text/plain": [
              "array([[1, 2],\n",
              "       [4, 5]])"
            ]
          },
          "metadata": {},
          "execution_count": 57
        }
      ]
    },
    {
      "cell_type": "code",
      "source": [
        "arr3d[2]  #두번째 것"
      ],
      "metadata": {
        "colab": {
          "base_uri": "https://localhost:8080/"
        },
        "id": "hcFeqxZnAVW-",
        "outputId": "30d87ded-5229-4968-b965-55f3aaf7dd3c"
      },
      "execution_count": 58,
      "outputs": [
        {
          "output_type": "execute_result",
          "data": {
            "text/plain": [
              "array([6, 7, 8])"
            ]
          },
          "metadata": {},
          "execution_count": 58
        }
      ]
    },
    {
      "cell_type": "code",
      "source": [
        "arr3d[:,:2]  #전체와 그 안에서 0, 1번째 것"
      ],
      "metadata": {
        "colab": {
          "base_uri": "https://localhost:8080/"
        },
        "id": "c6MqCsQuAW82",
        "outputId": "1c2c7c00-43f0-424c-b7a7-c90774e466dc"
      },
      "execution_count": 59,
      "outputs": [
        {
          "output_type": "execute_result",
          "data": {
            "text/plain": [
              "array([[0, 1],\n",
              "       [3, 4],\n",
              "       [6, 7]])"
            ]
          },
          "metadata": {},
          "execution_count": 59
        }
      ]
    },
    {
      "cell_type": "code",
      "source": [
        "arr3d[1,:2]  #1번과 그 안에서 0,1번째 것"
      ],
      "metadata": {
        "colab": {
          "base_uri": "https://localhost:8080/"
        },
        "id": "r3nGGc2_AZGG",
        "outputId": "5f132b8e-ab91-457e-a9c5-e0cf1885b028"
      },
      "execution_count": 60,
      "outputs": [
        {
          "output_type": "execute_result",
          "data": {
            "text/plain": [
              "array([3, 4])"
            ]
          },
          "metadata": {},
          "execution_count": 60
        }
      ]
    },
    {
      "cell_type": "code",
      "source": [
        "arr3d = np.array([[[1,2,3],[4,5,6]],[[7,8,9],[10,11,12]]])  #shape는 (2,2,3)입니다.\n",
        "print(arr3d)\n",
        "print(arr3d.shape)  #바깥쪽부터 센다"
      ],
      "metadata": {
        "colab": {
          "base_uri": "https://localhost:8080/"
        },
        "id": "GNa-_IyxBpGv",
        "outputId": "9eb5674d-d47e-48e1-e375-2d169da463c8"
      },
      "execution_count": 62,
      "outputs": [
        {
          "output_type": "stream",
          "name": "stdout",
          "text": [
            "[[[ 1  2  3]\n",
            "  [ 4  5  6]]\n",
            "\n",
            " [[ 7  8  9]\n",
            "  [10 11 12]]]\n",
            "(2, 2, 3)\n"
          ]
        }
      ]
    },
    {
      "cell_type": "code",
      "source": [
        "arr3d[0]"
      ],
      "metadata": {
        "colab": {
          "base_uri": "https://localhost:8080/"
        },
        "id": "qeXV8xNWBpEn",
        "outputId": "3f3c338c-de2f-48d7-f0f3-0a5f2a614274"
      },
      "execution_count": null,
      "outputs": [
        {
          "output_type": "execute_result",
          "data": {
            "text/plain": [
              "array([[1, 2, 3],\n",
              "       [4, 5, 6]])"
            ]
          },
          "metadata": {},
          "execution_count": 32
        }
      ]
    },
    {
      "cell_type": "code",
      "source": [
        "arr3d[0,0]"
      ],
      "metadata": {
        "colab": {
          "base_uri": "https://localhost:8080/"
        },
        "id": "yYMfybMBBpCg",
        "outputId": "7908bdbf-3aaf-4810-dc30-80028c2ae7a8"
      },
      "execution_count": null,
      "outputs": [
        {
          "output_type": "execute_result",
          "data": {
            "text/plain": [
              "array([1, 2, 3])"
            ]
          },
          "metadata": {},
          "execution_count": 33
        }
      ]
    },
    {
      "cell_type": "code",
      "source": [
        "arr3d[0,0,0]"
      ],
      "metadata": {
        "colab": {
          "base_uri": "https://localhost:8080/"
        },
        "id": "HESx76oiBpAX",
        "outputId": "4cd39895-92ca-4289-e1c2-e8e40a8762fd"
      },
      "execution_count": null,
      "outputs": [
        {
          "output_type": "execute_result",
          "data": {
            "text/plain": [
              "1"
            ]
          },
          "metadata": {},
          "execution_count": 35
        }
      ]
    },
    {
      "cell_type": "code",
      "source": [
        "arr3d[:,1]"
      ],
      "metadata": {
        "colab": {
          "base_uri": "https://localhost:8080/"
        },
        "id": "5LY-3WiKBo9_",
        "outputId": "b9c0721a-c492-41c3-dc65-1b8e0128199b"
      },
      "execution_count": null,
      "outputs": [
        {
          "output_type": "execute_result",
          "data": {
            "text/plain": [
              "array([[ 4,  5,  6],\n",
              "       [10, 11, 12]])"
            ]
          },
          "metadata": {},
          "execution_count": 37
        }
      ]
    },
    {
      "cell_type": "code",
      "source": [
        "arr3d[:,:,2]"
      ],
      "metadata": {
        "colab": {
          "base_uri": "https://localhost:8080/"
        },
        "id": "BKk2IsTcCeTA",
        "outputId": "4a5c793b-17e6-4c20-b0bf-35dde50d62ed"
      },
      "execution_count": null,
      "outputs": [
        {
          "output_type": "execute_result",
          "data": {
            "text/plain": [
              "array([[ 3,  6],\n",
              "       [ 9, 12]])"
            ]
          },
          "metadata": {},
          "execution_count": 38
        }
      ]
    },
    {
      "cell_type": "code",
      "source": [],
      "metadata": {
        "id": "Y6l3TdxbChZA"
      },
      "execution_count": null,
      "outputs": []
    },
    {
      "cell_type": "code",
      "source": [],
      "metadata": {
        "id": "d1sJmKSySK46"
      },
      "execution_count": null,
      "outputs": []
    },
    {
      "cell_type": "code",
      "source": [],
      "metadata": {
        "id": "igCfBEE-SK2h"
      },
      "execution_count": null,
      "outputs": []
    },
    {
      "cell_type": "code",
      "source": [
        "import numpy as np\n",
        " \n",
        "a = np.arange(9).reshape(3,3)\n",
        "print(a.sum(axis=0))"
      ],
      "metadata": {
        "colab": {
          "base_uri": "https://localhost:8080/"
        },
        "id": "iUvyCGzMSK0K",
        "outputId": "4fea4622-644e-4450-e75f-4bfd62e0c546"
      },
      "execution_count": null,
      "outputs": [
        {
          "output_type": "stream",
          "name": "stdout",
          "text": [
            "[ 9 12 15]\n"
          ]
        }
      ]
    },
    {
      "cell_type": "code",
      "source": [
        "import numpy as np\n",
        " \n",
        "arr = np.array([[1,2,3,4,5], [6,7,8,9,10]])\n",
        "output = arr > 7\n",
        "print(output)"
      ],
      "metadata": {
        "colab": {
          "base_uri": "https://localhost:8080/"
        },
        "id": "glHDzeZiSKx6",
        "outputId": "51c1a59b-5ffb-4e10-ffef-4ddc57f44b0d"
      },
      "execution_count": null,
      "outputs": [
        {
          "output_type": "stream",
          "name": "stdout",
          "text": [
            "[[False False False False False]\n",
            " [False False  True  True  True]]\n"
          ]
        }
      ]
    },
    {
      "cell_type": "code",
      "source": [
        "import numpy as np\n",
        " \n",
        "a = np.array([[1,2,3],[4,5,6],[7,8,9]])\n",
        "print(a[:2,2:])"
      ],
      "metadata": {
        "colab": {
          "base_uri": "https://localhost:8080/"
        },
        "id": "F7w9CIBXSSES",
        "outputId": "1a1b7a5a-0f55-4577-cf2a-cb7103b18885"
      },
      "execution_count": null,
      "outputs": [
        {
          "output_type": "stream",
          "name": "stdout",
          "text": [
            "[[3]\n",
            " [6]]\n"
          ]
        }
      ]
    },
    {
      "cell_type": "code",
      "source": [
        "import numpy as np\n",
        " \n",
        "a = np.array([[1,2,3,4], [5,6,7,8], [9,10,11,12]])\n",
        "print(a.shape)\n"
      ],
      "metadata": {
        "colab": {
          "base_uri": "https://localhost:8080/"
        },
        "id": "KCXk2VJvSSCC",
        "outputId": "97173631-e29b-4a96-ffad-aefa0b7e434a"
      },
      "execution_count": null,
      "outputs": [
        {
          "output_type": "stream",
          "name": "stdout",
          "text": [
            "(3, 4)\n"
          ]
        }
      ]
    },
    {
      "cell_type": "code",
      "source": [
        "import numpy as np\n",
        " \n",
        "a = np.array([[1,1,1],[2,2,2],[3,3,3]])\n",
        "print(a*a)"
      ],
      "metadata": {
        "colab": {
          "base_uri": "https://localhost:8080/"
        },
        "id": "OfA6f74qSR_6",
        "outputId": "a7411f76-c282-485b-dfa4-344a8c16e353"
      },
      "execution_count": null,
      "outputs": [
        {
          "output_type": "stream",
          "name": "stdout",
          "text": [
            "[[1 1 1]\n",
            " [4 4 4]\n",
            " [9 9 9]]\n"
          ]
        }
      ]
    },
    {
      "cell_type": "code",
      "source": [
        "arr = np.array([0, 1, 2, 3, 4, 5, 6, 7, 8, 9])\n",
        "arr[arr % 2 == 1] = -1\n",
        "arr\n"
      ],
      "metadata": {
        "colab": {
          "base_uri": "https://localhost:8080/"
        },
        "id": "GGE-pzrbSbbp",
        "outputId": "d1525038-3aa7-4d9f-d1a6-24e564709b15"
      },
      "execution_count": null,
      "outputs": [
        {
          "output_type": "execute_result",
          "data": {
            "text/plain": [
              "array([ 0, -1,  2, -1,  4, -1,  6, -1,  8, -1])"
            ]
          },
          "metadata": {},
          "execution_count": 45
        }
      ]
    },
    {
      "cell_type": "code",
      "source": [],
      "metadata": {
        "id": "rHSsyeadSdPZ"
      },
      "execution_count": null,
      "outputs": []
    },
    {
      "cell_type": "code",
      "source": [
        "Z = np.zeros((3,3),dtype=int)\n",
        "Z[1:2,::2] = 1\n",
        "Z[::2,1::2] = 1\n",
        "np.sum(Z)"
      ],
      "metadata": {
        "colab": {
          "base_uri": "https://localhost:8080/"
        },
        "id": "bpPzk2VmSfUB",
        "outputId": "68629cbd-379a-4fc2-ce96-324e30ad742b"
      },
      "execution_count": null,
      "outputs": [
        {
          "output_type": "execute_result",
          "data": {
            "text/plain": [
              "4"
            ]
          },
          "metadata": {},
          "execution_count": 46
        }
      ]
    },
    {
      "cell_type": "markdown",
      "source": [
        "# 실습"
      ],
      "metadata": {
        "id": "Nq0Q1ExyGpbg"
      }
    },
    {
      "cell_type": "code",
      "source": [
        "numpy를 import 하시오\n",
        "import ~~~\n",
        "import numpy as np\n",
        "### Exercise 1\n",
        "10부터 19까지 범위를 가지는 numpy array생성하라.  \n",
        "(Hint) np.arange\n",
        "​\n",
        "array([10, 11, 12, 13, 14, 15, 16, 17, 18, 19])\n",
        "np.arange(10,20)\n",
        "array([10, 11, 12, 13, 14, 15, 16, 17, 18, 19])\n",
        "### Exercise 2\n",
        "- (2-1) 0부터 11까지의 (4,3) array를 arange와 reshape를 이용해서 만들고  \n",
        "- (2-2) 첫번째 열과 세번째 열의 값을 slicing을 통해서 가져오라.  \n",
        "array([[ 0,  1,  2],\n",
        "       [ 3,  4,  5],\n",
        "       [ 6,  7,  8],\n",
        "       [ 9, 10, 11]])\n",
        "       \n",
        "array([[ 0,  2],\n",
        "       [ 3,  5],\n",
        "       [ 6,  8],\n",
        "       [ 9, 11]])\n",
        "arr = np.arange(0,12).reshape((4,3))\n",
        "arr\n",
        "array([[ 0,  1,  2],\n",
        "       [ 3,  4,  5],\n",
        "       [ 6,  7,  8],\n",
        "       [ 9, 10, 11]])\n",
        "arr[:,0:3:2]\n",
        "array([[ 0,  2],\n",
        "       [ 3,  5],\n",
        "       [ 6,  8],\n",
        "       [ 9, 11]])\n",
        "### Exercise 3\n",
        "array([[1, 2],[3, 4]]) 2차원 배열을 생성하고  \n",
        "배열의 모든 원소에 대해서 주어진 함수  f(x)=x^2+x−6 을 적용해 보자.\n",
        "array([[1, 2],\n",
        "       [3, 4]])\n",
        "​\n",
        "array([[-4,  0],\n",
        "       [ 6, 14]])\n",
        "arr2d = np.arange(1,5).reshape((2,2))\n",
        "#arr2d = np.array([[1,2],[3,4]])\n",
        "arr2d\n",
        "array([[1, 2],\n",
        "       [3, 4]])\n",
        "arr2d*arr2d + arr2d - 6\n",
        "array([[-4,  0],\n",
        "       [ 6, 14]])\n",
        "### Exercise 4\n",
        "- (3-1) 1부터 11까지 5행, 2열의 array를 만들어라  \n",
        "- (3-2) 만든 array에서 모든요소의합, 각 열의 합, 각 행의 합을 계산해보자\n",
        "(Hint) data.sum()\n",
        "array([[ 1,  2],\n",
        "       [ 3,  4],\n",
        "       [ 5,  6],\n",
        "       [ 7,  8],\n",
        "       [ 9, 10]])\n",
        "       \n",
        "전체합: 55\n",
        "열의합: array([25, 30])\n",
        "행의합: array([ 3,  7, 11, 15, 19])\n",
        "arr = np.arange(1,11).reshape((5,2))\n",
        "arr\n",
        "array([[ 1,  2],\n",
        "       [ 3,  4],\n",
        "       [ 5,  6],\n",
        "       [ 7,  8],\n",
        "       [ 9, 10]])\n",
        "arr.sum()\n",
        "55\n",
        "arr.sum(axis=0)\n",
        "array([25, 30])\n",
        "arr.sum(axis=1)\n",
        "array([ 3,  7, 11, 15, 19])\n",
        "### Exercise 5\n",
        "- (4-1) array([[ 2,  4,  6],[ 8, 10, 12]]) 를 만든다.  \n",
        "- (4-2) 해당 array를 이용하여 전체 평균 및 표준 편차를 구하고, Z 정규화해보자   \n",
        "$$ Z =  \\frac{ X - \\mu}{ \\sigma} $$  \n",
        "(Hint) np.mean(), np.std()\n",
        "array([[ 2,  4,  6],\n",
        "       [ 8, 10, 12]])\n",
        "​\n",
        "평균: 7.0\n",
        "표준편차: 3.415650255319866\n",
        "Z transform 결과\n",
        "array([[-1.46385011, -0.87831007, -0.29277002],\n",
        "       [ 0.29277002,  0.87831007,  1.46385011]])\n",
        "arr2d = np.arange(2,13,2).reshape((2,3))\n",
        "#arr2d = np.array([[2,4,6],[8,10,12]])\n",
        "arr2d\n",
        "array([[ 2,  4,  6],\n",
        "       [ 8, 10, 12]])\n",
        "m = arr2d.mean()\n",
        "s = arr2d.std()\n",
        "Z = (arr2d - m)/s\n",
        "Z\n",
        "array([[-1.46385011, -0.87831007, -0.29277002],\n",
        "       [ 0.29277002,  0.87831007,  1.46385011]])\n",
        "### Exercise 6\n",
        "(5,5) 행렬을 만들어 체스 보드 패턴으로 채워보자\n",
        "[0, 1, 0, 1, 0],  \n",
        "[1, 0, 1, 0, 1],  \n",
        "[0, 1, 0, 1, 0],  \n",
        "[1, 0, 1, 0, 1],  \n",
        "[0, 1, 0, 1, 0]]\n",
        "arr = np.zeros((5,5))\n",
        "arr\n",
        "array([[0., 0., 0., 0., 0.],\n",
        "       [0., 0., 0., 0., 0.],\n",
        "       [0., 0., 0., 0., 0.],\n",
        "       [0., 0., 0., 0., 0.],\n",
        "       [0., 0., 0., 0., 0.]])\n",
        "arr[0,1::2]=1\n",
        "arr[1,::2]=1\n",
        "arr[2,1::2]=1\n",
        "arr[3,::2]=1\n",
        "arr[4,1::2]=1\n",
        "​\n",
        "arr\n",
        "array([[0., 1., 0., 1., 0.],\n",
        "       [1., 0., 1., 0., 1.],\n",
        "       [0., 1., 0., 1., 0.],\n",
        "       [1., 0., 1., 0., 1.],\n",
        "       [0., 1., 0., 1., 0.]])\n",
        "arr[::2,1:2]=1\n",
        "arr[1::2,::2]=1\n",
        "​\n",
        "arr\n",
        "array([[0., 1., 0., 0., 0.],\n",
        "       [1., 0., 1., 0., 1.],\n",
        "       [0., 1., 0., 0., 0.],\n",
        "       [1., 0., 1., 0., 1.],\n",
        "       [0., 1., 0., 0., 0.]])\n",
        "arr = np.arange(25).reshape(5,5)\n",
        "arr\n",
        "array([[ 0,  1,  2,  3,  4],\n",
        "       [ 5,  6,  7,  8,  9],\n",
        "       [10, 11, 12, 13, 14],\n",
        "       [15, 16, 17, 18, 19],\n",
        "       [20, 21, 22, 23, 24]])\n",
        "arr[arr%2 == 0] = 0\n",
        "arr[arr%2 == 1] = 1\n",
        "​\n",
        "arr\n",
        "array([[0, 1, 0, 1, 0],\n",
        "       [1, 0, 1, 0, 1],\n",
        "       [0, 1, 0, 1, 0],\n",
        "       [1, 0, 1, 0, 1],\n",
        "       [0, 1, 0, 1, 0]])\n",
        "### Exercise 7\n",
        "주어진 두 array의 내적을 numpy를 이용하여 작성하시오.\n",
        "array([4, 5])\n",
        "array([4, 5])\n",
        "벡터의 내적 : 78\n",
        "arr = np.array([4, 5])\n",
        "arr\n",
        "array([4, 5])\n",
        "np.dot(arr,arr)\n",
        "41"
      ],
      "metadata": {
        "id": "hR0ZSd6tap2j"
      },
      "execution_count": null,
      "outputs": []
    }
  ]
}