{
  "nbformat": 4,
  "nbformat_minor": 0,
  "metadata": {
    "colab": {
      "provenance": [],
      "authorship_tag": "ABX9TyNQTY8WoezOo1cGyZwMFFAs",
      "include_colab_link": true
    },
    "kernelspec": {
      "name": "python3",
      "display_name": "Python 3"
    },
    "language_info": {
      "name": "python"
    }
  },
  "cells": [
    {
      "cell_type": "markdown",
      "metadata": {
        "id": "view-in-github",
        "colab_type": "text"
      },
      "source": [
        "<a href=\"https://colab.research.google.com/github/munmoom/second_semester/blob/main/NUMPY.ipynb\" target=\"_parent\"><img src=\"https://colab.research.google.com/assets/colab-badge.svg\" alt=\"Open In Colab\"/></a>"
      ]
    },
    {
      "cell_type": "markdown",
      "source": [
        "# Numpy\n",
        "ndarry객체를 제공한다.\n",
        "* n차원의 homogeneous한 데이터 타입들의 배열, 모든 ele은 같은 type이어야 한다.\n",
        "*  스칼라값 계산과 비슷한 계산\n",
        "* shape: 각 차원의 크기\n",
        "* dtype: arry의 data type\n",
        "\n",
        "\n"
      ],
      "metadata": {
        "id": "eIaHWK_zGuM9"
      }
    },
    {
      "cell_type": "code",
      "execution_count": 2,
      "metadata": {
        "id": "5Hwlna2FoMeW"
      },
      "outputs": [],
      "source": [
        "import numpy as np  #import해야 한다"
      ]
    },
    {
      "cell_type": "code",
      "source": [
        "data1 = [6, 7.5, 9, 0, 1]\n",
        "arr1 = np.array(data1)   #배열 만들기\n",
        "arr1"
      ],
      "metadata": {
        "colab": {
          "base_uri": "https://localhost:8080/"
        },
        "id": "iBNjPOgg8R71",
        "outputId": "42dded78-e303-4072-e1b5-70f01f127748"
      },
      "execution_count": 3,
      "outputs": [
        {
          "output_type": "execute_result",
          "data": {
            "text/plain": [
              "array([6. , 7.5, 9. , 0. , 1. ])"
            ]
          },
          "metadata": {},
          "execution_count": 3
        }
      ]
    },
    {
      "cell_type": "code",
      "source": [
        "data2 = [[1,2,3,4], [5,6,7,8]]\n",
        "arr2 = np.array(data2)  #이차원배열\n",
        "print(arr2)\n",
        "print(type(arr2))   #ndarry"
      ],
      "metadata": {
        "colab": {
          "base_uri": "https://localhost:8080/"
        },
        "id": "6clz6HP38Rvm",
        "outputId": "0352b294-6b89-4d86-fb7f-da926e24ac79"
      },
      "execution_count": 4,
      "outputs": [
        {
          "output_type": "stream",
          "name": "stdout",
          "text": [
            "[[1 2 3 4]\n",
            " [5 6 7 8]]\n",
            "<class 'numpy.ndarray'>\n"
          ]
        }
      ]
    },
    {
      "cell_type": "code",
      "source": [
        "arr2.shape"
      ],
      "metadata": {
        "colab": {
          "base_uri": "https://localhost:8080/"
        },
        "id": "F7HBsgwB8RsW",
        "outputId": "5e6965e8-01c6-457b-9f8b-c9d49c72280a"
      },
      "execution_count": null,
      "outputs": [
        {
          "output_type": "execute_result",
          "data": {
            "text/plain": [
              "(2, 4)"
            ]
          },
          "metadata": {},
          "execution_count": 5
        }
      ]
    },
    {
      "cell_type": "code",
      "source": [
        "arr2.dtype"
      ],
      "metadata": {
        "colab": {
          "base_uri": "https://localhost:8080/"
        },
        "id": "XLDMkyyz8Rp-",
        "outputId": "9cd04677-4f8b-4cee-9352-42b918952cdd"
      },
      "execution_count": 5,
      "outputs": [
        {
          "output_type": "execute_result",
          "data": {
            "text/plain": [
              "dtype('int64')"
            ]
          },
          "metadata": {},
          "execution_count": 5
        }
      ]
    },
    {
      "cell_type": "code",
      "source": [
        "arr = np.array([[1.,2.,3.],[4.,5.,6.]])\n",
        "arr"
      ],
      "metadata": {
        "colab": {
          "base_uri": "https://localhost:8080/"
        },
        "id": "Pc_nvsJ28Rnf",
        "outputId": "c99eb955-fa4c-44cb-8105-86b56186bfca"
      },
      "execution_count": null,
      "outputs": [
        {
          "output_type": "execute_result",
          "data": {
            "text/plain": [
              "array([[1., 2., 3.],\n",
              "       [4., 5., 6.]])"
            ]
          },
          "metadata": {},
          "execution_count": 7
        }
      ]
    },
    {
      "cell_type": "code",
      "source": [
        "np.zeros((3,6))   # shape(3,6)을 가지는, 0.으로만 구성된 ndarray 만들기"
      ],
      "metadata": {
        "colab": {
          "base_uri": "https://localhost:8080/"
        },
        "id": "fgEoQC7WICvp",
        "outputId": "d251badc-d8af-49c4-e18c-247b76a34df6"
      },
      "execution_count": 6,
      "outputs": [
        {
          "output_type": "execute_result",
          "data": {
            "text/plain": [
              "array([[0., 0., 0., 0., 0., 0.],\n",
              "       [0., 0., 0., 0., 0., 0.],\n",
              "       [0., 0., 0., 0., 0., 0.]])"
            ]
          },
          "metadata": {},
          "execution_count": 6
        }
      ]
    },
    {
      "cell_type": "code",
      "source": [
        "np.arange(5)  # 0부터 4까지의 원소들을 가지는, arange(5)"
      ],
      "metadata": {
        "colab": {
          "base_uri": "https://localhost:8080/"
        },
        "id": "OmUEofjUIPGy",
        "outputId": "7ed649bf-31a7-4c56-e83d-36b6946aa393"
      },
      "execution_count": 7,
      "outputs": [
        {
          "output_type": "execute_result",
          "data": {
            "text/plain": [
              "array([0, 1, 2, 3, 4])"
            ]
          },
          "metadata": {},
          "execution_count": 7
        }
      ]
    },
    {
      "cell_type": "code",
      "source": [
        "data = np.random.rand(2,3)  # 랜덤하게 random.rand(), zeros와는 다르게 숫자를 바로 넣음\n",
        "data"
      ],
      "metadata": {
        "colab": {
          "base_uri": "https://localhost:8080/"
        },
        "id": "uzGRmTWiIXy1",
        "outputId": "02356ec5-4800-4465-e319-fe517428ffc5"
      },
      "execution_count": 17,
      "outputs": [
        {
          "output_type": "execute_result",
          "data": {
            "text/plain": [
              "array([[0.56779926, 0.12764955, 0.33828216],\n",
              "       [0.24887334, 0.88928214, 0.26194569]])"
            ]
          },
          "metadata": {},
          "execution_count": 17
        }
      ]
    },
    {
      "cell_type": "code",
      "source": [
        "data.dtype"
      ],
      "metadata": {
        "colab": {
          "base_uri": "https://localhost:8080/"
        },
        "id": "zx3lx59DIgdA",
        "outputId": "a14ce33c-adbd-4462-dafe-4508ad65be64"
      },
      "execution_count": 18,
      "outputs": [
        {
          "output_type": "execute_result",
          "data": {
            "text/plain": [
              "dtype('float64')"
            ]
          },
          "metadata": {},
          "execution_count": 18
        }
      ]
    },
    {
      "cell_type": "code",
      "source": [
        "data.shape"
      ],
      "metadata": {
        "colab": {
          "base_uri": "https://localhost:8080/"
        },
        "id": "EWucv-C7IiKf",
        "outputId": "873e06d9-a8ea-4cd1-fae5-e2009dc63459"
      },
      "execution_count": 19,
      "outputs": [
        {
          "output_type": "execute_result",
          "data": {
            "text/plain": [
              "(2, 3)"
            ]
          },
          "metadata": {},
          "execution_count": 19
        }
      ]
    },
    {
      "cell_type": "markdown",
      "source": [
        "## 연산\n",
        "\n",
        "별도의 loop없이도 묶음 계산이 가능, vectorization\n",
        "\n",
        "같은 크기(equal size)의 array끼리만 계산가능"
      ],
      "metadata": {
        "id": "MtBf_4onIApr"
      }
    },
    {
      "cell_type": "code",
      "source": [
        "arr = np.array([[1.,2.,3.],[4.,5.,6.]])\n",
        "arr"
      ],
      "metadata": {
        "colab": {
          "base_uri": "https://localhost:8080/"
        },
        "id": "HYXgTLxbI6wA",
        "outputId": "b30f9bc6-cffc-48b3-d9a5-bc930de480c1"
      },
      "execution_count": 24,
      "outputs": [
        {
          "output_type": "execute_result",
          "data": {
            "text/plain": [
              "array([[1., 2., 3.],\n",
              "       [4., 5., 6.]])"
            ]
          },
          "metadata": {},
          "execution_count": 24
        }
      ]
    },
    {
      "cell_type": "code",
      "source": [
        "arr*arr  #곱하기"
      ],
      "metadata": {
        "colab": {
          "base_uri": "https://localhost:8080/"
        },
        "id": "Nnznen1C8Rk-",
        "outputId": "8ca37c18-0537-4f8e-e499-ecb5019cf2f9"
      },
      "execution_count": 25,
      "outputs": [
        {
          "output_type": "execute_result",
          "data": {
            "text/plain": [
              "array([[ 1.,  4.,  9.],\n",
              "       [16., 25., 36.]])"
            ]
          },
          "metadata": {},
          "execution_count": 25
        }
      ]
    },
    {
      "cell_type": "code",
      "source": [
        "arr-arr  #빼기"
      ],
      "metadata": {
        "colab": {
          "base_uri": "https://localhost:8080/"
        },
        "id": "DtnsKNtz8Rge",
        "outputId": "ca197a85-68d7-4aba-b118-88af2dc4b64d"
      },
      "execution_count": 26,
      "outputs": [
        {
          "output_type": "execute_result",
          "data": {
            "text/plain": [
              "array([[0., 0., 0.],\n",
              "       [0., 0., 0.]])"
            ]
          },
          "metadata": {},
          "execution_count": 26
        }
      ]
    },
    {
      "cell_type": "code",
      "source": [
        "1/arr  #나누기"
      ],
      "metadata": {
        "colab": {
          "base_uri": "https://localhost:8080/"
        },
        "id": "R-7qVUQ28Rd2",
        "outputId": "d9be44d1-bd5d-47e3-9fbc-7ec8d5b2ba6b"
      },
      "execution_count": 27,
      "outputs": [
        {
          "output_type": "execute_result",
          "data": {
            "text/plain": [
              "array([[1.        , 0.5       , 0.33333333],\n",
              "       [0.25      , 0.2       , 0.16666667]])"
            ]
          },
          "metadata": {},
          "execution_count": 27
        }
      ]
    },
    {
      "cell_type": "code",
      "source": [
        "arr2 > arr  # 둘의 size가 다르다"
      ],
      "metadata": {
        "colab": {
          "base_uri": "https://localhost:8080/",
          "height": 172
        },
        "id": "j5O9BJjk8Rbm",
        "outputId": "9706b847-3ff3-471d-c3b8-a2be6169248a"
      },
      "execution_count": 28,
      "outputs": [
        {
          "output_type": "error",
          "ename": "ValueError",
          "evalue": "ignored",
          "traceback": [
            "\u001b[0;31m---------------------------------------------------------------------------\u001b[0m",
            "\u001b[0;31mValueError\u001b[0m                                Traceback (most recent call last)",
            "\u001b[0;32m<ipython-input-28-9c3844fa1fba>\u001b[0m in \u001b[0;36m<module>\u001b[0;34m\u001b[0m\n\u001b[0;32m----> 1\u001b[0;31m \u001b[0marr2\u001b[0m \u001b[0;34m>\u001b[0m \u001b[0marr\u001b[0m  \u001b[0;31m# 둘의 size가 다르다\u001b[0m\u001b[0;34m\u001b[0m\u001b[0;34m\u001b[0m\u001b[0m\n\u001b[0m",
            "\u001b[0;31mValueError\u001b[0m: operands could not be broadcast together with shapes (2,4) (2,3) "
          ]
        }
      ]
    },
    {
      "cell_type": "code",
      "source": [
        "arr > 3  #상수넣으면 하나씩 비교한다"
      ],
      "metadata": {
        "id": "ZtRSnjjf8RY4",
        "colab": {
          "base_uri": "https://localhost:8080/"
        },
        "outputId": "e053dda7-69c1-4034-9f5c-023c5f1dad64"
      },
      "execution_count": 29,
      "outputs": [
        {
          "output_type": "execute_result",
          "data": {
            "text/plain": [
              "array([[False, False, False],\n",
              "       [ True,  True,  True]])"
            ]
          },
          "metadata": {},
          "execution_count": 29
        }
      ]
    },
    {
      "cell_type": "code",
      "source": [
        "arr==arr  #비교는 Boolean array를 반환한다"
      ],
      "metadata": {
        "id": "DAyww1rE_Sum",
        "colab": {
          "base_uri": "https://localhost:8080/"
        },
        "outputId": "ed6e33ee-ecb2-455a-d522-456fd2dfc8bc"
      },
      "execution_count": 32,
      "outputs": [
        {
          "output_type": "execute_result",
          "data": {
            "text/plain": [
              "array([[ True,  True,  True],\n",
              "       [ True,  True,  True]])"
            ]
          },
          "metadata": {},
          "execution_count": 32
        }
      ]
    },
    {
      "cell_type": "code",
      "source": [
        "arr2 = np.array([[2,3,4],[4,5,6]])"
      ],
      "metadata": {
        "id": "Y2z24XfW_SsY"
      },
      "execution_count": 33,
      "outputs": []
    },
    {
      "cell_type": "code",
      "source": [
        "arr2 > arr"
      ],
      "metadata": {
        "id": "u7XZDNQ0_SqO",
        "colab": {
          "base_uri": "https://localhost:8080/"
        },
        "outputId": "fc3e835d-0685-4859-f0d7-85e8fdb105de"
      },
      "execution_count": 36,
      "outputs": [
        {
          "output_type": "execute_result",
          "data": {
            "text/plain": [
              "array([[ True,  True,  True],\n",
              "       [False, False, False]])"
            ]
          },
          "metadata": {},
          "execution_count": 36
        }
      ]
    },
    {
      "cell_type": "markdown",
      "source": [
        "## indexing과 slicing\n",
        "\n",
        "### array slices, 슬라이싱 한 건 그저 보이는 것일 뿐이다, view일 뿐!"
      ],
      "metadata": {
        "id": "WQ_KKGUjKAAg"
      }
    },
    {
      "cell_type": "code",
      "source": [
        "arr = np.arange(10)\n",
        "arr"
      ],
      "metadata": {
        "colab": {
          "base_uri": "https://localhost:8080/"
        },
        "id": "OSoqtLgF-6c1",
        "outputId": "e59f4f4b-dc3a-4a84-9a6d-95c0419f9d76"
      },
      "execution_count": 38,
      "outputs": [
        {
          "output_type": "execute_result",
          "data": {
            "text/plain": [
              "array([0, 1, 2, 3, 4, 5, 6, 7, 8, 9])"
            ]
          },
          "metadata": {},
          "execution_count": 38
        }
      ]
    },
    {
      "cell_type": "code",
      "source": [
        "arr[5:8] = 12   #마지막은 포함되지 않는다, 슬라이싱 교체\n",
        "arr"
      ],
      "metadata": {
        "colab": {
          "base_uri": "https://localhost:8080/"
        },
        "id": "yPvNVicg_AJm",
        "outputId": "e4abd014-7116-45e5-938e-eddd42090b3c"
      },
      "execution_count": 39,
      "outputs": [
        {
          "output_type": "execute_result",
          "data": {
            "text/plain": [
              "array([ 0,  1,  2,  3,  4, 12, 12, 12,  8,  9])"
            ]
          },
          "metadata": {},
          "execution_count": 39
        }
      ]
    },
    {
      "cell_type": "code",
      "source": [
        "arr_slice = arr[5:8]  #마지막은 포함되지 않는다\n",
        "arr_slice"
      ],
      "metadata": {
        "colab": {
          "base_uri": "https://localhost:8080/"
        },
        "id": "wSpbkCTW8RWu",
        "outputId": "fa3a9c88-f4de-44fd-cc4a-2a6a807280f4"
      },
      "execution_count": 40,
      "outputs": [
        {
          "output_type": "execute_result",
          "data": {
            "text/plain": [
              "array([12, 12, 12])"
            ]
          },
          "metadata": {},
          "execution_count": 40
        }
      ]
    },
    {
      "cell_type": "code",
      "source": [
        "arr_slice[1] = 45   # 슬라이싱한 걸 바꿨는데 본 ndarray의 원소도 바뀜\n",
        "                    # 슬라이싱은 view일 뿐이다!\n",
        "arr"
      ],
      "metadata": {
        "colab": {
          "base_uri": "https://localhost:8080/"
        },
        "id": "720uanq98RUG",
        "outputId": "684ac575-8a33-4c5a-9ca6-59cd55d2308d"
      },
      "execution_count": 43,
      "outputs": [
        {
          "output_type": "execute_result",
          "data": {
            "text/plain": [
              "array([ 0,  1,  2,  3,  4, 12, 45, 12,  8,  9])"
            ]
          },
          "metadata": {},
          "execution_count": 43
        }
      ]
    },
    {
      "cell_type": "code",
      "source": [
        "ar = arr[5:8].copy()\n",
        "print(ar)"
      ],
      "metadata": {
        "colab": {
          "base_uri": "https://localhost:8080/"
        },
        "id": "hS-DJGD8K9ZC",
        "outputId": "d90ce3aa-49e0-4120-d1e4-5e803e855a3c"
      },
      "execution_count": 45,
      "outputs": [
        {
          "output_type": "stream",
          "name": "stdout",
          "text": [
            "[12 45 12]\n"
          ]
        }
      ]
    },
    {
      "cell_type": "code",
      "source": [
        "ar[1]=0   #copy()로 따온 것\n",
        "print(ar)   #수정되었다\n",
        "print(arr)  #수정되지 않았다\n",
        "print(type(ar))\n",
        "print(type(arr))"
      ],
      "metadata": {
        "colab": {
          "base_uri": "https://localhost:8080/"
        },
        "id": "UOyj3kghLD6N",
        "outputId": "ba8cc976-3ddf-40e7-c210-53105a432a16"
      },
      "execution_count": 49,
      "outputs": [
        {
          "output_type": "stream",
          "name": "stdout",
          "text": [
            "[12  0 12]\n",
            "[ 0  1  2  3  4 12 45 12  8  9]\n",
            "<class 'numpy.ndarray'>\n",
            "<class 'numpy.ndarray'>\n"
          ]
        }
      ]
    },
    {
      "cell_type": "markdown",
      "source": [
        "## 다차원 배열의 indexing과 slicing\n"
      ],
      "metadata": {
        "id": "68fTeFJSLlRz"
      }
    },
    {
      "cell_type": "code",
      "source": [
        "arr2d = np.array([[1,2,3],[4,5,6],[7,8,9]])\n",
        "arr2d[2]"
      ],
      "metadata": {
        "colab": {
          "base_uri": "https://localhost:8080/"
        },
        "id": "_mGR3xkK8RR3",
        "outputId": "fbd2a2dd-6ff3-44e7-a5a5-7b2706b0a898"
      },
      "execution_count": 42,
      "outputs": [
        {
          "output_type": "execute_result",
          "data": {
            "text/plain": [
              "array([7, 8, 9])"
            ]
          },
          "metadata": {},
          "execution_count": 42
        }
      ]
    },
    {
      "cell_type": "code",
      "source": [
        "arr2d[0][2]  #따로 []쳐서 보거나"
      ],
      "metadata": {
        "colab": {
          "base_uri": "https://localhost:8080/"
        },
        "id": "UniCWbLZ_uBW",
        "outputId": "2cd4fac4-8923-43b1-a2ed-37688bc786ad"
      },
      "execution_count": null,
      "outputs": [
        {
          "output_type": "execute_result",
          "data": {
            "text/plain": [
              "3"
            ]
          },
          "metadata": {},
          "execution_count": 17
        }
      ]
    },
    {
      "cell_type": "code",
      "source": [
        "arr2d[0,2]  # ','찍어서 보거나 같다"
      ],
      "metadata": {
        "colab": {
          "base_uri": "https://localhost:8080/"
        },
        "id": "WEKkIppT_wZ2",
        "outputId": "ae8e5552-4688-44e7-a5b7-03a3792bed0b"
      },
      "execution_count": null,
      "outputs": [
        {
          "output_type": "execute_result",
          "data": {
            "text/plain": [
              "3"
            ]
          },
          "metadata": {},
          "execution_count": 18
        }
      ]
    },
    {
      "cell_type": "code",
      "source": [
        "arr3d = np.arange(9)\n",
        "arr3d = arr3d.reshape(3,3)   #reshape하면 shape조정해준다\n",
        "arr3d"
      ],
      "metadata": {
        "colab": {
          "base_uri": "https://localhost:8080/"
        },
        "id": "WDcBM1Hn_9iK",
        "outputId": "54497c03-91b7-4401-d99a-4d8397d7857c"
      },
      "execution_count": 52,
      "outputs": [
        {
          "output_type": "execute_result",
          "data": {
            "text/plain": [
              "array([[0, 1, 2],\n",
              "       [3, 4, 5],\n",
              "       [6, 7, 8]])"
            ]
          },
          "metadata": {},
          "execution_count": 52
        }
      ]
    },
    {
      "cell_type": "code",
      "source": [
        "arr3d[:2,1:]  #0,1번째 것과 그 안에서 1,2번째 것"
      ],
      "metadata": {
        "colab": {
          "base_uri": "https://localhost:8080/"
        },
        "id": "DVYi1kExAMQv",
        "outputId": "ab8d2431-87bf-418e-cda2-9116682d6a69"
      },
      "execution_count": 57,
      "outputs": [
        {
          "output_type": "execute_result",
          "data": {
            "text/plain": [
              "array([[1, 2],\n",
              "       [4, 5]])"
            ]
          },
          "metadata": {},
          "execution_count": 57
        }
      ]
    },
    {
      "cell_type": "code",
      "source": [
        "arr3d[2]  #두번째 것"
      ],
      "metadata": {
        "colab": {
          "base_uri": "https://localhost:8080/"
        },
        "id": "hcFeqxZnAVW-",
        "outputId": "30d87ded-5229-4968-b965-55f3aaf7dd3c"
      },
      "execution_count": 58,
      "outputs": [
        {
          "output_type": "execute_result",
          "data": {
            "text/plain": [
              "array([6, 7, 8])"
            ]
          },
          "metadata": {},
          "execution_count": 58
        }
      ]
    },
    {
      "cell_type": "code",
      "source": [
        "arr3d[:,:2]  #전체와 그 안에서 0, 1번째 것"
      ],
      "metadata": {
        "colab": {
          "base_uri": "https://localhost:8080/"
        },
        "id": "c6MqCsQuAW82",
        "outputId": "1c2c7c00-43f0-424c-b7a7-c90774e466dc"
      },
      "execution_count": 59,
      "outputs": [
        {
          "output_type": "execute_result",
          "data": {
            "text/plain": [
              "array([[0, 1],\n",
              "       [3, 4],\n",
              "       [6, 7]])"
            ]
          },
          "metadata": {},
          "execution_count": 59
        }
      ]
    },
    {
      "cell_type": "code",
      "source": [
        "arr3d[1,:2]  #1번과 그 안에서 0,1번째 것"
      ],
      "metadata": {
        "colab": {
          "base_uri": "https://localhost:8080/"
        },
        "id": "r3nGGc2_AZGG",
        "outputId": "5f132b8e-ab91-457e-a9c5-e0cf1885b028"
      },
      "execution_count": 60,
      "outputs": [
        {
          "output_type": "execute_result",
          "data": {
            "text/plain": [
              "array([3, 4])"
            ]
          },
          "metadata": {},
          "execution_count": 60
        }
      ]
    },
    {
      "cell_type": "code",
      "source": [
        "arr3d = np.array([[[1,2,3],[4,5,6]],[[7,8,9],[10,11,12]]])  #shape는 (2,2,3)입니다.\n",
        "print(arr3d)\n",
        "print(arr3d.shape)  #바깥쪽부터 센다"
      ],
      "metadata": {
        "colab": {
          "base_uri": "https://localhost:8080/"
        },
        "id": "GNa-_IyxBpGv",
        "outputId": "9eb5674d-d47e-48e1-e375-2d169da463c8"
      },
      "execution_count": 62,
      "outputs": [
        {
          "output_type": "stream",
          "name": "stdout",
          "text": [
            "[[[ 1  2  3]\n",
            "  [ 4  5  6]]\n",
            "\n",
            " [[ 7  8  9]\n",
            "  [10 11 12]]]\n",
            "(2, 2, 3)\n"
          ]
        }
      ]
    },
    {
      "cell_type": "code",
      "source": [
        "print(arr3d[0])\n",
        "#print(type(arr3d[0]))\n",
        "print(arr3d[0].shape)"
      ],
      "metadata": {
        "colab": {
          "base_uri": "https://localhost:8080/"
        },
        "id": "qeXV8xNWBpEn",
        "outputId": "0b5ddca7-1794-44e8-b668-bf0091013600"
      },
      "execution_count": 69,
      "outputs": [
        {
          "output_type": "stream",
          "name": "stdout",
          "text": [
            "[[1 2 3]\n",
            " [4 5 6]]\n",
            "(2, 3)\n"
          ]
        }
      ]
    },
    {
      "cell_type": "code",
      "source": [
        "arr3d[0,0]"
      ],
      "metadata": {
        "colab": {
          "base_uri": "https://localhost:8080/"
        },
        "id": "yYMfybMBBpCg",
        "outputId": "7908bdbf-3aaf-4810-dc30-80028c2ae7a8"
      },
      "execution_count": null,
      "outputs": [
        {
          "output_type": "execute_result",
          "data": {
            "text/plain": [
              "array([1, 2, 3])"
            ]
          },
          "metadata": {},
          "execution_count": 33
        }
      ]
    },
    {
      "cell_type": "code",
      "source": [
        "arr3d[0,0,0]\n",
        "#print(type(arr3d[0,0,0]))"
      ],
      "metadata": {
        "colab": {
          "base_uri": "https://localhost:8080/"
        },
        "id": "HESx76oiBpAX",
        "outputId": "90b0fcc9-344c-4c90-b9d7-d904284c4f12"
      },
      "execution_count": 71,
      "outputs": [
        {
          "output_type": "execute_result",
          "data": {
            "text/plain": [
              "1"
            ]
          },
          "metadata": {},
          "execution_count": 71
        }
      ]
    },
    {
      "cell_type": "code",
      "source": [
        "arr3d[:,1]  #전체 안에서 1번째 것들"
      ],
      "metadata": {
        "colab": {
          "base_uri": "https://localhost:8080/"
        },
        "id": "5LY-3WiKBo9_",
        "outputId": "b9c0721a-c492-41c3-dc65-1b8e0128199b"
      },
      "execution_count": null,
      "outputs": [
        {
          "output_type": "execute_result",
          "data": {
            "text/plain": [
              "array([[ 4,  5,  6],\n",
              "       [10, 11, 12]])"
            ]
          },
          "metadata": {},
          "execution_count": 37
        }
      ]
    },
    {
      "cell_type": "code",
      "source": [
        "arr3d[:,:,2]  #안, 안에서 2번째 것들(2차원 배열로 나옴)"
      ],
      "metadata": {
        "colab": {
          "base_uri": "https://localhost:8080/"
        },
        "id": "BKk2IsTcCeTA",
        "outputId": "5df6d259-18a1-482a-d385-9581afc58877"
      },
      "execution_count": 72,
      "outputs": [
        {
          "output_type": "execute_result",
          "data": {
            "text/plain": [
              "array([[ 3,  6],\n",
              "       [ 9, 12]])"
            ]
          },
          "metadata": {},
          "execution_count": 72
        }
      ]
    },
    {
      "cell_type": "markdown",
      "source": [
        "## Boolean indexing"
      ],
      "metadata": {
        "id": "NlDzh4LyRULt"
      }
    },
    {
      "cell_type": "code",
      "source": [
        "names = np.array(['bob', 'joe','bob'])\n",
        "data = np.random.rand(3,4)\n",
        "data"
      ],
      "metadata": {
        "id": "Y6l3TdxbChZA",
        "colab": {
          "base_uri": "https://localhost:8080/"
        },
        "outputId": "ee9c8d84-a74c-4f34-df8c-3caeb30a9fa3"
      },
      "execution_count": 75,
      "outputs": [
        {
          "output_type": "execute_result",
          "data": {
            "text/plain": [
              "array([[0.63737529, 0.85800818, 0.9092463 , 0.51076795],\n",
              "       [0.88003983, 0.18545995, 0.29556703, 0.06858983],\n",
              "       [0.25608252, 0.18610683, 0.21738375, 0.27951281]])"
            ]
          },
          "metadata": {},
          "execution_count": 75
        }
      ]
    },
    {
      "cell_type": "code",
      "source": [
        "names == 'bob'"
      ],
      "metadata": {
        "id": "d1sJmKSySK46",
        "colab": {
          "base_uri": "https://localhost:8080/"
        },
        "outputId": "133b3692-4cd2-45a0-f1a1-168f1645cfdd"
      },
      "execution_count": 76,
      "outputs": [
        {
          "output_type": "execute_result",
          "data": {
            "text/plain": [
              "array([ True, False,  True])"
            ]
          },
          "metadata": {},
          "execution_count": 76
        }
      ]
    },
    {
      "cell_type": "code",
      "source": [
        "names.dtype"
      ],
      "metadata": {
        "id": "igCfBEE-SK2h",
        "colab": {
          "base_uri": "https://localhost:8080/"
        },
        "outputId": "f7ee7581-cc21-43a3-b91c-49433d83bb50"
      },
      "execution_count": 79,
      "outputs": [
        {
          "output_type": "execute_result",
          "data": {
            "text/plain": [
              "dtype('<U3')"
            ]
          },
          "metadata": {},
          "execution_count": 79
        }
      ]
    },
    {
      "cell_type": "code",
      "source": [
        "data[names=='bob']  #0번째랑 2번째 것들이 나온다"
      ],
      "metadata": {
        "id": "k4DRz47GR19D",
        "outputId": "4804ff10-c57c-4ef2-fb79-db18644439af",
        "colab": {
          "base_uri": "https://localhost:8080/"
        }
      },
      "execution_count": 80,
      "outputs": [
        {
          "output_type": "execute_result",
          "data": {
            "text/plain": [
              "array([[0.63737529, 0.85800818, 0.9092463 , 0.51076795],\n",
              "       [0.25608252, 0.18610683, 0.21738375, 0.27951281]])"
            ]
          },
          "metadata": {},
          "execution_count": 80
        }
      ]
    },
    {
      "cell_type": "code",
      "source": [
        "data[data<0.2] = 0\n",
        "data"
      ],
      "metadata": {
        "id": "k6so9jwISEgf",
        "outputId": "cd20c0a6-cd3d-4155-c1f1-9d5a3f7d07e8",
        "colab": {
          "base_uri": "https://localhost:8080/"
        }
      },
      "execution_count": 81,
      "outputs": [
        {
          "output_type": "execute_result",
          "data": {
            "text/plain": [
              "array([[0.63737529, 0.85800818, 0.9092463 , 0.51076795],\n",
              "       [0.88003983, 0.        , 0.29556703, 0.        ],\n",
              "       [0.25608252, 0.        , 0.21738375, 0.27951281]])"
            ]
          },
          "metadata": {},
          "execution_count": 81
        }
      ]
    },
    {
      "cell_type": "markdown",
      "source": [
        "## Transpose and Reshape"
      ],
      "metadata": {
        "id": "ckEfkHlYSMOP"
      }
    },
    {
      "cell_type": "code",
      "source": [
        "import numpy as np\n",
        "arr = np.arange(15).reshape((3,5))\n",
        "arr"
      ],
      "metadata": {
        "id": "5PbByxKrSVTR",
        "outputId": "76baa317-ffb1-416f-eb95-6b60f9a78f20",
        "colab": {
          "base_uri": "https://localhost:8080/"
        }
      },
      "execution_count": 88,
      "outputs": [
        {
          "output_type": "execute_result",
          "data": {
            "text/plain": [
              "array([[ 0,  1,  2,  3,  4],\n",
              "       [ 5,  6,  7,  8,  9],\n",
              "       [10, 11, 12, 13, 14]])"
            ]
          },
          "metadata": {},
          "execution_count": 88
        }
      ]
    },
    {
      "cell_type": "code",
      "source": [
        "arr.T  #transpose함"
      ],
      "metadata": {
        "id": "hYea4QEwSePq",
        "outputId": "71a3d028-d020-425e-966c-aec058b7edd1",
        "colab": {
          "base_uri": "https://localhost:8080/"
        }
      },
      "execution_count": 89,
      "outputs": [
        {
          "output_type": "execute_result",
          "data": {
            "text/plain": [
              "array([[ 0,  5, 10],\n",
              "       [ 1,  6, 11],\n",
              "       [ 2,  7, 12],\n",
              "       [ 3,  8, 13],\n",
              "       [ 4,  9, 14]])"
            ]
          },
          "metadata": {},
          "execution_count": 89
        }
      ]
    },
    {
      "cell_type": "code",
      "source": [
        "arr   #본래배열은 변하지 않음"
      ],
      "metadata": {
        "id": "AvWGf0p3SpoS",
        "outputId": "20536a3e-a423-4f18-9617-cc3fb41573fe",
        "colab": {
          "base_uri": "https://localhost:8080/"
        }
      },
      "execution_count": 91,
      "outputs": [
        {
          "output_type": "execute_result",
          "data": {
            "text/plain": [
              "array([[ 0,  1,  2,  3,  4],\n",
              "       [ 5,  6,  7,  8,  9],\n",
              "       [10, 11, 12, 13, 14]])"
            ]
          },
          "metadata": {},
          "execution_count": 91
        }
      ]
    },
    {
      "cell_type": "code",
      "source": [
        "arr.transpose((1,0))"
      ],
      "metadata": {
        "id": "mG_Bg47dSjhe",
        "outputId": "a5fab139-c6e0-4473-c7a1-2b919c9828c0",
        "colab": {
          "base_uri": "https://localhost:8080/"
        }
      },
      "execution_count": 92,
      "outputs": [
        {
          "output_type": "execute_result",
          "data": {
            "text/plain": [
              "array([[ 0,  5, 10],\n",
              "       [ 1,  6, 11],\n",
              "       [ 2,  7, 12],\n",
              "       [ 3,  8, 13],\n",
              "       [ 4,  9, 14]])"
            ]
          },
          "metadata": {},
          "execution_count": 92
        }
      ]
    },
    {
      "cell_type": "markdown",
      "source": [
        "## 연산"
      ],
      "metadata": {
        "id": "cY3EhYuqS5VD"
      }
    },
    {
      "cell_type": "code",
      "source": [
        "import numpy as np\n",
        " \n",
        "a = np.arange(9).reshape(3,3)\n",
        "print(a)\n",
        "print(a.sum(axis=0))  #0축에 있는 것들끼리 더한다. 세로방향."
      ],
      "metadata": {
        "colab": {
          "base_uri": "https://localhost:8080/"
        },
        "id": "iUvyCGzMSK0K",
        "outputId": "a1fc6b13-2385-427f-f808-f87b4996b2ba"
      },
      "execution_count": 82,
      "outputs": [
        {
          "output_type": "stream",
          "name": "stdout",
          "text": [
            "[[0 1 2]\n",
            " [3 4 5]\n",
            " [6 7 8]]\n",
            "[ 9 12 15]\n"
          ]
        }
      ]
    },
    {
      "cell_type": "code",
      "source": [
        "import numpy as np\n",
        " \n",
        "arr = np.array([[1,2,3,4,5], [6,7,8,9,10]])\n",
        "output = arr > 7   #boolean array나온다\n",
        "print(output)"
      ],
      "metadata": {
        "colab": {
          "base_uri": "https://localhost:8080/"
        },
        "id": "glHDzeZiSKx6",
        "outputId": "51c1a59b-5ffb-4e10-ffef-4ddc57f44b0d"
      },
      "execution_count": null,
      "outputs": [
        {
          "output_type": "stream",
          "name": "stdout",
          "text": [
            "[[False False False False False]\n",
            " [False False  True  True  True]]\n"
          ]
        }
      ]
    },
    {
      "cell_type": "code",
      "source": [
        "import numpy as np\n",
        " \n",
        "a = np.array([[1,2,3],[4,5,6],[7,8,9]])\n",
        "print(a[:2,2:])   #슬라이싱할 때 마지막거 포함안됨"
      ],
      "metadata": {
        "colab": {
          "base_uri": "https://localhost:8080/"
        },
        "id": "F7w9CIBXSSES",
        "outputId": "1a1b7a5a-0f55-4577-cf2a-cb7103b18885"
      },
      "execution_count": null,
      "outputs": [
        {
          "output_type": "stream",
          "name": "stdout",
          "text": [
            "[[3]\n",
            " [6]]\n"
          ]
        }
      ]
    },
    {
      "cell_type": "code",
      "source": [
        "import numpy as np\n",
        " \n",
        "a = np.array([[1,2,3,4], [5,6,7,8], [9,10,11,12]])\n",
        "print(a.shape)\n"
      ],
      "metadata": {
        "colab": {
          "base_uri": "https://localhost:8080/"
        },
        "id": "KCXk2VJvSSCC",
        "outputId": "97173631-e29b-4a96-ffad-aefa0b7e434a"
      },
      "execution_count": null,
      "outputs": [
        {
          "output_type": "stream",
          "name": "stdout",
          "text": [
            "(3, 4)\n"
          ]
        }
      ]
    },
    {
      "cell_type": "code",
      "source": [
        "import numpy as np\n",
        " \n",
        "a = np.array([[1,1,1],[2,2,2],[3,3,3]])\n",
        "print(a*a)"
      ],
      "metadata": {
        "colab": {
          "base_uri": "https://localhost:8080/"
        },
        "id": "OfA6f74qSR_6",
        "outputId": "a7411f76-c282-485b-dfa4-344a8c16e353"
      },
      "execution_count": null,
      "outputs": [
        {
          "output_type": "stream",
          "name": "stdout",
          "text": [
            "[[1 1 1]\n",
            " [4 4 4]\n",
            " [9 9 9]]\n"
          ]
        }
      ]
    },
    {
      "cell_type": "code",
      "source": [
        "arr = np.array([0, 1, 2, 3, 4, 5, 6, 7, 8, 9])\n",
        "arr[arr % 2 == 1] = -1   #홀수를 -1로 만들어버림\n",
        "arr\n"
      ],
      "metadata": {
        "colab": {
          "base_uri": "https://localhost:8080/"
        },
        "id": "GGE-pzrbSbbp",
        "outputId": "7f910b9d-0b7e-4f72-e681-190e6160b5b2"
      },
      "execution_count": 93,
      "outputs": [
        {
          "output_type": "execute_result",
          "data": {
            "text/plain": [
              "array([ 0, -1,  2, -1,  4, -1,  6, -1,  8, -1])"
            ]
          },
          "metadata": {},
          "execution_count": 93
        }
      ]
    },
    {
      "cell_type": "code",
      "source": [
        "Z = np.zeros((3,3),dtype=int)\n",
        "print(Z)\n",
        "Z[1:2,::2] = 1\n",
        "print(Z)\n",
        "Z[::2,1::2] = 1\n",
        "print(Z)\n",
        "np.sum(Z)"
      ],
      "metadata": {
        "colab": {
          "base_uri": "https://localhost:8080/"
        },
        "id": "bpPzk2VmSfUB",
        "outputId": "368ec1f8-e4a3-46ba-c90a-e3c17e566a95"
      },
      "execution_count": 94,
      "outputs": [
        {
          "output_type": "stream",
          "name": "stdout",
          "text": [
            "[[0 0 0]\n",
            " [0 0 0]\n",
            " [0 0 0]]\n",
            "[[0 0 0]\n",
            " [1 0 1]\n",
            " [0 0 0]]\n",
            "[[0 1 0]\n",
            " [1 0 1]\n",
            " [0 1 0]]\n"
          ]
        },
        {
          "output_type": "execute_result",
          "data": {
            "text/plain": [
              "4"
            ]
          },
          "metadata": {},
          "execution_count": 94
        }
      ]
    },
    {
      "cell_type": "markdown",
      "source": [
        "## 다양한 함수들"
      ],
      "metadata": {
        "id": "hDMoa8mGUIgg"
      }
    },
    {
      "cell_type": "code",
      "source": [
        "arr = np.arange(10).reshape((3.3))\n",
        "arr"
      ],
      "metadata": {
        "id": "mkwV7dfRUISE",
        "outputId": "ce96abcd-d4a9-4102-ab0a-7286549ef3cf",
        "colab": {
          "base_uri": "https://localhost:8080/",
          "height": 190
        }
      },
      "execution_count": 104,
      "outputs": [
        {
          "output_type": "error",
          "ename": "TypeError",
          "evalue": "ignored",
          "traceback": [
            "\u001b[0;31m---------------------------------------------------------------------------\u001b[0m",
            "\u001b[0;31mTypeError\u001b[0m                                 Traceback (most recent call last)",
            "\u001b[0;32m<ipython-input-104-cbe40fd6540e>\u001b[0m in \u001b[0;36m<module>\u001b[0;34m\u001b[0m\n\u001b[0;32m----> 1\u001b[0;31m \u001b[0marr\u001b[0m \u001b[0;34m=\u001b[0m \u001b[0mnp\u001b[0m\u001b[0;34m.\u001b[0m\u001b[0marange\u001b[0m\u001b[0;34m(\u001b[0m\u001b[0;36m10\u001b[0m\u001b[0;34m)\u001b[0m\u001b[0;34m.\u001b[0m\u001b[0mreshape\u001b[0m\u001b[0;34m(\u001b[0m\u001b[0;34m(\u001b[0m\u001b[0;36m3.3\u001b[0m\u001b[0;34m)\u001b[0m\u001b[0;34m)\u001b[0m\u001b[0;34m\u001b[0m\u001b[0;34m\u001b[0m\u001b[0m\n\u001b[0m\u001b[1;32m      2\u001b[0m \u001b[0marr\u001b[0m\u001b[0;34m\u001b[0m\u001b[0;34m\u001b[0m\u001b[0m\n",
            "\u001b[0;31mTypeError\u001b[0m: 'float' object cannot be interpreted as an integer"
          ]
        }
      ]
    },
    {
      "cell_type": "code",
      "source": [
        "np.sqrt(arr)"
      ],
      "metadata": {
        "id": "slmLMe5hUQ1s",
        "outputId": "76186c90-28af-4cce-eb5d-e1be878dab95",
        "colab": {
          "base_uri": "https://localhost:8080/"
        }
      },
      "execution_count": 97,
      "outputs": [
        {
          "output_type": "execute_result",
          "data": {
            "text/plain": [
              "array([0.        , 1.        , 1.41421356, 1.73205081, 2.        ,\n",
              "       2.23606798, 2.44948974, 2.64575131, 2.82842712, 3.        ])"
            ]
          },
          "metadata": {},
          "execution_count": 97
        }
      ]
    },
    {
      "cell_type": "code",
      "source": [
        "arr   # 수정안됨"
      ],
      "metadata": {
        "id": "8tX7YByTUmpJ",
        "outputId": "1016b3d9-7089-4835-9e35-ab3a2f4833eb",
        "colab": {
          "base_uri": "https://localhost:8080/"
        }
      },
      "execution_count": 99,
      "outputs": [
        {
          "output_type": "execute_result",
          "data": {
            "text/plain": [
              "array([0, 1, 2, 3, 4, 5, 6, 7, 8, 9])"
            ]
          },
          "metadata": {},
          "execution_count": 99
        }
      ]
    },
    {
      "cell_type": "code",
      "source": [
        "np.exp(arr)  #e의 지수로"
      ],
      "metadata": {
        "id": "pI1o5AraUUDZ",
        "outputId": "b62e3499-a1d3-4456-f000-f4882f0ef019",
        "colab": {
          "base_uri": "https://localhost:8080/"
        }
      },
      "execution_count": 98,
      "outputs": [
        {
          "output_type": "execute_result",
          "data": {
            "text/plain": [
              "array([1.00000000e+00, 2.71828183e+00, 7.38905610e+00, 2.00855369e+01,\n",
              "       5.45981500e+01, 1.48413159e+02, 4.03428793e+02, 1.09663316e+03,\n",
              "       2.98095799e+03, 8.10308393e+03])"
            ]
          },
          "metadata": {},
          "execution_count": 98
        }
      ]
    },
    {
      "cell_type": "code",
      "source": [
        "arr.mean()"
      ],
      "metadata": {
        "id": "z3QxyvIwUjKn",
        "outputId": "c1b82b81-8a1a-4ec0-a15b-f11e4c97e35e",
        "colab": {
          "base_uri": "https://localhost:8080/"
        }
      },
      "execution_count": 100,
      "outputs": [
        {
          "output_type": "execute_result",
          "data": {
            "text/plain": [
              "4.5"
            ]
          },
          "metadata": {},
          "execution_count": 100
        }
      ]
    },
    {
      "cell_type": "code",
      "source": [
        "np.mean(arr)"
      ],
      "metadata": {
        "id": "nZXBNPnIUt-Y",
        "outputId": "5e441f71-425f-4ed5-faf4-307cf254d667",
        "colab": {
          "base_uri": "https://localhost:8080/"
        }
      },
      "execution_count": 102,
      "outputs": [
        {
          "output_type": "execute_result",
          "data": {
            "text/plain": [
              "4.5"
            ]
          },
          "metadata": {},
          "execution_count": 102
        }
      ]
    },
    {
      "cell_type": "code",
      "source": [
        "arr.sum()"
      ],
      "metadata": {
        "id": "nZtLBUI3Ur7K",
        "outputId": "ac32592f-2879-4977-fd91-aba2cf1f6fdd",
        "colab": {
          "base_uri": "https://localhost:8080/"
        }
      },
      "execution_count": 101,
      "outputs": [
        {
          "output_type": "execute_result",
          "data": {
            "text/plain": [
              "45"
            ]
          },
          "metadata": {},
          "execution_count": 101
        }
      ]
    },
    {
      "cell_type": "code",
      "source": [
        "arr = np.arange(10).reshape(2,5)\n",
        "arr"
      ],
      "metadata": {
        "id": "7tdZVR29VHVo",
        "outputId": "a9fdf381-c327-40d5-f6b3-96673ee2f95d",
        "colab": {
          "base_uri": "https://localhost:8080/"
        }
      },
      "execution_count": 105,
      "outputs": [
        {
          "output_type": "execute_result",
          "data": {
            "text/plain": [
              "array([[0, 1, 2, 3, 4],\n",
              "       [5, 6, 7, 8, 9]])"
            ]
          },
          "metadata": {},
          "execution_count": 105
        }
      ]
    },
    {
      "cell_type": "code",
      "source": [
        "arr.sum(axis=0)"
      ],
      "metadata": {
        "id": "35TZ0XmfUwpq",
        "outputId": "bc53d628-8b2b-426d-8aea-a035d6353b90",
        "colab": {
          "base_uri": "https://localhost:8080/"
        }
      },
      "execution_count": 106,
      "outputs": [
        {
          "output_type": "execute_result",
          "data": {
            "text/plain": [
              "array([ 5,  7,  9, 11, 13])"
            ]
          },
          "metadata": {},
          "execution_count": 106
        }
      ]
    },
    {
      "cell_type": "code",
      "source": [
        "arr.sum(axis=1)"
      ],
      "metadata": {
        "id": "251q0--PUzmf",
        "outputId": "eaa63e08-7113-4b02-9fc6-6a81a7897bd8",
        "colab": {
          "base_uri": "https://localhost:8080/"
        }
      },
      "execution_count": 107,
      "outputs": [
        {
          "output_type": "execute_result",
          "data": {
            "text/plain": [
              "array([10, 35])"
            ]
          },
          "metadata": {},
          "execution_count": 107
        }
      ]
    },
    {
      "cell_type": "code",
      "source": [
        "arr.mean(axis=0)"
      ],
      "metadata": {
        "id": "iKdoSophVTnH",
        "outputId": "a95414c5-4fe6-4a42-d05a-69e9f4fe2974",
        "colab": {
          "base_uri": "https://localhost:8080/"
        }
      },
      "execution_count": 108,
      "outputs": [
        {
          "output_type": "execute_result",
          "data": {
            "text/plain": [
              "array([2.5, 3.5, 4.5, 5.5, 6.5])"
            ]
          },
          "metadata": {},
          "execution_count": 108
        }
      ]
    },
    {
      "cell_type": "code",
      "source": [
        "arr.mean(axis=1)"
      ],
      "metadata": {
        "id": "0YEg83-jVYoA",
        "outputId": "21eda681-3390-4777-8a03-8147c9210899",
        "colab": {
          "base_uri": "https://localhost:8080/"
        }
      },
      "execution_count": 109,
      "outputs": [
        {
          "output_type": "execute_result",
          "data": {
            "text/plain": [
              "array([2., 7.])"
            ]
          },
          "metadata": {},
          "execution_count": 109
        }
      ]
    },
    {
      "cell_type": "code",
      "source": [
        "arr.mean()"
      ],
      "metadata": {
        "id": "UYlB1Yx6VcL7",
        "outputId": "f0a19204-ae3f-448e-85eb-c68007aabc6f",
        "colab": {
          "base_uri": "https://localhost:8080/"
        }
      },
      "execution_count": 110,
      "outputs": [
        {
          "output_type": "execute_result",
          "data": {
            "text/plain": [
              "4.5"
            ]
          },
          "metadata": {},
          "execution_count": 110
        }
      ]
    },
    {
      "cell_type": "code",
      "source": [
        "import numpy as np\n",
        "x = np.arange(12).reshape(4,3)\n",
        "x"
      ],
      "metadata": {
        "id": "BL_6irpDWCcD",
        "outputId": "55f5974d-a6b0-4dda-e715-1bd83eb65711",
        "colab": {
          "base_uri": "https://localhost:8080/"
        }
      },
      "execution_count": 111,
      "outputs": [
        {
          "output_type": "execute_result",
          "data": {
            "text/plain": [
              "array([[ 0,  1,  2],\n",
              "       [ 3,  4,  5],\n",
              "       [ 6,  7,  8],\n",
              "       [ 9, 10, 11]])"
            ]
          },
          "metadata": {},
          "execution_count": 111
        }
      ]
    },
    {
      "cell_type": "code",
      "source": [
        "np.mean(x, axis=0)"
      ],
      "metadata": {
        "id": "rYoSxVNQWJv4",
        "outputId": "7530af3f-5859-4924-abb5-da044f093959",
        "colab": {
          "base_uri": "https://localhost:8080/"
        }
      },
      "execution_count": 112,
      "outputs": [
        {
          "output_type": "execute_result",
          "data": {
            "text/plain": [
              "array([4.5, 5.5, 6.5])"
            ]
          },
          "metadata": {},
          "execution_count": 112
        }
      ]
    },
    {
      "cell_type": "code",
      "source": [
        "x = x-np.mean(x,axis=0)\n",
        "x"
      ],
      "metadata": {
        "id": "3yQvhEoWWOCd",
        "outputId": "c4fe19f5-dabf-4efa-d105-b634c5b6f1a8",
        "colab": {
          "base_uri": "https://localhost:8080/"
        }
      },
      "execution_count": 113,
      "outputs": [
        {
          "output_type": "execute_result",
          "data": {
            "text/plain": [
              "array([[-4.5, -4.5, -4.5],\n",
              "       [-1.5, -1.5, -1.5],\n",
              "       [ 1.5,  1.5,  1.5],\n",
              "       [ 4.5,  4.5,  4.5]])"
            ]
          },
          "metadata": {},
          "execution_count": 113
        }
      ]
    },
    {
      "cell_type": "markdown",
      "source": [
        "### 선형대수랑 난수배열생성도 있음"
      ],
      "metadata": {
        "id": "Mt3HIXHmWfLE"
      }
    },
    {
      "cell_type": "markdown",
      "source": [
        "## 퀴즈"
      ],
      "metadata": {
        "id": "5SItYItJXfMC"
      }
    },
    {
      "cell_type": "code",
      "source": [
        "import numpy as np\n",
        "a=np.arange(9).reshape(3,3)\n",
        "print(a.sum(axis=0))"
      ],
      "metadata": {
        "id": "Ws0FdiSMXhla",
        "outputId": "c3078283-3596-42d4-c535-0b1092703628",
        "colab": {
          "base_uri": "https://localhost:8080/"
        }
      },
      "execution_count": 114,
      "outputs": [
        {
          "output_type": "stream",
          "name": "stdout",
          "text": [
            "[ 9 12 15]\n"
          ]
        }
      ]
    },
    {
      "cell_type": "code",
      "source": [
        "a"
      ],
      "metadata": {
        "id": "FxlU4u7JX1Js",
        "outputId": "bf502f06-a729-4e77-8e8d-6fcab513b21a",
        "colab": {
          "base_uri": "https://localhost:8080/"
        }
      },
      "execution_count": 115,
      "outputs": [
        {
          "output_type": "execute_result",
          "data": {
            "text/plain": [
              "array([[0, 1, 2],\n",
              "       [3, 4, 5],\n",
              "       [6, 7, 8]])"
            ]
          },
          "metadata": {},
          "execution_count": 115
        }
      ]
    },
    {
      "cell_type": "markdown",
      "source": [
        "# 실습"
      ],
      "metadata": {
        "id": "Nq0Q1ExyGpbg"
      }
    },
    {
      "cell_type": "code",
      "source": [
        "numpy를 import 하시오\n",
        "import ~~~\n",
        "import numpy as np\n",
        "### Exercise 1\n",
        "10부터 19까지 범위를 가지는 numpy array생성하라.  \n",
        "(Hint) np.arange\n",
        "​\n",
        "array([10, 11, 12, 13, 14, 15, 16, 17, 18, 19])\n",
        "np.arange(10,20)\n",
        "array([10, 11, 12, 13, 14, 15, 16, 17, 18, 19])\n",
        "### Exercise 2\n",
        "- (2-1) 0부터 11까지의 (4,3) array를 arange와 reshape를 이용해서 만들고  \n",
        "- (2-2) 첫번째 열과 세번째 열의 값을 slicing을 통해서 가져오라.  \n",
        "array([[ 0,  1,  2],\n",
        "       [ 3,  4,  5],\n",
        "       [ 6,  7,  8],\n",
        "       [ 9, 10, 11]])\n",
        "       \n",
        "array([[ 0,  2],\n",
        "       [ 3,  5],\n",
        "       [ 6,  8],\n",
        "       [ 9, 11]])\n",
        "arr = np.arange(0,12).reshape((4,3))\n",
        "arr\n",
        "array([[ 0,  1,  2],\n",
        "       [ 3,  4,  5],\n",
        "       [ 6,  7,  8],\n",
        "       [ 9, 10, 11]])\n",
        "arr[:,0:3:2]\n",
        "array([[ 0,  2],\n",
        "       [ 3,  5],\n",
        "       [ 6,  8],\n",
        "       [ 9, 11]])\n",
        "### Exercise 3\n",
        "array([[1, 2],[3, 4]]) 2차원 배열을 생성하고  \n",
        "배열의 모든 원소에 대해서 주어진 함수  f(x)=x^2+x−6 을 적용해 보자.\n",
        "array([[1, 2],\n",
        "       [3, 4]])\n",
        "​\n",
        "array([[-4,  0],\n",
        "       [ 6, 14]])\n",
        "arr2d = np.arange(1,5).reshape((2,2))\n",
        "#arr2d = np.array([[1,2],[3,4]])\n",
        "arr2d\n",
        "array([[1, 2],\n",
        "       [3, 4]])\n",
        "arr2d*arr2d + arr2d - 6\n",
        "array([[-4,  0],\n",
        "       [ 6, 14]])\n",
        "### Exercise 4\n",
        "- (3-1) 1부터 11까지 5행, 2열의 array를 만들어라  \n",
        "- (3-2) 만든 array에서 모든요소의합, 각 열의 합, 각 행의 합을 계산해보자\n",
        "(Hint) data.sum()\n",
        "array([[ 1,  2],\n",
        "       [ 3,  4],\n",
        "       [ 5,  6],\n",
        "       [ 7,  8],\n",
        "       [ 9, 10]])\n",
        "       \n",
        "전체합: 55\n",
        "열의합: array([25, 30])\n",
        "행의합: array([ 3,  7, 11, 15, 19])\n",
        "arr = np.arange(1,11).reshape((5,2))\n",
        "arr\n",
        "array([[ 1,  2],\n",
        "       [ 3,  4],\n",
        "       [ 5,  6],\n",
        "       [ 7,  8],\n",
        "       [ 9, 10]])\n",
        "arr.sum()\n",
        "55\n",
        "arr.sum(axis=0)\n",
        "array([25, 30])\n",
        "arr.sum(axis=1)\n",
        "array([ 3,  7, 11, 15, 19])\n",
        "### Exercise 5\n",
        "- (4-1) array([[ 2,  4,  6],[ 8, 10, 12]]) 를 만든다.  \n",
        "- (4-2) 해당 array를 이용하여 전체 평균 및 표준 편차를 구하고, Z 정규화해보자   \n",
        "$$ Z =  \\frac{ X - \\mu}{ \\sigma} $$  \n",
        "(Hint) np.mean(), np.std()\n",
        "array([[ 2,  4,  6],\n",
        "       [ 8, 10, 12]])\n",
        "​\n",
        "평균: 7.0\n",
        "표준편차: 3.415650255319866\n",
        "Z transform 결과\n",
        "array([[-1.46385011, -0.87831007, -0.29277002],\n",
        "       [ 0.29277002,  0.87831007,  1.46385011]])\n",
        "arr2d = np.arange(2,13,2).reshape((2,3))\n",
        "#arr2d = np.array([[2,4,6],[8,10,12]])\n",
        "arr2d\n",
        "array([[ 2,  4,  6],\n",
        "       [ 8, 10, 12]])\n",
        "m = arr2d.mean()\n",
        "s = arr2d.std()\n",
        "Z = (arr2d - m)/s\n",
        "Z\n",
        "array([[-1.46385011, -0.87831007, -0.29277002],\n",
        "       [ 0.29277002,  0.87831007,  1.46385011]])\n",
        "### Exercise 6\n",
        "(5,5) 행렬을 만들어 체스 보드 패턴으로 채워보자\n",
        "[0, 1, 0, 1, 0],  \n",
        "[1, 0, 1, 0, 1],  \n",
        "[0, 1, 0, 1, 0],  \n",
        "[1, 0, 1, 0, 1],  \n",
        "[0, 1, 0, 1, 0]]\n",
        "arr = np.zeros((5,5))\n",
        "arr\n",
        "array([[0., 0., 0., 0., 0.],\n",
        "       [0., 0., 0., 0., 0.],\n",
        "       [0., 0., 0., 0., 0.],\n",
        "       [0., 0., 0., 0., 0.],\n",
        "       [0., 0., 0., 0., 0.]])\n",
        "arr[0,1::2]=1\n",
        "arr[1,::2]=1\n",
        "arr[2,1::2]=1\n",
        "arr[3,::2]=1\n",
        "arr[4,1::2]=1\n",
        "​\n",
        "arr\n",
        "array([[0., 1., 0., 1., 0.],\n",
        "       [1., 0., 1., 0., 1.],\n",
        "       [0., 1., 0., 1., 0.],\n",
        "       [1., 0., 1., 0., 1.],\n",
        "       [0., 1., 0., 1., 0.]])\n",
        "arr[::2,1:2]=1\n",
        "arr[1::2,::2]=1\n",
        "​\n",
        "arr\n",
        "array([[0., 1., 0., 0., 0.],\n",
        "       [1., 0., 1., 0., 1.],\n",
        "       [0., 1., 0., 0., 0.],\n",
        "       [1., 0., 1., 0., 1.],\n",
        "       [0., 1., 0., 0., 0.]])\n",
        "arr = np.arange(25).reshape(5,5)\n",
        "arr\n",
        "array([[ 0,  1,  2,  3,  4],\n",
        "       [ 5,  6,  7,  8,  9],\n",
        "       [10, 11, 12, 13, 14],\n",
        "       [15, 16, 17, 18, 19],\n",
        "       [20, 21, 22, 23, 24]])\n",
        "arr[arr%2 == 0] = 0\n",
        "arr[arr%2 == 1] = 1\n",
        "​\n",
        "arr\n",
        "array([[0, 1, 0, 1, 0],\n",
        "       [1, 0, 1, 0, 1],\n",
        "       [0, 1, 0, 1, 0],\n",
        "       [1, 0, 1, 0, 1],\n",
        "       [0, 1, 0, 1, 0]])\n",
        "### Exercise 7\n",
        "주어진 두 array의 내적을 numpy를 이용하여 작성하시오.\n",
        "array([4, 5])\n",
        "array([4, 5])\n",
        "벡터의 내적 : 78\n",
        "arr = np.array([4, 5])\n",
        "arr\n",
        "array([4, 5])\n",
        "np.dot(arr,arr)\n",
        "41"
      ],
      "metadata": {
        "id": "hR0ZSd6tap2j"
      },
      "execution_count": null,
      "outputs": []
    }
  ]
}