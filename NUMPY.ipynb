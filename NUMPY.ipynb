{
  "nbformat": 4,
  "nbformat_minor": 0,
  "metadata": {
    "colab": {
      "provenance": [],
      "authorship_tag": "ABX9TyO0j3NwDc6QXV1L/A0CeeOG",
      "include_colab_link": true
    },
    "kernelspec": {
      "name": "python3",
      "display_name": "Python 3"
    },
    "language_info": {
      "name": "python"
    }
  },
  "cells": [
    {
      "cell_type": "markdown",
      "metadata": {
        "id": "view-in-github",
        "colab_type": "text"
      },
      "source": [
        "<a href=\"https://colab.research.google.com/github/munmoom/second_semester/blob/main/NUMPY.ipynb\" target=\"_parent\"><img src=\"https://colab.research.google.com/assets/colab-badge.svg\" alt=\"Open In Colab\"/></a>"
      ]
    },
    {
      "cell_type": "code",
      "execution_count": 2,
      "metadata": {
        "id": "5Hwlna2FoMeW"
      },
      "outputs": [],
      "source": [
        "import numpy as np"
      ]
    },
    {
      "cell_type": "code",
      "source": [
        "data1 = [6, 7.5, 9, 0, 1]\n",
        "arr1 = np.array(data1)\n",
        "arr1"
      ],
      "metadata": {
        "colab": {
          "base_uri": "https://localhost:8080/"
        },
        "id": "iBNjPOgg8R71",
        "outputId": "2018348f-88d6-4c5d-8bc6-347551932f43"
      },
      "execution_count": 3,
      "outputs": [
        {
          "output_type": "execute_result",
          "data": {
            "text/plain": [
              "array([6. , 7.5, 9. , 0. , 1. ])"
            ]
          },
          "metadata": {},
          "execution_count": 3
        }
      ]
    },
    {
      "cell_type": "code",
      "source": [
        "data2 = [[1,2,3,4], [5,6,7,8]]\n",
        "arr2 = np.array(data2)\n",
        "arr2"
      ],
      "metadata": {
        "colab": {
          "base_uri": "https://localhost:8080/"
        },
        "id": "6clz6HP38Rvm",
        "outputId": "70efc276-cc12-4267-c78a-19433445fe81"
      },
      "execution_count": 4,
      "outputs": [
        {
          "output_type": "execute_result",
          "data": {
            "text/plain": [
              "array([[1, 2, 3, 4],\n",
              "       [5, 6, 7, 8]])"
            ]
          },
          "metadata": {},
          "execution_count": 4
        }
      ]
    },
    {
      "cell_type": "code",
      "source": [
        "arr2.shape"
      ],
      "metadata": {
        "colab": {
          "base_uri": "https://localhost:8080/"
        },
        "id": "F7HBsgwB8RsW",
        "outputId": "5e6965e8-01c6-457b-9f8b-c9d49c72280a"
      },
      "execution_count": 5,
      "outputs": [
        {
          "output_type": "execute_result",
          "data": {
            "text/plain": [
              "(2, 4)"
            ]
          },
          "metadata": {},
          "execution_count": 5
        }
      ]
    },
    {
      "cell_type": "code",
      "source": [
        "arr2.dtype"
      ],
      "metadata": {
        "colab": {
          "base_uri": "https://localhost:8080/"
        },
        "id": "XLDMkyyz8Rp-",
        "outputId": "6922f6dc-0c82-4987-b5a1-387b152ba8ac"
      },
      "execution_count": 6,
      "outputs": [
        {
          "output_type": "execute_result",
          "data": {
            "text/plain": [
              "dtype('int64')"
            ]
          },
          "metadata": {},
          "execution_count": 6
        }
      ]
    },
    {
      "cell_type": "code",
      "source": [
        "arr = np.array([[1.,2.,3.],[4.,5.,6.]])\n",
        "arr"
      ],
      "metadata": {
        "colab": {
          "base_uri": "https://localhost:8080/"
        },
        "id": "Pc_nvsJ28Rnf",
        "outputId": "c99eb955-fa4c-44cb-8105-86b56186bfca"
      },
      "execution_count": 7,
      "outputs": [
        {
          "output_type": "execute_result",
          "data": {
            "text/plain": [
              "array([[1., 2., 3.],\n",
              "       [4., 5., 6.]])"
            ]
          },
          "metadata": {},
          "execution_count": 7
        }
      ]
    },
    {
      "cell_type": "code",
      "source": [
        "arr*arr"
      ],
      "metadata": {
        "colab": {
          "base_uri": "https://localhost:8080/"
        },
        "id": "Nnznen1C8Rk-",
        "outputId": "cdfcbf49-6675-4e51-bf5e-af4930d4bc32"
      },
      "execution_count": 8,
      "outputs": [
        {
          "output_type": "execute_result",
          "data": {
            "text/plain": [
              "array([[ 1.,  4.,  9.],\n",
              "       [16., 25., 36.]])"
            ]
          },
          "metadata": {},
          "execution_count": 8
        }
      ]
    },
    {
      "cell_type": "code",
      "source": [
        "arr-arr"
      ],
      "metadata": {
        "colab": {
          "base_uri": "https://localhost:8080/"
        },
        "id": "DtnsKNtz8Rge",
        "outputId": "ffd73bbe-4c82-4689-ecaf-4c4f2fa7bb1e"
      },
      "execution_count": 9,
      "outputs": [
        {
          "output_type": "execute_result",
          "data": {
            "text/plain": [
              "array([[0., 0., 0.],\n",
              "       [0., 0., 0.]])"
            ]
          },
          "metadata": {},
          "execution_count": 9
        }
      ]
    },
    {
      "cell_type": "code",
      "source": [
        "1/arr"
      ],
      "metadata": {
        "colab": {
          "base_uri": "https://localhost:8080/"
        },
        "id": "R-7qVUQ28Rd2",
        "outputId": "7a678be5-b998-47a0-d08c-2859bd24b847"
      },
      "execution_count": 10,
      "outputs": [
        {
          "output_type": "execute_result",
          "data": {
            "text/plain": [
              "array([[1.        , 0.5       , 0.33333333],\n",
              "       [0.25      , 0.2       , 0.16666667]])"
            ]
          },
          "metadata": {},
          "execution_count": 10
        }
      ]
    },
    {
      "cell_type": "code",
      "source": [
        "arr2 > arr"
      ],
      "metadata": {
        "colab": {
          "base_uri": "https://localhost:8080/",
          "height": 174
        },
        "id": "j5O9BJjk8Rbm",
        "outputId": "4685b9de-1aab-4489-89ec-b4bda698e31f"
      },
      "execution_count": 11,
      "outputs": [
        {
          "output_type": "error",
          "ename": "ValueError",
          "evalue": "ignored",
          "traceback": [
            "\u001b[0;31m---------------------------------------------------------------------------\u001b[0m",
            "\u001b[0;31mValueError\u001b[0m                                Traceback (most recent call last)",
            "\u001b[0;32m<ipython-input-11-808f5e3932b8>\u001b[0m in \u001b[0;36m<module>\u001b[0;34m\u001b[0m\n\u001b[0;32m----> 1\u001b[0;31m \u001b[0marr2\u001b[0m \u001b[0;34m>\u001b[0m \u001b[0marr\u001b[0m\u001b[0;34m\u001b[0m\u001b[0;34m\u001b[0m\u001b[0m\n\u001b[0m",
            "\u001b[0;31mValueError\u001b[0m: operands could not be broadcast together with shapes (2,4) (2,3) "
          ]
        }
      ]
    },
    {
      "cell_type": "code",
      "source": [
        "arr > 3"
      ],
      "metadata": {
        "id": "ZtRSnjjf8RY4"
      },
      "execution_count": null,
      "outputs": []
    },
    {
      "cell_type": "code",
      "source": [],
      "metadata": {
        "id": "DAyww1rE_Sum"
      },
      "execution_count": null,
      "outputs": []
    },
    {
      "cell_type": "code",
      "source": [],
      "metadata": {
        "id": "Y2z24XfW_SsY"
      },
      "execution_count": null,
      "outputs": []
    },
    {
      "cell_type": "code",
      "source": [],
      "metadata": {
        "id": "u7XZDNQ0_SqO"
      },
      "execution_count": null,
      "outputs": []
    },
    {
      "cell_type": "code",
      "source": [
        "arr = np.arange(10)\n",
        "arr"
      ],
      "metadata": {
        "colab": {
          "base_uri": "https://localhost:8080/"
        },
        "id": "OSoqtLgF-6c1",
        "outputId": "021748ed-b58d-4e0e-98b0-cef029658050"
      },
      "execution_count": 12,
      "outputs": [
        {
          "output_type": "execute_result",
          "data": {
            "text/plain": [
              "array([0, 1, 2, 3, 4, 5, 6, 7, 8, 9])"
            ]
          },
          "metadata": {},
          "execution_count": 12
        }
      ]
    },
    {
      "cell_type": "code",
      "source": [
        "arr[5:8] = 12\n",
        "arr"
      ],
      "metadata": {
        "colab": {
          "base_uri": "https://localhost:8080/"
        },
        "id": "yPvNVicg_AJm",
        "outputId": "10749ffd-59b8-46fa-b64f-5113221765a6"
      },
      "execution_count": 13,
      "outputs": [
        {
          "output_type": "execute_result",
          "data": {
            "text/plain": [
              "array([ 0,  1,  2,  3,  4, 12, 12, 12,  8,  9])"
            ]
          },
          "metadata": {},
          "execution_count": 13
        }
      ]
    },
    {
      "cell_type": "code",
      "source": [
        "arr_slice = arr[5:8]\n",
        "arr_slice"
      ],
      "metadata": {
        "colab": {
          "base_uri": "https://localhost:8080/"
        },
        "id": "wSpbkCTW8RWu",
        "outputId": "700d9ab5-3905-49cf-bb02-15f5f3bddc31"
      },
      "execution_count": 14,
      "outputs": [
        {
          "output_type": "execute_result",
          "data": {
            "text/plain": [
              "array([12, 12, 12])"
            ]
          },
          "metadata": {},
          "execution_count": 14
        }
      ]
    },
    {
      "cell_type": "code",
      "source": [
        "arr_slice[1] = 45\n",
        "arr"
      ],
      "metadata": {
        "colab": {
          "base_uri": "https://localhost:8080/"
        },
        "id": "720uanq98RUG",
        "outputId": "6cb60f1d-bfe0-4aa1-cbaf-f1442dee164f"
      },
      "execution_count": 15,
      "outputs": [
        {
          "output_type": "execute_result",
          "data": {
            "text/plain": [
              "array([ 0,  1,  2,  3,  4, 12, 45, 12,  8,  9])"
            ]
          },
          "metadata": {},
          "execution_count": 15
        }
      ]
    },
    {
      "cell_type": "code",
      "source": [
        "arr2d = np.array([[1,2,3],[4,5,6],[7,8,9]])\n",
        "arr2d[2]"
      ],
      "metadata": {
        "colab": {
          "base_uri": "https://localhost:8080/"
        },
        "id": "_mGR3xkK8RR3",
        "outputId": "65241a70-ae9d-4519-bb00-ec3b542d700b"
      },
      "execution_count": 16,
      "outputs": [
        {
          "output_type": "execute_result",
          "data": {
            "text/plain": [
              "array([7, 8, 9])"
            ]
          },
          "metadata": {},
          "execution_count": 16
        }
      ]
    },
    {
      "cell_type": "code",
      "source": [
        "arr2d[0][2]"
      ],
      "metadata": {
        "colab": {
          "base_uri": "https://localhost:8080/"
        },
        "id": "UniCWbLZ_uBW",
        "outputId": "2cd4fac4-8923-43b1-a2ed-37688bc786ad"
      },
      "execution_count": 17,
      "outputs": [
        {
          "output_type": "execute_result",
          "data": {
            "text/plain": [
              "3"
            ]
          },
          "metadata": {},
          "execution_count": 17
        }
      ]
    },
    {
      "cell_type": "code",
      "source": [
        "arr2d[0,2]"
      ],
      "metadata": {
        "colab": {
          "base_uri": "https://localhost:8080/"
        },
        "id": "WEKkIppT_wZ2",
        "outputId": "ae8e5552-4688-44e7-a5b7-03a3792bed0b"
      },
      "execution_count": 18,
      "outputs": [
        {
          "output_type": "execute_result",
          "data": {
            "text/plain": [
              "3"
            ]
          },
          "metadata": {},
          "execution_count": 18
        }
      ]
    },
    {
      "cell_type": "code",
      "source": [
        "arr = np.arange(9)\n",
        "arr = arr.reshape(3,3)\n",
        "arr"
      ],
      "metadata": {
        "colab": {
          "base_uri": "https://localhost:8080/"
        },
        "id": "WDcBM1Hn_9iK",
        "outputId": "a26d51c7-cfb9-4d22-db44-d83f90c0d4e4"
      },
      "execution_count": 27,
      "outputs": [
        {
          "output_type": "execute_result",
          "data": {
            "text/plain": [
              "array([[0, 1, 2],\n",
              "       [3, 4, 5],\n",
              "       [6, 7, 8]])"
            ]
          },
          "metadata": {},
          "execution_count": 27
        }
      ]
    },
    {
      "cell_type": "code",
      "source": [
        "arr[:2,1:]"
      ],
      "metadata": {
        "colab": {
          "base_uri": "https://localhost:8080/"
        },
        "id": "DVYi1kExAMQv",
        "outputId": "ff120c0f-d14d-4d87-dd34-82e7ae23ca50"
      },
      "execution_count": 28,
      "outputs": [
        {
          "output_type": "execute_result",
          "data": {
            "text/plain": [
              "array([[1, 2],\n",
              "       [4, 5]])"
            ]
          },
          "metadata": {},
          "execution_count": 28
        }
      ]
    },
    {
      "cell_type": "code",
      "source": [
        "arr[2]"
      ],
      "metadata": {
        "colab": {
          "base_uri": "https://localhost:8080/"
        },
        "id": "hcFeqxZnAVW-",
        "outputId": "f0966af1-c05c-4f2b-e2cb-73b99be9a8c8"
      },
      "execution_count": 29,
      "outputs": [
        {
          "output_type": "execute_result",
          "data": {
            "text/plain": [
              "array([6, 7, 8])"
            ]
          },
          "metadata": {},
          "execution_count": 29
        }
      ]
    },
    {
      "cell_type": "code",
      "source": [
        "arr[:,:2]"
      ],
      "metadata": {
        "colab": {
          "base_uri": "https://localhost:8080/"
        },
        "id": "c6MqCsQuAW82",
        "outputId": "854eda91-e2a8-4ab7-eef6-c7323fd7c340"
      },
      "execution_count": 30,
      "outputs": [
        {
          "output_type": "execute_result",
          "data": {
            "text/plain": [
              "array([[0, 1],\n",
              "       [3, 4],\n",
              "       [6, 7]])"
            ]
          },
          "metadata": {},
          "execution_count": 30
        }
      ]
    },
    {
      "cell_type": "code",
      "source": [
        "arr[1,:2]"
      ],
      "metadata": {
        "colab": {
          "base_uri": "https://localhost:8080/"
        },
        "id": "r3nGGc2_AZGG",
        "outputId": "d1ef3f46-ea9d-4bb9-fb3a-7337f3a2cf83"
      },
      "execution_count": 26,
      "outputs": [
        {
          "output_type": "execute_result",
          "data": {
            "text/plain": [
              "array([3, 4])"
            ]
          },
          "metadata": {},
          "execution_count": 26
        }
      ]
    },
    {
      "cell_type": "code",
      "source": [
        "arr3d = np.array([[[1,2,3],[4,5,6]],[[7,8,9],[10,11,12]]])  #shape는 (2,2,3)입니다.\n",
        "arr3d"
      ],
      "metadata": {
        "colab": {
          "base_uri": "https://localhost:8080/"
        },
        "id": "GNa-_IyxBpGv",
        "outputId": "9b2298d8-5ea9-4104-8a9b-ced6a9f6e1cf"
      },
      "execution_count": 31,
      "outputs": [
        {
          "output_type": "execute_result",
          "data": {
            "text/plain": [
              "array([[[ 1,  2,  3],\n",
              "        [ 4,  5,  6]],\n",
              "\n",
              "       [[ 7,  8,  9],\n",
              "        [10, 11, 12]]])"
            ]
          },
          "metadata": {},
          "execution_count": 31
        }
      ]
    },
    {
      "cell_type": "code",
      "source": [
        "arr3d[0]"
      ],
      "metadata": {
        "colab": {
          "base_uri": "https://localhost:8080/"
        },
        "id": "qeXV8xNWBpEn",
        "outputId": "3f3c338c-de2f-48d7-f0f3-0a5f2a614274"
      },
      "execution_count": 32,
      "outputs": [
        {
          "output_type": "execute_result",
          "data": {
            "text/plain": [
              "array([[1, 2, 3],\n",
              "       [4, 5, 6]])"
            ]
          },
          "metadata": {},
          "execution_count": 32
        }
      ]
    },
    {
      "cell_type": "code",
      "source": [
        "arr3d[0,0]"
      ],
      "metadata": {
        "colab": {
          "base_uri": "https://localhost:8080/"
        },
        "id": "yYMfybMBBpCg",
        "outputId": "7908bdbf-3aaf-4810-dc30-80028c2ae7a8"
      },
      "execution_count": 33,
      "outputs": [
        {
          "output_type": "execute_result",
          "data": {
            "text/plain": [
              "array([1, 2, 3])"
            ]
          },
          "metadata": {},
          "execution_count": 33
        }
      ]
    },
    {
      "cell_type": "code",
      "source": [
        "arr3d[0,0,0]"
      ],
      "metadata": {
        "colab": {
          "base_uri": "https://localhost:8080/"
        },
        "id": "HESx76oiBpAX",
        "outputId": "4cd39895-92ca-4289-e1c2-e8e40a8762fd"
      },
      "execution_count": 35,
      "outputs": [
        {
          "output_type": "execute_result",
          "data": {
            "text/plain": [
              "1"
            ]
          },
          "metadata": {},
          "execution_count": 35
        }
      ]
    },
    {
      "cell_type": "code",
      "source": [
        "arr3d[:,1]"
      ],
      "metadata": {
        "colab": {
          "base_uri": "https://localhost:8080/"
        },
        "id": "5LY-3WiKBo9_",
        "outputId": "b9c0721a-c492-41c3-dc65-1b8e0128199b"
      },
      "execution_count": 37,
      "outputs": [
        {
          "output_type": "execute_result",
          "data": {
            "text/plain": [
              "array([[ 4,  5,  6],\n",
              "       [10, 11, 12]])"
            ]
          },
          "metadata": {},
          "execution_count": 37
        }
      ]
    },
    {
      "cell_type": "code",
      "source": [
        "arr3d[:,:,2]"
      ],
      "metadata": {
        "colab": {
          "base_uri": "https://localhost:8080/"
        },
        "id": "BKk2IsTcCeTA",
        "outputId": "4a5c793b-17e6-4c20-b0bf-35dde50d62ed"
      },
      "execution_count": 38,
      "outputs": [
        {
          "output_type": "execute_result",
          "data": {
            "text/plain": [
              "array([[ 3,  6],\n",
              "       [ 9, 12]])"
            ]
          },
          "metadata": {},
          "execution_count": 38
        }
      ]
    },
    {
      "cell_type": "code",
      "source": [],
      "metadata": {
        "id": "Y6l3TdxbChZA"
      },
      "execution_count": null,
      "outputs": []
    },
    {
      "cell_type": "code",
      "source": [],
      "metadata": {
        "id": "d1sJmKSySK46"
      },
      "execution_count": null,
      "outputs": []
    },
    {
      "cell_type": "code",
      "source": [],
      "metadata": {
        "id": "igCfBEE-SK2h"
      },
      "execution_count": null,
      "outputs": []
    },
    {
      "cell_type": "code",
      "source": [
        "import numpy as np\n",
        " \n",
        "a = np.arange(9).reshape(3,3)\n",
        "print(a.sum(axis=0))"
      ],
      "metadata": {
        "colab": {
          "base_uri": "https://localhost:8080/"
        },
        "id": "iUvyCGzMSK0K",
        "outputId": "4fea4622-644e-4450-e75f-4bfd62e0c546"
      },
      "execution_count": 39,
      "outputs": [
        {
          "output_type": "stream",
          "name": "stdout",
          "text": [
            "[ 9 12 15]\n"
          ]
        }
      ]
    },
    {
      "cell_type": "code",
      "source": [
        "import numpy as np\n",
        " \n",
        "arr = np.array([[1,2,3,4,5], [6,7,8,9,10]])\n",
        "output = arr > 7\n",
        "print(output)"
      ],
      "metadata": {
        "colab": {
          "base_uri": "https://localhost:8080/"
        },
        "id": "glHDzeZiSKx6",
        "outputId": "51c1a59b-5ffb-4e10-ffef-4ddc57f44b0d"
      },
      "execution_count": 40,
      "outputs": [
        {
          "output_type": "stream",
          "name": "stdout",
          "text": [
            "[[False False False False False]\n",
            " [False False  True  True  True]]\n"
          ]
        }
      ]
    },
    {
      "cell_type": "code",
      "source": [
        "import numpy as np\n",
        " \n",
        "a = np.array([[1,2,3],[4,5,6],[7,8,9]])\n",
        "print(a[:2,2:])"
      ],
      "metadata": {
        "colab": {
          "base_uri": "https://localhost:8080/"
        },
        "id": "F7w9CIBXSSES",
        "outputId": "1a1b7a5a-0f55-4577-cf2a-cb7103b18885"
      },
      "execution_count": 41,
      "outputs": [
        {
          "output_type": "stream",
          "name": "stdout",
          "text": [
            "[[3]\n",
            " [6]]\n"
          ]
        }
      ]
    },
    {
      "cell_type": "code",
      "source": [
        "import numpy as np\n",
        " \n",
        "a = np.array([[1,2,3,4], [5,6,7,8], [9,10,11,12]])\n",
        "print(a.shape)\n"
      ],
      "metadata": {
        "colab": {
          "base_uri": "https://localhost:8080/"
        },
        "id": "KCXk2VJvSSCC",
        "outputId": "97173631-e29b-4a96-ffad-aefa0b7e434a"
      },
      "execution_count": 43,
      "outputs": [
        {
          "output_type": "stream",
          "name": "stdout",
          "text": [
            "(3, 4)\n"
          ]
        }
      ]
    },
    {
      "cell_type": "code",
      "source": [
        "import numpy as np\n",
        " \n",
        "a = np.array([[1,1,1],[2,2,2],[3,3,3]])\n",
        "print(a*a)"
      ],
      "metadata": {
        "colab": {
          "base_uri": "https://localhost:8080/"
        },
        "id": "OfA6f74qSR_6",
        "outputId": "a7411f76-c282-485b-dfa4-344a8c16e353"
      },
      "execution_count": 44,
      "outputs": [
        {
          "output_type": "stream",
          "name": "stdout",
          "text": [
            "[[1 1 1]\n",
            " [4 4 4]\n",
            " [9 9 9]]\n"
          ]
        }
      ]
    },
    {
      "cell_type": "code",
      "source": [
        "arr = np.array([0, 1, 2, 3, 4, 5, 6, 7, 8, 9])\n",
        "arr[arr % 2 == 1] = -1\n",
        "arr\n"
      ],
      "metadata": {
        "colab": {
          "base_uri": "https://localhost:8080/"
        },
        "id": "GGE-pzrbSbbp",
        "outputId": "d1525038-3aa7-4d9f-d1a6-24e564709b15"
      },
      "execution_count": 45,
      "outputs": [
        {
          "output_type": "execute_result",
          "data": {
            "text/plain": [
              "array([ 0, -1,  2, -1,  4, -1,  6, -1,  8, -1])"
            ]
          },
          "metadata": {},
          "execution_count": 45
        }
      ]
    },
    {
      "cell_type": "code",
      "source": [],
      "metadata": {
        "id": "rHSsyeadSdPZ"
      },
      "execution_count": null,
      "outputs": []
    },
    {
      "cell_type": "code",
      "source": [
        "Z = np.zeros((3,3),dtype=int)\n",
        "Z[1:2,::2] = 1\n",
        "Z[::2,1::2] = 1\n",
        "np.sum(Z)"
      ],
      "metadata": {
        "colab": {
          "base_uri": "https://localhost:8080/"
        },
        "id": "bpPzk2VmSfUB",
        "outputId": "68629cbd-379a-4fc2-ce96-324e30ad742b"
      },
      "execution_count": 46,
      "outputs": [
        {
          "output_type": "execute_result",
          "data": {
            "text/plain": [
              "4"
            ]
          },
          "metadata": {},
          "execution_count": 46
        }
      ]
    },
    {
      "cell_type": "code",
      "source": [],
      "metadata": {
        "id": "4leWi6aCSg4K"
      },
      "execution_count": null,
      "outputs": []
    },
    {
      "cell_type": "code",
      "source": [],
      "metadata": {
        "id": "VQOU4mx0aqI6"
      },
      "execution_count": null,
      "outputs": []
    },
    {
      "cell_type": "code",
      "source": [],
      "metadata": {
        "id": "nLlyoCdjaqGL"
      },
      "execution_count": null,
      "outputs": []
    },
    {
      "cell_type": "code",
      "source": [],
      "metadata": {
        "id": "VPtEO8pEap5a"
      },
      "execution_count": null,
      "outputs": []
    },
    {
      "cell_type": "code",
      "source": [
        "numpy를 import 하시오\n",
        "import ~~~\n",
        "import numpy as np\n",
        "### Exercise 1\n",
        "10부터 19까지 범위를 가지는 numpy array생성하라.  \n",
        "(Hint) np.arange\n",
        "​\n",
        "array([10, 11, 12, 13, 14, 15, 16, 17, 18, 19])\n",
        "np.arange(10,20)\n",
        "array([10, 11, 12, 13, 14, 15, 16, 17, 18, 19])\n",
        "### Exercise 2\n",
        "- (2-1) 0부터 11까지의 (4,3) array를 arange와 reshape를 이용해서 만들고  \n",
        "- (2-2) 첫번째 열과 세번째 열의 값을 slicing을 통해서 가져오라.  \n",
        "array([[ 0,  1,  2],\n",
        "       [ 3,  4,  5],\n",
        "       [ 6,  7,  8],\n",
        "       [ 9, 10, 11]])\n",
        "       \n",
        "array([[ 0,  2],\n",
        "       [ 3,  5],\n",
        "       [ 6,  8],\n",
        "       [ 9, 11]])\n",
        "arr = np.arange(0,12).reshape((4,3))\n",
        "arr\n",
        "array([[ 0,  1,  2],\n",
        "       [ 3,  4,  5],\n",
        "       [ 6,  7,  8],\n",
        "       [ 9, 10, 11]])\n",
        "arr[:,0:3:2]\n",
        "array([[ 0,  2],\n",
        "       [ 3,  5],\n",
        "       [ 6,  8],\n",
        "       [ 9, 11]])\n",
        "### Exercise 3\n",
        "array([[1, 2],[3, 4]]) 2차원 배열을 생성하고  \n",
        "배열의 모든 원소에 대해서 주어진 함수  f(x)=x^2+x−6 을 적용해 보자.\n",
        "array([[1, 2],\n",
        "       [3, 4]])\n",
        "​\n",
        "array([[-4,  0],\n",
        "       [ 6, 14]])\n",
        "arr2d = np.arange(1,5).reshape((2,2))\n",
        "#arr2d = np.array([[1,2],[3,4]])\n",
        "arr2d\n",
        "array([[1, 2],\n",
        "       [3, 4]])\n",
        "arr2d*arr2d + arr2d - 6\n",
        "array([[-4,  0],\n",
        "       [ 6, 14]])\n",
        "### Exercise 4\n",
        "- (3-1) 1부터 11까지 5행, 2열의 array를 만들어라  \n",
        "- (3-2) 만든 array에서 모든요소의합, 각 열의 합, 각 행의 합을 계산해보자\n",
        "(Hint) data.sum()\n",
        "array([[ 1,  2],\n",
        "       [ 3,  4],\n",
        "       [ 5,  6],\n",
        "       [ 7,  8],\n",
        "       [ 9, 10]])\n",
        "       \n",
        "전체합: 55\n",
        "열의합: array([25, 30])\n",
        "행의합: array([ 3,  7, 11, 15, 19])\n",
        "arr = np.arange(1,11).reshape((5,2))\n",
        "arr\n",
        "array([[ 1,  2],\n",
        "       [ 3,  4],\n",
        "       [ 5,  6],\n",
        "       [ 7,  8],\n",
        "       [ 9, 10]])\n",
        "arr.sum()\n",
        "55\n",
        "arr.sum(axis=0)\n",
        "array([25, 30])\n",
        "arr.sum(axis=1)\n",
        "array([ 3,  7, 11, 15, 19])\n",
        "### Exercise 5\n",
        "- (4-1) array([[ 2,  4,  6],[ 8, 10, 12]]) 를 만든다.  \n",
        "- (4-2) 해당 array를 이용하여 전체 평균 및 표준 편차를 구하고, Z 정규화해보자   \n",
        "$$ Z =  \\frac{ X - \\mu}{ \\sigma} $$  \n",
        "(Hint) np.mean(), np.std()\n",
        "array([[ 2,  4,  6],\n",
        "       [ 8, 10, 12]])\n",
        "​\n",
        "평균: 7.0\n",
        "표준편차: 3.415650255319866\n",
        "Z transform 결과\n",
        "array([[-1.46385011, -0.87831007, -0.29277002],\n",
        "       [ 0.29277002,  0.87831007,  1.46385011]])\n",
        "arr2d = np.arange(2,13,2).reshape((2,3))\n",
        "#arr2d = np.array([[2,4,6],[8,10,12]])\n",
        "arr2d\n",
        "array([[ 2,  4,  6],\n",
        "       [ 8, 10, 12]])\n",
        "m = arr2d.mean()\n",
        "s = arr2d.std()\n",
        "Z = (arr2d - m)/s\n",
        "Z\n",
        "array([[-1.46385011, -0.87831007, -0.29277002],\n",
        "       [ 0.29277002,  0.87831007,  1.46385011]])\n",
        "### Exercise 6\n",
        "(5,5) 행렬을 만들어 체스 보드 패턴으로 채워보자\n",
        "[0, 1, 0, 1, 0],  \n",
        "[1, 0, 1, 0, 1],  \n",
        "[0, 1, 0, 1, 0],  \n",
        "[1, 0, 1, 0, 1],  \n",
        "[0, 1, 0, 1, 0]]\n",
        "arr = np.zeros((5,5))\n",
        "arr\n",
        "array([[0., 0., 0., 0., 0.],\n",
        "       [0., 0., 0., 0., 0.],\n",
        "       [0., 0., 0., 0., 0.],\n",
        "       [0., 0., 0., 0., 0.],\n",
        "       [0., 0., 0., 0., 0.]])\n",
        "arr[0,1::2]=1\n",
        "arr[1,::2]=1\n",
        "arr[2,1::2]=1\n",
        "arr[3,::2]=1\n",
        "arr[4,1::2]=1\n",
        "​\n",
        "arr\n",
        "array([[0., 1., 0., 1., 0.],\n",
        "       [1., 0., 1., 0., 1.],\n",
        "       [0., 1., 0., 1., 0.],\n",
        "       [1., 0., 1., 0., 1.],\n",
        "       [0., 1., 0., 1., 0.]])\n",
        "arr[::2,1:2]=1\n",
        "arr[1::2,::2]=1\n",
        "​\n",
        "arr\n",
        "array([[0., 1., 0., 0., 0.],\n",
        "       [1., 0., 1., 0., 1.],\n",
        "       [0., 1., 0., 0., 0.],\n",
        "       [1., 0., 1., 0., 1.],\n",
        "       [0., 1., 0., 0., 0.]])\n",
        "arr = np.arange(25).reshape(5,5)\n",
        "arr\n",
        "array([[ 0,  1,  2,  3,  4],\n",
        "       [ 5,  6,  7,  8,  9],\n",
        "       [10, 11, 12, 13, 14],\n",
        "       [15, 16, 17, 18, 19],\n",
        "       [20, 21, 22, 23, 24]])\n",
        "arr[arr%2 == 0] = 0\n",
        "arr[arr%2 == 1] = 1\n",
        "​\n",
        "arr\n",
        "array([[0, 1, 0, 1, 0],\n",
        "       [1, 0, 1, 0, 1],\n",
        "       [0, 1, 0, 1, 0],\n",
        "       [1, 0, 1, 0, 1],\n",
        "       [0, 1, 0, 1, 0]])\n",
        "### Exercise 7\n",
        "주어진 두 array의 내적을 numpy를 이용하여 작성하시오.\n",
        "array([4, 5])\n",
        "array([4, 5])\n",
        "벡터의 내적 : 78\n",
        "arr = np.array([4, 5])\n",
        "arr\n",
        "array([4, 5])\n",
        "np.dot(arr,arr)\n",
        "41"
      ],
      "metadata": {
        "id": "hR0ZSd6tap2j"
      },
      "execution_count": null,
      "outputs": []
    }
  ]
}