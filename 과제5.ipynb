{
  "nbformat": 4,
  "nbformat_minor": 0,
  "metadata": {
    "colab": {
      "provenance": [],
      "collapsed_sections": [],
      "authorship_tag": "ABX9TyMV7/RhfBXRLvjHB3zw13Gi",
      "include_colab_link": true
    },
    "kernelspec": {
      "name": "python3",
      "display_name": "Python 3"
    },
    "language_info": {
      "name": "python"
    }
  },
  "cells": [
    {
      "cell_type": "markdown",
      "metadata": {
        "id": "view-in-github",
        "colab_type": "text"
      },
      "source": [
        "<a href=\"https://colab.research.google.com/github/munmoom/second_semester/blob/main/%EA%B3%BC%EC%A0%9C5.ipynb\" target=\"_parent\"><img src=\"https://colab.research.google.com/assets/colab-badge.svg\" alt=\"Open In Colab\"/></a>"
      ]
    },
    {
      "cell_type": "markdown",
      "source": [
        "#되는 코드"
      ],
      "metadata": {
        "id": "RqC3pNAM23ha"
      }
    },
    {
      "cell_type": "code",
      "source": [
        "D = 20\n",
        "M = 400"
      ],
      "metadata": {
        "id": "Irpy30gs3kAb"
      },
      "execution_count": 58,
      "outputs": []
    },
    {
      "cell_type": "markdown",
      "source": [
        "##첫번째"
      ],
      "metadata": {
        "id": "J8VG2X7o27tN"
      }
    },
    {
      "cell_type": "code",
      "source": [
        "def findAB():\n",
        "    global A\n",
        "    global B\n",
        "    \n",
        "    if M ==2:\n",
        "        return 1, 1\n",
        "    if c == 2:\n",
        "        A = 1\n",
        "        B = 1\n",
        "    else:\n",
        "        A = c//2\n",
        "        B = c//2 + 1\n",
        "    return A, B\n",
        "    \n",
        "\n",
        "def finding():\n",
        "  global c\n",
        "  global k\n",
        "    \n",
        "  print(c)\n",
        "  A, B = findAB()\n",
        "  print(A, B)\n",
        "  if M ==2:\n",
        "    print(A, B)\n",
        "    return (A, B)\n",
        "\n",
        "  res1 = B\n",
        "  res2 = c\n",
        "  print(f'res1, res2: {res1}, {res2}')\n",
        "    \n",
        "  for i in range(D-3):\n",
        "    res3 = res1 + res2\n",
        "    res1 = res2\n",
        "    res2 = res3\n",
        "    print(f'res2: {res2}')\n",
        "  if res2 > M:\n",
        "      k -= 1\n",
        "      c = c_list[k]\n",
        "      finding()\n",
        "    \n",
        "  if res2 == M:\n",
        "    A, B = findAB()\n",
        "    print(c, A, B)\n",
        "    return(A, B)\n",
        "\n",
        "  if res2 < M:\n",
        "      A, B = findAB()\n",
        "      while res2 != M:\n",
        "          A -= 1\n",
        "          B += 1\n",
        "          res1 = B\n",
        "          res2 = c\n",
        "          for i in range(D-3):\n",
        "            res3 = res1 + res2\n",
        "            res1 = res2\n",
        "            res2 = res3\n",
        "            print(f'res2: {res2}')\n",
        "      print(A, B)\n",
        "      return (A, B)\n",
        "      \n",
        "\n",
        "\n",
        "c_list=[2]\n",
        "t = 0\n",
        "\n",
        "for i in range(2,10001):\n",
        "  if t == 1:\n",
        "    c_list.append(i)\n",
        "    t -= 2\n",
        "  t += 1\n",
        "\n",
        "\n",
        "k = M//2\n",
        "c = c_list[k]\n",
        "\n",
        "finding()"
      ],
      "metadata": {
        "id": "Kbyxnvxb23KS"
      },
      "execution_count": null,
      "outputs": []
    },
    {
      "cell_type": "markdown",
      "source": [
        "##두번째"
      ],
      "metadata": {
        "id": "4tkK3z7J2-g9"
      }
    },
    {
      "cell_type": "code",
      "source": [
        "def findAB():\n",
        "    global A\n",
        "    global B\n",
        "    \n",
        "    if M ==2:\n",
        "        return 1, 1\n",
        "    if c == 2:\n",
        "        A = 1\n",
        "        B = 1\n",
        "    else:\n",
        "        A = c//2\n",
        "        B = c//2 + 1\n",
        "    return A, B\n",
        "\n",
        "def results(res1, res2):\n",
        "  print(f'res1, res2: {res1}, {res2}')\n",
        "  for i in range(D-3):\n",
        "    res3 = res1 + res2\n",
        "    res1 = res2\n",
        "    res2 = res3\n",
        "  return res2\n",
        "    \n",
        "\n",
        "def finding():\n",
        "  global c\n",
        "  global k\n",
        "\n",
        "  print(c)\n",
        "  A, B = findAB()\n",
        "  print(A, B)\n",
        "  if M ==2:\n",
        "    print(A, B)\n",
        "    return (A, B)\n",
        "    \n",
        "  res2 = results(B, c)\n",
        "  print(f'res2: {res2}')\n",
        "  if res2 > M:\n",
        "      k -= 1\n",
        "      c = c_list[k]\n",
        "      finding()\n",
        "    \n",
        "  if res2 == M:\n",
        "    A, B = findAB()\n",
        "    print(c, A, B)\n",
        "    return(A, B)\n",
        "\n",
        "  if res2 < M:\n",
        "      A, B = findAB()\n",
        "      while res2 != M:\n",
        "          A -= 1\n",
        "          B += 1\n",
        "          res2 = results(B, c)\n",
        "      print(A, B)\n",
        "      return (A, B)\n",
        "      \n",
        "\n",
        "\n",
        "c_list=[2]\n",
        "t = 0\n",
        "\n",
        "for i in range(2,10001):\n",
        "  if t == 1:\n",
        "    c_list.append(i)\n",
        "    t -= 2\n",
        "  t += 1\n",
        "\n",
        "\n",
        "k = M//2\n",
        "c = c_list[k]\n",
        "\n",
        "finding()"
      ],
      "metadata": {
        "colab": {
          "base_uri": "https://localhost:8080/"
        },
        "id": "dccofaKm3BUW",
        "outputId": "e84995e6-53ef-4c77-b22e-e2c3f1d1720b"
      },
      "execution_count": 51,
      "outputs": [
        {
          "output_type": "stream",
          "name": "stdout",
          "text": [
            "3\n",
            "1 1\n",
            "1 1\n"
          ]
        },
        {
          "output_type": "execute_result",
          "data": {
            "text/plain": [
              "(1, 1)"
            ]
          },
          "metadata": {},
          "execution_count": 51
        }
      ]
    },
    {
      "cell_type": "markdown",
      "source": [
        "##두번째에서 print빼고"
      ],
      "metadata": {
        "id": "Izr05Iw53-EY"
      }
    },
    {
      "cell_type": "code",
      "source": [
        "def findAB():\n",
        "    global A\n",
        "    global B\n",
        "    if M ==2:\n",
        "        return 1, 1\n",
        "    if c == 2:\n",
        "        A = 1\n",
        "        B = 1\n",
        "    else:\n",
        "        A = c//2\n",
        "        B = c//2 + 1\n",
        "    return A, B\n",
        "\n",
        "def results(res1, res2):\n",
        "  for i in range(D-3):\n",
        "    res3 = res1 + res2\n",
        "    res1 = res2\n",
        "    res2 = res3\n",
        "  return res2\n",
        "\n",
        "def finding():\n",
        "  global c\n",
        "  global k\n",
        "\n",
        "  A, B = findAB()\n",
        "  if M ==2:\n",
        "    return (A, B)\n",
        "    \n",
        "  res2 = results(B, c)\n",
        "  if res2 > M:\n",
        "      k -= 1\n",
        "      c = c_list[k]\n",
        "      finding()\n",
        "    \n",
        "  if res2 == M:\n",
        "    A, B = findAB()\n",
        "    return(A, B)\n",
        "\n",
        "  if res2 < M:\n",
        "      A, B = findAB()\n",
        "      while res2 != M:\n",
        "          A -= 1\n",
        "          B += 1\n",
        "          res2 = results(B, c)\n",
        "      return (A, B)\n",
        "      \n",
        "\n",
        "c_list=[2]\n",
        "t = 0\n",
        "for i in range(2,10001):\n",
        "  if t == 1:\n",
        "    c_list.append(i)\n",
        "    t -= 2\n",
        "  t += 1\n",
        "\n",
        "k = M//2\n",
        "c = c_list[k]\n",
        "\n",
        "finding()"
      ],
      "metadata": {
        "id": "vuEDZiw_39Rr"
      },
      "execution_count": null,
      "outputs": []
    }
  ]
}