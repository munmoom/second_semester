{
  "nbformat": 4,
  "nbformat_minor": 0,
  "metadata": {
    "colab": {
      "provenance": [],
      "authorship_tag": "ABX9TyOG67zzdmXNVH7oBNe62rp4",
      "include_colab_link": true
    },
    "kernelspec": {
      "name": "python3",
      "display_name": "Python 3"
    },
    "language_info": {
      "name": "python"
    }
  },
  "cells": [
    {
      "cell_type": "markdown",
      "metadata": {
        "id": "view-in-github",
        "colab_type": "text"
      },
      "source": [
        "<a href=\"https://colab.research.google.com/github/munmoom/second_semester/blob/main/Untitled92.ipynb\" target=\"_parent\"><img src=\"https://colab.research.google.com/assets/colab-badge.svg\" alt=\"Open In Colab\"/></a>"
      ]
    },
    {
      "cell_type": "code",
      "execution_count": 2,
      "metadata": {
        "colab": {
          "base_uri": "https://localhost:8080/"
        },
        "id": "MRlf4ZWbb-xz",
        "outputId": "e84a704f-aa50-467f-c2dc-3b551a6adbf3"
      },
      "outputs": [
        {
          "output_type": "stream",
          "name": "stdout",
          "text": [
            "sa\n"
          ]
        }
      ],
      "source": [
        "#i에는 인덱스가 저장되어있다, 이 인덱스까지 원소를 삭제하는 것이 목표\n",
        "#인덱스+1번만큼 인덱스 0을 삭제한다.\n",
        "T = 'assassa'\n",
        "i = 4\n",
        "\n",
        "T = list(T)\n",
        "for k in range(i+1):\n",
        "    del(T[0])\n",
        "    \n",
        "T = ''.join(T)\n",
        "print(T)"
      ]
    },
    {
      "cell_type": "code",
      "source": [
        "#S가 T의 줄임말인지를 판별한다\n",
        "S = 'aasassss'\n",
        "T = 'assassa'\n",
        "n = 1\n",
        "\n",
        "try:\n",
        "  T = n*T\n",
        "  i = -1\n",
        "  for s in S:\n",
        "\n",
        "    if i>=0:\n",
        "      T = list(T)\n",
        "      for k in range(i+1):\n",
        "        del(T[0])\n",
        "\n",
        "      T = ''.join(T)\n",
        "\n",
        "    for i in range(len(T)):\n",
        "      if s == T[i]:\n",
        "        break\n",
        "except:\n",
        "  n += 1\n",
        "  \n",
        "                  #S의 원소가 T에 존재하지 않을 경우\n",
        "                  #print(T)\n",
        "                  #print(-1)  #실제로는 함수니까 return, 끝난다\n",
        "\n",
        "print(T)"
      ],
      "metadata": {
        "id": "igLxZcBTmYB2"
      },
      "execution_count": null,
      "outputs": []
    },
    {
      "cell_type": "code",
      "source": [
        "def isit():\n",
        "  #nonlocal n\n",
        "  T = n*T\n",
        "  i = -1\n",
        "  for s in S:\n",
        "\n",
        "    if i>=0:\n",
        "      T = list(T)\n",
        "      for k in range(i+1):\n",
        "        del(T[0])\n",
        "\n",
        "      T = ''.join(T)\n",
        "\n",
        "    for i in range(len(T)):\n",
        "      if s == T[i]:\n",
        "        break\n",
        "  print(T)"
      ],
      "metadata": {
        "id": "wScanwlpnpUk"
      },
      "execution_count": 14,
      "outputs": []
    },
    {
      "cell_type": "code",
      "source": [
        "#S가 T의 줄임말인지를 판별한다\n",
        "#안 되면 n+1해서 다시 돌린다\n",
        "    #S = 'aasassss'\n",
        "    #T = 'assassa'\n",
        "\n",
        "S='caa'\n",
        "T='ac'\n",
        "n = 1\n",
        "\n",
        "def isit(T):\n",
        "  global n\n",
        "  T = n*T\n",
        "  i = -1\n",
        "  for s in S:\n",
        "\n",
        "    if i>=0:\n",
        "      T = list(T)\n",
        "      for k in range(i+1):\n",
        "        del(T[0])\n",
        "\n",
        "      T = ''.join(T)\n",
        "\n",
        "    for i in range(len(T)):\n",
        "      if s == T[i]:\n",
        "        break\n",
        "\n",
        "try:\n",
        "  isit(T)\n",
        "except:\n",
        "  n += 1\n",
        "  isit(T)\n",
        "  \n",
        "print(n)"
      ],
      "metadata": {
        "colab": {
          "base_uri": "https://localhost:8080/"
        },
        "id": "lE2q-XmRqSKQ",
        "outputId": "ffcd6b8d-379e-4fb9-8f70-d94cd725bdc9"
      },
      "execution_count": 42,
      "outputs": [
        {
          "output_type": "stream",
          "name": "stdout",
          "text": [
            "2\n"
          ]
        }
      ]
    },
    {
      "cell_type": "code",
      "source": [
        "#이렇게 하면 다른 원소가 아닌 경우도 걸려버린다.\n",
        "if i == len(T)-1: \n",
        "  n = -1\n",
        "  return\n",
        "else:"
      ],
      "metadata": {
        "id": "KOYSevAIsDM9"
      },
      "execution_count": null,
      "outputs": []
    },
    {
      "cell_type": "code",
      "source": [
        "#S의 원소 중 T의 원소와 다른 것이 있는지 판별하는 것이 먼저다.\n",
        "S = 'assccdsaaa'\n",
        "T = 'assassas'\n",
        "\n",
        "S = set(S)\n",
        "T = set(T)\n",
        "print(S-T)\n",
        "if len(S-T) == 0:\n",
        "  print('okay')"
      ],
      "metadata": {
        "colab": {
          "base_uri": "https://localhost:8080/"
        },
        "id": "DJ2q5lpvsMvn",
        "outputId": "054456bb-a034-44fd-f865-3f1bbc005e0b"
      },
      "execution_count": 31,
      "outputs": [
        {
          "output_type": "stream",
          "name": "stdout",
          "text": [
            "{'c', 'd'}\n"
          ]
        }
      ]
    },
    {
      "cell_type": "code",
      "source": [
        "S = 'assaaa'\n",
        "T = 'assassas'\n",
        "\n",
        "S = set(S)\n",
        "T = set(T)\n",
        "\n",
        "S = ''.join(S)\n",
        "print(S)"
      ],
      "metadata": {
        "colab": {
          "base_uri": "https://localhost:8080/"
        },
        "id": "2GZst3qVtEA_",
        "outputId": "ac8a15fb-3a78-40e3-9b30-b77c4a473390"
      },
      "execution_count": 35,
      "outputs": [
        {
          "output_type": "stream",
          "name": "stdout",
          "text": [
            "acsd\n"
          ]
        }
      ]
    },
    {
      "cell_type": "code",
      "source": [
        "def soultion():\n",
        "  P = set(S)\n",
        "  Q = set(T)\n",
        "  if len(P-Q) != 0:\n",
        "    return -1\n",
        "  n = 1\n",
        "\n",
        "  def isit(T):\n",
        "    nonlocal n\n",
        "    Tx = T\n",
        "    Tx = n*T\n",
        "    i = -1\n",
        "    for s in range(len(S)):\n",
        "\n",
        "      if i>=0:\n",
        "        Tx = list(Tx)\n",
        "        for k in range(i+1):\n",
        "          del(Tx[0])\n",
        "        Tx = ''.join(Tx)\n",
        "        print(f'Tx: {Tx}')\n",
        "      for i in range(len(Tx)):\n",
        "        print(f'Tx: {Tx}')\n",
        "        if S[s] == Tx[i]:\n",
        "          break\n",
        "        else:\n",
        "          if s == len(S)-1 and i == len(Tx)-1 and S[s] != Tx[i]:\n",
        "            n+=1\n",
        "            isit(T)\n",
        "  try:\n",
        "    isit(T)\n",
        "  except:\n",
        "    n += 1\n",
        "    isit(T)\n",
        "    \n",
        "  return(n)"
      ],
      "metadata": {
        "id": "kGeqZoAhsYB8"
      },
      "execution_count": 40,
      "outputs": []
    },
    {
      "cell_type": "code",
      "source": [
        "S='caa'\n",
        "T='ac'\n",
        "soultion()"
      ],
      "metadata": {
        "colab": {
          "base_uri": "https://localhost:8080/"
        },
        "id": "xaYTrUmdtlVG",
        "outputId": "399b0f76-3570-4d22-f574-3bbff63e307b"
      },
      "execution_count": 41,
      "outputs": [
        {
          "output_type": "stream",
          "name": "stdout",
          "text": [
            "Tx: ac\n",
            "Tx: ac\n",
            "Tx: \n",
            "Tx: acac\n",
            "Tx: acac\n",
            "Tx: ac\n",
            "Tx: ac\n",
            "Tx: c\n",
            "Tx: c\n",
            "Tx: acacac\n",
            "Tx: acacac\n",
            "Tx: acac\n",
            "Tx: acac\n",
            "Tx: cac\n",
            "Tx: cac\n",
            "Tx: cac\n"
          ]
        },
        {
          "output_type": "execute_result",
          "data": {
            "text/plain": [
              "3"
            ]
          },
          "metadata": {},
          "execution_count": 41
        }
      ]
    },
    {
      "cell_type": "code",
      "source": [
        "#S가 T의 줄임말인지를 판별한다\n",
        "#안 되면 n+1해서 다시 돌린다\n",
        "    #S = 'aasassss'\n",
        "  \n",
        "    #T = 'assassa'\n",
        "\n",
        "S='caa'\n",
        "T='ac'\n",
        "n = 1\n",
        "\n",
        "def isit():\n",
        "  global n\n",
        "  try:\n",
        "    T = n*T\n",
        "    i = -1\n",
        "    for s in S:\n",
        "\n",
        "      if i>=0:\n",
        "        T = list(T)\n",
        "        for k in range(i+1):\n",
        "          del(T[0])\n",
        "        T = ''.join(T)\n",
        "\n",
        "      for i in range(len(T)):\n",
        "        print(i)\n",
        "        if s == T[i]:\n",
        "          break\n",
        "  except:\n",
        "      n += 1\n",
        "      isit()\n",
        "\n",
        "isit()\n",
        "print(n)"
      ],
      "metadata": {
        "id": "7aP1TAuAuKm9"
      },
      "execution_count": null,
      "outputs": []
    },
    {
      "cell_type": "code",
      "source": [
        "n = 2\n",
        "\n",
        "S='caa'\n",
        "T='ac'\n",
        "acac\n",
        "\n",
        "\n",
        "T = n*T\n",
        "i = -1\n",
        "for s in S:\n",
        "\n",
        "  if i>=0:\n",
        "    T = list(T)\n",
        "    for k in range(i+1):\n",
        "      del(T[0])\n",
        "    T = ''.join(T)\n",
        "    print(T)\n",
        "\n",
        "  for i in range(len(T)):\n",
        "    print(i)\n",
        "    if s == T[i]:\n",
        "      break\n",
        "\n",
        "#S의 마지막 원소를 비교하고 난 뒤에는 for문이 끝나버리기 때문에 같은지 다른지 알 수 없다"
      ],
      "metadata": {
        "colab": {
          "base_uri": "https://localhost:8080/"
        },
        "id": "nSPcbHs5yfSY",
        "outputId": "cc8c7c18-8a4e-43c7-f255-f52055dfd8b5"
      },
      "execution_count": 5,
      "outputs": [
        {
          "output_type": "stream",
          "name": "stdout",
          "text": [
            "0\n",
            "1\n",
            "ac\n",
            "0\n",
            "c\n",
            "0\n"
          ]
        }
      ]
    },
    {
      "cell_type": "code",
      "source": [
        "n = 1\n",
        "\n",
        "S='ac'\n",
        "T='ac'\n",
        "\n",
        "def isit():\n",
        "  global n\n",
        "\n",
        "  try:\n",
        "    T = n*T\n",
        "    t = -1\n",
        "    for s in range(len(S)):\n",
        "\n",
        "      if t>=0:\n",
        "        T = list(T)\n",
        "        for k in range(t+1):\n",
        "          del(T[0])\n",
        "        T = ''.join(T)\n",
        "        print(T)\n",
        "\n",
        "      for t in range(len(T)):\n",
        "        print(t)\n",
        "        if S[s] == T[t]:\n",
        "          break\n",
        "        if s == len(S)-1 and t == len(T)-1 and S[s] != T[t]:\n",
        "          isit()\n",
        "  except:\n",
        "    n+=1\n",
        "    isit()\n",
        "\n",
        "isit()\n",
        "print(f'n: {n}')\n",
        "#S의 마지막 원소를 비교하고 난 뒤에는 for문이 끝나버리기 때문에 같은지 다른지 알 수 없다 -> 각각의 마지막만 비교해서 다르면 다시 돌린다"
      ],
      "metadata": {
        "id": "ekINi1-fyfMR"
      },
      "execution_count": null,
      "outputs": []
    },
    {
      "cell_type": "code",
      "source": [
        "#try, except은 함수 바깥으로 뺀다."
      ],
      "metadata": {
        "id": "a-QIwEIF1aOF"
      },
      "execution_count": null,
      "outputs": []
    },
    {
      "cell_type": "code",
      "source": [],
      "metadata": {
        "id": "qPsRz_3Y4tui"
      },
      "execution_count": null,
      "outputs": []
    },
    {
      "cell_type": "code",
      "source": [
        "def soultion():\n",
        "  P = set(S)\n",
        "  Q = set(T)\n",
        "  if len(P-Q) != 0:\n",
        "    return -1\n",
        "  n = 1\n",
        "\n",
        "  def isit(T):\n",
        "    nonlocal n\n",
        "    Tx = T\n",
        "    Tx = n*T\n",
        "    i = -1\n",
        "    for s in range(len(S)):\n",
        "      #print('gogo')\n",
        "      #print(len(Tx))\n",
        "      #print(Tx)\n",
        "\n",
        "      if i>=0:\n",
        "        Tx = list(Tx)\n",
        "        for k in range(i+1):\n",
        "          del(Tx[0])\n",
        "        Tx = ''.join(Tx)\n",
        "       # print(f'Tx: {Tx}')\n",
        "        if len(Tx) ==0:\n",
        "          isit(T)\n",
        "\n",
        "     # print(f'len(Tx): {len(Tx)}')\n",
        "      for i in range(len(Tx)):\n",
        "        if S[s] == Tx[i]:\n",
        "          #print(S[s])\n",
        "          break\n",
        "        else:\n",
        "          if s == len(S)-1 and i == len(Tx)-1 and S[s] != Tx[i]:\n",
        "            n+=1\n",
        "            isit(T)\n",
        "  try:\n",
        "    isit(T)\n",
        "  except:\n",
        "    n += 1\n",
        "    isit(T)\n",
        "    \n",
        "  return(n)"
      ],
      "metadata": {
        "id": "9I-ZMZV04trC"
      },
      "execution_count": 69,
      "outputs": []
    },
    {
      "cell_type": "code",
      "source": [
        "def soultion():\n",
        "  P = set(S)\n",
        "  Q = set(T)\n",
        "  if len(P-Q) != 0:\n",
        "    return -1\n",
        "  n = 1\n",
        "\n",
        "  def isit(T):\n",
        "    print('def')\n",
        "    nonlocal n\n",
        "    Tx = T\n",
        "    Tx = n*T\n",
        "    i = -1\n",
        "    for s in range(len(S)):\n",
        "      if i>=0:\n",
        "        Tx = list(Tx)\n",
        "        for k in range(i+1):\n",
        "          del(Tx[0])\n",
        "\n",
        "        if len(Tx) ==0:\n",
        "          n+=1\n",
        "          isit(T)\n",
        "\n",
        "      for i in range(len(Tx)):\n",
        "        if S[s] == Tx[i]:\n",
        "          break\n",
        "        else:\n",
        "          if s == len(S)-1 and i == len(Tx)-1 and S[s] != Tx[i]:\n",
        "            n+=1\n",
        "            isit(T)\n",
        "  try:\n",
        "    isit(T)\n",
        "  except:\n",
        "    print('ex')\n",
        "    n += 1\n",
        "    isit(T)\n",
        "    \n",
        "  return(n)"
      ],
      "metadata": {
        "id": "Xezme1Gz8J8A"
      },
      "execution_count": 88,
      "outputs": []
    },
    {
      "cell_type": "code",
      "source": [
        "'ba'*6"
      ],
      "metadata": {
        "colab": {
          "base_uri": "https://localhost:8080/",
          "height": 35
        },
        "id": "F2nYOf4M9DxK",
        "outputId": "dab4eda2-b8bd-4845-9bac-1597e9016b57"
      },
      "execution_count": 80,
      "outputs": [
        {
          "output_type": "execute_result",
          "data": {
            "text/plain": [
              "'babababababa'"
            ],
            "application/vnd.google.colaboratory.intrinsic+json": {
              "type": "string"
            }
          },
          "metadata": {},
          "execution_count": 80
        }
      ]
    },
    {
      "cell_type": "code",
      "source": [
        "'abbbb'"
      ],
      "metadata": {
        "id": "tNFGAMYb9H8d"
      },
      "execution_count": null,
      "outputs": []
    },
    {
      "cell_type": "code",
      "source": [
        "def soultion():\n",
        "  P = set(S)\n",
        "  Q = set(T)\n",
        "  if len(P-Q) != 0:\n",
        "    return -1\n",
        "  n = 1\n",
        "\n",
        "  def isit(T):\n",
        "    print('def')\n",
        "    nonlocal n\n",
        "    Tx = T\n",
        "    Tx = n*T\n",
        "    i = -1\n",
        "    for s in range(len(S)):\n",
        "      if len(Tx) ==0:\n",
        "          n+=1\n",
        "          isit(T)\n",
        "\n",
        "      else:\n",
        "        if i>=0:\n",
        "          Tx = list(Tx)\n",
        "          for k in range(i+1):\n",
        "            del(Tx[0])\n",
        "\n",
        "        if len(Tx) ==0:\n",
        "          n+=1\n",
        "          isit(T)\n",
        "\n",
        "      for i in range(len(Tx)):\n",
        "        if S[s] == Tx[i]:\n",
        "          break\n",
        "        else:\n",
        "          if s == len(S)-1 and i == len(Tx)-1 and S[s] != Tx[i]:\n",
        "            n+=1\n",
        "            isit(T)\n",
        "  isit(T)\n",
        "  return(n)"
      ],
      "metadata": {
        "id": "hONLWn609N8o"
      },
      "execution_count": 86,
      "outputs": []
    },
    {
      "cell_type": "code",
      "source": [
        "def soultion():\n",
        "  P = set(S)\n",
        "  Q = set(T)\n",
        "  if len(P-Q) != 0:\n",
        "    return -1\n",
        "  n = 1\n",
        "\n",
        "  def isit(T):\n",
        "    print('def')\n",
        "    nonlocal n\n",
        "    Tx = T\n",
        "    Tx = n*T\n",
        "    i = -1\n",
        "    for s in range(len(S)):\n",
        "      #if len(Tx) == 0:\n",
        "      #  print('개수가 모자라1')\n",
        "      #  n+=1\n",
        "      #  isit(T)\n",
        "        \n",
        "      print(Tx)\n",
        "      if i>=0:\n",
        "        Tx = list(Tx)\n",
        "        #print(f'i: {i}')\n",
        "        for k in range(i+1):\n",
        "          print(f'원소개수1: {len(Tx)}')\n",
        "          del(Tx[0])\n",
        "        print(f'원소개수2: {len(Tx)}')\n",
        "        Tx = ''.join(Tx)\n",
        "\n",
        "        if len(Tx) ==0:\n",
        "          print('개수가 모자라2')\n",
        "          n+=1\n",
        "          isit(T)\n",
        "\n",
        "      for i in range(len(Tx)):\n",
        "        if S[s] == Tx[i]:\n",
        "          if s != len(S)-1:\n",
        "            break\n",
        "          else:\n",
        "            return\n",
        "        else:\n",
        "          if s == len(S)-1 and i == len(Tx)-1 and S[s] != Tx[i]:\n",
        "            print('마지막인데 아니야')\n",
        "            n+=1\n",
        "            isit(T)\n",
        "    return\n",
        "#try:\n",
        "#  isit(T)\n",
        "#except IndexError:\n",
        "#  print('왜지')\n",
        "#  isit(T)\n",
        "\n",
        "  isit(T)   \n",
        "  return(n)"
      ],
      "metadata": {
        "id": "_KnnJ3c799Z8"
      },
      "execution_count": 137,
      "outputs": []
    },
    {
      "cell_type": "code",
      "source": [
        "S='abbbb'\n",
        "T='ba'\n",
        "\n",
        "soultion()"
      ],
      "metadata": {
        "id": "lkavoo3c4v9i"
      },
      "execution_count": null,
      "outputs": []
    },
    {
      "cell_type": "code",
      "source": [
        "'ba'*5"
      ],
      "metadata": {
        "colab": {
          "base_uri": "https://localhost:8080/",
          "height": 35
        },
        "id": "Vly43gZO-hgf",
        "outputId": "db7bff9d-03e6-4a70-83f1-4a21185dcc48"
      },
      "execution_count": 102,
      "outputs": [
        {
          "output_type": "execute_result",
          "data": {
            "text/plain": [
              "'bababababa'"
            ],
            "application/vnd.google.colaboratory.intrinsic+json": {
              "type": "string"
            }
          },
          "metadata": {},
          "execution_count": 102
        }
      ]
    },
    {
      "cell_type": "code",
      "source": [
        "def soultion():\n",
        "  P = set(S)\n",
        "  Q = set(T)\n",
        "  if len(P-Q) != 0:\n",
        "    return -1\n",
        "  n = 1\n",
        "\n",
        "  def isit(T):\n",
        "    print('def')\n",
        "    nonlocal n\n",
        "    Tx = T\n",
        "    Tx = n*T\n",
        "    i = -1\n",
        "    for s in range(len(S)):\n",
        "      #if len(Tx) == 0:\n",
        "      #  print('개수가 모자라1')\n",
        "      #  n+=1\n",
        "      #  isit(T)\n",
        "        \n",
        "      print(Tx)\n",
        "      if i>=0:\n",
        "        Tx = list(Tx)\n",
        "        #print(f'i: {i}')\n",
        "        for k in range(i+1):\n",
        "          print(f'원소개수1: {len(Tx)}')\n",
        "          del(Tx[0])\n",
        "        print(f'원소개수2: {len(Tx)}')\n",
        "        Tx = ''.join(Tx)\n",
        "\n",
        "        if len(Tx) ==0:\n",
        "          print('개수가 모자라2')\n",
        "          n+=1\n",
        "          isit(T)\n",
        "\n",
        "      for i in range(len(Tx)):\n",
        "        if S[s] == Tx[i]:\n",
        "          break\n",
        "        else:\n",
        "          if s == len(S)-1 and i == len(Tx)-1 and S[s] != Tx[i]:\n",
        "            print('마지막인데 아니야')\n",
        "            n+=1\n",
        "            isit(T)\n",
        "#try:\n",
        "#  isit(T)\n",
        "#except IndexError:\n",
        "#  print('왜지')\n",
        "#  isit(T)\n",
        "\n",
        "  isit(T)   \n",
        "  return(n)"
      ],
      "metadata": {
        "id": "om2y2--sEn73"
      },
      "execution_count": null,
      "outputs": []
    },
    {
      "cell_type": "code",
      "source": [
        "def soultion():\n",
        "  P = set(S)\n",
        "  Q = set(T)\n",
        "  if len(P-Q) != 0:\n",
        "    return -1\n",
        "  n = 1\n",
        "\n",
        "  def isit(T):\n",
        "    print('def')\n",
        "    nonlocal n\n",
        "    Tx = T\n",
        "    Tx = n*T\n",
        "    i = -1\n",
        "    for s in range(len(S)):\n",
        "\n",
        "      print(Tx)\n",
        "\n",
        "      if i>=0:\n",
        "        Tx = list(Tx)\n",
        "\n",
        "        for k in range(i+1):\n",
        "          print(f'원소개수1: {len(Tx)}')\n",
        "          del(Tx[0])\n",
        "        print(f'원소개수2: {len(Tx)}')\n",
        "        Tx = ''.join(Tx)\n",
        "\n",
        "        if len(Tx) ==0:\n",
        "          print('개수가 모자라2')\n",
        "          n+=1\n",
        "          isit(T)\n",
        "\n",
        "      for i in range(len(Tx)):\n",
        "        if S[s] == Tx[i]:\n",
        "          if s != len(S)-1:\n",
        "            break\n",
        "          else:\n",
        "            return\n",
        "        else:\n",
        "          if i == len(Tx)-1:\n",
        "            print('마지막인데 아니야')\n",
        "            n+=1\n",
        "            isit(T)\n",
        "\n",
        "  isit(T)   \n",
        "  return(n)\n",
        "  \n",
        "S='abbbb'\n",
        "T='ba'\n",
        "\n",
        "soultion()"
      ],
      "metadata": {
        "id": "B__L785WL9Sp"
      },
      "execution_count": null,
      "outputs": []
    },
    {
      "cell_type": "code",
      "source": [
        "#재귀함수를 막 썼더니 return하니까 이전 함수로 돌아가서 다시 돈다. 어떻게 빠져나오지."
      ],
      "metadata": {
        "id": "zdGe0owKMBvh"
      },
      "execution_count": null,
      "outputs": []
    }
  ]
}