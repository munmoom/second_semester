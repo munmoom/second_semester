{
  "nbformat": 4,
  "nbformat_minor": 0,
  "metadata": {
    "colab": {
      "provenance": [],
      "authorship_tag": "ABX9TyMX1mQXQjIZAxqY9OgyCHC3",
      "include_colab_link": true
    },
    "kernelspec": {
      "name": "python3",
      "display_name": "Python 3"
    },
    "language_info": {
      "name": "python"
    }
  },
  "cells": [
    {
      "cell_type": "markdown",
      "metadata": {
        "id": "view-in-github",
        "colab_type": "text"
      },
      "source": [
        "<a href=\"https://colab.research.google.com/github/munmoom/second_semester/blob/main/9_27.ipynb\" target=\"_parent\"><img src=\"https://colab.research.google.com/assets/colab-badge.svg\" alt=\"Open In Colab\"/></a>"
      ]
    },
    {
      "cell_type": "code",
      "execution_count": null,
      "metadata": {
        "id": "VuqvyI29Q-lF"
      },
      "outputs": [],
      "source": [
        "if True:\n",
        "    print('ww')\n",
        "if False:\n",
        "    print(\"rr\")"
      ]
    },
    {
      "cell_type": "code",
      "source": [
        "if 1:\n",
        "    print('323')\n",
        "if 0:\n",
        "    print('232')\n",
        "if -1:\n",
        "    print('252')\n",
        "if -213:\n",
        "    print('262')\n",
        "if 909:\n",
        "    print('434')"
      ],
      "metadata": {
        "id": "TNQQuKqvUV6T"
      },
      "execution_count": null,
      "outputs": []
    },
    {
      "cell_type": "code",
      "source": [
        "x = 4\n",
        "if x%2:\n",
        "    print('true')\n",
        "print('false')"
      ],
      "metadata": {
        "id": "uVo0TRfaUpvS"
      },
      "execution_count": null,
      "outputs": []
    },
    {
      "cell_type": "code",
      "source": [],
      "metadata": {
        "id": "_UCO6KnMVd0b"
      },
      "execution_count": null,
      "outputs": []
    }
  ]
}