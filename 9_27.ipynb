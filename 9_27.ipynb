{
  "nbformat": 4,
  "nbformat_minor": 0,
  "metadata": {
    "colab": {
      "provenance": [],
      "collapsed_sections": [],
      "authorship_tag": "ABX9TyPPWvmN9SArMuGoog0xLggI",
      "include_colab_link": true
    },
    "kernelspec": {
      "name": "python3",
      "display_name": "Python 3"
    },
    "language_info": {
      "name": "python"
    }
  },
  "cells": [
    {
      "cell_type": "markdown",
      "metadata": {
        "id": "view-in-github",
        "colab_type": "text"
      },
      "source": [
        "<a href=\"https://colab.research.google.com/github/munmoom/second_semester/blob/main/9_27.ipynb\" target=\"_parent\"><img src=\"https://colab.research.google.com/assets/colab-badge.svg\" alt=\"Open In Colab\"/></a>"
      ]
    },
    {
      "cell_type": "code",
      "execution_count": null,
      "metadata": {
        "id": "VuqvyI29Q-lF"
      },
      "outputs": [],
      "source": [
        "if True:\n",
        "    print('ww')\n",
        "if False:\n",
        "    print(\"rr\")"
      ]
    },
    {
      "cell_type": "code",
      "source": [
        "if 1:\n",
        "    print('323')\n",
        "if 0:\n",
        "    print('232')\n",
        "if -1:\n",
        "    print('252')\n",
        "if -213:\n",
        "    print('262')\n",
        "if 909:\n",
        "    print('434')"
      ],
      "metadata": {
        "id": "TNQQuKqvUV6T"
      },
      "execution_count": null,
      "outputs": []
    },
    {
      "cell_type": "code",
      "source": [
        "x = 4\n",
        "if x%2:\n",
        "    print('true')\n",
        "print('false')"
      ],
      "metadata": {
        "id": "uVo0TRfaUpvS"
      },
      "execution_count": null,
      "outputs": []
    },
    {
      "cell_type": "code",
      "source": [
        "x, y = 10, 20\n",
        "max_value = x if x > y else y\n",
        "print(max_value)\n",
        "\n",
        "a, b = 10, 20\n",
        "min = a if a < b else b\n",
        "print(min)"
      ],
      "metadata": {
        "colab": {
          "base_uri": "https://localhost:8080/"
        },
        "id": "_UCO6KnMVd0b",
        "outputId": "faad38b4-24dd-4632-fda2-c851369240fe"
      },
      "execution_count": null,
      "outputs": [
        {
          "output_type": "stream",
          "name": "stdout",
          "text": [
            "20\n",
            "10\n"
          ]
        }
      ]
    },
    {
      "cell_type": "markdown",
      "source": [
        "count함수는 처음부터 끝까지 다 훑는다. 즉 원소의 개수가 너무 많은 경우에는 주의해야 한다.\n",
        "\n",
        "\n",
        "remove는 찾으면 멈춘다. count함수와는 다르다.\n",
        "\n",
        "sort에도 시간 좀 걸림.\n"
      ],
      "metadata": {
        "id": "E4TPLnmvpSAA"
      }
    },
    {
      "cell_type": "markdown",
      "source": [
        "Time complexity 시간 복잡도\n"
      ],
      "metadata": {
        "id": "UNNwBmYarFln"
      }
    },
    {
      "cell_type": "code",
      "source": [
        "def solution(inputList):\n",
        "  count = {}\n",
        "  result = 0\n",
        "  for i in inputList:\n",
        "    if i not in count:\n",
        "      count[i] = 1\n",
        "    else:\n",
        "      count[i] += 1\n",
        "  for i in count:\n",
        "    if count[i] == 1:\n",
        "      result += 1\n",
        "      \n",
        "  return result"
      ],
      "metadata": {
        "id": "GQkgTS1orEJw"
      },
      "execution_count": null,
      "outputs": []
    },
    {
      "cell_type": "code",
      "source": [
        "def solution(inputList):\n",
        "  inputList_set = list(set(inputList))\n",
        "  set_sum = sum(inputList_set)\n",
        "  lst_sum = sum(inputList)\n",
        "  result = set_sum*2 - lst_sum\n",
        "\n",
        "  return result"
      ],
      "metadata": {
        "id": "rretKhM3s5qf"
      },
      "execution_count": null,
      "outputs": []
    },
    {
      "cell_type": "code",
      "source": [
        "#위와 같음\n",
        "def solution(inputList):\n",
        "  return 2*sum(set(inputList)) - sum(inputList)\n",
        "\n",
        "#한 줄로 푸는 게 군더더기를 빼는 데는 좋음"
      ],
      "metadata": {
        "id": "rqtFv1BstfPu"
      },
      "execution_count": null,
      "outputs": []
    },
    {
      "cell_type": "code",
      "source": [
        "def solution(inputList):\n",
        "  count_list = []\n",
        "  for i in inputList:\n",
        "\n",
        "# 넣고빼고넣고빼고\n",
        "# 없으면 넣고 있으면 빼고"
      ],
      "metadata": {
        "id": "9dtcUq0IuKrn"
      },
      "execution_count": null,
      "outputs": []
    },
    {
      "cell_type": "code",
      "source": [
        "try:\n",
        "  while True:\n",
        "   #balabala\n",
        "except:\n",
        "  return num"
      ],
      "metadata": {
        "id": "N_i7Ck8zu1me"
      },
      "execution_count": null,
      "outputs": []
    },
    {
      "cell_type": "code",
      "source": [
        "def solution(inputList):\n",
        "    result = 0\n",
        "    for i in inputList:\n",
        "        result ^= i\n",
        "    return result\n",
        "\n",
        "#비트연산자 ^=\n",
        "# 0000 result\n",
        "  0010\n",
        "  0001\n",
        "  0010\n",
        "# 결과는 0001, 하나만 나온 것 반환"
      ],
      "metadata": {
        "id": "UZ6NjDvUvojm"
      },
      "execution_count": null,
      "outputs": []
    },
    {
      "cell_type": "markdown",
      "source": [
        "#오류"
      ],
      "metadata": {
        "id": "9o3ztCbL0_ZT"
      }
    },
    {
      "cell_type": "code",
      "source": [
        "def soultion(inputList):\n",
        "    list1 = []\n",
        "    for i in range(len(inputList)):  #range에 len을 넣으면 인덱스를 받는다.\n",
        "        x = inputList.count(i)       # i 를 inputList[i]로 바꾸던가 for i in inputList: 를 쓰던가\n",
        "        \n",
        "        if x > 1:\n",
        "          list1.append(i)\n",
        "          list1.append(i)\n",
        "          print(i)\n",
        "\n",
        "    t = set(inputList)\n",
        "    tt = set(list1)\n",
        "    union = t - tt\n",
        "    print(t, tt, union)\n",
        "    \n",
        "    un = list(union)\n",
        "    t = un[0]\n",
        "    \n",
        "    return t\n",
        "\n",
        "\n",
        "#오류가 되는 부분?\n"
      ],
      "metadata": {
        "id": "10Pr8P4J0_E0"
      },
      "execution_count": null,
      "outputs": []
    },
    {
      "cell_type": "code",
      "source": [],
      "metadata": {
        "id": "kGxQz1iY1CjD"
      },
      "execution_count": null,
      "outputs": []
    },
    {
      "cell_type": "code",
      "source": [],
      "metadata": {
        "id": "13LkJXSEzsvt"
      },
      "execution_count": null,
      "outputs": []
    }
  ]
}