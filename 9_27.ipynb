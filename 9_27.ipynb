{
  "nbformat": 4,
  "nbformat_minor": 0,
  "metadata": {
    "colab": {
      "provenance": [],
      "collapsed_sections": [],
      "authorship_tag": "ABX9TyMTFSDS9AoqjEU+XMYG+JmX",
      "include_colab_link": true
    },
    "kernelspec": {
      "name": "python3",
      "display_name": "Python 3"
    },
    "language_info": {
      "name": "python"
    }
  },
  "cells": [
    {
      "cell_type": "markdown",
      "metadata": {
        "id": "view-in-github",
        "colab_type": "text"
      },
      "source": [
        "<a href=\"https://colab.research.google.com/github/munmoom/second_semester/blob/main/9_27.ipynb\" target=\"_parent\"><img src=\"https://colab.research.google.com/assets/colab-badge.svg\" alt=\"Open In Colab\"/></a>"
      ]
    },
    {
      "cell_type": "code",
      "execution_count": null,
      "metadata": {
        "id": "VuqvyI29Q-lF"
      },
      "outputs": [],
      "source": [
        "if True:\n",
        "    print('ww')\n",
        "if False:\n",
        "    print(\"rr\")"
      ]
    },
    {
      "cell_type": "code",
      "source": [
        "if 1:\n",
        "    print('323')\n",
        "if 0:\n",
        "    print('232')\n",
        "if -1:\n",
        "    print('252')\n",
        "if -213:\n",
        "    print('262')\n",
        "if 909:\n",
        "    print('434')"
      ],
      "metadata": {
        "id": "TNQQuKqvUV6T"
      },
      "execution_count": null,
      "outputs": []
    },
    {
      "cell_type": "code",
      "source": [
        "x = 4\n",
        "if x%2:\n",
        "    print('true')\n",
        "print('false')"
      ],
      "metadata": {
        "id": "uVo0TRfaUpvS"
      },
      "execution_count": null,
      "outputs": []
    },
    {
      "cell_type": "code",
      "source": [
        "x, y = 10, 20\n",
        "max_value = x if x > y else y\n",
        "print(max_value)\n",
        "\n",
        "a, b = 10, 20\n",
        "min = a if a < b else b\n",
        "print(min)"
      ],
      "metadata": {
        "colab": {
          "base_uri": "https://localhost:8080/"
        },
        "id": "_UCO6KnMVd0b",
        "outputId": "faad38b4-24dd-4632-fda2-c851369240fe"
      },
      "execution_count": null,
      "outputs": [
        {
          "output_type": "stream",
          "name": "stdout",
          "text": [
            "20\n",
            "10\n"
          ]
        }
      ]
    },
    {
      "cell_type": "markdown",
      "source": [
        "count함수는 처음부터 끝까지 다 훑는다. 즉 원소의 개수가 너무 많은 경우에는 주의해야 한다.\n",
        "\n",
        "\n",
        "remove는 찾으면 멈춘다. count함수와는 다르다.\n",
        "\n",
        "sort에도 시간 좀 걸림.\n"
      ],
      "metadata": {
        "id": "E4TPLnmvpSAA"
      }
    },
    {
      "cell_type": "markdown",
      "source": [
        "Time complexity 시간 복잡도\n"
      ],
      "metadata": {
        "id": "UNNwBmYarFln"
      }
    },
    {
      "cell_type": "code",
      "source": [
        "def solution(inputList):\n",
        "  count = {}\n",
        "  result = 0\n",
        "  for i in inputList:\n",
        "    if i not in count:\n",
        "      count[i] = 1\n",
        "    else:\n",
        "      count[i] += 1\n",
        "  for i in count:\n",
        "    if count[i] == 1:\n",
        "      result += 1\n",
        "      \n",
        "  return result"
      ],
      "metadata": {
        "id": "GQkgTS1orEJw"
      },
      "execution_count": null,
      "outputs": []
    },
    {
      "cell_type": "code",
      "source": [
        "def solution(inputList):\n",
        "  inputList_set = list(set(inputList))\n",
        "  set_sum = sum(inputList_set)\n",
        "  lst_sum = sum(inputList)\n",
        "  result = set_sum*2 - lst_sum\n",
        "\n",
        "  return result"
      ],
      "metadata": {
        "id": "rretKhM3s5qf"
      },
      "execution_count": null,
      "outputs": []
    },
    {
      "cell_type": "code",
      "source": [
        "#위와 같음\n",
        "def solution(inputList):\n",
        "  return 2*sum(set(inputList)) - sum(inputList)\n",
        "\n",
        "#한 줄로 푸는 게 군더더기를 빼는 데는 좋음"
      ],
      "metadata": {
        "id": "rqtFv1BstfPu"
      },
      "execution_count": null,
      "outputs": []
    },
    {
      "cell_type": "code",
      "source": [
        "def solution(inputList):\n",
        "  count = []\n",
        "  result = 0\n",
        "  for i in inputList:\n",
        "\n",
        "###한줄로\n",
        "    if i not in count:\n",
        "      count[i] = 1\n",
        "    else:\n",
        "      count[i] += 1\n",
        "###\n",
        "\n",
        "  for i in count:\n",
        "    if count[i] ==1:\n",
        "       result += i\n",
        "\n",
        "  return result\n",
        "    \n",
        "# 넣고빼고넣고빼고\n",
        "# 없으면 넣고 있으면 빼고\n",
        "\n",
        "### count[i] = count.get(i,0) + 1\n",
        "\n"
      ],
      "metadata": {
        "id": "9dtcUq0IuKrn"
      },
      "execution_count": null,
      "outputs": []
    },
    {
      "cell_type": "code",
      "source": [
        "try:\n",
        "  while True:\n",
        "   #balabala\n",
        "except:\n",
        "  return num"
      ],
      "metadata": {
        "id": "N_i7Ck8zu1me"
      },
      "execution_count": null,
      "outputs": []
    },
    {
      "cell_type": "code",
      "source": [
        "def solution(inputList):\n",
        "    result = 0\n",
        "    for i in inputList:\n",
        "        result ^= i\n",
        "    return result\n",
        "\n",
        "#비트연산자 ^=\n",
        "# 0000 result\n",
        "  0010\n",
        "  0001\n",
        "  0010\n",
        "# 결과는 0001, 하나만 나온 것 반환"
      ],
      "metadata": {
        "id": "UZ6NjDvUvojm"
      },
      "execution_count": null,
      "outputs": []
    },
    {
      "cell_type": "markdown",
      "source": [
        "#오류"
      ],
      "metadata": {
        "id": "9o3ztCbL0_ZT"
      }
    },
    {
      "cell_type": "code",
      "source": [
        "def soultion(inputList):\n",
        "    list1 = []\n",
        "    for i in range(len(inputList)):  #range에 len을 넣으면 인덱스를 받는다.\n",
        "        x = inputList.count(i)       # i 를 inputList[i]로 바꾸던가 for i in inputList: 를 쓰던가\n",
        "        \n",
        "        if x > 1:\n",
        "          list1.append(i)\n",
        "          list1.append(i)\n",
        "          print(i)\n",
        "\n",
        "    t = set(inputList)\n",
        "    tt = set(list1)\n",
        "    union = t - tt\n",
        "    print(t, tt, union)\n",
        "    \n",
        "    un = list(union)\n",
        "    t = un[0]\n",
        "    \n",
        "    return t\n",
        "\n",
        "\n",
        "#오류가 되는 부분?\n"
      ],
      "metadata": {
        "id": "10Pr8P4J0_E0"
      },
      "execution_count": null,
      "outputs": []
    },
    {
      "cell_type": "code",
      "source": [
        "def solution(inputList):\n",
        "  count = {}\n",
        "  result = 0\n",
        "  for i in inputList:\n",
        "    if i not in count:\n",
        "      count[i] = 1\n",
        "    else:\n",
        "      count[i] += 1\n",
        "  for i in count:\n",
        "    if count[i] == 1:\n",
        "      result += i\n",
        "      \n",
        "  return result\n",
        "\n",
        "\n",
        "\n",
        "  # try-except 구문으로 변경\n",
        "  def solution(inputList):\n",
        "  dic = {}\n",
        "  result = 0\n",
        "  for i in inputList:\n",
        "    \n",
        "    try:\n",
        "       dic[i] += 1\n",
        "    except:\n",
        "       dic[i] = 1\n",
        "  \n",
        "\n",
        "  for i in count:\n",
        "    if dic[i] == 1:\n",
        "      result += i\n",
        "      \n",
        "  return result"
      ],
      "metadata": {
        "id": "kGxQz1iY1CjD"
      },
      "execution_count": null,
      "outputs": []
    },
    {
      "cell_type": "markdown",
      "source": [
        "#테스트 케이스 만들기"
      ],
      "metadata": {
        "id": "QyC4qZwI_O7p"
      }
    },
    {
      "cell_type": "code",
      "source": [
        "import random\n",
        "\n",
        "sample = random.sample(range(1000000), 1000000)\n",
        "new_sample = sample + sample[:-1]\n",
        "random.shuffle(new_sample)\n",
        "print(new_sample, sample[-1])"
      ],
      "metadata": {
        "colab": {
          "base_uri": "https://localhost:8080/"
        },
        "id": "13LkJXSEzsvt",
        "outputId": "b5fc3b97-e29e-4cb1-a283-061c7e332311"
      },
      "execution_count": 14,
      "outputs": [
        {
          "output_type": "stream",
          "name": "stderr",
          "text": [
            "IOPub data rate exceeded.\n",
            "The notebook server will temporarily stop sending output\n",
            "to the client in order to avoid crashing it.\n",
            "To change this limit, set the config variable\n",
            "`--NotebookApp.iopub_data_rate_limit`.\n",
            "\n",
            "Current values:\n",
            "NotebookApp.iopub_data_rate_limit=1000000.0 (bytes/sec)\n",
            "NotebookApp.rate_limit_window=3.0 (secs)\n",
            "\n"
          ]
        }
      ]
    },
    {
      "cell_type": "markdown",
      "source": [
        "#time측정"
      ],
      "metadata": {
        "id": "dZhr6Y5ZAclQ"
      }
    },
    {
      "cell_type": "code",
      "source": [
        "import time\n",
        "\n",
        "start_time = time.time()\n",
        "print(solution(new_sample))\n",
        "end_time = time.time()\n",
        "print(end_time - start_time)"
      ],
      "metadata": {
        "id": "OusEJMe7AcYZ"
      },
      "execution_count": null,
      "outputs": []
    },
    {
      "cell_type": "markdown",
      "source": [
        "예시"
      ],
      "metadata": {
        "id": "Aw5UEaC0BplQ"
      }
    },
    {
      "cell_type": "code",
      "source": [
        "def solution(inputList):\n",
        "  return 2*sum(set(inputList)) - sum(inputList)\n",
        "\n",
        "import time\n",
        "\n",
        "start_time = time.time()\n",
        "solution(new_sample)\n",
        "end_time = time.time()\n",
        "print(end_time - start_time)"
      ],
      "metadata": {
        "id": "n2MC0pWdBr2g"
      },
      "execution_count": null,
      "outputs": []
    },
    {
      "cell_type": "markdown",
      "source": [
        "#Quiz"
      ],
      "metadata": {
        "id": "AKQ7nErNPmTc"
      }
    },
    {
      "cell_type": "code",
      "source": [
        "(10 > 20) and (20 > 10)"
      ],
      "metadata": {
        "colab": {
          "base_uri": "https://localhost:8080/"
        },
        "id": "zNd8a11TPrX-",
        "outputId": "f7bac478-6ccb-4a27-e993-92c1288675b5"
      },
      "execution_count": 16,
      "outputs": [
        {
          "output_type": "execute_result",
          "data": {
            "text/plain": [
              "False"
            ]
          },
          "metadata": {},
          "execution_count": 16
        }
      ]
    },
    {
      "cell_type": "code",
      "source": [
        "x=22\n",
        "if x>10:\n",
        "  if x<20:\n",
        "    print(x)"
      ],
      "metadata": {
        "id": "24oeMqZgPxVt"
      },
      "execution_count": 17,
      "outputs": []
    },
    {
      "cell_type": "code",
      "source": [
        "1 <= x&x <= 100"
      ],
      "metadata": {
        "colab": {
          "base_uri": "https://localhost:8080/"
        },
        "id": "c6AtEO5VQJkH",
        "outputId": "6e62aba6-1ea6-4e45-bc45-0b90d7a95676"
      },
      "execution_count": 18,
      "outputs": [
        {
          "output_type": "execute_result",
          "data": {
            "text/plain": [
              "True"
            ]
          },
          "metadata": {},
          "execution_count": 18
        }
      ]
    },
    {
      "cell_type": "code",
      "source": [
        "x=3\n",
        "y=3\n",
        "\n",
        "if x=y:\n",
        "  pirnt('두개의 값은 같음')"
      ],
      "metadata": {
        "colab": {
          "base_uri": "https://localhost:8080/",
          "height": 137
        },
        "id": "oCralZkEQOob",
        "outputId": "4a92731d-13e1-48ad-f4d6-bcd73dbc4c2d"
      },
      "execution_count": 19,
      "outputs": [
        {
          "output_type": "error",
          "ename": "SyntaxError",
          "evalue": "ignored",
          "traceback": [
            "\u001b[0;36m  File \u001b[0;32m\"<ipython-input-19-2d6aa4461645>\"\u001b[0;36m, line \u001b[0;32m4\u001b[0m\n\u001b[0;31m    if x=y:\u001b[0m\n\u001b[0m        ^\u001b[0m\n\u001b[0;31mSyntaxError\u001b[0m\u001b[0;31m:\u001b[0m invalid syntax\n"
          ]
        }
      ]
    },
    {
      "cell_type": "code",
      "source": [
        "if not heated:\n",
        "    print(\"난방이 가동되지 않았음!\")"
      ],
      "metadata": {
        "colab": {
          "base_uri": "https://localhost:8080/",
          "height": 193
        },
        "id": "7MBl4yHHQW7z",
        "outputId": "fd2fb289-da04-4cda-8fd6-263d23654d73"
      },
      "execution_count": 23,
      "outputs": [
        {
          "output_type": "error",
          "ename": "NameError",
          "evalue": "ignored",
          "traceback": [
            "\u001b[0;31m---------------------------------------------------------------------------\u001b[0m",
            "\u001b[0;31mNameError\u001b[0m                                 Traceback (most recent call last)",
            "\u001b[0;32m<ipython-input-23-5a4004704b10>\u001b[0m in \u001b[0;36m<module>\u001b[0;34m\u001b[0m\n\u001b[0;32m----> 1\u001b[0;31m \u001b[0;32mif\u001b[0m \u001b[0;32mnot\u001b[0m \u001b[0mheated\u001b[0m\u001b[0;34m:\u001b[0m\u001b[0;34m\u001b[0m\u001b[0;34m\u001b[0m\u001b[0m\n\u001b[0m\u001b[1;32m      2\u001b[0m     \u001b[0mprint\u001b[0m\u001b[0;34m(\u001b[0m\u001b[0;34m\"난방이 가동되지 않았음!\"\u001b[0m\u001b[0;34m)\u001b[0m\u001b[0;34m\u001b[0m\u001b[0;34m\u001b[0m\u001b[0m\n",
            "\u001b[0;31mNameError\u001b[0m: name 'heated' is not defined"
          ]
        }
      ]
    },
    {
      "cell_type": "code",
      "source": [
        "if heated == False:\n",
        "    print(\"난방이 가동되지 않았음!\")"
      ],
      "metadata": {
        "colab": {
          "base_uri": "https://localhost:8080/",
          "height": 193
        },
        "id": "g7rOBecbQZW7",
        "outputId": "0195a5f0-5976-44ad-c2e7-7e1836802d20"
      },
      "execution_count": 24,
      "outputs": [
        {
          "output_type": "error",
          "ename": "NameError",
          "evalue": "ignored",
          "traceback": [
            "\u001b[0;31m---------------------------------------------------------------------------\u001b[0m",
            "\u001b[0;31mNameError\u001b[0m                                 Traceback (most recent call last)",
            "\u001b[0;32m<ipython-input-24-28f78726bcb7>\u001b[0m in \u001b[0;36m<module>\u001b[0;34m\u001b[0m\n\u001b[0;32m----> 1\u001b[0;31m \u001b[0;32mif\u001b[0m \u001b[0mheated\u001b[0m \u001b[0;34m==\u001b[0m \u001b[0;32mFalse\u001b[0m\u001b[0;34m:\u001b[0m\u001b[0;34m\u001b[0m\u001b[0;34m\u001b[0m\u001b[0m\n\u001b[0m\u001b[1;32m      2\u001b[0m     \u001b[0mprint\u001b[0m\u001b[0;34m(\u001b[0m\u001b[0;34m\"난방이 가동되지 않았음!\"\u001b[0m\u001b[0;34m)\u001b[0m\u001b[0;34m\u001b[0m\u001b[0;34m\u001b[0m\u001b[0m\n",
            "\u001b[0;31mNameError\u001b[0m: name 'heated' is not defined"
          ]
        }
      ]
    },
    {
      "cell_type": "code",
      "source": [
        "if !heated:\n",
        "    print(\"난방이 가동되지 않았음!\")"
      ],
      "metadata": {
        "colab": {
          "base_uri": "https://localhost:8080/",
          "height": 137
        },
        "id": "MQ5f9_RBQcZr",
        "outputId": "17513a08-4806-4fc4-e808-c9676a30489a"
      },
      "execution_count": 25,
      "outputs": [
        {
          "output_type": "error",
          "ename": "SyntaxError",
          "evalue": "ignored",
          "traceback": [
            "\u001b[0;36m  File \u001b[0;32m\"<ipython-input-25-247787cfeb07>\"\u001b[0;36m, line \u001b[0;32m1\u001b[0m\n\u001b[0;31m    if !heated:\u001b[0m\n\u001b[0m       ^\u001b[0m\n\u001b[0;31mSyntaxError\u001b[0m\u001b[0;31m:\u001b[0m invalid syntax\n"
          ]
        }
      ]
    },
    {
      "cell_type": "code",
      "source": [
        "number = -1\n",
        "if number <0:\n",
        "  print('음수입력')\n",
        "print(number)"
      ],
      "metadata": {
        "colab": {
          "base_uri": "https://localhost:8080/"
        },
        "id": "UqYbKZnWQrqb",
        "outputId": "5e806433-18c2-447d-8768-0b9539f99869"
      },
      "execution_count": 27,
      "outputs": [
        {
          "output_type": "stream",
          "name": "stdout",
          "text": [
            "음수입력\n",
            "-1\n"
          ]
        }
      ]
    },
    {
      "cell_type": "code",
      "source": [
        "x = 6\n",
        "y = 20\n",
        "if x > 3:\n",
        "  if y < 30:\n",
        "    print(x+y)\n",
        "else:\n",
        "  print(x*y)"
      ],
      "metadata": {
        "colab": {
          "base_uri": "https://localhost:8080/"
        },
        "id": "gT4QVDqzQ_8r",
        "outputId": "27fdca9c-1cc6-4e52-d8a2-37574c5b270d"
      },
      "execution_count": 32,
      "outputs": [
        {
          "output_type": "stream",
          "name": "stdout",
          "text": [
            "26\n"
          ]
        }
      ]
    },
    {
      "cell_type": "code",
      "source": [
        "temp = 20\n",
        "if temp <0:\n",
        "  state = '얼음'\n",
        "else:\n",
        "  state = '기체'\n",
        "print(state)"
      ],
      "metadata": {
        "colab": {
          "base_uri": "https://localhost:8080/"
        },
        "id": "YyFVgEahRSZy",
        "outputId": "5a53d208-e404-4147-dcc2-0f020b4b3187"
      },
      "execution_count": 30,
      "outputs": [
        {
          "output_type": "stream",
          "name": "stdout",
          "text": [
            "기체\n"
          ]
        }
      ]
    },
    {
      "cell_type": "code",
      "source": [
        "if not(x!=0 and x!=1):\n",
        "\n",
        "if x==0 or x==1:\n",
        "\n",
        "if x==0 and x==1:\n",
        "\n",
        "if not( x==0 and x==1 ):"
      ],
      "metadata": {
        "id": "1Y0yd9seR4X0"
      },
      "execution_count": null,
      "outputs": []
    },
    {
      "cell_type": "code",
      "source": [],
      "metadata": {
        "id": "q8pgQj50R4RE"
      },
      "execution_count": null,
      "outputs": []
    },
    {
      "cell_type": "markdown",
      "source": [
        "Exercise 1\n",
        "문자하나를 입력받아서 문자가 'R'이나 'r'이면 \"Rectangle\"이라고 출력하고 \"T\"이거나 \"t\"이면 Triangle \"C\" 이거나 \"c\"이면 \"Circle\"이라고 출력하는 프로그램을 작성하시오.\n",
        "\n",
        "문자를 입력하시오: C  \n",
        "Circle\n",
        "N = input('문자를 입력하시오: ')\n",
        "문자를 입력하시오: c\n",
        "if N == 'c' or 'C':\n",
        "    print(\"Circle\")\n",
        "elif N == 'r' or 'R':\n",
        "    print(\"Rectangle\")\n",
        "elif N == 't' or 'T':\n",
        "    print('Triangle')\n",
        "Circle\n",
        "Exercise 2\n",
        "3개의 정수를 입력받은 후 if-else 문을 사용하여 가장 작은 값을 결정하는 프로그램을 작성하시오.\n",
        "\n",
        "3개의 정수를 입력하시오: 10,20,30  \n",
        "제일 작은 정수는 10입니다. \n",
        "a = int(input())\n",
        "b = int(input())\n",
        "c = int(input())\n",
        "10\n",
        "20\n",
        "30\n",
        "if a<b and a<c:\n",
        "    print(f'가장 작은 정수는 {a}입니다.')\n",
        "elif b<a and b<c:\n",
        "    print(f'가장 작은 정수는 {b}입니다.')\n",
        "else:\n",
        "    print(f'가장 작은 정수는 {c}입니다.')\n",
        "가장 작은 정수는 10입니다.\n",
        "Exercise 3\n",
        "놀이공원에서 롤러코스터에 타려면 키가 140cm 이상이고 나이가 10살 이상이어야 한다고 가정하자, 사용자에게 키와 나이를 질문한 후에 \"타도 좋습니다\" 또는 \"죄송합니다를 출력하는 프로그램으 작성하시오.\n",
        "\n",
        "키를 입력하시오(cm): 145\n",
        "나이를 입력하시오: 11  \n",
        "타도 좋습니다.  \n",
        "H = input('키를 입력하시오: ')\n",
        "A = input('나이를 입력하시오: ')\n",
        "H = int(H)\n",
        "A = int(A)\n",
        "키를 입력하시오: 145\n",
        "나이를 입력하시오: 11\n",
        "if H>=140 and A>=10:\n",
        "    print(\"타도 좋습니다.\")\n",
        "else:\n",
        "    print(\"죄송합니다.\")\n",
        "타도 좋습니다.\n",
        "Exercise 4\n",
        "덧셈, 뺄셈, 곱셈,나눗셈 중에서 하나를 랜덤하게 선택하고 피연산자도 난수로 생성하여 사용자에게 제시하고 사용자의 답을 채점하는 프로그램을 작성하시오.\n",
        "\n",
        "1 / 5의 값은? 0.2  \n",
        "맞았습니다. \n",
        "7 + 5의 값은? 12  \n",
        "맞았습니다.\n",
        "import random\n",
        "​\n",
        "operators = ['덧셈','뺄셈','곱셈','나눗셈']\n",
        "operator = random.choice(operators)\n",
        "​\n",
        "value1 = random.randint(1, 10*10)\n",
        "value2 = random.randint(1, 10*10)\n",
        "print(operator, value1, value2)\n",
        "곱셈 30 5\n",
        "print(f'{value1},{operator},{value2}는?')\n",
        "come = int(input())\n",
        "​\n",
        "​\n",
        "if operator == '덧셈':\n",
        "  res = (value1 + value2)\n",
        "  if res == come:\n",
        "        print('맞았습니다.')\n",
        "  else: \n",
        "        print('틀렸습니다.')\n",
        "elif operator == '곱셈':\n",
        "  if res == come:\n",
        "        print('맞았습니다.')\n",
        "  else: \n",
        "        print('틀렸습니다.')\n",
        "  res = (value1 * value2)\n",
        "elif operator == '뺄셈':\n",
        "  if res == come:\n",
        "        print('맞았습니다.')\n",
        "  else: \n",
        "        print('틀렸습니다.')\n",
        "  res = (value1 - value2)\n",
        "else:\n",
        "  res = (value1 / value2)\n",
        "  if res == come:\n",
        "        print('맞았습니다.')\n",
        "  else: \n",
        "        print('틀렸습니다.')\n",
        "​\n",
        "​\n",
        "​\n",
        "30,곱셈,5는?\n",
        "150\n",
        "맞았습니다.\n",
        "Exercise5\n",
        "윤년은 2월달이 29일 까지 있는 연도이다. 연도가 4로 나누어지지만 100으로 나누어지지 않거나 또는 연도가 400으로 나누어 떨어지면 윤년이다. 사용자가 연도를 입력하면 윤년을 판별할 수 있는 프로그램을 작성하시오.\n",
        "\n",
        "연도를 입력하시오: 2020\n",
        "윤년입니다.\n",
        "N = input('연도를 입력하시오: ')\n",
        "N = int(N)\n",
        "연도를 입력하시오: 2020\n",
        "if N%4==0 and N%100 != 0:\n",
        "    print('윤년입니다.')\n",
        "else:\n",
        "    print('윤년이 아닙니다.')\n",
        "윤년입니다.\n",
        "Exercise 6\n",
        "영어 단어를 입력받아서 단어가 단수인지 복수인지 출력하는 프로그램을 작성하라. 복수 단어는 무조건 \"s\"로 끝난다고 가정하라,\n",
        "\n",
        "단어를 입력하시오: apples  \n",
        "복수 단어입니다.\n",
        "eng = input('단어를 입력하시오: ')\n",
        "단어를 입력하시오: apples\n",
        "if eng[-1] == 's':\n",
        "    print('복수 단어입니다.')\n",
        "else:\n",
        "    print('단수 단어입니다.')\n",
        "복수 단어입니다.\n",
        "Exercise 7\n",
        "간단한 주사위 게임을 작성해보자. 주사위를 3번 굴려서 나오는 점수를 모두 합한다. 주사위 면이 1이 나오면 불운이라고 간주되어서 다음번 값은 배제된다. 즉 1,2,3이 나오면 2는 합계에서 제외되어서 1 + 0 + 3 = 4가 된다. 주사위 면이 6이 나오면 행운이라고 간주되어서 다음번 점수는 무조건 2배가된다. 예를 들어서 2,6,5가 나오면 5의 값은 2배가 된어서 2 + 6 + 10 = 18이된다.\n",
        "\n",
        "1, 2, 3 -> 4  \n",
        "2, 6, 5 -> 18\n",
        "import random\n",
        "​\n",
        "value1 = random.randint(1, 6)\n",
        "value2 = random.randint(1, 6)\n",
        "value3 = random.randint(1, 6)\n",
        "print(value1, value2, value3)\n",
        "1 2 4\n",
        "v2 = value2\n",
        "v3 = value3\n",
        "​\n",
        "​\n",
        "if value1 == 1:\n",
        "    v2 = 0\n",
        "    if value2 == 1:\n",
        "       v3 = 0\n",
        "    else:\n",
        "        if value2 == 6:\n",
        "           v3 = value3*2\n",
        "​\n",
        "else:\n",
        "    if value1 == 6:\n",
        "      v2 = value2*2\n",
        "    \n",
        "    if value2 == 1:\n",
        "       v3 = 0\n",
        "    else:\n",
        "        if value2 == 6:\n",
        "           v3 = value3*2\n",
        "​\n",
        "print(value1+v2+v3)\n",
        "5\n",
        "Exercise 8\n",
        "BMI (Body Mass Index)는 체중(kg)을 신장(m)의 제곱으로 나눈 값으로 체지방 축적을 잘 반영하기 때문에 비만도 판정에 많이 사용한다.\n",
        "신장과 체중을 입력으로 받아서, BMI값을 출력하고, 다음과 같은 메세지를 출력하는 프로그램을 작성하시오.\n",
        "\n",
        "BMI\t메시지\n",
        "20~24.9\t정상입니다.\n",
        "25~29.9\t과체중입니다.\n",
        "30이상\t비만입니다.\n",
        "무게(킬로그램): 86\n",
        "키(미터): 1.83\n",
        "BMI: 25.680074054167036\n",
        "과체중입니다.\n",
        "w = input('무게(킬로그램): ')\n",
        "h = input('키(미터): ')\n",
        "BMI = float(w)/(float(h)**2)\n",
        "print(f'BMI: {BMI}')\n",
        "무게(킬로그램): 86\n",
        "키(미터): 1.83\n",
        "BMI: 25.680074054167036\n",
        "if BMI >= 30:\n",
        "    print('비만입니다.')\n",
        "elif BMI >= 25:\n",
        "    print('과체중입니다.')\n",
        "elif BMI >= 20:\n",
        "    print('정상입니다.')\n",
        "과체중입니다.\n",
        "Exercise 9\n",
        "2차 방정식의 각 계수를 정수로 입력받아, 2차 방정식의 근을 계산하시오.\n",
        "근데 2개면 2개의 근을, 1개면 1개의 근을, 실근이 존재하지 않으면 실근이 존재하지 않는다고 출력하시오.\n",
        "\n",
        "𝑎𝑥2+𝑏𝑥+𝑐=0\n",
        " \n",
        "a: 2\n",
        "b: -7\n",
        "c: 5\n",
        "실근은 2.5 와 1.0 입니다.\n",
        "b\n",
        "a = input('a: ')\n",
        "b = input('b: ')\n",
        "c = input('c: ')\n",
        "a = int(a)\n",
        "b = int(b)\n",
        "c = int(c)\n",
        "​\n",
        "D = b**2 - 4*a*c\n",
        "R1 = ((-1)*b + (D)**(1/2))/(2*a)\n",
        "R2 = ((-1)*b - (D)**(1/2))/(2*a)\n",
        "​\n",
        "if D < 0:\n",
        "    print('실근이 존재하지 않습니다.')\n",
        "if D == 0:\n",
        "    print(f'실근은 {R1}입니다.')\n",
        "else:    \n",
        "    print(f'실근은 {R1}와 {R2}입니다.')\n",
        "a: 2\n",
        "b: -7\n",
        "c: 5\n",
        "실근은 2.5와 1.0입니다.\n"
      ],
      "metadata": {
        "id": "lF1XiMYES4UL"
      }
    }
  ]
}