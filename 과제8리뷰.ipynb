{
  "nbformat": 4,
  "nbformat_minor": 0,
  "metadata": {
    "colab": {
      "provenance": [],
      "authorship_tag": "ABX9TyOfkdrTVxXgHlmLineoz7Ct",
      "include_colab_link": true
    },
    "kernelspec": {
      "name": "python3",
      "display_name": "Python 3"
    },
    "language_info": {
      "name": "python"
    }
  },
  "cells": [
    {
      "cell_type": "markdown",
      "metadata": {
        "id": "view-in-github",
        "colab_type": "text"
      },
      "source": [
        "<a href=\"https://colab.research.google.com/github/munmoom/second_semester/blob/main/%EA%B3%BC%EC%A0%9C8%EB%A6%AC%EB%B7%B0.ipynb\" target=\"_parent\"><img src=\"https://colab.research.google.com/assets/colab-badge.svg\" alt=\"Open In Colab\"/></a>"
      ]
    },
    {
      "cell_type": "markdown",
      "source": [
        "색종이가 하나부터 여러개인 점을 고려하지 않고 세 개인 경우만 고려해서 8점 감점..."
      ],
      "metadata": {
        "id": "PTTRF_sCLSv5"
      }
    },
    {
      "cell_type": "markdown",
      "source": [
        "### 일단 문제 자체의 제약조건인 100*100의 도화지의 크기를 잘 생각해봐야 한다.\n",
        ": 100by100의 이중 리스트를 만들어서 안의 원소는 모두 0으로 채웠다. 색종이가 붙은 부분만 1로 바꿔준다. 마지막에 sum을 하면 된다. 중복되는 색종이는 처음에 set으로 걸러준다.\n",
        "\n",
        "\n",
        ": 일차원 배열로 해결한 방법에선 (x,y)라고 하면 x는 1, y는 1*100으로 저장하고, 겹치는 부분에는 1을 계속 더해 구분해준다.\n",
        "\n",
        "\n",
        ": 색종이기 차지하는 좌표를 모두 저장하고 마지막엔 set으로 중복되는 것을 모두 삭제한다. 하지만 이렇게 하면 같은 위치에 많은 수의 색종이가 붙었을 때 좌표를 저장하는 리스트 사이즈가 너무 커진다. 처음부터 도화지 크기로 한정해놓은 경우와는 다르게 시간이 많이 걸릴 수 있다.\n",
        "\n",
        "\n",
        ":종이가 도화지를 넘어간 경우를 체크해준다.\n",
        "\n",
        "\n",
        "```\n",
        "for i i range(x, min(x+10,100)):\n",
        "  for j in range(y, min(y+10, 100)):\n",
        "```\n",
        "\n",
        "\n"
      ],
      "metadata": {
        "id": "x6iSmjXiLdR5"
      }
    },
    {
      "cell_type": "code",
      "execution_count": null,
      "metadata": {
        "id": "kFfCcTK5vuWG"
      },
      "outputs": [],
      "source": [
        "T = [(3, 7), (15, 7), (5, 2)]"
      ]
    },
    {
      "cell_type": "code",
      "source": [
        "t1 = T[0][0]\n",
        "print(t1)"
      ],
      "metadata": {
        "colab": {
          "base_uri": "https://localhost:8080/"
        },
        "id": "SwfMHMRFvyAE",
        "outputId": "7aaa963e-5c9d-4394-88e9-acb1fa86da82"
      },
      "execution_count": null,
      "outputs": [
        {
          "output_type": "stream",
          "name": "stdout",
          "text": [
            "3\n"
          ]
        }
      ]
    },
    {
      "cell_type": "code",
      "source": [
        "T[0]"
      ],
      "metadata": {
        "colab": {
          "base_uri": "https://localhost:8080/"
        },
        "id": "KlZN7iNiv8dr",
        "outputId": "d33bc6fd-ecc9-4d69-eb28-c4faf2fe9c1f"
      },
      "execution_count": null,
      "outputs": [
        {
          "output_type": "execute_result",
          "data": {
            "text/plain": [
              "(3, 7)"
            ]
          },
          "metadata": {},
          "execution_count": 8
        }
      ]
    },
    {
      "cell_type": "code",
      "source": [
        "(a, b) = T[0]\n",
        "print(a)\n",
        "print(b)"
      ],
      "metadata": {
        "colab": {
          "base_uri": "https://localhost:8080/"
        },
        "id": "mwLdzdJcwFZq",
        "outputId": "759ebbd2-25c8-4ee6-881d-07e9aa4a6956"
      },
      "execution_count": null,
      "outputs": [
        {
          "output_type": "stream",
          "name": "stdout",
          "text": [
            "3\n",
            "7\n"
          ]
        }
      ]
    }
  ]
}