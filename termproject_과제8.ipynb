{
  "nbformat": 4,
  "nbformat_minor": 0,
  "metadata": {
    "colab": {
      "provenance": [],
      "authorship_tag": "ABX9TyM8D2AMmRLa/tdMJZei5l0J",
      "include_colab_link": true
    },
    "kernelspec": {
      "name": "python3",
      "display_name": "Python 3"
    },
    "language_info": {
      "name": "python"
    }
  },
  "cells": [
    {
      "cell_type": "markdown",
      "metadata": {
        "id": "view-in-github",
        "colab_type": "text"
      },
      "source": [
        "<a href=\"https://colab.research.google.com/github/munmoom/second_semester/blob/main/termproject_%EA%B3%BC%EC%A0%9C8.ipynb\" target=\"_parent\"><img src=\"https://colab.research.google.com/assets/colab-badge.svg\" alt=\"Open In Colab\"/></a>"
      ]
    },
    {
      "cell_type": "markdown",
      "source": [
        "Term Project\n",
        "\n",
        "인원은 랜덤으로 다섯 정도\n",
        "\n",
        "1. 창작이미지 만들기, 주제는 프로그래밍과 관련이 있는 것, 창작 툴은 자유롭게, 제한은 딱히 없지만 예시는 DALL E, Deep Dream Generator\n",
        "\n",
        "2. 과제 만들어보기, 얼마나 재밌고 신선한지, 논리적으로 말이 되고 테스트 케이스는 상중하로 나뉘어야, 발표가 어떤지, 팀원이 모두 잘 기여했는지, 발표분량은 10분 이내로, 넘기지 말고, 내용은 과제설명, 입출력, 테스트케이스, 과제 출처가 있다면 출처 명시 필요, 이를테면 설명문을 바꾼다거나, 구현 코드, 문제 난이도, 멤버역할, +구현 코드(.ipynb주피터노트북파일),테스트케이스(예시_1.in,1.out)\n",
        "\n",
        "3. 퀴즈 출제하기, 10주차 주제 중 하나에서 3문제, 유형, 문제, 정답 3가지 발표\n",
        "\n",
        "4. 프원실 교과목 피드백, 좋은점과 개선점, 수업방법제안, 발표자표는 1페이지로\n",
        "\n",
        "12.5 자정까지 모든 발표자료 제출, 12.6발표\n",
        "각각 3, 10,5,2점, 1,2만 발표하고 교수님+학생 참여 평가, 나머지는 교수님이 보고 평가\n",
        "\n",
        "제출방법은 추후 공지\n",
        "\n",
        "제출파일은 압축파일로(몇조_이름_이름_이름_이름.zip), 안에 발표자료 4개, 구현코드 이름은 code.ipynb, testcase폴더 안에 20개 파일(in, out 10개씩)"
      ],
      "metadata": {
        "id": "-odNaVWaAxDr"
      }
    },
    {
      "cell_type": "markdown",
      "source": [
        "## 과제7\n",
        "find와 index함수에서 \n",
        "('b', 2)라고 하면 인덱스 2부터 찾으라는 말\n",
        "없으면 각각 -1반환 error\n",
        "\n",
        "in, not in \n",
        "\n",
        "\n",
        "\n",
        "```\n",
        "# if set(S)-set(T):\n",
        "  return -1\n",
        "\n",
        "# if set(S) | set(T)\n",
        "```\n",
        "\n",
        "\n"
      ],
      "metadata": {
        "id": "nefPmt53JuO2"
      }
    },
    {
      "cell_type": "code",
      "execution_count": null,
      "metadata": {
        "id": "kFfCcTK5vuWG"
      },
      "outputs": [],
      "source": [
        "T = [(3, 7), (15, 7), (5, 2)]"
      ]
    },
    {
      "cell_type": "code",
      "source": [
        "t1 = T[0][0]\n",
        "print(t1)"
      ],
      "metadata": {
        "colab": {
          "base_uri": "https://localhost:8080/"
        },
        "id": "SwfMHMRFvyAE",
        "outputId": "7aaa963e-5c9d-4394-88e9-acb1fa86da82"
      },
      "execution_count": null,
      "outputs": [
        {
          "output_type": "stream",
          "name": "stdout",
          "text": [
            "3\n"
          ]
        }
      ]
    },
    {
      "cell_type": "code",
      "source": [
        "T[0]"
      ],
      "metadata": {
        "colab": {
          "base_uri": "https://localhost:8080/"
        },
        "id": "KlZN7iNiv8dr",
        "outputId": "d33bc6fd-ecc9-4d69-eb28-c4faf2fe9c1f"
      },
      "execution_count": null,
      "outputs": [
        {
          "output_type": "execute_result",
          "data": {
            "text/plain": [
              "(3, 7)"
            ]
          },
          "metadata": {},
          "execution_count": 8
        }
      ]
    },
    {
      "cell_type": "code",
      "source": [
        "(a, b) = T[0]\n",
        "print(a)\n",
        "print(b)"
      ],
      "metadata": {
        "colab": {
          "base_uri": "https://localhost:8080/"
        },
        "id": "mwLdzdJcwFZq",
        "outputId": "759ebbd2-25c8-4ee6-881d-07e9aa4a6956"
      },
      "execution_count": null,
      "outputs": [
        {
          "output_type": "stream",
          "name": "stdout",
          "text": [
            "3\n",
            "7\n"
          ]
        }
      ]
    },
    {
      "cell_type": "code",
      "source": [
        "len({(1,2),(3,4)})\n",
        "A = {(1,2),(3,4)}\n",
        "B = {(1,2),(4,4)}\n",
        "print(A&B)"
      ],
      "metadata": {
        "colab": {
          "base_uri": "https://localhost:8080/"
        },
        "id": "7c3hCR35_PLU",
        "outputId": "275862b7-dd58-4026-a505-3454f2bfac20"
      },
      "execution_count": null,
      "outputs": [
        {
          "output_type": "stream",
          "name": "stdout",
          "text": [
            "{(1, 2)}\n"
          ]
        }
      ]
    },
    {
      "cell_type": "markdown",
      "source": [
        "# wrong answer"
      ],
      "metadata": {
        "id": "SIPif2D9OrLj"
      }
    },
    {
      "cell_type": "code",
      "source": [
        "def solution(coordinate):\n",
        "  T = []\n",
        "  def color(x,y):\n",
        "    A = []\n",
        "    for i in range(100):\n",
        "      A.append((x+i, y+i))\n",
        "    return A\n",
        "  for t in coordinate:\n",
        "    (x,y) = t\n",
        "    A = color(x,y)\n",
        "    T.append(A)\n",
        "  A1, A2, A3 = set(T[0]), set(T[1]), set(T[2])\n",
        "  a1 = A1&A2\n",
        "  a2 = A2&A3\n",
        "  a3 = A1&A3\n",
        "  a4 = A1&A2&A3\n",
        "  n = -1\n",
        "  if a4:\n",
        "    if len(a1):\n",
        "      n+=1\n",
        "    if len(a2):\n",
        "      n+=1\n",
        "    if len(a3):\n",
        "      n+=1\n",
        "  return 300 - len(a1|a2|a3) +n*len(a4)"
      ],
      "metadata": {
        "id": "t11Hy5f3_VOD"
      },
      "execution_count": 16,
      "outputs": []
    }
  ]
}