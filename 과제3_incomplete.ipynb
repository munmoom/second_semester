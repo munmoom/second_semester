{
  "nbformat": 4,
  "nbformat_minor": 0,
  "metadata": {
    "colab": {
      "provenance": [],
      "authorship_tag": "ABX9TyPR8kTbme0uNG/ST7SaZHcI",
      "include_colab_link": true
    },
    "kernelspec": {
      "name": "python3",
      "display_name": "Python 3"
    },
    "language_info": {
      "name": "python"
    }
  },
  "cells": [
    {
      "cell_type": "markdown",
      "metadata": {
        "id": "view-in-github",
        "colab_type": "text"
      },
      "source": [
        "<a href=\"https://colab.research.google.com/github/munmoom/second_semester/blob/main/%EA%B3%BC%EC%A0%9C3_incomplete.ipynb\" target=\"_parent\"><img src=\"https://colab.research.google.com/assets/colab-badge.svg\" alt=\"Open In Colab\"/></a>"
      ]
    },
    {
      "cell_type": "code",
      "execution_count": 1,
      "metadata": {
        "id": "y5mg_X4zAvWz"
      },
      "outputs": [],
      "source": [
        "# 펠린드롬이 홀수라면 가운데 숫자가 양 옆과 같거나 다를 수 있지만\n",
        "# 펠린드롬이 짝수라면 가운데 숫자는 무조건 같은 두 수이므로\n",
        "# 가운데 숫자를 포함하지 않고 양 옆을 비교하는 경우와\n",
        "# 가운데 숫자를 포함하여 양 옆을 비교하는 경우로 나눔\n",
        "# [0,0,0,1,1,0,0]이라는 리스트에서\n",
        "# [0,0,0], [1,0,0]비교\n",
        "# [0,0,0,1], [1,0,0]비교\n",
        "# 두 가지를 모두 수행\n",
        "\n",
        "def longest_palindrome(nums):\n",
        "    n = len(nums)\n",
        "    if n == 1:\n",
        "        return 1\n",
        "    else:\n",
        "        for i in range(n):               # 0부터 len(nums)-1 까지 숫자 대입 i\n",
        "            befo_odd = nums[:i]          # i-1인덱스까지 자름\n",
        "            befo_even = nums[:i+1]\n",
        "            afte = nums[i+1:]\n",
        "\n",
        "            b1, a1 = len(befo_odd), len(afte)\n",
        "            if b1 > a1:\n",
        "                befo_odd = befo_odd[:-a1-1:-1]  # afte와 길이가 같게 자름, 역순됨, 중심부터 나열\n",
        "            if a1 > b1:\n",
        "                afte_odd = afte[b1-1::-1]       # befo와 길이가 같게 자름, 역순됨, 바깥쪽부터 나열\n",
        "                befo_odd.reverse()              # 중심부터 나열\n",
        "                afte_odd.reverse()              # 중심부터 나열\n",
        "                \n",
        "                    \n",
        "            b2, a2 = len(befo_even), len(afte)\n",
        "            if b2 > a2:\n",
        "                befo_even = befo_even[:-a2-1:-1]\n",
        "            if a2 > b2:\n",
        "                afte_even = afte[b2-1::-1]\n",
        "                befo_even.reverse()\n",
        "                afte_even.reverse()\n",
        "            \n",
        "            P_length = []\n",
        "            \n",
        "            n=0\n",
        "            for k in befo_odd:\n",
        "                if k == afte_odd[n]:\n",
        "                    n += 1\n",
        "                else:\n",
        "                    break\n",
        "            P_length.append(n*2+1)\n",
        "                    \n",
        "            n=0\n",
        "            for k in befo_even:\n",
        "                if k == afte_even[n]:\n",
        "                    n += 1\n",
        "                else:\n",
        "                    break\n",
        "            P_length.append(n*2)\n",
        "                    \n",
        "        return max(P_length)"
      ]
    },
    {
      "cell_type": "code",
      "source": [
        "nums = [2, 1, 3, 1, 2, 4, 4, 2, 1, 2]\n",
        "longest_palindrome(nums)"
      ],
      "metadata": {
        "colab": {
          "base_uri": "https://localhost:8080/"
        },
        "id": "NXjdZZWJAz3_",
        "outputId": "2073da1b-d5ab-46dc-a624-36bb1e70fffe"
      },
      "execution_count": 2,
      "outputs": [
        {
          "output_type": "execute_result",
          "data": {
            "text/plain": [
              "1"
            ]
          },
          "metadata": {},
          "execution_count": 2
        }
      ]
    }
  ]
}