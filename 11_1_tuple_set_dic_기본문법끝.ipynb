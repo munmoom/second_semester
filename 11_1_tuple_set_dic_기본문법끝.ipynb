{
  "nbformat": 4,
  "nbformat_minor": 0,
  "metadata": {
    "colab": {
      "provenance": [],
      "authorship_tag": "ABX9TyMFas3b1+YFq4/1Qbrw5FBS",
      "include_colab_link": true
    },
    "kernelspec": {
      "name": "python3",
      "display_name": "Python 3"
    },
    "language_info": {
      "name": "python"
    }
  },
  "cells": [
    {
      "cell_type": "markdown",
      "metadata": {
        "id": "view-in-github",
        "colab_type": "text"
      },
      "source": [
        "<a href=\"https://colab.research.google.com/github/munmoom/second_semester/blob/main/11_1_tuple_set_dic_%EA%B8%B0%EB%B3%B8%EB%AC%B8%EB%B2%95%EB%81%9D.ipynb\" target=\"_parent\"><img src=\"https://colab.research.google.com/assets/colab-badge.svg\" alt=\"Open In Colab\"/></a>"
      ]
    },
    {
      "cell_type": "markdown",
      "source": [
        "immutable : 수정이 불가하다\n",
        "\n",
        "튜플 tuple\n",
        "immutable한 것과 표현이 다르다는 것 빼고 리스트와 거의 비슷하다.\n",
        "\n",
        "packing은 여러 ele을 하나의 변수명으로 포함하는 것\n",
        "푸는 건 unpacking\n",
        "\n",
        "\n"
      ],
      "metadata": {
        "id": "5AD0j2H_h7q3"
      }
    },
    {
      "cell_type": "code",
      "source": [
        "a = 1,2,3, \"123\"    #괄호 없어도 된다\n",
        "b = (1,2,3)"
      ],
      "metadata": {
        "id": "nICj2UipjGLd"
      },
      "execution_count": 6,
      "outputs": []
    },
    {
      "cell_type": "code",
      "execution_count": 1,
      "metadata": {
        "colab": {
          "base_uri": "https://localhost:8080/"
        },
        "id": "eQJigLM8hzhF",
        "outputId": "d51833be-bcd5-4786-b862-d1c94cd7e820"
      },
      "outputs": [
        {
          "output_type": "execute_result",
          "data": {
            "text/plain": [
              "int"
            ]
          },
          "metadata": {},
          "execution_count": 1
        }
      ],
      "source": [
        "a= (1)\n",
        "type(a)    #ele이 1개일 때는 int"
      ]
    },
    {
      "cell_type": "code",
      "source": [
        "a = (1,)\n",
        "type(a)   #','찍어주면 tuple"
      ],
      "metadata": {
        "colab": {
          "base_uri": "https://localhost:8080/"
        },
        "id": "6WNsnCs4iwNe",
        "outputId": "7702716e-d7db-48fc-c18c-8d2ba7194b26"
      },
      "execution_count": 2,
      "outputs": [
        {
          "output_type": "execute_result",
          "data": {
            "text/plain": [
              "tuple"
            ]
          },
          "metadata": {},
          "execution_count": 2
        }
      ]
    },
    {
      "cell_type": "code",
      "source": [
        "rest = (1,2,2,3)\n",
        "rest[2] = 5    #immutable, error"
      ],
      "metadata": {
        "colab": {
          "base_uri": "https://localhost:8080/",
          "height": 193
        },
        "id": "Z6h59NKVi-q1",
        "outputId": "105b9063-7171-4d11-eb02-5a6e989f62bb"
      },
      "execution_count": 3,
      "outputs": [
        {
          "output_type": "error",
          "ename": "TypeError",
          "evalue": "ignored",
          "traceback": [
            "\u001b[0;31m---------------------------------------------------------------------------\u001b[0m",
            "\u001b[0;31mTypeError\u001b[0m                                 Traceback (most recent call last)",
            "\u001b[0;32m<ipython-input-3-516c67b98173>\u001b[0m in \u001b[0;36m<module>\u001b[0;34m\u001b[0m\n\u001b[1;32m      1\u001b[0m \u001b[0mrest\u001b[0m \u001b[0;34m=\u001b[0m \u001b[0;34m(\u001b[0m\u001b[0;36m1\u001b[0m\u001b[0;34m,\u001b[0m\u001b[0;36m2\u001b[0m\u001b[0;34m,\u001b[0m\u001b[0;36m2\u001b[0m\u001b[0;34m,\u001b[0m\u001b[0;36m3\u001b[0m\u001b[0;34m)\u001b[0m\u001b[0;34m\u001b[0m\u001b[0;34m\u001b[0m\u001b[0m\n\u001b[0;32m----> 2\u001b[0;31m \u001b[0mrest\u001b[0m\u001b[0;34m[\u001b[0m\u001b[0;36m2\u001b[0m\u001b[0;34m]\u001b[0m \u001b[0;34m=\u001b[0m \u001b[0;36m5\u001b[0m\u001b[0;34m\u001b[0m\u001b[0;34m\u001b[0m\u001b[0m\n\u001b[0m",
            "\u001b[0;31mTypeError\u001b[0m: 'tuple' object does not support item assignment"
          ]
        }
      ]
    },
    {
      "cell_type": "markdown",
      "source": [
        "리스트, 튜플 간의 변환은 list(), tuple()함수를 써서 왔다갔다"
      ],
      "metadata": {
        "id": "uhQh-_7li-e9"
      }
    },
    {
      "cell_type": "markdown",
      "source": [
        "tuple은 immutable하기 때문에 한번 생성 후에 고려할 것이 별로 없다. light하다. 빠르다. 수정할 일이 없으면 tuple을 쓰는 것이 좋다. 수정하면 안 되는 경우 보호해준다.\n",
        "\n",
        "list는 heavy하다."
      ],
      "metadata": {
        "id": "d2BbeYu9jj9F"
      }
    },
    {
      "cell_type": "markdown",
      "source": [
        "set은 unorderd collection이다. unique하다. 겉 기호는 {}, dictionary와 같지만 key value가 없다."
      ],
      "metadata": {
        "id": "oC0HJJb2kAt9"
      }
    },
    {
      "cell_type": "code",
      "source": [
        "s = set(\"Hello\")\n",
        "print(s)    #unique"
      ],
      "metadata": {
        "colab": {
          "base_uri": "https://localhost:8080/"
        },
        "id": "62SHv1mOjOJM",
        "outputId": "0f4f3da9-1fbc-4985-9441-1419ec333705"
      },
      "execution_count": 7,
      "outputs": [
        {
          "output_type": "stream",
          "name": "stdout",
          "text": [
            "{'l', 'o', 'H', 'e'}\n"
          ]
        }
      ]
    },
    {
      "cell_type": "code",
      "source": [
        "s[0]    #순서가 없어서 에러남"
      ],
      "metadata": {
        "colab": {
          "base_uri": "https://localhost:8080/",
          "height": 174
        },
        "id": "_6mOfOMokVp9",
        "outputId": "ffbf2203-0b78-426a-8ade-62bd480c20b2"
      },
      "execution_count": 8,
      "outputs": [
        {
          "output_type": "error",
          "ename": "TypeError",
          "evalue": "ignored",
          "traceback": [
            "\u001b[0;31m---------------------------------------------------------------------------\u001b[0m",
            "\u001b[0;31mTypeError\u001b[0m                                 Traceback (most recent call last)",
            "\u001b[0;32m<ipython-input-8-c9c96910e542>\u001b[0m in \u001b[0;36m<module>\u001b[0;34m\u001b[0m\n\u001b[0;32m----> 1\u001b[0;31m \u001b[0ms\u001b[0m\u001b[0;34m[\u001b[0m\u001b[0;36m0\u001b[0m\u001b[0;34m]\u001b[0m\u001b[0;34m\u001b[0m\u001b[0;34m\u001b[0m\u001b[0m\n\u001b[0m",
            "\u001b[0;31mTypeError\u001b[0m: 'set' object is not subscriptable"
          ]
        }
      ]
    },
    {
      "cell_type": "code",
      "source": [
        "s = {1,2,3,4,5,6,777,7,7,7,7,7}\n",
        "s    #unique"
      ],
      "metadata": {
        "colab": {
          "base_uri": "https://localhost:8080/"
        },
        "id": "VU7n35iQkdDF",
        "outputId": "54994646-e347-4da8-f52e-e257a2e9054e"
      },
      "execution_count": 9,
      "outputs": [
        {
          "output_type": "execute_result",
          "data": {
            "text/plain": [
              "{1, 2, 3, 4, 5, 6, 7, 777}"
            ]
          },
          "metadata": {},
          "execution_count": 9
        }
      ]
    },
    {
      "cell_type": "markdown",
      "source": [
        "tuple처럼 리스트와 왔다갔다"
      ],
      "metadata": {
        "id": "VuVd-GBXklHL"
      }
    },
    {
      "cell_type": "markdown",
      "source": [
        "합집합, 교집합, 차집합 가능"
      ],
      "metadata": {
        "id": "xR2fIS7gkrps"
      }
    },
    {
      "cell_type": "code",
      "source": [
        "a = {1,2,3,4}\n",
        "b = {3,4,5,6}\n",
        "\n",
        "print(a|b)\n",
        "print(a&b)\n",
        "print(a-b)"
      ],
      "metadata": {
        "colab": {
          "base_uri": "https://localhost:8080/"
        },
        "id": "AIkNdUHzkj9U",
        "outputId": "d06cf906-aef6-422d-ff8c-b8ad6c1e3c84"
      },
      "execution_count": 10,
      "outputs": [
        {
          "output_type": "stream",
          "name": "stdout",
          "text": [
            "{1, 2, 3, 4, 5, 6}\n",
            "{3, 4}\n",
            "{1, 2}\n"
          ]
        }
      ]
    },
    {
      "cell_type": "markdown",
      "source": [
        "## Dictionary 아주 유용한 데이터타입\n",
        "key/value pair collection"
      ],
      "metadata": {
        "id": "eMngXf0zk90E"
      }
    },
    {
      "cell_type": "markdown",
      "source": [
        "key는 unique하다. 같으면 뒤에것이 앞에것을 덮어쓴다."
      ],
      "metadata": {
        "id": "ZHFqE8m7lYpt"
      }
    },
    {
      "cell_type": "code",
      "source": [
        "country = {'Korea':'Seoul', 'a':'b', 'c':'d'}\n",
        "print(country)"
      ],
      "metadata": {
        "colab": {
          "base_uri": "https://localhost:8080/"
        },
        "id": "PJRu6Rl6k8f1",
        "outputId": "64cbd655-3e2d-4212-9a17-f2a7f11bef79"
      },
      "execution_count": 13,
      "outputs": [
        {
          "output_type": "stream",
          "name": "stdout",
          "text": [
            "{'Korea': 'Seoul', 'a': 'b', 'c': 'd'}\n"
          ]
        }
      ]
    },
    {
      "cell_type": "markdown",
      "source": [
        "key에 접근할 때는 []"
      ],
      "metadata": {
        "id": "loIRlxDvlt8m"
      }
    },
    {
      "cell_type": "code",
      "source": [
        "country['Korea']"
      ],
      "metadata": {
        "colab": {
          "base_uri": "https://localhost:8080/",
          "height": 35
        },
        "id": "vKTkKnOnltnX",
        "outputId": "3a7b245a-cf1f-41dc-c202-4d2c82dc1d5f"
      },
      "execution_count": 14,
      "outputs": [
        {
          "output_type": "execute_result",
          "data": {
            "text/plain": [
              "'Seoul'"
            ],
            "application/vnd.google.colaboratory.intrinsic+json": {
              "type": "string"
            }
          },
          "metadata": {},
          "execution_count": 14
        }
      ]
    },
    {
      "cell_type": "code",
      "source": [
        "country.get('Korea')    #get함수"
      ],
      "metadata": {
        "colab": {
          "base_uri": "https://localhost:8080/",
          "height": 35
        },
        "id": "oJFRySuflnac",
        "outputId": "e345ef6d-3f01-4736-bcfa-dc15851e7e61"
      },
      "execution_count": 15,
      "outputs": [
        {
          "output_type": "execute_result",
          "data": {
            "text/plain": [
              "'Seoul'"
            ],
            "application/vnd.google.colaboratory.intrinsic+json": {
              "type": "string"
            }
          },
          "metadata": {},
          "execution_count": 15
        }
      ]
    },
    {
      "cell_type": "markdown",
      "source": [
        "[]써서 없는데 접근하면 keyerror\n",
        "\n",
        "get('e','f')\n",
        "없으면 'f'반환, 즉 default값으로 만들어 줌"
      ],
      "metadata": {
        "id": "ksSseUWMmGf0"
      }
    },
    {
      "cell_type": "code",
      "source": [
        "ch = {}\n",
        "for i in 'banana':\n",
        "  ch[i] = ch.get(i,0) + 1\n",
        "\n",
        "print(ch)"
      ],
      "metadata": {
        "colab": {
          "base_uri": "https://localhost:8080/"
        },
        "id": "IGJOKKNomTiN",
        "outputId": "40954137-310d-4954-c183-470be8dcb049"
      },
      "execution_count": 17,
      "outputs": [
        {
          "output_type": "stream",
          "name": "stdout",
          "text": [
            "{'b': 1, 'a': 3, 'n': 2}\n"
          ]
        }
      ]
    },
    {
      "cell_type": "code",
      "source": [
        "for i in 'banana':    #dic.get안 쓰고 countng하려고 하면 길어진다\n",
        "  a=b=c=0\n",
        "  if i == 'b':\n",
        "  pass"
      ],
      "metadata": {
        "id": "YBBvpwZEm5zN"
      },
      "execution_count": null,
      "outputs": []
    },
    {
      "cell_type": "markdown",
      "source": [
        "# Nested dictionary\n",
        "value내에 dictionarty가 들어 있는\n",
        "\n",
        "내에 있는 걸 가져오고 싶으면 [겉key][안key]\n",
        "\n",
        "\n",
        "# mutable하다\n",
        "change/add/remove모두 가능\n",
        "\n",
        "리스트에서 key가 인덱스처럼, pop()함수에서 내에 인덱스 넣는것처럼 key를 넣음"
      ],
      "metadata": {
        "id": "7vFfs8KenSKs"
      }
    },
    {
      "cell_type": "markdown",
      "source": [
        "# comprehension"
      ],
      "metadata": {
        "id": "OJj6DJJOoQwU"
      }
    },
    {
      "cell_type": "code",
      "source": [
        "squres = [x**2 for x in range(10)]\n",
        "print(squres)"
      ],
      "metadata": {
        "colab": {
          "base_uri": "https://localhost:8080/"
        },
        "id": "4hrPHDzlm6el",
        "outputId": "a507cca5-02ad-4efa-9b26-5d6f9ad49603"
      },
      "execution_count": 20,
      "outputs": [
        {
          "output_type": "stream",
          "name": "stdout",
          "text": [
            "[0, 1, 4, 9, 16, 25, 36, 49, 64, 81]\n"
          ]
        }
      ]
    },
    {
      "cell_type": "code",
      "source": [
        "matrix = [[i for i in range(5)] for _ in range(6)]\n",
        "matrix"
      ],
      "metadata": {
        "colab": {
          "base_uri": "https://localhost:8080/"
        },
        "id": "Eax5VKWEoiPU",
        "outputId": "027b3b47-2023-4fbe-d744-479cd7eec30a"
      },
      "execution_count": 23,
      "outputs": [
        {
          "output_type": "execute_result",
          "data": {
            "text/plain": [
              "[[0, 1, 2, 3, 4],\n",
              " [0, 1, 2, 3, 4],\n",
              " [0, 1, 2, 3, 4],\n",
              " [0, 1, 2, 3, 4],\n",
              " [0, 1, 2, 3, 4],\n",
              " [0, 1, 2, 3, 4]]"
            ]
          },
          "metadata": {},
          "execution_count": 23
        }
      ]
    },
    {
      "cell_type": "markdown",
      "source": [
        "list = [expression for member in literable if condition]\n",
        "\n",
        "set = {expression for member in literable if condition}\n",
        "\n",
        "dic = {key:value for member in literable if condition}"
      ],
      "metadata": {
        "id": "n2FXvMNepgyE"
      }
    },
    {
      "cell_type": "code",
      "source": [
        "com = [(x,y) for x in [1,2,3] for y in [3,1,4] if x != y]\n",
        "com"
      ],
      "metadata": {
        "colab": {
          "base_uri": "https://localhost:8080/"
        },
        "id": "QRE3QJI7o_vP",
        "outputId": "7304059d-f8a8-4394-bfdf-28d9f168bfb6"
      },
      "execution_count": 27,
      "outputs": [
        {
          "output_type": "execute_result",
          "data": {
            "text/plain": [
              "[(1, 3), (1, 4), (2, 3), (2, 1), (2, 4), (3, 1), (3, 4)]"
            ]
          },
          "metadata": {},
          "execution_count": 27
        }
      ]
    },
    {
      "cell_type": "code",
      "source": [
        "combs = []\n",
        "for x in [1,2,3]:\n",
        "  for y in [3,1,4]:\n",
        "    if x != y:\n",
        "      combs.append((x,y))\n",
        "\n",
        "combs"
      ],
      "metadata": {
        "colab": {
          "base_uri": "https://localhost:8080/"
        },
        "id": "WLyygWgxpK50",
        "outputId": "53cb5206-7e83-44a1-c3dd-f071d1648c8f"
      },
      "execution_count": 29,
      "outputs": [
        {
          "output_type": "execute_result",
          "data": {
            "text/plain": [
              "[(1, 3), (1, 4), (2, 3), (2, 1), (2, 4), (3, 1), (3, 4)]"
            ]
          },
          "metadata": {},
          "execution_count": 29
        }
      ]
    },
    {
      "cell_type": "code",
      "source": [],
      "metadata": {
        "id": "WPcTnvTwqzjz"
      },
      "execution_count": null,
      "outputs": []
    },
    {
      "cell_type": "code",
      "source": [
        "#dic key와 value뒤집어 저장하기\n",
        "#기존 value중 겹치는 것이 있었으면 앞key가 덮어써진다."
      ],
      "metadata": {
        "id": "4SxgcHqsqHeE"
      },
      "execution_count": null,
      "outputs": []
    },
    {
      "cell_type": "markdown",
      "source": [
        "### comprehensinon내 comprehension\n",
        "dic 내에 list,set, dic이 들어가 있음"
      ],
      "metadata": {
        "id": "I5TA4sh3qfV0"
      }
    },
    {
      "cell_type": "markdown",
      "source": [
        "# Summery\n",
        "\n",
        "## mutable vs. immutable\n",
        "함수 내에서 변경되는 것과 관련이 있음\n",
        "\n",
        "mutble하면 함수 내에서 변경된 것이 밖에서도 연동\n",
        "\n",
        "immutable하면 함수 내에서 변경된 것이 밖에서는 상관없음\n"
      ],
      "metadata": {
        "id": "E3P9N4Ajq1sz"
      }
    },
    {
      "cell_type": "markdown",
      "source": [],
      "metadata": {
        "id": "5ykXDe1Lr_yE"
      }
    }
  ]
}