{
  "nbformat": 4,
  "nbformat_minor": 0,
  "metadata": {
    "colab": {
      "provenance": [],
      "authorship_tag": "ABX9TyOxAsfmfxa03Ml8vHM0UEaz",
      "include_colab_link": true
    },
    "kernelspec": {
      "name": "python3",
      "display_name": "Python 3"
    },
    "language_info": {
      "name": "python"
    }
  },
  "cells": [
    {
      "cell_type": "markdown",
      "metadata": {
        "id": "view-in-github",
        "colab_type": "text"
      },
      "source": [
        "<a href=\"https://colab.research.google.com/github/munmoom/second_semester/blob/main/11_1_tuple_set_dic_%EA%B8%B0%EB%B3%B8%EB%AC%B8%EB%B2%95%EB%81%9D.ipynb\" target=\"_parent\"><img src=\"https://colab.research.google.com/assets/colab-badge.svg\" alt=\"Open In Colab\"/></a>"
      ]
    },
    {
      "cell_type": "markdown",
      "source": [
        "immutable : 수정이 불가하다\n",
        "\n",
        "튜플 tuple\n",
        "immutable한 것과 표현이 다르다는 것 빼고 리스트와 거의 비슷하다.\n",
        "\n",
        "packing은 여러 ele을 하나의 변수명으로 포함하는 것\n",
        "푸는 건 unpacking\n",
        "\n",
        "\n"
      ],
      "metadata": {
        "id": "5AD0j2H_h7q3"
      }
    },
    {
      "cell_type": "code",
      "source": [
        "a = 1,2,3, \"123\"    #괄호 없어도 된다\n",
        "b = (1,2,3)"
      ],
      "metadata": {
        "id": "nICj2UipjGLd"
      },
      "execution_count": 5,
      "outputs": []
    },
    {
      "cell_type": "code",
      "source": [
        "type(a)"
      ],
      "metadata": {
        "colab": {
          "base_uri": "https://localhost:8080/"
        },
        "id": "I019KsFFv7cd",
        "outputId": "742b1d61-6c5a-4185-eec9-1f7096d93c6c"
      },
      "execution_count": 6,
      "outputs": [
        {
          "output_type": "execute_result",
          "data": {
            "text/plain": [
              "tuple"
            ]
          },
          "metadata": {},
          "execution_count": 6
        }
      ]
    },
    {
      "cell_type": "code",
      "source": [
        "q,w,e,r = a"
      ],
      "metadata": {
        "id": "P-W1AjeiwBzl"
      },
      "execution_count": 7,
      "outputs": []
    },
    {
      "cell_type": "code",
      "source": [
        "print(q,w,e,r)"
      ],
      "metadata": {
        "colab": {
          "base_uri": "https://localhost:8080/"
        },
        "id": "vzpQXKuzwEqj",
        "outputId": "80858c1a-72fd-49b6-8fb0-631052171e8e"
      },
      "execution_count": 8,
      "outputs": [
        {
          "output_type": "stream",
          "name": "stdout",
          "text": [
            "1 2 3 123\n"
          ]
        }
      ]
    },
    {
      "cell_type": "code",
      "source": [
        "type(r)"
      ],
      "metadata": {
        "colab": {
          "base_uri": "https://localhost:8080/"
        },
        "id": "0JyW2pNCwI3I",
        "outputId": "3df5432e-67f9-43d1-85ac-82c3ddda1dcb"
      },
      "execution_count": 9,
      "outputs": [
        {
          "output_type": "execute_result",
          "data": {
            "text/plain": [
              "str"
            ]
          },
          "metadata": {},
          "execution_count": 9
        }
      ]
    },
    {
      "cell_type": "code",
      "source": [
        "type(q)"
      ],
      "metadata": {
        "colab": {
          "base_uri": "https://localhost:8080/"
        },
        "id": "hrxg728MwIf4",
        "outputId": "dadfe262-f2a5-46e3-f4eb-736afa6efbb0"
      },
      "execution_count": 10,
      "outputs": [
        {
          "output_type": "execute_result",
          "data": {
            "text/plain": [
              "int"
            ]
          },
          "metadata": {},
          "execution_count": 10
        }
      ]
    },
    {
      "cell_type": "code",
      "execution_count": null,
      "metadata": {
        "colab": {
          "base_uri": "https://localhost:8080/"
        },
        "id": "eQJigLM8hzhF",
        "outputId": "d51833be-bcd5-4786-b862-d1c94cd7e820"
      },
      "outputs": [
        {
          "output_type": "execute_result",
          "data": {
            "text/plain": [
              "int"
            ]
          },
          "metadata": {},
          "execution_count": 1
        }
      ],
      "source": [
        "a= (1)\n",
        "type(a)    #ele이 1개일 때는 int"
      ]
    },
    {
      "cell_type": "code",
      "source": [
        "a = (1,)\n",
        "type(a)   #','찍어주면 tuple"
      ],
      "metadata": {
        "colab": {
          "base_uri": "https://localhost:8080/"
        },
        "id": "6WNsnCs4iwNe",
        "outputId": "7702716e-d7db-48fc-c18c-8d2ba7194b26"
      },
      "execution_count": null,
      "outputs": [
        {
          "output_type": "execute_result",
          "data": {
            "text/plain": [
              "tuple"
            ]
          },
          "metadata": {},
          "execution_count": 2
        }
      ]
    },
    {
      "cell_type": "code",
      "source": [
        "rest = (1,2,2,3)\n",
        "rest[2] = 5    #immutable, error"
      ],
      "metadata": {
        "colab": {
          "base_uri": "https://localhost:8080/",
          "height": 193
        },
        "id": "Z6h59NKVi-q1",
        "outputId": "105b9063-7171-4d11-eb02-5a6e989f62bb"
      },
      "execution_count": null,
      "outputs": [
        {
          "output_type": "error",
          "ename": "TypeError",
          "evalue": "ignored",
          "traceback": [
            "\u001b[0;31m---------------------------------------------------------------------------\u001b[0m",
            "\u001b[0;31mTypeError\u001b[0m                                 Traceback (most recent call last)",
            "\u001b[0;32m<ipython-input-3-516c67b98173>\u001b[0m in \u001b[0;36m<module>\u001b[0;34m\u001b[0m\n\u001b[1;32m      1\u001b[0m \u001b[0mrest\u001b[0m \u001b[0;34m=\u001b[0m \u001b[0;34m(\u001b[0m\u001b[0;36m1\u001b[0m\u001b[0;34m,\u001b[0m\u001b[0;36m2\u001b[0m\u001b[0;34m,\u001b[0m\u001b[0;36m2\u001b[0m\u001b[0;34m,\u001b[0m\u001b[0;36m3\u001b[0m\u001b[0;34m)\u001b[0m\u001b[0;34m\u001b[0m\u001b[0;34m\u001b[0m\u001b[0m\n\u001b[0;32m----> 2\u001b[0;31m \u001b[0mrest\u001b[0m\u001b[0;34m[\u001b[0m\u001b[0;36m2\u001b[0m\u001b[0;34m]\u001b[0m \u001b[0;34m=\u001b[0m \u001b[0;36m5\u001b[0m\u001b[0;34m\u001b[0m\u001b[0;34m\u001b[0m\u001b[0m\n\u001b[0m",
            "\u001b[0;31mTypeError\u001b[0m: 'tuple' object does not support item assignment"
          ]
        }
      ]
    },
    {
      "cell_type": "code",
      "source": [
        "test = (1,2,2,3)\n",
        "print(test[1])"
      ],
      "metadata": {
        "colab": {
          "base_uri": "https://localhost:8080/"
        },
        "id": "luzYPjq2vjpS",
        "outputId": "ad651dbe-ca25-4afd-de33-b90d5ea805fc"
      },
      "execution_count": 1,
      "outputs": [
        {
          "output_type": "stream",
          "name": "stdout",
          "text": [
            "2\n"
          ]
        }
      ]
    },
    {
      "cell_type": "code",
      "source": [
        "test[0:2]"
      ],
      "metadata": {
        "colab": {
          "base_uri": "https://localhost:8080/"
        },
        "id": "CXxzV_-AvqAq",
        "outputId": "7d1eca97-92cf-476b-b2e3-0a10ef558c35"
      },
      "execution_count": 2,
      "outputs": [
        {
          "output_type": "execute_result",
          "data": {
            "text/plain": [
              "(1, 2)"
            ]
          },
          "metadata": {},
          "execution_count": 2
        }
      ]
    },
    {
      "cell_type": "code",
      "source": [
        "test+(5,2)"
      ],
      "metadata": {
        "colab": {
          "base_uri": "https://localhost:8080/"
        },
        "id": "IH7nKtOQvtDe",
        "outputId": "1542bba6-cf21-45e2-c5a2-68e2f528d725"
      },
      "execution_count": 3,
      "outputs": [
        {
          "output_type": "execute_result",
          "data": {
            "text/plain": [
              "(1, 2, 2, 3, 5, 2)"
            ]
          },
          "metadata": {},
          "execution_count": 3
        }
      ]
    },
    {
      "cell_type": "code",
      "source": [
        "for i in test:\n",
        "  print(i)"
      ],
      "metadata": {
        "colab": {
          "base_uri": "https://localhost:8080/"
        },
        "id": "tAj_nI-avvmr",
        "outputId": "fae08761-6175-4345-d355-21e85f871479"
      },
      "execution_count": 4,
      "outputs": [
        {
          "output_type": "stream",
          "name": "stdout",
          "text": [
            "1\n",
            "2\n",
            "2\n",
            "3\n"
          ]
        }
      ]
    },
    {
      "cell_type": "markdown",
      "source": [
        "리스트, 튜플 간의 변환은 list(), tuple()함수를 써서 왔다갔다"
      ],
      "metadata": {
        "id": "uhQh-_7li-e9"
      }
    },
    {
      "cell_type": "markdown",
      "source": [
        "tuple은 immutable하기 때문에 한번 생성 후에 고려할 것이 별로 없다. light하다. 빠르다. 수정할 일이 없으면 tuple을 쓰는 것이 좋다. 수정하면 안 되는 경우 보호해준다. tuple은 딕셔너리의 key로 쓸 수 있다.\n",
        "\n",
        "list는 heavy하다.\n",
        "\n",
        "\n"
      ],
      "metadata": {
        "id": "d2BbeYu9jj9F"
      }
    },
    {
      "cell_type": "markdown",
      "source": [
        "set은 unorderd collection이다. unique하다. 겉 기호는 {}, dictionary와 같지만 key value가 없다."
      ],
      "metadata": {
        "id": "oC0HJJb2kAt9"
      }
    },
    {
      "cell_type": "code",
      "source": [
        "s = set(\"Hello\")\n",
        "print(s)    #unique"
      ],
      "metadata": {
        "colab": {
          "base_uri": "https://localhost:8080/"
        },
        "id": "62SHv1mOjOJM",
        "outputId": "0f4f3da9-1fbc-4985-9441-1419ec333705"
      },
      "execution_count": null,
      "outputs": [
        {
          "output_type": "stream",
          "name": "stdout",
          "text": [
            "{'l', 'o', 'H', 'e'}\n"
          ]
        }
      ]
    },
    {
      "cell_type": "code",
      "source": [
        "s[0]    #순서가 없어서 에러남"
      ],
      "metadata": {
        "colab": {
          "base_uri": "https://localhost:8080/",
          "height": 174
        },
        "id": "_6mOfOMokVp9",
        "outputId": "ffbf2203-0b78-426a-8ade-62bd480c20b2"
      },
      "execution_count": null,
      "outputs": [
        {
          "output_type": "error",
          "ename": "TypeError",
          "evalue": "ignored",
          "traceback": [
            "\u001b[0;31m---------------------------------------------------------------------------\u001b[0m",
            "\u001b[0;31mTypeError\u001b[0m                                 Traceback (most recent call last)",
            "\u001b[0;32m<ipython-input-8-c9c96910e542>\u001b[0m in \u001b[0;36m<module>\u001b[0;34m\u001b[0m\n\u001b[0;32m----> 1\u001b[0;31m \u001b[0ms\u001b[0m\u001b[0;34m[\u001b[0m\u001b[0;36m0\u001b[0m\u001b[0;34m]\u001b[0m\u001b[0;34m\u001b[0m\u001b[0;34m\u001b[0m\u001b[0m\n\u001b[0m",
            "\u001b[0;31mTypeError\u001b[0m: 'set' object is not subscriptable"
          ]
        }
      ]
    },
    {
      "cell_type": "code",
      "source": [
        "s = {1,2,3,4,5,6,777,7,7,7,7,7}\n",
        "s    #unique"
      ],
      "metadata": {
        "colab": {
          "base_uri": "https://localhost:8080/"
        },
        "id": "VU7n35iQkdDF",
        "outputId": "54994646-e347-4da8-f52e-e257a2e9054e"
      },
      "execution_count": null,
      "outputs": [
        {
          "output_type": "execute_result",
          "data": {
            "text/plain": [
              "{1, 2, 3, 4, 5, 6, 7, 777}"
            ]
          },
          "metadata": {},
          "execution_count": 9
        }
      ]
    },
    {
      "cell_type": "markdown",
      "source": [
        "tuple처럼 리스트와 왔다갔다\n",
        "\n",
        "set()\n",
        "\n",
        "list()"
      ],
      "metadata": {
        "id": "VuVd-GBXklHL"
      }
    },
    {
      "cell_type": "markdown",
      "source": [
        "합집합, 교집합, 차집합 가능\n",
        "\n",
        "각각 |, &, - 이용"
      ],
      "metadata": {
        "id": "xR2fIS7gkrps"
      }
    },
    {
      "cell_type": "code",
      "source": [
        "a = {1,2,3,4}\n",
        "b = {3,4,5,6}\n",
        "\n",
        "print(a|b)\n",
        "print(a&b)\n",
        "print(a-b)"
      ],
      "metadata": {
        "colab": {
          "base_uri": "https://localhost:8080/"
        },
        "id": "AIkNdUHzkj9U",
        "outputId": "d06cf906-aef6-422d-ff8c-b8ad6c1e3c84"
      },
      "execution_count": null,
      "outputs": [
        {
          "output_type": "stream",
          "name": "stdout",
          "text": [
            "{1, 2, 3, 4, 5, 6}\n",
            "{3, 4}\n",
            "{1, 2}\n"
          ]
        }
      ]
    },
    {
      "cell_type": "code",
      "source": [
        "a = {1,2,3,4,5}\n",
        "b = {1,2,3}\n",
        "b.issubset(a)"
      ],
      "metadata": {
        "colab": {
          "base_uri": "https://localhost:8080/"
        },
        "id": "sax26YTWxFNa",
        "outputId": "159f4e9c-70bd-44b0-e046-59a8894685d7"
      },
      "execution_count": 12,
      "outputs": [
        {
          "output_type": "execute_result",
          "data": {
            "text/plain": [
              "True"
            ]
          },
          "metadata": {},
          "execution_count": 12
        }
      ]
    },
    {
      "cell_type": "markdown",
      "source": [
        "## Dictionary 아주 유용한 데이터타입\n",
        "key/value pair collection"
      ],
      "metadata": {
        "id": "eMngXf0zk90E"
      }
    },
    {
      "cell_type": "markdown",
      "source": [
        "key는 unique하다. 같으면 뒤에것이 앞에것을 덮어쓴다."
      ],
      "metadata": {
        "id": "ZHFqE8m7lYpt"
      }
    },
    {
      "cell_type": "code",
      "source": [
        "country = {'Korea':'Seoul', 'a':'b', 'c':'d', 'c':'f'}  #c에 해당하는 건 f\n",
        "print(country)"
      ],
      "metadata": {
        "colab": {
          "base_uri": "https://localhost:8080/"
        },
        "id": "PJRu6Rl6k8f1",
        "outputId": "442a0b01-c79f-401d-870f-7d02a89e9891"
      },
      "execution_count": 13,
      "outputs": [
        {
          "output_type": "stream",
          "name": "stdout",
          "text": [
            "{'Korea': 'Seoul', 'a': 'b', 'c': 'f'}\n"
          ]
        }
      ]
    },
    {
      "cell_type": "markdown",
      "source": [
        "key에 접근할 때는 []"
      ],
      "metadata": {
        "id": "loIRlxDvlt8m"
      }
    },
    {
      "cell_type": "code",
      "source": [
        "country['Korea']"
      ],
      "metadata": {
        "colab": {
          "base_uri": "https://localhost:8080/",
          "height": 35
        },
        "id": "vKTkKnOnltnX",
        "outputId": "3a7b245a-cf1f-41dc-c202-4d2c82dc1d5f"
      },
      "execution_count": null,
      "outputs": [
        {
          "output_type": "execute_result",
          "data": {
            "text/plain": [
              "'Seoul'"
            ],
            "application/vnd.google.colaboratory.intrinsic+json": {
              "type": "string"
            }
          },
          "metadata": {},
          "execution_count": 14
        }
      ]
    },
    {
      "cell_type": "code",
      "source": [
        "country.get('Korea')    #get함수"
      ],
      "metadata": {
        "colab": {
          "base_uri": "https://localhost:8080/",
          "height": 35
        },
        "id": "oJFRySuflnac",
        "outputId": "e345ef6d-3f01-4736-bcfa-dc15851e7e61"
      },
      "execution_count": null,
      "outputs": [
        {
          "output_type": "execute_result",
          "data": {
            "text/plain": [
              "'Seoul'"
            ],
            "application/vnd.google.colaboratory.intrinsic+json": {
              "type": "string"
            }
          },
          "metadata": {},
          "execution_count": 15
        }
      ]
    },
    {
      "cell_type": "markdown",
      "source": [
        "### key에 접근할 때 에러 안 나게 하려면 get함수"
      ],
      "metadata": {
        "id": "rL241crqyvq4"
      }
    },
    {
      "cell_type": "markdown",
      "source": [
        "[]써서 없는데 접근하면 keyerror\n",
        "\n",
        "get('e','f')\n",
        "없으면 'f'반환, 즉 default값으로 만들어 줌"
      ],
      "metadata": {
        "id": "ksSseUWMmGf0"
      }
    },
    {
      "cell_type": "code",
      "source": [
        "country['Usa']"
      ],
      "metadata": {
        "colab": {
          "base_uri": "https://localhost:8080/",
          "height": 172
        },
        "id": "55q3AHNNyANr",
        "outputId": "4b74fdd6-a0ef-42ca-e10a-fb9347b3c163"
      },
      "execution_count": 21,
      "outputs": [
        {
          "output_type": "error",
          "ename": "KeyError",
          "evalue": "ignored",
          "traceback": [
            "\u001b[0;31m---------------------------------------------------------------------------\u001b[0m",
            "\u001b[0;31mKeyError\u001b[0m                                  Traceback (most recent call last)",
            "\u001b[0;32m<ipython-input-21-da74c05bfa1f>\u001b[0m in \u001b[0;36m<module>\u001b[0;34m\u001b[0m\n\u001b[0;32m----> 1\u001b[0;31m \u001b[0mcountry\u001b[0m\u001b[0;34m[\u001b[0m\u001b[0;34m'Usa'\u001b[0m\u001b[0;34m]\u001b[0m\u001b[0;34m\u001b[0m\u001b[0;34m\u001b[0m\u001b[0m\n\u001b[0m",
            "\u001b[0;31mKeyError\u001b[0m: 'Usa'"
          ]
        }
      ]
    },
    {
      "cell_type": "code",
      "source": [
        "country.get('Usa', \"Washington\")  #쉼표 뒤 반환, 본 딕셔너리에는 영향 없음"
      ],
      "metadata": {
        "colab": {
          "base_uri": "https://localhost:8080/",
          "height": 35
        },
        "id": "ghEeaFc7xmyK",
        "outputId": "02b0745f-ada2-4bdc-ef0d-8a33d80a0eb4"
      },
      "execution_count": 20,
      "outputs": [
        {
          "output_type": "execute_result",
          "data": {
            "text/plain": [
              "'Washington'"
            ],
            "application/vnd.google.colaboratory.intrinsic+json": {
              "type": "string"
            }
          },
          "metadata": {},
          "execution_count": 20
        }
      ]
    },
    {
      "cell_type": "code",
      "source": [
        "country.get('a', \"Washington\")   #key가 존재하지 않을 때만 뒤에것(default값) 반환"
      ],
      "metadata": {
        "colab": {
          "base_uri": "https://localhost:8080/",
          "height": 35
        },
        "id": "xYbfGhkmx0Eg",
        "outputId": "4a437b24-7664-4f14-b1ae-eaef547defa1"
      },
      "execution_count": 25,
      "outputs": [
        {
          "output_type": "execute_result",
          "data": {
            "text/plain": [
              "'b'"
            ],
            "application/vnd.google.colaboratory.intrinsic+json": {
              "type": "string"
            }
          },
          "metadata": {},
          "execution_count": 25
        }
      ]
    },
    {
      "cell_type": "code",
      "source": [
        "country"
      ],
      "metadata": {
        "colab": {
          "base_uri": "https://localhost:8080/"
        },
        "id": "Ic_0zeS7xw-L",
        "outputId": "ffa22cd1-b039-46c3-b74a-10161660d046"
      },
      "execution_count": 17,
      "outputs": [
        {
          "output_type": "execute_result",
          "data": {
            "text/plain": [
              "{'Korea': 'Seoul', 'a': 'b', 'c': 'f'}"
            ]
          },
          "metadata": {},
          "execution_count": 17
        }
      ]
    },
    {
      "cell_type": "code",
      "source": [
        "ch = {}\n",
        "for i in 'banana':\n",
        "  ch[i] = ch.get(i,0) + 1\n",
        "\n",
        "print(ch)   #글자수세기 가능"
      ],
      "metadata": {
        "colab": {
          "base_uri": "https://localhost:8080/"
        },
        "id": "IGJOKKNomTiN",
        "outputId": "40954137-310d-4954-c183-470be8dcb049"
      },
      "execution_count": null,
      "outputs": [
        {
          "output_type": "stream",
          "name": "stdout",
          "text": [
            "{'b': 1, 'a': 3, 'n': 2}\n"
          ]
        }
      ]
    },
    {
      "cell_type": "code",
      "source": [
        "for i in 'banana':    #dic.get안 쓰고 countng하려고 하면 길어진다\n",
        "  a=b=c=0\n",
        "  if i == 'b':\n",
        "  pass"
      ],
      "metadata": {
        "id": "YBBvpwZEm5zN"
      },
      "execution_count": null,
      "outputs": []
    },
    {
      "cell_type": "markdown",
      "source": [
        "# Nested dictionary\n",
        "value내에 dictionarty가 들어 있는\n",
        "\n",
        "내에 있는 걸 가져오고 싶으면 [겉key][안key]\n",
        "\n",
        "\n",
        "# mutable하다\n",
        "change/add/remove모두 가능\n",
        "\n",
        "리스트에서 key가 인덱스처럼, pop()함수에서 내에 인덱스 넣는것처럼 key를 넣음"
      ],
      "metadata": {
        "id": "7vFfs8KenSKs"
      }
    },
    {
      "cell_type": "code",
      "source": [
        "a = {1: {1:2,2:3}, 2:{4:5,6:7}}\n",
        "print(a[1][1])\n",
        "print(a[2][6])"
      ],
      "metadata": {
        "colab": {
          "base_uri": "https://localhost:8080/"
        },
        "id": "y73_nRwryXdE",
        "outputId": "81e2b1b8-0706-4c2b-b5cb-2362e17f45eb"
      },
      "execution_count": 2,
      "outputs": [
        {
          "output_type": "stream",
          "name": "stdout",
          "text": [
            "2\n",
            "7\n"
          ]
        }
      ]
    },
    {
      "cell_type": "code",
      "source": [
        "a.values()"
      ],
      "metadata": {
        "colab": {
          "base_uri": "https://localhost:8080/"
        },
        "id": "6YA8-6xY03_-",
        "outputId": "be4adc95-7955-451a-ce00-91677a363347"
      },
      "execution_count": 3,
      "outputs": [
        {
          "output_type": "execute_result",
          "data": {
            "text/plain": [
              "dict_values([{1: 2, 2: 3}, {4: 5, 6: 7}])"
            ]
          },
          "metadata": {},
          "execution_count": 3
        }
      ]
    },
    {
      "cell_type": "code",
      "source": [
        "a.keys()"
      ],
      "metadata": {
        "colab": {
          "base_uri": "https://localhost:8080/"
        },
        "id": "wlfFaCbo06XV",
        "outputId": "b919e8bf-7925-49e7-859d-e4e49d11f0b8"
      },
      "execution_count": 4,
      "outputs": [
        {
          "output_type": "execute_result",
          "data": {
            "text/plain": [
              "dict_keys([1, 2])"
            ]
          },
          "metadata": {},
          "execution_count": 4
        }
      ]
    },
    {
      "cell_type": "code",
      "source": [
        "a.items()"
      ],
      "metadata": {
        "colab": {
          "base_uri": "https://localhost:8080/"
        },
        "id": "Qh9xn15O09Lm",
        "outputId": "a1dd497c-efcd-4a4e-f4fe-fc65c195b388"
      },
      "execution_count": 5,
      "outputs": [
        {
          "output_type": "execute_result",
          "data": {
            "text/plain": [
              "dict_items([(1, {1: 2, 2: 3}), (2, {4: 5, 6: 7})])"
            ]
          },
          "metadata": {},
          "execution_count": 5
        }
      ]
    },
    {
      "cell_type": "code",
      "source": [
        "sh['a']='d'\n",
        "print(sh)"
      ],
      "metadata": {
        "colab": {
          "base_uri": "https://localhost:8080/",
          "height": 190
        },
        "id": "cr3kLmas0bB-",
        "outputId": "90d873bb-ab02-49f4-c4dc-1458e020d52a"
      },
      "execution_count": 1,
      "outputs": [
        {
          "output_type": "error",
          "ename": "NameError",
          "evalue": "ignored",
          "traceback": [
            "\u001b[0;31m---------------------------------------------------------------------------\u001b[0m",
            "\u001b[0;31mNameError\u001b[0m                                 Traceback (most recent call last)",
            "\u001b[0;32m<ipython-input-1-955a0e5fde2c>\u001b[0m in \u001b[0;36m<module>\u001b[0;34m\u001b[0m\n\u001b[0;32m----> 1\u001b[0;31m \u001b[0msh\u001b[0m\u001b[0;34m[\u001b[0m\u001b[0;34m'a'\u001b[0m\u001b[0;34m]\u001b[0m\u001b[0;34m=\u001b[0m\u001b[0;34m'd'\u001b[0m\u001b[0;34m\u001b[0m\u001b[0;34m\u001b[0m\u001b[0m\n\u001b[0m\u001b[1;32m      2\u001b[0m \u001b[0mprint\u001b[0m\u001b[0;34m(\u001b[0m\u001b[0msh\u001b[0m\u001b[0;34m)\u001b[0m\u001b[0;34m\u001b[0m\u001b[0;34m\u001b[0m\u001b[0m\n",
            "\u001b[0;31mNameError\u001b[0m: name 'sh' is not defined"
          ]
        }
      ]
    },
    {
      "cell_type": "markdown",
      "source": [
        "# comprehension"
      ],
      "metadata": {
        "id": "OJj6DJJOoQwU"
      }
    },
    {
      "cell_type": "code",
      "source": [
        "squres = [x**2 for x in range(10)]\n",
        "print(squres)"
      ],
      "metadata": {
        "colab": {
          "base_uri": "https://localhost:8080/"
        },
        "id": "4hrPHDzlm6el",
        "outputId": "a507cca5-02ad-4efa-9b26-5d6f9ad49603"
      },
      "execution_count": null,
      "outputs": [
        {
          "output_type": "stream",
          "name": "stdout",
          "text": [
            "[0, 1, 4, 9, 16, 25, 36, 49, 64, 81]\n"
          ]
        }
      ]
    },
    {
      "cell_type": "code",
      "source": [
        "squares = [x**2 for x in range(10)]\n",
        "print(squares)"
      ],
      "metadata": {
        "id": "VCx_MFD65fsR",
        "outputId": "545fe5ec-3ea3-48fd-e913-b05f03beeb6b",
        "colab": {
          "base_uri": "https://localhost:8080/"
        }
      },
      "execution_count": 6,
      "outputs": [
        {
          "output_type": "stream",
          "name": "stdout",
          "text": [
            "[0, 1, 4, 9, 16, 25, 36, 49, 64, 81]\n"
          ]
        }
      ]
    },
    {
      "cell_type": "code",
      "source": [
        "matrix = [[i for i in range(5)] for _ in range(6)]\n",
        "matrix"
      ],
      "metadata": {
        "colab": {
          "base_uri": "https://localhost:8080/"
        },
        "id": "Eax5VKWEoiPU",
        "outputId": "c5ca9dd1-37fb-4c8f-b3ae-433200cb442c"
      },
      "execution_count": 8,
      "outputs": [
        {
          "output_type": "execute_result",
          "data": {
            "text/plain": [
              "[[0, 1, 2, 3, 4],\n",
              " [0, 1, 2, 3, 4],\n",
              " [0, 1, 2, 3, 4],\n",
              " [0, 1, 2, 3, 4],\n",
              " [0, 1, 2, 3, 4],\n",
              " [0, 1, 2, 3, 4]]"
            ]
          },
          "metadata": {},
          "execution_count": 8
        }
      ]
    },
    {
      "cell_type": "code",
      "source": [
        "mat = [[i+1 for i in range(6)] for _ in range(6)]\n",
        "mat"
      ],
      "metadata": {
        "id": "Yz5zepXH5tNb",
        "outputId": "6f26dc5d-5df7-4890-8af2-6b55523cface",
        "colab": {
          "base_uri": "https://localhost:8080/"
        }
      },
      "execution_count": 10,
      "outputs": [
        {
          "output_type": "execute_result",
          "data": {
            "text/plain": [
              "[[1, 2, 3, 4, 5, 6],\n",
              " [1, 2, 3, 4, 5, 6],\n",
              " [1, 2, 3, 4, 5, 6],\n",
              " [1, 2, 3, 4, 5, 6],\n",
              " [1, 2, 3, 4, 5, 6],\n",
              " [1, 2, 3, 4, 5, 6]]"
            ]
          },
          "metadata": {},
          "execution_count": 10
        }
      ]
    },
    {
      "cell_type": "markdown",
      "source": [
        "list = [expression for member in literable if condition]\n",
        "\n",
        "set = {expression for member in literable if condition}\n",
        "\n",
        "dic = {key:value for member in literable if condition}"
      ],
      "metadata": {
        "id": "n2FXvMNepgyE"
      }
    },
    {
      "cell_type": "code",
      "source": [
        "com = [(x,y) for x in [1,2,3] for y in [3,1,4] if x != y]\n",
        "com"
      ],
      "metadata": {
        "colab": {
          "base_uri": "https://localhost:8080/"
        },
        "id": "QRE3QJI7o_vP",
        "outputId": "7304059d-f8a8-4394-bfdf-28d9f168bfb6"
      },
      "execution_count": null,
      "outputs": [
        {
          "output_type": "execute_result",
          "data": {
            "text/plain": [
              "[(1, 3), (1, 4), (2, 3), (2, 1), (2, 4), (3, 1), (3, 4)]"
            ]
          },
          "metadata": {},
          "execution_count": 27
        }
      ]
    },
    {
      "cell_type": "code",
      "source": [
        "co = [(a,b) for a in [1,2,3] for b in [2,3,4] if a != b]\n",
        "co"
      ],
      "metadata": {
        "id": "TfDWL4Cx6Jsk",
        "outputId": "dcc05071-d92f-45d0-b3b4-2a500470abd6",
        "colab": {
          "base_uri": "https://localhost:8080/"
        }
      },
      "execution_count": 12,
      "outputs": [
        {
          "output_type": "execute_result",
          "data": {
            "text/plain": [
              "[(1, 2), (1, 3), (1, 4), (2, 3), (2, 4), (3, 2), (3, 4)]"
            ]
          },
          "metadata": {},
          "execution_count": 12
        }
      ]
    },
    {
      "cell_type": "code",
      "source": [
        "combs = []\n",
        "for x in [1,2,3]:\n",
        "  for y in [3,1,4]:\n",
        "    if x != y:\n",
        "      combs.append((x,y))\n",
        "\n",
        "combs"
      ],
      "metadata": {
        "colab": {
          "base_uri": "https://localhost:8080/"
        },
        "id": "WLyygWgxpK50",
        "outputId": "53cb5206-7e83-44a1-c3dd-f071d1648c8f"
      },
      "execution_count": null,
      "outputs": [
        {
          "output_type": "execute_result",
          "data": {
            "text/plain": [
              "[(1, 3), (1, 4), (2, 3), (2, 1), (2, 4), (3, 1), (3, 4)]"
            ]
          },
          "metadata": {},
          "execution_count": 29
        }
      ]
    },
    {
      "cell_type": "code",
      "source": [
        "old = [1,1,2,3,4]\n",
        "mew = {x**2 for x in old }\n",
        "mew"
      ],
      "metadata": {
        "id": "WPcTnvTwqzjz",
        "colab": {
          "base_uri": "https://localhost:8080/"
        },
        "outputId": "bb3b3c37-f695-495c-e628-a8fb3a1e2014"
      },
      "execution_count": 13,
      "outputs": [
        {
          "output_type": "execute_result",
          "data": {
            "text/plain": [
              "{1, 4, 9, 16}"
            ]
          },
          "metadata": {},
          "execution_count": 13
        }
      ]
    },
    {
      "cell_type": "code",
      "source": [
        "def odd(val):\n",
        "  return val % 2 == 1\n",
        "\n",
        "dd = {i:i**2 for i in range(10) if odd(i)}\n",
        "dd"
      ],
      "metadata": {
        "id": "59H65qXL7LYO",
        "outputId": "7657ffbc-00b5-49bf-a93d-652938126e89",
        "colab": {
          "base_uri": "https://localhost:8080/"
        }
      },
      "execution_count": 17,
      "outputs": [
        {
          "output_type": "execute_result",
          "data": {
            "text/plain": [
              "{1: 1, 3: 9, 5: 25, 7: 49, 9: 81}"
            ]
          },
          "metadata": {},
          "execution_count": 17
        }
      ]
    },
    {
      "cell_type": "code",
      "source": [
        "id_name = {1:'a', 2:'b', 3:'c', 'c':'c'}  #key와 value 뒤집기\n",
        "name_id = {val:key for key,val in id_name.items()}\n",
        "name_id"
      ],
      "metadata": {
        "id": "h8aEtl1H7scX",
        "outputId": "209d74cc-0ea7-4ce7-a0a8-01fbfb31d191",
        "colab": {
          "base_uri": "https://localhost:8080/"
        }
      },
      "execution_count": 19,
      "outputs": [
        {
          "output_type": "execute_result",
          "data": {
            "text/plain": [
              "{'a': 1, 'b': 2, 'c': 'c'}"
            ]
          },
          "metadata": {},
          "execution_count": 19
        }
      ]
    },
    {
      "cell_type": "code",
      "source": [
        "#dic key와 value뒤집어 저장하기\n",
        "#기존 value중 겹치는 것이 있었으면 앞key가 덮어써진다."
      ],
      "metadata": {
        "id": "4SxgcHqsqHeE"
      },
      "execution_count": null,
      "outputs": []
    },
    {
      "cell_type": "markdown",
      "source": [
        "### comprehensinon내 comprehension\n",
        "dic 내에 list,set, dic이 들어가 있음"
      ],
      "metadata": {
        "id": "I5TA4sh3qfV0"
      }
    },
    {
      "cell_type": "markdown",
      "source": [
        "# Summery\n",
        "\n",
        "## mutable vs. immutable\n",
        "함수 내에서 변경되는 것과 관련이 있음\n",
        "\n",
        "mutble하면 함수 내에서 변경된 것이 밖에서도 연동\n",
        "\n",
        "immutable하면 함수 내에서 변경된 것이 밖에서는 상관없음\n"
      ],
      "metadata": {
        "id": "E3P9N4Ajq1sz"
      }
    },
    {
      "cell_type": "markdown",
      "source": [],
      "metadata": {
        "id": "5ykXDe1Lr_yE"
      }
    }
  ]
}