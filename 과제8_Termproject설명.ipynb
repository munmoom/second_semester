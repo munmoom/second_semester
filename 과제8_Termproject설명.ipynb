{
  "nbformat": 4,
  "nbformat_minor": 0,
  "metadata": {
    "colab": {
      "provenance": [],
      "authorship_tag": "ABX9TyMKuCQXCXyXEusoxw4cNCnH",
      "include_colab_link": true
    },
    "kernelspec": {
      "name": "python3",
      "display_name": "Python 3"
    },
    "language_info": {
      "name": "python"
    }
  },
  "cells": [
    {
      "cell_type": "markdown",
      "metadata": {
        "id": "view-in-github",
        "colab_type": "text"
      },
      "source": [
        "<a href=\"https://colab.research.google.com/github/munmoom/second_semester/blob/main/%EA%B3%BC%EC%A0%9C8_Termproject%EC%84%A4%EB%AA%85.ipynb\" target=\"_parent\"><img src=\"https://colab.research.google.com/assets/colab-badge.svg\" alt=\"Open In Colab\"/></a>"
      ]
    },
    {
      "cell_type": "markdown",
      "source": [
        "Term Project\n",
        "\n",
        "인원은 랜덤으로 다섯 정도\n",
        "\n",
        "1. 창작이미지 만들기, 주제는 프로그래밍과 관련이 있는 것, 창작 툴은 자유롭게, 제한은 딱히 없지만 예시는 DALL E, Deep Dream Generator\n",
        "\n",
        "2. 과제 만들어보기, 얼마나 재밌고 신선한지, 논리적으로 말이 되고 테스트 케이스는 상중하로 나뉘어야, 발표가 어떤지, 팀원이 모두 잘 기여했는지, 발표분량은 10분 이내로, 넘기지 말고, 내용은 과제설명, 입출력, 테스트케이스, 과제 출처가 있다면 출처 명시 필요, 이를테면 설명문을 바꾼다거나, 구현 코드, 문제 난이도, 멤버역할, +구현 코드(.ipynb주피터노트북파일),테스트케이스(예시_1.in,1.out)\n",
        "\n",
        "3. 퀴즈 출제하기, 10주차 주제 중 하나에서 3문제, 유형, 문제, 정답 3가지 발표\n",
        "\n",
        "4. 프원실 교과목 피드백, 좋은점과 개선점, 수업방법제안, 발표자표는 1페이지로\n",
        "\n",
        "12.5 자정까지 모든 발표자료 제출, 12.6발표\n",
        "각각 3, 10,5,2점, 1,2만 발표하고 교수님+학생 참여 평가, 나머지는 교수님이 보고 평가\n",
        "\n",
        "제출방법은 추후 공지\n",
        "\n",
        "제출파일은 압축파일로(몇조_이름_이름_이름_이름.zip), 안에 발표자료 4개, 구현코드 이름은 code.ipynb, testcase폴더 안에 20개 파일(in, out 10개씩)"
      ],
      "metadata": {
        "id": "-odNaVWaAxDr"
      }
    },
    {
      "cell_type": "markdown",
      "source": [
        "## 과제7\n",
        "find와 index함수에서 \n",
        "('b', 2)라고 하면 인덱스 2부터 찾으라는 말\n",
        "없으면 각각 -1반환 error\n",
        "\n",
        "in, not in \n",
        "\n",
        "\n",
        "\n",
        "```\n",
        "# if set(S)-set(T):\n",
        "  return -1\n",
        "\n",
        "# if set(S) | set(T)\n",
        "```\n",
        "\n",
        "\n"
      ],
      "metadata": {
        "id": "nefPmt53JuO2"
      }
    },
    {
      "cell_type": "code",
      "execution_count": null,
      "metadata": {
        "id": "kFfCcTK5vuWG"
      },
      "outputs": [],
      "source": [
        "T = [(3, 7), (15, 7), (5, 2)]"
      ]
    },
    {
      "cell_type": "code",
      "source": [
        "t1 = T[0][0]\n",
        "print(t1)"
      ],
      "metadata": {
        "colab": {
          "base_uri": "https://localhost:8080/"
        },
        "id": "SwfMHMRFvyAE",
        "outputId": "7aaa963e-5c9d-4394-88e9-acb1fa86da82"
      },
      "execution_count": null,
      "outputs": [
        {
          "output_type": "stream",
          "name": "stdout",
          "text": [
            "3\n"
          ]
        }
      ]
    },
    {
      "cell_type": "code",
      "source": [
        "T[0]"
      ],
      "metadata": {
        "colab": {
          "base_uri": "https://localhost:8080/"
        },
        "id": "KlZN7iNiv8dr",
        "outputId": "d33bc6fd-ecc9-4d69-eb28-c4faf2fe9c1f"
      },
      "execution_count": null,
      "outputs": [
        {
          "output_type": "execute_result",
          "data": {
            "text/plain": [
              "(3, 7)"
            ]
          },
          "metadata": {},
          "execution_count": 8
        }
      ]
    },
    {
      "cell_type": "code",
      "source": [
        "(a, b) = T[0]\n",
        "print(a)\n",
        "print(b)"
      ],
      "metadata": {
        "colab": {
          "base_uri": "https://localhost:8080/"
        },
        "id": "mwLdzdJcwFZq",
        "outputId": "759ebbd2-25c8-4ee6-881d-07e9aa4a6956"
      },
      "execution_count": null,
      "outputs": [
        {
          "output_type": "stream",
          "name": "stdout",
          "text": [
            "3\n",
            "7\n"
          ]
        }
      ]
    },
    {
      "cell_type": "markdown",
      "source": [
        "# 과제8, Accepted\n",
        "\n",
        "문제 똑바로 읽을 것, 좌표 다룰 때 주의, #x+i와 y+i사이의 가능한 조합은 전부"
      ],
      "metadata": {
        "id": "SIPif2D9OrLj"
      }
    },
    {
      "cell_type": "code",
      "source": [
        "def solution(coordinate):\n",
        "  T = []\n",
        "  def color(x,y):            #색종이가 있는 좌표에 색칠\n",
        "    A = []\n",
        "    for i in range(10):\n",
        "      for j in range(10):\n",
        "        A.append((x+i, y+j))      #x+i와 y+i사이의 가능한 조합은 전부\n",
        "    return A\n",
        "\n",
        "  for t in [(3, 7), (15, 7), (5, 2)]:\n",
        "    (x,y) = t\n",
        "    A = color(x,y)\n",
        "    T.append(A)\n",
        "\n",
        "  A1, A2, A3 = set(T[0]), set(T[1]), set(T[2])\n",
        "  a1 = A1&A2                 #2번 이상 색칠된 부분을 찾음\n",
        "  a2 = A2&A3\n",
        "  a3 = A1&A3\n",
        "  a4 = A1&A2&A3\n",
        "\n",
        "  return 300 - len(a1|a2|a3) -len(a4)"
      ],
      "metadata": {
        "id": "t11Hy5f3_VOD"
      },
      "execution_count": 69,
      "outputs": []
    },
    {
      "cell_type": "code",
      "source": [
        "A = []\n",
        "for i in range(100):\n",
        "  for j in range(100):\n",
        "    A.append((x+i, y+j)) \n",
        "\n",
        "len(A)"
      ],
      "metadata": {
        "id": "i-ZulVQUbTKN",
        "outputId": "9f1c6f50-9733-4152-dcaa-26d20786286a",
        "colab": {
          "base_uri": "https://localhost:8080/"
        }
      },
      "execution_count": 63,
      "outputs": [
        {
          "output_type": "execute_result",
          "data": {
            "text/plain": [
              "10000"
            ]
          },
          "metadata": {},
          "execution_count": 63
        }
      ]
    },
    {
      "cell_type": "code",
      "source": [
        "\n",
        "T = []\n",
        "def color(x,y):            #색종이가 있는 좌표에 색칠\n",
        "  A = []\n",
        "  for i in range(10):\n",
        "    for j in range(10):\n",
        "      A.append((x+i, y+j))      #여기가 문제, 좌표는 모두 10000개여야 한다, 100*100이므로.즉 x+i와 y+i사이의 가능한 조합은 전부 이루어져야 한다.\n",
        "  return A\n",
        "\n",
        "for t in [(3, 7), (15, 7), (5, 2)]:\n",
        "  (x,y) = t\n",
        "  A = color(x,y)\n",
        "  T.append(A)\n",
        "\n",
        "A1, A2, A3 = set(T[0]), set(T[1]), set(T[2])\n",
        "\n",
        "a1 = A1&A2                 #2번 이상 색칠된 부분을 찾음\n",
        "a2 = A2&A3\n",
        "a3 = A1&A3\n",
        "a4 = A1&A2&A3\n",
        "\n",
        "print(300 - len(a1|a2|a3) -len(a4))\n",
        "\n",
        "\n",
        "\n",
        "'''print(f'a1: {A1&A2}')\n",
        "print(f'a2: {A3&A2}')\n",
        "print(f'a3: {A3&A1}')\n",
        "print(f'a4: {A1&A2&A3}')'''"
      ],
      "metadata": {
        "id": "eWhP1oxSXyx_",
        "outputId": "80c93c62-2762-4d17-fa95-9ba9524bef38",
        "colab": {
          "base_uri": "https://localhost:8080/",
          "height": 54
        }
      },
      "execution_count": 68,
      "outputs": [
        {
          "output_type": "stream",
          "name": "stdout",
          "text": [
            "260\n"
          ]
        },
        {
          "output_type": "execute_result",
          "data": {
            "text/plain": [
              "\"print(f'a1: {A1&A2}')\\nprint(f'a2: {A3&A2}')\\nprint(f'a3: {A3&A1}')\\nprint(f'a4: {A1&A2&A3}')\""
            ],
            "application/vnd.google.colaboratory.intrinsic+json": {
              "type": "string"
            }
          },
          "metadata": {},
          "execution_count": 68
        }
      ]
    },
    {
      "cell_type": "code",
      "source": [
        "len(A1&A2)  #합집합은 200, 교집합은 0, 차집합은 100, 겹치는 것이 하나도 없다\n"
      ],
      "metadata": {
        "id": "IFzOopd0YQRm",
        "outputId": "3a33799d-b310-44e3-bb2e-752aa4f9680e",
        "colab": {
          "base_uri": "https://localhost:8080/"
        }
      },
      "execution_count": 67,
      "outputs": [
        {
          "output_type": "execute_result",
          "data": {
            "text/plain": [
              "8800"
            ]
          },
          "metadata": {},
          "execution_count": 67
        }
      ]
    },
    {
      "cell_type": "code",
      "source": [
        "#A1 #집합 내 튜플\n",
        "len(A1 - {(3,7)})"
      ],
      "metadata": {
        "id": "Uj0zs9HMZqGg",
        "outputId": "1a2f2aa9-a627-4a40-c3b2-5fcc21d79b0d",
        "colab": {
          "base_uri": "https://localhost:8080/"
        }
      },
      "execution_count": 60,
      "outputs": [
        {
          "output_type": "execute_result",
          "data": {
            "text/plain": [
              "99"
            ]
          },
          "metadata": {},
          "execution_count": 60
        }
      ]
    },
    {
      "cell_type": "code",
      "source": [
        "A2"
      ],
      "metadata": {
        "id": "YVqFIhS8aKMg"
      },
      "execution_count": null,
      "outputs": []
    },
    {
      "cell_type": "code",
      "source": [
        "coordinate = [(3, 7), (15, 7), (5, 2)]\n",
        "solution(coordinate)"
      ],
      "metadata": {
        "id": "CL7VivsNT6xs",
        "outputId": "782b7cc7-354c-4945-e676-53aee76e1181",
        "colab": {
          "base_uri": "https://localhost:8080/"
        }
      },
      "execution_count": 45,
      "outputs": [
        {
          "output_type": "stream",
          "name": "stdout",
          "text": [
            "100\n",
            "a1: set()\n"
          ]
        },
        {
          "output_type": "execute_result",
          "data": {
            "text/plain": [
              "300"
            ]
          },
          "metadata": {},
          "execution_count": 45
        }
      ]
    },
    {
      "cell_type": "code",
      "source": [
        "coordinate = [(3, 7), (3, 7), (3, 7)]\n",
        "solution(coordinate)"
      ],
      "metadata": {
        "id": "r_hmQj1rXSVi",
        "outputId": "4a61601b-6f95-43a5-b55f-208956a3bcfb",
        "colab": {
          "base_uri": "https://localhost:8080/"
        }
      },
      "execution_count": 46,
      "outputs": [
        {
          "output_type": "stream",
          "name": "stdout",
          "text": [
            "100\n",
            "a1: {(57, 61), (98, 102), (82, 86), (86, 90), (54, 58), (13, 17), (71, 75), (3, 7), (79, 83), (6, 10), (14, 18), (49, 53), (31, 35), (63, 67), (37, 41), (94, 98), (93, 97), (28, 32), (91, 95), (99, 103), (41, 45), (8, 12), (10, 14), (19, 23), (87, 91), (11, 15), (69, 73), (68, 72), (22, 26), (43, 47), (89, 93), (24, 28), (100, 104), (62, 66), (29, 33), (61, 65), (26, 30), (27, 31), (35, 39), (9, 13), (85, 89), (52, 56), (84, 88), (38, 42), (46, 50), (81, 85), (97, 101), (32, 36), (16, 20), (55, 59), (18, 22), (34, 38), (4, 8), (77, 81), (44, 48), (76, 80), (15, 19), (7, 11), (67, 71), (25, 29), (30, 34), (92, 96), (53, 57), (20, 24), (17, 21), (33, 37), (80, 84), (83, 87), (23, 27), (75, 79), (5, 9), (56, 60), (45, 49), (58, 62), (12, 16), (59, 63), (70, 74), (78, 82), (65, 69), (48, 52), (64, 68), (95, 99), (101, 105), (50, 54), (66, 70), (36, 40), (88, 92), (90, 94), (60, 64), (39, 43), (47, 51), (21, 25), (73, 77), (40, 44), (72, 76), (102, 106), (42, 46), (74, 78), (96, 100), (51, 55)}\n"
          ]
        },
        {
          "output_type": "execute_result",
          "data": {
            "text/plain": [
              "100"
            ]
          },
          "metadata": {},
          "execution_count": 46
        }
      ]
    },
    {
      "cell_type": "code",
      "source": [
        "len({(1,2),(3,4)})\n",
        "A = {(1,2),(3,4)}\n",
        "B = {(1,2),(4,4)}\n",
        "C = {(3,4),(6,7)}\n",
        "print(A|B|C)"
      ],
      "metadata": {
        "colab": {
          "base_uri": "https://localhost:8080/"
        },
        "id": "7c3hCR35_PLU",
        "outputId": "39a62acd-205e-43f1-860c-a7dbb498f1be"
      },
      "execution_count": 47,
      "outputs": [
        {
          "output_type": "stream",
          "name": "stdout",
          "text": [
            "{(1, 2), (6, 7), (4, 4), (3, 4)}\n"
          ]
        }
      ]
    },
    {
      "cell_type": "code",
      "source": [],
      "metadata": {
        "id": "6NIv8mfXWTLb"
      },
      "execution_count": 47,
      "outputs": []
    }
  ]
}