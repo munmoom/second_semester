{
  "nbformat": 4,
  "nbformat_minor": 0,
  "metadata": {
    "colab": {
      "provenance": [],
      "authorship_tag": "ABX9TyPty5+Dx237MNp+edtgr7GI",
      "include_colab_link": true
    },
    "kernelspec": {
      "name": "python3",
      "display_name": "Python 3"
    },
    "language_info": {
      "name": "python"
    }
  },
  "cells": [
    {
      "cell_type": "markdown",
      "metadata": {
        "id": "view-in-github",
        "colab_type": "text"
      },
      "source": [
        "<a href=\"https://colab.research.google.com/github/munmoom/second_semester/blob/main/%ED%8C%8011_1.ipynb\" target=\"_parent\"><img src=\"https://colab.research.google.com/assets/colab-badge.svg\" alt=\"Open In Colab\"/></a>"
      ]
    },
    {
      "cell_type": "code",
      "execution_count": 51,
      "metadata": {
        "id": "dYNRgMuX_u4G"
      },
      "outputs": [],
      "source": [
        "def solution(D,M):\n",
        "    a=1\n",
        "    b=1\n",
        "    for i in range(1,D-2):\n",
        "      a,b = b,a+b\n",
        "    for x in range(M):\n",
        "      for y in range(x,M):\n",
        "        if a*x+b*y == M:   #액수가 규칙1 곱하기 미지수, 규칙2 곱하기 미지수, 이 미지수들이 첫번째수와 두번째수\n",
        "            return x,y"
      ]
    },
    {
      "cell_type": "code",
      "source": [
        "import time\n",
        "\n",
        "start_time = time.time()\n",
        "\n",
        "solution(15, 8650)\n",
        "\n",
        "end_time = time.time()\n",
        "print(end_time - start_time)"
      ],
      "metadata": {
        "colab": {
          "base_uri": "https://localhost:8080/"
        },
        "id": "jYTl0lLxAtfF",
        "outputId": "b3c36414-dce4-4b0d-d38b-a38557d1490d"
      },
      "execution_count": 53,
      "outputs": [
        {
          "output_type": "stream",
          "name": "stdout",
          "text": [
            "0.01694655418395996\n"
          ]
        }
      ]
    },
    {
      "cell_type": "code",
      "source": [
        "solution(15, 6477)"
      ],
      "metadata": {
        "colab": {
          "base_uri": "https://localhost:8080/"
        },
        "id": "4hfeNi0sIpfu",
        "outputId": "3bee6685-6b4e-478f-eb1c-87a9fadb31cf"
      },
      "execution_count": 80,
      "outputs": [
        {
          "output_type": "execute_result",
          "data": {
            "text/plain": [
              "(10, 11)"
            ]
          },
          "metadata": {},
          "execution_count": 80
        }
      ]
    },
    {
      "cell_type": "code",
      "source": [
        "cal=[]\n",
        "a=10\n",
        "b=11\n",
        "p=a\n",
        "q=b\n",
        "k = 3\n",
        "for i in range(1,18):\n",
        "  a,b = b,a+b\n",
        "  cal.append({(p,q):(k,b)})\n",
        "  k += 1\n",
        "\n",
        "print(cal)"
      ],
      "metadata": {
        "colab": {
          "base_uri": "https://localhost:8080/"
        },
        "id": "o30Qm8RtCvI-",
        "outputId": "d70ded01-2b91-44e6-b366-e6fefafd294c"
      },
      "execution_count": 79,
      "outputs": [
        {
          "output_type": "stream",
          "name": "stdout",
          "text": [
            "[{(10, 11): (3, 21)}, {(10, 11): (4, 32)}, {(10, 11): (5, 53)}, {(10, 11): (6, 85)}, {(10, 11): (7, 138)}, {(10, 11): (8, 223)}, {(10, 11): (9, 361)}, {(10, 11): (10, 584)}, {(10, 11): (11, 945)}, {(10, 11): (12, 1529)}, {(10, 11): (13, 2474)}, {(10, 11): (14, 4003)}, {(10, 11): (15, 6477)}, {(10, 11): (16, 10480)}, {(10, 11): (17, 16957)}, {(10, 11): (18, 27437)}, {(10, 11): (19, 44394)}]\n"
          ]
        }
      ]
    },
    {
      "cell_type": "code",
      "source": [
        "print(cal[4])\n",
        "print(cals[4])"
      ],
      "metadata": {
        "colab": {
          "base_uri": "https://localhost:8080/"
        },
        "id": "VAf2qydIDIz2",
        "outputId": "b8e6d8d2-e025-4bba-e433-382cae4d0ce2"
      },
      "execution_count": null,
      "outputs": [
        {
          "output_type": "stream",
          "name": "stdout",
          "text": [
            "(8, 13)\n",
            "(13, 21)\n"
          ]
        }
      ]
    }
  ]
}