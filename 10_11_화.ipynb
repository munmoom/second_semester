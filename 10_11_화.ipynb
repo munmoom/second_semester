{
  "nbformat": 4,
  "nbformat_minor": 0,
  "metadata": {
    "colab": {
      "provenance": [],
      "authorship_tag": "ABX9TyNBFsCJ79oyGgqUzJ+T4zFH",
      "include_colab_link": true
    },
    "kernelspec": {
      "name": "python3",
      "display_name": "Python 3"
    },
    "language_info": {
      "name": "python"
    }
  },
  "cells": [
    {
      "cell_type": "markdown",
      "metadata": {
        "id": "view-in-github",
        "colab_type": "text"
      },
      "source": [
        "<a href=\"https://colab.research.google.com/github/munmoom/second_semester/blob/main/10_11_%ED%99%94.ipynb\" target=\"_parent\"><img src=\"https://colab.research.google.com/assets/colab-badge.svg\" alt=\"Open In Colab\"/></a>"
      ]
    },
    {
      "cell_type": "markdown",
      "source": [
        "Coalitions based on daily intimate contact\n",
        "\n",
        "Limits to the size of coalitions formed in such a way\n",
        "\n",
        "Homo sapiens' ability to found and maintain large coalitions: the appearance of fiction\n",
        "\n",
        "Common stories, religion, legal system, nation, etc.\n",
        "\n",
        "The case of Peugeot: a 'legal fiction'\n",
        "\n",
        "Stories that empower Homo sapiens by allowing strangers to cooperate\n",
        "\n",
        "###Changing the stories in accordance with changing needs: cultural revolution to bypass genetic evolution\n",
        "\n",
        "The ability to compose fiction: effective cooperation in large numbers"
      ],
      "metadata": {
        "id": "e7OfWQcXXORP"
      }
    },
    {
      "cell_type": "markdown",
      "source": [
        "A graet awakening in Ioina 2,500 years ago: the universe is knowable with an internal order\n",
        "\n",
        "Ionia's advantage as the crossroads of civilizations\n",
        "\n",
        "Thales, Democritus, and many other Ionians: the intellectual effort to understand the universe\n",
        "\n",
        "Pythagoras's orthodox world view as opposed to experimentation and open inquiry\n",
        "\n",
        "The irony of the mercantile tradition: the cause of the Ionian awakening around 600 B.C. and of its decline some two centuries later\n",
        "\n",
        "The Renaissance: the reawakening of the Ionian tradition\n",
        "\n"
      ],
      "metadata": {
        "id": "qg1bIFaDVhYo"
      }
    },
    {
      "cell_type": "markdown",
      "source": [
        "Quiz와 PUNOJ로 시험봄\n",
        "\n",
        "Quiz와 실습, ppt가 시험자료"
      ],
      "metadata": {
        "id": "xbRx4IdPYblX"
      }
    },
    {
      "cell_type": "markdown",
      "source": [
        "for, while  /  break, countinue(관련 퀴즈 저번에 나갔었음), 필요할 때만 사용"
      ],
      "metadata": {
        "id": "DbCkvMvAZnOf"
      }
    },
    {
      "cell_type": "markdown",
      "source": [
        "#functions 함수"
      ],
      "metadata": {
        "id": "y7CyG_bnZnKm"
      }
    },
    {
      "cell_type": "markdown",
      "source": [
        "반복되는 코드\n",
        "\n",
        "smaller and modular chunck _ manageable\n",
        "\n",
        "reusable 하다."
      ],
      "metadata": {
        "id": "IBP3-SVKZnCP"
      }
    },
    {
      "cell_type": "markdown",
      "source": [
        "print(), input(), type()..."
      ],
      "metadata": {
        "id": "qM3spE1LacSO"
      }
    },
    {
      "cell_type": "markdown",
      "source": [
        "def function_name(): 는 필수.\n",
        "\n",
        "optional: parameters, return expression"
      ],
      "metadata": {
        "id": "8_z2cbQGaiF2"
      }
    },
    {
      "cell_type": "markdown",
      "source": [
        "##순서가 중요하다(함수)"
      ],
      "metadata": {
        "id": "VZ7va27Ya1-m"
      }
    },
    {
      "cell_type": "code",
      "source": [
        "hello()\n",
        "\n",
        "def hello():\n",
        "  print('hello world')"
      ],
      "metadata": {
        "colab": {
          "base_uri": "https://localhost:8080/"
        },
        "id": "_NiSsV0sbcrG",
        "outputId": "07a045c5-e4b0-4d65-8458-0d1903607045"
      },
      "execution_count": 2,
      "outputs": [
        {
          "output_type": "stream",
          "name": "stdout",
          "text": [
            "hello world\n"
          ]
        }
      ]
    },
    {
      "cell_type": "code",
      "execution_count": 3,
      "metadata": {
        "colab": {
          "base_uri": "https://localhost:8080/"
        },
        "id": "443yCKN-Th6j",
        "outputId": "86f93aa2-6950-40b2-c835-740b890a4842"
      },
      "outputs": [
        {
          "output_type": "stream",
          "name": "stdout",
          "text": [
            "hello world\n"
          ]
        }
      ],
      "source": [
        "def hello():\n",
        "  print('hello world')\n",
        "\n",
        "hello()"
      ]
    },
    {
      "cell_type": "markdown",
      "source": [
        "##return값이 없으면 결과값이 나오지 않음(None)"
      ],
      "metadata": {
        "id": "Y4AYMgORcMlF"
      }
    },
    {
      "cell_type": "code",
      "source": [
        "def calc(x, y):\n",
        "    sun_val = x*2 +y\n",
        "    return sun_val\n",
        "\n",
        "output = calc(3, 5)\n",
        "print(output)"
      ],
      "metadata": {
        "id": "VuPAlHyabm0F"
      },
      "execution_count": null,
      "outputs": []
    },
    {
      "cell_type": "code",
      "source": [
        "def calc(x, y):\n",
        "    sun_val = x*2 +y\n",
        "    \n",
        "output = calc(3, 5)\n",
        "print(output)"
      ],
      "metadata": {
        "id": "5c6WOmrSbmZ2"
      },
      "execution_count": null,
      "outputs": []
    },
    {
      "cell_type": "code",
      "source": [
        "def hello(name):\n",
        "    return 'hello' + name\n",
        "\n",
        "print(hello('world'))"
      ],
      "metadata": {
        "id": "0zdo9CcdlBRE"
      },
      "execution_count": null,
      "outputs": []
    },
    {
      "cell_type": "markdown",
      "source": [
        "##list나 tple로 결과값 받을 수 있음"
      ],
      "metadata": {
        "id": "sJwNixs0c6b-"
      }
    },
    {
      "cell_type": "code",
      "source": [
        "def calc(a, b):\n",
        "    v1 = a+b\n",
        "    v2 = a-b\n",
        "    return v1, v2\n",
        "\n",
        "res1, res2 = calc(3,2)\n",
        "print(res1, res2)"
      ],
      "metadata": {
        "id": "m1_1J1oocX-n"
      },
      "execution_count": null,
      "outputs": []
    },
    {
      "cell_type": "code",
      "source": [
        "def calc(a, b):\n",
        "    v1 = a+b\n",
        "    v2 = a-b\n",
        "    return v1, v2\n",
        "\n",
        "res = calc(3,2)\n",
        "print(res)"
      ],
      "metadata": {
        "id": "yfgv8tR-dAet"
      },
      "execution_count": null,
      "outputs": []
    },
    {
      "cell_type": "code",
      "source": [],
      "metadata": {
        "id": "HMFRHRJZdM_2"
      },
      "execution_count": null,
      "outputs": []
    },
    {
      "cell_type": "markdown",
      "source": [
        "##매개변수와 인수(parameters, arguments)\n",
        "\n",
        "\n"
      ],
      "metadata": {
        "id": "OGogs6OadETV"
      }
    },
    {
      "cell_type": "markdown",
      "source": [
        "인수는 순서에 맞춰서(함수 호출 시 넣어주는 인수)\n",
        "\n",
        "OR\n",
        "\n",
        "Keyward argument는 뒤에것부터 채워져 있어야함, 앞은 그냥 인수여도 상관없는데"
      ],
      "metadata": {
        "id": "Er1o_bgfdEKG"
      }
    },
    {
      "cell_type": "code",
      "source": [
        "def calc(x,y):\n",
        "    sum_val = x*2 + y\n",
        "    print(sum_val, 'x:', x, 'y:', y)"
      ],
      "metadata": {
        "id": "TtoNwz09ebTd"
      },
      "execution_count": null,
      "outputs": []
    },
    {
      "cell_type": "code",
      "source": [
        "calc(x=3, y=5)\n",
        "calc(y=5, x=3)"
      ],
      "metadata": {
        "id": "NO0u68saebRl"
      },
      "execution_count": null,
      "outputs": []
    },
    {
      "cell_type": "code",
      "source": [
        "calc(3,5)\n",
        "calc(5,3)"
      ],
      "metadata": {
        "id": "T5HTRHt9ebMV"
      },
      "execution_count": null,
      "outputs": []
    },
    {
      "cell_type": "code",
      "source": [
        "calc(3, y=5)"
      ],
      "metadata": {
        "id": "CN52BkGtebKA"
      },
      "execution_count": null,
      "outputs": []
    },
    {
      "cell_type": "code",
      "source": [
        "calc(x=3, 5)"
      ],
      "metadata": {
        "id": "zYRr3Y_llRHM"
      },
      "execution_count": null,
      "outputs": []
    },
    {
      "cell_type": "markdown",
      "source": [
        "Defalt parameter\n",
        "\n",
        "미리 정해두는데 인수를 넣어 주면 그 인수대로 실행\n",
        "\n",
        "미리 정해둔 건 무조건 뒤에 있어야됨"
      ],
      "metadata": {
        "id": "3kRm-IWoeZr9"
      }
    },
    {
      "cell_type": "code",
      "source": [
        "def calc(x, y=50):\n",
        "  sum_"
      ],
      "metadata": {
        "id": "S7QTLwWCektd"
      },
      "execution_count": null,
      "outputs": []
    },
    {
      "cell_type": "markdown",
      "source": [
        "Arbitrary arguments, *args\n",
        "\n",
        "\n",
        "여러개를 받겠다"
      ],
      "metadata": {
        "id": "wcgy-ZR5ev3c"
      }
    },
    {
      "cell_type": "code",
      "source": [
        "def my_function(*kids):\n",
        "  print('The youngest child is' + kids[2])\n",
        "\n",
        "my_function('E', 'T', \"L\")"
      ],
      "metadata": {
        "colab": {
          "base_uri": "https://localhost:8080/"
        },
        "id": "u2AXT4L2ezH1",
        "outputId": "3f9a3c26-0679-40f0-fdb2-4f811297c980"
      },
      "execution_count": 5,
      "outputs": [
        {
          "output_type": "stream",
          "name": "stdout",
          "text": [
            "The youngest child isL\n"
          ]
        }
      ]
    },
    {
      "cell_type": "code",
      "source": [
        "def my_function(**kids):"
      ],
      "metadata": {
        "id": "c1q216DyfcUP"
      },
      "execution_count": null,
      "outputs": []
    },
    {
      "cell_type": "markdown",
      "source": [
        "#call by value  vs  call by reference\n",
        "\n",
        "(중요)시험나온다"
      ],
      "metadata": {
        "id": "pUtVy1b2fhIA"
      }
    },
    {
      "cell_type": "markdown",
      "source": [
        "넘겨준 값이 변경 불가능하면 전자, 가능하면 후자\n",
        "\n",
        "(\\t tap만큼 띄우라는 말, \\n은?  줄바꿈)"
      ],
      "metadata": {
        "id": "ZgYDk8CufrYV"
      }
    },
    {
      "cell_type": "code",
      "source": [
        "print('bannana\\napple')"
      ],
      "metadata": {
        "colab": {
          "base_uri": "https://localhost:8080/"
        },
        "id": "SVlzEzFpg5l9",
        "outputId": "e821862a-95c9-4b52-b44f-56fb1de05696"
      },
      "execution_count": 13,
      "outputs": [
        {
          "output_type": "stream",
          "name": "stdout",
          "text": [
            "bannana\n",
            "apple\n"
          ]
        }
      ]
    },
    {
      "cell_type": "markdown",
      "source": [
        "num은 값을 전달했고 함수 통과해도 값이 유지된다"
      ],
      "metadata": {
        "id": "GcqinI0kisYc"
      }
    },
    {
      "cell_type": "code",
      "source": [
        "def myFunc(a):\n",
        "  print(\"\\t Value received in 'a' = \", a)\n",
        "  a+=2\n",
        "  print(\"\\t Value of 'a' changes to :\", a)\n",
        "\n",
        "num = 13\n",
        "print(\"Initial number: \", num)\n",
        "myFunc(num)\n",
        "print(\"value of number= \", num)"
      ],
      "metadata": {
        "colab": {
          "base_uri": "https://localhost:8080/"
        },
        "id": "cl1Cu0Lyfxwl",
        "outputId": "9c47b73a-a2dd-446b-b98a-e513c8f0344c"
      },
      "execution_count": 8,
      "outputs": [
        {
          "output_type": "stream",
          "name": "stdout",
          "text": [
            "Initial number:  13\n",
            "\t Value received in 'a' =  13\n",
            "\t Value of 'a' changes to : 15\n",
            "value of number=  13\n"
          ]
        }
      ]
    },
    {
      "cell_type": "markdown",
      "source": [
        "myList는 값을 전달했고 함수 통과하면 값이 달라진다"
      ],
      "metadata": {
        "id": "TVV0Qvm3iyic"
      }
    },
    {
      "cell_type": "code",
      "source": [
        "def myFunc(myList):\n",
        "  print(\"List received: \", myList)\n",
        "  myList.append(3)\n",
        "  myList.extend([7,1])\n",
        "  print(\"List after adding some elements:\", myList)\n",
        "  myList.remove(7)\n",
        "  print(\"List within called function:\", myList)\n",
        "\n",
        "List1 = [1]\n",
        "print(\"List before function call :\", List1)\n",
        "myFunc(List1)\n",
        "print(\"List after function call: \", List1)"
      ],
      "metadata": {
        "colab": {
          "base_uri": "https://localhost:8080/"
        },
        "id": "8pCsZ00vg5gs",
        "outputId": "ba2aa27b-4155-42e5-8c8a-221154c51d6e"
      },
      "execution_count": 12,
      "outputs": [
        {
          "output_type": "stream",
          "name": "stdout",
          "text": [
            "List before function call : [1]\n",
            "List received:  [1]\n",
            "List after adding some elements: [1, 3, 7, 1]\n",
            "List within called function: [1, 3, 1]\n",
            "List after function call:  [1, 3, 1]\n"
          ]
        }
      ]
    },
    {
      "cell_type": "code",
      "source": [
        "def myFunc(myList):\n",
        "  print(\"List received: \", myList)\n",
        "  myList[0] = 3\n",
        "  print(\"List after adding some elements:\", myList)\n",
        "  myList.remove(3)\n",
        "  print(\"List within called function:\", myList)\n",
        "\n",
        "List1 = [1]\n",
        "print(\"List before function call :\", List1)\n",
        "myFunc(List1)\n",
        "print(\"List after function call: \", List1)"
      ],
      "metadata": {
        "colab": {
          "base_uri": "https://localhost:8080/"
        },
        "id": "maBctEbbiNqc",
        "outputId": "0ca1c62b-a358-4605-ac71-fcb77b414158"
      },
      "execution_count": 15,
      "outputs": [
        {
          "output_type": "stream",
          "name": "stdout",
          "text": [
            "List before function call : [1]\n",
            "List received:  [1]\n",
            "List after adding some elements: [3]\n",
            "List within called function: []\n",
            "List after function call:  []\n"
          ]
        }
      ]
    },
    {
      "cell_type": "markdown",
      "source": [
        "###num은 바뀌지 않았지만 list는 바뀌었다. mutable한지, immutable한지에 따라 다른 것."
      ],
      "metadata": {
        "id": "7RvAorTIjITl"
      }
    },
    {
      "cell_type": "code",
      "source": [
        "li = [1,2,3,4,5]\n",
        "li[4] = 1\n",
        "print(li)"
      ],
      "metadata": {
        "colab": {
          "base_uri": "https://localhost:8080/"
        },
        "id": "pzN4r0eHiXdM",
        "outputId": "58f64a31-6407-4fc3-f8da-a890aeddcfec"
      },
      "execution_count": 16,
      "outputs": [
        {
          "output_type": "stream",
          "name": "stdout",
          "text": [
            "[1, 2, 3, 4, 1]\n"
          ]
        }
      ]
    },
    {
      "cell_type": "markdown",
      "source": [
        "##Recursive function 재귀함수"
      ],
      "metadata": {
        "id": "oi1vsLK-jbTq"
      }
    },
    {
      "cell_type": "markdown",
      "source": [
        "함수 내에서 자기 자신을 또 부른다.\n",
        "\n",
        "def recurse():\n",
        "\n",
        "    recurse()\n",
        "\n",
        "    끝나는 지점 명시가 중요\n",
        "\n",
        "recurse"
      ],
      "metadata": {
        "id": "aCPQCanfjjua"
      }
    },
    {
      "cell_type": "markdown",
      "source": [
        "factorial"
      ],
      "metadata": {
        "id": "If03CzFPj998"
      }
    },
    {
      "cell_type": "code",
      "source": [
        "def factorial(x):\n",
        "  '''This is a recursive function to find the ractorial of an integer'''\n",
        "\n",
        "  if x  == 1:\n",
        "    return 1\n",
        "  else:\n",
        "    return(x*factorial(x-1))\n",
        "\n",
        "num = 5\n",
        "print(\"The factorial of\", num, \"is\", factorial(num))"
      ],
      "metadata": {
        "colab": {
          "base_uri": "https://localhost:8080/"
        },
        "id": "amWRWMsXiaG0",
        "outputId": "5fd7f6ae-ccdc-4b00-e9a6-66b982662775"
      },
      "execution_count": 18,
      "outputs": [
        {
          "output_type": "stream",
          "name": "stdout",
          "text": [
            "The factorial of 5 is 120\n"
          ]
        }
      ]
    },
    {
      "cell_type": "markdown",
      "source": [
        "##Variable Scope"
      ],
      "metadata": {
        "id": "gy0KuzvClVEr"
      }
    },
    {
      "cell_type": "markdown",
      "source": [
        "크게 Globle, Local scope로 나뉜다\n",
        "\n",
        "함수 안에서 쓰는 변수가 Local"
      ],
      "metadata": {
        "id": "QP1PUXk8lZkk"
      }
    },
    {
      "cell_type": "code",
      "source": [
        "def factorial(x):\n",
        "  '''This is a recursive function to find the ractorial of an integer'''\n",
        "\n",
        "  if x  == 1:\n",
        "    return 1\n",
        "  else:\n",
        "    return(x*factorial(x-1))\n",
        "\n",
        "print(x)"
      ],
      "metadata": {
        "colab": {
          "base_uri": "https://localhost:8080/",
          "height": 211
        },
        "id": "37Gx1HE7lUWj",
        "outputId": "6131bedc-57c1-4a21-d0c5-8e160049a745"
      },
      "execution_count": 20,
      "outputs": [
        {
          "output_type": "error",
          "ename": "NameError",
          "evalue": "ignored",
          "traceback": [
            "\u001b[0;31m---------------------------------------------------------------------------\u001b[0m",
            "\u001b[0;31mNameError\u001b[0m                                 Traceback (most recent call last)",
            "\u001b[0;32m<ipython-input-20-68649cbe04a1>\u001b[0m in \u001b[0;36m<module>\u001b[0;34m\u001b[0m\n\u001b[1;32m      7\u001b[0m     \u001b[0;32mreturn\u001b[0m\u001b[0;34m(\u001b[0m\u001b[0mx\u001b[0m\u001b[0;34m*\u001b[0m\u001b[0mfactorial\u001b[0m\u001b[0;34m(\u001b[0m\u001b[0mx\u001b[0m\u001b[0;34m-\u001b[0m\u001b[0;36m1\u001b[0m\u001b[0;34m)\u001b[0m\u001b[0;34m)\u001b[0m\u001b[0;34m\u001b[0m\u001b[0;34m\u001b[0m\u001b[0m\n\u001b[1;32m      8\u001b[0m \u001b[0;34m\u001b[0m\u001b[0m\n\u001b[0;32m----> 9\u001b[0;31m \u001b[0mprint\u001b[0m\u001b[0;34m(\u001b[0m\u001b[0mx\u001b[0m\u001b[0;34m)\u001b[0m\u001b[0;34m\u001b[0m\u001b[0;34m\u001b[0m\u001b[0m\n\u001b[0m",
            "\u001b[0;31mNameError\u001b[0m: name 'x' is not defined"
          ]
        }
      ]
    },
    {
      "cell_type": "markdown",
      "source": [
        "함수 밖에서 정의됨 Global\n",
        "\n",
        "함수 안에서도 인식은 됨"
      ],
      "metadata": {
        "id": "Ud1HkTN6mLZD"
      }
    },
    {
      "cell_type": "code",
      "source": [
        "x = 42\n",
        "def myfunc():\n",
        "  print(x)\n",
        "\n",
        "myfunc()\n",
        "print(x)"
      ],
      "metadata": {
        "colab": {
          "base_uri": "https://localhost:8080/"
        },
        "id": "TmX3xtdSl5lD",
        "outputId": "9d258e3b-981f-46c4-9890-dbd214fa2d04"
      },
      "execution_count": 21,
      "outputs": [
        {
          "output_type": "stream",
          "name": "stdout",
          "text": [
            "42\n",
            "42\n"
          ]
        }
      ]
    },
    {
      "cell_type": "code",
      "source": [
        "x = 42\n",
        "def myfunc():\n",
        "  x = 0     # Local선언했음, 얘가 우선, Global과는 별개\n",
        "  print(x)\n",
        "\n",
        "myfunc()\n",
        "print(x)"
      ],
      "metadata": {
        "colab": {
          "base_uri": "https://localhost:8080/"
        },
        "id": "z2N2uWoqmRhr",
        "outputId": "c2d64bbc-4b33-4650-8648-59e508a656be"
      },
      "execution_count": 22,
      "outputs": [
        {
          "output_type": "stream",
          "name": "stdout",
          "text": [
            "0\n",
            "42\n"
          ]
        }
      ]
    },
    {
      "cell_type": "code",
      "source": [
        "x = 42\n",
        "def myfunc():\n",
        "  global x     # Global이라고 알려줌, Gobal 변수와 연결\n",
        "  x = 0\n",
        "  print(x)\n",
        "\n",
        "myfunc()\n",
        "print(x)"
      ],
      "metadata": {
        "colab": {
          "base_uri": "https://localhost:8080/"
        },
        "id": "F4lHMdV_mWjd",
        "outputId": "d7505120-4d3e-4596-d76f-5de0989928e8"
      },
      "execution_count": 23,
      "outputs": [
        {
          "output_type": "stream",
          "name": "stdout",
          "text": [
            "0\n",
            "0\n"
          ]
        }
      ]
    }
  ]
}