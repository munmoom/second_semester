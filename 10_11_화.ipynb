{
  "nbformat": 4,
  "nbformat_minor": 0,
  "metadata": {
    "colab": {
      "provenance": [],
      "authorship_tag": "ABX9TyMx4CsOWGP5oqK0a7fanvo+",
      "include_colab_link": true
    },
    "kernelspec": {
      "name": "python3",
      "display_name": "Python 3"
    },
    "language_info": {
      "name": "python"
    }
  },
  "cells": [
    {
      "cell_type": "markdown",
      "metadata": {
        "id": "view-in-github",
        "colab_type": "text"
      },
      "source": [
        "<a href=\"https://colab.research.google.com/github/munmoom/second_semester/blob/main/10_11_%ED%99%94.ipynb\" target=\"_parent\"><img src=\"https://colab.research.google.com/assets/colab-badge.svg\" alt=\"Open In Colab\"/></a>"
      ]
    },
    {
      "cell_type": "markdown",
      "source": [
        "Coalitions based on daily intimate contact\n",
        "\n",
        "Limits to the size of coalitions formed in such a way\n",
        "\n",
        "Homo sapiens' ability to found and maintain large coalitions: the appearance of fiction\n",
        "\n",
        "Common stories, religion, legal system, nation, etc.\n",
        "\n",
        "The case of Peugeot: a 'legal fiction'\n",
        "\n",
        "Stories that empower Homo sapiens by allowing strangers to cooperate\n",
        "\n",
        "###Changing the stories in accordance with changing needs: cultural revolution to bypass genetic evolution\n",
        "\n",
        "The ability to compose fiction: effective cooperation in large numbers"
      ],
      "metadata": {
        "id": "e7OfWQcXXORP"
      }
    },
    {
      "cell_type": "markdown",
      "source": [
        "A graet awakening in Ioina 2,500 years ago: the universe is knowable with an internal order\n",
        "\n",
        "Ionia's advantage as the crossroads of civilizations\n",
        "\n",
        "Thales, Democritus, and many other Ionians: the intellectual effort to understand the universe\n",
        "\n",
        "Pythagoras's orthodox world view as opposed to experimentation and open inquiry\n",
        "\n",
        "The irony of the mercantile tradition: the cause of the Ionian awakening around 600 B.C. and of its decline some two centuries later\n",
        "\n",
        "The Renaissance: the reawakening of the Ionian tradition\n",
        "\n"
      ],
      "metadata": {
        "id": "qg1bIFaDVhYo"
      }
    },
    {
      "cell_type": "markdown",
      "source": [
        "Quiz와 PUNOJ로 시험봄\n",
        "\n",
        "Quiz와 실습, ppt가 시험자료"
      ],
      "metadata": {
        "id": "xbRx4IdPYblX"
      }
    },
    {
      "cell_type": "markdown",
      "source": [
        "for, while  /  break, countinue(관련 퀴즈 저번에 나갔었음), 필요할 때만 사용"
      ],
      "metadata": {
        "id": "DbCkvMvAZnOf"
      }
    },
    {
      "cell_type": "markdown",
      "source": [
        "#functions 함수"
      ],
      "metadata": {
        "id": "y7CyG_bnZnKm"
      }
    },
    {
      "cell_type": "markdown",
      "source": [
        "반복되는 코드\n",
        "\n",
        "smaller and modular chunck _ manageable\n",
        "\n",
        "reusable 하다."
      ],
      "metadata": {
        "id": "IBP3-SVKZnCP"
      }
    },
    {
      "cell_type": "markdown",
      "source": [
        "print(), input(), type()..."
      ],
      "metadata": {
        "id": "qM3spE1LacSO"
      }
    },
    {
      "cell_type": "markdown",
      "source": [
        "def function_name(): 는 필수.\n",
        "\n",
        "optional: parameters, return expression"
      ],
      "metadata": {
        "id": "8_z2cbQGaiF2"
      }
    },
    {
      "cell_type": "markdown",
      "source": [
        "##순서가 중요하다(함수)"
      ],
      "metadata": {
        "id": "VZ7va27Ya1-m"
      }
    },
    {
      "cell_type": "code",
      "source": [
        "hello()\n",
        "\n",
        "def hello():\n",
        "  print('hello world')"
      ],
      "metadata": {
        "colab": {
          "base_uri": "https://localhost:8080/",
          "height": 227
        },
        "id": "_NiSsV0sbcrG",
        "outputId": "2a3232c5-7b6c-401f-b035-44ffad4ab4a8"
      },
      "execution_count": null,
      "outputs": [
        {
          "output_type": "error",
          "ename": "NameError",
          "evalue": "ignored",
          "traceback": [
            "\u001b[0;31m---------------------------------------------------------------------------\u001b[0m",
            "\u001b[0;31mNameError\u001b[0m                                 Traceback (most recent call last)",
            "\u001b[0;32m<ipython-input-1-73c34afa7fe1>\u001b[0m in \u001b[0;36m<module>\u001b[0;34m\u001b[0m\n\u001b[0;32m----> 1\u001b[0;31m \u001b[0mhello\u001b[0m\u001b[0;34m(\u001b[0m\u001b[0;34m)\u001b[0m\u001b[0;34m\u001b[0m\u001b[0;34m\u001b[0m\u001b[0m\n\u001b[0m\u001b[1;32m      2\u001b[0m \u001b[0;34m\u001b[0m\u001b[0m\n\u001b[1;32m      3\u001b[0m \u001b[0;32mdef\u001b[0m \u001b[0mhello\u001b[0m\u001b[0;34m(\u001b[0m\u001b[0;34m)\u001b[0m\u001b[0;34m:\u001b[0m\u001b[0;34m\u001b[0m\u001b[0;34m\u001b[0m\u001b[0m\n\u001b[1;32m      4\u001b[0m   \u001b[0mprint\u001b[0m\u001b[0;34m(\u001b[0m\u001b[0;34m'hello world'\u001b[0m\u001b[0;34m)\u001b[0m\u001b[0;34m\u001b[0m\u001b[0;34m\u001b[0m\u001b[0m\n",
            "\u001b[0;31mNameError\u001b[0m: name 'hello' is not defined"
          ]
        }
      ]
    },
    {
      "cell_type": "code",
      "execution_count": null,
      "metadata": {
        "colab": {
          "base_uri": "https://localhost:8080/"
        },
        "id": "443yCKN-Th6j",
        "outputId": "86f93aa2-6950-40b2-c835-740b890a4842"
      },
      "outputs": [
        {
          "output_type": "stream",
          "name": "stdout",
          "text": [
            "hello world\n"
          ]
        }
      ],
      "source": [
        "def hello():\n",
        "  print('hello world')\n",
        "\n",
        "hello()"
      ]
    },
    {
      "cell_type": "markdown",
      "source": [
        "##return값이 없으면 결과값이 나오지 않음(None)"
      ],
      "metadata": {
        "id": "Y4AYMgORcMlF"
      }
    },
    {
      "cell_type": "code",
      "source": [
        "def calc(x, y):\n",
        "    sun_val = x*2 +y\n",
        "    return sun_val\n",
        "\n",
        "output = calc(3, 5)\n",
        "print(output)"
      ],
      "metadata": {
        "id": "VuPAlHyabm0F"
      },
      "execution_count": null,
      "outputs": []
    },
    {
      "cell_type": "code",
      "source": [
        "def calc(x, y):\n",
        "    sun_val = x*2 +y\n",
        "    \n",
        "output = calc(3, 5)\n",
        "print(output)"
      ],
      "metadata": {
        "id": "5c6WOmrSbmZ2"
      },
      "execution_count": null,
      "outputs": []
    },
    {
      "cell_type": "code",
      "source": [
        "def hello(name):\n",
        "    return 'hello' + name\n",
        "\n",
        "print(hello('world'))"
      ],
      "metadata": {
        "id": "0zdo9CcdlBRE"
      },
      "execution_count": null,
      "outputs": []
    },
    {
      "cell_type": "markdown",
      "source": [
        "##list나 tuple로 결과값 받을 수 있음"
      ],
      "metadata": {
        "id": "sJwNixs0c6b-"
      }
    },
    {
      "cell_type": "code",
      "source": [
        "def calc(a, b):\n",
        "    v1 = a+b\n",
        "    v2 = a-b\n",
        "    return v1, v2\n",
        "\n",
        "res1, res2 = calc(3,2)\n",
        "print(res1, res2)"
      ],
      "metadata": {
        "id": "m1_1J1oocX-n"
      },
      "execution_count": null,
      "outputs": []
    },
    {
      "cell_type": "code",
      "source": [
        "def calc(a, b):\n",
        "    v1 = a+b\n",
        "    v2 = a-b\n",
        "    return v1, v2\n",
        "\n",
        "res = calc(3,2)\n",
        "print(res)"
      ],
      "metadata": {
        "id": "yfgv8tR-dAet",
        "outputId": "6f722f67-7368-4162-84e6-aafa268abec1",
        "colab": {
          "base_uri": "https://localhost:8080/"
        }
      },
      "execution_count": 1,
      "outputs": [
        {
          "output_type": "stream",
          "name": "stdout",
          "text": [
            "(5, 1)\n"
          ]
        }
      ]
    },
    {
      "cell_type": "code",
      "source": [
        "def calc(a, b):\n",
        "    v1 = a+b\n",
        "    v2 = a-b\n",
        "    return [v1, v2]\n",
        "\n",
        "res = calc(3,2)\n",
        "print(res)"
      ],
      "metadata": {
        "id": "HMFRHRJZdM_2",
        "outputId": "84b93408-b9a6-4d7a-d74c-6cf0d9f298b7",
        "colab": {
          "base_uri": "https://localhost:8080/"
        }
      },
      "execution_count": 2,
      "outputs": [
        {
          "output_type": "stream",
          "name": "stdout",
          "text": [
            "[5, 1]\n"
          ]
        }
      ]
    },
    {
      "cell_type": "markdown",
      "source": [
        "##매개변수와 인수(parameters, arguments)\n",
        "\n",
        "\n"
      ],
      "metadata": {
        "id": "OGogs6OadETV"
      }
    },
    {
      "cell_type": "markdown",
      "source": [
        "인수는 순서에 맞춰서(함수 호출 시 넣어주는 인수)\n",
        "\n",
        "OR\n",
        "\n",
        "Keyward argument는 뒤에것부터 채워져 있어야함, 앞은 그냥 인수여도 상관없는데"
      ],
      "metadata": {
        "id": "Er1o_bgfdEKG"
      }
    },
    {
      "cell_type": "code",
      "source": [
        "def calc(x,y):\n",
        "    sum_val = x*2 + y\n",
        "    print(sum_val, 'x:', x, 'y:', y)"
      ],
      "metadata": {
        "id": "TtoNwz09ebTd"
      },
      "execution_count": null,
      "outputs": []
    },
    {
      "cell_type": "code",
      "source": [
        "calc(x=3, y=5)\n",
        "calc(y=5, x=3)"
      ],
      "metadata": {
        "colab": {
          "base_uri": "https://localhost:8080/"
        },
        "id": "NO0u68saebRl",
        "outputId": "c0f37898-a278-431e-b654-c8fd080b7278"
      },
      "execution_count": null,
      "outputs": [
        {
          "output_type": "stream",
          "name": "stdout",
          "text": [
            "11 x: 3 y: 5\n",
            "11 x: 3 y: 5\n"
          ]
        }
      ]
    },
    {
      "cell_type": "code",
      "source": [
        "calc(3,5)\n",
        "calc(5,3)"
      ],
      "metadata": {
        "colab": {
          "base_uri": "https://localhost:8080/"
        },
        "id": "T5HTRHt9ebMV",
        "outputId": "58a0d57b-3121-4530-b926-cea84eae6069"
      },
      "execution_count": null,
      "outputs": [
        {
          "output_type": "stream",
          "name": "stdout",
          "text": [
            "11 x: 3 y: 5\n",
            "13 x: 5 y: 3\n"
          ]
        }
      ]
    },
    {
      "cell_type": "code",
      "source": [
        "calc(3, y=5)"
      ],
      "metadata": {
        "colab": {
          "base_uri": "https://localhost:8080/"
        },
        "id": "CN52BkGtebKA",
        "outputId": "12043ead-5bae-456b-f6f1-822843a209ab"
      },
      "execution_count": null,
      "outputs": [
        {
          "output_type": "stream",
          "name": "stdout",
          "text": [
            "11 x: 3 y: 5\n"
          ]
        }
      ]
    },
    {
      "cell_type": "code",
      "source": [
        "calc(x=3, 5)  # 안됨"
      ],
      "metadata": {
        "colab": {
          "base_uri": "https://localhost:8080/",
          "height": 137
        },
        "id": "zYRr3Y_llRHM",
        "outputId": "c038b8a6-2c66-4672-fb15-892f5ca8bdd4"
      },
      "execution_count": null,
      "outputs": [
        {
          "output_type": "error",
          "ename": "SyntaxError",
          "evalue": "ignored",
          "traceback": [
            "\u001b[0;36m  File \u001b[0;32m\"<ipython-input-28-91d54bea906f>\"\u001b[0;36m, line \u001b[0;32m1\u001b[0m\n\u001b[0;31m    calc(x=3, 5)\u001b[0m\n\u001b[0m             ^\u001b[0m\n\u001b[0;31mSyntaxError\u001b[0m\u001b[0;31m:\u001b[0m positional argument follows keyword argument\n"
          ]
        }
      ]
    },
    {
      "cell_type": "code",
      "source": [
        "def calc(x,y=5):\n",
        "    sum_val = x*2 + y\n",
        "    print(sum_val, 'x:', x, 'y:', y)\n",
        "\n",
        "calc(y=8, x=7)"
      ],
      "metadata": {
        "id": "dx8KR80jfGAd",
        "outputId": "099c71ba-f08c-4209-d0f7-1d909d8695ef",
        "colab": {
          "base_uri": "https://localhost:8080/"
        }
      },
      "execution_count": null,
      "outputs": [
        {
          "output_type": "stream",
          "name": "stdout",
          "text": [
            "22 x: 7 y: 8\n"
          ]
        }
      ]
    },
    {
      "cell_type": "markdown",
      "source": [
        "Defalt parameter\n",
        "\n",
        "미리 정해두는데 인수를 넣어 주면 그 인수대로 실행\n",
        "\n",
        "미리 정해둔 건 무조건 뒤에 있어야됨"
      ],
      "metadata": {
        "id": "3kRm-IWoeZr9"
      }
    },
    {
      "cell_type": "code",
      "source": [
        "def calc(x, y=50):\n",
        "  sum_val = x + y\n",
        "  print(sum_val)\n",
        "\n",
        "calc(10)\n",
        "calc(3,5)"
      ],
      "metadata": {
        "colab": {
          "base_uri": "https://localhost:8080/"
        },
        "id": "S7QTLwWCektd",
        "outputId": "b6979675-2adc-42c8-b553-109543a4cb38"
      },
      "execution_count": null,
      "outputs": [
        {
          "output_type": "stream",
          "name": "stdout",
          "text": [
            "60\n",
            "8\n"
          ]
        }
      ]
    },
    {
      "cell_type": "code",
      "source": [
        "def calc(y=50, x):\n",
        "  sum_val = x+y\n",
        "  print(sum_val)"
      ],
      "metadata": {
        "colab": {
          "base_uri": "https://localhost:8080/",
          "height": 137
        },
        "id": "e5kjU3N8pnjK",
        "outputId": "07efcf81-596a-43fd-b972-25c2606c3375"
      },
      "execution_count": null,
      "outputs": [
        {
          "output_type": "error",
          "ename": "SyntaxError",
          "evalue": "ignored",
          "traceback": [
            "\u001b[0;36m  File \u001b[0;32m\"<ipython-input-33-0bc96f5cd520>\"\u001b[0;36m, line \u001b[0;32m1\u001b[0m\n\u001b[0;31m    def calc(y=50, x):\u001b[0m\n\u001b[0m            ^\u001b[0m\n\u001b[0;31mSyntaxError\u001b[0m\u001b[0;31m:\u001b[0m non-default argument follows default argument\n"
          ]
        }
      ]
    },
    {
      "cell_type": "code",
      "source": [
        "def calc(x=50, y):\n",
        "  sum_val = x + y\n",
        "  print(sum_val)\n",
        "\n",
        "calc(10)\n",
        "calc(3,5)"
      ],
      "metadata": {
        "colab": {
          "base_uri": "https://localhost:8080/",
          "height": 137
        },
        "id": "RoKQmtCKpxAq",
        "outputId": "4033c19c-7ebf-4720-ce54-1600d2ac32ba"
      },
      "execution_count": null,
      "outputs": [
        {
          "output_type": "error",
          "ename": "SyntaxError",
          "evalue": "ignored",
          "traceback": [
            "\u001b[0;36m  File \u001b[0;32m\"<ipython-input-34-d2832b216aaf>\"\u001b[0;36m, line \u001b[0;32m1\u001b[0m\n\u001b[0;31m    def calc(x=50, y):\u001b[0m\n\u001b[0m            ^\u001b[0m\n\u001b[0;31mSyntaxError\u001b[0m\u001b[0;31m:\u001b[0m non-default argument follows default argument\n"
          ]
        }
      ]
    },
    {
      "cell_type": "code",
      "source": [
        "def calc(y, x=50):\n",
        "  sum_val = x + y\n",
        "  print(sum_val)\n",
        "\n",
        "calc(10)\n",
        "calc(3,5)"
      ],
      "metadata": {
        "colab": {
          "base_uri": "https://localhost:8080/"
        },
        "id": "ZJLTH8yKp7uS",
        "outputId": "f1f3685e-5952-4186-90e2-4ab4c5205bc9"
      },
      "execution_count": null,
      "outputs": [
        {
          "output_type": "stream",
          "name": "stdout",
          "text": [
            "60\n",
            "8\n"
          ]
        }
      ]
    },
    {
      "cell_type": "markdown",
      "source": [
        "Arbitrary arguments, *args\n",
        "\n",
        "\n",
        "여러개를 받겠다"
      ],
      "metadata": {
        "id": "wcgy-ZR5ev3c"
      }
    },
    {
      "cell_type": "code",
      "source": [
        "def my_function(*kids):\n",
        "  print('The youngest child is' + kids[2])\n",
        "\n",
        "my_function('E', 'T', \"L\")"
      ],
      "metadata": {
        "colab": {
          "base_uri": "https://localhost:8080/"
        },
        "id": "u2AXT4L2ezH1",
        "outputId": "cd0911e0-23ab-4e3d-9b9b-577b8ec0266f"
      },
      "execution_count": null,
      "outputs": [
        {
          "output_type": "stream",
          "name": "stdout",
          "text": [
            "The youngest child isL\n"
          ]
        }
      ]
    },
    {
      "cell_type": "code",
      "source": [
        "def my_function(**kid):\n",
        "  print(\"His last name is\" + kid[\"lname\"])\n",
        "\n",
        "my_function(fname = \"Tobias\", lname = \" Refsnes\")"
      ],
      "metadata": {
        "colab": {
          "base_uri": "https://localhost:8080/"
        },
        "id": "c1q216DyfcUP",
        "outputId": "ff0aee17-d881-4b4b-f2e3-32b0fdeae813"
      },
      "execution_count": 4,
      "outputs": [
        {
          "output_type": "stream",
          "name": "stdout",
          "text": [
            "His last name is Refsnes\n"
          ]
        }
      ]
    },
    {
      "cell_type": "markdown",
      "source": [
        "#call by value  vs  call by reference\n",
        "\n",
        "##(중요)시험나온다"
      ],
      "metadata": {
        "id": "pUtVy1b2fhIA"
      }
    },
    {
      "cell_type": "markdown",
      "source": [
        "# 넘겨준 값이 변경 불가능하면 전자, 가능하면 후자"
      ],
      "metadata": {
        "id": "ZgYDk8CufrYV"
      }
    },
    {
      "cell_type": "markdown",
      "source": [
        "(\\t tap만큼 띄우라는 말, \\n은?  줄바꿈)"
      ],
      "metadata": {
        "id": "MMpuLVmiLsHU"
      }
    },
    {
      "cell_type": "code",
      "source": [
        "print('bannana\\napple')"
      ],
      "metadata": {
        "colab": {
          "base_uri": "https://localhost:8080/"
        },
        "id": "SVlzEzFpg5l9",
        "outputId": "e821862a-95c9-4b52-b44f-56fb1de05696"
      },
      "execution_count": null,
      "outputs": [
        {
          "output_type": "stream",
          "name": "stdout",
          "text": [
            "bannana\n",
            "apple\n"
          ]
        }
      ]
    },
    {
      "cell_type": "markdown",
      "source": [
        "num은 값을 전달했고 함수 통과해도 값이 유지된다"
      ],
      "metadata": {
        "id": "GcqinI0kisYc"
      }
    },
    {
      "cell_type": "code",
      "source": [
        "def myFunc(a):\n",
        "  print(\"\\t Value received in 'a' = \", a)\n",
        "  a+=2\n",
        "  print(\"\\t Value of 'a' changes to :\", a)\n",
        "\n",
        "num = 13\n",
        "print(\"Initial number: \", num)\n",
        "myFunc(num)\n",
        "print(\"value of number= \", num)"
      ],
      "metadata": {
        "colab": {
          "base_uri": "https://localhost:8080/"
        },
        "id": "cl1Cu0Lyfxwl",
        "outputId": "9c47b73a-a2dd-446b-b98a-e513c8f0344c"
      },
      "execution_count": null,
      "outputs": [
        {
          "output_type": "stream",
          "name": "stdout",
          "text": [
            "Initial number:  13\n",
            "\t Value received in 'a' =  13\n",
            "\t Value of 'a' changes to : 15\n",
            "value of number=  13\n"
          ]
        }
      ]
    },
    {
      "cell_type": "markdown",
      "source": [
        "myList는 값을 전달했고 함수 통과하면 값이 달라진다"
      ],
      "metadata": {
        "id": "TVV0Qvm3iyic"
      }
    },
    {
      "cell_type": "code",
      "source": [
        "def myFunc(myList):\n",
        "  print(\"List received: \", myList)\n",
        "  myList.append(3)\n",
        "  myList.extend([7,1])\n",
        "  print(\"List after adding some elements:\", myList)\n",
        "  myList.remove(7)\n",
        "  print(\"List within called function:\", myList)\n",
        "\n",
        "List1 = [1]\n",
        "print(\"List before function call :\", List1)\n",
        "myFunc(List1)\n",
        "print(\"List after function call: \", List1)"
      ],
      "metadata": {
        "colab": {
          "base_uri": "https://localhost:8080/"
        },
        "id": "8pCsZ00vg5gs",
        "outputId": "ba2aa27b-4155-42e5-8c8a-221154c51d6e"
      },
      "execution_count": null,
      "outputs": [
        {
          "output_type": "stream",
          "name": "stdout",
          "text": [
            "List before function call : [1]\n",
            "List received:  [1]\n",
            "List after adding some elements: [1, 3, 7, 1]\n",
            "List within called function: [1, 3, 1]\n",
            "List after function call:  [1, 3, 1]\n"
          ]
        }
      ]
    },
    {
      "cell_type": "code",
      "source": [
        "def myFunc(myList):\n",
        "  print(\"List received: \", myList)\n",
        "  myList[0] = 3\n",
        "  print(\"List after adding some elements:\", myList)\n",
        "  myList.remove(3)\n",
        "  print(\"List within called function:\", myList)\n",
        "\n",
        "List1 = [1]\n",
        "print(\"List before function call :\", List1)\n",
        "myFunc(List1)\n",
        "print(\"List after function call: \", List1)"
      ],
      "metadata": {
        "colab": {
          "base_uri": "https://localhost:8080/"
        },
        "id": "maBctEbbiNqc",
        "outputId": "0ca1c62b-a358-4605-ac71-fcb77b414158"
      },
      "execution_count": null,
      "outputs": [
        {
          "output_type": "stream",
          "name": "stdout",
          "text": [
            "List before function call : [1]\n",
            "List received:  [1]\n",
            "List after adding some elements: [3]\n",
            "List within called function: []\n",
            "List after function call:  []\n"
          ]
        }
      ]
    },
    {
      "cell_type": "markdown",
      "source": [
        "###num은 바뀌지 않았지만 list는 바뀌었다. mutable한지, immutable한지에 따라 다른 것."
      ],
      "metadata": {
        "id": "7RvAorTIjITl"
      }
    },
    {
      "cell_type": "code",
      "source": [
        "li = [1,2,3,4,5]\n",
        "li[4] = 1\n",
        "print(li)"
      ],
      "metadata": {
        "colab": {
          "base_uri": "https://localhost:8080/"
        },
        "id": "pzN4r0eHiXdM",
        "outputId": "58f64a31-6407-4fc3-f8da-a890aeddcfec"
      },
      "execution_count": null,
      "outputs": [
        {
          "output_type": "stream",
          "name": "stdout",
          "text": [
            "[1, 2, 3, 4, 1]\n"
          ]
        }
      ]
    },
    {
      "cell_type": "markdown",
      "source": [
        "##Recursive function 재귀함수"
      ],
      "metadata": {
        "id": "oi1vsLK-jbTq"
      }
    },
    {
      "cell_type": "markdown",
      "source": [
        "함수 내에서 자기 자신을 또 부른다.\n",
        "\n",
        "def recurse():\n",
        "\n",
        "    recurse()\n",
        "\n",
        "    끝나는 지점 명시가 중요\n",
        "\n",
        "recurse"
      ],
      "metadata": {
        "id": "aCPQCanfjjua"
      }
    },
    {
      "cell_type": "markdown",
      "source": [
        "factorial"
      ],
      "metadata": {
        "id": "If03CzFPj998"
      }
    },
    {
      "cell_type": "code",
      "source": [
        "def factorial(x):\n",
        "  '''This is a recursive function to find the ractorial of an integer'''\n",
        "\n",
        "  if x  == 1:\n",
        "    return 1\n",
        "  else:\n",
        "    return(x*factorial(x-1))\n",
        "\n",
        "num = 5\n",
        "print(\"The factorial of\", num, \"is\", factorial(num))"
      ],
      "metadata": {
        "colab": {
          "base_uri": "https://localhost:8080/"
        },
        "id": "amWRWMsXiaG0",
        "outputId": "5fd7f6ae-ccdc-4b00-e9a6-66b982662775"
      },
      "execution_count": null,
      "outputs": [
        {
          "output_type": "stream",
          "name": "stdout",
          "text": [
            "The factorial of 5 is 120\n"
          ]
        }
      ]
    },
    {
      "cell_type": "markdown",
      "source": [
        "##Variable Scope"
      ],
      "metadata": {
        "id": "gy0KuzvClVEr"
      }
    },
    {
      "cell_type": "markdown",
      "source": [
        "크게 Globle, Local scope로 나뉜다\n",
        "\n",
        "함수 안에서 쓰는 변수가 Local"
      ],
      "metadata": {
        "id": "QP1PUXk8lZkk"
      }
    },
    {
      "cell_type": "code",
      "source": [
        "def factorial(x):\n",
        "  '''This is a recursive function to find the ractorial of an integer'''\n",
        "\n",
        "  if x  == 1:\n",
        "    return 1\n",
        "  else:\n",
        "    return(x*factorial(x-1))\n",
        "\n",
        "print(x)"
      ],
      "metadata": {
        "colab": {
          "base_uri": "https://localhost:8080/",
          "height": 211
        },
        "id": "37Gx1HE7lUWj",
        "outputId": "6131bedc-57c1-4a21-d0c5-8e160049a745"
      },
      "execution_count": null,
      "outputs": [
        {
          "output_type": "error",
          "ename": "NameError",
          "evalue": "ignored",
          "traceback": [
            "\u001b[0;31m---------------------------------------------------------------------------\u001b[0m",
            "\u001b[0;31mNameError\u001b[0m                                 Traceback (most recent call last)",
            "\u001b[0;32m<ipython-input-20-68649cbe04a1>\u001b[0m in \u001b[0;36m<module>\u001b[0;34m\u001b[0m\n\u001b[1;32m      7\u001b[0m     \u001b[0;32mreturn\u001b[0m\u001b[0;34m(\u001b[0m\u001b[0mx\u001b[0m\u001b[0;34m*\u001b[0m\u001b[0mfactorial\u001b[0m\u001b[0;34m(\u001b[0m\u001b[0mx\u001b[0m\u001b[0;34m-\u001b[0m\u001b[0;36m1\u001b[0m\u001b[0;34m)\u001b[0m\u001b[0;34m)\u001b[0m\u001b[0;34m\u001b[0m\u001b[0;34m\u001b[0m\u001b[0m\n\u001b[1;32m      8\u001b[0m \u001b[0;34m\u001b[0m\u001b[0m\n\u001b[0;32m----> 9\u001b[0;31m \u001b[0mprint\u001b[0m\u001b[0;34m(\u001b[0m\u001b[0mx\u001b[0m\u001b[0;34m)\u001b[0m\u001b[0;34m\u001b[0m\u001b[0;34m\u001b[0m\u001b[0m\n\u001b[0m",
            "\u001b[0;31mNameError\u001b[0m: name 'x' is not defined"
          ]
        }
      ]
    },
    {
      "cell_type": "markdown",
      "source": [
        "함수 밖에서 정의됨 Global\n",
        "\n",
        "함수 안에서도 인식은 됨"
      ],
      "metadata": {
        "id": "Ud1HkTN6mLZD"
      }
    },
    {
      "cell_type": "code",
      "source": [
        "x = 42\n",
        "def myfunc():\n",
        "  print(x)\n",
        "\n",
        "myfunc()\n",
        "print(x)"
      ],
      "metadata": {
        "colab": {
          "base_uri": "https://localhost:8080/"
        },
        "id": "TmX3xtdSl5lD",
        "outputId": "9d258e3b-981f-46c4-9890-dbd214fa2d04"
      },
      "execution_count": null,
      "outputs": [
        {
          "output_type": "stream",
          "name": "stdout",
          "text": [
            "42\n",
            "42\n"
          ]
        }
      ]
    },
    {
      "cell_type": "code",
      "source": [
        "x = 42\n",
        "def myfunc():\n",
        "  x = 0     # Local선언했음, 얘가 우선, Global과는 별개\n",
        "  print(x)\n",
        "\n",
        "myfunc()\n",
        "print(x)"
      ],
      "metadata": {
        "colab": {
          "base_uri": "https://localhost:8080/"
        },
        "id": "z2N2uWoqmRhr",
        "outputId": "c2d64bbc-4b33-4650-8648-59e508a656be"
      },
      "execution_count": null,
      "outputs": [
        {
          "output_type": "stream",
          "name": "stdout",
          "text": [
            "0\n",
            "42\n"
          ]
        }
      ]
    },
    {
      "cell_type": "code",
      "source": [
        "x = 42\n",
        "def myfunc():\n",
        "  global x     # Global이라고 알려줌, Gobal 변수와 연결\n",
        "  x = 0\n",
        "  print(x)\n",
        "\n",
        "myfunc()\n",
        "print(x)"
      ],
      "metadata": {
        "colab": {
          "base_uri": "https://localhost:8080/"
        },
        "id": "F4lHMdV_mWjd",
        "outputId": "d7505120-4d3e-4596-d76f-5de0989928e8"
      },
      "execution_count": null,
      "outputs": [
        {
          "output_type": "stream",
          "name": "stdout",
          "text": [
            "0\n",
            "0\n"
          ]
        }
      ]
    },
    {
      "cell_type": "markdown",
      "source": [
        "## Summary\n",
        "\n",
        "function은 define 먼저하고 calling\n",
        "\n",
        "positional, keyword, default, arbitary arguments\n",
        "\n",
        "call by value(immutable) vs call by reference(mutable)\n",
        "\n",
        "recursive function\n",
        "(동작순서)\n",
        "\n",
        "변수범위 global, local"
      ],
      "metadata": {
        "id": "af-EJixQnKJS"
      }
    },
    {
      "cell_type": "markdown",
      "source": [
        "#코드 리뷰"
      ],
      "metadata": {
        "id": "mjNpY8knqIYj"
      }
    },
    {
      "cell_type": "markdown",
      "source": [
        "내 코드, 5점 감점"
      ],
      "metadata": {
        "id": "00WH17I1qIRJ"
      }
    },
    {
      "cell_type": "code",
      "source": [
        "#인덱스이용\n",
        "#비교할 때 while 반복문이용\n",
        "def solution(stock):\n",
        "  res = 0\n",
        "  i = 0\n",
        "\n",
        "  for i in range(0, len(stock)):   # 추가한 코드\n",
        "    #while i < len(stock)-1:       #삭제한 코드\n",
        "\n",
        "      small = stock[i]\n",
        "      try:\n",
        "        while stock[i+1] <= stock[i]:\n",
        "          i += 1\n",
        "          small = stock[i]\n",
        "      except:\n",
        "          small = stock[i]\n",
        "\n",
        "      big = stock[i]\n",
        "      while i <= len(stock)-2 :\n",
        "        i += 1\n",
        "        if big < stock[i]:\n",
        "          big = stock[i]\n",
        "\n",
        "      if res < big - small:\n",
        "        res = big - small\n",
        "\n",
        "  return res\n",
        "\n",
        "# 뭐가 틀렸지?\n",
        "# while문이 아니라 for문을 썼어야 했음, i가 더해진 값 그대로이기 때문에 극소점, 극대점의 재설정이 불가능하다. \n",
        "# 극소점 뒤의 극대점이 잡히기는 하지만 하나밖에 못 정함..."
      ],
      "metadata": {
        "id": "K5fATGEmqHAS"
      },
      "execution_count": null,
      "outputs": []
    },
    {
      "cell_type": "markdown",
      "source": [
        "소개코드: \n",
        "\n",
        "1. 극소를 하나 잡아두고 뒤와 차를 비교, 가장 큰 값을 저장...다시 다음 극소로 넘어가고 뒤와 차를 비교...반복.\n",
        "\n",
        "\n",
        "2. 극소값을 다 찾아서 그 뒤의 max값과 비교해서 가장 차가 큰 경우를 찾음"
      ],
      "metadata": {
        "id": "RrOdBeLdsvBy"
      }
    },
    {
      "cell_type": "code",
      "source": [
        "f_day = min(f_day,i)  #  반복문 안, for i in stock, 극소찾기"
      ],
      "metadata": {
        "id": "HHZb79fLqG-C"
      },
      "execution_count": null,
      "outputs": []
    },
    {
      "cell_type": "markdown",
      "source": [
        "재귀함수 써서도 가능하다\n",
        "\n",
        "구간을 나눠서 최대최소를 잡는다.\n",
        "\n",
        "큰 건 전체에서 가장 큰 거지만, 작은 건 가장 큰 것의 앞에서만 나오는 것이니까 가장 큰 것 뒤에 더 작은 값이 있을 수 있고 그 뒤 중에서 가장 큰 값과의 차가 전자들의 차보다도 더 클 수 있다"
      ],
      "metadata": {
        "id": "0nbYl2BqxNaA"
      }
    },
    {
      "cell_type": "code",
      "source": [
        "def solution(stock):\n",
        "  if len(stock) <= 1 or max(stock) == min(stock):\n",
        "    return 0\n",
        "\n",
        "  maxv = max(stock)           #최대를 잡아둠\n",
        "  maxi = stock.index(maxv)\n",
        "  minv = min(stock[:maxi+1])  #최대 앞에서의 최소를 잡음\n",
        "  profit = maxv - minv\n",
        "\n",
        "  return max(profit, solution(stock[maxi+1:]))  #이미 쓴 구간보다 뒤쪽에서의 결과값과 비교"
      ],
      "metadata": {
        "id": "DfrHgIVBqG7q"
      },
      "execution_count": null,
      "outputs": []
    },
    {
      "cell_type": "code",
      "source": [
        "stock = [9,3,3,10,3,3,1,10,7,7,3,3,1,110]"
      ],
      "metadata": {
        "id": "VvVM1yuyqG1q"
      },
      "execution_count": null,
      "outputs": []
    },
    {
      "cell_type": "code",
      "source": [
        "solution(stock)"
      ],
      "metadata": {
        "colab": {
          "base_uri": "https://localhost:8080/"
        },
        "id": "GGB2C_9hyOpo",
        "outputId": "e44731cf-494b-44ea-d16b-6b97db0afa25"
      },
      "execution_count": null,
      "outputs": [
        {
          "output_type": "execute_result",
          "data": {
            "text/plain": [
              "109"
            ]
          },
          "metadata": {},
          "execution_count": 48
        }
      ]
    },
    {
      "cell_type": "code",
      "source": [
        "re = 0\n",
        "\n",
        "def m(a,b):\n",
        "  re = a+b\n",
        "\n",
        "re = m(1,2)\n",
        "print(re)"
      ],
      "metadata": {
        "colab": {
          "base_uri": "https://localhost:8080/"
        },
        "id": "VdL3Q_hJCpmn",
        "outputId": "e7d04bfb-ce80-4810-f853-f0305b871951"
      },
      "execution_count": null,
      "outputs": [
        {
          "output_type": "stream",
          "name": "stdout",
          "text": [
            "None\n"
          ]
        }
      ]
    }
  ]
}