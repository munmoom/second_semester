{
  "nbformat": 4,
  "nbformat_minor": 0,
  "metadata": {
    "colab": {
      "provenance": [],
      "collapsed_sections": [],
      "authorship_tag": "ABX9TyN0mbNiQuyFBDtZw3IPpGhq",
      "include_colab_link": true
    },
    "kernelspec": {
      "name": "python3",
      "display_name": "Python 3"
    },
    "language_info": {
      "name": "python"
    }
  },
  "cells": [
    {
      "cell_type": "markdown",
      "metadata": {
        "id": "view-in-github",
        "colab_type": "text"
      },
      "source": [
        "<a href=\"https://colab.research.google.com/github/munmoom/second_semester/blob/main/9_22leetcode.ipynb\" target=\"_parent\"><img src=\"https://colab.research.google.com/assets/colab-badge.svg\" alt=\"Open In Colab\"/></a>"
      ]
    },
    {
      "cell_type": "code",
      "execution_count": 1,
      "metadata": {
        "id": "z0snl-iKpk0N"
      },
      "outputs": [],
      "source": [
        "#함수만들기\n",
        "# i는 문자 하나\n",
        "def findindex(s):\n",
        "    R = []\n",
        "    for i in s:\n",
        "        if i == 0:\n",
        "            continue\n",
        "        if s.count(i) > 1:\n",
        "            for a in range(0,s.count(i)):\n",
        "                    R.append(s.find(i))\n",
        "                    s[s.find(i)] == 0\n",
        "    return R"
      ]
    },
    {
      "cell_type": "code",
      "source": [
        "s = \"egg\"\n",
        "t = \"add\"\n",
        "\n",
        "if len(s) == len(t):\n",
        "    S = findindex(s)\n",
        "    T = findindex(t)\n",
        "    if S == T:\n",
        "        print('true')\n",
        "    else:\n",
        "        print('false')\n",
        "else:\n",
        "    print('false')"
      ],
      "metadata": {
        "colab": {
          "base_uri": "https://localhost:8080/"
        },
        "id": "d2AFRiYYpnip",
        "outputId": "f609b4e2-e217-4e51-ac58-ae6d00663e96"
      },
      "execution_count": 5,
      "outputs": [
        {
          "output_type": "stream",
          "name": "stdout",
          "text": [
            "true\n"
          ]
        }
      ]
    },
    {
      "cell_type": "code",
      "source": [
        "            def findindex(s):\n",
        "                R = []\n",
        "                for i in s:\n",
        "                    if i == 0:\n",
        "                        continue\n",
        "                    if s.count(i) > 1:\n",
        "                        for a in range(0,s.count(i)):\n",
        "                            R.append(s.find(i))\n",
        "                            s[s.find(i)] == 0\n",
        "            return R\n",
        "        \n",
        "    if len(s) == len(t):\n",
        "        S = findindex(s)\n",
        "        T = findindex(t)\n",
        "        if S == T:\n",
        "            print('true')\n",
        "        else:\n",
        "            print('false')\n",
        "    else:\n",
        "        print('false')"
      ],
      "metadata": {
        "id": "G3Z-FY5ir3RO"
      },
      "execution_count": null,
      "outputs": []
    },
    {
      "cell_type": "code",
      "source": [
        "def findindex(s):\n",
        "    R = []\n",
        "    for i in s:\n",
        "      if i == 0:\n",
        "        continue\n",
        "      if s.count(i) > 1:\n",
        "        for a in range(0,s.count(i)):\n",
        "            R.append(s.find(i))\n",
        "            s[s.find(i)] == 0\n",
        "    return R\n",
        "        \n",
        "if len(s) == len(t):\n",
        "  S = findindex(s)\n",
        "  T = findindex(t)\n",
        "  if S == T:\n",
        "     print('true')\n",
        "  else:\n",
        "      print('false')\n",
        "else:\n",
        "     print('false')"
      ],
      "metadata": {
        "colab": {
          "base_uri": "https://localhost:8080/"
        },
        "id": "3el1TxS1r66o",
        "outputId": "921a60ce-c476-4517-86a7-db35a308d5f9"
      },
      "execution_count": 6,
      "outputs": [
        {
          "output_type": "stream",
          "name": "stdout",
          "text": [
            "true\n"
          ]
        }
      ]
    },
    {
      "cell_type": "code",
      "source": [
        "s = 'title'\n",
        "t = "
      ],
      "metadata": {
        "id": "cTyfnaxSsNhO"
      },
      "execution_count": null,
      "outputs": []
    }
  ]
}