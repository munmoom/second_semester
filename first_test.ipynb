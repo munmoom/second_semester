{
  "nbformat": 4,
  "nbformat_minor": 0,
  "metadata": {
    "colab": {
      "provenance": [],
      "collapsed_sections": [],
      "authorship_tag": "ABX9TyOlLEj4u/ZU7ZQsbrH0gv0v",
      "include_colab_link": true
    },
    "kernelspec": {
      "name": "python3",
      "display_name": "Python 3"
    },
    "language_info": {
      "name": "python"
    }
  },
  "cells": [
    {
      "cell_type": "markdown",
      "metadata": {
        "id": "view-in-github",
        "colab_type": "text"
      },
      "source": [
        "<a href=\"https://colab.research.google.com/github/munmoom/second_semester/blob/main/first_test.ipynb\" target=\"_parent\"><img src=\"https://colab.research.google.com/assets/colab-badge.svg\" alt=\"Open In Colab\"/></a>"
      ]
    },
    {
      "cell_type": "code",
      "source": [
        "def solution(x):\n",
        "  n = 0                   # 변수 두 개를 0으로 맞춰준다\n",
        "  r = 0\n",
        "  while n <= len(x)-1 :   # 인덱스는 0부터 시작하니까 리스트 내 마지막 원소의 인덱스는 총 원소 개수에서 1을 빼 줘야 한다\n",
        "    r += x[n]\n",
        "    n += 2                # 짝수 번째 인덱스이니 2를 더하는 식으로 맞춰준다, 최대 인덱스를 넘어서면 반복문이 자동으로 멈춘다\n",
        "  return r                # 결과값을 반환한다\n",
        "\n",
        "x = [2,3,5,2,3,2,7,47]\n",
        "r = solution(x)\n",
        "print(r)"
      ],
      "metadata": {
        "colab": {
          "base_uri": "https://localhost:8080/"
        },
        "id": "b0y5GlJaOT8H",
        "outputId": "6c9623c7-b8d8-4ad5-e111-de3182d837e5"
      },
      "execution_count": 12,
      "outputs": [
        {
          "output_type": "stream",
          "name": "stdout",
          "text": [
            "17\n"
          ]
        }
      ]
    }
  ]
}