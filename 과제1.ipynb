{
  "nbformat": 4,
  "nbformat_minor": 0,
  "metadata": {
    "colab": {
      "provenance": [],
      "authorship_tag": "ABX9TyOiaPS2FLlAtcbQwVPHJ0yW",
      "include_colab_link": true
    },
    "kernelspec": {
      "name": "python3",
      "display_name": "Python 3"
    },
    "language_info": {
      "name": "python"
    }
  },
  "cells": [
    {
      "cell_type": "markdown",
      "metadata": {
        "id": "view-in-github",
        "colab_type": "text"
      },
      "source": [
        "<a href=\"https://colab.research.google.com/github/munmoom/second_semester/blob/main/%EA%B3%BC%EC%A0%9C1.ipynb\" target=\"_parent\"><img src=\"https://colab.research.google.com/assets/colab-badge.svg\" alt=\"Open In Colab\"/></a>"
      ]
    },
    {
      "cell_type": "code",
      "execution_count": null,
      "metadata": {
        "id": "mHfA3OkARMip"
      },
      "outputs": [],
      "source": [
        "def solution(nums):\n",
        "  co_list=[]\n",
        "  for i in range(1,10):\n",
        "    co_list.append(nums.count(i))  # 1의 개수부터 9의 개수까지를 순서대로 원소로 하는 리스트 co_list\n",
        "\n",
        "  if len(co_list) == 0:   #\n",
        "    result = 0            # 이게 없어도 되는 이유: co_list는 원소가 없을 수가 없음\n",
        "\n",
        "  counting = co_list.copy()    # co_list를 내림차순 정렬 전에 복사, 인덱스를 이용해 가장 빈도수가 높은 원소를 찾아낼 것\n",
        "  co_list.sort(reverse=True)   # co_list를 내림차순(가장 높은 빈도수가 가장 앞에 온다)\n",
        "\n",
        "  if co_list[0] == co_list[1]:  # Majority element가 없는 경우\n",
        "    result = 0\n",
        "  else:\n",
        "    result = counting.index(co_list[0]) + 1  # counting 리스트에서 가장 큰 수 인덱스 찾기, 1더해 주면 원하는 결과값\n",
        "    \n",
        "  return result"
      ]
    },
    {
      "cell_type": "code",
      "source": [
        "solution([1,1,1,1,9,9,9,9,9,9,9,9,9,9])"
      ],
      "metadata": {
        "colab": {
          "base_uri": "https://localhost:8080/"
        },
        "id": "LK_-mTzcayPk",
        "outputId": "f2c32bf3-79ed-4bf6-b7a4-99ecd37a2371"
      },
      "execution_count": null,
      "outputs": [
        {
          "output_type": "execute_result",
          "data": {
            "text/plain": [
              "9"
            ]
          },
          "metadata": {},
          "execution_count": 17
        }
      ]
    },
    {
      "cell_type": "code",
      "source": [
        "def solution(nums):\n",
        "  co_list=[]\n",
        "  for i in range(1,10):\n",
        "    co_list.append(nums.count(i))  # 1의 개수부터 9의 개수까지를 순서대로 원소로 하는 리스트 co_list\n",
        "\n",
        "  counting = co_list.copy()    # co_list를 내림차순 정렬 전에 복사, 인덱스를 이용해 가장 빈도수가 높은 원소를 찾아낼 것\n",
        "  co_list.sort(reverse=True)   # co_list를 내림차순(가장 높은 빈도수가 가장 앞에 온다)\n",
        "\n",
        "  if co_list[0] == co_list[1]:  # Majority element가 없는 경우\n",
        "    result = 0\n",
        "  else:\n",
        "    result = counting.index(co_list[0]) + 1  # counting 리스트에서 가장 큰 수 인덱스 찾기, 1더해 주면 원하는 결과값\n",
        "    \n",
        "  return result"
      ],
      "metadata": {
        "id": "i0Kjtn06bR0m"
      },
      "execution_count": null,
      "outputs": []
    },
    {
      "cell_type": "markdown",
      "source": [
        "두번째걸로 제출"
      ],
      "metadata": {
        "id": "hUjhfu5abp9V"
      }
    }
  ]
}