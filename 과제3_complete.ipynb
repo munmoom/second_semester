{
  "nbformat": 4,
  "nbformat_minor": 0,
  "metadata": {
    "colab": {
      "provenance": [],
      "authorship_tag": "ABX9TyPoOXlKYkFSWJ/Q0b6hv5Fv",
      "include_colab_link": true
    },
    "kernelspec": {
      "name": "python3",
      "display_name": "Python 3"
    },
    "language_info": {
      "name": "python"
    }
  },
  "cells": [
    {
      "cell_type": "markdown",
      "metadata": {
        "id": "view-in-github",
        "colab_type": "text"
      },
      "source": [
        "<a href=\"https://colab.research.google.com/github/munmoom/second_semester/blob/main/%EA%B3%BC%EC%A0%9C3_complete.ipynb\" target=\"_parent\"><img src=\"https://colab.research.google.com/assets/colab-badge.svg\" alt=\"Open In Colab\"/></a>"
      ]
    },
    {
      "cell_type": "code",
      "execution_count": null,
      "metadata": {
        "id": "y5mg_X4zAvWz"
      },
      "outputs": [],
      "source": [
        "# 펠린드롬이 홀수라면 가운데 숫자가 양 옆과 같거나 다를 수 있지만\n",
        "# 펠린드롬이 짝수라면 가운데 숫자는 무조건 같은 두 수이므로\n",
        "# 가운데 숫자를 포함하지 않고 양 옆을 비교하는 경우와\n",
        "# 가운데 숫자를 포함하여 양 옆을 비교하는 경우로 나눔\n",
        "# [0,0,0,1,1,0,0]이라는 리스트에서\n",
        "# [0,0,0], [1,0,0]비교\n",
        "# [0,0,0,1], [1,0,0]비교\n",
        "# 두 가지를 모두 수행\n",
        "\n",
        "def longest_palindrome(nums):\n",
        "    n = len(nums)\n",
        "    if n == 1:\n",
        "        return 1\n",
        "    else:\n",
        "        for i in range(n):               # 0부터 len(nums)-1 까지 숫자 대입 i\n",
        "            befo_odd = nums[:i]          # i-1인덱스까지 자름\n",
        "            befo_even = nums[:i+1]\n",
        "            afte = nums[i+1:]\n",
        "\n",
        "            b1, a1 = len(befo_odd), len(afte)\n",
        "            if b1 > a1:\n",
        "                befo_odd = befo_odd[:-a1-1:-1]  # afte와 길이가 같게 자름, 역순됨, 중심부터 나열\n",
        "            if a1 > b1:\n",
        "                afte_odd = afte[b1-1::-1]       # befo와 길이가 같게 자름, 역순됨, 바깥쪽부터 나열\n",
        "                befo_odd.reverse()              # 중심부터 나열\n",
        "                afte_odd.reverse()              # 중심부터 나열\n",
        "                \n",
        "                    \n",
        "            b2, a2 = len(befo_even), len(afte)\n",
        "            if b2 > a2:\n",
        "                befo_even = befo_even[:-a2-1:-1]\n",
        "            if a2 > b2:\n",
        "                afte_even = afte[b2-1::-1]\n",
        "                befo_even.reverse()\n",
        "                afte_even.reverse()\n",
        "            \n",
        "            P_length = []\n",
        "            \n",
        "            n=0\n",
        "            for k in befo_odd:\n",
        "                if k == afte_odd[n]:\n",
        "                    n += 1\n",
        "                else:\n",
        "                    break\n",
        "            P_length.append(n*2+1)\n",
        "                    \n",
        "            n=0\n",
        "            for k in befo_even:\n",
        "                if k == afte_even[n]:\n",
        "                    n += 1\n",
        "                else:\n",
        "                    break\n",
        "            P_length.append(n*2)\n",
        "                    \n",
        "        return max(P_length)"
      ]
    },
    {
      "cell_type": "code",
      "source": [
        "nums = [2, 1, 3, 1, 2, 4, 4, 2, 1, 2]\n",
        "longest_palindrome(nums)"
      ],
      "metadata": {
        "colab": {
          "base_uri": "https://localhost:8080/"
        },
        "id": "NXjdZZWJAz3_",
        "outputId": "2073da1b-d5ab-46dc-a624-36bb1e70fffe"
      },
      "execution_count": null,
      "outputs": [
        {
          "output_type": "execute_result",
          "data": {
            "text/plain": [
              "1"
            ]
          },
          "metadata": {},
          "execution_count": 2
        }
      ]
    },
    {
      "cell_type": "markdown",
      "source": [
        "#이걸 다시하게 되는구나..."
      ],
      "metadata": {
        "id": "U5SJG7RhY1PA"
      }
    },
    {
      "cell_type": "code",
      "source": [
        "nums = [1, 4, 2, 3, 3, 1, 1, 2, 5]"
      ],
      "metadata": {
        "id": "LySm_8MJY5tA"
      },
      "execution_count": null,
      "outputs": []
    },
    {
      "cell_type": "code",
      "source": [
        "i = 3"
      ],
      "metadata": {
        "id": "f_CwqlHJY7DV"
      },
      "execution_count": null,
      "outputs": []
    },
    {
      "cell_type": "code",
      "source": [
        "n = len(nums)\n",
        "if n == 1:\n",
        "  print(1)"
      ],
      "metadata": {
        "id": "SCjVpc_dY6_4"
      },
      "execution_count": null,
      "outputs": []
    },
    {
      "cell_type": "code",
      "source": [
        "befo_odd = nums[:i]\n",
        "befo_even = nums[:i+1]\n",
        "afte = nums[i+1:]\n",
        "\n",
        "print(befo_odd, befo_even, afte)"
      ],
      "metadata": {
        "id": "uIIR_f1LY69i",
        "outputId": "d9fa6524-15fa-4059-b99a-ba5c14491444",
        "colab": {
          "base_uri": "https://localhost:8080/"
        }
      },
      "execution_count": null,
      "outputs": [
        {
          "output_type": "stream",
          "name": "stdout",
          "text": [
            "[1, 4, 2] [1, 4, 2, 3] [3, 1, 1, 2, 5]\n"
          ]
        }
      ]
    },
    {
      "cell_type": "code",
      "source": [
        "b1, a1 = len(befo_odd), len(afte)\n",
        "print(b1, a1)"
      ],
      "metadata": {
        "id": "Cn7-55RZY660",
        "outputId": "295a0e53-876f-4cc4-addc-988107827ebc",
        "colab": {
          "base_uri": "https://localhost:8080/"
        }
      },
      "execution_count": null,
      "outputs": [
        {
          "output_type": "stream",
          "name": "stdout",
          "text": [
            "3 5\n"
          ]
        }
      ]
    },
    {
      "cell_type": "code",
      "source": [
        "if b1 > a1:\n",
        "  befo_odd = befo_odd[:-a1-1:-1]\n",
        "  afte_odd = afte.copy()\n",
        "\n",
        "  print(befo_odd, afte_odd)\n",
        "  print(1)\n",
        "\n",
        "elif a1 > b1:\n",
        "  afte_odd = afte[b1-1::-1]\n",
        "  befo_odd.reverse()\n",
        "  afte_odd.reverse()\n",
        "\n",
        "  print(befo_odd, afte_odd)#\n",
        "  print(2)#\n",
        "\n",
        "else:\n",
        "  afte_odd = afte.copy()\n",
        "  befo_odd.reverse()\n",
        "\n",
        "  print(3)\n",
        "  print(befo_odd, afte_odd)"
      ],
      "metadata": {
        "id": "7D6ahECmY64t",
        "outputId": "ad3f45bc-7db3-4fef-80c3-8950a74528e2",
        "colab": {
          "base_uri": "https://localhost:8080/"
        }
      },
      "execution_count": null,
      "outputs": [
        {
          "output_type": "stream",
          "name": "stdout",
          "text": [
            "[2, 4, 1] [3, 1, 1]\n",
            "2\n"
          ]
        }
      ]
    },
    {
      "cell_type": "code",
      "source": [
        "b2, a2 = len(befo_even), len(afte)\n",
        "print(b2, a2)"
      ],
      "metadata": {
        "id": "wepTvHVzY6yI",
        "outputId": "c45c2c6a-4853-420f-c440-8bff7c0f97f4",
        "colab": {
          "base_uri": "https://localhost:8080/"
        }
      },
      "execution_count": null,
      "outputs": [
        {
          "output_type": "stream",
          "name": "stdout",
          "text": [
            "4 5\n"
          ]
        }
      ]
    },
    {
      "cell_type": "code",
      "source": [
        "if b2 > a2:\n",
        "  befo_even = befo_even[:-a2-1:-1]\n",
        "  afte_even = afte.copy()\n",
        "\n",
        "  print(befo_even, afte_even)\n",
        "  print(1)\n",
        "\n",
        "elif a2 > b2:\n",
        "  afte_even = afte[b2-1::-1]\n",
        "  befo_even.reverse()\n",
        "  afte_even.reverse()\n",
        "\n",
        "  print(befo_even, afte_even)\n",
        "  print(2)\n",
        "\n",
        "else:\n",
        "  afte_even = afte.copy()\n",
        "  befo_even.reverse()\n",
        "  \n",
        "  print(befo_even, afte_even)\n",
        "  print(3)\n"
      ],
      "metadata": {
        "id": "WYZ0dY9JY6vL",
        "outputId": "45be9712-0c8a-4ac1-b038-367c1720a50a",
        "colab": {
          "base_uri": "https://localhost:8080/"
        }
      },
      "execution_count": null,
      "outputs": [
        {
          "output_type": "stream",
          "name": "stdout",
          "text": [
            "[3, 2, 4, 1] [3, 1, 1, 2]\n",
            "2\n"
          ]
        }
      ]
    },
    {
      "cell_type": "code",
      "source": [
        "P_length = []\n",
        "print(P_length)"
      ],
      "metadata": {
        "id": "7enhRPTDY6qH",
        "outputId": "25b49f4f-5473-49ab-ca05-e4d8ac9ee744",
        "colab": {
          "base_uri": "https://localhost:8080/"
        }
      },
      "execution_count": null,
      "outputs": [
        {
          "output_type": "stream",
          "name": "stdout",
          "text": [
            "[]\n"
          ]
        }
      ]
    },
    {
      "cell_type": "code",
      "source": [
        "n=0\n",
        "for k in befo_odd:\n",
        "  if k == afte_odd[n]:\n",
        "     n += 1\n",
        "  else:\n",
        "    break\n",
        "P_length.append(n*2+1)\n",
        "\n",
        "print(P_length)"
      ],
      "metadata": {
        "id": "UqQP2v3UY6n-",
        "outputId": "e168b16c-31a8-4fb9-c247-7423a7e206de",
        "colab": {
          "base_uri": "https://localhost:8080/"
        }
      },
      "execution_count": null,
      "outputs": [
        {
          "output_type": "stream",
          "name": "stdout",
          "text": [
            "[1]\n"
          ]
        }
      ]
    },
    {
      "cell_type": "code",
      "source": [
        "n=0\n",
        "for k in befo_even:\n",
        "   if k == afte_even[n]:\n",
        "      n += 1\n",
        "   else:\n",
        "      break\n",
        "P_length.append(n*2)\n",
        "\n",
        "print(P_length)"
      ],
      "metadata": {
        "id": "Uw2UkVc1Y6lG",
        "outputId": "46d20e0a-0069-438b-c5d5-de40ac06eda8",
        "colab": {
          "base_uri": "https://localhost:8080/"
        }
      },
      "execution_count": null,
      "outputs": [
        {
          "output_type": "stream",
          "name": "stdout",
          "text": [
            "[1, 2]\n"
          ]
        }
      ]
    },
    {
      "cell_type": "code",
      "source": [
        "print(max(P_length))"
      ],
      "metadata": {
        "id": "BWCyjePjY6iB",
        "outputId": "c13fae5f-dd1a-4cc9-f83f-842568c61135",
        "colab": {
          "base_uri": "https://localhost:8080/"
        }
      },
      "execution_count": null,
      "outputs": [
        {
          "output_type": "stream",
          "name": "stdout",
          "text": [
            "2\n"
          ]
        }
      ]
    },
    {
      "cell_type": "markdown",
      "source": [
        "#다시 수정한 코드, 9/29 18시 수정"
      ],
      "metadata": {
        "id": "6GuTREUvfDtk"
      }
    },
    {
      "cell_type": "code",
      "source": [
        "nums = [2, 1, 3, 1, 2, 4, 4, 2, 1, 2]"
      ],
      "metadata": {
        "id": "bfRTvor8hBP7"
      },
      "execution_count": null,
      "outputs": []
    },
    {
      "cell_type": "code",
      "source": [
        "n = len(nums)  \n",
        "for i in range(n):\n",
        "        befo_odd = nums[:i]\n",
        "        befo_even = nums[:i+1]\n",
        "        afte = nums[i+1:]\n",
        "        \n",
        "        b1, a1 = len(befo_odd), len(afte)\n",
        "        if b1 > a1:\n",
        "          befo_odd = befo_odd[:-a1-1:-1]\n",
        "          afte_odd = afte.copy()\n",
        "\n",
        "        elif a1 > b1:\n",
        "          afte_odd = afte[b1-1::-1]\n",
        "          befo_odd.reverse()\n",
        "          afte_odd.reverse()\n",
        "\n",
        "        else:\n",
        "          afte_odd = afte.copy()\n",
        "          befo_odd.reverse()\n",
        "        \n",
        "        b2, a2 = len(befo_even), len(afte)\n",
        "        if b2 > a2:\n",
        "          befo_even = befo_even[:-a2-1:-1]\n",
        "          afte_even = afte.copy()\n",
        "\n",
        "        elif a2 > b2:\n",
        "          afte_even = afte[b2-1::-1]\n",
        "          befo_even.reverse()\n",
        "          afte_even.reverse()\n",
        "\n",
        "        else:\n",
        "          afte_even = afte.copy()\n",
        "          befo_even.reverse()\n",
        "            \n",
        "        P_length = []\n",
        "        \n",
        "        n1=0\n",
        "        for k in befo_odd:\n",
        "          if k == afte_odd[n1]:\n",
        "             n1 += 1\n",
        "          else:\n",
        "            break\n",
        "        P_length.append(n1*2+1)\n",
        "        \n",
        "        n2=0\n",
        "        for k in befo_even:\n",
        "           if k == afte_even[n2]:\n",
        "              n2 += 1\n",
        "           else:\n",
        "              break\n",
        "        P_length.append(n2*2)\n",
        "\n",
        "print(max(P_length))"
      ],
      "metadata": {
        "id": "3XBZUx_bY6fd",
        "outputId": "2da0aa3b-414b-4f13-a8f8-49ac7c82e9dd",
        "colab": {
          "base_uri": "https://localhost:8080/"
        }
      },
      "execution_count": null,
      "outputs": [
        {
          "output_type": "stream",
          "name": "stdout",
          "text": [
            "1\n"
          ]
        }
      ]
    },
    {
      "cell_type": "code",
      "source": [
        "range(9)"
      ],
      "metadata": {
        "id": "4vzAkP2PY6dW",
        "outputId": "cfcb11f9-4fb5-4e65-c723-eef48f18643e",
        "colab": {
          "base_uri": "https://localhost:8080/"
        }
      },
      "execution_count": null,
      "outputs": [
        {
          "output_type": "execute_result",
          "data": {
            "text/plain": [
              "range(0, 9)"
            ]
          },
          "metadata": {},
          "execution_count": 95
        }
      ]
    },
    {
      "cell_type": "markdown",
      "source": [
        "#진짜 되는 코드!"
      ],
      "metadata": {
        "id": "o1ATX79Fk2ZU"
      }
    },
    {
      "cell_type": "code",
      "source": [
        "def longest_palindrome(nums):\n",
        "    P_length = []\n",
        "    n = len(nums)\n",
        "    if n == 1:\n",
        "        return 1\n",
        "   \n",
        "    for i in range(n):\n",
        "        #print(f'i입니다: {i}')\n",
        "        befo_odd = nums[:i]\n",
        "        befo_even = nums[:i+1]\n",
        "        afte = nums[i+1:]\n",
        "        #print(befo_odd, befo_even, afte)#\n",
        "        \n",
        "        b1, a1 = len(befo_odd), len(afte)\n",
        "        #print(b1, a1)#\n",
        "        if b1 > a1:\n",
        "          befo_odd = befo_odd[:-a1-1:-1]\n",
        "          afte_odd = afte.copy()\n",
        "          #print(befo_odd, afte_odd)#\n",
        "          #print(1)#\n",
        "\n",
        "        elif a1 > b1:\n",
        "          afte_odd = afte[b1-1::-1]\n",
        "          befo_odd.reverse()\n",
        "          afte_odd.reverse()\n",
        "          #print(befo_odd, afte_odd)#\n",
        "          #print(2)#\n",
        "        \n",
        "        else:\n",
        "          afte_odd = afte.copy()\n",
        "          befo_odd.reverse()\n",
        "          #print(befo_odd, afte_odd)#\n",
        "          #print(3)#\n",
        "        \n",
        "        \n",
        "        b2, a2 = len(befo_even), len(afte)\n",
        "        #print(b2, a2)#\n",
        "        if b2 > a2:\n",
        "          befo_even = befo_even[:-a2-1:-1]\n",
        "          afte_even = afte.copy()\n",
        "          #print(befo_even, afte_even)#\n",
        "          #print(1)#\n",
        "\n",
        "        elif a2 > b2:\n",
        "          afte_even = afte[b2-1::-1]\n",
        "          befo_even.reverse()\n",
        "          afte_even.reverse()\n",
        "          #print(befo_even, afte_even)#\n",
        "          #print(2)#\n",
        "        \n",
        "\n",
        "        else:\n",
        "          afte_even = afte.copy()\n",
        "          befo_even.reverse()\n",
        "          #print(befo_even, afte_even)#\n",
        "          #print(3)#\n",
        "        \n",
        "        n1=0\n",
        "        for k in befo_odd:\n",
        "          if k == afte_odd[n1]:\n",
        "             n1 += 1\n",
        "          else:\n",
        "            break\n",
        "        P_length.append(n1*2+1)\n",
        "        #print(P_length)#\n",
        "        \n",
        "        n2=0\n",
        "        for k in befo_even:\n",
        "           if k == afte_even[n2]:\n",
        "              n2 += 1\n",
        "           else:\n",
        "              break\n",
        "        P_length.append(n2*2)\n",
        "        #print(P_length)#\n",
        "\n",
        "    return max(P_length)"
      ],
      "metadata": {
        "id": "u4UvdXdDY6aZ"
      },
      "execution_count": null,
      "outputs": []
    },
    {
      "cell_type": "markdown",
      "source": [
        "주석 뗀 거"
      ],
      "metadata": {
        "id": "tv-shlirlMYw"
      }
    },
    {
      "cell_type": "code",
      "source": [
        "def longest_palindrome(nums):\n",
        "    P_length = []\n",
        "    n = len(nums)\n",
        "    if n == 1:\n",
        "        return 1\n",
        "   \n",
        "    for i in range(n):\n",
        "        befo_odd = nums[:i]\n",
        "        befo_even = nums[:i+1]\n",
        "        afte = nums[i+1:]\n",
        "        \n",
        "        b1, a1 = len(befo_odd), len(afte)\n",
        "        if b1 > a1:\n",
        "          befo_odd = befo_odd[:-a1-1:-1]\n",
        "          afte_odd = afte.copy()\n",
        "\n",
        "        elif a1 > b1:\n",
        "          afte_odd = afte[b1-1::-1]\n",
        "          befo_odd.reverse()\n",
        "          afte_odd.reverse()\n",
        "        \n",
        "        else:\n",
        "          afte_odd = afte.copy()\n",
        "          befo_odd.reverse()\n",
        "        \n",
        "        b2, a2 = len(befo_even), len(afte)\n",
        "        if b2 > a2:\n",
        "          befo_even = befo_even[:-a2-1:-1]\n",
        "          afte_even = afte.copy()\n",
        "\n",
        "        elif a2 > b2:\n",
        "          afte_even = afte[b2-1::-1]\n",
        "          befo_even.reverse()\n",
        "          afte_even.reverse()\n",
        "\n",
        "        else:\n",
        "          afte_even = afte.copy()\n",
        "          befo_even.reverse()\n",
        "        \n",
        "        n1=0\n",
        "        for k in befo_odd:\n",
        "          if k == afte_odd[n1]:\n",
        "             n1 += 1\n",
        "          else:\n",
        "            break\n",
        "        P_length.append(n1*2+1)\n",
        "        \n",
        "        n2=0\n",
        "        for k in befo_even:\n",
        "           if k == afte_even[n2]:\n",
        "              n2 += 1\n",
        "           else:\n",
        "              break\n",
        "        P_length.append(n2*2)\n",
        "\n",
        "    return max(P_length)"
      ],
      "metadata": {
        "id": "Jt-7tkrVY6YQ"
      },
      "execution_count": null,
      "outputs": []
    },
    {
      "cell_type": "markdown",
      "source": [
        "#함수를 반복문으로 바꾼 것"
      ],
      "metadata": {
        "id": "EF0LD6o2CDJJ"
      }
    },
    {
      "cell_type": "code",
      "source": [
        "def longest_palindrome(nums):\n",
        "    P_length = []\n",
        "    n = len(nums)\n",
        "    if n == 1:\n",
        "        return 1\n",
        "   \n",
        "    for i in range(n):\n",
        "        befo_odd = nums[:i]\n",
        "        befo_even = nums[:i+1]\n",
        "        afte = nums[i+1:]\n",
        "        \n",
        "        b1, a1 = len(befo_odd), len(afte)\n",
        "        if b1 > a1:\n",
        "          b_odd = befo_odd[:-a1-1:-1]\n",
        "          a_odd = []\n",
        "          for i in afte:\n",
        "            a_odd.append(i)\n",
        "\n",
        "        elif a1 > b1:\n",
        "          b_odd = []\n",
        "          for i in range(len(befo_odd)-1,-1,-1):\n",
        "            b_odd.append(befo_odd[i])\n",
        "          a_odd = []\n",
        "          for i in range(0,b1):\n",
        "            a_odd.append(afte[i])\n",
        "        \n",
        "        else:\n",
        "          a_odd = []\n",
        "          for i in afte:\n",
        "            a_odd.append(i)\n",
        "          b_odd = []\n",
        "          for i in range(len(befo_odd)-1,-1,-1):\n",
        "            b_odd.append(befo_odd[i])\n",
        "        \n",
        "        b2, a2 = len(befo_even), len(afte)\n",
        "        if b2 > a2:\n",
        "          b_even = befo_even[:-a2-1:-1]\n",
        "          a_even = []\n",
        "          for i in afte:\n",
        "            a_even.append(i)        \n",
        "            \n",
        "        elif a2 > b2:\n",
        "          b_even = []\n",
        "          for i in range(len(befo_even)-1,-1,-1):\n",
        "            b_even.append(befo_even[i])\n",
        "          a_even = []\n",
        "          for i in range(0, b2):\n",
        "            a_even.append(afte[i])\n",
        "\n",
        "        else:\n",
        "          a_even = []\n",
        "          for i in afte:\n",
        "            a_even.append(i)\n",
        "          b_even = []\n",
        "          for i in range(len(befo_even)-1,-1,-1):\n",
        "            b_even.append(befo_even[i])\n",
        "        \n",
        "        n1=0\n",
        "        for k in b_odd:\n",
        "          if k == a_odd[n1]:\n",
        "             n1 += 1\n",
        "          else:\n",
        "            break\n",
        "        P_length.append(n1*2+1)\n",
        "        \n",
        "        n2=0\n",
        "        for k in b_even:\n",
        "           if k == a_even[n2]:\n",
        "              n2 += 1\n",
        "           else:\n",
        "              break\n",
        "        P_length.append(n2*2)\n",
        "\n",
        "    return max(P_length)"
      ],
      "metadata": {
        "id": "FS96nYC-Y6WA"
      },
      "execution_count": null,
      "outputs": []
    },
    {
      "cell_type": "markdown",
      "source": [
        "결론: 함수 쓰는 게 훨씬 빠름"
      ],
      "metadata": {
        "id": "hQ24DyBnFFW3"
      }
    },
    {
      "cell_type": "code",
      "source": [
        "nums = [2, 1, 3, 1, 2, 4, 4, 2, 1, 2]"
      ],
      "metadata": {
        "id": "IGD8rEtlY6Sl"
      },
      "execution_count": null,
      "outputs": []
    },
    {
      "cell_type": "code",
      "source": [
        "import random\n",
        "\n",
        "sample = random.sample(range(10000), 10000)\n",
        "#new_sample = sample + sample[:-1]"
      ],
      "metadata": {
        "id": "-zd8_ryXFMLO"
      },
      "execution_count": null,
      "outputs": []
    },
    {
      "cell_type": "code",
      "source": [
        "import time\n",
        "\n",
        "start_time = time.time()\n",
        "a = longest_palindrome(sample+nums)\n",
        "end_time = time.time()\n",
        "print(end_time - start_time)\n",
        "\n",
        "print(a)"
      ],
      "metadata": {
        "colab": {
          "base_uri": "https://localhost:8080/"
        },
        "id": "HAMtN2jnFMHk",
        "outputId": "b314ba3d-783b-4bcd-be0a-aac0509c1a63"
      },
      "execution_count": null,
      "outputs": [
        {
          "output_type": "stream",
          "name": "stdout",
          "text": [
            "0.7868866920471191\n",
            "6\n"
          ]
        }
      ]
    },
    {
      "cell_type": "markdown",
      "source": [
        "#경우를 나눠서"
      ],
      "metadata": {
        "id": "aJsGN-jcFgb-"
      }
    },
    {
      "cell_type": "code",
      "source": [
        "nums = [2, 1, 3, 1, 2, 4, 4, 2, 1, 2]\n",
        "n = len(nums)\n",
        "for i in range(n):\n",
        "  if i >= 1 and i <= n-2:\n",
        "    if nums[i-1] == nums[i+1]: \n",
        "      print('odd')  #이 경우에만 짝수경우 돌림\n",
        "  else:\n",
        "    continue"
      ],
      "metadata": {
        "colab": {
          "base_uri": "https://localhost:8080/"
        },
        "id": "3LJnBnzWF-Bk",
        "outputId": "bad72c4d-4e03-4f7b-a080-ba6a83594769"
      },
      "execution_count": null,
      "outputs": [
        {
          "output_type": "stream",
          "name": "stdout",
          "text": [
            "odd\n",
            "odd\n"
          ]
        }
      ]
    },
    {
      "cell_type": "code",
      "source": [
        "nums = [2, 1, 3, 1, 2, 4, 4, 2, 1, 2]\n",
        "n = len(nums)\n",
        "for i in range(n):\n",
        "  if i >= 1 and i <= n-2:\n",
        "    if nums[i] == nums[i-1] or nums[i] == nums[i+1]:\n",
        "      print('even')  #이 경우에만 홀수경우 돌림\n",
        "  else:\n",
        "    continue"
      ],
      "metadata": {
        "colab": {
          "base_uri": "https://localhost:8080/"
        },
        "id": "rXnZHQ00HFTJ",
        "outputId": "2bc9b599-d4a5-4973-c890-f9802df25309"
      },
      "execution_count": null,
      "outputs": [
        {
          "output_type": "stream",
          "name": "stdout",
          "text": [
            "even\n",
            "even\n"
          ]
        }
      ]
    },
    {
      "cell_type": "code",
      "source": [
        "nums = [2, 1, 3, 1, 2, 4, 4, 2, 1, 2]\n",
        "n = len(nums)\n",
        "\n",
        "for i in range(n):\n",
        "  if i >= 1 and i <= n-2:\n",
        "    if nums[i-1] == nums[i+1]: \n",
        "      print('odd')\n",
        "    elif nums[i] == nums[i-1] or nums[i] == nums[i+1]:\n",
        "      print('even')"
      ],
      "metadata": {
        "colab": {
          "base_uri": "https://localhost:8080/"
        },
        "id": "VwrYmp1dKav-",
        "outputId": "49bece73-1e96-491a-8292-f0316c4edc96"
      },
      "execution_count": null,
      "outputs": [
        {
          "output_type": "stream",
          "name": "stdout",
          "text": [
            "odd\n",
            "even\n",
            "even\n",
            "odd\n"
          ]
        }
      ]
    },
    {
      "cell_type": "markdown",
      "source": [
        "짝홀수 실행할 코드 나누기"
      ],
      "metadata": {
        "id": "TOv3-F1uH3VM"
      }
    },
    {
      "cell_type": "code",
      "source": [
        "#홀수\n",
        "befo_odd = nums[:i]\n",
        "afte = nums[i+1:]\n",
        "\n",
        "b1, a1 = len(befo_odd), len(afte)\n",
        "if b1 > a1:\n",
        "  befo_odd = befo_odd[:-a1-1:-1]\n",
        "  afte_odd = afte.copy()\n",
        "\n",
        "elif a1 > b1:\n",
        "  afte_odd = afte[0:b1]\n",
        "  befo_odd.reverse()\n",
        "        \n",
        "else:\n",
        "  afte_odd = afte.copy()\n",
        "  befo_odd.reverse()\n",
        "\n",
        "n1=0\n",
        "for k in befo_odd:\n",
        "  if k == afte_odd[n1]:\n",
        "    n1 += 1\n",
        "  else:\n",
        "    break\n",
        "P_length.append(n1*2+1)"
      ],
      "metadata": {
        "id": "r8__joeBH1Kq",
        "outputId": "5f98c901-8691-4bb1-81fe-9a6a99281d11",
        "colab": {
          "base_uri": "https://localhost:8080/",
          "height": 211
        }
      },
      "execution_count": null,
      "outputs": [
        {
          "output_type": "error",
          "ename": "NameError",
          "evalue": "ignored",
          "traceback": [
            "\u001b[0;31m---------------------------------------------------------------------------\u001b[0m",
            "\u001b[0;31mNameError\u001b[0m                                 Traceback (most recent call last)",
            "\u001b[0;32m<ipython-input-5-3747f8efa42a>\u001b[0m in \u001b[0;36m<module>\u001b[0;34m\u001b[0m\n\u001b[1;32m     22\u001b[0m   \u001b[0;32melse\u001b[0m\u001b[0;34m:\u001b[0m\u001b[0;34m\u001b[0m\u001b[0;34m\u001b[0m\u001b[0m\n\u001b[1;32m     23\u001b[0m     \u001b[0;32mbreak\u001b[0m\u001b[0;34m\u001b[0m\u001b[0;34m\u001b[0m\u001b[0m\n\u001b[0;32m---> 24\u001b[0;31m \u001b[0mP_length\u001b[0m\u001b[0;34m.\u001b[0m\u001b[0mappend\u001b[0m\u001b[0;34m(\u001b[0m\u001b[0mn1\u001b[0m\u001b[0;34m*\u001b[0m\u001b[0;36m2\u001b[0m\u001b[0;34m+\u001b[0m\u001b[0;36m1\u001b[0m\u001b[0;34m)\u001b[0m\u001b[0;34m\u001b[0m\u001b[0;34m\u001b[0m\u001b[0m\n\u001b[0m",
            "\u001b[0;31mNameError\u001b[0m: name 'P_length' is not defined"
          ]
        }
      ]
    },
    {
      "cell_type": "code",
      "source": [
        "#짝수\n",
        "befo_even = nums[:i+1]\n",
        "afte = nums[i+1:]\n",
        "\n",
        "b2, a2 = len(befo_even), len(afte)\n",
        "if b2 > a2:\n",
        "  befo_even = befo_even[:-a2-1:-1]\n",
        "  afte_even = afte.copy()\n",
        "\n",
        "elif a2 > b2:\n",
        "  afte_even = afte[0:b2]\n",
        "  befo_even.reverse()\n",
        "\n",
        "else:\n",
        "  afte_even = afte.copy()\n",
        "  befo_even.reverse()\n",
        "\n",
        "n2=0\n",
        "for k in befo_even:\n",
        "  if k == afte_even[n2]:\n",
        "    n2 += 1\n",
        "  else:\n",
        "    break\n",
        "P_length.append(n2*2)"
      ],
      "metadata": {
        "id": "kiVeBOIsI5wV"
      },
      "execution_count": null,
      "outputs": []
    },
    {
      "cell_type": "markdown",
      "source": [
        "코드 합쳐 완성하기"
      ],
      "metadata": {
        "id": "zn0iHezfJvZh"
      }
    },
    {
      "cell_type": "code",
      "source": [
        "def longest_palindrome(nums):\n",
        "    P_length = []\n",
        "    n = len(nums)\n",
        "    if n == 1:\n",
        "        return 1\n",
        "\n",
        "    if n == 2:      #수정됨, [5,5]같은 리스트를 처리 못했음\n",
        "       if nums[0] == nums[1]:\n",
        "         return 2\n",
        "       else:\n",
        "         return 1\n",
        "    \n",
        "    for i in range(n):\n",
        "      if i >= 1 and i <= n-2:\n",
        "        if nums[i-1] == nums[i+1]: \n",
        "          befo_odd = nums[:i]\n",
        "          afte = nums[i+1:]\n",
        "\n",
        "          b1, a1 = len(befo_odd), len(afte)\n",
        "          if b1 > a1:\n",
        "            befo_odd = befo_odd[:-a1-1:-1]\n",
        "            afte_odd = afte.copy()\n",
        "\n",
        "          elif a1 > b1:\n",
        "            afte_odd = afte[0:b1]\n",
        "            befo_odd.reverse()\n",
        "                  \n",
        "          else:\n",
        "            afte_odd = afte.copy()\n",
        "            befo_odd.reverse()\n",
        "\n",
        "          n1=0\n",
        "          for k in befo_odd:\n",
        "            if k == afte_odd[n1]:\n",
        "              n1 += 1\n",
        "            else:\n",
        "              break\n",
        "          P_length.append(n1*2+1)\n",
        "\n",
        "        elif nums[i] == nums[i-1] or nums[i] == nums[i+1]:\n",
        "          befo_even = nums[:i+1]\n",
        "          afte = nums[i+1:]\n",
        "\n",
        "          b2, a2 = len(befo_even), len(afte)\n",
        "          if b2 > a2:\n",
        "            befo_even = befo_even[:-a2-1:-1]\n",
        "            afte_even = afte.copy()\n",
        "\n",
        "          elif a2 > b2:\n",
        "            afte_even = afte[0:b2]\n",
        "            befo_even.reverse()\n",
        "\n",
        "          else:\n",
        "            afte_even = afte.copy()\n",
        "            befo_even.reverse()\n",
        "\n",
        "          n2=0\n",
        "          for k in befo_even:\n",
        "            if k == afte_even[n2]:\n",
        "              n2 += 1\n",
        "            else:\n",
        "              break\n",
        "          P_length.append(n2*2)\n",
        "\n",
        "    return max(P_length)"
      ],
      "metadata": {
        "id": "NRqJsktpFMFw"
      },
      "execution_count": null,
      "outputs": []
    },
    {
      "cell_type": "markdown",
      "source": [
        "마지막 것이 훨씬 빠르다"
      ],
      "metadata": {
        "id": "UXHE8qUvLFmJ"
      }
    },
    {
      "cell_type": "code",
      "source": [
        "nums = [5,5]\n",
        "longest_palindrome(nums)"
      ],
      "metadata": {
        "id": "wsTTl1JjLnsu",
        "outputId": "e40ce1d7-0760-44d8-a15d-11b6316bae19",
        "colab": {
          "base_uri": "https://localhost:8080/"
        }
      },
      "execution_count": 5,
      "outputs": [
        {
          "output_type": "execute_result",
          "data": {
            "text/plain": [
              "2"
            ]
          },
          "metadata": {},
          "execution_count": 5
        }
      ]
    },
    {
      "cell_type": "code",
      "source": [
        "import random\n",
        "\n",
        "sample = random.sample(range(100000), 100000)\n",
        "#new_sample = sample + sample[:-1]"
      ],
      "metadata": {
        "id": "BV9RuGErLueG"
      },
      "execution_count": 6,
      "outputs": []
    },
    {
      "cell_type": "code",
      "source": [
        "import time\n",
        "\n",
        "start_time = time.time()\n",
        "a = longest_palindrome(sample+nums)\n",
        "end_time = time.time()\n",
        "print(end_time - start_time)\n",
        "\n",
        "print(a)"
      ],
      "metadata": {
        "id": "ZevI6Pn5LvV9",
        "outputId": "d767bcd7-540e-43d9-f22c-4bd6d0219e01",
        "colab": {
          "base_uri": "https://localhost:8080/"
        }
      },
      "execution_count": 14,
      "outputs": [
        {
          "output_type": "stream",
          "name": "stdout",
          "text": [
            "0.0795745849609375\n",
            "2\n"
          ]
        }
      ]
    },
    {
      "cell_type": "code",
      "source": [
        "def longest_palindrome(nums):\n",
        "    P_length = []\n",
        "    n = len(nums)\n",
        "    if nums == nums[::-1]:\n",
        "      return len(nums)\n",
        "    \n",
        "    for i in range(n):\n",
        "      if i >= 1 and i <= n-2:\n",
        "        if nums[i-1] == nums[i+1]: \n",
        "          befo_odd = nums[:i]\n",
        "          afte = nums[i+1:]\n",
        "\n",
        "          b1, a1 = len(befo_odd), len(afte)\n",
        "          if b1 > a1:\n",
        "            befo_odd = befo_odd[:-a1-1:-1]\n",
        "            afte_odd = afte.copy()\n",
        "\n",
        "          elif a1 > b1:\n",
        "            afte_odd = afte[0:b1]\n",
        "            befo_odd.reverse()\n",
        "                  \n",
        "          else:\n",
        "            afte_odd = afte.copy()\n",
        "            befo_odd.reverse()\n",
        "\n",
        "          n1=0\n",
        "          for k in befo_odd:\n",
        "            if k == afte_odd[n1]:\n",
        "              n1 += 1\n",
        "            else:\n",
        "              break\n",
        "          P_length.append(n1*2+1)\n",
        "\n",
        "        elif nums[i] == nums[i-1] or nums[i] == nums[i+1]:\n",
        "          befo_even = nums[:i+1]\n",
        "          afte = nums[i+1:]\n",
        "\n",
        "          b2, a2 = len(befo_even), len(afte)\n",
        "          if b2 > a2:\n",
        "            befo_even = befo_even[:-a2-1:-1]\n",
        "            afte_even = afte.copy()\n",
        "\n",
        "          elif a2 > b2:\n",
        "            afte_even = afte[0:b2]\n",
        "            befo_even.reverse()\n",
        "\n",
        "          else:\n",
        "            afte_even = afte.copy()\n",
        "            befo_even.reverse()\n",
        "\n",
        "          n2=0\n",
        "          for k in befo_even:\n",
        "            if k == afte_even[n2]:\n",
        "              n2 += 1\n",
        "            else:\n",
        "              break\n",
        "          P_length.append(n2*2)\n",
        "\n",
        "    return max(P_length)"
      ],
      "metadata": {
        "id": "I8by14CA0Jav"
      },
      "execution_count": null,
      "outputs": []
    },
    {
      "cell_type": "markdown",
      "source": [
        "#함수 넣어 수정"
      ],
      "metadata": {
        "id": "EJR1jUEJkso6"
      }
    },
    {
      "cell_type": "code",
      "source": [
        "def length_to_same(befo, afte):\n",
        "    b,a = len(befo), len(afte)\n",
        "    if b > a:\n",
        "      befo = befo[:-a-1:-1]\n",
        "    elif a > b:\n",
        "      afte = afte[0:b]\n",
        "      befo.reverse()\n",
        "    \n",
        "    else:\n",
        "      befo.reverse()\n",
        "\n",
        "    return befo, afte"
      ],
      "metadata": {
        "id": "mGWn4vuokvgj"
      },
      "execution_count": 2,
      "outputs": []
    },
    {
      "cell_type": "code",
      "source": [
        "def longest_palindrome(nums):\n",
        "    P_length = []\n",
        "    n = len(nums)\n",
        "\n",
        "    if nums == nums[::-1]:           #중요 부분\n",
        "      return len(nums)\n",
        "    \n",
        "    for i in range(n):\n",
        "      if i >= 1 and i <= n-2:\n",
        "        if nums[i-1] == nums[i+1]: \n",
        "          befo_odd = nums[:i]\n",
        "          afte = nums[i+1:]\n",
        "\n",
        "          befo_odd, afte_odd = length_to_same(befo_odd, afte)\n",
        "          n1 = give_me_result(befo_odd, afte_odd)\n",
        "          P_length.append(n1*2+1)\n",
        "\n",
        "        elif nums[i] == nums[i-1] or nums[i] == nums[i+1]:\n",
        "          befo_even = nums[:i+1]\n",
        "          afte = nums[i+1:]\n",
        "\n",
        "          befo_even, afte_even = length_to_same(befo_even, afte)\n",
        "          n2 = give_me_result(befo_even, afte_even)\n",
        "          P_length.append(n2*2)\n",
        "\n",
        "    return max(P_length)"
      ],
      "metadata": {
        "id": "gGNYdJgjkyj6"
      },
      "execution_count": 13,
      "outputs": []
    },
    {
      "cell_type": "code",
      "source": [
        "def give_me_result(b,a):\n",
        "  n = 0\n",
        "  for i in b:\n",
        "    if i == a[n]:\n",
        "      n += 1\n",
        "    else:\n",
        "      break\n",
        "  return n"
      ],
      "metadata": {
        "id": "sGxlblwvlkFY"
      },
      "execution_count": 12,
      "outputs": []
    }
  ]
}