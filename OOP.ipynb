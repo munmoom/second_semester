{
  "nbformat": 4,
  "nbformat_minor": 0,
  "metadata": {
    "colab": {
      "provenance": [],
      "authorship_tag": "ABX9TyOMpK53hiQPKc4CHYTCpCik",
      "include_colab_link": true
    },
    "kernelspec": {
      "name": "python3",
      "display_name": "Python 3"
    },
    "language_info": {
      "name": "python"
    }
  },
  "cells": [
    {
      "cell_type": "markdown",
      "metadata": {
        "id": "view-in-github",
        "colab_type": "text"
      },
      "source": [
        "<a href=\"https://colab.research.google.com/github/munmoom/second_semester/blob/main/OOP.ipynb\" target=\"_parent\"><img src=\"https://colab.research.google.com/assets/colab-badge.svg\" alt=\"Open In Colab\"/></a>"
      ]
    },
    {
      "cell_type": "markdown",
      "source": [
        "### 절차지향이냐 객체지향이냐에 따라 나눈다"
      ],
      "metadata": {
        "id": "2qZ3r6V5CNN9"
      }
    },
    {
      "cell_type": "markdown",
      "source": [
        "## OOP\n",
        ": Object Oriented Programming\n",
        "\n",
        "object라는 개념에 기반\n",
        ": data(attribution)와 method(function)의 collection\n",
        "\n",
        "\n",
        "간단하거나 복잡한 것을 만드는 데 적합하다.\n",
        "코드 재사용이 가능해 생산성을 높인다.\n",
        "새로운 feature를 추가하는 것도 쉽다.\n",
        "생산, 유지비용을 줄인다."
      ],
      "metadata": {
        "id": "5JkRF8POlqYN"
      }
    },
    {
      "cell_type": "markdown",
      "source": [
        "## object(instance)\n",
        ": an entity(존재) in the real world, a particular instance of a class(클래스의 특정 사례), \n",
        "\n",
        "Instance(object와 혼용됨): Actual object created at runtime(코드실행시 만들어진다), class에서 정의했던 properties들에 실제 값이 생긴다\n",
        "\n",
        "## class\n",
        ": a template(형틀) or blueprint(청사진,설계도) for object, objects를 설계, 객체의 추상적 특징, 행동들을 정의\n",
        "\n",
        "\n",
        "class가 특성목록이면 object에는 그 목록에 대한 값이 들어있다."
      ],
      "metadata": {
        "id": "_NGgY9EymdL9"
      }
    },
    {
      "cell_type": "markdown",
      "source": [
        "object를 새로 만들고, 수정하고, 삭제함\n",
        "\n",
        "object는 파이썬에서 여러 데이터 형태로 나타난다.\n",
        "\n",
        "methods(set of procedures)가 object에 작용한다.\n",
        "\n",
        "object는 class의 instance"
      ],
      "metadata": {
        "id": "4LRxe8LkSb-v"
      }
    },
    {
      "cell_type": "markdown",
      "source": [
        "### 예) all of the methods of list objects\n",
        ": method라고 부른다. 리스트도 object."
      ],
      "metadata": {
        "id": "3esWP0L7oLRE"
      }
    },
    {
      "cell_type": "code",
      "source": [
        "print(type(\"string\"))\n",
        "print(type(1))"
      ],
      "metadata": {
        "colab": {
          "base_uri": "https://localhost:8080/"
        },
        "id": "sCJ9ykaGoaV8",
        "outputId": "c5d23cc5-c570-4ebb-dc99-8ff02e60c29d"
      },
      "execution_count": null,
      "outputs": [
        {
          "output_type": "stream",
          "name": "stdout",
          "text": [
            "<class 'str'>\n",
            "<class 'int'>\n"
          ]
        }
      ]
    },
    {
      "cell_type": "markdown",
      "source": [
        "## Basics of OOP\n"
      ],
      "metadata": {
        "id": "r0Lux-jKoaJz"
      }
    },
    {
      "cell_type": "markdown",
      "source": [
        "class variable과 class method는 optional하다."
      ],
      "metadata": {
        "id": "fk0Exgjlquh8"
      }
    },
    {
      "cell_type": "markdown",
      "source": [
        "class variable: variables that are shared by all instances of a class\n",
        "\n",
        "class variable은 모든 instance(object)들에 공유된다. 모든 instance에서 같다. class variable에 접근하려면 '.'를 이용한다.\n",
        "\n",
        "\n",
        "```\n",
        "class TestClass:    #class명은 소문자든 대문자든 상관없음\n",
        "  pass\n",
        "```\n",
        "\n",
        "\n",
        "\n",
        "```\n",
        "class Musician:\n",
        "  title = \"Rockstar\"   #class variable\n",
        "```\n",
        "\n"
      ],
      "metadata": {
        "id": "PLjSqroPr0AU"
      }
    },
    {
      "cell_type": "code",
      "source": [
        "class TestClass:    #class명은 소문자든 대문자든 상관없음\n",
        "  pass\n",
        "\n",
        "instance = TestClass()\n",
        "print(type(instance))\n",
        "print(instance)"
      ],
      "metadata": {
        "colab": {
          "base_uri": "https://localhost:8080/"
        },
        "id": "e-cd6nNApV50",
        "outputId": "d5cc7687-7719-4c8e-a6dd-b239c37d0e7e"
      },
      "execution_count": null,
      "outputs": [
        {
          "output_type": "stream",
          "name": "stdout",
          "text": [
            "<class '__main__.TestClass'>\n",
            "<__main__.TestClass object at 0x7feced95a130>\n"
          ]
        }
      ]
    },
    {
      "cell_type": "code",
      "source": [
        "class Musician:\n",
        "  title = \"Rockstar\"\n",
        "\n",
        "drummer = Musician()   #instantiation, drummer는 Musician(class)의 instance\n",
        "print(drummer.title)   #the \".\" operator is used to access class variable\n",
        "#class인 Musician에 있는 class variable title을 가져온다, 즉 \"Rockstar\""
      ],
      "metadata": {
        "colab": {
          "base_uri": "https://localhost:8080/"
        },
        "id": "O5Lul7KVp9OM",
        "outputId": "a17855fa-d799-4ffe-9a21-f4b932173448"
      },
      "execution_count": null,
      "outputs": [
        {
          "output_type": "stream",
          "name": "stdout",
          "text": [
            "Rockstar\n"
          ]
        }
      ]
    },
    {
      "cell_type": "code",
      "source": [
        "print(drummer)  #class Musician의 object라고 출력됨"
      ],
      "metadata": {
        "id": "Mk96vmHzUe-5",
        "outputId": "f26d56aa-2698-4adb-b400-0b3173393a00",
        "colab": {
          "base_uri": "https://localhost:8080/"
        }
      },
      "execution_count": null,
      "outputs": [
        {
          "output_type": "stream",
          "name": "stdout",
          "text": [
            "<__main__.Musician object at 0x7fecef4004c0>\n"
          ]
        }
      ]
    },
    {
      "cell_type": "code",
      "source": [
        "guitarist = Musician()\n",
        "print(Musician.title)"
      ],
      "metadata": {
        "id": "bWGtaLdYU3je",
        "outputId": "ba499112-7b34-4d5f-9f47-7379873fd519",
        "colab": {
          "base_uri": "https://localhost:8080/"
        }
      },
      "execution_count": null,
      "outputs": [
        {
          "output_type": "stream",
          "name": "stdout",
          "text": [
            "Rockstar\n"
          ]
        }
      ]
    },
    {
      "cell_type": "markdown",
      "source": [
        "Methods: function that works only with this class\n",
        "\n",
        "class 내에서만 작동하는 함수를 Method라고 한다\n",
        "\n",
        "첫 번째 인자로 항상 object(instance) pass\n",
        "\n",
        "method의 첫 번째 인자(arguments)는 self로 쓰는 것이 관습이다. 하지 않아도 클래스 정의에는 문제가 없지만 인스턴스를 생성해서 매서드를 호출할 때 문제가 발생.\n",
        "\n",
        "파이썬 메서드의 첫 번쨰 인자로 항상 인스턴스가 전달된다. self가 있으면 거기로 값이 들어가는데 없으면 오류가 남(인자가 없는데 하나를 받았다)\n",
        "\n",
        "self는 클래스 instance이다.\n",
        "\n",
        "### 호출방식\n",
        "\n",
        "인스턴스.매서드() : self없으면 인자 없는데 하나 받았다고 에러남. self 있으면 그냥 작동됨.\n",
        "\n",
        "클래스명.메서드(인스턴스) : self없어도 오류가 생기지 않음. self가 있으면 인자를 전달하라고 함\n",
        "(self가 클래스 instance니까 instance하나 만들어서 넣어주면 된다)\n",
        "\n",
        "```\n",
        "def explanation(self):\n",
        "  print(\"I an a {}!.format(self.title))   #self.은 class내에 있는 것일 때\n",
        "```\n",
        "\n"
      ],
      "metadata": {
        "id": "d3jq15nIpVmF"
      }
    },
    {
      "cell_type": "code",
      "source": [
        "class Musician:\n",
        "  title = \"Rockstar\"\n",
        "  def explanation(self):    #convention is to use self as the name of the first argument of all methods\n",
        "    print(\"I am a {}!\".format(self.title))  #self.찍어준다, class varianble에 접근. self도 instance\n",
        "\n",
        "drummer = Musician()   #instantiation\n",
        "drummer.explanation()  #the \".\" operator is used to access a method of an object"
      ],
      "metadata": {
        "colab": {
          "base_uri": "https://localhost:8080/"
        },
        "id": "_ovNV31krASz",
        "outputId": "f6057d8b-21da-4746-e6ef-76c86a4b4199"
      },
      "execution_count": null,
      "outputs": [
        {
          "output_type": "stream",
          "name": "stdout",
          "text": [
            "I am a Rockstar!\n"
          ]
        }
      ]
    },
    {
      "cell_type": "code",
      "source": [
        "Musician.explanation(drummer)   #클래스명.매서드(인스턴스)"
      ],
      "metadata": {
        "id": "kIv5q4dYYwYF",
        "outputId": "8ca545d1-6a26-4593-fb12-e5cbb78d7f13",
        "colab": {
          "base_uri": "https://localhost:8080/"
        }
      },
      "execution_count": null,
      "outputs": [
        {
          "output_type": "stream",
          "name": "stdout",
          "text": [
            "I am a Rockstar!\n"
          ]
        }
      ]
    },
    {
      "cell_type": "code",
      "source": [
        "Musician.explanation()   #에러남"
      ],
      "metadata": {
        "id": "6Cpx4ZJYY6xt",
        "outputId": "36c49e0c-6526-44c6-9760-14452bf5805b",
        "colab": {
          "base_uri": "https://localhost:8080/",
          "height": 172
        }
      },
      "execution_count": null,
      "outputs": [
        {
          "output_type": "error",
          "ename": "TypeError",
          "evalue": "ignored",
          "traceback": [
            "\u001b[0;31m---------------------------------------------------------------------------\u001b[0m",
            "\u001b[0;31mTypeError\u001b[0m                                 Traceback (most recent call last)",
            "\u001b[0;32m<ipython-input-11-18ed6c987f7f>\u001b[0m in \u001b[0;36m<module>\u001b[0;34m\u001b[0m\n\u001b[0;32m----> 1\u001b[0;31m \u001b[0mMusician\u001b[0m\u001b[0;34m.\u001b[0m\u001b[0mexplanation\u001b[0m\u001b[0;34m(\u001b[0m\u001b[0;34m)\u001b[0m\u001b[0;34m\u001b[0m\u001b[0;34m\u001b[0m\u001b[0m\n\u001b[0m",
            "\u001b[0;31mTypeError\u001b[0m: explanation() missing 1 required positional argument: 'self'"
          ]
        }
      ]
    },
    {
      "cell_type": "markdown",
      "source": [
        "예) Method example with self and other arguments"
      ],
      "metadata": {
        "id": "SVR7P4NHr8gk"
      }
    },
    {
      "cell_type": "code",
      "source": [
        "class Circle():\n",
        "  pi = 3.14\n",
        "  def area(self, radius):      #self외 다른 인자가 들어간 함수\n",
        "    return self.pi*radius**2   #self.자기자신에 대한 변수\n",
        "\n",
        "circle = Circle()   #instance생성\n",
        "pizza_area = circle.area(6)   #radius인자 값에 6, 인스턴스.메서드()로 호출함\n",
        "table_area = circle.area(18)  #radius인자 값에 18\n",
        "\n",
        "print(pizza_area)\n",
        "print(table_area)"
      ],
      "metadata": {
        "colab": {
          "base_uri": "https://localhost:8080/"
        },
        "id": "7M2-WaQ-r8Bs",
        "outputId": "ac53e5e4-81bf-4020-a183-07aa459ba59f"
      },
      "execution_count": null,
      "outputs": [
        {
          "output_type": "stream",
          "name": "stdout",
          "text": [
            "113.04\n",
            "1017.36\n"
          ]
        }
      ]
    },
    {
      "cell_type": "markdown",
      "source": [
        "## Constructor생성자\n",
        ": 생성할 때 내가 원하는 값을 넣어두고, to set up some instance variables to have the proper initial values when the object is created\n",
        "\n",
        "### instance variable을 만든다.\n",
        "object(instance)가 만들어질 때 특정 값을 가지는\n",
        "\n",
        "\n",
        "\n",
        "\n",
        "### **use a special method called '__init__'**\n",
        "\n",
        "\n"
      ],
      "metadata": {
        "id": "jdF-BADFs4D0"
      }
    },
    {
      "cell_type": "code",
      "source": [
        "class Circle():\n",
        "  pi = 3.14\n",
        "\n",
        "  def __init__(self,radius):  #함수정의, method, class내에서만 작동\n",
        "    print(\"New circle with radius: {}\".format(radius))  #생성자, instance생성되자마자 실행되는 부분\n",
        "    #self.radius가 아니다\n",
        "table = Circle(18)"
      ],
      "metadata": {
        "colab": {
          "base_uri": "https://localhost:8080/"
        },
        "id": "KvnkLV3_tBcL",
        "outputId": "1500b807-4fd2-4707-f24c-561a56df9682"
      },
      "execution_count": null,
      "outputs": [
        {
          "output_type": "stream",
          "name": "stdout",
          "text": [
            "New circle with radius: 18\n"
          ]
        }
      ]
    },
    {
      "cell_type": "code",
      "source": [
        "class Circle():\n",
        "  pi = 3.14\n",
        "\n",
        "  def __init__(self,radius):  #함수정의, method, class내에서만 작동\n",
        "    print(\"New circle with radius: {}\".format(self.radius))  #생성자, instance생성되자마자 실행되는 부분\n",
        "    #self.radius가 아니다. radius는 class variable이 아니므로 호출도 불가함\n",
        "\n",
        "table = Circle(18)"
      ],
      "metadata": {
        "id": "CcEMO2LJaX2L",
        "outputId": "7bac2ddc-7950-4620-9f8b-80df6080e00c",
        "colab": {
          "base_uri": "https://localhost:8080/",
          "height": 372
        }
      },
      "execution_count": null,
      "outputs": [
        {
          "output_type": "error",
          "ename": "AttributeError",
          "evalue": "ignored",
          "traceback": [
            "\u001b[0;31m---------------------------------------------------------------------------\u001b[0m",
            "\u001b[0;31mAttributeError\u001b[0m                            Traceback (most recent call last)",
            "\u001b[0;32m<ipython-input-14-cc78fbc772d2>\u001b[0m in \u001b[0;36m<module>\u001b[0;34m\u001b[0m\n\u001b[1;32m      5\u001b[0m     \u001b[0mprint\u001b[0m\u001b[0;34m(\u001b[0m\u001b[0;34m\"New circle with radius: {}\"\u001b[0m\u001b[0;34m.\u001b[0m\u001b[0mformat\u001b[0m\u001b[0;34m(\u001b[0m\u001b[0mself\u001b[0m\u001b[0;34m.\u001b[0m\u001b[0mradius\u001b[0m\u001b[0;34m)\u001b[0m\u001b[0;34m)\u001b[0m  \u001b[0;31m#생성자, instance생성되자마자 실행되는 부분\u001b[0m\u001b[0;34m\u001b[0m\u001b[0;34m\u001b[0m\u001b[0m\n\u001b[1;32m      6\u001b[0m     \u001b[0;31m#self.radius가 아니다\u001b[0m\u001b[0;34m\u001b[0m\u001b[0;34m\u001b[0m\u001b[0;34m\u001b[0m\u001b[0m\n\u001b[0;32m----> 7\u001b[0;31m \u001b[0mtable\u001b[0m \u001b[0;34m=\u001b[0m \u001b[0mCircle\u001b[0m\u001b[0;34m(\u001b[0m\u001b[0;36m18\u001b[0m\u001b[0;34m)\u001b[0m\u001b[0;34m\u001b[0m\u001b[0;34m\u001b[0m\u001b[0m\n\u001b[0m",
            "\u001b[0;32m<ipython-input-14-cc78fbc772d2>\u001b[0m in \u001b[0;36m__init__\u001b[0;34m(self, radius)\u001b[0m\n\u001b[1;32m      3\u001b[0m \u001b[0;34m\u001b[0m\u001b[0m\n\u001b[1;32m      4\u001b[0m   \u001b[0;32mdef\u001b[0m \u001b[0m__init__\u001b[0m\u001b[0;34m(\u001b[0m\u001b[0mself\u001b[0m\u001b[0;34m,\u001b[0m\u001b[0mradius\u001b[0m\u001b[0;34m)\u001b[0m\u001b[0;34m:\u001b[0m  \u001b[0;31m#함수정의, method, class내에서만 작동\u001b[0m\u001b[0;34m\u001b[0m\u001b[0;34m\u001b[0m\u001b[0m\n\u001b[0;32m----> 5\u001b[0;31m     \u001b[0mprint\u001b[0m\u001b[0;34m(\u001b[0m\u001b[0;34m\"New circle with radius: {}\"\u001b[0m\u001b[0;34m.\u001b[0m\u001b[0mformat\u001b[0m\u001b[0;34m(\u001b[0m\u001b[0mself\u001b[0m\u001b[0;34m.\u001b[0m\u001b[0mradius\u001b[0m\u001b[0;34m)\u001b[0m\u001b[0;34m)\u001b[0m  \u001b[0;31m#생성자, instance생성되자마자 실행되는 부분\u001b[0m\u001b[0;34m\u001b[0m\u001b[0;34m\u001b[0m\u001b[0m\n\u001b[0m\u001b[1;32m      6\u001b[0m     \u001b[0;31m#self.radius가 아니다\u001b[0m\u001b[0;34m\u001b[0m\u001b[0;34m\u001b[0m\u001b[0;34m\u001b[0m\u001b[0m\n\u001b[1;32m      7\u001b[0m \u001b[0mtable\u001b[0m \u001b[0;34m=\u001b[0m \u001b[0mCircle\u001b[0m\u001b[0;34m(\u001b[0m\u001b[0;36m18\u001b[0m\u001b[0;34m)\u001b[0m\u001b[0;34m\u001b[0m\u001b[0;34m\u001b[0m\u001b[0m\n",
            "\u001b[0;31mAttributeError\u001b[0m: 'Circle' object has no attribute 'radius'"
          ]
        }
      ]
    },
    {
      "cell_type": "code",
      "source": [
        "class Shouter:\n",
        "  def __init__(self):\n",
        "    print(\"HELLO?!\")\n",
        "\n",
        "shout = Shouter()"
      ],
      "metadata": {
        "colab": {
          "base_uri": "https://localhost:8080/"
        },
        "id": "laodywpct8l8",
        "outputId": "311bccf8-1bd0-4b0b-d55d-debb65e70fd1"
      },
      "execution_count": null,
      "outputs": [
        {
          "output_type": "stream",
          "name": "stdout",
          "text": [
            "HELLO?!\n"
          ]
        }
      ]
    },
    {
      "cell_type": "code",
      "source": [
        "class Shouter:\n",
        "  def __init__(self, what):\n",
        "    print(\"HELLO?! {}\".format(what))\n",
        "\n",
        "shout = Shouter('My friend!')"
      ],
      "metadata": {
        "id": "zIFBwdaVbPZw",
        "outputId": "522436cd-5a10-4eb6-debd-2c02bc40781c",
        "colab": {
          "base_uri": "https://localhost:8080/"
        }
      },
      "execution_count": null,
      "outputs": [
        {
          "output_type": "stream",
          "name": "stdout",
          "text": [
            "HELLO?! My friend!\n"
          ]
        }
      ]
    },
    {
      "cell_type": "markdown",
      "source": [
        "## Instance Variables\n",
        ": variables used for data that is unique to a particular instance  특정 인스턴스 특유의 데이터에만 이용되는 변수 Instance variables\n",
        "\n",
        ": self.\n",
        "\n",
        "class variable은 모든 instance에 다 동일"
      ],
      "metadata": {
        "id": "RCf-xQKuuhW8"
      }
    },
    {
      "cell_type": "markdown",
      "source": [
        "변수들 싹 정리하는 생성자에 이용되기도"
      ],
      "metadata": {
        "id": "ivhTrK0rv4Sk"
      }
    },
    {
      "cell_type": "code",
      "source": [
        "class AutoEmail:\n",
        "\n",
        "  def __init__(self,name):   #instance variable생성하는 생성자, self는 들어간다\n",
        "    self.name = name   # name은 밖에서 가져온(instance생성할 때 넣는), \n",
        "                       # 윗줄 괄호 안의 그 name,\n",
        "                       # self.name은 instance variable, 새롭게 정의\n",
        "                       # self가 붙어 있는 변수를 인스턴스 변수라고 한다.\n",
        "                       # format에서는 안 붙어있다\n",
        "\n",
        "\n",
        "mail_to_park = AutoEmail(\"Park\")   #instance만들기, instance variable에는 \"park\" 저장\n",
        "mail_to_kim = AutoEmail(\"Kim\")\n",
        "\n",
        "print(mail_to_park.name)   #인스턴스.instance variable\n",
        "print(mail_to_kim.name)"
      ],
      "metadata": {
        "colab": {
          "base_uri": "https://localhost:8080/"
        },
        "id": "3Vg4Vfjquqx8",
        "outputId": "30a0a549-1227-4e7c-cdd3-af5f3a53fec6"
      },
      "execution_count": null,
      "outputs": [
        {
          "output_type": "stream",
          "name": "stdout",
          "text": [
            "Park\n",
            "Kim\n"
          ]
        }
      ]
    },
    {
      "cell_type": "code",
      "source": [
        "class autoemail:\n",
        "\n",
        "  def __init__(self,name):\n",
        "    print(\"Here you are, {}!\".format(name))\n",
        "\n",
        "mail_to_park = autoemail(\"Park\")"
      ],
      "metadata": {
        "id": "ja4jgVKDd1XK",
        "outputId": "0b34f67d-ba12-4a77-b63a-2870181a50b4",
        "colab": {
          "base_uri": "https://localhost:8080/"
        }
      },
      "execution_count": null,
      "outputs": [
        {
          "output_type": "stream",
          "name": "stdout",
          "text": [
            "Here you are, Park!\n"
          ]
        }
      ]
    },
    {
      "cell_type": "code",
      "source": [
        "class autoemail:\n",
        "\n",
        "  def __init__(self,name):\n",
        "    self.name=name\n",
        "    print(\"Here you are, {}!\".format(self.name))  #self.name=name 해놨으니까. 변수명에는 '.'못씀\n",
        "    print(\"Here you are, {}!\".format(name))\n",
        "\n",
        "mail_to_park = autoemail(\"Park\")"
      ],
      "metadata": {
        "id": "85Z460pqeR90",
        "outputId": "3d093777-2a78-4fe6-f505-6443b5aa12ce",
        "colab": {
          "base_uri": "https://localhost:8080/"
        }
      },
      "execution_count": null,
      "outputs": [
        {
          "output_type": "stream",
          "name": "stdout",
          "text": [
            "Here you are, Park!\n",
            "Here you are, Park!\n"
          ]
        }
      ]
    },
    {
      "cell_type": "code",
      "source": [
        "y = list()\n",
        "print(type(y))"
      ],
      "metadata": {
        "colab": {
          "base_uri": "https://localhost:8080/"
        },
        "id": "IjvHNUBqug_c",
        "outputId": "8112bac7-8497-4f44-f432-c436237419af"
      },
      "execution_count": null,
      "outputs": [
        {
          "output_type": "stream",
          "name": "stdout",
          "text": [
            "<class 'list'>\n"
          ]
        }
      ]
    },
    {
      "cell_type": "code",
      "source": [
        "dir(y)  #__가 붙은 건 안에서 이용됨, 아닌 것들은 우리가 호출해서 쓰는"
      ],
      "metadata": {
        "colab": {
          "base_uri": "https://localhost:8080/"
        },
        "id": "uTqAU00Zv8Gc",
        "outputId": "074e088b-a516-40ee-897f-42febaf1e7ec"
      },
      "execution_count": null,
      "outputs": [
        {
          "output_type": "execute_result",
          "data": {
            "text/plain": [
              "['__add__',\n",
              " '__class__',\n",
              " '__contains__',\n",
              " '__delattr__',\n",
              " '__delitem__',\n",
              " '__dir__',\n",
              " '__doc__',\n",
              " '__eq__',\n",
              " '__format__',\n",
              " '__ge__',\n",
              " '__getattribute__',\n",
              " '__getitem__',\n",
              " '__gt__',\n",
              " '__hash__',\n",
              " '__iadd__',\n",
              " '__imul__',\n",
              " '__init__',\n",
              " '__init_subclass__',\n",
              " '__iter__',\n",
              " '__le__',\n",
              " '__len__',\n",
              " '__lt__',\n",
              " '__mul__',\n",
              " '__ne__',\n",
              " '__new__',\n",
              " '__reduce__',\n",
              " '__reduce_ex__',\n",
              " '__repr__',\n",
              " '__reversed__',\n",
              " '__rmul__',\n",
              " '__setattr__',\n",
              " '__setitem__',\n",
              " '__sizeof__',\n",
              " '__str__',\n",
              " '__subclasshook__',\n",
              " 'append',\n",
              " 'clear',\n",
              " 'copy',\n",
              " 'count',\n",
              " 'extend',\n",
              " 'index',\n",
              " 'insert',\n",
              " 'pop',\n",
              " 'remove',\n",
              " 'reverse',\n",
              " 'sort']"
            ]
          },
          "metadata": {},
          "execution_count": 16
        }
      ]
    },
    {
      "cell_type": "markdown",
      "source": [
        "## Object lifecycle\n",
        "\n",
        ": Objects are created, used, and discarded 만들어지고 이용되고 삭제됨\n",
        "\n",
        ": special blocks of code (methods) that constructor, destructor\n"
      ],
      "metadata": {
        "id": "NUS52eJ5wmT8"
      }
    },
    {
      "cell_type": "markdown",
      "source": [
        "둘 다 optional\n",
        "\n",
        "constructor: 코드 초기화 작업, 자주 사용됨\n",
        "\n",
        "distructor: 드물게 사용"
      ],
      "metadata": {
        "id": "Gs_Io-54w2NE"
      }
    },
    {
      "cell_type": "code",
      "source": [
        "class PartyAnimal:\n",
        "  x = 0\n",
        "\n",
        "  def __init__(self):   #instance variable 생성자\n",
        "    print('I am constructed')\n",
        "\n",
        "  def party(self) :\n",
        "    self.x = self.x + 1   #x는 class변수\n",
        "    print('So far',self.x)   #'인스턴스.class variable'로 접근\n",
        "\n",
        "  def __del__(self):\n",
        "    print('I am destructed', self.x)\n",
        "\n",
        "an = PartyAnimal()   #an은 instance\n",
        "an.party()   #인스턴스.메서드()로 메서드 호출\n",
        "an.party()\n",
        "an = 42   #instance(object)삭제(an클래스 바뀜)\n",
        "print('an contains',an)"
      ],
      "metadata": {
        "colab": {
          "base_uri": "https://localhost:8080/"
        },
        "id": "6iUO0AbwxI3j",
        "outputId": "59abc9b9-f1d0-4f22-9e39-34fb8b93b0de"
      },
      "execution_count": null,
      "outputs": [
        {
          "output_type": "stream",
          "name": "stdout",
          "text": [
            "I am constructed\n",
            "So far 1\n",
            "So far 2\n",
            "I am destructed 2\n",
            "an contains 42\n"
          ]
        }
      ]
    },
    {
      "cell_type": "code",
      "source": [
        "bird = PartyAnimal()\n",
        "bird.party()\n",
        "bird.party()\n",
        "PartyAnimal.party(bird)\n",
        "bird.party()\n",
        "bird = 'fly'\n",
        "print('bird is flying')"
      ],
      "metadata": {
        "id": "Ul5u7tU3gs8x",
        "outputId": "abf74990-ff01-45a9-d320-b39031f74de2",
        "colab": {
          "base_uri": "https://localhost:8080/"
        }
      },
      "execution_count": null,
      "outputs": [
        {
          "output_type": "stream",
          "name": "stdout",
          "text": [
            "I am constructed\n",
            "So far 1\n",
            "So far 2\n",
            "So far 3\n",
            "So far 4\n",
            "I am destructed 4\n",
            "bird is flying\n"
          ]
        }
      ]
    },
    {
      "cell_type": "code",
      "source": [
        "b = 43\n",
        "print(\"an cotains\", b)"
      ],
      "metadata": {
        "id": "2YzuZrlEgZcC",
        "outputId": "49893f4b-c779-47ab-a45f-09bd0680de8b",
        "colab": {
          "base_uri": "https://localhost:8080/"
        }
      },
      "execution_count": null,
      "outputs": [
        {
          "output_type": "stream",
          "name": "stdout",
          "text": [
            "an cotains 43\n"
          ]
        }
      ]
    },
    {
      "cell_type": "code",
      "source": [
        "class PartyAnimal:\n",
        "  x = 0   #self.x로 들어간다\n",
        "  \n",
        "  def __init__(self):\n",
        "    print('I am constructed')\n",
        "\n",
        "  def party(self):\n",
        "    self.x = self.x + 1\n",
        "    print('so far',self.x)\n",
        "\n",
        "  def __del__(self):\n",
        "    print('I am destructed', self.x)\n",
        "\n",
        "an = PartyAnimal()\n",
        "an.party()\n",
        "an.party()\n",
        "an = 42   #an의 class가 바뀌었다. PartyAnimal이 없어짐, destructor호출됨\n",
        "print('an contains', an)"
      ],
      "metadata": {
        "colab": {
          "base_uri": "https://localhost:8080/"
        },
        "id": "52Y0y9alxPeN",
        "outputId": "5f0f41be-bca3-4c21-b5ca-ff08d819d7e7"
      },
      "execution_count": null,
      "outputs": [
        {
          "output_type": "stream",
          "name": "stdout",
          "text": [
            "I am constructed\n",
            "so far 1\n",
            "so far 2\n",
            "I am destructed 2\n",
            "an contains 42\n"
          ]
        }
      ]
    },
    {
      "cell_type": "markdown",
      "source": [
        "Summary\n",
        "\n",
        "Object oriented programming (OOP)'\n",
        "\n",
        "based on the concept of ”objects”\n",
        "\n",
        "objects as collections of both data (attributes) and the methods\n"
      ],
      "metadata": {
        "id": "oGoPqEp-yv6s"
      }
    },
    {
      "cell_type": "code",
      "source": [
        "class AutoEmail:\n",
        "  intro = \"안녕하세요\"  #class variable\n",
        "\n",
        "  def __init__(self,name):  #생성자, instance variable, name\n",
        "    self.name = name\n",
        "\n",
        "  def say_hello(self):  #method\n",
        "    return\"{intro} {name}님\".format(intro=self.intro, name=self.name)  #class변수와 instance변수\n",
        "                                    #self.붙여준 게 있어야 됨\n",
        "                                    #위에서 intro, name 들어오니까 format 쓸 때 가져온다?\n",
        "                                    #format이름으로 대입하기\n",
        "\n",
        "mail_to_park =  AutoEmail(\"PARK\")  #instance\n",
        "mail_to_kim = AutoEmail(\"KIM\")\n",
        "\n",
        "print(mail_to_park.say_hello())\n",
        "print(mail_to_kim.say_hello())"
      ],
      "metadata": {
        "colab": {
          "base_uri": "https://localhost:8080/"
        },
        "id": "OTQKJG9Ay9JU",
        "outputId": "f0333388-df8b-4a9a-aa26-23b97906288c"
      },
      "execution_count": null,
      "outputs": [
        {
          "output_type": "stream",
          "name": "stdout",
          "text": [
            "안녕하세요 PARK님\n",
            "안녕하세요 KIM님\n"
          ]
        }
      ]
    },
    {
      "cell_type": "markdown",
      "source": [
        "## 퀴즈"
      ],
      "metadata": {
        "id": "t1vLMa0lluW8"
      }
    },
    {
      "cell_type": "code",
      "source": [
        "#3\n",
        "#init도 self쓴다"
      ],
      "metadata": {
        "id": "LwmQdwoToXaQ"
      },
      "execution_count": null,
      "outputs": []
    },
    {
      "cell_type": "code",
      "source": [
        "#6\n",
        "#클래스 정의할때는 \n",
        "class student:\n",
        "  pass\n",
        "#다른 것은 모두 선택사항"
      ],
      "metadata": {
        "id": "vh84GsmclxIC"
      },
      "execution_count": null,
      "outputs": []
    },
    {
      "cell_type": "code",
      "source": [
        "#7\n",
        "#함수에서 print하는데 self.name으로 넣어줘야\n",
        "\n",
        "class Musician:\n",
        "  def __init__(self,name=\"\"):\n",
        "    self.name = name\n",
        "  def display(self):\n",
        "    print('my name is', self.name)\n",
        "\n",
        "t1 = Musician('Danny')\n",
        "t1.display()"
      ],
      "metadata": {
        "id": "8Y0JF9Ljmjn4",
        "outputId": "bbaab389-51a4-41fb-9406-fa2c74ec75b0",
        "colab": {
          "base_uri": "https://localhost:8080/"
        }
      },
      "execution_count": null,
      "outputs": [
        {
          "output_type": "stream",
          "name": "stdout",
          "text": [
            "my name is Danny\n"
          ]
        }
      ]
    },
    {
      "cell_type": "code",
      "source": [
        "#8\n",
        "#인스턴스 변수값 출력하기\n",
        "class MyClass:\n",
        "  def __init__(self, data=12):\n",
        "    self.data=data\n",
        "\n",
        "p = MyClass()\n",
        "print(p.data)\n",
        "\n",
        "#그냥 변수 호출하듯이"
      ],
      "metadata": {
        "id": "ChSoeyW-nFjJ",
        "outputId": "a2d47be0-1303-4711-e5cf-74d44b847d74",
        "colab": {
          "base_uri": "https://localhost:8080/"
        }
      },
      "execution_count": null,
      "outputs": [
        {
          "output_type": "stream",
          "name": "stdout",
          "text": [
            "12\n"
          ]
        }
      ]
    },
    {
      "cell_type": "markdown",
      "source": [
        "# 실습"
      ],
      "metadata": {
        "id": "qbynSk4yZP0r"
      }
    },
    {
      "cell_type": "code",
      "source": [
        "class FishShapeBun:\n",
        "    def __init__(self, content):\n",
        "        self.content = content\n",
        "    def bake(self):\n",
        "        print(\"{} Fish Shape Bun is baking.\".format(self.content))\n",
        "con = FishShapeBun('Cream')\n",
        "con.bake()"
      ],
      "metadata": {
        "id": "9ZEovdwLZQ0T",
        "outputId": "b21b24e5-3eaf-4d81-8299-599eb38bc444",
        "colab": {
          "base_uri": "https://localhost:8080/"
        }
      },
      "execution_count": null,
      "outputs": [
        {
          "output_type": "stream",
          "name": "stdout",
          "text": [
            "Cream Fish Shape Bun is baking.\n"
          ]
        }
      ]
    },
    {
      "cell_type": "code",
      "source": [
        "class Coordinate:\n",
        "  def __init__(self, x, y):\n",
        "    self.x = x\n",
        "    self.y = y\n",
        "  def __str__(self):\n",
        "    return f'<{self.x},{self.y}>'\n",
        "\n",
        "  def distance(self,other):\n",
        "    return ((self.x - other.x)**2 + (self.y - other.y)**2)**(1/2)\n",
        "\n",
        "c = Coordinate(3,4)\n",
        "origin = Coordinate(0,0)\n",
        "print(c)\n",
        "print(origin)\n",
        "dis = c.distance(origin)\n",
        "print(dis)"
      ],
      "metadata": {
        "id": "pypwy5MdZo8K",
        "outputId": "d294d0f7-246e-4f7c-9ea7-b9b7d821d8b8",
        "colab": {
          "base_uri": "https://localhost:8080/"
        }
      },
      "execution_count": null,
      "outputs": [
        {
          "output_type": "stream",
          "name": "stdout",
          "text": [
            "<3,4>\n",
            "<0,0>\n",
            "5.0\n"
          ]
        }
      ]
    },
    {
      "cell_type": "code",
      "source": [
        "class Tv:\n",
        "    def __init__(self, name, color):\n",
        "        self.name = name\n",
        "        self.color = color\n",
        "        Power =  False\n",
        "        self.Power = Power\n",
        "        channel = 0\n",
        "        self.channel = channel\n",
        "    def tvPower(self, Power):\n",
        "        self.Power = Power\n",
        "        if Power == False:\n",
        "             return print(f\"{self.name}의 전원을 켜주세요\")\n",
        "        else:\n",
        "            return print(f\"{self.name}의 전원이 켜졌습니다\")\n",
        "    def channelChange(self, cha):\n",
        "        #self.cha = cha\n",
        "        self.channel = self.channel + cha\n",
        "        if self.channel > 0:\n",
        "            return print(f'channel이 {cha} 올라갔습니다. 현재 channel은 {self.channel}입니다.')\n",
        "        else:\n",
        "            self.channel = self.channel - cha\n",
        "            return print(\"채널이 음수입니다\")\n",
        "    def __str__(self):\n",
        "        return f'{self.name}의 색상: {self.color} \\n{self.name}의 채널: {self.channel}'            \n",
        "\n",
        "\n",
        "Tv1 = Tv(\"tv1\", \"red\")\n",
        "Tv1.tvPower(True)\n",
        "Tv1.channelChange(+10)\n",
        "Tv1.channelChange(-20)\n",
        "print(Tv1)"
      ],
      "metadata": {
        "id": "h9CL3siGZuwK",
        "outputId": "fcbf2e7d-1b3f-4e3b-aee8-b8766da3f23a",
        "colab": {
          "base_uri": "https://localhost:8080/"
        }
      },
      "execution_count": null,
      "outputs": [
        {
          "output_type": "stream",
          "name": "stdout",
          "text": [
            "tv1의 전원이 켜졌습니다\n",
            "channel이 10 올라갔습니다. 현재 channel은 10입니다.\n",
            "채널이 음수입니다\n",
            "tv1의 색상: red \n",
            "tv1의 채널: 10\n"
          ]
        }
      ]
    },
    {
      "cell_type": "markdown",
      "source": [
        "# 11/15\n",
        "추가\n",
        "## oop 중요"
      ],
      "metadata": {
        "id": "ufwNbIeJyrwx"
      }
    },
    {
      "cell_type": "markdown",
      "source": [
        "intro\n",
        "\n",
        "__init__ 생성자\n",
        "\n",
        "method\n",
        "\n",
        "\n",
        "\n",
        "\n",
        "instance variable\n",
        "\n",
        "생성자에서 받는 x, y가 있느냐 없느냐에 따라 Coordinate(이 안)에 뭐가 들어갈지 말지가 결정\n",
        "\n",
        "self.x = x\n",
        "초기화 과정\n",
        "\n",
        "instance variable은 self.x\n",
        "\n",
        "c2.x, c2.y로 접근\n",
        "\n",
        "instance variable이 있으면 다른 값으로 시작가능\n",
        "\n",
        "title = test 이런게 class아래 있으면 안됨 모두 같은 값으로 시작\n",
        "\n"
      ],
      "metadata": {
        "id": "oYj36XLzy5VB"
      }
    }
  ]
}