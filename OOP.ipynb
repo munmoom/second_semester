{
  "nbformat": 4,
  "nbformat_minor": 0,
  "metadata": {
    "colab": {
      "provenance": [],
      "authorship_tag": "ABX9TyOOnjkbzjwplqfU9VdbUF2Q",
      "include_colab_link": true
    },
    "kernelspec": {
      "name": "python3",
      "display_name": "Python 3"
    },
    "language_info": {
      "name": "python"
    }
  },
  "cells": [
    {
      "cell_type": "markdown",
      "metadata": {
        "id": "view-in-github",
        "colab_type": "text"
      },
      "source": [
        "<a href=\"https://colab.research.google.com/github/munmoom/second_semester/blob/main/OOP.ipynb\" target=\"_parent\"><img src=\"https://colab.research.google.com/assets/colab-badge.svg\" alt=\"Open In Colab\"/></a>"
      ]
    },
    {
      "cell_type": "markdown",
      "source": [
        "## OOP\n",
        ": Object Oriented Programming\n",
        "\n",
        "object라는 개념에 기반\n",
        ": data(attribution)와 method(function)의 collection\n",
        "\n",
        "\n",
        "간단하거나 복잡한 것을 만드는 데 적합하다.\n",
        "코드 재사용이 가능해 생산성을 높인다.\n",
        "새로운 feature를 추가하는 것도 쉽다.\n",
        "생산, 유지비용을 줄인다."
      ],
      "metadata": {
        "id": "5JkRF8POlqYN"
      }
    },
    {
      "cell_type": "markdown",
      "source": [
        "## object(instance)\n",
        ": an entity(존재) in the real world, a particular instance of a class, Actual object created at runtime(코드실행시 만들어진다), class에서 정의했던 properties들에 실제 값이 생긴다\n",
        "\n",
        "## class\n",
        ": a template(형틀) or blueprint(청사진,설계도) for object, objects를 설계, 객체의 추상적 특징들을 정의"
      ],
      "metadata": {
        "id": "_NGgY9EymdL9"
      }
    },
    {
      "cell_type": "markdown",
      "source": [
        "### 예) all of the methods of list objects\n",
        ": method라고 부른다. 리스트도 object."
      ],
      "metadata": {
        "id": "3esWP0L7oLRE"
      }
    },
    {
      "cell_type": "code",
      "source": [
        "print(type(\"string\"))\n",
        "print(type(1))"
      ],
      "metadata": {
        "colab": {
          "base_uri": "https://localhost:8080/"
        },
        "id": "sCJ9ykaGoaV8",
        "outputId": "c5d23cc5-c570-4ebb-dc99-8ff02e60c29d"
      },
      "execution_count": 1,
      "outputs": [
        {
          "output_type": "stream",
          "name": "stdout",
          "text": [
            "<class 'str'>\n",
            "<class 'int'>\n"
          ]
        }
      ]
    },
    {
      "cell_type": "markdown",
      "source": [
        "## Basics of OOP\n"
      ],
      "metadata": {
        "id": "r0Lux-jKoaJz"
      }
    },
    {
      "cell_type": "markdown",
      "source": [
        "class variable과 class method는 optional하다."
      ],
      "metadata": {
        "id": "fk0Exgjlquh8"
      }
    },
    {
      "cell_type": "markdown",
      "source": [
        "class variable: variables that are shared by all instances of a class\n",
        "\n",
        "\n",
        "```\n",
        "class TestClass:    #class명은 소문자든 대문자든 상관없음\n",
        "  pass\n",
        "```\n",
        "\n",
        "\n",
        "\n",
        "```\n",
        "class Musician:\n",
        "  title = \"Rockstar\"   #class variable\n",
        "```\n",
        "\n"
      ],
      "metadata": {
        "id": "PLjSqroPr0AU"
      }
    },
    {
      "cell_type": "code",
      "source": [
        "class TestClass:    #class명은 소문자든 대문자든 상관없음\n",
        "  pass\n",
        "\n",
        "instance = TestClass()\n",
        "print(type(instance))"
      ],
      "metadata": {
        "colab": {
          "base_uri": "https://localhost:8080/"
        },
        "id": "e-cd6nNApV50",
        "outputId": "698850df-6949-4ba2-9611-dfe1b4ba2dbc"
      },
      "execution_count": 2,
      "outputs": [
        {
          "output_type": "stream",
          "name": "stdout",
          "text": [
            "<class '__main__.TestClass'>\n"
          ]
        }
      ]
    },
    {
      "cell_type": "code",
      "source": [
        "class Musician:\n",
        "  title = \"Rockstar\"\n",
        "\n",
        "drummer = Musician()   #instantiation\n",
        "print(drummer.title)   #the \".\" operator is used to access class variable"
      ],
      "metadata": {
        "colab": {
          "base_uri": "https://localhost:8080/"
        },
        "id": "O5Lul7KVp9OM",
        "outputId": "996456f0-0c91-419c-bd43-ad0c51327ad5"
      },
      "execution_count": 3,
      "outputs": [
        {
          "output_type": "stream",
          "name": "stdout",
          "text": [
            "Rockstar\n"
          ]
        }
      ]
    },
    {
      "cell_type": "markdown",
      "source": [
        "Methods: function that works only with this class\n",
        "\n",
        "\n",
        "```\n",
        "def explanation(self):\n",
        "  print(\"I an a {}!.format(self.title))   #self.은 class내에 있는 것일 때\n",
        "```\n",
        "\n"
      ],
      "metadata": {
        "id": "d3jq15nIpVmF"
      }
    },
    {
      "cell_type": "code",
      "source": [
        "class Musician:\n",
        "  title = \"Rockstar\"\n",
        "  def explanation(self):    #convention is to use self as the name of the first argument of all methods\n",
        "    print(\"I am a {}!\".format(self.title))\n",
        "\n",
        "drummer = Musician()   #instantiation\n",
        "drummer.explanation()  #the \".\" operator is used to access a method of an object"
      ],
      "metadata": {
        "colab": {
          "base_uri": "https://localhost:8080/"
        },
        "id": "_ovNV31krASz",
        "outputId": "c738e3b0-7b32-41a7-a831-9ec0f5a0512a"
      },
      "execution_count": 4,
      "outputs": [
        {
          "output_type": "stream",
          "name": "stdout",
          "text": [
            "I an a Rockstar!\n"
          ]
        }
      ]
    },
    {
      "cell_type": "markdown",
      "source": [
        "예) Method example with self and other arguments"
      ],
      "metadata": {
        "id": "SVR7P4NHr8gk"
      }
    },
    {
      "cell_type": "code",
      "source": [
        "class Circle():\n",
        "  pi = 3.14\n",
        "  def area(self, radius):      #self\n",
        "    return self.pi*radius**2   #self.자기자신에 대한 변수\n",
        "circle = Circle()\n",
        "pizza_area = circle.area(6)\n",
        "table_area = circle.area(18)\n",
        "\n",
        "print(pizza_area)\n",
        "print(table_area)"
      ],
      "metadata": {
        "colab": {
          "base_uri": "https://localhost:8080/"
        },
        "id": "7M2-WaQ-r8Bs",
        "outputId": "f97ced5a-5835-4537-c815-a14f87d1856c"
      },
      "execution_count": 9,
      "outputs": [
        {
          "output_type": "stream",
          "name": "stdout",
          "text": [
            "113.04\n",
            "1017.36\n"
          ]
        }
      ]
    },
    {
      "cell_type": "markdown",
      "source": [
        "## Constructor생성자\n",
        ": 생성할 때 내가 원하는 값을 넣어두고, to set up some instance variables to have the proper initial values when the object is created\n",
        "\n",
        "**use a special method called '__init__'**\n",
        "\n",
        "\n"
      ],
      "metadata": {
        "id": "jdF-BADFs4D0"
      }
    },
    {
      "cell_type": "code",
      "source": [
        "class Circle():\n",
        "  pi = 3.14\n",
        "  def __init__(self,radius):\n",
        "    print(\"New circle with radius: {}\".format(radius))  #생성자, instance생성되자마자 실행되는 부분\n",
        "table = Circle(18)"
      ],
      "metadata": {
        "colab": {
          "base_uri": "https://localhost:8080/"
        },
        "id": "KvnkLV3_tBcL",
        "outputId": "e2eae020-c607-46dd-f161-4d5113e948bf"
      },
      "execution_count": 11,
      "outputs": [
        {
          "output_type": "stream",
          "name": "stdout",
          "text": [
            "New circle with radius: 18\n"
          ]
        }
      ]
    },
    {
      "cell_type": "code",
      "source": [
        "class Shouter:\n",
        "  def __init__(self):\n",
        "    print(\"HELLO?!\")\n",
        "\n",
        "shout = Shouter()"
      ],
      "metadata": {
        "colab": {
          "base_uri": "https://localhost:8080/"
        },
        "id": "laodywpct8l8",
        "outputId": "311bccf8-1bd0-4b0b-d55d-debb65e70fd1"
      },
      "execution_count": 10,
      "outputs": [
        {
          "output_type": "stream",
          "name": "stdout",
          "text": [
            "HELLO?!\n"
          ]
        }
      ]
    },
    {
      "cell_type": "markdown",
      "source": [
        "## Instance Variables\n",
        ": variables used for data that is unique to a particular instance\n",
        "\n",
        ": self.\n",
        "\n",
        "class variable은 모든 instance에 다 동일"
      ],
      "metadata": {
        "id": "RCf-xQKuuhW8"
      }
    },
    {
      "cell_type": "markdown",
      "source": [
        "변수들 싹 정리하는 생성자에 이용되기도"
      ],
      "metadata": {
        "id": "ivhTrK0rv4Sk"
      }
    },
    {
      "cell_type": "code",
      "source": [
        "class AutoEmail:\n",
        "  def __init__(self,name):\n",
        "    self.name = name   #name은 밖에서 가져온, 윗줄 괄호 안의 그 name, self.name은 instance variable, 새롭게 정의\n",
        "mail_to_park = AutoEmail(\"Park\")\n",
        "mail_to_kim = AutoEmail(\"Kim\")\n",
        "print(mail_to_park.name)\n",
        "print(mail_to_kim.name)"
      ],
      "metadata": {
        "colab": {
          "base_uri": "https://localhost:8080/"
        },
        "id": "3Vg4Vfjquqx8",
        "outputId": "09fe3e6c-6d2b-48de-98d8-a46cb1ca433c"
      },
      "execution_count": 13,
      "outputs": [
        {
          "output_type": "stream",
          "name": "stdout",
          "text": [
            "Park\n",
            "Kim\n"
          ]
        }
      ]
    },
    {
      "cell_type": "code",
      "source": [
        "y = list()\n",
        "print(type(y))"
      ],
      "metadata": {
        "colab": {
          "base_uri": "https://localhost:8080/"
        },
        "id": "IjvHNUBqug_c",
        "outputId": "8112bac7-8497-4f44-f432-c436237419af"
      },
      "execution_count": 15,
      "outputs": [
        {
          "output_type": "stream",
          "name": "stdout",
          "text": [
            "<class 'list'>\n"
          ]
        }
      ]
    },
    {
      "cell_type": "code",
      "source": [
        "dir(y)  #__가 붙은 건 안에서 이용됨, 아닌 것들은 우리가 호출해서 쓰는"
      ],
      "metadata": {
        "colab": {
          "base_uri": "https://localhost:8080/"
        },
        "id": "uTqAU00Zv8Gc",
        "outputId": "074e088b-a516-40ee-897f-42febaf1e7ec"
      },
      "execution_count": 16,
      "outputs": [
        {
          "output_type": "execute_result",
          "data": {
            "text/plain": [
              "['__add__',\n",
              " '__class__',\n",
              " '__contains__',\n",
              " '__delattr__',\n",
              " '__delitem__',\n",
              " '__dir__',\n",
              " '__doc__',\n",
              " '__eq__',\n",
              " '__format__',\n",
              " '__ge__',\n",
              " '__getattribute__',\n",
              " '__getitem__',\n",
              " '__gt__',\n",
              " '__hash__',\n",
              " '__iadd__',\n",
              " '__imul__',\n",
              " '__init__',\n",
              " '__init_subclass__',\n",
              " '__iter__',\n",
              " '__le__',\n",
              " '__len__',\n",
              " '__lt__',\n",
              " '__mul__',\n",
              " '__ne__',\n",
              " '__new__',\n",
              " '__reduce__',\n",
              " '__reduce_ex__',\n",
              " '__repr__',\n",
              " '__reversed__',\n",
              " '__rmul__',\n",
              " '__setattr__',\n",
              " '__setitem__',\n",
              " '__sizeof__',\n",
              " '__str__',\n",
              " '__subclasshook__',\n",
              " 'append',\n",
              " 'clear',\n",
              " 'copy',\n",
              " 'count',\n",
              " 'extend',\n",
              " 'index',\n",
              " 'insert',\n",
              " 'pop',\n",
              " 'remove',\n",
              " 'reverse',\n",
              " 'sort']"
            ]
          },
          "metadata": {},
          "execution_count": 16
        }
      ]
    },
    {
      "cell_type": "markdown",
      "source": [
        "## Object lifecycle\n",
        "\n",
        ": Objects are created, used, and discarded\n",
        "\n",
        ": special blocks of code (methods) that constructor, destructor\n"
      ],
      "metadata": {
        "id": "NUS52eJ5wmT8"
      }
    },
    {
      "cell_type": "markdown",
      "source": [
        "둘 다 optional\n",
        "\n",
        "constructor: 코드 초기화 작업, 자주 사용됨\n",
        "\n",
        "distructor: 드물게 사용"
      ],
      "metadata": {
        "id": "Gs_Io-54w2NE"
      }
    },
    {
      "cell_type": "code",
      "source": [
        "class PartyAnimal:\n",
        "  x = 0\n",
        "\n",
        "  def __init__(self):\n",
        "    print('I am constructed')\n",
        "  def party(self) :\n",
        "    self.x = self.x + 1\n",
        "    print('So far',self.x)\n",
        "  def __del__(self):\n",
        "    print('I am destructed', self.x)\n",
        "\n",
        "an = PartyAnimal()\n",
        "an.party()\n",
        "an.party()\n",
        "an = 42\n",
        "print('an contains',an)"
      ],
      "metadata": {
        "colab": {
          "base_uri": "https://localhost:8080/"
        },
        "id": "6iUO0AbwxI3j",
        "outputId": "d9228dde-89b7-41e6-b76d-6f27ac80005f"
      },
      "execution_count": 22,
      "outputs": [
        {
          "output_type": "stream",
          "name": "stdout",
          "text": [
            "I am constructed\n",
            "So far 1\n",
            "So far 2\n",
            "I am destructed 2\n",
            "an contains 42\n"
          ]
        }
      ]
    },
    {
      "cell_type": "code",
      "source": [
        "class PartyAnimal:\n",
        "  x = 0   #self.x로 들어간다\n",
        "  def __init__(self):\n",
        "    print('I am constructed')\n",
        "\n",
        "  def party(self):\n",
        "    self.x = self.x + 1\n",
        "    print('so far',self.x)\n",
        "\n",
        "  def __del__(self):\n",
        "    print('I am destructed', self.x)\n",
        "\n",
        "an = PartyAnimal()\n",
        "an.party()\n",
        "an.party()\n",
        "an = 42   #an의 class가 바뀌었다. PartyAnimal이 없어짐, destructor호출됨\n",
        "print('an contains', an)"
      ],
      "metadata": {
        "colab": {
          "base_uri": "https://localhost:8080/"
        },
        "id": "52Y0y9alxPeN",
        "outputId": "5f0f41be-bca3-4c21-b5ca-ff08d819d7e7"
      },
      "execution_count": 19,
      "outputs": [
        {
          "output_type": "stream",
          "name": "stdout",
          "text": [
            "I am constructed\n",
            "so far 1\n",
            "so far 2\n",
            "I am destructed 2\n",
            "an contains 42\n"
          ]
        }
      ]
    },
    {
      "cell_type": "markdown",
      "source": [
        "Summary\n",
        "\n",
        "Object oriented programming (OOP)'\n",
        "\n",
        "based on the concept of ”objects”\n",
        "\n",
        "objects as collections of both data (attributes) and the methods\n"
      ],
      "metadata": {
        "id": "oGoPqEp-yv6s"
      }
    },
    {
      "cell_type": "code",
      "source": [
        "class AutoEmail:\n",
        "  intro = \"안녕하세요\"  #class variable\n",
        "\n",
        "  def __init__(self,name):  #생성자\n",
        "    self.name = name\n",
        "\n",
        "  def say_hello(self):  #method\n",
        "    return\"{intro} {name}님\".format(intro=self.intro, name=self.name)\n",
        "\n",
        "mail_to_park =  AutoEmail(\"PARK\")  #instance\n",
        "mail_to_kim = AutoEmail(\"KIM\")\n",
        "\n",
        "print(mail_to_park.say_hello())\n",
        "print(mail_to_kim.say_hello())"
      ],
      "metadata": {
        "colab": {
          "base_uri": "https://localhost:8080/"
        },
        "id": "OTQKJG9Ay9JU",
        "outputId": "41d4e27d-93f7-4a7d-b308-8a88d5b497cc"
      },
      "execution_count": 25,
      "outputs": [
        {
          "output_type": "stream",
          "name": "stdout",
          "text": [
            "안녕하세요 PARK님\n",
            "안녕하세요 KIM님\n"
          ]
        }
      ]
    }
  ]
}