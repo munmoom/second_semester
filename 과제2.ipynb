{
  "nbformat": 4,
  "nbformat_minor": 0,
  "metadata": {
    "colab": {
      "provenance": [],
      "authorship_tag": "ABX9TyOBJbcDgUaA91jRFdztdwZh",
      "include_colab_link": true
    },
    "kernelspec": {
      "name": "python3",
      "display_name": "Python 3"
    },
    "language_info": {
      "name": "python"
    }
  },
  "cells": [
    {
      "cell_type": "markdown",
      "metadata": {
        "id": "view-in-github",
        "colab_type": "text"
      },
      "source": [
        "<a href=\"https://colab.research.google.com/github/munmoom/second_semester/blob/main/%EA%B3%BC%EC%A0%9C2.ipynb\" target=\"_parent\"><img src=\"https://colab.research.google.com/assets/colab-badge.svg\" alt=\"Open In Colab\"/></a>"
      ]
    },
    {
      "cell_type": "code",
      "execution_count": null,
      "metadata": {
        "id": "uRVaNus2eYCe"
      },
      "outputs": [],
      "source": [
        "def solution(inputList):\n",
        "  inputList.sort()                                    #slicing을 위해 정렬\n",
        "  for i in set(inputList)-set(inputList[1::2]):       #홀수번째 원소 집합과 짝수번째 원소 집합의 차집합\n",
        "    return i"
      ]
    },
    {
      "cell_type": "markdown",
      "source": [
        "http://localhost:8888/notebooks/Second%20semester/complete%EA%B3%BC%EC%A0%9C2-1.ipynb"
      ],
      "metadata": {
        "id": "80cggZaGgl4_"
      }
    }
  ]
}