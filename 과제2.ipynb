{
  "nbformat": 4,
  "nbformat_minor": 0,
  "metadata": {
    "colab": {
      "provenance": [],
      "authorship_tag": "ABX9TyM3xObzg4lxi3kiKUSAJRoT",
      "include_colab_link": true
    },
    "kernelspec": {
      "name": "python3",
      "display_name": "Python 3"
    },
    "language_info": {
      "name": "python"
    }
  },
  "cells": [
    {
      "cell_type": "markdown",
      "metadata": {
        "id": "view-in-github",
        "colab_type": "text"
      },
      "source": [
        "<a href=\"https://colab.research.google.com/github/munmoom/second_semester/blob/main/%EA%B3%BC%EC%A0%9C2.ipynb\" target=\"_parent\"><img src=\"https://colab.research.google.com/assets/colab-badge.svg\" alt=\"Open In Colab\"/></a>"
      ]
    },
    {
      "cell_type": "code",
      "source": [
        "nums = [1,1,3,4,5,5,5]\n",
        "co_list=[]\n",
        "for i in range(1,10):\n",
        "  co_list.append(nums.count(i))\n",
        "\n",
        "counting = co_list.copy()\n",
        "co_list.sort(reverse=True)\n",
        "\n",
        "if co_list[0] == co_list[1]:\n",
        "  result = 0\n",
        "else:\n",
        "  result = counting.index(co_list[0]) + 1\n",
        "\n",
        "print(result)"
      ],
      "metadata": {
        "colab": {
          "base_uri": "https://localhost:8080/"
        },
        "id": "14OZIRa6lLuX",
        "outputId": "60e66dd8-48f6-4d99-a71b-86b687c9f3a4"
      },
      "execution_count": 27,
      "outputs": [
        {
          "output_type": "stream",
          "name": "stdout",
          "text": [
            "5\n"
          ]
        }
      ]
    },
    {
      "cell_type": "code",
      "source": [
        "def solution(nums):\n",
        "  co_list=[]\n",
        "  for i in range(1,10):\n",
        "    co_list.append(nums.count(i))\n",
        "\n",
        "  counting = co_list.copy()\n",
        "  co_list.sort(reverse=True)\n",
        "\n",
        "  if co_list[0] == co_list[1]:\n",
        "    result = 0\n",
        "  else:\n",
        "    result = counting.index(co_list[0]) + 1\n",
        "    \n",
        "  return result"
      ],
      "metadata": {
        "id": "oWl6907Olay9"
      },
      "execution_count": 28,
      "outputs": []
    }
  ]
}