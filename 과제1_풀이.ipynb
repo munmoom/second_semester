{
  "nbformat": 4,
  "nbformat_minor": 0,
  "metadata": {
    "colab": {
      "provenance": [],
      "authorship_tag": "ABX9TyNyN+ap1wY5IFo+VDnpvpQG",
      "include_colab_link": true
    },
    "kernelspec": {
      "name": "python3",
      "display_name": "Python 3"
    },
    "language_info": {
      "name": "python"
    }
  },
  "cells": [
    {
      "cell_type": "markdown",
      "metadata": {
        "id": "view-in-github",
        "colab_type": "text"
      },
      "source": [
        "<a href=\"https://colab.research.google.com/github/munmoom/second_semester/blob/main/%EA%B3%BC%EC%A0%9C1_%ED%92%80%EC%9D%B4.ipynb\" target=\"_parent\"><img src=\"https://colab.research.google.com/assets/colab-badge.svg\" alt=\"Open In Colab\"/></a>"
      ]
    },
    {
      "cell_type": "markdown",
      "source": [
        "리스트에는 1부터 9까지\n",
        "\n",
        "길이는 1보다 큼(빈 리스트는 없다)\n",
        "\n",
        "빈도수가 가장 많은 원소를 반환\n",
        "\n",
        "없는 경우에는 0을 반환"
      ],
      "metadata": {
        "id": "3rFXWh5gubLi"
      }
    },
    {
      "cell_type": "code",
      "execution_count": null,
      "metadata": {
        "id": "LfOKLKLytBLQ"
      },
      "outputs": [],
      "source": [
        "#set으로 만들어서\n",
        "def solution(nums):\n",
        "  nums_set = list(set(nums))  ## unique한 애를 뽑아서\n",
        "  cnt = []\n",
        "  for i in nums_set:\n",
        "    cnt.append(nums.count(i)) ##\n",
        "  max_num = max(cnt)\n",
        "  len = cnt.count(max_num)    ##\n",
        "  if len == 1:\n",
        "    ans = nums_set[cnt.index(max_num)]\n",
        "  else:\n",
        "    ans = 0\n",
        "  return ans"
      ]
    },
    {
      "cell_type": "code",
      "source": [
        "def solution(nums):\n",
        "  list = []\n",
        "  for i in range(10):             ##\n",
        "    list.append(nums.count(i))\n",
        "  if list.count(max(list)) ==1:\n",
        "    return list.index(max(list))  ## index는 같은 수가 있을 때 가장 앞에 있는 수의 인덱스를 반환\n",
        "  else:\n",
        "    return 0"
      ],
      "metadata": {
        "id": "JZlnX778uysz"
      },
      "execution_count": null,
      "outputs": []
    },
    {
      "cell_type": "code",
      "source": [
        "def solution(nums):\n",
        "  freq = []\n",
        "  for m in nums:\n",
        "    x = nums.count(m)\n",
        "    freq.append(x)\n",
        "  if freq.count(max(freq)) == max(freq) :  ## 가장 큰 빈도수만큼 같은 수가 같은 개수로 나오면\n",
        "    return nums[freq.index(max(freq))]\n",
        "  else:\n",
        "    return 0"
      ],
      "metadata": {
        "id": "RLCH3oJ1uyva"
      },
      "execution_count": null,
      "outputs": []
    },
    {
      "cell_type": "code",
      "source": [
        "def solution(nums):\n",
        "  count_nums = [0]*10\n",
        "  for i in nums :         ## 직접 카운트\n",
        "    count_nums[i-1] += 1\n",
        "  a = sorted(tuple(count_nums))\n",
        "  if a[-1] != a[-2] :\n",
        "    return count_nums.index(max(count_nums))+1\n",
        "  else:\n",
        "    return 0"
      ],
      "metadata": {
        "id": "GwY4b1g3uyxj"
      },
      "execution_count": null,
      "outputs": []
    },
    {
      "cell_type": "code",
      "source": [
        "def solution(nums):\n",
        "  nums_cnt = dict()\n",
        "  for i in range(len(nums)):\n",
        "    con ={(nums[i]: nums.count(nums[i])}\n",
        "    nums_cnt.update(con)\n",
        "    if cnt,count(max(cnt)) ==1:\n",
        "      return max(nums_cnt,key=nums_cnt)\n",
        "\n",
        "\n",
        "\n",
        "      #ㅠㅠ"
      ],
      "metadata": {
        "colab": {
          "base_uri": "https://localhost:8080/",
          "height": 137
        },
        "id": "ZmFkGbUEyVJc",
        "outputId": "ac247da4-b6d4-4ebd-92a2-54e05656a9ad"
      },
      "execution_count": 1,
      "outputs": [
        {
          "output_type": "error",
          "ename": "SyntaxError",
          "evalue": "ignored",
          "traceback": [
            "\u001b[0;36m  File \u001b[0;32m\"<ipython-input-1-6ffd0686ed0c>\"\u001b[0;36m, line \u001b[0;32m4\u001b[0m\n\u001b[0;31m    con ={(nums[i]: nums.count(nums[i])}\u001b[0m\n\u001b[0m                  ^\u001b[0m\n\u001b[0;31mSyntaxError\u001b[0m\u001b[0;31m:\u001b[0m invalid syntax\n"
          ]
        }
      ]
    },
    {
      "cell_type": "code",
      "source": [
        "def solution(nums):\n",
        "  set_nums = set(nums)\n",
        "\n",
        "  while True:\n",
        "    for i in set_nums:\n",
        "      if i in nums:\n",
        "        nums.remove(i)  ##\n",
        "        \n",
        "  if len(nums)==1:\n",
        "    return nums[0]\n",
        "  if len(nums) == 0:\n",
        "    return 0\n",
        "\n",
        "    ## 처음 리스트에 원소가 하나뿐인 경우 불가"
      ],
      "metadata": {
        "id": "XroqjQfCuyz6"
      },
      "execution_count": null,
      "outputs": []
    },
    {
      "cell_type": "code",
      "source": [
        "def solution(nums):\n",
        "  set_nums = set(nums)\n",
        "\n",
        "  while True:\n",
        "   if len(nums)==1:\n",
        "     return nums[0]\n",
        "   if len(nums) == 0:\n",
        "     return 0\n",
        "\n",
        "  for i in set_nums:\n",
        "    if i in nums:\n",
        "      nums.remove(i)  ##"
      ],
      "metadata": {
        "id": "EqZdZLSUuy2B"
      },
      "execution_count": null,
      "outputs": []
    },
    {
      "cell_type": "code",
      "source": [
        "for i in range(len(nums)):\n",
        "m[nums[i]-1] += 1    ## 리스트m에 nums에 있는 수의 개수를 셈"
      ],
      "metadata": {
        "id": "P_br6YMCuy4K"
      },
      "execution_count": null,
      "outputs": []
    },
    {
      "cell_type": "markdown",
      "source": [
        "고치기"
      ],
      "metadata": {
        "id": "L7yQ1nhe3YeM"
      }
    },
    {
      "cell_type": "code",
      "source": [
        "list1 = [1,2,3]\n",
        "list1.count(6)"
      ],
      "metadata": {
        "colab": {
          "base_uri": "https://localhost:8080/"
        },
        "id": "G9Ql7HH5uy8i",
        "outputId": "c32334f8-172e-4d2c-b8fc-534bc0ca4bc5"
      },
      "execution_count": 2,
      "outputs": [
        {
          "output_type": "execute_result",
          "data": {
            "text/plain": [
              "0"
            ]
          },
          "metadata": {},
          "execution_count": 2
        }
      ]
    },
    {
      "cell_type": "code",
      "source": [
        "def solution (nums):\n",
        "  fak = [0]*(len(nums))  ## [0]*10\n",
        "  for i in nums:\n",
        "     fak[i] = fak[i]+1\n",
        "  if fak.count(max(fak)) > 1:\n",
        "       return 0\n",
        "  else:\n",
        "       return fak.index(max(fak))"
      ],
      "metadata": {
        "id": "pIQtHpbCuy-a"
      },
      "execution_count": 22,
      "outputs": []
    },
    {
      "cell_type": "code",
      "source": [
        "nums = [2, 2, 1, 1, 1, 2, 2, 9]\n",
        "solution(nums)"
      ],
      "metadata": {
        "colab": {
          "base_uri": "https://localhost:8080/",
          "height": 321
        },
        "id": "kHJjNAX940jS",
        "outputId": "74a046e2-1c43-4ad0-ec20-e97202ff99fb"
      },
      "execution_count": 24,
      "outputs": [
        {
          "output_type": "error",
          "ename": "IndexError",
          "evalue": "ignored",
          "traceback": [
            "\u001b[0;31m---------------------------------------------------------------------------\u001b[0m",
            "\u001b[0;31mIndexError\u001b[0m                                Traceback (most recent call last)",
            "\u001b[0;32m<ipython-input-24-c459f7056f36>\u001b[0m in \u001b[0;36m<module>\u001b[0;34m\u001b[0m\n\u001b[1;32m      1\u001b[0m \u001b[0mnums\u001b[0m \u001b[0;34m=\u001b[0m \u001b[0;34m[\u001b[0m\u001b[0;36m2\u001b[0m\u001b[0;34m,\u001b[0m \u001b[0;36m2\u001b[0m\u001b[0;34m,\u001b[0m \u001b[0;36m1\u001b[0m\u001b[0;34m,\u001b[0m \u001b[0;36m1\u001b[0m\u001b[0;34m,\u001b[0m \u001b[0;36m1\u001b[0m\u001b[0;34m,\u001b[0m \u001b[0;36m2\u001b[0m\u001b[0;34m,\u001b[0m \u001b[0;36m2\u001b[0m\u001b[0;34m,\u001b[0m \u001b[0;36m9\u001b[0m\u001b[0;34m]\u001b[0m\u001b[0;34m\u001b[0m\u001b[0;34m\u001b[0m\u001b[0m\n\u001b[0;32m----> 2\u001b[0;31m \u001b[0msolution\u001b[0m\u001b[0;34m(\u001b[0m\u001b[0mnums\u001b[0m\u001b[0;34m)\u001b[0m\u001b[0;34m\u001b[0m\u001b[0;34m\u001b[0m\u001b[0m\n\u001b[0m",
            "\u001b[0;32m<ipython-input-22-f23e1777b643>\u001b[0m in \u001b[0;36msolution\u001b[0;34m(nums)\u001b[0m\n\u001b[1;32m      2\u001b[0m   \u001b[0mfak\u001b[0m \u001b[0;34m=\u001b[0m \u001b[0;34m[\u001b[0m\u001b[0;36m0\u001b[0m\u001b[0;34m]\u001b[0m\u001b[0;34m*\u001b[0m\u001b[0;34m(\u001b[0m\u001b[0mlen\u001b[0m\u001b[0;34m(\u001b[0m\u001b[0mnums\u001b[0m\u001b[0;34m)\u001b[0m\u001b[0;34m)\u001b[0m  \u001b[0;31m## [0]*10\u001b[0m\u001b[0;34m\u001b[0m\u001b[0;34m\u001b[0m\u001b[0m\n\u001b[1;32m      3\u001b[0m   \u001b[0;32mfor\u001b[0m \u001b[0mi\u001b[0m \u001b[0;32min\u001b[0m \u001b[0mnums\u001b[0m\u001b[0;34m:\u001b[0m\u001b[0;34m\u001b[0m\u001b[0;34m\u001b[0m\u001b[0m\n\u001b[0;32m----> 4\u001b[0;31m      \u001b[0mfak\u001b[0m\u001b[0;34m[\u001b[0m\u001b[0mi\u001b[0m\u001b[0;34m]\u001b[0m \u001b[0;34m=\u001b[0m \u001b[0mfak\u001b[0m\u001b[0;34m[\u001b[0m\u001b[0mi\u001b[0m\u001b[0;34m]\u001b[0m\u001b[0;34m+\u001b[0m\u001b[0;36m1\u001b[0m\u001b[0;34m\u001b[0m\u001b[0;34m\u001b[0m\u001b[0m\n\u001b[0m\u001b[1;32m      5\u001b[0m   \u001b[0;32mif\u001b[0m \u001b[0mfak\u001b[0m\u001b[0;34m.\u001b[0m\u001b[0mcount\u001b[0m\u001b[0;34m(\u001b[0m\u001b[0mmax\u001b[0m\u001b[0;34m(\u001b[0m\u001b[0mfak\u001b[0m\u001b[0;34m)\u001b[0m\u001b[0;34m)\u001b[0m \u001b[0;34m>\u001b[0m \u001b[0;36m1\u001b[0m\u001b[0;34m:\u001b[0m\u001b[0;34m\u001b[0m\u001b[0;34m\u001b[0m\u001b[0m\n\u001b[1;32m      6\u001b[0m        \u001b[0;32mreturn\u001b[0m \u001b[0;36m0\u001b[0m\u001b[0;34m\u001b[0m\u001b[0;34m\u001b[0m\u001b[0m\n",
            "\u001b[0;31mIndexError\u001b[0m: list index out of range"
          ]
        }
      ]
    },
    {
      "cell_type": "code",
      "source": [],
      "metadata": {
        "id": "h2na125f40eS"
      },
      "execution_count": null,
      "outputs": []
    }
  ]
}