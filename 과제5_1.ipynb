{
  "nbformat": 4,
  "nbformat_minor": 0,
  "metadata": {
    "colab": {
      "provenance": [],
      "authorship_tag": "ABX9TyOBYPERbL8ISilhiRfq0LF/",
      "include_colab_link": true
    },
    "kernelspec": {
      "name": "python3",
      "display_name": "Python 3"
    },
    "language_info": {
      "name": "python"
    }
  },
  "cells": [
    {
      "cell_type": "markdown",
      "metadata": {
        "id": "view-in-github",
        "colab_type": "text"
      },
      "source": [
        "<a href=\"https://colab.research.google.com/github/munmoom/second_semester/blob/main/%EA%B3%BC%EC%A0%9C5_1.ipynb\" target=\"_parent\"><img src=\"https://colab.research.google.com/assets/colab-badge.svg\" alt=\"Open In Colab\"/></a>"
      ]
    },
    {
      "cell_type": "code",
      "execution_count": 7,
      "metadata": {
        "colab": {
          "base_uri": "https://localhost:8080/"
        },
        "id": "CThG1cC7bNEK",
        "outputId": "c9ade7e3-a0eb-4ab8-d4d2-b84c86378327"
      },
      "outputs": [
        {
          "output_type": "stream",
          "name": "stdout",
          "text": [
            "[1, 100, 101, 201, 302, 503, 805, 1308, 2113, 3421, 5534, 8955, 14489, 23444, 37933, 61377, 99310, 160687, 259997, 420684]\n",
            "20\n"
          ]
        }
      ],
      "source": [
        "a = 1\n",
        "b = 100\n",
        "allist=[1, 100]\n",
        "\n",
        "\n",
        "r1 = a\n",
        "r2 = b\n",
        "for i in range(18):\n",
        "  r3 = r1+r2\n",
        "  r1 = r2\n",
        "  r2 = r3\n",
        "  allist.append(r2)\n",
        "\n",
        "print(allist)\n",
        "print(len(allist))"
      ]
    },
    {
      "cell_type": "code",
      "source": [
        "cal=[]\n",
        "for i in allist:\n",
        "  p = i//100\n",
        "  q = i%100\n",
        "  cal.append((p,q))\n",
        "\n",
        "print(cal)\n",
        "print(len(cal))"
      ],
      "metadata": {
        "colab": {
          "base_uri": "https://localhost:8080/"
        },
        "id": "_gbwc5oycG3C",
        "outputId": "e88d87a9-a62f-4f4e-a05a-3ad64f009925"
      },
      "execution_count": 8,
      "outputs": [
        {
          "output_type": "stream",
          "name": "stdout",
          "text": [
            "[(0, 1), (1, 0), (1, 1), (2, 1), (3, 2), (5, 3), (8, 5), (13, 8), (21, 13), (34, 21), (55, 34), (89, 55), (144, 89), (234, 44), (379, 33), (613, 77), (993, 10), (1606, 87), (2599, 97), (4206, 84)]\n",
            "20\n"
          ]
        }
      ]
    },
    {
      "cell_type": "code",
      "source": [
        "a, b = cal[D-1]\n"
      ],
      "metadata": {
        "id": "WHHi1YrHc5Ui"
      },
      "execution_count": null,
      "outputs": []
    }
  ]
}