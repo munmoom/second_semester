{
  "nbformat": 4,
  "nbformat_minor": 0,
  "metadata": {
    "colab": {
      "provenance": [],
      "authorship_tag": "ABX9TyNwmoAK3ozbxULnbcgJKS5r",
      "include_colab_link": true
    },
    "kernelspec": {
      "name": "python3",
      "display_name": "Python 3"
    },
    "language_info": {
      "name": "python"
    }
  },
  "cells": [
    {
      "cell_type": "markdown",
      "metadata": {
        "id": "view-in-github",
        "colab_type": "text"
      },
      "source": [
        "<a href=\"https://colab.research.google.com/github/munmoom/second_semester/blob/main/%EA%B3%BC%EC%A0%9C5_1.ipynb\" target=\"_parent\"><img src=\"https://colab.research.google.com/assets/colab-badge.svg\" alt=\"Open In Colab\"/></a>"
      ]
    },
    {
      "cell_type": "code",
      "execution_count": 7,
      "metadata": {
        "colab": {
          "base_uri": "https://localhost:8080/"
        },
        "id": "CThG1cC7bNEK",
        "outputId": "c9ade7e3-a0eb-4ab8-d4d2-b84c86378327"
      },
      "outputs": [
        {
          "output_type": "stream",
          "name": "stdout",
          "text": [
            "[1, 100, 101, 201, 302, 503, 805, 1308, 2113, 3421, 5534, 8955, 14489, 23444, 37933, 61377, 99310, 160687, 259997, 420684]\n",
            "20\n"
          ]
        }
      ],
      "source": [
        "a = 1\n",
        "b = 100\n",
        "allist=[1, 100]\n",
        "\n",
        "\n",
        "r1 = a\n",
        "r2 = b\n",
        "for i in range(18):\n",
        "  r3 = r1+r2\n",
        "  r1 = r2\n",
        "  r2 = r3\n",
        "  allist.append(r2)\n",
        "\n",
        "print(allist)\n",
        "print(len(allist))"
      ]
    },
    {
      "cell_type": "code",
      "source": [
        "cal=[]\n",
        "for i in allist:\n",
        "  p = i%100\n",
        "  q = i//100\n",
        "  cal.append((p,q))\n",
        "\n",
        "print(cal)\n",
        "print(len(cal))"
      ],
      "metadata": {
        "colab": {
          "base_uri": "https://localhost:8080/"
        },
        "id": "_gbwc5oycG3C",
        "outputId": "40f2df83-f7ae-46af-8c11-a0f3a2c11849"
      },
      "execution_count": 19,
      "outputs": [
        {
          "output_type": "stream",
          "name": "stdout",
          "text": [
            "[(1, 0), (0, 1), (1, 1), (1, 2), (2, 3), (3, 5), (5, 8), (8, 13), (13, 21), (21, 34), (34, 55), (55, 89), (89, 144), (44, 234), (33, 379), (77, 613), (10, 993), (87, 1606), (97, 2599), (84, 4206)]\n",
            "20\n"
          ]
        }
      ]
    },
    {
      "cell_type": "code",
      "source": [
        "D = 6\n",
        "M = 31"
      ],
      "metadata": {
        "id": "uOH4kLOPe7SR"
      },
      "execution_count": 34,
      "outputs": []
    },
    {
      "cell_type": "code",
      "source": [
        "a, b = cal[D-1]\n",
        "print(a, b)\n",
        "\n",
        "x = 1\n",
        "def isitint():\n",
        "  global x\n",
        "  y = (M/b) - (a/b)*x\n",
        "  if y == int(y):\n",
        "    print(y)\n",
        "    return (x, int(y))\n",
        "  else:\n",
        "    x = x+1\n",
        "    isitint()\n",
        "  return (x, int(y))\n",
        "\n",
        "x, y = isitint()\n",
        "print(x, int(y))"
      ],
      "metadata": {
        "colab": {
          "base_uri": "https://localhost:8080/"
        },
        "id": "WHHi1YrHc5Ui",
        "outputId": "f9c6b915-1af7-4223-86bb-fcc0ac6979b2"
      },
      "execution_count": 35,
      "outputs": [
        {
          "output_type": "stream",
          "name": "stdout",
          "text": [
            "3 5\n",
            "5.0\n",
            "2 5\n"
          ]
        }
      ]
    },
    {
      "cell_type": "markdown",
      "source": [
        "이 방법 가능한가..?\n",
        "가능할듯"
      ],
      "metadata": {
        "id": "LTSWjKHViY2p"
      }
    }
  ]
}