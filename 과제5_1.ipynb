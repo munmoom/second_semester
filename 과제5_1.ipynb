{
  "nbformat": 4,
  "nbformat_minor": 0,
  "metadata": {
    "colab": {
      "provenance": [],
      "authorship_tag": "ABX9TyPD0AF3kaArXskD4cwBkufs",
      "include_colab_link": true
    },
    "kernelspec": {
      "name": "python3",
      "display_name": "Python 3"
    },
    "language_info": {
      "name": "python"
    }
  },
  "cells": [
    {
      "cell_type": "markdown",
      "metadata": {
        "id": "view-in-github",
        "colab_type": "text"
      },
      "source": [
        "<a href=\"https://colab.research.google.com/github/munmoom/second_semester/blob/main/%EA%B3%BC%EC%A0%9C5_1.ipynb\" target=\"_parent\"><img src=\"https://colab.research.google.com/assets/colab-badge.svg\" alt=\"Open In Colab\"/></a>"
      ]
    },
    {
      "cell_type": "code",
      "execution_count": 29,
      "metadata": {
        "colab": {
          "base_uri": "https://localhost:8080/"
        },
        "id": "CThG1cC7bNEK",
        "outputId": "7152117e-5c16-4525-b842-a5875f715698"
      },
      "outputs": [
        {
          "output_type": "stream",
          "name": "stdout",
          "text": [
            "[1, 100, 101, 201, 302, 503, 805, 1308, 2113, 3421, 5534, 8955, 14489, 23444, 37933, 61377, 99310, 160687, 259997, 420684]\n",
            "20\n"
          ]
        }
      ],
      "source": [
        "a = 1\n",
        "b = 100\n",
        "allist=[1, 100]\n",
        "\n",
        "\n",
        "r1 = a\n",
        "r2 = b\n",
        "for i in range(18):\n",
        "  r3 = r1+r2\n",
        "  r1 = r2\n",
        "  r2 = r3\n",
        "  allist.append(r2)\n",
        "\n",
        "print(allist)\n",
        "print(len(allist))"
      ]
    },
    {
      "cell_type": "code",
      "source": [
        "cal=[]\n",
        "for i in allist:\n",
        "  p = i%100\n",
        "  q = i//100\n",
        "  cal.append((p,q))\n",
        "\n",
        "print(cal)\n",
        "print(len(cal))"
      ],
      "metadata": {
        "colab": {
          "base_uri": "https://localhost:8080/"
        },
        "id": "_gbwc5oycG3C",
        "outputId": "25180459-40c6-4cba-edf8-eac8849ebaf0"
      },
      "execution_count": 30,
      "outputs": [
        {
          "output_type": "stream",
          "name": "stdout",
          "text": [
            "[(1, 0), (0, 1), (1, 1), (1, 2), (2, 3), (3, 5), (5, 8), (8, 13), (13, 21), (21, 34), (34, 55), (55, 89), (89, 144), (44, 234), (33, 379), (77, 613), (10, 993), (87, 1606), (97, 2599), (84, 4206)]\n",
            "20\n"
          ]
        }
      ]
    },
    {
      "cell_type": "code",
      "source": [
        "5*2 + 8*9"
      ],
      "metadata": {
        "colab": {
          "base_uri": "https://localhost:8080/"
        },
        "id": "-2hpIXfDqQOZ",
        "outputId": "ea0df527-14f1-4f64-c11a-82b971c9975e"
      },
      "execution_count": 37,
      "outputs": [
        {
          "output_type": "execute_result",
          "data": {
            "text/plain": [
              "82"
            ]
          },
          "metadata": {},
          "execution_count": 37
        }
      ]
    },
    {
      "cell_type": "code",
      "source": [
        "D = 7\n",
        "M = 82"
      ],
      "metadata": {
        "id": "uOH4kLOPe7SR"
      },
      "execution_count": 34,
      "outputs": []
    },
    {
      "cell_type": "code",
      "source": [
        "a, b = cal[D-1]\n",
        "print(f'a,b값: {a}, {b}')\n",
        "\n",
        "x = 1\n",
        "def isitint():\n",
        "  global x\n",
        "  y = (M/b) - (a/b)*x\n",
        "  if y == int(y):\n",
        "    print(f'y값: {y}')\n",
        "    return (x, int(y))\n",
        "  else:\n",
        "    print(f'y값: {y}')\n",
        "    x = x+1\n",
        "    print(f'x값: {x}')\n",
        "    \n",
        "  isitint()\n",
        "  return (x, int(y))\n",
        "\n",
        "x, y = isitint()\n",
        "print(x, int(y))"
      ],
      "metadata": {
        "colab": {
          "base_uri": "https://localhost:8080/"
        },
        "id": "WHHi1YrHc5Ui",
        "outputId": "6969eb9e-45e2-4edc-cf4e-511ed543d741"
      },
      "execution_count": 35,
      "outputs": [
        {
          "output_type": "stream",
          "name": "stdout",
          "text": [
            "a,b값: 5, 8\n",
            "y값: 9.625\n",
            "x값: 2\n",
            "y값: 9.0\n",
            "2 9\n"
          ]
        }
      ]
    },
    {
      "cell_type": "code",
      "source": [
        "a, b = cal[D-1]\n",
        "print(f'a,b값: {a}, {b}')\n",
        "\n",
        "x = 1\n",
        "def isitint():\n",
        "  global x\n",
        "  y = (M/b) - (a/b)*x\n",
        "  if y == int(y):\n",
        "    print(f'y값: {y}')\n",
        "    return (x, int(y))\n",
        "  else:\n",
        "    print(f'y값: {y}')\n",
        "    x = x+1\n",
        "    print(f'x값: {x}')\n",
        "    \n",
        "  isitint()\n",
        "  return (x, int(y))\n",
        "\n",
        "x, y = isitint()\n",
        "print(x, int(y))"
      ],
      "metadata": {
        "id": "gyd-5SVkqB_P"
      },
      "execution_count": null,
      "outputs": []
    },
    {
      "cell_type": "code",
      "source": [
        "int(-2)\n",
        "y"
      ],
      "metadata": {
        "colab": {
          "base_uri": "https://localhost:8080/"
        },
        "id": "eVGO_mhWl7Un",
        "outputId": "332919b8-d50e-44f7-eb42-2e4f044bad1f"
      },
      "execution_count": 22,
      "outputs": [
        {
          "output_type": "execute_result",
          "data": {
            "text/plain": [
              "2"
            ]
          },
          "metadata": {},
          "execution_count": 22
        }
      ]
    },
    {
      "cell_type": "code",
      "source": [
        "x,y"
      ],
      "metadata": {
        "colab": {
          "base_uri": "https://localhost:8080/"
        },
        "id": "by1K1bcelzPV",
        "outputId": "8cab2a91-e642-4e41-edba-d8d3570173f1"
      },
      "execution_count": 8,
      "outputs": [
        {
          "output_type": "execute_result",
          "data": {
            "text/plain": [
              "(8, 2)"
            ]
          },
          "metadata": {},
          "execution_count": 8
        }
      ]
    },
    {
      "cell_type": "markdown",
      "source": [
        "이 방법 가능한가..?\n",
        "가능할듯"
      ],
      "metadata": {
        "id": "LTSWjKHViY2p"
      }
    },
    {
      "cell_type": "code",
      "source": [
        "def solution(D,M):\n",
        "  a = 1\n",
        "  b = 100\n",
        "  allist=[1, 100]\n",
        "\n",
        "\n",
        "  r1 = a\n",
        "  r2 = b\n",
        "  for i in range(18):\n",
        "    r3 = r1+r2\n",
        "    r1 = r2\n",
        "    r2 = r3\n",
        "    allist.append(r2)\n",
        "\n",
        "  cal=[]\n",
        "  for i in allist:\n",
        "    p = i%100\n",
        "    q = i//100\n",
        "    cal.append((p,q))\n",
        "\n",
        "  a, b = cal[D-1]\n",
        "\n",
        "  x = 1\n",
        "  \n",
        "  def isitint():\n",
        "    global x\n",
        "    y = (M/b) - (a/b)*x\n",
        "    print(y)\n",
        "    if y == int(y) and y > 0:\n",
        "      return (x, int(y))\n",
        "    else:\n",
        "      x = x+1\n",
        "      isitint()\n",
        "    return (x, int(y))\n",
        "\n",
        "  x, y = isitint()\n",
        "  print(x,y)\n",
        "  if x > y:\n",
        "    x,y = y,x\n",
        "  print(x, y)\n",
        "  return (x,y)"
      ],
      "metadata": {
        "id": "89AHrqkm9389"
      },
      "execution_count": null,
      "outputs": []
    },
    {
      "cell_type": "code",
      "source": [
        "solution(10,100)"
      ],
      "metadata": {
        "id": "jGPQbKq895WV"
      },
      "execution_count": null,
      "outputs": []
    },
    {
      "cell_type": "markdown",
      "source": [
        "# runtime error"
      ],
      "metadata": {
        "id": "NH5hud-Rrnui"
      }
    },
    {
      "cell_type": "markdown",
      "source": [
        "## 수정, Accepted"
      ],
      "metadata": {
        "id": "hq89y1EN6XEF"
      }
    },
    {
      "cell_type": "code",
      "source": [
        "def solution(D,M):\n",
        "  a = 1\n",
        "  b = 100\n",
        "  allist=[1, 100]\n",
        "  \n",
        "  r1 = a\n",
        "  r2 = b\n",
        "  for i in range(18):\n",
        "    r3 = r1+r2\n",
        "    r1 = r2\n",
        "    r2 = r3\n",
        "    allist.append(r2)\n",
        "\n",
        "  cal=[]\n",
        "  for i in allist:\n",
        "    p = i%100\n",
        "    q = i//100\n",
        "    cal.append((p,q))\n",
        "\n",
        "  a, b = cal[D-1]\n",
        "  x = 1\n",
        "  y = 1\n",
        "\n",
        "  def isitint():\n",
        "    nonlocal x\n",
        "    nonlocal y\n",
        "    y = (M/b) - (a/b)*x\n",
        "    if y == int(y):\n",
        "      #print('itsokay')\n",
        "      #print(type(x),type(y))\n",
        "      #print(x, y)\n",
        "      return x, y\n",
        "    else:\n",
        "      #print(x,y)\n",
        "      x += 1\n",
        "    isitint()\n",
        "\n",
        "  isitint()\n",
        "  y = int(y)\n",
        "  #print(x, y, end=',')\n",
        "  return(x, y)"
      ],
      "metadata": {
        "id": "MLUCUGZ-rmb1"
      },
      "execution_count": 77,
      "outputs": []
    },
    {
      "cell_type": "code",
      "source": [
        "solution(3, 2)"
      ],
      "metadata": {
        "colab": {
          "base_uri": "https://localhost:8080/"
        },
        "id": "qFIDE-Str6QN",
        "outputId": "9d62b2db-f35a-4641-df8b-cdb2f41f1220"
      },
      "execution_count": 76,
      "outputs": [
        {
          "output_type": "execute_result",
          "data": {
            "text/plain": [
              "(1, 1)"
            ]
          },
          "metadata": {},
          "execution_count": 76
        }
      ]
    },
    {
      "cell_type": "code",
      "source": [
        "import time\n",
        "\n",
        "start_time = time.time()\n",
        "\n",
        "solution(10, 89)\n",
        "\n",
        "end_time = time.time()\n",
        "print(end_time - start_time)"
      ],
      "metadata": {
        "colab": {
          "base_uri": "https://localhost:8080/"
        },
        "id": "dAKSWLBN9eWa",
        "outputId": "d8916a79-bdc6-4cff-dbcf-776bcd9bcd98"
      },
      "execution_count": 85,
      "outputs": [
        {
          "output_type": "stream",
          "name": "stdout",
          "text": [
            "0.0009100437164306641\n"
          ]
        }
      ]
    }
  ]
}