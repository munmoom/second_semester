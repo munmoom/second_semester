{
  "nbformat": 4,
  "nbformat_minor": 0,
  "metadata": {
    "colab": {
      "provenance": [],
      "authorship_tag": "ABX9TyNNkZh0lpGXyD0kEnLdX9BZ",
      "include_colab_link": true
    },
    "kernelspec": {
      "name": "python3",
      "display_name": "Python 3"
    },
    "language_info": {
      "name": "python"
    }
  },
  "cells": [
    {
      "cell_type": "markdown",
      "metadata": {
        "id": "view-in-github",
        "colab_type": "text"
      },
      "source": [
        "<a href=\"https://colab.research.google.com/github/munmoom/second_semester/blob/main/%EA%B3%BC%EC%A0%9C5_1.ipynb\" target=\"_parent\"><img src=\"https://colab.research.google.com/assets/colab-badge.svg\" alt=\"Open In Colab\"/></a>"
      ]
    },
    {
      "cell_type": "code",
      "execution_count": 29,
      "metadata": {
        "colab": {
          "base_uri": "https://localhost:8080/"
        },
        "id": "CThG1cC7bNEK",
        "outputId": "7152117e-5c16-4525-b842-a5875f715698"
      },
      "outputs": [
        {
          "output_type": "stream",
          "name": "stdout",
          "text": [
            "[1, 100, 101, 201, 302, 503, 805, 1308, 2113, 3421, 5534, 8955, 14489, 23444, 37933, 61377, 99310, 160687, 259997, 420684]\n",
            "20\n"
          ]
        }
      ],
      "source": [
        "a = 1\n",
        "b = 100\n",
        "allist=[1, 100]\n",
        "\n",
        "\n",
        "r1 = a\n",
        "r2 = b\n",
        "for i in range(18):\n",
        "  r3 = r1+r2\n",
        "  r1 = r2\n",
        "  r2 = r3\n",
        "  allist.append(r2)\n",
        "\n",
        "print(allist)\n",
        "print(len(allist))"
      ]
    },
    {
      "cell_type": "code",
      "source": [
        "cal=[]\n",
        "for i in allist:\n",
        "  p = i%100\n",
        "  q = i//100\n",
        "  cal.append((p,q))\n",
        "\n",
        "print(cal)\n",
        "print(len(cal))"
      ],
      "metadata": {
        "colab": {
          "base_uri": "https://localhost:8080/"
        },
        "id": "_gbwc5oycG3C",
        "outputId": "25180459-40c6-4cba-edf8-eac8849ebaf0"
      },
      "execution_count": 30,
      "outputs": [
        {
          "output_type": "stream",
          "name": "stdout",
          "text": [
            "[(1, 0), (0, 1), (1, 1), (1, 2), (2, 3), (3, 5), (5, 8), (8, 13), (13, 21), (21, 34), (34, 55), (55, 89), (89, 144), (44, 234), (33, 379), (77, 613), (10, 993), (87, 1606), (97, 2599), (84, 4206)]\n",
            "20\n"
          ]
        }
      ]
    },
    {
      "cell_type": "code",
      "source": [
        "5*2 + 8*9"
      ],
      "metadata": {
        "id": "-2hpIXfDqQOZ",
        "outputId": "ea0df527-14f1-4f64-c11a-82b971c9975e",
        "colab": {
          "base_uri": "https://localhost:8080/"
        }
      },
      "execution_count": 37,
      "outputs": [
        {
          "output_type": "execute_result",
          "data": {
            "text/plain": [
              "82"
            ]
          },
          "metadata": {},
          "execution_count": 37
        }
      ]
    },
    {
      "cell_type": "code",
      "source": [
        "D = 7\n",
        "M = 82"
      ],
      "metadata": {
        "id": "uOH4kLOPe7SR"
      },
      "execution_count": 34,
      "outputs": []
    },
    {
      "cell_type": "code",
      "source": [
        "a, b = cal[D-1]\n",
        "print(f'a,b값: {a}, {b}')\n",
        "\n",
        "x = 1\n",
        "def isitint():\n",
        "  global x\n",
        "  y = (M/b) - (a/b)*x\n",
        "  if y == int(y):\n",
        "    print(f'y값: {y}')\n",
        "    return (x, int(y))\n",
        "  else:\n",
        "    print(f'y값: {y}')\n",
        "    x = x+1\n",
        "    print(f'x값: {x}')\n",
        "    \n",
        "  isitint()\n",
        "  return (x, int(y))\n",
        "\n",
        "x, y = isitint()\n",
        "print(x, int(y))"
      ],
      "metadata": {
        "colab": {
          "base_uri": "https://localhost:8080/"
        },
        "id": "WHHi1YrHc5Ui",
        "outputId": "6969eb9e-45e2-4edc-cf4e-511ed543d741"
      },
      "execution_count": 35,
      "outputs": [
        {
          "output_type": "stream",
          "name": "stdout",
          "text": [
            "a,b값: 5, 8\n",
            "y값: 9.625\n",
            "x값: 2\n",
            "y값: 9.0\n",
            "2 9\n"
          ]
        }
      ]
    },
    {
      "cell_type": "code",
      "source": [
        "a, b = cal[D-1]\n",
        "print(f'a,b값: {a}, {b}')\n",
        "\n",
        "x = 1\n",
        "def isitint():\n",
        "  global x\n",
        "  y = (M/b) - (a/b)*x\n",
        "  if y == int(y):\n",
        "    print(f'y값: {y}')\n",
        "    return (x, int(y))\n",
        "  else:\n",
        "    print(f'y값: {y}')\n",
        "    x = x+1\n",
        "    print(f'x값: {x}')\n",
        "    \n",
        "  isitint()\n",
        "  return (x, int(y))\n",
        "\n",
        "x, y = isitint()\n",
        "print(x, int(y))"
      ],
      "metadata": {
        "id": "gyd-5SVkqB_P"
      },
      "execution_count": null,
      "outputs": []
    },
    {
      "cell_type": "code",
      "source": [
        "int(-2)\n",
        "y"
      ],
      "metadata": {
        "id": "eVGO_mhWl7Un",
        "outputId": "332919b8-d50e-44f7-eb42-2e4f044bad1f",
        "colab": {
          "base_uri": "https://localhost:8080/"
        }
      },
      "execution_count": 22,
      "outputs": [
        {
          "output_type": "execute_result",
          "data": {
            "text/plain": [
              "2"
            ]
          },
          "metadata": {},
          "execution_count": 22
        }
      ]
    },
    {
      "cell_type": "code",
      "source": [
        "x,y"
      ],
      "metadata": {
        "id": "by1K1bcelzPV",
        "outputId": "8cab2a91-e642-4e41-edba-d8d3570173f1",
        "colab": {
          "base_uri": "https://localhost:8080/"
        }
      },
      "execution_count": 8,
      "outputs": [
        {
          "output_type": "execute_result",
          "data": {
            "text/plain": [
              "(8, 2)"
            ]
          },
          "metadata": {},
          "execution_count": 8
        }
      ]
    },
    {
      "cell_type": "markdown",
      "source": [
        "이 방법 가능한가..?\n",
        "가능할듯"
      ],
      "metadata": {
        "id": "LTSWjKHViY2p"
      }
    },
    {
      "cell_type": "code",
      "source": [
        "def solution(D,M):\n",
        "  a = 1\n",
        "  b = 100\n",
        "  allist=[1, 100]\n",
        "\n",
        "\n",
        "  r1 = a\n",
        "  r2 = b\n",
        "  for i in range(18):\n",
        "    r3 = r1+r2\n",
        "    r1 = r2\n",
        "    r2 = r3\n",
        "    allist.append(r2)\n",
        "\n",
        "  cal=[]\n",
        "  for i in allist:\n",
        "    p = i%100\n",
        "    q = i//100\n",
        "    cal.append((p,q))\n",
        "\n",
        "  a, b = cal[D-1]\n",
        "\n",
        "  x = 1\n",
        "  \n",
        "  def isitint():\n",
        "    global x\n",
        "    y = (M/b) - (a/b)*x\n",
        "    print(y)\n",
        "    if y == int(y) and y > 0:\n",
        "      return (x, int(y))\n",
        "    else:\n",
        "      x = x+1\n",
        "      isitint()\n",
        "    return (x, int(y))\n",
        "\n",
        "  x, y = isitint()\n",
        "  print(x,y)\n",
        "  if x > y:\n",
        "    x,y = y,x\n",
        "  print(x, y)\n",
        "  return (x,y)"
      ],
      "metadata": {
        "id": "89AHrqkm9389"
      },
      "execution_count": null,
      "outputs": []
    },
    {
      "cell_type": "code",
      "source": [
        "solution(10,100)"
      ],
      "metadata": {
        "id": "jGPQbKq895WV"
      },
      "execution_count": null,
      "outputs": []
    },
    {
      "cell_type": "markdown",
      "source": [
        "# runtime error"
      ],
      "metadata": {
        "id": "NH5hud-Rrnui"
      }
    },
    {
      "cell_type": "code",
      "source": [
        "def solution(D,M):\n",
        "  a = 1\n",
        "  b = 100\n",
        "  allist=[1, 100]\n",
        "  \n",
        "  r1 = a\n",
        "  r2 = b\n",
        "  for i in range(18):\n",
        "    r3 = r1+r2\n",
        "    r1 = r2\n",
        "    r2 = r3\n",
        "    allist.append(r2)\n",
        "\n",
        "  cal=[]\n",
        "  for i in allist:\n",
        "    p = i%100\n",
        "    q = i//100\n",
        "    cal.append((p,q))\n",
        "\n",
        "  a, b = cal[D-1]\n",
        "\n",
        "  x = 1\n",
        "  def isitint():\n",
        "    global x\n",
        "    y = (M/b) - (a/b)*x\n",
        "    if y == int(y):\n",
        "      print('itsokay')\n",
        "      print(type(x),type(y))\n",
        "      print(x, y)\n",
        "      return x, y\n",
        "    else:\n",
        "      x = x+1\n",
        "    isitint()\n",
        "\n",
        "  \n",
        "  x, y = isitint()\n",
        "  print(x,y)\n",
        "  return(x, y)"
      ],
      "metadata": {
        "id": "MLUCUGZ-rmb1"
      },
      "execution_count": 93,
      "outputs": []
    },
    {
      "cell_type": "code",
      "source": [
        "x = 1\n",
        "solution(7, 82)"
      ],
      "metadata": {
        "id": "qFIDE-Str6QN",
        "outputId": "664e5b55-aeb7-4cb6-d2b6-f8a788149b6c",
        "colab": {
          "base_uri": "https://localhost:8080/",
          "height": 354
        }
      },
      "execution_count": 92,
      "outputs": [
        {
          "output_type": "stream",
          "name": "stdout",
          "text": [
            "itsokay\n",
            "<class 'int'> <class 'float'>\n"
          ]
        },
        {
          "output_type": "error",
          "ename": "TypeError",
          "evalue": "ignored",
          "traceback": [
            "\u001b[0;31m---------------------------------------------------------------------------\u001b[0m",
            "\u001b[0;31mTypeError\u001b[0m                                 Traceback (most recent call last)",
            "\u001b[0;32m<ipython-input-92-56f524dbd789>\u001b[0m in \u001b[0;36m<module>\u001b[0;34m\u001b[0m\n\u001b[1;32m      1\u001b[0m \u001b[0mx\u001b[0m \u001b[0;34m=\u001b[0m \u001b[0;36m1\u001b[0m\u001b[0;34m\u001b[0m\u001b[0;34m\u001b[0m\u001b[0m\n\u001b[0;32m----> 2\u001b[0;31m \u001b[0msolution\u001b[0m\u001b[0;34m(\u001b[0m\u001b[0;36m7\u001b[0m\u001b[0;34m,\u001b[0m \u001b[0;36m82\u001b[0m\u001b[0;34m)\u001b[0m\u001b[0;34m\u001b[0m\u001b[0;34m\u001b[0m\u001b[0m\n\u001b[0m",
            "\u001b[0;32m<ipython-input-91-0dddfab68531>\u001b[0m in \u001b[0;36msolution\u001b[0;34m(D, M)\u001b[0m\n\u001b[1;32m     33\u001b[0m \u001b[0;34m\u001b[0m\u001b[0m\n\u001b[1;32m     34\u001b[0m \u001b[0;34m\u001b[0m\u001b[0m\n\u001b[0;32m---> 35\u001b[0;31m   \u001b[0mx\u001b[0m\u001b[0;34m,\u001b[0m \u001b[0my\u001b[0m \u001b[0;34m=\u001b[0m \u001b[0misitint\u001b[0m\u001b[0;34m(\u001b[0m\u001b[0;34m)\u001b[0m\u001b[0;34m\u001b[0m\u001b[0;34m\u001b[0m\u001b[0m\n\u001b[0m\u001b[1;32m     36\u001b[0m   \u001b[0mprint\u001b[0m\u001b[0;34m(\u001b[0m\u001b[0mx\u001b[0m\u001b[0;34m,\u001b[0m\u001b[0my\u001b[0m\u001b[0;34m)\u001b[0m\u001b[0;34m\u001b[0m\u001b[0;34m\u001b[0m\u001b[0m\n\u001b[1;32m     37\u001b[0m   \u001b[0;32mreturn\u001b[0m\u001b[0;34m(\u001b[0m\u001b[0mx\u001b[0m\u001b[0;34m,\u001b[0m \u001b[0my\u001b[0m\u001b[0;34m)\u001b[0m\u001b[0;34m\u001b[0m\u001b[0;34m\u001b[0m\u001b[0m\n",
            "\u001b[0;31mTypeError\u001b[0m: cannot unpack non-iterable NoneType object"
          ]
        }
      ]
    },
    {
      "cell_type": "code",
      "source": [
        "p"
      ],
      "metadata": {
        "id": "94xxwYsGtWtb",
        "outputId": "c4a16ef3-7440-41fe-cfa8-96659a8bd2ca",
        "colab": {
          "base_uri": "https://localhost:8080/"
        }
      },
      "execution_count": 72,
      "outputs": [
        {
          "output_type": "execute_result",
          "data": {
            "text/plain": [
              "84"
            ]
          },
          "metadata": {},
          "execution_count": 72
        }
      ]
    },
    {
      "cell_type": "code",
      "source": [
        "type(y)"
      ],
      "metadata": {
        "id": "MTd0wrRYs_N-",
        "outputId": "1d476105-97d6-4f41-8543-864ef6df896b",
        "colab": {
          "base_uri": "https://localhost:8080/"
        }
      },
      "execution_count": 66,
      "outputs": [
        {
          "output_type": "execute_result",
          "data": {
            "text/plain": [
              "int"
            ]
          },
          "metadata": {},
          "execution_count": 66
        }
      ]
    },
    {
      "cell_type": "code",
      "source": [
        "def inni():\n",
        "  t = 3\n",
        "  n = 2\n",
        "  return t, n\n",
        "\n",
        "t, n = inni()\n",
        "\n",
        "print(t, n)"
      ],
      "metadata": {
        "id": "yG1O0wv5tmZX",
        "outputId": "ba40d986-fb0e-42c4-bb0a-2ee00a69a3c4",
        "colab": {
          "base_uri": "https://localhost:8080/"
        }
      },
      "execution_count": 78,
      "outputs": [
        {
          "output_type": "stream",
          "name": "stdout",
          "text": [
            "3 2\n"
          ]
        }
      ]
    }
  ]
}