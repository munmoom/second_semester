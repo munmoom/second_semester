{
  "nbformat": 4,
  "nbformat_minor": 0,
  "metadata": {
    "colab": {
      "provenance": [],
      "authorship_tag": "ABX9TyOYl6ON6nBlETvvlHPflneL",
      "include_colab_link": true
    },
    "kernelspec": {
      "name": "python3",
      "display_name": "Python 3"
    },
    "language_info": {
      "name": "python"
    }
  },
  "cells": [
    {
      "cell_type": "markdown",
      "metadata": {
        "id": "view-in-github",
        "colab_type": "text"
      },
      "source": [
        "<a href=\"https://colab.research.google.com/github/munmoom/second_semester/blob/main/%EB%A7%88%EC%A7%80%EB%A7%89_%EA%B3%BC%EC%A0%9C9.ipynb\" target=\"_parent\"><img src=\"https://colab.research.google.com/assets/colab-badge.svg\" alt=\"Open In Colab\"/></a>"
      ]
    },
    {
      "cell_type": "code",
      "source": [
        "n = 10\n",
        "lighthouse = [[4, 1], [5, 1], [5, 6], [7, 6], [1, 2], [1, 3], [6, 8], [2, 9], [9, 10]]"
      ],
      "metadata": {
        "id": "Rk6ujYxVU3CX"
      },
      "execution_count": 102,
      "outputs": []
    },
    {
      "cell_type": "code",
      "execution_count": 4,
      "metadata": {
        "id": "GyQ_JX5YSyJZ"
      },
      "outputs": [],
      "source": [
        "#def solution(n, lighthouse):"
      ]
    },
    {
      "cell_type": "markdown",
      "source": [
        "### 알고리즘 잘못짠듯. 방법이 잘못된듯."
      ],
      "metadata": {
        "id": "CNzskf4inSvk"
      }
    },
    {
      "cell_type": "code",
      "source": [
        "lighthouse = [[1,9],[9,2],[2,3],[3,5],[5,6],[6,7],[7,4],[7,8],[8,10]]\n",
        "\n",
        "def normalization():\n",
        "  max = 0\n",
        "  for i in dic:\n",
        "    max = dic[i] if dic[i] > max else max\n",
        "\n",
        "  for i in diction:\n",
        "    if dic[i] == max:\n",
        "      del dic[i]\n",
        "\n",
        "def makedic():\n",
        "  for a in lighthouse:\n",
        "    for b in a:\n",
        "      if dic.get(b):\n",
        "        dic[b] = dic[b]+1\n",
        "      else:\n",
        "        dic[b] = 1\n",
        "  return dic\n",
        "\n",
        "dic = {}\n",
        "dic = makedic()\n",
        "diction = [i for i in dic]\n",
        "if len(dic) == 1 or 2:\n",
        "  print(1)\n",
        "\n",
        "\n",
        "#사라진 key개수를 count, 단 \n",
        "count = 0\n",
        "while len(dic) != 0:\n",
        "  normalization()\n",
        "  se = set(dic)\n",
        "  diction = set(diction)\n",
        "  diction = list(se & diction)\n",
        "  count += 1\n",
        "\n",
        "print(count)"
      ],
      "metadata": {
        "colab": {
          "base_uri": "https://localhost:8080/"
        },
        "id": "Kb3vmUt5jDjZ",
        "outputId": "8f289ff3-efd8-4dd5-f79c-7c10303ad07e"
      },
      "execution_count": 125,
      "outputs": [
        {
          "output_type": "stream",
          "name": "stdout",
          "text": [
            "1\n",
            "3\n"
          ]
        }
      ]
    },
    {
      "cell_type": "markdown",
      "source": [
        "## 재시도\n",
        "### lighthouse리스트에서, 선택된 등대 번호가 존재하는 길들은 모두 삭제하고, dic을 다시 만든다."
      ],
      "metadata": {
        "id": "_TfHeKH7nbAP"
      }
    },
    {
      "cell_type": "code",
      "source": [],
      "metadata": {
        "id": "BwTai6Dbn5_t"
      },
      "execution_count": null,
      "outputs": []
    }
  ]
}