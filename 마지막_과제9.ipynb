{
  "nbformat": 4,
  "nbformat_minor": 0,
  "metadata": {
    "colab": {
      "provenance": [],
      "authorship_tag": "ABX9TyN5irdkYRti4pV6EPBnWe9z",
      "include_colab_link": true
    },
    "kernelspec": {
      "name": "python3",
      "display_name": "Python 3"
    },
    "language_info": {
      "name": "python"
    }
  },
  "cells": [
    {
      "cell_type": "markdown",
      "metadata": {
        "id": "view-in-github",
        "colab_type": "text"
      },
      "source": [
        "<a href=\"https://colab.research.google.com/github/munmoom/second_semester/blob/main/%EB%A7%88%EC%A7%80%EB%A7%89_%EA%B3%BC%EC%A0%9C9.ipynb\" target=\"_parent\"><img src=\"https://colab.research.google.com/assets/colab-badge.svg\" alt=\"Open In Colab\"/></a>"
      ]
    },
    {
      "cell_type": "code",
      "execution_count": null,
      "metadata": {
        "id": "GyQ_JX5YSyJZ"
      },
      "outputs": [],
      "source": [
        "def solution(n, lighthouse):"
      ]
    },
    {
      "cell_type": "code",
      "source": [
        "dic = {}\n",
        "\n",
        "for a in lighthouse:\n",
        "  for b in a:\n",
        "    if dic.get(b):\n",
        "      dic[b] = dic[b]+1\n",
        "    else:\n",
        "      dic[b] = 1\n",
        "\n",
        "print(dic)"
      ],
      "metadata": {
        "colab": {
          "base_uri": "https://localhost:8080/"
        },
        "id": "TLfdORF7S25X",
        "outputId": "1ba3a591-c14b-45d3-91c6-d3157555a0b2"
      },
      "execution_count": 14,
      "outputs": [
        {
          "output_type": "stream",
          "name": "stdout",
          "text": [
            "{4: 1, 1: 4, 5: 2, 6: 3, 7: 1, 2: 2, 3: 1, 8: 1, 9: 2, 10: 1}\n"
          ]
        }
      ]
    },
    {
      "cell_type": "code",
      "source": [
        "min = dic[1]\n",
        "for i in range(1,n+1):\n",
        "  min = dic[i] if dic[i] < min else min\n",
        "\n",
        "for i in range(1,n+1):\n",
        "  if dic[i] == min:\n",
        "    del dic[i]\n",
        "print(dic)"
      ],
      "metadata": {
        "colab": {
          "base_uri": "https://localhost:8080/"
        },
        "id": "2h96ZBCLVd8v",
        "outputId": "f62a1236-0b8b-4285-bb2d-b31d5bd38cca"
      },
      "execution_count": 12,
      "outputs": [
        {
          "output_type": "stream",
          "name": "stdout",
          "text": [
            "{1: 4, 5: 2, 6: 3, 2: 2, 9: 2}\n"
          ]
        }
      ]
    },
    {
      "cell_type": "code",
      "source": [
        "max = dic[1]\n",
        "for i in range(1,n+1):\n",
        "  max = dic[i] if dic[i] > max else max\n",
        "\n",
        "for i in range(1,n+1):\n",
        "  if dic[i] == max:\n",
        "    del dic[i]\n",
        "print(dic)"
      ],
      "metadata": {
        "colab": {
          "base_uri": "https://localhost:8080/"
        },
        "id": "ishwrotSW_Xh",
        "outputId": "f4f07488-691a-4d13-9a82-ff795f0ea30d"
      },
      "execution_count": 15,
      "outputs": [
        {
          "output_type": "stream",
          "name": "stdout",
          "text": [
            "{4: 1, 5: 2, 6: 3, 7: 1, 2: 2, 3: 1, 8: 1, 9: 2, 10: 1}\n"
          ]
        }
      ]
    },
    {
      "cell_type": "code",
      "source": [
        "n = 10\n",
        "lighthouse = [[4, 1], [5, 1], [5, 6], [7, 6], [1, 2], [1, 3], [6, 8], [2, 9], [9, 10]]"
      ],
      "metadata": {
        "id": "Rk6ujYxVU3CX"
      },
      "execution_count": 7,
      "outputs": []
    }
  ]
}