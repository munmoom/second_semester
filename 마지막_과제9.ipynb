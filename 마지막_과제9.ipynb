{
  "nbformat": 4,
  "nbformat_minor": 0,
  "metadata": {
    "colab": {
      "provenance": [],
      "authorship_tag": "ABX9TyOKLUMmi8XNzx+xfpdoj3bq",
      "include_colab_link": true
    },
    "kernelspec": {
      "name": "python3",
      "display_name": "Python 3"
    },
    "language_info": {
      "name": "python"
    }
  },
  "cells": [
    {
      "cell_type": "markdown",
      "metadata": {
        "id": "view-in-github",
        "colab_type": "text"
      },
      "source": [
        "<a href=\"https://colab.research.google.com/github/munmoom/second_semester/blob/main/%EB%A7%88%EC%A7%80%EB%A7%89_%EA%B3%BC%EC%A0%9C9.ipynb\" target=\"_parent\"><img src=\"https://colab.research.google.com/assets/colab-badge.svg\" alt=\"Open In Colab\"/></a>"
      ]
    },
    {
      "cell_type": "code",
      "source": [
        "n = 10\n",
        "lighthouse = [[4, 1], [5, 1], [5, 6], [7, 6], [1, 2], [1, 3], [6, 8], [2, 9], [9, 10]]"
      ],
      "metadata": {
        "id": "Rk6ujYxVU3CX"
      },
      "execution_count": 9,
      "outputs": []
    },
    {
      "cell_type": "code",
      "execution_count": null,
      "metadata": {
        "id": "GyQ_JX5YSyJZ"
      },
      "outputs": [],
      "source": [
        "#def solution(n, lighthouse):"
      ]
    },
    {
      "cell_type": "markdown",
      "source": [
        "### 알고리즘 잘못짠듯. 방법이 잘못된듯."
      ],
      "metadata": {
        "id": "CNzskf4inSvk"
      }
    },
    {
      "cell_type": "code",
      "source": [
        "lighthouse = [[1,9],[9,2],[2,3],[3,5],[5,6],[6,7],[7,4],[7,8],[8,10]]\n",
        "\n",
        "def normalization():\n",
        "  max = 0\n",
        "  for i in dic:\n",
        "    max = dic[i] if dic[i] > max else max\n",
        "\n",
        "  for i in diction:\n",
        "    if dic[i] == max:\n",
        "      del dic[i]\n",
        "\n",
        "def makedic():\n",
        "  for a in lighthouse:\n",
        "    for b in a:\n",
        "      if dic.get(b):\n",
        "        dic[b] = dic[b]+1\n",
        "      else:\n",
        "        dic[b] = 1\n",
        "  return dic\n",
        "\n",
        "dic = {}\n",
        "dic = makedic()\n",
        "diction = [i for i in dic]\n",
        "if len(dic) == 1 or 2:\n",
        "  print(1)\n",
        "\n",
        "\n",
        "#사라진 key개수를 count, 단 \n",
        "count = 0\n",
        "while len(dic) != 0:\n",
        "  normalization()\n",
        "  se = set(dic)\n",
        "  diction = set(diction)\n",
        "  diction = list(se & diction)\n",
        "  count += 1\n",
        "\n",
        "print(count)"
      ],
      "metadata": {
        "colab": {
          "base_uri": "https://localhost:8080/"
        },
        "id": "Kb3vmUt5jDjZ",
        "outputId": "8f289ff3-efd8-4dd5-f79c-7c10303ad07e"
      },
      "execution_count": null,
      "outputs": [
        {
          "output_type": "stream",
          "name": "stdout",
          "text": [
            "1\n",
            "3\n"
          ]
        }
      ]
    },
    {
      "cell_type": "markdown",
      "source": [
        "## 재시도\n",
        "### lighthouse리스트에서, 선택된 등대 번호가 존재하는 길들은 모두 삭제하고, dic을 다시 만든다."
      ],
      "metadata": {
        "id": "_TfHeKH7nbAP"
      }
    },
    {
      "cell_type": "code",
      "source": [
        "def makedic():  #등대나온횟수카운트\n",
        "  for a in lighthouse:\n",
        "    for b in a:\n",
        "      if dic.get(b):\n",
        "        dic[b] = dic[b]+1\n",
        "      else:\n",
        "        dic[b] = 1\n",
        "  return dic\n",
        "\n",
        "def makediction():  #diction리스트만듦\n",
        "  return [i for i in dic]\n",
        "'''\n",
        "또는\n",
        "def editdiction():\n",
        "  se = set(dic)\n",
        "  diction = set(diction)\n",
        "  diction = list(se & diction)\n",
        "'''\n",
        "\n",
        "def normalization():  #dic에서가장자주나온등대번호뺌\n",
        "  max = 0\n",
        "  for i in dic:\n",
        "    max = dic[i] if dic[i] > max else max\n",
        "\n",
        "  for i in diction:\n",
        "    if dic[i] == max:\n",
        "      del dic[i]\n"
      ],
      "metadata": {
        "id": "BwTai6Dbn5_t"
      },
      "execution_count": 10,
      "outputs": []
    },
    {
      "cell_type": "code",
      "source": [
        "dic={}\n",
        "dic = makedic()\n",
        "diction = makediction()\n",
        "normalization()\n",
        "lightindex = []"
      ],
      "metadata": {
        "id": "A_o2G6g2gGQM"
      },
      "execution_count": 41,
      "outputs": []
    },
    {
      "cell_type": "code",
      "source": [
        "#diction에는\n",
        "for p in lighthouse:\n",
        "  for q in diction:\n",
        "   if q in p:\n",
        "      lightindex.append(lighthouse.index(p))\n",
        "      break\n",
        "print(lightindex)"
      ],
      "metadata": {
        "id": "ySf0hX_VimtU",
        "outputId": "1a7a619b-5288-4069-d71f-1811f4db816a",
        "colab": {
          "base_uri": "https://localhost:8080/"
        }
      },
      "execution_count": 39,
      "outputs": [
        {
          "output_type": "stream",
          "name": "stdout",
          "text": [
            "[0, 1, 2, 3, 4, 5, 6, 7, 8]\n"
          ]
        }
      ]
    },
    {
      "cell_type": "code",
      "source": [
        "lighthouse"
      ],
      "metadata": {
        "id": "zTekjlPNi8GA",
        "outputId": "05e91634-a178-48cd-98d8-898a1d1180d0",
        "colab": {
          "base_uri": "https://localhost:8080/"
        }
      },
      "execution_count": 35,
      "outputs": [
        {
          "output_type": "execute_result",
          "data": {
            "text/plain": [
              "[[4, 1], [5, 1], [5, 6], [7, 6], [1, 2], [1, 3], [6, 8], [2, 9], [9, 10]]"
            ]
          },
          "metadata": {},
          "execution_count": 35
        }
      ]
    },
    {
      "cell_type": "code",
      "source": [
        "print(dic)"
      ],
      "metadata": {
        "id": "4jMuIZI-gqcb",
        "outputId": "2689fc5b-5f81-4753-e1fc-e42fbbd456ff",
        "colab": {
          "base_uri": "https://localhost:8080/"
        }
      },
      "execution_count": 22,
      "outputs": [
        {
          "output_type": "stream",
          "name": "stdout",
          "text": [
            "{4: 1, 1: 4, 5: 2, 6: 3, 7: 1, 2: 2, 3: 1, 8: 1, 9: 2, 10: 1}\n"
          ]
        }
      ]
    },
    {
      "cell_type": "code",
      "source": [
        "def makediction():\n",
        "  return [i for i in dic]\n",
        "\n",
        "diction = makediction()\n",
        "print(diction)"
      ],
      "metadata": {
        "id": "suENPDUQhlZb",
        "outputId": "bd82a972-89be-44cd-b8b7-4245bafd0768",
        "colab": {
          "base_uri": "https://localhost:8080/"
        }
      },
      "execution_count": 42,
      "outputs": [
        {
          "output_type": "stream",
          "name": "stdout",
          "text": [
            "[4, 5, 6, 7, 2, 3, 8, 9, 10]\n"
          ]
        }
      ]
    }
  ]
}