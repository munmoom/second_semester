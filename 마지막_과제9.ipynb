{
  "nbformat": 4,
  "nbformat_minor": 0,
  "metadata": {
    "colab": {
      "provenance": [],
      "authorship_tag": "ABX9TyMXM3Nz8JyKPoSpiORmEBEy",
      "include_colab_link": true
    },
    "kernelspec": {
      "name": "python3",
      "display_name": "Python 3"
    },
    "language_info": {
      "name": "python"
    }
  },
  "cells": [
    {
      "cell_type": "markdown",
      "metadata": {
        "id": "view-in-github",
        "colab_type": "text"
      },
      "source": [
        "<a href=\"https://colab.research.google.com/github/munmoom/second_semester/blob/main/%EB%A7%88%EC%A7%80%EB%A7%89_%EA%B3%BC%EC%A0%9C9.ipynb\" target=\"_parent\"><img src=\"https://colab.research.google.com/assets/colab-badge.svg\" alt=\"Open In Colab\"/></a>"
      ]
    },
    {
      "cell_type": "code",
      "execution_count": null,
      "metadata": {
        "id": "GyQ_JX5YSyJZ"
      },
      "outputs": [],
      "source": [
        "#def solution(n, lighthouse):"
      ]
    },
    {
      "cell_type": "markdown",
      "source": [
        "### 알고리즘 잘못짠듯. 방법이 잘못된듯."
      ],
      "metadata": {
        "id": "CNzskf4inSvk"
      }
    },
    {
      "cell_type": "code",
      "source": [
        "lighthouse = [[1,9],[9,2],[2,3],[3,5],[5,6],[6,7],[7,4],[7,8],[8,10]]\n",
        "\n",
        "def normalization():\n",
        "  max = 0\n",
        "  for i in dic:\n",
        "    max = dic[i] if dic[i] > max else max\n",
        "\n",
        "  for i in diction:\n",
        "    if dic[i] == max:\n",
        "      del dic[i]\n",
        "\n",
        "def makedic():\n",
        "  for a in lighthouse:\n",
        "    for b in a:\n",
        "      if dic.get(b):\n",
        "        dic[b] = dic[b]+1\n",
        "      else:\n",
        "        dic[b] = 1\n",
        "  return dic\n",
        "\n",
        "dic = {}\n",
        "dic = makedic()\n",
        "diction = [i for i in dic]\n",
        "if len(dic) == 1 or 2:\n",
        "  print(1)\n",
        "\n",
        "\n",
        "#사라진 key개수를 count, 단 \n",
        "count = 0\n",
        "while len(dic) != 0:\n",
        "  normalization()\n",
        "  se = set(dic)\n",
        "  diction = set(diction)\n",
        "  diction = list(se & diction)\n",
        "  count += 1\n",
        "\n",
        "print(count)"
      ],
      "metadata": {
        "colab": {
          "base_uri": "https://localhost:8080/"
        },
        "id": "Kb3vmUt5jDjZ",
        "outputId": "8f289ff3-efd8-4dd5-f79c-7c10303ad07e"
      },
      "execution_count": null,
      "outputs": [
        {
          "output_type": "stream",
          "name": "stdout",
          "text": [
            "1\n",
            "3\n"
          ]
        }
      ]
    },
    {
      "cell_type": "markdown",
      "source": [
        "## 재시도\n",
        "### lighthouse리스트에서, 선택된 등대 번호가 존재하는 길들은 모두 삭제하고, dic을 다시 만든다."
      ],
      "metadata": {
        "id": "_TfHeKH7nbAP"
      }
    },
    {
      "cell_type": "code",
      "source": [
        "n = 10\n",
        "lighthouse = [[4, 1], [5, 1], [5, 6], [7, 6], [1, 2], [1, 3], [6, 8], [2, 9], [9, 10]]"
      ],
      "metadata": {
        "id": "Rk6ujYxVU3CX"
      },
      "execution_count": 173,
      "outputs": []
    },
    {
      "cell_type": "code",
      "source": [
        "lighthouse"
      ],
      "metadata": {
        "id": "zTekjlPNi8GA",
        "outputId": "f9d2b2fb-2eeb-4037-c674-ab384e71fa1d",
        "colab": {
          "base_uri": "https://localhost:8080/"
        }
      },
      "execution_count": 189,
      "outputs": [
        {
          "output_type": "execute_result",
          "data": {
            "text/plain": [
              "[[4, 1], [5, 6], [7, 6], [1, 2], [1, 3], [6, 8], [9, 10]]"
            ]
          },
          "metadata": {},
          "execution_count": 189
        }
      ]
    },
    {
      "cell_type": "code",
      "source": [
        "dic={}\n",
        "dic = makedic()"
      ],
      "metadata": {
        "id": "wvnv-raxzKSy"
      },
      "execution_count": 183,
      "outputs": []
    },
    {
      "cell_type": "code",
      "source": [
        "print(id(dic))\n",
        "print(dic)"
      ],
      "metadata": {
        "id": "U3CJ74pbzQMC",
        "outputId": "60b19313-6754-4340-f825-b9c0ee90ad79",
        "colab": {
          "base_uri": "https://localhost:8080/"
        }
      },
      "execution_count": 188,
      "outputs": [
        {
          "output_type": "stream",
          "name": "stdout",
          "text": [
            "139707766481456\n",
            "{4: 1, 1: 3, 5: 1, 6: 3, 7: 1, 2: 1, 3: 1, 8: 1, 9: 1, 10: 1}\n"
          ]
        }
      ]
    },
    {
      "cell_type": "code",
      "source": [
        "#반복문에정리해서넣어야함\n",
        "\n",
        "def normalization():  #dic에서가장자주나온등대번호뺌\n",
        "  global dic\n",
        "  max = 0\n",
        "  for i in dic:\n",
        "    max = dic[i] if dic[i] > max else max\n",
        "\n",
        "  for i in diction:\n",
        "    if dic[i] == max:\n",
        "      del dic[i]\n",
        "  print(id(dic))\n",
        "\n",
        "normalization()\n",
        "print(id(dic))\n",
        "print(dic)\n",
        "\n",
        "def editdiction():\n",
        "  global dic\n",
        "  dicset =  set(dic)\n",
        "  dictionset = set(diction)\n",
        "  return list(dictionset - dicset)\n",
        "\n",
        "important = editdiction()\n",
        "lightindex = []\n",
        "\n",
        "'''\n",
        "for i in range(len(lighthouse)):\n",
        "  lightindex.append(i)\n",
        "for p in lighthouse:\n",
        "  for q in important:  #diction이아니라수정전diction-dic(집합)에있는등대번호가든걸빼야\n",
        "   if q in p:\n",
        "      del lightindex[lighthouse.index(p)]\n",
        "      break\n",
        "'''\n",
        "\n",
        "for i in important:\n",
        "  lighthouse[i] = 0  #diction이아니라수정전diction-dic(집합)에있는등대번호가든걸0으로수정\n",
        "for i in lighthouse:\n",
        "  if i == 0:\n",
        "    lighthouse.remove(i)  #0인걸다지움\n",
        "\n",
        "def makediction():\n",
        "  global dic\n",
        "  return [i for i in dic]\n",
        "\n",
        "diction = makediction()\n",
        "print(diction)\n",
        "print(id(dic))"
      ],
      "metadata": {
        "id": "A_o2G6g2gGQM",
        "outputId": "3ebf41fe-5fac-4ebe-a114-331b48c76d5d",
        "colab": {
          "base_uri": "https://localhost:8080/"
        }
      },
      "execution_count": 186,
      "outputs": [
        {
          "output_type": "stream",
          "name": "stdout",
          "text": [
            "139707766481456\n",
            "139707766481456\n",
            "{4: 1, 1: 3, 5: 1, 6: 3, 7: 1, 2: 1, 3: 1, 8: 1, 9: 1, 10: 1}\n",
            "[4, 1, 5, 6, 7, 2, 3, 8, 9, 10]\n",
            "139707766481456\n"
          ]
        }
      ]
    },
    {
      "cell_type": "code",
      "source": [
        "important"
      ],
      "metadata": {
        "id": "VHdY2wLXx1-n",
        "outputId": "fc35813b-105c-4e72-8cea-f1725f3e5ea3",
        "colab": {
          "base_uri": "https://localhost:8080/"
        }
      },
      "execution_count": 187,
      "outputs": [
        {
          "output_type": "execute_result",
          "data": {
            "text/plain": [
              "[]"
            ]
          },
          "metadata": {},
          "execution_count": 187
        }
      ]
    },
    {
      "cell_type": "code",
      "source": [
        "def makedic():  #등대나온횟수카운트\n",
        "  for a in lighthouse:\n",
        "    for b in a:\n",
        "      if dic.get(b):\n",
        "        dic[b] = dic[b]+1\n",
        "      else:\n",
        "        dic[b] = 1\n",
        "  return dic\n",
        "\n",
        "def makediction():  #diction리스트만듦\n",
        "  return [i for i in dic]\n",
        "  \n",
        "'''\n",
        "또는\n",
        "def editdiction():\n",
        "  se = set(dic)\n",
        "  diction = set(diction)\n",
        "  diction = list(se & diction)\n",
        "'''"
      ],
      "metadata": {
        "id": "BwTai6Dbn5_t",
        "outputId": "e45ffc93-5377-4667-b189-841e7e65a4b8",
        "colab": {
          "base_uri": "https://localhost:8080/",
          "height": 35
        }
      },
      "execution_count": 147,
      "outputs": [
        {
          "output_type": "execute_result",
          "data": {
            "text/plain": [
              "'\\n또는\\ndef editdiction():\\n  se = set(dic)\\n  diction = set(diction)\\n  diction = list(se & diction)\\n'"
            ],
            "application/vnd.google.colaboratory.intrinsic+json": {
              "type": "string"
            }
          },
          "metadata": {},
          "execution_count": 147
        }
      ]
    }
  ]
}