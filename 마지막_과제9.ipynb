{
  "nbformat": 4,
  "nbformat_minor": 0,
  "metadata": {
    "colab": {
      "provenance": [],
      "authorship_tag": "ABX9TyPcUYlzNmxbl1A7m6B/3Hmo",
      "include_colab_link": true
    },
    "kernelspec": {
      "name": "python3",
      "display_name": "Python 3"
    },
    "language_info": {
      "name": "python"
    }
  },
  "cells": [
    {
      "cell_type": "markdown",
      "metadata": {
        "id": "view-in-github",
        "colab_type": "text"
      },
      "source": [
        "<a href=\"https://colab.research.google.com/github/munmoom/second_semester/blob/main/%EB%A7%88%EC%A7%80%EB%A7%89_%EA%B3%BC%EC%A0%9C9.ipynb\" target=\"_parent\"><img src=\"https://colab.research.google.com/assets/colab-badge.svg\" alt=\"Open In Colab\"/></a>"
      ]
    },
    {
      "cell_type": "code",
      "execution_count": null,
      "metadata": {
        "id": "GyQ_JX5YSyJZ"
      },
      "outputs": [],
      "source": [
        "#def solution(n, lighthouse):"
      ]
    },
    {
      "cell_type": "markdown",
      "source": [
        "### 알고리즘 잘못짠듯. 방법이 잘못된듯."
      ],
      "metadata": {
        "id": "CNzskf4inSvk"
      }
    },
    {
      "cell_type": "code",
      "source": [
        "lighthouse = [[1,9],[9,2],[2,3],[3,5],[5,6],[6,7],[7,4],[7,8],[8,10]]\n",
        "\n",
        "def normalization():\n",
        "  max = 0\n",
        "  for i in dic:\n",
        "    max = dic[i] if dic[i] > max else max\n",
        "\n",
        "  for i in diction:\n",
        "    if dic[i] == max:\n",
        "      del dic[i]\n",
        "\n",
        "def makedic():\n",
        "  for a in lighthouse:\n",
        "    for b in a:\n",
        "      if dic.get(b):\n",
        "        dic[b] = dic[b]+1\n",
        "      else:\n",
        "        dic[b] = 1\n",
        "  return dic\n",
        "\n",
        "dic = {}\n",
        "dic = makedic()\n",
        "diction = [i for i in dic]\n",
        "if len(dic) == 1 or 2:\n",
        "  print(1)\n",
        "\n",
        "\n",
        "#사라진 key개수를 count, 단 \n",
        "count = 0\n",
        "while len(dic) != 0:\n",
        "  normalization()\n",
        "  se = set(dic)\n",
        "  diction = set(diction)\n",
        "  diction = list(se & diction)\n",
        "  count += 1\n",
        "\n",
        "print(count)"
      ],
      "metadata": {
        "colab": {
          "base_uri": "https://localhost:8080/"
        },
        "id": "Kb3vmUt5jDjZ",
        "outputId": "8f289ff3-efd8-4dd5-f79c-7c10303ad07e"
      },
      "execution_count": null,
      "outputs": [
        {
          "output_type": "stream",
          "name": "stdout",
          "text": [
            "1\n",
            "3\n"
          ]
        }
      ]
    },
    {
      "cell_type": "markdown",
      "source": [
        "## 재시도\n",
        "### lighthouse리스트에서, 선택된 등대 번호가 존재하는 길들은 모두 삭제하고, dic을 다시 만든다."
      ],
      "metadata": {
        "id": "_TfHeKH7nbAP"
      }
    },
    {
      "cell_type": "code",
      "source": [
        "n = 10\n",
        "lighthouse = [[4, 1], [5, 1], [5, 6], [7, 6], [1, 2], [1, 3], [6, 8], [2, 9], [9, 10]]"
      ],
      "metadata": {
        "id": "Rk6ujYxVU3CX"
      },
      "execution_count": null,
      "outputs": []
    },
    {
      "cell_type": "code",
      "source": [
        "lighthouse"
      ],
      "metadata": {
        "id": "zTekjlPNi8GA",
        "outputId": "f9d2b2fb-2eeb-4037-c674-ab384e71fa1d",
        "colab": {
          "base_uri": "https://localhost:8080/"
        }
      },
      "execution_count": null,
      "outputs": [
        {
          "output_type": "execute_result",
          "data": {
            "text/plain": [
              "[[4, 1], [5, 6], [7, 6], [1, 2], [1, 3], [6, 8], [9, 10]]"
            ]
          },
          "metadata": {},
          "execution_count": 189
        }
      ]
    },
    {
      "cell_type": "code",
      "source": [
        "dic={}\n",
        "dic = makedic()"
      ],
      "metadata": {
        "id": "wvnv-raxzKSy"
      },
      "execution_count": null,
      "outputs": []
    },
    {
      "cell_type": "code",
      "source": [
        "print(id(dic))\n",
        "print(dic)"
      ],
      "metadata": {
        "id": "U3CJ74pbzQMC",
        "outputId": "60b19313-6754-4340-f825-b9c0ee90ad79",
        "colab": {
          "base_uri": "https://localhost:8080/"
        }
      },
      "execution_count": null,
      "outputs": [
        {
          "output_type": "stream",
          "name": "stdout",
          "text": [
            "139707766481456\n",
            "{4: 1, 1: 3, 5: 1, 6: 3, 7: 1, 2: 1, 3: 1, 8: 1, 9: 1, 10: 1}\n"
          ]
        }
      ]
    },
    {
      "cell_type": "code",
      "source": [
        "#반복문에정리해서넣어야함\n",
        "\n",
        "def normalization():  #dic에서가장자주나온등대번호뺌\n",
        "  global dic\n",
        "  max = 0\n",
        "  for i in dic:\n",
        "    max = dic[i] if dic[i] > max else max\n",
        "\n",
        "  for i in diction:\n",
        "    if dic[i] == max:\n",
        "      del dic[i]\n",
        "  print(id(dic))\n",
        "\n",
        "normalization()\n",
        "print(id(dic))\n",
        "print(dic)\n",
        "\n",
        "def editdiction():\n",
        "  global dic\n",
        "  dicset =  set(dic)\n",
        "  dictionset = set(diction)\n",
        "  return list(dictionset - dicset)\n",
        "\n",
        "important = editdiction()\n",
        "lightindex = []\n",
        "\n",
        "'''\n",
        "for i in range(len(lighthouse)):\n",
        "  lightindex.append(i)\n",
        "for p in lighthouse:\n",
        "  for q in important:  #diction이아니라수정전diction-dic(집합)에있는등대번호가든걸빼야\n",
        "   if q in p:\n",
        "      del lightindex[lighthouse.index(p)]\n",
        "      break\n",
        "'''\n",
        "\n",
        "for i in important:\n",
        "  lighthouse[i] = 0  #diction이아니라수정전diction-dic(집합)에있는등대번호가든걸0으로수정\n",
        "for i in lighthouse:\n",
        "  if i == 0:\n",
        "    lighthouse.remove(i)  #0인걸다지움\n",
        "\n",
        "def makediction():\n",
        "  global dic\n",
        "  return [i for i in dic]\n",
        "\n",
        "diction = makediction()\n",
        "print(diction)\n",
        "print(id(dic))"
      ],
      "metadata": {
        "id": "A_o2G6g2gGQM",
        "outputId": "3ebf41fe-5fac-4ebe-a114-331b48c76d5d",
        "colab": {
          "base_uri": "https://localhost:8080/"
        }
      },
      "execution_count": null,
      "outputs": [
        {
          "output_type": "stream",
          "name": "stdout",
          "text": [
            "139707766481456\n",
            "139707766481456\n",
            "{4: 1, 1: 3, 5: 1, 6: 3, 7: 1, 2: 1, 3: 1, 8: 1, 9: 1, 10: 1}\n",
            "[4, 1, 5, 6, 7, 2, 3, 8, 9, 10]\n",
            "139707766481456\n"
          ]
        }
      ]
    },
    {
      "cell_type": "code",
      "source": [
        "important"
      ],
      "metadata": {
        "id": "VHdY2wLXx1-n",
        "outputId": "fc35813b-105c-4e72-8cea-f1725f3e5ea3",
        "colab": {
          "base_uri": "https://localhost:8080/"
        }
      },
      "execution_count": null,
      "outputs": [
        {
          "output_type": "execute_result",
          "data": {
            "text/plain": [
              "[]"
            ]
          },
          "metadata": {},
          "execution_count": 187
        }
      ]
    },
    {
      "cell_type": "code",
      "source": [
        "def makedic():  #등대나온횟수카운트\n",
        "  for a in lighthouse:\n",
        "    for b in a:\n",
        "      if dic.get(b):\n",
        "        dic[b] = dic[b]+1\n",
        "      else:\n",
        "        dic[b] = 1\n",
        "  return dic\n",
        "\n",
        "def makediction():  #diction리스트만듦\n",
        "  return [i for i in dic]\n",
        "  \n",
        "'''\n",
        "또는\n",
        "def editdiction():\n",
        "  se = set(dic)\n",
        "  diction = set(diction)\n",
        "  diction = list(se & diction)\n",
        "'''"
      ],
      "metadata": {
        "id": "BwTai6Dbn5_t",
        "outputId": "e45ffc93-5377-4667-b189-841e7e65a4b8",
        "colab": {
          "base_uri": "https://localhost:8080/",
          "height": 35
        }
      },
      "execution_count": null,
      "outputs": [
        {
          "output_type": "execute_result",
          "data": {
            "text/plain": [
              "'\\n또는\\ndef editdiction():\\n  se = set(dic)\\n  diction = set(diction)\\n  diction = list(se & diction)\\n'"
            ],
            "application/vnd.google.colaboratory.intrinsic+json": {
              "type": "string"
            }
          },
          "metadata": {},
          "execution_count": 147
        }
      ]
    },
    {
      "cell_type": "markdown",
      "source": [
        "등대의 개수는 n개이고, 길의 개수는 n-1개입니다."
      ],
      "metadata": {
        "id": "XYFxLvSLCMEQ"
      }
    },
    {
      "cell_type": "markdown",
      "source": [
        "lighthouse에는 리스트 내 리스트가 있습니다."
      ],
      "metadata": {
        "id": "GjBF8BNqCY8P"
      }
    },
    {
      "cell_type": "markdown",
      "source": [
        "길들에서 등대가 몇 번이나 나왔는지 셉니다. 길은 방향을 따지지 않으므로 중복은 없습니다.\n",
        "\n",
        "가장 많이 나온 번호의 등대가 켜지는 것이, 최소한의 등대를 켜는 데 기준이 될 수 있습니다."
      ],
      "metadata": {
        "id": "uq3oM0UdCsvx"
      }
    },
    {
      "cell_type": "code",
      "source": [
        "def makedic():  #등대나온횟수카운트\n",
        "  dic = {}\n",
        "  for a in lighthouse:\n",
        "    for b in a:\n",
        "      if dic.get(b):\n",
        "        dic[b] = dic[b]+1\n",
        "      else:\n",
        "        dic[b] = 1\n",
        "  return dic\n",
        "\n",
        "#등대번호가 나온 횟수를 세서 dic에 넣는 함수입니다.\n",
        "#있으면 count+1을 해줄 것이고, 없으면 값1을 저장합니다."
      ],
      "metadata": {
        "id": "kNL4opEhCLrx"
      },
      "execution_count": 1,
      "outputs": []
    },
    {
      "cell_type": "markdown",
      "source": [
        "테스트: 잘 작동합니다."
      ],
      "metadata": {
        "id": "wcezqastD7zm"
      }
    },
    {
      "cell_type": "code",
      "source": [
        "lighthouse = [[4, 1], [5, 1], [5, 6], [7, 6], [1, 2], [1, 3], [6, 8], [2, 9], [9, 10]]\n",
        "dic = makedic()\n",
        "print(dic)"
      ],
      "metadata": {
        "id": "MxHsGJSvCFos",
        "outputId": "2a29b49a-2ac2-413d-802e-52349d3aa961",
        "colab": {
          "base_uri": "https://localhost:8080/"
        }
      },
      "execution_count": 13,
      "outputs": [
        {
          "output_type": "stream",
          "name": "stdout",
          "text": [
            "{4: 1, 1: 4, 5: 2, 6: 3, 7: 1, 2: 2, 3: 1, 8: 1, 9: 2, 10: 1}\n"
          ]
        }
      ]
    },
    {
      "cell_type": "code",
      "source": [
        "def frequent(dic):  #dic에서가장자주나온등대번호\n",
        "  max = 0\n",
        "  maxkey = 0\n",
        "  for i in dic:\n",
        "    if max < dic[i]:\n",
        "      max = dic[i]\n",
        "      maxkey = i\n",
        "  return max, maxkey"
      ],
      "metadata": {
        "id": "how7EsrwEMvG"
      },
      "execution_count": 17,
      "outputs": []
    },
    {
      "cell_type": "markdown",
      "source": [
        "위에서 max값을 value로 가지는 key값을 return하도록 만들어야 합니다. \n",
        "\n",
        "공동 1위가 여럿이어도, 처음 하나만 반환합니다. 등대의 불은 하나씩 킬 것이기 때문입니다."
      ],
      "metadata": {
        "id": "_MoXVYD3Gs56"
      }
    },
    {
      "cell_type": "markdown",
      "source": [
        "테스트"
      ],
      "metadata": {
        "id": "fSQd5bTwJvde"
      }
    },
    {
      "cell_type": "code",
      "source": [
        "max, maxkey = frequent(dic)\n",
        "print(maxkey)"
      ],
      "metadata": {
        "id": "xD7ihXOSJvtu",
        "outputId": "3677b860-2117-47c7-a990-d46de30b1bbb",
        "colab": {
          "base_uri": "https://localhost:8080/"
        }
      },
      "execution_count": 18,
      "outputs": [
        {
          "output_type": "stream",
          "name": "stdout",
          "text": [
            "1\n"
          ]
        }
      ]
    },
    {
      "cell_type": "markdown",
      "source": [
        "등대 번호를 구했으면, 그 번호를 가진 길을 lighthouse에서 모두 제거합니다."
      ],
      "metadata": {
        "id": "IwssMySPEzdF"
      }
    },
    {
      "cell_type": "code",
      "source": [
        "def replace():\n",
        "  for a in lighthouse:\n",
        "    if maxkey in a:\n",
        "      lighthouse.remove(a)"
      ],
      "metadata": {
        "id": "HyV_fnmWE95d"
      },
      "execution_count": 19,
      "outputs": []
    },
    {
      "cell_type": "markdown",
      "source": [
        "테스트: 잘 작동하지 않습니다."
      ],
      "metadata": {
        "id": "X6WtlkU2FgB7"
      }
    },
    {
      "cell_type": "code",
      "source": [
        "replace()\n",
        "print(lighthouse)"
      ],
      "metadata": {
        "id": "UZInms-QFz4c",
        "outputId": "76a6096b-2ade-4bae-cea1-ec35a30dbb9b",
        "colab": {
          "base_uri": "https://localhost:8080/"
        }
      },
      "execution_count": 20,
      "outputs": [
        {
          "output_type": "stream",
          "name": "stdout",
          "text": [
            "[[5, 1], [5, 6], [7, 6], [1, 3], [6, 8], [2, 9], [9, 10]]\n"
          ]
        }
      ]
    },
    {
      "cell_type": "code",
      "source": [
        "lighthouse = [[4, 1], [5, 1], [5, 6], [7, 6], [1, 2], [1, 3], [6, 8], [2, 9], [9, 10]]\n",
        "for a in lighthouse:\n",
        "  if maxkey in a:\n",
        "    lighthouse.remove(a)\n",
        "    print(a)"
      ],
      "metadata": {
        "id": "Sk-SN25uKTRR",
        "outputId": "f8094273-f9f1-477d-a5d9-70500fe45c8c",
        "colab": {
          "base_uri": "https://localhost:8080/"
        }
      },
      "execution_count": 23,
      "outputs": [
        {
          "output_type": "stream",
          "name": "stdout",
          "text": [
            "[4, 1]\n",
            "[1, 2]\n"
          ]
        }
      ]
    },
    {
      "cell_type": "markdown",
      "source": [
        "다른 방법이 필요합니다."
      ],
      "metadata": {
        "id": "7XZsAKeHLEtn"
      }
    },
    {
      "cell_type": "code",
      "source": [
        "lighthouse = [[4, 1], [5, 1], [5, 6], [7, 6], [1, 2], [1, 3], [6, 8], [2, 9], [9, 10]]\n",
        "be = len(lighthouse)-max\n",
        "def replace():\n",
        "  for a in lighthouse:\n",
        "    if maxkey in a:\n",
        "      lighthouse.remove(a)\n",
        "  if len(lighthouse) != be:\n",
        "    replace()"
      ],
      "metadata": {
        "id": "58r9tK2mLKt2"
      },
      "execution_count": 27,
      "outputs": []
    },
    {
      "cell_type": "markdown",
      "source": [
        "테스트: 잘 작동합니다."
      ],
      "metadata": {
        "id": "BYP8XeDiMJ3E"
      }
    },
    {
      "cell_type": "code",
      "source": [
        "replace()\n",
        "print(lighthouse)"
      ],
      "metadata": {
        "id": "9KINkj5-MHc0",
        "outputId": "ae15d47c-66de-432c-f3f9-ba4322dd5e2f",
        "colab": {
          "base_uri": "https://localhost:8080/"
        }
      },
      "execution_count": 28,
      "outputs": [
        {
          "output_type": "stream",
          "name": "stdout",
          "text": [
            "[[5, 6], [7, 6], [6, 8], [2, 9], [9, 10]]\n"
          ]
        }
      ]
    },
    {
      "cell_type": "markdown",
      "source": [],
      "metadata": {
        "id": "pRfdrCtWMQVH"
      }
    }
  ]
}