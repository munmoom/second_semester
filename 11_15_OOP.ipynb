{
  "nbformat": 4,
  "nbformat_minor": 0,
  "metadata": {
    "colab": {
      "provenance": [],
      "authorship_tag": "ABX9TyM+wn94sGtZnsNBh5NlpaZb",
      "include_colab_link": true
    },
    "kernelspec": {
      "name": "python3",
      "display_name": "Python 3"
    },
    "language_info": {
      "name": "python"
    }
  },
  "cells": [
    {
      "cell_type": "markdown",
      "metadata": {
        "id": "view-in-github",
        "colab_type": "text"
      },
      "source": [
        "<a href=\"https://colab.research.google.com/github/munmoom/second_semester/blob/main/11_15_OOP.ipynb\" target=\"_parent\"><img src=\"https://colab.research.google.com/assets/colab-badge.svg\" alt=\"Open In Colab\"/></a>"
      ]
    },
    {
      "cell_type": "markdown",
      "source": [
        "# Information hiding\n",
        "\n",
        "### Public: 어디에서든 접근가능, default\n",
        "### Protected: 일정 부분 보호된, class, sub-class(상속)에서는 접근가능\n",
        "_ :  protected에 의한 변수\n",
        "###Private: class 내에서만 접근가능, 외부에서는 존재를 알 수 없다\n",
        "__ :  private에 의한 변수\n"
      ],
      "metadata": {
        "id": "20l9TQGByBs7"
      }
    },
    {
      "cell_type": "code",
      "execution_count": 3,
      "metadata": {
        "id": "0HcRNWu7xqPN"
      },
      "outputs": [],
      "source": [
        "class Student:\n",
        "  __schoolName = 'XYZ school'  # private class attribute 프라이빗, 클래스 내에서만\n",
        "\n",
        "  def __init__(self, name, age):\n",
        "    self.__name = name   #프라이빗\n",
        "    self.__salary = age\n",
        "  def __display(self):   #프라이빗 메서드\n",
        "    print('This is private method')"
      ]
    },
    {
      "cell_type": "markdown",
      "source": [
        "안의 변수를 부르려면 AttributeError가 난다"
      ],
      "metadata": {
        "id": "uQAb4Psr1xvw"
      }
    },
    {
      "cell_type": "code",
      "source": [
        "std = Student(\"Bill\", 25)   #인스턴스"
      ],
      "metadata": {
        "id": "VQLhlENy1QGw"
      },
      "execution_count": 4,
      "outputs": []
    },
    {
      "cell_type": "code",
      "source": [
        "std.__schoolName   #인스턴스.클래스변수 프라이빗 변수라 접근불가능"
      ],
      "metadata": {
        "colab": {
          "base_uri": "https://localhost:8080/",
          "height": 172
        },
        "id": "RLyr5sHG1fx3",
        "outputId": "c6e92020-569d-4c12-d124-4bcf3ce48ed5"
      },
      "execution_count": 5,
      "outputs": [
        {
          "output_type": "error",
          "ename": "AttributeError",
          "evalue": "ignored",
          "traceback": [
            "\u001b[0;31m---------------------------------------------------------------------------\u001b[0m",
            "\u001b[0;31mAttributeError\u001b[0m                            Traceback (most recent call last)",
            "\u001b[0;32m<ipython-input-5-0fa5b9b5f769>\u001b[0m in \u001b[0;36m<module>\u001b[0;34m\u001b[0m\n\u001b[0;32m----> 1\u001b[0;31m \u001b[0mstd\u001b[0m\u001b[0;34m.\u001b[0m\u001b[0m__schoolName\u001b[0m   \u001b[0;31m#인스턴스.클래스변수 프라이빗 변수라 접근불가능\u001b[0m\u001b[0;34m\u001b[0m\u001b[0;34m\u001b[0m\u001b[0m\n\u001b[0m",
            "\u001b[0;31mAttributeError\u001b[0m: 'Student' object has no attribute '__schoolName'"
          ]
        }
      ]
    },
    {
      "cell_type": "code",
      "source": [
        "std.__name"
      ],
      "metadata": {
        "id": "NWZ6Daie1hZP",
        "outputId": "9d8ee05e-1046-4433-9cd0-8bc81b04ce00",
        "colab": {
          "base_uri": "https://localhost:8080/",
          "height": 172
        }
      },
      "execution_count": 6,
      "outputs": [
        {
          "output_type": "error",
          "ename": "AttributeError",
          "evalue": "ignored",
          "traceback": [
            "\u001b[0;31m---------------------------------------------------------------------------\u001b[0m",
            "\u001b[0;31mAttributeError\u001b[0m                            Traceback (most recent call last)",
            "\u001b[0;32m<ipython-input-6-f0417647788e>\u001b[0m in \u001b[0;36m<module>\u001b[0;34m\u001b[0m\n\u001b[0;32m----> 1\u001b[0;31m \u001b[0mstd\u001b[0m\u001b[0;34m.\u001b[0m\u001b[0m__name\u001b[0m\u001b[0;34m\u001b[0m\u001b[0;34m\u001b[0m\u001b[0m\n\u001b[0m",
            "\u001b[0;31mAttributeError\u001b[0m: 'Student' object has no attribute '__name'"
          ]
        }
      ]
    },
    {
      "cell_type": "code",
      "source": [
        "std.__display()"
      ],
      "metadata": {
        "colab": {
          "base_uri": "https://localhost:8080/",
          "height": 172
        },
        "id": "VhE-_SwZ1iy_",
        "outputId": "5e3fab31-5b6b-482c-8e4e-8e4598ba5587"
      },
      "execution_count": 7,
      "outputs": [
        {
          "output_type": "error",
          "ename": "AttributeError",
          "evalue": "ignored",
          "traceback": [
            "\u001b[0;31m---------------------------------------------------------------------------\u001b[0m",
            "\u001b[0;31mAttributeError\u001b[0m                            Traceback (most recent call last)",
            "\u001b[0;32m<ipython-input-7-4b7d3a336bbb>\u001b[0m in \u001b[0;36m<module>\u001b[0;34m\u001b[0m\n\u001b[0;32m----> 1\u001b[0;31m \u001b[0mstd\u001b[0m\u001b[0;34m.\u001b[0m\u001b[0m__display\u001b[0m\u001b[0;34m(\u001b[0m\u001b[0;34m)\u001b[0m\u001b[0;34m\u001b[0m\u001b[0;34m\u001b[0m\u001b[0m\n\u001b[0m",
            "\u001b[0;31mAttributeError\u001b[0m: 'Student' object has no attribute '__display'"
          ]
        }
      ]
    },
    {
      "cell_type": "markdown",
      "source": [
        "Public"
      ],
      "metadata": {
        "id": "nrsh-f8F14IJ"
      }
    },
    {
      "cell_type": "code",
      "source": [
        "class Student:\n",
        "  schoolName = 'XYZ school'  # 퍼블릭\n",
        "\n",
        "  def __init__(self, name, age):\n",
        "    self.name = name\n",
        "    self.salary = age\n",
        "  def display(self):\n",
        "    print('This is public method')"
      ],
      "metadata": {
        "id": "I7uak1V71kyi"
      },
      "execution_count": 18,
      "outputs": []
    },
    {
      "cell_type": "code",
      "source": [
        "std = Student(\"Bill\", 25)"
      ],
      "metadata": {
        "id": "UQcTVTwX19hA"
      },
      "execution_count": 19,
      "outputs": []
    },
    {
      "cell_type": "code",
      "source": [
        "std.schoolName"
      ],
      "metadata": {
        "colab": {
          "base_uri": "https://localhost:8080/",
          "height": 35
        },
        "id": "FofzDBjf1-9w",
        "outputId": "090310a2-e6f0-4738-f7a8-bf97efd29638"
      },
      "execution_count": 20,
      "outputs": [
        {
          "output_type": "execute_result",
          "data": {
            "text/plain": [
              "'XYZ school'"
            ],
            "application/vnd.google.colaboratory.intrinsic+json": {
              "type": "string"
            }
          },
          "metadata": {},
          "execution_count": 20
        }
      ]
    },
    {
      "cell_type": "code",
      "source": [
        "std.name"
      ],
      "metadata": {
        "colab": {
          "base_uri": "https://localhost:8080/",
          "height": 35
        },
        "id": "ntzqNfPs2AN4",
        "outputId": "e9ff0bcb-7f63-4b62-fc26-fbd6f7e8982b"
      },
      "execution_count": 21,
      "outputs": [
        {
          "output_type": "execute_result",
          "data": {
            "text/plain": [
              "'Bill'"
            ],
            "application/vnd.google.colaboratory.intrinsic+json": {
              "type": "string"
            }
          },
          "metadata": {},
          "execution_count": 21
        }
      ]
    },
    {
      "cell_type": "code",
      "source": [
        "std.display()"
      ],
      "metadata": {
        "colab": {
          "base_uri": "https://localhost:8080/"
        },
        "id": "G1BQ0Kpr2Azw",
        "outputId": "f0999a2e-2268-458a-fdcf-f4c56820738f"
      },
      "execution_count": 22,
      "outputs": [
        {
          "output_type": "stream",
          "name": "stdout",
          "text": [
            "This is public method\n"
          ]
        }
      ]
    },
    {
      "cell_type": "markdown",
      "source": [
        "Protected는 실제로는 안 그렇지만 숨기는 기능이 있으니 함부로 불러쓰지 말라는"
      ],
      "metadata": {
        "id": "hptWaHh32bLo"
      }
    },
    {
      "cell_type": "markdown",
      "source": [
        "#  Inheritance 상속"
      ],
      "metadata": {
        "id": "_jxsgThW2q5f"
      }
    },
    {
      "cell_type": "markdown",
      "source": [
        "### parent class (superclass, 혼용) \n",
        "animaml\n",
        "### child class (subclass): 부모가 가진 것 모두 + 새로운 attribute(Data), method 추가, *override\n",
        "human, pet"
      ],
      "metadata": {
        "id": "ImU1o3_4288f"
      }
    },
    {
      "cell_type": "markdown",
      "source": [
        "*override: 부모가 이미 가지고 있는 method(동일명)를 다시 정의, 부모가 가진 method와 같은 이름의 method를 가질 수 있다\n",
        "\n",
        "위 두 관계는 상대적이다."
      ],
      "metadata": {
        "id": "tnQoTHjK286g"
      }
    },
    {
      "cell_type": "markdown",
      "source": [
        "### parent class (superclass, 혼용) \n",
        "pet\n",
        "### child class (subclass)\n",
        "dog, cat"
      ],
      "metadata": {
        "id": "mq4HoC1p284f"
      }
    },
    {
      "cell_type": "markdown",
      "source": [
        "Car예시, 적혀 있지 않아도 부모에게 있는 것도 쓴다.\n",
        "\n",
        "## 자기한테 있으면 자기 걸 쓰고(우선)(override), 없으면 올라가서 (가장 먼저 마주친)부모 것을 쓴다. 있을 때까지 올라가다가 못 찾으면 error난다."
      ],
      "metadata": {
        "id": "hY9Zwg7B4UYe"
      }
    },
    {
      "cell_type": "code",
      "source": [
        "class Animal:\n",
        "  def __init__(self, age,name):  #instance variable 생성자\n",
        "    self.age = age\n",
        "    self.name = name\n",
        "\n",
        "  def introduce(self):   # method\n",
        "    return \"animal:\"+str(self.name)+\":\"+str(self.age)\n",
        "\n",
        "class Cat(Animal):    #자식(부모 이름),  상속받음\n",
        "  def speak(self):\n",
        "    print(\"meow\")\n",
        "  def introduce(self):\n",
        "    return \"cat:\"+str(self.name)+\":\"+str(self.age)"
      ],
      "metadata": {
        "id": "AxUdg0PN5LjN"
      },
      "execution_count": 23,
      "outputs": []
    },
    {
      "cell_type": "code",
      "source": [
        "cat1 = Cat(3, 'cheese')  # Cat 내에는 생성자가 없다, 부모 Animal에 찾아감\n",
        "cat1.introduce()  # Cat내의 것이 우선순위가 가장 높다, \n",
        "                  # attribute도 위에서 내려온다, self.name, self.age"
      ],
      "metadata": {
        "colab": {
          "base_uri": "https://localhost:8080/",
          "height": 35
        },
        "id": "vvM5bUSM5lqO",
        "outputId": "5f8d964a-29a1-4939-fa13-4850a7593885"
      },
      "execution_count": 24,
      "outputs": [
        {
          "output_type": "execute_result",
          "data": {
            "text/plain": [
              "'cat:cheese:3'"
            ],
            "application/vnd.google.colaboratory.intrinsic+json": {
              "type": "string"
            }
          },
          "metadata": {},
          "execution_count": 24
        }
      ]
    },
    {
      "cell_type": "code",
      "source": [
        "cat1.speak()  #Cat내에 있다"
      ],
      "metadata": {
        "colab": {
          "base_uri": "https://localhost:8080/"
        },
        "id": "HHaD7REY57p-",
        "outputId": "9cb741da-1d02-433b-b634-6ad573bd4b1d"
      },
      "execution_count": 25,
      "outputs": [
        {
          "output_type": "stream",
          "name": "stdout",
          "text": [
            "meow\n"
          ]
        }
      ]
    },
    {
      "cell_type": "code",
      "source": [
        "class Person:\n",
        "  total_count = 0\n",
        "\n",
        "  def __init__(self, name, age):\n",
        "    self.name = name   # self라는 객체의 변수로 만든다.\n",
        "    self.age = age\n",
        "    Person.total_count+=1\n",
        "  \n",
        "  def introduce(self):\n",
        "    print(f'name: {self.name}')"
      ],
      "metadata": {
        "id": "iwAP1ZR59ykD"
      },
      "execution_count": 55,
      "outputs": []
    },
    {
      "cell_type": "code",
      "source": [
        "p5 = Person('김철수', 22)\n",
        "print(p5.name)   #p5라는 객체의 변수 name\n",
        "p5.introduce()"
      ],
      "metadata": {
        "id": "h-gs1uEH9_4D",
        "outputId": "3f666f7d-a65b-4b21-e68e-b60ce87e65c0",
        "colab": {
          "base_uri": "https://localhost:8080/"
        }
      },
      "execution_count": 56,
      "outputs": [
        {
          "output_type": "stream",
          "name": "stdout",
          "text": [
            "김철수\n",
            "name: 김철수\n"
          ]
        }
      ]
    },
    {
      "cell_type": "code",
      "source": [
        "class Student(Person):\n",
        "  def __init__(self, name, age):\n",
        "    super().__init__(name,age)   #부모의 것을 호출했음\n",
        "  \n",
        "  def introduce(self):\n",
        "    print(f'Student. name: {self.name}')"
      ],
      "metadata": {
        "id": "kDG1SyVi_YYA"
      },
      "execution_count": 57,
      "outputs": []
    },
    {
      "cell_type": "code",
      "source": [
        "student = Student('테디',30)\n",
        "student.introduce()"
      ],
      "metadata": {
        "id": "ETl_uftQ_sKS",
        "outputId": "dcb85ef2-b55f-44d9-efc7-47c3cc90ada5",
        "colab": {
          "base_uri": "https://localhost:8080/"
        }
      },
      "execution_count": 58,
      "outputs": [
        {
          "output_type": "stream",
          "name": "stdout",
          "text": [
            "Student. name: 테디\n"
          ]
        }
      ]
    },
    {
      "cell_type": "markdown",
      "source": [
        "class Person:과 class Student(Person):\n",
        "\n",
        "\n",
        "\n",
        "\n",
        "Student내에 생성자가 있는데 \n",
        "\n",
        "\n",
        "\n",
        "```\n",
        "super().__init__(name, age)\n",
        "```\n",
        "\n",
        "가 있다는 말은 부모의 것을 호출했다는 말임.(super())\n",
        "\n",
        "출력해볼것"
      ],
      "metadata": {
        "id": "z9UWcI2l64hx"
      }
    },
    {
      "cell_type": "code",
      "source": [
        "import tensorflow as tf  #tensorflow 딥러닝 관련 라이브러리\n",
        "\n",
        "class MyModel(tf.keras.Model):  #부모가 Model, 자식이 MyModel\n",
        "\n",
        "  def __init__(self):\n",
        "    super(MyModel, self).__init__()\n",
        "    self.dense1 = tf.keras.layers.Dense(4, activation=tf.nn.relu)\n",
        "    self.dense2 = tf.keras.layers.Dense(5, activation=tf.nn.softmax)\n",
        "\n",
        "  def call(self, inputs):\n",
        "    x = self.dense1(inputs)\n",
        "    return self.dense2(x)\n",
        "\n",
        "model = MyModel()  #instance만드는"
      ],
      "metadata": {
        "id": "IOFG2JOd63-1"
      },
      "execution_count": 59,
      "outputs": []
    },
    {
      "cell_type": "code",
      "source": [
        "model.dense1"
      ],
      "metadata": {
        "id": "isj3XIUXA7RH",
        "outputId": "65342ca7-8301-47b4-a95e-791b79ae8ffb",
        "colab": {
          "base_uri": "https://localhost:8080/"
        }
      },
      "execution_count": 67,
      "outputs": [
        {
          "output_type": "execute_result",
          "data": {
            "text/plain": [
              "<keras.layers.core.dense.Dense at 0x7f33c83f9910>"
            ]
          },
          "metadata": {},
          "execution_count": 67
        }
      ]
    },
    {
      "cell_type": "markdown",
      "source": [
        "# Principles of OOP\n",
        "자격증시험등에 나오는"
      ],
      "metadata": {
        "id": "g0tTz_iD8SYE"
      }
    },
    {
      "cell_type": "markdown",
      "source": [
        "### OOP의 4대 원칙: 상속, 캡슐화, 추상화, 다형성\n",
        "\n",
        "상속의Inheritance: 자식에서 확장가능, ressuability좋음\n",
        "\n",
        "캡슐화Encapsulation: public, protected, private: security(보안)에 영향\n",
        "\n",
        "추상화Abstraction: 코드를 짜는 것, 존재가 가진 필수적 method나 속성을 extract\n",
        "\n",
        "다형성ploynorphism: override개념처럼, 같은 이름의 method인데 다른 동작을 하도록 만들 수 있다, 같은 함수가 동작이 다르다, 같은 이름으로 접근하지만 실행이 다르다"
      ],
      "metadata": {
        "id": "ds0d9HQM8ce1"
      }
    },
    {
      "cell_type": "markdown",
      "source": [
        "## Summary\n",
        "\n",
        "### parent class (superclass): 부모\n",
        "### child class (subclass): 자식\n",
        "부모의 모든 data와 behaviors동작을 받고, 새로운 attributes와 behavior를 추가 가능하다.\n",
        "**override**\n",
        "\n",
        "\n",
        "### The Four main OOP principles\n",
        "Inheritance\n",
        "\n",
        "Encapsulation\n",
        "\n",
        "Abstraction\n",
        "\n",
        "polymorphism"
      ],
      "metadata": {
        "id": "8umjfmuT9tSD"
      }
    },
    {
      "cell_type": "markdown",
      "source": [
        "# 퀴즈"
      ],
      "metadata": {
        "id": "T0lHk_ChuEAy"
      }
    },
    {
      "cell_type": "code",
      "source": [
        "#2번\n",
        "# 모든 attributs를 상속받는다."
      ],
      "metadata": {
        "id": "cxnwnewACOVO"
      },
      "execution_count": null,
      "outputs": []
    },
    {
      "cell_type": "code",
      "source": [
        "#3번\n",
        "# private은 subclass에서 접근불가능"
      ],
      "metadata": {
        "id": "CMjrLGtUDaeB"
      },
      "execution_count": null,
      "outputs": []
    },
    {
      "cell_type": "code",
      "source": [
        "#5번\n",
        "# isomorphism 동형성, OOP주요 4가지 원리에는 해당되지 않음"
      ],
      "metadata": {
        "id": "tjRuO8ziDivH"
      },
      "execution_count": null,
      "outputs": []
    },
    {
      "cell_type": "code",
      "source": [
        "#6번\n",
        "\n",
        "class Test:\n",
        "    def __init__(self):\n",
        "        self.x = 0\n",
        "\n",
        "class Derived_Test(Test):\n",
        "    def __init__(self):    #생성자도 특이한 method다! 같은 이름이면 자기가 가진 것 쓴다\n",
        "        self.y = 1\n",
        "\n",
        "b = Derived_Test()\n",
        "print(b.x,b.y)\n",
        "main()"
      ],
      "metadata": {
        "colab": {
          "base_uri": "https://localhost:8080/",
          "height": 227
        },
        "id": "ywYTz1sFQZB7",
        "outputId": "fef2f6a6-dbce-428a-fb6e-912fa2d21a7d"
      },
      "execution_count": 68,
      "outputs": [
        {
          "output_type": "error",
          "ename": "AttributeError",
          "evalue": "ignored",
          "traceback": [
            "\u001b[0;31m---------------------------------------------------------------------------\u001b[0m",
            "\u001b[0;31mAttributeError\u001b[0m                            Traceback (most recent call last)",
            "\u001b[0;32m<ipython-input-68-b349df607d79>\u001b[0m in \u001b[0;36m<module>\u001b[0;34m\u001b[0m\n\u001b[1;32m      8\u001b[0m \u001b[0;34m\u001b[0m\u001b[0m\n\u001b[1;32m      9\u001b[0m \u001b[0mb\u001b[0m \u001b[0;34m=\u001b[0m \u001b[0mDerived_Test\u001b[0m\u001b[0;34m(\u001b[0m\u001b[0;34m)\u001b[0m\u001b[0;34m\u001b[0m\u001b[0;34m\u001b[0m\u001b[0m\n\u001b[0;32m---> 10\u001b[0;31m \u001b[0mprint\u001b[0m\u001b[0;34m(\u001b[0m\u001b[0mb\u001b[0m\u001b[0;34m.\u001b[0m\u001b[0mx\u001b[0m\u001b[0;34m,\u001b[0m\u001b[0mb\u001b[0m\u001b[0;34m.\u001b[0m\u001b[0my\u001b[0m\u001b[0;34m)\u001b[0m\u001b[0;34m\u001b[0m\u001b[0;34m\u001b[0m\u001b[0m\n\u001b[0m\u001b[1;32m     11\u001b[0m \u001b[0mmain\u001b[0m\u001b[0;34m(\u001b[0m\u001b[0;34m)\u001b[0m\u001b[0;34m\u001b[0m\u001b[0;34m\u001b[0m\u001b[0m\n",
            "\u001b[0;31mAttributeError\u001b[0m: 'Derived_Test' object has no attribute 'x'"
          ]
        }
      ]
    },
    {
      "cell_type": "code",
      "source": [
        "b.x"
      ],
      "metadata": {
        "id": "FUylWTO9EbAZ",
        "outputId": "1ea2b66e-c187-4dec-f3ee-3d744399c539",
        "colab": {
          "base_uri": "https://localhost:8080/",
          "height": 172
        }
      },
      "execution_count": 70,
      "outputs": [
        {
          "output_type": "error",
          "ename": "AttributeError",
          "evalue": "ignored",
          "traceback": [
            "\u001b[0;31m---------------------------------------------------------------------------\u001b[0m",
            "\u001b[0;31mAttributeError\u001b[0m                            Traceback (most recent call last)",
            "\u001b[0;32m<ipython-input-70-252ebe2d9b6c>\u001b[0m in \u001b[0;36m<module>\u001b[0;34m\u001b[0m\n\u001b[0;32m----> 1\u001b[0;31m \u001b[0mb\u001b[0m\u001b[0;34m.\u001b[0m\u001b[0mx\u001b[0m\u001b[0;34m\u001b[0m\u001b[0;34m\u001b[0m\u001b[0m\n\u001b[0m",
            "\u001b[0;31mAttributeError\u001b[0m: 'Derived_Test' object has no attribute 'x'"
          ]
        }
      ]
    },
    {
      "cell_type": "code",
      "source": [
        "b.y"
      ],
      "metadata": {
        "id": "J3Oav3aBEdhY",
        "outputId": "5052e77a-74b8-49b0-d023-79912c3a2b86",
        "colab": {
          "base_uri": "https://localhost:8080/"
        }
      },
      "execution_count": 71,
      "outputs": [
        {
          "output_type": "execute_result",
          "data": {
            "text/plain": [
              "1"
            ]
          },
          "metadata": {},
          "execution_count": 71
        }
      ]
    },
    {
      "cell_type": "code",
      "source": [
        "#9번\n",
        "# override, 부모 클래스로부터 상속받은 메소드 대신 자기가 가진 것(이름동일)"
      ],
      "metadata": {
        "id": "mCKc9-vhEr14"
      },
      "execution_count": null,
      "outputs": []
    },
    {
      "cell_type": "code",
      "source": [
        "class A:\n",
        "    def one(self):\n",
        "        return self.two()\n",
        " \n",
        "    def two(self):\n",
        "        return 'A'\n",
        " \n",
        "class B(A):\n",
        "    def two(self):\n",
        "        return 'B'\n",
        "\n",
        "obj1=A()\n",
        "obj2=B()\n",
        "print(obj1.one(),obj2.two())"
      ],
      "metadata": {
        "colab": {
          "base_uri": "https://localhost:8080/"
        },
        "id": "lDmTB9R6Qecq",
        "outputId": "487adbdd-7436-437b-9c19-14b04a3a6a96"
      },
      "execution_count": null,
      "outputs": [
        {
          "output_type": "stream",
          "name": "stdout",
          "text": [
            "A B\n"
          ]
        }
      ]
    },
    {
      "cell_type": "code",
      "source": [
        "class A:\n",
        "    def test(self):\n",
        "        print(\"test of A called\")\n",
        "        \n",
        "class B(A):\n",
        "    def test(self):\n",
        "        print(\"test of B called\")\n",
        "    \n",
        "class C(B):\n",
        "    def test(self):\n",
        "        print(\"test of C called\")\n",
        "                \n",
        "obj = C()\n",
        "obj.test()"
      ],
      "metadata": {
        "colab": {
          "base_uri": "https://localhost:8080/"
        },
        "id": "PZWVVj6FQgVq",
        "outputId": "1e702ee6-11a5-4845-c2d4-30aaddb8e880"
      },
      "execution_count": null,
      "outputs": [
        {
          "output_type": "stream",
          "name": "stdout",
          "text": [
            "test of C called\n"
          ]
        }
      ]
    },
    {
      "cell_type": "markdown",
      "source": [
        "## Exercise 1\n",
        "덧셈, 뺄셈 곱셈 나눗셈 기능을 하는 add,sub,mul,div 메소드를 가지는 class Calculator를 정의하라.\n",
        "모든수가 정수로 처리되며, 나눗셈을 한 이후에도 정수로 유지되도록 구현하시오.\n",
        "print를 했을 때, value: 값이 출력되도록 구현하라. (hint: __str__)"
      ],
      "metadata": {
        "id": "Q9Crxmf1uKdZ"
      }
    },
    {
      "cell_type": "code",
      "source": [
        "\n",
        "(입력문)\n",
        "​\n",
        "c = Calculator()\n",
        "c.add(50)\n",
        "print(c) # Value: 50\n",
        "c.div(10)\n",
        "print(c) # Value: 5\n",
        "c.sub(4)\n",
        "print(c) # Value: 1\n",
        "c.mul(2)\n",
        "print(c) # Value: 2\n",
        "(출력문)\n",
        "​\n",
        "Value: 50\n",
        "Value: 5\n",
        "Value: 1\n",
        "Value: 2\n",
        "class Calculator:\n",
        "    def __init__(self):\n",
        "        self.value = 0\n",
        "​\n",
        "    def add(self, val):\n",
        "        self.value += val\n",
        "        \n",
        "    # write your own code   \n",
        "    \n",
        "    pass\n",
        "class Calculator:\n",
        "    def __init__(self):\n",
        "        self.value = 0\n",
        "    def add(self, val):\n",
        "        self.value += val\n",
        "    def sub(self, val):\n",
        "        self.value -= val\n",
        "    def mul(self, val):\n",
        "        self.value *= val\n",
        "    def div(self, val):\n",
        "        self.value /= val\n",
        "    def __str__(self):\n",
        "        return f'value: {self.value}'\n",
        "c = Calculator()\n",
        "c.add(50)\n",
        "print(c) # Value: 50\n",
        "c.div(10)\n",
        "print(c) # Value: 5\n",
        "c.sub(4)\n",
        "print(c) # Value: 1\n",
        "c.mul(2)\n",
        "print(c) # Value: 2\n",
        "value: 50\n",
        "value: 5.0\n",
        "value: 1.0\n",
        "value: 2.0\n",
        "Caculator 를 상속받아 제곱, 팩토리얼, 소수인지 판단하는 기능이 추가된 ScientificCalculator 를 정의하고 실험하라.\n",
        "(입력문)\n",
        "​\n",
        "sc = ScientificCalculator()\n",
        "sc.add(2)\n",
        "print(sc) # Value: 2\n",
        "sc.sqrt()\n",
        "print(sc) # Value: 4\n",
        "sc.factorial()\n",
        "print(sc) # Value: 24\n",
        "​\n",
        "sc = ScientificCalculator(3)\n",
        "sc.isprime() # 3 is a prime number\n",
        "​\n",
        "sc = ScientificCalculator(4)\n",
        "sc.isprime() # 4 is not a prime number\n",
        "​\n",
        "(출력문)\n",
        "​\n",
        "Value: 2\n",
        "Value: 4\n",
        "Value: 24\n",
        "3 is a prime number\n",
        "4 is not a prime number\n",
        "class ScientificCalculator(Calculator):\n",
        "    def sqrt(self):\n",
        "        for i in range(1, self.value//2):\n",
        "            if self.value == i**2:\n",
        "                print(f'{self.value} is squred number')\n",
        "            else:\n",
        "                print(f'{value} is not squred number')\n",
        "    def factorial(self):\n",
        "        val = 1\n",
        "        for i in range(1, self.value):\n",
        "            val *= i\n",
        "            if self.value == val:\n",
        "                print(f'{self.value} is factorial number')\n",
        "            elif self.value < val:\n",
        "                continue\n",
        "            else:\n",
        "                print(f'{self.value} is not factorial number')\n"
      ],
      "metadata": {
        "id": "8XBGYCGosK90"
      },
      "execution_count": null,
      "outputs": []
    },
    {
      "cell_type": "code",
      "source": [
        "class Calculator:\n",
        "    def __init__(self):\n",
        "        self.value = 0\n",
        "    def add(self, val):\n",
        "        self.value += val\n",
        "    def sub(self, val):\n",
        "        self.value -= val\n",
        "    def mul(self, val):\n",
        "        self.value *= val\n",
        "    def div(self, val):\n",
        "        self.value /= val\n",
        "    def __str__(self):\n",
        "        return f'value: {self.value}'"
      ],
      "metadata": {
        "id": "r7j1AHsvucPp"
      },
      "execution_count": null,
      "outputs": []
    },
    {
      "cell_type": "code",
      "source": [
        "class ScientificCalculator(Calculator):\n",
        "    def sqrt(self):\n",
        "        self.value = self.value**2\n",
        "    def factorial(self):\n",
        "        for i in range(1,self.value):\n",
        "            self.value *= i"
      ],
      "metadata": {
        "id": "VOqxBIkHuUtR"
      },
      "execution_count": null,
      "outputs": []
    },
    {
      "cell_type": "code",
      "source": [
        "sc = ScientificCalculator()\n",
        "sc.add(2)\n",
        "print(sc) # Value: 2\n",
        "sc.sqrt()\n",
        "print(sc) # Value: 4\n",
        "sc.factorial()\n",
        "print(sc) # Value: 24"
      ],
      "metadata": {
        "colab": {
          "base_uri": "https://localhost:8080/"
        },
        "id": "sQQkZpa3uRuJ",
        "outputId": "2d0f8265-91d3-40dc-f122-f9c3d4d0a157"
      },
      "execution_count": null,
      "outputs": [
        {
          "output_type": "stream",
          "name": "stdout",
          "text": [
            "value: 2\n",
            "value: 4\n",
            "value: 24\n"
          ]
        }
      ]
    },
    {
      "cell_type": "markdown",
      "source": [
        "# Exercise 2\n",
        "BaseArray를 상속받아 스택으로 작동하는 MyStack 클래스를 작성하라. MyStack 활용하는 사례는 다음과 같다.\n",
        "push, pop 등의 필요한 메소드들을 구현하시오.\n",
        "\n",
        "# Exercise 2, 3 에 적용되는 BaseArray 클래스는 다음과 같다.\n",
        "BaseArray에 수정이 필요한 부분은 수정하시오.\n"
      ],
      "metadata": {
        "id": "AtE9Gpmkthni"
      }
    },
    {
      "cell_type": "code",
      "source": [
        "class BaseArray(object):\n",
        "    capacity = 0\n",
        "    mem = []\n",
        "    inn = 0\n",
        "    def __init__(self,capacity = 100):\n",
        "        self.mem = [0 for i in range(capacity)]\n",
        "        self.capacity = capacity\n",
        "    def put(self,index,val):\n",
        "        self.mem[index] = val\n",
        "        self.inn +=1\n",
        "    def get(self,index):\n",
        "        self.inn -=1\n",
        "        return self.mem[index]\n",
        "    def getCapacity(self):\n",
        "        return self.capacity"
      ],
      "metadata": {
        "id": "g5LWDXH6sSaL"
      },
      "execution_count": null,
      "outputs": []
    },
    {
      "cell_type": "code",
      "source": [
        "class myStack(BaseArray):\n",
        "    def push(self, n):\n",
        "        self.put(self.inn,n)\n",
        "    def pop(self):\n",
        "        a = self.get(self.inn-1)\n",
        "        return a\n",
        "    def Capacity(self):\n",
        "        return self.capacity\n",
        "    def length(self):\n",
        "        return self.inn     "
      ],
      "metadata": {
        "id": "lYUClMkasf8j"
      },
      "execution_count": null,
      "outputs": []
    },
    {
      "cell_type": "code",
      "source": [
        "mStack = myStack(100)\n",
        "print(\"스택에 삽입할 5개의 정수를 입력하라 >> \")\n",
        "for i in range(5):\n",
        "    n = int(input())\n",
        "    mStack.push(n)\n",
        "print(\"스택의 용량\" , mStack.Capacity(), \", 스택의크기\" , mStack.length())\n",
        "print(\"스택의 원소를 순서대로 제거하여 출력한다.\")\n",
        "while mStack.length() != 0:\n",
        "      print(mStack.pop() , end = ' ')\n",
        "print(\"\\n스택의 현재 크기 : \" ,mStack.length())"
      ],
      "metadata": {
        "colab": {
          "base_uri": "https://localhost:8080/"
        },
        "id": "3SXZh_9-sf3i",
        "outputId": "784533d7-51f0-4c44-9843-36b051316abe"
      },
      "execution_count": null,
      "outputs": [
        {
          "output_type": "stream",
          "name": "stdout",
          "text": [
            "스택에 삽입할 5개의 정수를 입력하라 >> \n",
            "1\n",
            "4\n",
            "3\n",
            "2\n",
            "5\n",
            "스택의 용량 100 , 스택의크기 5\n",
            "스택의 원소를 순서대로 제거하여 출력한다.\n",
            "5 2 3 4 1 \n",
            "스택의 현재 크기 :  0\n"
          ]
        }
      ]
    }
  ]
}