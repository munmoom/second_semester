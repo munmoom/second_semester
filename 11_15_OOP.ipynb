{
  "nbformat": 4,
  "nbformat_minor": 0,
  "metadata": {
    "colab": {
      "provenance": [],
      "authorship_tag": "ABX9TyPpYbTci89QtzqW3dQZll6V",
      "include_colab_link": true
    },
    "kernelspec": {
      "name": "python3",
      "display_name": "Python 3"
    },
    "language_info": {
      "name": "python"
    }
  },
  "cells": [
    {
      "cell_type": "markdown",
      "metadata": {
        "id": "view-in-github",
        "colab_type": "text"
      },
      "source": [
        "<a href=\"https://colab.research.google.com/github/munmoom/second_semester/blob/main/11_15_OOP.ipynb\" target=\"_parent\"><img src=\"https://colab.research.google.com/assets/colab-badge.svg\" alt=\"Open In Colab\"/></a>"
      ]
    },
    {
      "cell_type": "markdown",
      "source": [
        "# Information hiding\n",
        "\n",
        "### Public: 어디에서든 접근가능, default\n",
        "### Protected: 일정 부분 보호된, class, sub-class(상속)에서는 접근가능\n",
        "_: protected에 의한 변수\n",
        "###Private: class 내에서만 접근가능, 외부에서는 존재를 알 수 없다\n",
        "__: private에 의한 변수\n"
      ],
      "metadata": {
        "id": "20l9TQGByBs7"
      }
    },
    {
      "cell_type": "code",
      "execution_count": null,
      "metadata": {
        "id": "0HcRNWu7xqPN"
      },
      "outputs": [],
      "source": [
        "class Studnt:\n",
        "  __schoolName = 'XYZ school'  # private class attribute\n",
        "\n",
        "  def __init__(self, name, age):\n",
        "    self.__name = name\n",
        "    self.__salary = age\n",
        "  def __display(self):\n",
        "    print('This is private method')"
      ]
    },
    {
      "cell_type": "markdown",
      "source": [
        "안의 변수를 부르려면 AttributeError가 난다"
      ],
      "metadata": {
        "id": "uQAb4Psr1xvw"
      }
    },
    {
      "cell_type": "code",
      "source": [
        "std = student(\"Bill\", 25)"
      ],
      "metadata": {
        "colab": {
          "base_uri": "https://localhost:8080/",
          "height": 174
        },
        "id": "VQLhlENy1QGw",
        "outputId": "de52164b-37bf-4cb4-c14f-a85c4a4ad84e"
      },
      "execution_count": null,
      "outputs": [
        {
          "output_type": "error",
          "ename": "NameError",
          "evalue": "ignored",
          "traceback": [
            "\u001b[0;31m---------------------------------------------------------------------------\u001b[0m",
            "\u001b[0;31mNameError\u001b[0m                                 Traceback (most recent call last)",
            "\u001b[0;32m<ipython-input-24-33c18681e345>\u001b[0m in \u001b[0;36m<module>\u001b[0;34m\u001b[0m\n\u001b[0;32m----> 1\u001b[0;31m \u001b[0mstd\u001b[0m \u001b[0;34m=\u001b[0m \u001b[0mstudent\u001b[0m\u001b[0;34m(\u001b[0m\u001b[0;34m\"Bill\"\u001b[0m\u001b[0;34m,\u001b[0m \u001b[0;36m25\u001b[0m\u001b[0;34m)\u001b[0m\u001b[0;34m\u001b[0m\u001b[0;34m\u001b[0m\u001b[0m\n\u001b[0m",
            "\u001b[0;31mNameError\u001b[0m: name 'student' is not defined"
          ]
        }
      ]
    },
    {
      "cell_type": "code",
      "source": [
        "std.__schoolName"
      ],
      "metadata": {
        "colab": {
          "base_uri": "https://localhost:8080/",
          "height": 174
        },
        "id": "RLyr5sHG1fx3",
        "outputId": "73c0d60c-821f-463d-d2e3-f787ac894ff1"
      },
      "execution_count": null,
      "outputs": [
        {
          "output_type": "error",
          "ename": "AttributeError",
          "evalue": "ignored",
          "traceback": [
            "\u001b[0;31m---------------------------------------------------------------------------\u001b[0m",
            "\u001b[0;31mAttributeError\u001b[0m                            Traceback (most recent call last)",
            "\u001b[0;32m<ipython-input-25-c12206c2f714>\u001b[0m in \u001b[0;36m<module>\u001b[0;34m\u001b[0m\n\u001b[0;32m----> 1\u001b[0;31m \u001b[0mstd\u001b[0m\u001b[0;34m.\u001b[0m\u001b[0m__schoolName\u001b[0m\u001b[0;34m\u001b[0m\u001b[0;34m\u001b[0m\u001b[0m\n\u001b[0m",
            "\u001b[0;31mAttributeError\u001b[0m: 'Student' object has no attribute '__schoolName'"
          ]
        }
      ]
    },
    {
      "cell_type": "code",
      "source": [
        "std.__name"
      ],
      "metadata": {
        "id": "NWZ6Daie1hZP"
      },
      "execution_count": null,
      "outputs": []
    },
    {
      "cell_type": "code",
      "source": [
        "std.__display()"
      ],
      "metadata": {
        "colab": {
          "base_uri": "https://localhost:8080/",
          "height": 174
        },
        "id": "VhE-_SwZ1iy_",
        "outputId": "87d98532-6096-4357-b346-257368c29af9"
      },
      "execution_count": null,
      "outputs": [
        {
          "output_type": "error",
          "ename": "AttributeError",
          "evalue": "ignored",
          "traceback": [
            "\u001b[0;31m---------------------------------------------------------------------------\u001b[0m",
            "\u001b[0;31mAttributeError\u001b[0m                            Traceback (most recent call last)",
            "\u001b[0;32m<ipython-input-26-4b7d3a336bbb>\u001b[0m in \u001b[0;36m<module>\u001b[0;34m\u001b[0m\n\u001b[0;32m----> 1\u001b[0;31m \u001b[0mstd\u001b[0m\u001b[0;34m.\u001b[0m\u001b[0m__display\u001b[0m\u001b[0;34m(\u001b[0m\u001b[0;34m)\u001b[0m\u001b[0;34m\u001b[0m\u001b[0;34m\u001b[0m\u001b[0m\n\u001b[0m",
            "\u001b[0;31mAttributeError\u001b[0m: 'Student' object has no attribute '__display'"
          ]
        }
      ]
    },
    {
      "cell_type": "markdown",
      "source": [
        "Public"
      ],
      "metadata": {
        "id": "nrsh-f8F14IJ"
      }
    },
    {
      "cell_type": "code",
      "source": [
        "class Student:\n",
        "  schoolName = 'XYZ school'  # private class attribute\n",
        "\n",
        "  def __init__(self, name, age):\n",
        "    self.name = name\n",
        "    self.salary = age\n",
        "  def display(self):\n",
        "    print('This is private method')"
      ],
      "metadata": {
        "id": "I7uak1V71kyi"
      },
      "execution_count": null,
      "outputs": []
    },
    {
      "cell_type": "code",
      "source": [
        "std = Student(\"Bill\", 25)"
      ],
      "metadata": {
        "id": "UQcTVTwX19hA"
      },
      "execution_count": null,
      "outputs": []
    },
    {
      "cell_type": "code",
      "source": [
        "std.schoolName"
      ],
      "metadata": {
        "colab": {
          "base_uri": "https://localhost:8080/",
          "height": 35
        },
        "id": "FofzDBjf1-9w",
        "outputId": "47cac0dc-819c-47f0-ed2d-0f055123004c"
      },
      "execution_count": null,
      "outputs": [
        {
          "output_type": "execute_result",
          "data": {
            "text/plain": [
              "'XYZ school'"
            ],
            "application/vnd.google.colaboratory.intrinsic+json": {
              "type": "string"
            }
          },
          "metadata": {},
          "execution_count": 29
        }
      ]
    },
    {
      "cell_type": "code",
      "source": [
        "std.name"
      ],
      "metadata": {
        "colab": {
          "base_uri": "https://localhost:8080/",
          "height": 35
        },
        "id": "ntzqNfPs2AN4",
        "outputId": "b6e47341-1968-47e6-b214-199ec4d3193d"
      },
      "execution_count": null,
      "outputs": [
        {
          "output_type": "execute_result",
          "data": {
            "text/plain": [
              "'Bill'"
            ],
            "application/vnd.google.colaboratory.intrinsic+json": {
              "type": "string"
            }
          },
          "metadata": {},
          "execution_count": 30
        }
      ]
    },
    {
      "cell_type": "code",
      "source": [
        "std.display()"
      ],
      "metadata": {
        "colab": {
          "base_uri": "https://localhost:8080/"
        },
        "id": "G1BQ0Kpr2Azw",
        "outputId": "789bcb7d-575d-44ec-91ae-382ff51f2319"
      },
      "execution_count": null,
      "outputs": [
        {
          "output_type": "stream",
          "name": "stdout",
          "text": [
            "This is private method\n"
          ]
        }
      ]
    },
    {
      "cell_type": "markdown",
      "source": [
        "Protected는 실제로는 안 그렇지만 숨기는 기능이 있으니 함부로 불러쓰지 말라는"
      ],
      "metadata": {
        "id": "hptWaHh32bLo"
      }
    },
    {
      "cell_type": "markdown",
      "source": [
        "#  Inheritance 상속"
      ],
      "metadata": {
        "id": "_jxsgThW2q5f"
      }
    },
    {
      "cell_type": "markdown",
      "source": [
        "### parent class (superclass, 혼용) \n",
        "animaml\n",
        "### child class (subclass): 부모가 가진 것 모두 + 새로운 attribute(Data), method 추가, *override\n",
        "human, pet"
      ],
      "metadata": {
        "id": "ImU1o3_4288f"
      }
    },
    {
      "cell_type": "markdown",
      "source": [
        "*override: 부모가 이미 가지고 있는 method를 다시 정의, 부모가 가진 method와 같은 이름의 method를 가질 수 있다\n",
        "\n",
        "위 두 관계는 상대적이다."
      ],
      "metadata": {
        "id": "tnQoTHjK286g"
      }
    },
    {
      "cell_type": "markdown",
      "source": [
        "### parent class (superclass, 혼용) \n",
        "pet\n",
        "### child class (subclass)\n",
        "dog, cat"
      ],
      "metadata": {
        "id": "mq4HoC1p284f"
      }
    },
    {
      "cell_type": "markdown",
      "source": [
        "Car예시, 적혀 있지 않아도 부모에게 있는 것도 쓴다.\n",
        "\n",
        "자기한테 있으면 자기 걸 쓰고(우선)(override), 없으면 부모까지 올라가서 부모 것을 쓴다. 있을 때까지 올라가다가 못 찾으면 error난다."
      ],
      "metadata": {
        "id": "hY9Zwg7B4UYe"
      }
    },
    {
      "cell_type": "code",
      "source": [
        "class Animal:\n",
        "  def __init__(self, age,name):\n",
        "    self.age = age\n",
        "    self.name = name\n",
        "  def introduce(self):\n",
        "    return \"animal:\"+str(self.name)+\":\"+str(self.age)\n",
        "\n",
        "class Cat(Animal):    #자식(부모 이름)\n",
        "  def speak(self):\n",
        "    print(\"meow\")\n",
        "  def introduce(self):\n",
        "    return \"cat:\"+str(self.name)+\":\"+str(self.age)"
      ],
      "metadata": {
        "id": "AxUdg0PN5LjN"
      },
      "execution_count": null,
      "outputs": []
    },
    {
      "cell_type": "code",
      "source": [
        "cat1 = Cat(3, 'cheese')  #Cat 내에는 생성자가 없다, 부모 Animal에 찾아감\n",
        "cat1.introduce()  #Cat내의 것이 우선순위가 가장 높다, attribute도 위에서 내려온다, self.name, self.age"
      ],
      "metadata": {
        "colab": {
          "base_uri": "https://localhost:8080/",
          "height": 35
        },
        "id": "vvM5bUSM5lqO",
        "outputId": "68b2491e-6455-493d-fd0c-3c043dbe1150"
      },
      "execution_count": null,
      "outputs": [
        {
          "output_type": "execute_result",
          "data": {
            "text/plain": [
              "'cat:cheese:3'"
            ],
            "application/vnd.google.colaboratory.intrinsic+json": {
              "type": "string"
            }
          },
          "metadata": {},
          "execution_count": 37
        }
      ]
    },
    {
      "cell_type": "code",
      "source": [
        "cat1.speak()  #Cat내에 있다"
      ],
      "metadata": {
        "colab": {
          "base_uri": "https://localhost:8080/"
        },
        "id": "HHaD7REY57p-",
        "outputId": "812474d8-9907-4dc1-d272-9deef290629d"
      },
      "execution_count": null,
      "outputs": [
        {
          "output_type": "stream",
          "name": "stdout",
          "text": [
            "meow\n"
          ]
        }
      ]
    },
    {
      "cell_type": "markdown",
      "source": [
        "class Person:과 class Student(Person):\n",
        "\n",
        "Student내에 생성자가 있는데 super().__init__(name, age)가 있다는 말은 부모의 것을 호출했다는 말임.(super())\n",
        "\n",
        "출력해볼것"
      ],
      "metadata": {
        "id": "z9UWcI2l64hx"
      }
    },
    {
      "cell_type": "code",
      "source": [
        "import tensorflow as tf  #tensorflow 딥러닝 관련 라이브러리\n",
        "\n",
        "class MyModel(tf.heras,Model):  #부모가 Model, 자식이 Mymodel\n",
        "\n",
        "model = MyModel()  #instance만드는"
      ],
      "metadata": {
        "id": "IOFG2JOd63-1"
      },
      "execution_count": null,
      "outputs": []
    },
    {
      "cell_type": "markdown",
      "source": [
        "# Principles of OOP\n",
        "자격증시험등에 나오는"
      ],
      "metadata": {
        "id": "g0tTz_iD8SYE"
      }
    },
    {
      "cell_type": "markdown",
      "source": [
        "### OOP의 4대 원칙: 상속, 캡슐화, 추상화, 다형성\n",
        "\n",
        "상속의: 자식에서 확장가능, ressuability좋음\n",
        "\n",
        "캡슐화: public, protected, private: security(보안)에 영향\n",
        "\n",
        "추상화: 코드를 짜는 것, 존재가 가진 필수적 method나 속성을 extract\n",
        "\n",
        "다형성: override개념처럼, 같은 이름의 method인데 다른 동작을 하도록 만들 수 있다, 같은 함수가 동작이 다르다, 같은 이름으로 접근하지만 실행이 다르다"
      ],
      "metadata": {
        "id": "ds0d9HQM8ce1"
      }
    },
    {
      "cell_type": "markdown",
      "source": [
        "## Summary\n",
        "\n",
        "### parent class (superclass): 부모\n",
        "### child class (subclass): 자식\n",
        "부모의 모든 data와 behaviors동작을 받고, 새로운 attributes와 behavior를 추가 가능하다.\n",
        "**override**\n",
        "\n",
        "\n",
        "### The Four main OOP principles\n",
        "Inheritance\n",
        "\n",
        "Encapsulation\n",
        "\n",
        "Abstraction\n",
        "\n",
        "polymorphism"
      ],
      "metadata": {
        "id": "8umjfmuT9tSD"
      }
    },
    {
      "cell_type": "code",
      "source": [],
      "metadata": {
        "id": "jhiXinCQQZHC"
      },
      "execution_count": null,
      "outputs": []
    },
    {
      "cell_type": "code",
      "source": [],
      "metadata": {
        "id": "o86HjWkkQZEi"
      },
      "execution_count": null,
      "outputs": []
    },
    {
      "cell_type": "code",
      "source": [
        "class Test:\n",
        "    def __init__(self):\n",
        "        self.x = 0\n",
        "\n",
        "class Derived_Test(Test):\n",
        "    def __init__(self):\n",
        "        self.y = 1\n",
        "\n",
        "b = Derived_Test()\n",
        "print(b.x,b.y)\n",
        "main()"
      ],
      "metadata": {
        "colab": {
          "base_uri": "https://localhost:8080/",
          "height": 229
        },
        "id": "ywYTz1sFQZB7",
        "outputId": "3854a9ed-5f78-4c2d-fe58-04a64362822a"
      },
      "execution_count": 4,
      "outputs": [
        {
          "output_type": "error",
          "ename": "AttributeError",
          "evalue": "ignored",
          "traceback": [
            "\u001b[0;31m---------------------------------------------------------------------------\u001b[0m",
            "\u001b[0;31mAttributeError\u001b[0m                            Traceback (most recent call last)",
            "\u001b[0;32m<ipython-input-4-504e4e41d11c>\u001b[0m in \u001b[0;36m<module>\u001b[0;34m\u001b[0m\n\u001b[1;32m      8\u001b[0m \u001b[0;34m\u001b[0m\u001b[0m\n\u001b[1;32m      9\u001b[0m \u001b[0mb\u001b[0m \u001b[0;34m=\u001b[0m \u001b[0mDerived_Test\u001b[0m\u001b[0;34m(\u001b[0m\u001b[0;34m)\u001b[0m\u001b[0;34m\u001b[0m\u001b[0;34m\u001b[0m\u001b[0m\n\u001b[0;32m---> 10\u001b[0;31m \u001b[0mprint\u001b[0m\u001b[0;34m(\u001b[0m\u001b[0mb\u001b[0m\u001b[0;34m.\u001b[0m\u001b[0mx\u001b[0m\u001b[0;34m,\u001b[0m\u001b[0mb\u001b[0m\u001b[0;34m.\u001b[0m\u001b[0my\u001b[0m\u001b[0;34m)\u001b[0m\u001b[0;34m\u001b[0m\u001b[0;34m\u001b[0m\u001b[0m\n\u001b[0m\u001b[1;32m     11\u001b[0m \u001b[0mmain\u001b[0m\u001b[0;34m(\u001b[0m\u001b[0;34m)\u001b[0m\u001b[0;34m\u001b[0m\u001b[0;34m\u001b[0m\u001b[0m\n",
            "\u001b[0;31mAttributeError\u001b[0m: 'Derived_Test' object has no attribute 'x'"
          ]
        }
      ]
    },
    {
      "cell_type": "code",
      "source": [
        "class A:\n",
        "    def one(self):\n",
        "        return self.two()\n",
        " \n",
        "    def two(self):\n",
        "        return 'A'\n",
        " \n",
        "class B(A):\n",
        "    def two(self):\n",
        "        return 'B'\n",
        "\n",
        "obj1=A()\n",
        "obj2=B()\n",
        "print(obj1.one(),obj2.two())"
      ],
      "metadata": {
        "colab": {
          "base_uri": "https://localhost:8080/"
        },
        "id": "lDmTB9R6Qecq",
        "outputId": "487adbdd-7436-437b-9c19-14b04a3a6a96"
      },
      "execution_count": 2,
      "outputs": [
        {
          "output_type": "stream",
          "name": "stdout",
          "text": [
            "A B\n"
          ]
        }
      ]
    },
    {
      "cell_type": "code",
      "source": [
        "class A:\n",
        "    def test(self):\n",
        "        print(\"test of A called\")\n",
        "        \n",
        "class B(A):\n",
        "    def test(self):\n",
        "        print(\"test of B called\")\n",
        "    \n",
        "class C(B):\n",
        "    def test(self):\n",
        "        print(\"test of C called\")\n",
        "                \n",
        "obj = C()\n",
        "obj.test()"
      ],
      "metadata": {
        "colab": {
          "base_uri": "https://localhost:8080/"
        },
        "id": "PZWVVj6FQgVq",
        "outputId": "1e702ee6-11a5-4845-c2d4-30aaddb8e880"
      },
      "execution_count": 3,
      "outputs": [
        {
          "output_type": "stream",
          "name": "stdout",
          "text": [
            "test of C called\n"
          ]
        }
      ]
    },
    {
      "cell_type": "code",
      "source": [],
      "metadata": {
        "id": "DpcFlSOpQrBC"
      },
      "execution_count": null,
      "outputs": []
    }
  ]
}