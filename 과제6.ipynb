{
  "nbformat": 4,
  "nbformat_minor": 0,
  "metadata": {
    "colab": {
      "provenance": [],
      "authorship_tag": "ABX9TyOkP8fqIKfe9qLQNSXQsdWx",
      "include_colab_link": true
    },
    "kernelspec": {
      "name": "python3",
      "display_name": "Python 3"
    },
    "language_info": {
      "name": "python"
    }
  },
  "cells": [
    {
      "cell_type": "markdown",
      "metadata": {
        "id": "view-in-github",
        "colab_type": "text"
      },
      "source": [
        "<a href=\"https://colab.research.google.com/github/munmoom/second_semester/blob/main/%EA%B3%BC%EC%A0%9C6.ipynb\" target=\"_parent\"><img src=\"https://colab.research.google.com/assets/colab-badge.svg\" alt=\"Open In Colab\"/></a>"
      ]
    },
    {
      "cell_type": "code",
      "source": [
        "height = [0,0,0,0,3]\n",
        "solution(height)"
      ],
      "metadata": {
        "id": "2TzlX-vOzvQi",
        "outputId": "5bc11cce-f930-4e50-a160-4134d572108b",
        "colab": {
          "base_uri": "https://localhost:8080/",
          "height": 916
        }
      },
      "execution_count": 58,
      "outputs": [
        {
          "output_type": "stream",
          "name": "stderr",
          "text": [
            "ERROR:root:Internal Python error in the inspect module.\n",
            "Below is the traceback from this internal error.\n",
            "\n"
          ]
        },
        {
          "output_type": "stream",
          "name": "stdout",
          "text": [
            "Traceback (most recent call last):\n",
            "  File \"/usr/local/lib/python3.7/dist-packages/IPython/core/interactiveshell.py\", line 3326, in run_code\n",
            "    exec(code_obj, self.user_global_ns, self.user_ns)\n",
            "  File \"<ipython-input-58-77cdbfa165b7>\", line 2, in <module>\n",
            "    solution(height)\n",
            "  File \"<ipython-input-56-2a8aad7d4908>\", line 97, in solution\n",
            "    return largeback()\n",
            "  File \"<ipython-input-56-2a8aad7d4908>\", line 93, in largeback\n",
            "    largeback()\n",
            "  File \"<ipython-input-56-2a8aad7d4908>\", line 93, in largeback\n",
            "    largeback()\n",
            "  File \"<ipython-input-56-2a8aad7d4908>\", line 93, in largeback\n",
            "    largeback()\n",
            "  [Previous line repeated 954 more times]\n",
            "  File \"<ipython-input-56-2a8aad7d4908>\", line 8, in largeback\n",
            "    for i in range(n):\n",
            "RecursionError: maximum recursion depth exceeded in comparison\n",
            "\n",
            "During handling of the above exception, another exception occurred:\n",
            "\n",
            "Traceback (most recent call last):\n",
            "  File \"/usr/local/lib/python3.7/dist-packages/IPython/core/interactiveshell.py\", line 2040, in showtraceback\n",
            "    stb = value._render_traceback_()\n",
            "AttributeError: 'RecursionError' object has no attribute '_render_traceback_'\n",
            "\n",
            "During handling of the above exception, another exception occurred:\n",
            "\n",
            "Traceback (most recent call last):\n",
            "  File \"/usr/local/lib/python3.7/dist-packages/IPython/core/ultratb.py\", line 1101, in get_records\n",
            "    return _fixed_getinnerframes(etb, number_of_lines_of_context, tb_offset)\n",
            "  File \"/usr/local/lib/python3.7/dist-packages/IPython/core/ultratb.py\", line 319, in wrapped\n",
            "    return f(*args, **kwargs)\n",
            "  File \"/usr/local/lib/python3.7/dist-packages/IPython/core/ultratb.py\", line 353, in _fixed_getinnerframes\n",
            "    records = fix_frame_records_filenames(inspect.getinnerframes(etb, context))\n",
            "  File \"/usr/lib/python3.7/inspect.py\", line 1502, in getinnerframes\n",
            "    frameinfo = (tb.tb_frame,) + getframeinfo(tb, context)\n",
            "  File \"/usr/lib/python3.7/inspect.py\", line 1460, in getframeinfo\n",
            "    filename = getsourcefile(frame) or getfile(frame)\n",
            "  File \"/usr/lib/python3.7/inspect.py\", line 696, in getsourcefile\n",
            "    if getattr(getmodule(object, filename), '__loader__', None) is not None:\n",
            "  File \"/usr/lib/python3.7/inspect.py\", line 732, in getmodule\n",
            "    for modname, module in sys.modules.copy().items():\n",
            "KeyboardInterrupt\n"
          ]
        },
        {
          "output_type": "error",
          "ename": "RecursionError",
          "evalue": "ignored",
          "traceback": [
            "\u001b[0;31m---------------------------------------------------------------------------\u001b[0m"
          ]
        }
      ]
    },
    {
      "cell_type": "code",
      "source": [
        "def solution(height):\n",
        "  Allwater = 0\n",
        "  #def largeback():\n",
        "  def largeback():\n",
        "    nonlocal Allwater\n",
        "    n = len(height)\n",
        "    t = 0\n",
        "    for i in range(n):\n",
        "      if n <= 2:\n",
        "        return Allwater\n",
        "      if t == 0:\n",
        "        pi = height[i]\n",
        "        ipi = i\n",
        "        t += 1\n",
        "\n",
        "      if max(height) == pi:\n",
        "\n",
        "        #def largefront():\n",
        "        def largefront():\n",
        "            nonlocal pi\n",
        "            nonlocal ipi\n",
        "            nonlocal height\n",
        "            nonlocal Allwater\n",
        "\n",
        "            #def water():\n",
        "            def water():\n",
        "              nonlocal Allwater\n",
        "              nonlocal pi\n",
        "              nonlocal piv\n",
        "              nonlocal ipi\n",
        "              nonlocal height\n",
        "              h = pi if pi<piv else piv\n",
        "              water = (ipiv-ipi-1)*h - sum(height[ipi+1:ipiv])\n",
        "              Allwater += water\n",
        "              height = height[ipiv:]\n",
        "              ipi = 0\n",
        "            #\n",
        "            print(ipi)  \n",
        "\n",
        "            hi2 = height[ipi+1:]\n",
        "\n",
        "            #\n",
        "            print(hi2)\n",
        "            #return\n",
        "            piv = max(hi2)\n",
        "            #\n",
        "            print(piv)\n",
        "            ipiv = hi2.index(piv) + (len(height) - len(hi2))\n",
        "            print(ipiv)\n",
        "            #return\n",
        "            if piv == 0:\n",
        "              return Allwater\n",
        "            #water()\n",
        "            #if len(height) <= 2:\n",
        "              #\n",
        "             # print(len(height),end='#')\n",
        "              #return Allwater\n",
        "            water()\n",
        "            if len(height) <= 2:\n",
        "              #\n",
        "              print(len(height),end='*   ')\n",
        "              return Allwater\n",
        "            largefront()\n",
        "\n",
        "        return largefront()\n",
        "      #continue\n",
        "      if height[i] >= pi:\n",
        "        ipiv = i\n",
        "        piv = height[ipiv]\n",
        "        if ipiv == pi+1:\n",
        "          pi = height[i]\n",
        "          ipi = i\n",
        "          continue\n",
        "\n",
        "      #def water():\n",
        "      def water():\n",
        "        nonlocal Allwater\n",
        "        nonlocal pi\n",
        "        nonlocal piv\n",
        "        nonlocal ipi\n",
        "        nonlocal height\n",
        "        h = pi if pi<piv else piv\n",
        "        water = (ipiv-ipi-1)*h - sum(height[ipi+1:ipiv])\n",
        "        Allwater += water\n",
        "        height = height[ipiv:]\n",
        "        ipi = 0\n",
        "\n",
        "      water()\n",
        "      if len(height) <= 2:\n",
        "        #\n",
        "        print(len(height),end='*   ')\n",
        "        return Allwater\n",
        "      largeback()\n",
        "\n",
        "  if len(height) == 2:\n",
        "    return Allwater\n",
        "  return largeback()"
      ],
      "metadata": {
        "id": "PgdHr3eYH_oy"
      },
      "execution_count": 56,
      "outputs": []
    },
    {
      "cell_type": "code",
      "execution_count": 3,
      "metadata": {
        "id": "raKMs-LGHuw6",
        "outputId": "12f657bf-e9d6-4442-c6d0-633e72255b8e",
        "colab": {
          "base_uri": "https://localhost:8080/",
          "height": 136
        }
      },
      "outputs": [
        {
          "output_type": "error",
          "ename": "SyntaxError",
          "evalue": "ignored",
          "traceback": [
            "\u001b[0;36m  File \u001b[0;32m\"<ipython-input-3-dc19b5af2351>\"\u001b[0;36m, line \u001b[0;32m2\u001b[0m\n\u001b[0;31m    nonlocal Allwater\u001b[0m\n\u001b[0m    ^\u001b[0m\n\u001b[0;31mSyntaxError\u001b[0m\u001b[0;31m:\u001b[0m no binding for nonlocal 'Allwater' found\n"
          ]
        }
      ],
      "source": [
        " def water():\n",
        "  nonlocal Allwater\n",
        "  nonlocal pi\n",
        "  h = pi if pi<piv else piv\n",
        "  water = (ipiv-ipi-1)*h - sum(height[ipi+1:ipiv])\n",
        "  Allwater += water\n",
        "  height = height[ipiv:]\n",
        "  ipi = 0"
      ]
    },
    {
      "cell_type": "code",
      "source": [
        "def largefront():\n",
        "  nonlocal pi\n",
        "  nonlocal ipi\n",
        "  nonlocal height\n",
        "  nonlocal Allwater\n",
        "  hi2 = height[ipi+1:]\n",
        "  piv = max(hi2)\n",
        "  ipiv = height.index(piv)\n",
        "  if piv == 0:\n",
        "    return Allwater\n",
        "  water()\n",
        "  if len(height) <= 2:\n",
        "    return Allwater\n",
        "  largefront()"
      ],
      "metadata": {
        "id": "P7GTY1a1dyzW",
        "outputId": "bebdcb46-d54c-4878-fd2b-02afb9863f04",
        "colab": {
          "base_uri": "https://localhost:8080/",
          "height": 136
        }
      },
      "execution_count": 2,
      "outputs": [
        {
          "output_type": "error",
          "ename": "SyntaxError",
          "evalue": "ignored",
          "traceback": [
            "\u001b[0;36m  File \u001b[0;32m\"<ipython-input-2-98e9da0dbde9>\"\u001b[0;36m, line \u001b[0;32m2\u001b[0m\n\u001b[0;31m    nonlocal pi\u001b[0m\n\u001b[0m    ^\u001b[0m\n\u001b[0;31mSyntaxError\u001b[0m\u001b[0;31m:\u001b[0m no binding for nonlocal 'pi' found\n"
          ]
        }
      ]
    },
    {
      "cell_type": "code",
      "source": [
        "def largeback(height):\n",
        "  n = len(height)\n",
        "  t = 0\n",
        "  for i in range(n):\n",
        "    if n <= 2:\n",
        "      return Allwater\n",
        "    if t == 0:\n",
        "      pi = height[i]\n",
        "      ipi = i\n",
        "      t += 1\n",
        "\n",
        "    #def water():\n",
        "    def water():\n",
        "      nonlocal Allwater\n",
        "      nonlocal pi\n",
        "      h = pi if pi<piv else piv\n",
        "      water = (ipiv-ipi-1)*h - sum(height[ipi+1:ipiv])\n",
        "      Allwater += water\n",
        "      height = height[ipiv:]\n",
        "      ipi = 0\n",
        "\n",
        "    if max(height) == pi:\n",
        "\n",
        "      #def largefront():\n",
        "      def largefront():\n",
        "          nonlocal pi\n",
        "          nonlocal ipi\n",
        "          nonlocal height\n",
        "          nonlocal Allwater\n",
        "          hi2 = height[ipi+1:]\n",
        "          piv = max(hi2)\n",
        "          ipiv = height.index(piv)\n",
        "          if piv == 0:\n",
        "            return Allwater\n",
        "          water()\n",
        "          if len(height) <= 2:\n",
        "            return Allwater\n",
        "          largefront()\n",
        "\n",
        "      return largefront()\n",
        "    #continue\n",
        "    if height >= pi:\n",
        "      ipiv = i\n",
        "      piv = height[ipiv]\n",
        "      if ipiv == pi+1:\n",
        "        pi = height[i]\n",
        "        ipi = i\n",
        "        continue     \n",
        "    water()\n",
        "    largeback()"
      ],
      "metadata": {
        "id": "TOqVu8IIf3zu"
      },
      "execution_count": 9,
      "outputs": []
    },
    {
      "cell_type": "code",
      "source": [
        "a = [1,2,3,4,5,6,7]\n",
        "k = a.index(3)\n",
        "print(a)\n",
        "print(k)"
      ],
      "metadata": {
        "id": "onxwtFqKIVC2",
        "colab": {
          "base_uri": "https://localhost:8080/"
        },
        "outputId": "872b6cd6-623f-41ec-8d8c-002449bbc704"
      },
      "execution_count": 35,
      "outputs": [
        {
          "output_type": "stream",
          "name": "stdout",
          "text": [
            "[1, 2, 3, 4, 5, 6, 7]\n",
            "2\n"
          ]
        }
      ]
    },
    {
      "cell_type": "code",
      "source": [
        "b = [1,2,3]"
      ],
      "metadata": {
        "id": "Y8q16tKH414H"
      },
      "execution_count": null,
      "outputs": []
    }
  ]
}