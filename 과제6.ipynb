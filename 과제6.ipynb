{
  "nbformat": 4,
  "nbformat_minor": 0,
  "metadata": {
    "colab": {
      "provenance": [],
      "authorship_tag": "ABX9TyPuaAIPU456HQ0iZdG0qpKx",
      "include_colab_link": true
    },
    "kernelspec": {
      "name": "python3",
      "display_name": "Python 3"
    },
    "language_info": {
      "name": "python"
    }
  },
  "cells": [
    {
      "cell_type": "markdown",
      "metadata": {
        "id": "view-in-github",
        "colab_type": "text"
      },
      "source": [
        "<a href=\"https://colab.research.google.com/github/munmoom/second_semester/blob/main/%EA%B3%BC%EC%A0%9C6.ipynb\" target=\"_parent\"><img src=\"https://colab.research.google.com/assets/colab-badge.svg\" alt=\"Open In Colab\"/></a>"
      ]
    },
    {
      "cell_type": "code",
      "source": [
        "height = [10,11, 0, 2, 0, 3, 11, 0]\n",
        "a = solution(height)\n",
        "print()\n",
        "print(a)"
      ],
      "metadata": {
        "colab": {
          "base_uri": "https://localhost:8080/"
        },
        "id": "2TzlX-vOzvQi",
        "outputId": "0608b834-22f7-443d-d5b2-770dde32be66"
      },
      "execution_count": 103,
      "outputs": [
        {
          "output_type": "stream",
          "name": "stdout",
          "text": [
            "largeback:[10, 11, 0, 2, 0, 3, 11, 0]\n",
            "largeback:[10, 11, 0, 2, 0, 3, 11, 0]\n",
            "n: 8\n",
            "i: 0\n",
            "largeback:[10, 11, 0, 2, 0, 3, 11, 0]\n",
            "n: 8\n",
            "i: 1\n",
            "height: [10, 11, 0, 2, 0, 3, 11, 0]\n",
            "pi: 10, ipi: 0\n",
            "piv: 11, ipiv: 1\n",
            "pi: 11, ipi: 1\n",
            "largeback:[10, 11, 0, 2, 0, 3, 11, 0]\n",
            "n: 8\n",
            "i: 2\n",
            "go to largefront\n",
            "1\n",
            "hi2:[0, 2, 0, 3, 11, 0]\n",
            "IF piv:11\n",
            "IF ipiv:6\n",
            "IF piv : 3\n",
            "길이짧아서 2\n",
            "\n",
            "7\n"
          ]
        }
      ]
    },
    {
      "cell_type": "code",
      "source": [
        "type(a)"
      ],
      "metadata": {
        "id": "Ty6ACh0kejrK"
      },
      "execution_count": null,
      "outputs": []
    },
    {
      "cell_type": "code",
      "source": [
        "def solution(height):\n",
        "  Allwater = 0\n",
        "  #def largeback():\n",
        "  def largeback():\n",
        "    nonlocal Allwater\n",
        "    nonlocal height\n",
        "    print(f'largeback:{height}')\n",
        "    #n = len(height)\n",
        "    t = 0\n",
        "    i = 0\n",
        "    for i in range(len(height)):\n",
        "      #if t == 2:\n",
        "       # print(f'from largefront zero')\n",
        "        #i = 0\n",
        "      n=len(height)\n",
        "      print(f'largeback:{height}')\n",
        "      print(f'n: {n}')\n",
        "      print(f'i: {i}')\n",
        "\n",
        "      #if i == 1:\n",
        "     #  i = 0\n",
        "      #  print(i)\n",
        "       # return\n",
        "\n",
        "\n",
        "      #if t != 0 and i == n-1 and ipiv == ipi:\n",
        "      #  print(f'Allwater: {Allwater}')\n",
        "      #  return Allwater\n",
        "      \n",
        "\n",
        "      if n <= 2:\n",
        "        return Allwater\n",
        "      if t == 0:\n",
        "        pi = height[i]\n",
        "        ipi = i\n",
        "        t += 1\n",
        "        continue\n",
        "\n",
        "      if max(height) == pi:\n",
        "        print('go to largefront')\n",
        "\n",
        "        #def largefront():\n",
        "        def largefront():\n",
        "            nonlocal pi\n",
        "            nonlocal ipi\n",
        "            nonlocal height\n",
        "            nonlocal Allwater\n",
        "            nonlocal t\n",
        "\n",
        "            #def water():\n",
        "            def water():\n",
        "              nonlocal Allwater\n",
        "              nonlocal pi\n",
        "              nonlocal piv\n",
        "              nonlocal ipi\n",
        "              nonlocal height\n",
        "              h = pi if pi<piv else piv\n",
        "              water = (ipiv-ipi-1)*h - sum(height[ipi+1:ipiv])\n",
        "              Allwater += water\n",
        "              height = height[ipiv:]\n",
        "              ipi = 0\n",
        "            #\n",
        "            print(ipi)  \n",
        "            hi2 = height[ipi+1:]\n",
        "            print(f'hi2:{hi2}')\n",
        "            #return\n",
        "            piv = max(hi2)\n",
        "            #\n",
        "            print(f'IF piv:{piv}')\n",
        "            ipiv = hi2.index(piv) + (len(height) - len(hi2))\n",
        "            print(f'IF ipiv:{ipiv}')\n",
        "            #return\n",
        "            if piv == 0:\n",
        "              #i = 0\n",
        "              #print(f'i: {i}')\n",
        "              height = hi2\n",
        "              return Allwater\n",
        "            #water()\n",
        "            #if len(height) <= 2:\n",
        "              #\n",
        "             # print(len(height),end='#')\n",
        "              #return Allwater\n",
        " \n",
        "            #water돌리기 전에 두개 사이에 가장 작은 블록 잡아서 그 불록을 piv\n",
        "            #0이 아닌 가장 작은 것을 piv로\n",
        "            #수정필\n",
        "\n",
        "            if max(height[ipi+1:ipiv]) >=1:\n",
        "              piv = max(height[ipi+1:ipiv]) \n",
        "              print(f'IF piv : {piv}')\n",
        "            water()\n",
        "\n",
        "\n",
        "\n",
        "\n",
        "\n",
        "\n",
        "            \n",
        "\n",
        "            if len(height) <= 2:\n",
        "              #\n",
        "              print('길이짧아서', end=' ')\n",
        "              print(len(height))\n",
        "              return Allwater\n",
        "            largefront()\n",
        "\n",
        "        #i == 0\n",
        "        largefront()\n",
        "        return Allwater\n",
        "\n",
        "      print(f'height: {height}')\n",
        "\n",
        "      if height[i] >= pi:\n",
        "        print(f'pi: {pi}, ipi: {ipi}')       \n",
        "        ipiv = i\n",
        "        piv = height[ipiv]\n",
        "        print(f'piv: {piv}, ipiv: {ipiv}')\n",
        "        #return\n",
        "        if ipiv == ipi+1:\n",
        "          pi = height[i]\n",
        "          ipi = i\n",
        "          print(f'pi: {pi}, ipi: {ipi}')\n",
        "          continue\n",
        "      else:\n",
        "        ipiv = i\n",
        "        piv = height[i]\n",
        "        print(f'pi: {pi}, ipi: {ipi}')\n",
        "        print(f'piv: {piv}, ipiv: {ipiv}')\n",
        "        continue\n",
        "\n",
        "      #return\n",
        "\n",
        "      #def water():\n",
        "      def water():\n",
        "        nonlocal Allwater\n",
        "        nonlocal pi\n",
        "        nonlocal piv\n",
        "        nonlocal ipi\n",
        "        nonlocal height\n",
        "        h = pi if pi<piv else piv\n",
        "        water = (ipiv-ipi-1)*h - sum(height[ipi+1:ipiv])\n",
        "        Allwater += water\n",
        "        height = height[ipiv:]\n",
        "        ipi = 0\n",
        "        print(f'water:{height}')\n",
        "\n",
        "      print('water')\n",
        "      water()\n",
        "      if len(height) <= 2:\n",
        "        print('길이짧아서', end=' ')\n",
        "        print(len(height))\n",
        "        return Allwater\n",
        "      #if len(height) == i+1:\n",
        "      #  print('return')\n",
        "      #  return Allwater\n",
        "      largeback()\n",
        "\n",
        "  if len(height) == 2:\n",
        "    return Allwater\n",
        "  return largeback()"
      ],
      "metadata": {
        "id": "PgdHr3eYH_oy"
      },
      "execution_count": 102,
      "outputs": []
    },
    {
      "cell_type": "code",
      "execution_count": 3,
      "metadata": {
        "id": "raKMs-LGHuw6",
        "colab": {
          "base_uri": "https://localhost:8080/",
          "height": 136
        },
        "outputId": "12f657bf-e9d6-4442-c6d0-633e72255b8e"
      },
      "outputs": [
        {
          "output_type": "error",
          "ename": "SyntaxError",
          "evalue": "ignored",
          "traceback": [
            "\u001b[0;36m  File \u001b[0;32m\"<ipython-input-3-dc19b5af2351>\"\u001b[0;36m, line \u001b[0;32m2\u001b[0m\n\u001b[0;31m    nonlocal Allwater\u001b[0m\n\u001b[0m    ^\u001b[0m\n\u001b[0;31mSyntaxError\u001b[0m\u001b[0;31m:\u001b[0m no binding for nonlocal 'Allwater' found\n"
          ]
        }
      ],
      "source": [
        " def water():\n",
        "  nonlocal Allwater\n",
        "  nonlocal pi\n",
        "  h = pi if pi<piv else piv\n",
        "  water = (ipiv-ipi-1)*h - sum(height[ipi+1:ipiv])\n",
        "  Allwater += water\n",
        "  height = height[ipiv:]\n",
        "  ipi = 0"
      ]
    },
    {
      "cell_type": "code",
      "source": [
        "def largefront():\n",
        "  nonlocal pi\n",
        "  nonlocal ipi\n",
        "  nonlocal height\n",
        "  nonlocal Allwater\n",
        "  hi2 = height[ipi+1:]\n",
        "  piv = max(hi2)\n",
        "  ipiv = height.index(piv)\n",
        "  if piv == 0:\n",
        "    return Allwater\n",
        "  water()\n",
        "  if len(height) <= 2:\n",
        "    return Allwater\n",
        "  largefront()"
      ],
      "metadata": {
        "id": "P7GTY1a1dyzW",
        "colab": {
          "base_uri": "https://localhost:8080/",
          "height": 136
        },
        "outputId": "bebdcb46-d54c-4878-fd2b-02afb9863f04"
      },
      "execution_count": 2,
      "outputs": [
        {
          "output_type": "error",
          "ename": "SyntaxError",
          "evalue": "ignored",
          "traceback": [
            "\u001b[0;36m  File \u001b[0;32m\"<ipython-input-2-98e9da0dbde9>\"\u001b[0;36m, line \u001b[0;32m2\u001b[0m\n\u001b[0;31m    nonlocal pi\u001b[0m\n\u001b[0m    ^\u001b[0m\n\u001b[0;31mSyntaxError\u001b[0m\u001b[0;31m:\u001b[0m no binding for nonlocal 'pi' found\n"
          ]
        }
      ]
    },
    {
      "cell_type": "code",
      "source": [
        "def largeback(height):\n",
        "  n = len(height)\n",
        "  t = 0\n",
        "  for i in range(n):\n",
        "    if n <= 2:\n",
        "      return Allwater\n",
        "    if t == 0:\n",
        "      pi = height[i]\n",
        "      ipi = i\n",
        "      t += 1\n",
        "\n",
        "    #def water():\n",
        "    def water():\n",
        "      nonlocal Allwater\n",
        "      nonlocal pi\n",
        "      h = pi if pi<piv else piv\n",
        "      water = (ipiv-ipi-1)*h - sum(height[ipi+1:ipiv])\n",
        "      Allwater += water\n",
        "      height = height[ipiv:]\n",
        "      ipi = 0\n",
        "\n",
        "    if max(height) == pi:\n",
        "\n",
        "      #def largefront():\n",
        "      def largefront():\n",
        "          nonlocal pi\n",
        "          nonlocal ipi\n",
        "          nonlocal height\n",
        "          nonlocal Allwater\n",
        "          hi2 = height[ipi+1:]\n",
        "          piv = max(hi2)\n",
        "          ipiv = height.index(piv)\n",
        "          if piv == 0:\n",
        "            return Allwater\n",
        "          water()\n",
        "          if len(height) <= 2:\n",
        "            return Allwater\n",
        "          largefront()\n",
        "\n",
        "      return largefront()\n",
        "    #continue\n",
        "    if height >= pi:\n",
        "      ipiv = i\n",
        "      piv = height[ipiv]\n",
        "      if ipiv == pi+1:\n",
        "        pi = height[i]\n",
        "        ipi = i\n",
        "        continue     \n",
        "    water()\n",
        "    largeback()"
      ],
      "metadata": {
        "id": "TOqVu8IIf3zu"
      },
      "execution_count": 9,
      "outputs": []
    },
    {
      "cell_type": "code",
      "source": [
        "a = [1,2,3,4,5,6,7]\n",
        "k = a.index(3)\n",
        "print(a)\n",
        "print(k)"
      ],
      "metadata": {
        "id": "onxwtFqKIVC2",
        "colab": {
          "base_uri": "https://localhost:8080/"
        },
        "outputId": "872b6cd6-623f-41ec-8d8c-002449bbc704"
      },
      "execution_count": 35,
      "outputs": [
        {
          "output_type": "stream",
          "name": "stdout",
          "text": [
            "[1, 2, 3, 4, 5, 6, 7]\n",
            "2\n"
          ]
        }
      ]
    },
    {
      "cell_type": "code",
      "source": [
        "b = [1,2,3]"
      ],
      "metadata": {
        "id": "Y8q16tKH414H"
      },
      "execution_count": null,
      "outputs": []
    }
  ]
}