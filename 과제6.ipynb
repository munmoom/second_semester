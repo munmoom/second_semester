{
  "nbformat": 4,
  "nbformat_minor": 0,
  "metadata": {
    "colab": {
      "provenance": [],
      "authorship_tag": "ABX9TyN1xZ+ZX/gmugdqSgLw46vu",
      "include_colab_link": true
    },
    "kernelspec": {
      "name": "python3",
      "display_name": "Python 3"
    },
    "language_info": {
      "name": "python"
    }
  },
  "cells": [
    {
      "cell_type": "markdown",
      "metadata": {
        "id": "view-in-github",
        "colab_type": "text"
      },
      "source": [
        "<a href=\"https://colab.research.google.com/github/munmoom/second_semester/blob/main/%EA%B3%BC%EC%A0%9C6.ipynb\" target=\"_parent\"><img src=\"https://colab.research.google.com/assets/colab-badge.svg\" alt=\"Open In Colab\"/></a>"
      ]
    },
    {
      "cell_type": "code",
      "source": [
        "height = [0,0,2,0,3,0, 0]\n",
        "a= solution(height)\n",
        "print()\n",
        "print(a)"
      ],
      "metadata": {
        "colab": {
          "base_uri": "https://localhost:8080/",
          "height": 995
        },
        "id": "2TzlX-vOzvQi",
        "outputId": "6a7d9a55-6406-4e8f-a3dc-309deb31d211"
      },
      "execution_count": 73,
      "outputs": [
        {
          "output_type": "stream",
          "name": "stdout",
          "text": [
            "n: 7\n",
            "i: 0\n",
            "n: 7\n",
            "i: 1\n",
            "pi: 0, ipi: 0\n",
            "ipiv: 1\n",
            "piv: 0\n",
            "pi: 0, ipi: 1\n",
            "n: 7\n",
            "i: 2\n",
            "pi: 0, ipi: 1\n",
            "ipiv: 2\n",
            "piv: 2\n",
            "pi: 2, ipi: 2\n",
            "n: 7\n",
            "i: 3\n",
            "pi: 2, ipi: 2\n",
            "piv: 0, ipiv: 3\n",
            "n: 7\n",
            "i: 4\n",
            "pi: 2, ipi: 2\n",
            "ipiv: 4\n",
            "piv: 3\n",
            "[3, 0, 0]\n",
            "n: 3\n",
            "i: 0\n",
            "n: 3\n",
            "i: 1\n",
            "0\n",
            "[0, 0]\n",
            "0\n",
            "1\n",
            "n: 7\n",
            "i: 5\n"
          ]
        },
        {
          "output_type": "error",
          "ename": "IndexError",
          "evalue": "ignored",
          "traceback": [
            "\u001b[0;31m---------------------------------------------------------------------------\u001b[0m",
            "\u001b[0;31mIndexError\u001b[0m                                Traceback (most recent call last)",
            "\u001b[0;32m<ipython-input-73-6a39cfb0b366>\u001b[0m in \u001b[0;36m<module>\u001b[0;34m\u001b[0m\n\u001b[1;32m      1\u001b[0m \u001b[0mheight\u001b[0m \u001b[0;34m=\u001b[0m \u001b[0;34m[\u001b[0m\u001b[0;36m0\u001b[0m\u001b[0;34m,\u001b[0m\u001b[0;36m0\u001b[0m\u001b[0;34m,\u001b[0m\u001b[0;36m2\u001b[0m\u001b[0;34m,\u001b[0m\u001b[0;36m0\u001b[0m\u001b[0;34m,\u001b[0m\u001b[0;36m3\u001b[0m\u001b[0;34m,\u001b[0m\u001b[0;36m0\u001b[0m\u001b[0;34m,\u001b[0m \u001b[0;36m0\u001b[0m\u001b[0;34m]\u001b[0m\u001b[0;34m\u001b[0m\u001b[0;34m\u001b[0m\u001b[0m\n\u001b[0;32m----> 2\u001b[0;31m \u001b[0ma\u001b[0m\u001b[0;34m=\u001b[0m \u001b[0msolution\u001b[0m\u001b[0;34m(\u001b[0m\u001b[0mheight\u001b[0m\u001b[0;34m)\u001b[0m\u001b[0;34m\u001b[0m\u001b[0;34m\u001b[0m\u001b[0m\n\u001b[0m\u001b[1;32m      3\u001b[0m \u001b[0mprint\u001b[0m\u001b[0;34m(\u001b[0m\u001b[0;34m)\u001b[0m\u001b[0;34m\u001b[0m\u001b[0;34m\u001b[0m\u001b[0m\n\u001b[1;32m      4\u001b[0m \u001b[0mprint\u001b[0m\u001b[0;34m(\u001b[0m\u001b[0ma\u001b[0m\u001b[0;34m)\u001b[0m\u001b[0;34m\u001b[0m\u001b[0;34m\u001b[0m\u001b[0m\n",
            "\u001b[0;32m<ipython-input-70-7ebc8718f756>\u001b[0m in \u001b[0;36msolution\u001b[0;34m(height)\u001b[0m\n\u001b[1;32m    123\u001b[0m   \u001b[0;32mif\u001b[0m \u001b[0mlen\u001b[0m\u001b[0;34m(\u001b[0m\u001b[0mheight\u001b[0m\u001b[0;34m)\u001b[0m \u001b[0;34m==\u001b[0m \u001b[0;36m2\u001b[0m\u001b[0;34m:\u001b[0m\u001b[0;34m\u001b[0m\u001b[0;34m\u001b[0m\u001b[0m\n\u001b[1;32m    124\u001b[0m     \u001b[0;32mreturn\u001b[0m \u001b[0mAllwater\u001b[0m\u001b[0;34m\u001b[0m\u001b[0;34m\u001b[0m\u001b[0m\n\u001b[0;32m--> 125\u001b[0;31m   \u001b[0;32mreturn\u001b[0m \u001b[0mlargeback\u001b[0m\u001b[0;34m(\u001b[0m\u001b[0;34m)\u001b[0m\u001b[0;34m\u001b[0m\u001b[0;34m\u001b[0m\u001b[0m\n\u001b[0m",
            "\u001b[0;32m<ipython-input-70-7ebc8718f756>\u001b[0m in \u001b[0;36mlargeback\u001b[0;34m()\u001b[0m\n\u001b[1;32m     75\u001b[0m         \u001b[0;32mcontinue\u001b[0m\u001b[0;34m\u001b[0m\u001b[0;34m\u001b[0m\u001b[0m\n\u001b[1;32m     76\u001b[0m \u001b[0;34m\u001b[0m\u001b[0m\n\u001b[0;32m---> 77\u001b[0;31m       \u001b[0;32mif\u001b[0m \u001b[0mheight\u001b[0m\u001b[0;34m[\u001b[0m\u001b[0mi\u001b[0m\u001b[0;34m]\u001b[0m \u001b[0;34m>=\u001b[0m \u001b[0mpi\u001b[0m\u001b[0;34m:\u001b[0m\u001b[0;34m\u001b[0m\u001b[0;34m\u001b[0m\u001b[0m\n\u001b[0m\u001b[1;32m     78\u001b[0m         \u001b[0mprint\u001b[0m\u001b[0;34m(\u001b[0m\u001b[0;34mf'pi: {pi}, ipi: {ipi}'\u001b[0m\u001b[0;34m)\u001b[0m\u001b[0;34m\u001b[0m\u001b[0;34m\u001b[0m\u001b[0m\n\u001b[1;32m     79\u001b[0m         \u001b[0mipiv\u001b[0m \u001b[0;34m=\u001b[0m \u001b[0mi\u001b[0m\u001b[0;34m\u001b[0m\u001b[0;34m\u001b[0m\u001b[0m\n",
            "\u001b[0;31mIndexError\u001b[0m: list index out of range"
          ]
        }
      ]
    },
    {
      "cell_type": "code",
      "source": [
        "type(a)"
      ],
      "metadata": {
        "id": "Ty6ACh0kejrK"
      },
      "execution_count": null,
      "outputs": []
    },
    {
      "cell_type": "code",
      "source": [
        "def solution(height):\n",
        "  Allwater = 0\n",
        "  #def largeback():\n",
        "  def largeback():\n",
        "    nonlocal Allwater\n",
        "    nonlocal height\n",
        "    n = len(height)\n",
        "    t = 0\n",
        "    for i in range(n):\n",
        "      print(f'n: {n}')\n",
        "      print(f'i: {i}')\n",
        "      #if t != 0 and i == n-1 and ipiv == ipi:\n",
        "     #   print(f'Allwater: {Allwater}')\n",
        "      #  return Allwater\n",
        "      \n",
        "\n",
        "      if n <= 2:\n",
        "        return Allwater\n",
        "      if t == 0:\n",
        "        pi = height[i]\n",
        "        ipi = i\n",
        "        t += 1\n",
        "        continue\n",
        "\n",
        "      if max(height) == pi:\n",
        "\n",
        "        #def largefront():\n",
        "        def largefront():\n",
        "            nonlocal pi\n",
        "            nonlocal ipi\n",
        "            nonlocal height\n",
        "            nonlocal Allwater\n",
        "\n",
        "            #def water():\n",
        "            def water():\n",
        "              nonlocal Allwater\n",
        "              nonlocal pi\n",
        "              nonlocal piv\n",
        "              nonlocal ipi\n",
        "              nonlocal height\n",
        "              h = pi if pi<piv else piv\n",
        "              water = (ipiv-ipi-1)*h - sum(height[ipi+1:ipiv])\n",
        "              Allwater += water\n",
        "              height = height[ipiv:]\n",
        "              ipi = 0\n",
        "            #\n",
        "            print(ipi)  \n",
        "\n",
        "            hi2 = height[ipi+1:]\n",
        "\n",
        "            #\n",
        "            print(hi2)\n",
        "            #return\n",
        "            piv = max(hi2)\n",
        "            #\n",
        "            print(piv)\n",
        "            ipiv = hi2.index(piv) + (len(height) - len(hi2))\n",
        "            print(ipiv)\n",
        "            #return\n",
        "            if piv == 0:\n",
        "              return Allwater\n",
        "            #water()\n",
        "            #if len(height) <= 2:\n",
        "              #\n",
        "             # print(len(height),end='#')\n",
        "              #return Allwater\n",
        "            water()\n",
        "            if len(height) <= 2:\n",
        "              #\n",
        "              print(len(height),end='*   ')\n",
        "              return Allwater\n",
        "            largefront()\n",
        "\n",
        "        return largefront()\n",
        "        continue\n",
        "\n",
        "      if height[i] >= pi:\n",
        "        print(f'pi: {pi}, ipi: {ipi}')       \n",
        "        ipiv = i\n",
        "        print(f'ipiv: {ipiv}')\n",
        "        piv = height[ipiv]\n",
        "        print(f'piv: {piv}')\n",
        "        #return\n",
        "        if ipiv == ipi+1:\n",
        "          pi = height[i]\n",
        "          ipi = i\n",
        "          print(f'pi: {pi}, ipi: {ipi}')\n",
        "          continue\n",
        "      else:\n",
        "        ipiv = i\n",
        "        piv = height[i]\n",
        "        print(f'pi: {pi}, ipi: {ipi}')\n",
        "        print(f'piv: {piv}, ipiv: {ipiv}')\n",
        "        continue\n",
        "\n",
        "      #return\n",
        "\n",
        "      #def water():\n",
        "      def water():\n",
        "        nonlocal Allwater\n",
        "        nonlocal pi\n",
        "        nonlocal piv\n",
        "        nonlocal ipi\n",
        "        nonlocal height\n",
        "        h = pi if pi<piv else piv\n",
        "        water = (ipiv-ipi-1)*h - sum(height[ipi+1:ipiv])\n",
        "        Allwater += water\n",
        "        height = height[ipiv:]\n",
        "        ipi = 0\n",
        "        print(height)\n",
        "\n",
        "     #print('water')\n",
        "      water()\n",
        "      if len(height) <= 2:\n",
        "        #\n",
        "        print(len(height),end='*   ')\n",
        "        return Allwater\n",
        "      if len(height) == i+1:\n",
        "        print('return')\n",
        "        return Allwater\n",
        "      largeback()\n",
        "\n",
        "  if len(height) == 2:\n",
        "    return Allwater\n",
        "  return largeback()"
      ],
      "metadata": {
        "id": "PgdHr3eYH_oy"
      },
      "execution_count": 70,
      "outputs": []
    },
    {
      "cell_type": "code",
      "execution_count": 3,
      "metadata": {
        "id": "raKMs-LGHuw6",
        "colab": {
          "base_uri": "https://localhost:8080/",
          "height": 136
        },
        "outputId": "12f657bf-e9d6-4442-c6d0-633e72255b8e"
      },
      "outputs": [
        {
          "output_type": "error",
          "ename": "SyntaxError",
          "evalue": "ignored",
          "traceback": [
            "\u001b[0;36m  File \u001b[0;32m\"<ipython-input-3-dc19b5af2351>\"\u001b[0;36m, line \u001b[0;32m2\u001b[0m\n\u001b[0;31m    nonlocal Allwater\u001b[0m\n\u001b[0m    ^\u001b[0m\n\u001b[0;31mSyntaxError\u001b[0m\u001b[0;31m:\u001b[0m no binding for nonlocal 'Allwater' found\n"
          ]
        }
      ],
      "source": [
        " def water():\n",
        "  nonlocal Allwater\n",
        "  nonlocal pi\n",
        "  h = pi if pi<piv else piv\n",
        "  water = (ipiv-ipi-1)*h - sum(height[ipi+1:ipiv])\n",
        "  Allwater += water\n",
        "  height = height[ipiv:]\n",
        "  ipi = 0"
      ]
    },
    {
      "cell_type": "code",
      "source": [
        "def largefront():\n",
        "  nonlocal pi\n",
        "  nonlocal ipi\n",
        "  nonlocal height\n",
        "  nonlocal Allwater\n",
        "  hi2 = height[ipi+1:]\n",
        "  piv = max(hi2)\n",
        "  ipiv = height.index(piv)\n",
        "  if piv == 0:\n",
        "    return Allwater\n",
        "  water()\n",
        "  if len(height) <= 2:\n",
        "    return Allwater\n",
        "  largefront()"
      ],
      "metadata": {
        "id": "P7GTY1a1dyzW",
        "colab": {
          "base_uri": "https://localhost:8080/",
          "height": 136
        },
        "outputId": "bebdcb46-d54c-4878-fd2b-02afb9863f04"
      },
      "execution_count": 2,
      "outputs": [
        {
          "output_type": "error",
          "ename": "SyntaxError",
          "evalue": "ignored",
          "traceback": [
            "\u001b[0;36m  File \u001b[0;32m\"<ipython-input-2-98e9da0dbde9>\"\u001b[0;36m, line \u001b[0;32m2\u001b[0m\n\u001b[0;31m    nonlocal pi\u001b[0m\n\u001b[0m    ^\u001b[0m\n\u001b[0;31mSyntaxError\u001b[0m\u001b[0;31m:\u001b[0m no binding for nonlocal 'pi' found\n"
          ]
        }
      ]
    },
    {
      "cell_type": "code",
      "source": [
        "def largeback(height):\n",
        "  n = len(height)\n",
        "  t = 0\n",
        "  for i in range(n):\n",
        "    if n <= 2:\n",
        "      return Allwater\n",
        "    if t == 0:\n",
        "      pi = height[i]\n",
        "      ipi = i\n",
        "      t += 1\n",
        "\n",
        "    #def water():\n",
        "    def water():\n",
        "      nonlocal Allwater\n",
        "      nonlocal pi\n",
        "      h = pi if pi<piv else piv\n",
        "      water = (ipiv-ipi-1)*h - sum(height[ipi+1:ipiv])\n",
        "      Allwater += water\n",
        "      height = height[ipiv:]\n",
        "      ipi = 0\n",
        "\n",
        "    if max(height) == pi:\n",
        "\n",
        "      #def largefront():\n",
        "      def largefront():\n",
        "          nonlocal pi\n",
        "          nonlocal ipi\n",
        "          nonlocal height\n",
        "          nonlocal Allwater\n",
        "          hi2 = height[ipi+1:]\n",
        "          piv = max(hi2)\n",
        "          ipiv = height.index(piv)\n",
        "          if piv == 0:\n",
        "            return Allwater\n",
        "          water()\n",
        "          if len(height) <= 2:\n",
        "            return Allwater\n",
        "          largefront()\n",
        "\n",
        "      return largefront()\n",
        "    #continue\n",
        "    if height >= pi:\n",
        "      ipiv = i\n",
        "      piv = height[ipiv]\n",
        "      if ipiv == pi+1:\n",
        "        pi = height[i]\n",
        "        ipi = i\n",
        "        continue     \n",
        "    water()\n",
        "    largeback()"
      ],
      "metadata": {
        "id": "TOqVu8IIf3zu"
      },
      "execution_count": 9,
      "outputs": []
    },
    {
      "cell_type": "code",
      "source": [
        "a = [1,2,3,4,5,6,7]\n",
        "k = a.index(3)\n",
        "print(a)\n",
        "print(k)"
      ],
      "metadata": {
        "id": "onxwtFqKIVC2",
        "colab": {
          "base_uri": "https://localhost:8080/"
        },
        "outputId": "872b6cd6-623f-41ec-8d8c-002449bbc704"
      },
      "execution_count": 35,
      "outputs": [
        {
          "output_type": "stream",
          "name": "stdout",
          "text": [
            "[1, 2, 3, 4, 5, 6, 7]\n",
            "2\n"
          ]
        }
      ]
    },
    {
      "cell_type": "code",
      "source": [
        "b = [1,2,3]"
      ],
      "metadata": {
        "id": "Y8q16tKH414H"
      },
      "execution_count": null,
      "outputs": []
    }
  ]
}