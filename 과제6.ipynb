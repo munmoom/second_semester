{
  "nbformat": 4,
  "nbformat_minor": 0,
  "metadata": {
    "colab": {
      "provenance": [],
      "authorship_tag": "ABX9TyNTMqhbxteZY+tzz1rtx81w",
      "include_colab_link": true
    },
    "kernelspec": {
      "name": "python3",
      "display_name": "Python 3"
    },
    "language_info": {
      "name": "python"
    }
  },
  "cells": [
    {
      "cell_type": "markdown",
      "metadata": {
        "id": "view-in-github",
        "colab_type": "text"
      },
      "source": [
        "<a href=\"https://colab.research.google.com/github/munmoom/second_semester/blob/main/%EA%B3%BC%EC%A0%9C6.ipynb\" target=\"_parent\"><img src=\"https://colab.research.google.com/assets/colab-badge.svg\" alt=\"Open In Colab\"/></a>"
      ]
    },
    {
      "cell_type": "code",
      "source": [
        "def solution():\n",
        "  Allwater = 0\n",
        "  if len(height) == 2:\n",
        "    return Allwater\n",
        "  return largeback()"
      ],
      "metadata": {
        "colab": {
          "base_uri": "https://localhost:8080/",
          "height": 136
        },
        "id": "PgdHr3eYH_oy",
        "outputId": "9c6f4f38-9dad-4339-def7-67a68b3f4b11"
      },
      "execution_count": 4,
      "outputs": [
        {
          "output_type": "error",
          "ename": "SyntaxError",
          "evalue": "ignored",
          "traceback": [
            "\u001b[0;36m  File \u001b[0;32m\"<ipython-input-4-e49672e2f0bc>\"\u001b[0;36m, line \u001b[0;32m2\u001b[0m\n\u001b[0;31m    if len(height) == 2:\u001b[0m\n\u001b[0m                        ^\u001b[0m\n\u001b[0;31mSyntaxError\u001b[0m\u001b[0;31m:\u001b[0m unexpected EOF while parsing\n"
          ]
        }
      ]
    },
    {
      "cell_type": "code",
      "source": [],
      "metadata": {
        "id": "onxwtFqKIVC2"
      },
      "execution_count": null,
      "outputs": []
    },
    {
      "cell_type": "code",
      "execution_count": null,
      "metadata": {
        "id": "raKMs-LGHuw6"
      },
      "outputs": [],
      "source": [
        " def water():\n",
        "  nonlocal Allwater\n",
        "  nonlocal pi\n",
        "  h = pi if pi<piv else piv"
      ]
    }
  ]
}