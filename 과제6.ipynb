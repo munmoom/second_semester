{
  "nbformat": 4,
  "nbformat_minor": 0,
  "metadata": {
    "colab": {
      "provenance": [],
      "authorship_tag": "ABX9TyNhIV/axw0pcJjegzmw0WST",
      "include_colab_link": true
    },
    "kernelspec": {
      "name": "python3",
      "display_name": "Python 3"
    },
    "language_info": {
      "name": "python"
    }
  },
  "cells": [
    {
      "cell_type": "markdown",
      "metadata": {
        "id": "view-in-github",
        "colab_type": "text"
      },
      "source": [
        "<a href=\"https://colab.research.google.com/github/munmoom/second_semester/blob/main/%EA%B3%BC%EC%A0%9C6.ipynb\" target=\"_parent\"><img src=\"https://colab.research.google.com/assets/colab-badge.svg\" alt=\"Open In Colab\"/></a>"
      ]
    },
    {
      "cell_type": "code",
      "source": [
        "def solution():\n",
        "  Allwater = 0\n",
        "  if len(height) == 2:\n",
        "    return Allwater\n",
        "  return largeback()"
      ],
      "metadata": {
        "id": "PgdHr3eYH_oy"
      },
      "execution_count": null,
      "outputs": []
    },
    {
      "cell_type": "code",
      "execution_count": null,
      "metadata": {
        "id": "raKMs-LGHuw6"
      },
      "outputs": [],
      "source": [
        " def water():\n",
        "  nonlocal Allwater\n",
        "  nonlocal pi\n",
        "  h = pi if pi<piv else piv\n",
        "  water = (ipiv-ipi-1)*h - sum(height[ipi+1:ipiv])\n",
        "  Allwater += water\n",
        "  height = height[ipiv:]\n",
        "  ipi = 0"
      ]
    },
    {
      "cell_type": "code",
      "source": [
        "def largefront():\n",
        "  nonlocal pi\n",
        "  nonlocal ipi\n",
        "  nonlocal height\n",
        "  nonlocal Allwater\n",
        "  hi2 = height[ipi+1:]\n",
        "  piv = max(hi2)\n",
        "  ipiv = height.index(piv)\n",
        "  if piv == 0:\n",
        "    return Allwater\n",
        "  water()\n",
        "  if len(height) <= 2:\n",
        "    return Allwater\n",
        "  largefront()"
      ],
      "metadata": {
        "id": "P7GTY1a1dyzW"
      },
      "execution_count": null,
      "outputs": []
    },
    {
      "cell_type": "code",
      "source": [
        "def largeback():\n",
        "  n = len(height)\n",
        "  t = 0\n",
        "  for i in range(n):\n",
        "    if n <= 2:\n",
        "      return Allwater\n",
        "    if t == 0:\n",
        "      pi = height[i]\n",
        "      ipi = i\n",
        "      t += 1\n",
        "    #\n",
        "    if max(height) == pi:\n",
        "      return largefront()\n",
        "    continue\n",
        "    if height >= pi:\n",
        "      ipiv = i\n",
        "      if ipiv == pi+1:\n",
        "        pi = height[i]\n",
        "        ipi = i"
      ],
      "metadata": {
        "id": "TOqVu8IIf3zu"
      },
      "execution_count": null,
      "outputs": []
    },
    {
      "cell_type": "code",
      "source": [
        "a = [1,2,3,4,5,6,7]\n",
        "k = a.index(3)\n",
        "print(a)\n",
        "print(k)\n"
      ],
      "metadata": {
        "id": "onxwtFqKIVC2",
        "colab": {
          "base_uri": "https://localhost:8080/"
        },
        "outputId": "f49606d0-10ba-412a-ed0d-138099d41545"
      },
      "execution_count": 3,
      "outputs": [
        {
          "output_type": "stream",
          "name": "stdout",
          "text": [
            "[1, 2, 3, 4, 5, 6, 7]\n",
            "2\n"
          ]
        }
      ]
    }
  ]
}